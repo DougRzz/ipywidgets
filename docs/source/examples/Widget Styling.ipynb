{
 "cells": [
  {
   "cell_type": "markdown",
   "metadata": {},
   "source": [
    "# Layout and Styling of Jupyter widgets\n",
    "\n",
    "This notebook presents how to layout and style Jupyter interactive widgets to build rich and *reactive* widget-based applications."
   ]
  },
  {
   "cell_type": "markdown",
   "metadata": {},
   "source": [
    "## The `layout` attribute.\n",
    "\n",
    "Jupyter interactive widgets have a `layout` attribute exposing a number of CSS properties that impact how widgets are laid out.\n",
    "\n",
    "### Exposed CSS properties\n",
    "\n",
    "<div class=\"alert alert-info\" style=\"margin: 20px\">\n",
    "The following properties map to the values of the CSS properties of the same name (underscores being replaced with dashes), applied to the top DOM elements of the corresponding widget.\n",
    "</div>\n",
    "\n",
    "\n",
    "#### Sizes\n",
    "\n",
    "- `height`\n",
    "- `width`\n",
    "- `max_height`\n",
    "- `max_width`\n",
    "- `min_height`\n",
    "- `min_width`\n",
    "\n",
    "#### Display\n",
    "\n",
    "- `visibility`\n",
    "- `display`\n",
    "- `overflow`\n",
    "- `overflow_x`\n",
    "- `overflow_y`\n",
    "\n",
    "#### Box model\n",
    "\n",
    "- `border` \n",
    "- `margin`\n",
    "- `padding`\n",
    "\n",
    "#### Positioning\n",
    "\n",
    "- `top`\n",
    "- `left`\n",
    "- `bottom`\n",
    "- `right`\n",
    "\n",
    "#### Flexbox\n",
    "\n",
    "- `order`\n",
    "- `flex_flow`\n",
    "- `align_items`\n",
    "- `flex`\n",
    "- `align_self`\n",
    "- `align_content`\n",
    "- `justify_content`\n",
    "\n",
    "\n",
    "### Shorthand CSS properties\n",
    "\n",
    "You may have noticed that certain CSS properties such as `margin-[top/right/bottom/left]` seem to be missing. The same holds for `padding-[top/right/bottom/left]` etc.\n",
    "\n",
    "In fact, you can atomically specify `[top/right/bottom/left]` margins via the `margin` attribute alone by passing the string `'100px 150px 100px 80px'` for a respectively `top`, `right`, `bottom` and `left` margins of  `100`, `150`, `100` and `80` pixels.\n",
    "\n",
    "Similarly, the `flex` attribute can hold values for `flex-grow`, `flex-shrink` and `flex-basis`. The `border` attribute is a shorthand property for `border-width`, `border-style (required)`, and `border-color`."
   ]
  },
  {
   "cell_type": "markdown",
   "metadata": {},
   "source": [
    "### Simple examples"
   ]
  },
  {
   "cell_type": "markdown",
   "metadata": {},
   "source": [
    "The following example shows how to resize a `Button` so that its views have a height of `80px` and a width of `50%` of the available space:"
   ]
  },
  {
   "cell_type": "code",
   "execution_count": 1,
   "metadata": {},
   "outputs": [
    {
     "data": {
      "application/vnd.jupyter.widget-view+json": {
       "model_id": "4aeee26c12824662a5c702a014962325",
       "version_major": 2,
       "version_minor": 0
      },
      "text/html": [
       "<p>Failed to display Jupyter Widget of type <code>Button</code>.</p>\n",
       "<p>\n",
       "  If you're reading this message in the Jupyter Notebook or JupyterLab Notebook, it may mean\n",
       "  that the widgets JavaScript is still loading. If this message persists, it\n",
       "  likely means that the widgets JavaScript library is either not installed or\n",
       "  not enabled. See the <a href=\"https://ipywidgets.readthedocs.io/en/stable/user_install.html\">Jupyter\n",
       "  Widgets Documentation</a> for setup instructions.\n",
       "</p>\n",
       "<p>\n",
       "  If you're reading this message in another frontend (for example, a static\n",
       "  rendering on GitHub or <a href=\"https://nbviewer.jupyter.org/\">NBViewer</a>),\n",
       "  it may mean that your frontend doesn't currently support widgets.\n",
       "</p>\n"
      ],
      "text/plain": [
       "Button(description='(50% width, 80px height) button', layout=Layout(height='80px', width='50%'), style=ButtonStyle())"
      ]
     },
     "metadata": {},
     "output_type": "display_data"
    }
   ],
   "source": [
    "from ipywidgets import Button, Layout\n",
    "\n",
    "b = Button(description='(50% width, 80px height) button',\n",
    "           layout=Layout(width='50%', height='80px'))\n",
    "b"
   ]
  },
  {
   "cell_type": "markdown",
   "metadata": {},
   "source": [
    "The `layout` property can be shared between multiple widgets and assigned directly."
   ]
  },
  {
   "cell_type": "code",
   "execution_count": 2,
   "metadata": {},
   "outputs": [
    {
     "data": {
      "application/vnd.jupyter.widget-view+json": {
       "model_id": "bbeac3e81110403e82a04aeebe679555",
       "version_major": 2,
       "version_minor": 0
      },
      "text/html": [
       "<p>Failed to display Jupyter Widget of type <code>Button</code>.</p>\n",
       "<p>\n",
       "  If you're reading this message in the Jupyter Notebook or JupyterLab Notebook, it may mean\n",
       "  that the widgets JavaScript is still loading. If this message persists, it\n",
       "  likely means that the widgets JavaScript library is either not installed or\n",
       "  not enabled. See the <a href=\"https://ipywidgets.readthedocs.io/en/stable/user_install.html\">Jupyter\n",
       "  Widgets Documentation</a> for setup instructions.\n",
       "</p>\n",
       "<p>\n",
       "  If you're reading this message in another frontend (for example, a static\n",
       "  rendering on GitHub or <a href=\"https://nbviewer.jupyter.org/\">NBViewer</a>),\n",
       "  it may mean that your frontend doesn't currently support widgets.\n",
       "</p>\n"
      ],
      "text/plain": [
       "Button(description='Another button with the same layout', layout=Layout(height='80px', width='50%'), style=ButtonStyle())"
      ]
     },
     "metadata": {},
     "output_type": "display_data"
    }
   ],
   "source": [
    "Button(description='Another button with the same layout', layout=b.layout)"
   ]
  },
  {
   "cell_type": "markdown",
   "metadata": {},
   "source": [
    "### Description"
   ]
  },
  {
   "cell_type": "markdown",
   "metadata": {},
   "source": [
    "You may have noticed that long descriptions are truncated. This is because the description length is, by default, fixed."
   ]
  },
  {
   "cell_type": "code",
   "execution_count": 3,
   "metadata": {},
   "outputs": [
    {
     "data": {
      "application/vnd.jupyter.widget-view+json": {
       "model_id": "80d74f398dd64ca687c9f7f3cc6cfc53",
       "version_major": 2,
       "version_minor": 0
      },
      "text/html": [
       "<p>Failed to display Jupyter Widget of type <code>IntSlider</code>.</p>\n",
       "<p>\n",
       "  If you're reading this message in the Jupyter Notebook or JupyterLab Notebook, it may mean\n",
       "  that the widgets JavaScript is still loading. If this message persists, it\n",
       "  likely means that the widgets JavaScript library is either not installed or\n",
       "  not enabled. See the <a href=\"https://ipywidgets.readthedocs.io/en/stable/user_install.html\">Jupyter\n",
       "  Widgets Documentation</a> for setup instructions.\n",
       "</p>\n",
       "<p>\n",
       "  If you're reading this message in another frontend (for example, a static\n",
       "  rendering on GitHub or <a href=\"https://nbviewer.jupyter.org/\">NBViewer</a>),\n",
       "  it may mean that your frontend doesn't currently support widgets.\n",
       "</p>\n"
      ],
      "text/plain": [
       "IntSlider(value=0, description='A too long description')"
      ]
     },
     "metadata": {},
     "output_type": "display_data"
    }
   ],
   "source": [
    "from ipywidgets import IntSlider\n",
    "\n",
    "IntSlider(description='A too long description')"
   ]
  },
  {
   "cell_type": "markdown",
   "metadata": {},
   "source": [
    "You can change the length of the description to fit the description text. However, this will make the widget itself shorter. You can change both by adjusting the description width and the widget width using the widget's style."
   ]
  },
  {
   "cell_type": "code",
   "execution_count": 4,
   "metadata": {},
   "outputs": [
    {
     "data": {
      "application/vnd.jupyter.widget-view+json": {
       "model_id": "597963f20f3f4639b73799e1b3412194",
       "version_major": 2,
       "version_minor": 0
      },
      "text/html": [
       "<p>Failed to display Jupyter Widget of type <code>IntSlider</code>.</p>\n",
       "<p>\n",
       "  If you're reading this message in the Jupyter Notebook or JupyterLab Notebook, it may mean\n",
       "  that the widgets JavaScript is still loading. If this message persists, it\n",
       "  likely means that the widgets JavaScript library is either not installed or\n",
       "  not enabled. See the <a href=\"https://ipywidgets.readthedocs.io/en/stable/user_install.html\">Jupyter\n",
       "  Widgets Documentation</a> for setup instructions.\n",
       "</p>\n",
       "<p>\n",
       "  If you're reading this message in another frontend (for example, a static\n",
       "  rendering on GitHub or <a href=\"https://nbviewer.jupyter.org/\">NBViewer</a>),\n",
       "  it may mean that your frontend doesn't currently support widgets.\n",
       "</p>\n"
      ],
      "text/plain": [
       "IntSlider(value=0, description='A too long description', style=SliderStyle(description_width='initial'))"
      ]
     },
     "metadata": {},
     "output_type": "display_data"
    }
   ],
   "source": [
    "style = {'description_width': 'initial'}\n",
    "IntSlider(description='A too long description', style=style)"
   ]
  },
  {
   "cell_type": "markdown",
   "metadata": {},
   "source": [
    "If you need more flexibility to lay out widgets and descriptions, you can use Label widgets directly."
   ]
  },
  {
   "cell_type": "code",
   "execution_count": 5,
   "metadata": {},
   "outputs": [
    {
     "data": {
      "application/vnd.jupyter.widget-view+json": {
       "model_id": "317600764dc04154bb1f334624b49294",
       "version_major": 2,
       "version_minor": 0
      },
      "text/html": [
       "<p>Failed to display Jupyter Widget of type <code>HBox</code>.</p>\n",
       "<p>\n",
       "  If you're reading this message in the Jupyter Notebook or JupyterLab Notebook, it may mean\n",
       "  that the widgets JavaScript is still loading. If this message persists, it\n",
       "  likely means that the widgets JavaScript library is either not installed or\n",
       "  not enabled. See the <a href=\"https://ipywidgets.readthedocs.io/en/stable/user_install.html\">Jupyter\n",
       "  Widgets Documentation</a> for setup instructions.\n",
       "</p>\n",
       "<p>\n",
       "  If you're reading this message in another frontend (for example, a static\n",
       "  rendering on GitHub or <a href=\"https://nbviewer.jupyter.org/\">NBViewer</a>),\n",
       "  it may mean that your frontend doesn't currently support widgets.\n",
       "</p>\n"
      ],
      "text/plain": [
       "HBox(children=(Label(value='A too long description'), IntSlider(value=0)))"
      ]
     },
     "metadata": {},
     "output_type": "display_data"
    }
   ],
   "source": [
    "from ipywidgets import HBox, Label\n",
    "\n",
    "HBox([Label('A too long description'), IntSlider()])"
   ]
  },
  {
   "cell_type": "markdown",
   "metadata": {},
   "source": [
    "### Natural sizes, and arrangements using HBox and VBox\n",
    "\n",
    "Most of the core-widgets have default heights and widths that tile well together. This allows simple layouts based on the `HBox` and `VBox` helper functions to align naturally:"
   ]
  },
  {
   "cell_type": "code",
   "execution_count": 6,
   "metadata": {},
   "outputs": [
    {
     "data": {
      "application/vnd.jupyter.widget-view+json": {
       "model_id": "b2f9973906224326b69fe0f4d7847b86",
       "version_major": 2,
       "version_minor": 0
      },
      "text/html": [
       "<p>Failed to display Jupyter Widget of type <code>HBox</code>.</p>\n",
       "<p>\n",
       "  If you're reading this message in the Jupyter Notebook or JupyterLab Notebook, it may mean\n",
       "  that the widgets JavaScript is still loading. If this message persists, it\n",
       "  likely means that the widgets JavaScript library is either not installed or\n",
       "  not enabled. See the <a href=\"https://ipywidgets.readthedocs.io/en/stable/user_install.html\">Jupyter\n",
       "  Widgets Documentation</a> for setup instructions.\n",
       "</p>\n",
       "<p>\n",
       "  If you're reading this message in another frontend (for example, a static\n",
       "  rendering on GitHub or <a href=\"https://nbviewer.jupyter.org/\">NBViewer</a>),\n",
       "  it may mean that your frontend doesn't currently support widgets.\n",
       "</p>\n"
      ],
      "text/plain": [
       "HBox(children=(VBox(children=(Button(description='correct', style=ButtonStyle()), Button(description='horse', style=ButtonStyle()))), VBox(children=(Button(description='battery', style=ButtonStyle()), Button(description='staple', style=ButtonStyle())))))"
      ]
     },
     "metadata": {},
     "output_type": "display_data"
    }
   ],
   "source": [
    "from ipywidgets import Button, HBox, VBox\n",
    "\n",
    "words = ['correct', 'horse', 'battery', 'staple']\n",
    "items = [Button(description=w) for w in words]\n",
    "left_box = VBox([items[0], items[1]])\n",
    "right_box = VBox([items[2], items[3]])\n",
    "HBox([left_box, right_box])"
   ]
  },
  {
   "cell_type": "markdown",
   "metadata": {},
   "source": [
    "### Latex"
   ]
  },
  {
   "cell_type": "markdown",
   "metadata": {},
   "source": [
    "Widgets such as sliders and text inputs have a description attribute that can render Latex Equations. The `Label` widget also renders Latex equations."
   ]
  },
  {
   "cell_type": "code",
   "execution_count": 7,
   "metadata": {},
   "outputs": [],
   "source": [
    "from ipywidgets import IntSlider, Label"
   ]
  },
  {
   "cell_type": "code",
   "execution_count": 8,
   "metadata": {},
   "outputs": [
    {
     "data": {
      "application/vnd.jupyter.widget-view+json": {
       "model_id": "0aef5d51893849d8b70c7da7e42b2804",
       "version_major": 2,
       "version_minor": 0
      },
      "text/html": [
       "<p>Failed to display Jupyter Widget of type <code>IntSlider</code>.</p>\n",
       "<p>\n",
       "  If you're reading this message in the Jupyter Notebook or JupyterLab Notebook, it may mean\n",
       "  that the widgets JavaScript is still loading. If this message persists, it\n",
       "  likely means that the widgets JavaScript library is either not installed or\n",
       "  not enabled. See the <a href=\"https://ipywidgets.readthedocs.io/en/stable/user_install.html\">Jupyter\n",
       "  Widgets Documentation</a> for setup instructions.\n",
       "</p>\n",
       "<p>\n",
       "  If you're reading this message in another frontend (for example, a static\n",
       "  rendering on GitHub or <a href=\"https://nbviewer.jupyter.org/\">NBViewer</a>),\n",
       "  it may mean that your frontend doesn't currently support widgets.\n",
       "</p>\n"
      ],
      "text/plain": [
       "IntSlider(value=0, description='\\\\(\\\\int_0^t f\\\\)')"
      ]
     },
     "metadata": {},
     "output_type": "display_data"
    }
   ],
   "source": [
    "IntSlider(description=r'\\(\\int_0^t f\\)')"
   ]
  },
  {
   "cell_type": "code",
   "execution_count": 9,
   "metadata": {},
   "outputs": [
    {
     "data": {
      "application/vnd.jupyter.widget-view+json": {
       "model_id": "2e6fef9afefd4790bf78349aefbfb5db",
       "version_major": 2,
       "version_minor": 0
      },
      "text/html": [
       "<p>Failed to display Jupyter Widget of type <code>Label</code>.</p>\n",
       "<p>\n",
       "  If you're reading this message in the Jupyter Notebook or JupyterLab Notebook, it may mean\n",
       "  that the widgets JavaScript is still loading. If this message persists, it\n",
       "  likely means that the widgets JavaScript library is either not installed or\n",
       "  not enabled. See the <a href=\"https://ipywidgets.readthedocs.io/en/stable/user_install.html\">Jupyter\n",
       "  Widgets Documentation</a> for setup instructions.\n",
       "</p>\n",
       "<p>\n",
       "  If you're reading this message in another frontend (for example, a static\n",
       "  rendering on GitHub or <a href=\"https://nbviewer.jupyter.org/\">NBViewer</a>),\n",
       "  it may mean that your frontend doesn't currently support widgets.\n",
       "</p>\n"
      ],
      "text/plain": [
       "Label(value='\\\\(e=mc^2\\\\)')"
      ]
     },
     "metadata": {},
     "output_type": "display_data"
    }
   ],
   "source": [
    "Label(value=r'\\(e=mc^2\\)')"
   ]
  },
  {
   "cell_type": "markdown",
   "metadata": {},
   "source": [
    "### Number formatting\n",
    "\n",
    "Sliders have a readout field which can be formatted using Python's [Format Specification Mini-Language](https://docs.python.org/3/library/string.html#format-specification-mini-language). If the space available for the readout is too narrow for the string representation of the slider value, a different styling is applied to show that not all digits are visible."
   ]
  },
  {
   "cell_type": "markdown",
   "metadata": {},
   "source": [
    "## The Flexbox layout\n",
    "\n",
    "The `HBox` and `VBox` classes above are special cases of the `Box` widget.\n",
    "\n",
    "The `Box` widget enables the entire CSS flexbox spec, enabling rich reactive layouts in the Jupyter notebook. It aims at providing an efficient way to lay out, align and distribute space among items in a container.\n",
    "\n",
    "Again, the whole flexbox spec is exposed via the `layout` attribute of the container widget (`Box`) and the contained items. One may share the same `layout` attribute among all the contained items.\n",
    "\n",
    "\n",
    "### Acknowledgement\n",
    "\n",
    "The following flexbox tutorial on the flexbox layout follows the lines of the article [A Complete Guide to Flexbox](https://css-tricks.com/snippets/css/a-guide-to-flexbox/) by Chris Coyier, and uses text and various images from the article [with permission](https://css-tricks.com/license/).\n",
    "\n",
    "### Basics and terminology\n",
    "\n",
    "Since flexbox is a whole module and not a single property, it involves a lot of things including its whole set of properties. Some of them are meant to be set on the container (parent element, known as \"flex container\") whereas the others are meant to be set on the children (known as \"flex items\").\n",
    "\n",
    "If regular layout is based on both block and inline flow directions, the flex layout is based on \"flex-flow directions\". Please have a look at this figure from the specification, explaining the main idea behind the flex layout.\n",
    "\n",
    "![Flexbox](./images/flexbox.png)\n",
    "\n",
    "Basically, items will be laid out following either the `main axis` (from `main-start` to `main-end`) or the `cross axis` (from `cross-start` to `cross-end`).\n",
    "\n",
    "- `main axis` - The main axis of a flex container is the primary axis along which flex items are laid out. Beware, it is not necessarily horizontal; it depends on the flex-direction property (see below).\n",
    "- `main-start | main-end` - The flex items are placed within the container starting from main-start and going to main-end.\n",
    "- `main size` - A flex item's width or height, whichever is in the main dimension, is the item's main size. The flex item's main size property is either the ‘width’ or ‘height’ property, whichever is in the main dimension.\n",
    "cross axis - The axis perpendicular to the main axis is called the cross axis. Its direction depends on the main axis direction.\n",
    "- `cross-start | cross-end` - Flex lines are filled with items and placed into the container starting on the cross-start side of the flex container and going toward the cross-end side.\n",
    "- `cross size` - The width or height of a flex item, whichever is in the cross dimension, is the item's cross size. The cross size property is whichever of ‘width’ or ‘height’ that is in the cross dimension.\n",
    "\n",
    "### Properties of the parent\n",
    "\n",
    "![Container](./images/flex-container.svg)\n",
    "\n",
    "#### display\n",
    "\n",
    "`display` can be `flex` or `inline-flex`. This defines a flex container (block or inline).\n",
    "\n",
    "#### flex-flow\n",
    "\n",
    "`flex-flow` is a shorthand for the `flex-direction` and `flex-wrap` properties, which together define the flex container's main and cross axes. Default is `row nowrap`.\n",
    "\n",
    "- `flex-direction` (column-reverse | column | row | row-reverse )\n",
    "\n",
    "  This establishes the main-axis, thus defining the direction flex items are placed in the flex container. Flexbox is (aside from optional wrapping) a single-direction layout concept. Think of flex items as primarily laying out either in horizontal rows or vertical columns.\n",
    "![Direction](./images/flex-direction1.svg)\n",
    "\n",
    "- `flex-wrap` (nowrap | wrap | wrap-reverse)\n",
    "\n",
    "  By default, flex items will all try to fit onto one line. You can change that and allow the items to wrap as needed with this property. Direction also plays a role here, determining the direction new lines are stacked in.\n",
    "![Wrap](./images/flex-wrap.svg)\n",
    "\n",
    "#### justify-content\n",
    "\n",
    "`justify-content` can be one of `flex-start`, `flex-end`, `center`, `space-between`, `space-around`. This defines the alignment along the main axis. It helps distribute extra free space left over when either all the flex items on a line are inflexible, or are flexible but have reached their maximum size. It also exerts some control over the alignment of items when they overflow the line.\n",
    "  ![Justify](./images/justify-content.svg)\n",
    "\n",
    "#### align-items\n",
    "\n",
    "`align-items` can be one of `flex-start`, `flex-end`, `center`, `baseline`, `stretch`. This defines the default behaviour for how flex items are laid out along the cross axis on the current line. Think of it as the justify-content version for the cross-axis (perpendicular to the main-axis).\n",
    "   ![Items](./images/align-items.svg)\n",
    "   \n",
    "#### align-content\n",
    "`align-content` can be one of `flex-start`, `flex-end`, `center`, `baseline`, `stretch`. This aligns a flex container's lines within when there is extra space in the cross-axis, similar to how justify-content aligns individual items within the main-axis.\n",
    "![Items](./images/align-content.svg)\n",
    "\n",
    "**Note**: this property has no effect when there is only one line of flex items.\n",
    "\n",
    "### Properties of the items\n",
    "\n",
    "![Item](./images/flex-items.svg)\n",
    "\n",
    "The flexbox-related CSS properties of the items have no impact if the parent element is not a flexbox container (i.e. has a `display` attribute equal to `flex` or `inline-flex`).\n",
    "\n",
    "#### order\n",
    "By default, flex items are laid out in the source order. However, the `order` property controls the order in which they appear in the flex container.\n",
    "<img src=\"./images/order-2.svg\" alt=\"Order\" style=\"width: 500px;\"/>\n",
    "   \n",
    "#### flex\n",
    "`flex` is shorthand for three properties, `flex-grow`, `flex-shrink` and `flex-basis` combined. The second and third parameters (`flex-shrink` and `flex-basis`) are optional. Default is `0 1 auto`.\n",
    "   \n",
    "  - `flex-grow`\n",
    "\n",
    "    This defines the ability for a flex item to grow if necessary. It accepts a unitless value that serves as a proportion. It dictates what amount of the available space inside the flex container the item should take up.\n",
    "\n",
    "    If all items have flex-grow set to 1, the remaining space in the container will be distributed equally to all children. If one of the children a value of 2, the remaining space would take up twice as much space as the others (or it will try to, at least).\n",
    "      ![Grow](./images/flex-grow.svg)\n",
    "\n",
    "  - `flex-shrink`\n",
    "\n",
    "    This defines the ability for a flex item to shrink if necessary.\n",
    "\n",
    "  - `flex-basis`\n",
    "\n",
    "    This defines the default size of an element before the remaining space is distributed. It can be a length (e.g. `20%`, `5rem`, etc.) or a keyword. The `auto` keyword means *\"look at my width or height property\"*.\n",
    " \n",
    "#### align-self\n",
    "\n",
    "`align-self` allows the default alignment (or the one specified by align-items) to be overridden for individual flex items.\n",
    "\n",
    "![Align](./images/align-self.svg)\n",
    "\n",
    "### The VBox and HBox helpers\n",
    "\n",
    "The `VBox` and `HBox` helper classes provide simple defaults to arrange child widgets in vertical and horizontal boxes. They are roughly equivalent to:\n",
    "\n",
    "```Python\n",
    "def VBox(*pargs, **kwargs):\n",
    "    \"\"\"Displays multiple widgets vertically using the flexible box model.\"\"\"\n",
    "    box = Box(*pargs, **kwargs)\n",
    "    box.layout.display = 'flex'\n",
    "    box.layout.flex_flow = 'column'\n",
    "    box.layout.align_items = 'stretch'\n",
    "    return box\n",
    "\n",
    "def HBox(*pargs, **kwargs):\n",
    "    \"\"\"Displays multiple widgets horizontally using the flexible box model.\"\"\"\n",
    "    box = Box(*pargs, **kwargs)\n",
    "    box.layout.display = 'flex'\n",
    "    box.layout.align_items = 'stretch'\n",
    "    return box\n",
    "```\n",
    "\n",
    "\n",
    "### Examples"
   ]
  },
  {
   "cell_type": "markdown",
   "metadata": {},
   "source": [
    "**Four buttons in a VBox. Items stretch to the maximum width, in a vertical box taking `50%` of the available space.**"
   ]
  },
  {
   "cell_type": "code",
   "execution_count": 10,
   "metadata": {},
   "outputs": [
    {
     "data": {
      "application/vnd.jupyter.widget-view+json": {
       "model_id": "e2e86cbf765748f2bf9e1d65ec72ecf1",
       "version_major": 2,
       "version_minor": 0
      },
      "text/html": [
       "<p>Failed to display Jupyter Widget of type <code>Box</code>.</p>\n",
       "<p>\n",
       "  If you're reading this message in the Jupyter Notebook or JupyterLab Notebook, it may mean\n",
       "  that the widgets JavaScript is still loading. If this message persists, it\n",
       "  likely means that the widgets JavaScript library is either not installed or\n",
       "  not enabled. See the <a href=\"https://ipywidgets.readthedocs.io/en/stable/user_install.html\">Jupyter\n",
       "  Widgets Documentation</a> for setup instructions.\n",
       "</p>\n",
       "<p>\n",
       "  If you're reading this message in another frontend (for example, a static\n",
       "  rendering on GitHub or <a href=\"https://nbviewer.jupyter.org/\">NBViewer</a>),\n",
       "  it may mean that your frontend doesn't currently support widgets.\n",
       "</p>\n"
      ],
      "text/plain": [
       "Box(children=(Button(button_style='danger', description='correct', layout=Layout(width='auto'), style=ButtonStyle()), Button(button_style='danger', description='horse', layout=Layout(width='auto'), style=ButtonStyle()), Button(button_style='danger', description='battery', layout=Layout(width='auto'), style=ButtonStyle()), Button(button_style='danger', description='staple', layout=Layout(width='auto'), style=ButtonStyle())), layout=Layout(align_items='stretch', border='solid', display='flex', flex_flow='column', width='50%'))"
      ]
     },
     "metadata": {},
     "output_type": "display_data"
    }
   ],
   "source": [
    "from ipywidgets import Layout, Button, Box\n",
    "\n",
    "items_layout = Layout( width='auto')     # override the default width of the button to 'auto' to let the button grow\n",
    "\n",
    "box_layout = Layout(display='flex',\n",
    "                    flex_flow='column', \n",
    "                    align_items='stretch', \n",
    "                    border='solid',\n",
    "                    width='50%')\n",
    "\n",
    "words = ['correct', 'horse', 'battery', 'staple']\n",
    "items = [Button(description=word, layout=items_layout, button_style='danger') for word in words]\n",
    "box = Box(children=items, layout=box_layout)\n",
    "box"
   ]
  },
  {
   "cell_type": "markdown",
   "metadata": {},
   "source": [
    "**Three buttons in an HBox. Items flex proportionaly to their weight.**"
   ]
  },
  {
   "cell_type": "code",
   "execution_count": 11,
   "metadata": {},
   "outputs": [
    {
     "data": {
      "application/vnd.jupyter.widget-view+json": {
       "model_id": "9af3640295de4ea6a88c8a4726d4148c",
       "version_major": 2,
       "version_minor": 0
      },
      "text/html": [
       "<p>Failed to display Jupyter Widget of type <code>Box</code>.</p>\n",
       "<p>\n",
       "  If you're reading this message in the Jupyter Notebook or JupyterLab Notebook, it may mean\n",
       "  that the widgets JavaScript is still loading. If this message persists, it\n",
       "  likely means that the widgets JavaScript library is either not installed or\n",
       "  not enabled. See the <a href=\"https://ipywidgets.readthedocs.io/en/stable/user_install.html\">Jupyter\n",
       "  Widgets Documentation</a> for setup instructions.\n",
       "</p>\n",
       "<p>\n",
       "  If you're reading this message in another frontend (for example, a static\n",
       "  rendering on GitHub or <a href=\"https://nbviewer.jupyter.org/\">NBViewer</a>),\n",
       "  it may mean that your frontend doesn't currently support widgets.\n",
       "</p>\n"
      ],
      "text/plain": [
       "Box(children=(Button(description='weight=1', layout=Layout(flex='1 1 0%', width='auto'), style=ButtonStyle()), Button(description='weight=2', layout=Layout(flex='2 1 0%', width='auto'), style=ButtonStyle()), Button(description='weight=1', layout=Layout(flex='1 1 0%', width='auto'), style=ButtonStyle())), layout=Layout(align_items='stretch', border='solid', display='flex', flex_flow='row', width='50%'))"
      ]
     },
     "metadata": {},
     "output_type": "display_data"
    }
   ],
   "source": [
    "from ipywidgets import Layout, Button, Box\n",
    "\n",
    "items = [\n",
    "    Button(description='weight=1', layout=Layout(flex='1 1 0%', width='auto')),\n",
    "    Button(description='weight=2', layout=Layout(flex='2 1 0%', width='auto')),\n",
    "    Button(description='weight=1', layout=Layout(flex='1 1 0%', width='auto')),\n",
    " ]\n",
    "\n",
    "box_layout = Layout(display='flex',\n",
    "                    flex_flow='row', \n",
    "                    align_items='stretch', \n",
    "                    border='solid',\n",
    "                    width='50%')\n",
    "box = Box(children=items, layout=box_layout)\n",
    "box"
   ]
  },
  {
   "cell_type": "markdown",
   "metadata": {},
   "source": [
    "**A more advanced example: a reactive form.**\n",
    "\n",
    "The form is a `VBox` of width '50%'. Each row in the VBox is an HBox, that justifies the content with space between.."
   ]
  },
  {
   "cell_type": "code",
   "execution_count": 12,
   "metadata": {},
   "outputs": [
    {
     "data": {
      "application/vnd.jupyter.widget-view+json": {
       "model_id": "b35e611bf7b54a2b8ac020a26da57f63",
       "version_major": 2,
       "version_minor": 0
      },
      "text/html": [
       "<p>Failed to display Jupyter Widget of type <code>Box</code>.</p>\n",
       "<p>\n",
       "  If you're reading this message in the Jupyter Notebook or JupyterLab Notebook, it may mean\n",
       "  that the widgets JavaScript is still loading. If this message persists, it\n",
       "  likely means that the widgets JavaScript library is either not installed or\n",
       "  not enabled. See the <a href=\"https://ipywidgets.readthedocs.io/en/stable/user_install.html\">Jupyter\n",
       "  Widgets Documentation</a> for setup instructions.\n",
       "</p>\n",
       "<p>\n",
       "  If you're reading this message in another frontend (for example, a static\n",
       "  rendering on GitHub or <a href=\"https://nbviewer.jupyter.org/\">NBViewer</a>),\n",
       "  it may mean that your frontend doesn't currently support widgets.\n",
       "</p>\n"
      ],
      "text/plain": [
       "Box(children=(Box(children=(Label(value='Age of the captain'), IntSlider(value=40, max=60, min=40)), layout=Layout(display='flex', flex_flow='row', justify_content='space-between')), Box(children=(Label(value='Egg style'), Dropdown(options=('Scrambled', 'Sunny side up', 'Over easy'), value='Scrambled')), layout=Layout(display='flex', flex_flow='row', justify_content='space-between')), Box(children=(Label(value='Ship size'), FloatText(value=0.0)), layout=Layout(display='flex', flex_flow='row', justify_content='space-between')), Box(children=(Label(value='Information'), Textarea(value='')), layout=Layout(display='flex', flex_flow='row', justify_content='space-between'))), layout=Layout(align_items='stretch', border='solid 2px', display='flex', flex_flow='column', width='50%'))"
      ]
     },
     "metadata": {},
     "output_type": "display_data"
    }
   ],
   "source": [
    "from ipywidgets import Layout, Button, Box, FloatText, Textarea, Dropdown, Label, IntSlider\n",
    "\n",
    "form_item_layout = Layout(\n",
    "    display='flex',\n",
    "    flex_flow='row',\n",
    "    justify_content='space-between'\n",
    ")\n",
    "\n",
    "form_items = [\n",
    "    Box([Label(value='Age of the captain'), IntSlider(min=40, max=60)], layout=form_item_layout),\n",
    "    Box([Label(value='Egg style'), \n",
    "         Dropdown(options=['Scrambled', 'Sunny side up', 'Over easy'])], layout=form_item_layout),\n",
    "    Box([Label(value='Ship size'), \n",
    "         FloatText()], layout=form_item_layout),\n",
    "    Box([Label(value='Information'), \n",
    "         Textarea()], layout=form_item_layout)\n",
    "]\n",
    "\n",
    "form = Box(form_items, layout=Layout(\n",
    "    display='flex',\n",
    "    flex_flow='column',\n",
    "    border='solid 2px',\n",
    "    align_items='stretch',\n",
    "    width='50%'\n",
    "))\n",
    "form"
   ]
  },
  {
   "cell_type": "markdown",
   "metadata": {},
   "source": [
    "**A more advanced example: a carousel.**"
   ]
  },
  {
   "cell_type": "code",
   "execution_count": 13,
   "metadata": {},
   "outputs": [
    {
     "data": {
      "application/vnd.jupyter.widget-view+json": {
       "model_id": "ec2fc48f4c1b4f47adcc5f3b0e1efc29",
       "version_major": 2,
       "version_minor": 0
      },
      "text/html": [
       "<p>Failed to display Jupyter Widget of type <code>VBox</code>.</p>\n",
       "<p>\n",
       "  If you're reading this message in the Jupyter Notebook or JupyterLab Notebook, it may mean\n",
       "  that the widgets JavaScript is still loading. If this message persists, it\n",
       "  likely means that the widgets JavaScript library is either not installed or\n",
       "  not enabled. See the <a href=\"https://ipywidgets.readthedocs.io/en/stable/user_install.html\">Jupyter\n",
       "  Widgets Documentation</a> for setup instructions.\n",
       "</p>\n",
       "<p>\n",
       "  If you're reading this message in another frontend (for example, a static\n",
       "  rendering on GitHub or <a href=\"https://nbviewer.jupyter.org/\">NBViewer</a>),\n",
       "  it may mean that your frontend doesn't currently support widgets.\n",
       "</p>\n"
      ],
      "text/plain": [
       "VBox(children=(Label(value='Scroll horizontally:'), Box(children=(Button(button_style='warning', description='0', layout=Layout(height='100px', min_width='40px'), style=ButtonStyle()), Button(button_style='warning', description='1', layout=Layout(height='100px', min_width='40px'), style=ButtonStyle()), Button(button_style='warning', description='2', layout=Layout(height='100px', min_width='40px'), style=ButtonStyle()), Button(button_style='warning', description='3', layout=Layout(height='100px', min_width='40px'), style=ButtonStyle()), Button(button_style='warning', description='4', layout=Layout(height='100px', min_width='40px'), style=ButtonStyle()), Button(button_style='warning', description='5', layout=Layout(height='100px', min_width='40px'), style=ButtonStyle()), Button(button_style='warning', description='6', layout=Layout(height='100px', min_width='40px'), style=ButtonStyle()), Button(button_style='warning', description='7', layout=Layout(height='100px', min_width='40px'), style=ButtonStyle()), Button(button_style='warning', description='8', layout=Layout(height='100px', min_width='40px'), style=ButtonStyle()), Button(button_style='warning', description='9', layout=Layout(height='100px', min_width='40px'), style=ButtonStyle()), Button(button_style='warning', description='10', layout=Layout(height='100px', min_width='40px'), style=ButtonStyle()), Button(button_style='warning', description='11', layout=Layout(height='100px', min_width='40px'), style=ButtonStyle()), Button(button_style='warning', description='12', layout=Layout(height='100px', min_width='40px'), style=ButtonStyle()), Button(button_style='warning', description='13', layout=Layout(height='100px', min_width='40px'), style=ButtonStyle()), Button(button_style='warning', description='14', layout=Layout(height='100px', min_width='40px'), style=ButtonStyle()), Button(button_style='warning', description='15', layout=Layout(height='100px', min_width='40px'), style=ButtonStyle()), Button(button_style='warning', description='16', layout=Layout(height='100px', min_width='40px'), style=ButtonStyle()), Button(button_style='warning', description='17', layout=Layout(height='100px', min_width='40px'), style=ButtonStyle()), Button(button_style='warning', description='18', layout=Layout(height='100px', min_width='40px'), style=ButtonStyle()), Button(button_style='warning', description='19', layout=Layout(height='100px', min_width='40px'), style=ButtonStyle()), Button(button_style='warning', description='20', layout=Layout(height='100px', min_width='40px'), style=ButtonStyle()), Button(button_style='warning', description='21', layout=Layout(height='100px', min_width='40px'), style=ButtonStyle()), Button(button_style='warning', description='22', layout=Layout(height='100px', min_width='40px'), style=ButtonStyle()), Button(button_style='warning', description='23', layout=Layout(height='100px', min_width='40px'), style=ButtonStyle()), Button(button_style='warning', description='24', layout=Layout(height='100px', min_width='40px'), style=ButtonStyle()), Button(button_style='warning', description='25', layout=Layout(height='100px', min_width='40px'), style=ButtonStyle()), Button(button_style='warning', description='26', layout=Layout(height='100px', min_width='40px'), style=ButtonStyle()), Button(button_style='warning', description='27', layout=Layout(height='100px', min_width='40px'), style=ButtonStyle()), Button(button_style='warning', description='28', layout=Layout(height='100px', min_width='40px'), style=ButtonStyle()), Button(button_style='warning', description='29', layout=Layout(height='100px', min_width='40px'), style=ButtonStyle()), Button(button_style='warning', description='30', layout=Layout(height='100px', min_width='40px'), style=ButtonStyle()), Button(button_style='warning', description='31', layout=Layout(height='100px', min_width='40px'), style=ButtonStyle()), Button(button_style='warning', description='32', layout=Layout(height='100px', min_width='40px'), style=ButtonStyle()), Button(button_style='warning', description='33', layout=Layout(height='100px', min_width='40px'), style=ButtonStyle()), Button(button_style='warning', description='34', layout=Layout(height='100px', min_width='40px'), style=ButtonStyle()), Button(button_style='warning', description='35', layout=Layout(height='100px', min_width='40px'), style=ButtonStyle()), Button(button_style='warning', description='36', layout=Layout(height='100px', min_width='40px'), style=ButtonStyle()), Button(button_style='warning', description='37', layout=Layout(height='100px', min_width='40px'), style=ButtonStyle()), Button(button_style='warning', description='38', layout=Layout(height='100px', min_width='40px'), style=ButtonStyle()), Button(button_style='warning', description='39', layout=Layout(height='100px', min_width='40px'), style=ButtonStyle())), layout=Layout(border='3px solid black', display='flex', height='', overflow_x='scroll', width='500px'))))"
      ]
     },
     "metadata": {},
     "output_type": "display_data"
    }
   ],
   "source": [
    "from ipywidgets import Layout, Button, Box\n",
    "\n",
    "item_layout = Layout(height='100px', min_width='40px')\n",
    "items = [Button(layout=item_layout, description=str(i), button_style='warning') for i in range(40)]\n",
    "box_layout = Layout(overflow_x='scroll',\n",
    "                    border='3px solid black',\n",
    "                    width='500px',\n",
    "                    height='',\n",
    "                    flex_direction='row',\n",
    "                    display='flex')\n",
    "carousel = Box(children=items, layout=box_layout)\n",
    "VBox([Label('Scroll horizontally:'), carousel])"
   ]
  },
  {
   "cell_type": "markdown",
   "metadata": {},
   "source": [
    "## Predefined styles\n",
    "\n",
    "If you wish the styling of widgets to make use of colors and styles defined by the environment (to be consistent with e.g. a notebook theme), many widgets enable choosing in a list of pre-defined styles.\n",
    "\n",
    "For example, the `Button` widget has a `button_style` attribute that may take 5 different values:\n",
    "\n",
    " - `'primary'`\n",
    " - `'success'`\n",
    " - `'info'`\n",
    " - `'warning'`\n",
    " - `'danger'`\n",
    "\n",
    "besides the default empty string ''."
   ]
  },
  {
   "cell_type": "code",
   "execution_count": 14,
   "metadata": {},
   "outputs": [
    {
     "data": {
      "application/vnd.jupyter.widget-view+json": {
       "model_id": "6faee9851ba3483fb44e5fdb6b76664a",
       "version_major": 2,
       "version_minor": 0
      },
      "text/html": [
       "<p>Failed to display Jupyter Widget of type <code>Button</code>.</p>\n",
       "<p>\n",
       "  If you're reading this message in the Jupyter Notebook or JupyterLab Notebook, it may mean\n",
       "  that the widgets JavaScript is still loading. If this message persists, it\n",
       "  likely means that the widgets JavaScript library is either not installed or\n",
       "  not enabled. See the <a href=\"https://ipywidgets.readthedocs.io/en/stable/user_install.html\">Jupyter\n",
       "  Widgets Documentation</a> for setup instructions.\n",
       "</p>\n",
       "<p>\n",
       "  If you're reading this message in another frontend (for example, a static\n",
       "  rendering on GitHub or <a href=\"https://nbviewer.jupyter.org/\">NBViewer</a>),\n",
       "  it may mean that your frontend doesn't currently support widgets.\n",
       "</p>\n"
      ],
      "text/plain": [
       "Button(button_style='danger', description='Danger Button', style=ButtonStyle())"
      ]
     },
     "metadata": {},
     "output_type": "display_data"
    }
   ],
   "source": [
    "from ipywidgets import Button\n",
    "\n",
    "Button(description='Danger Button', button_style='danger')"
   ]
  },
  {
   "cell_type": "markdown",
   "metadata": {},
   "source": [
    "## The `style` attribute\n",
    "\n",
    "While the `layout` attribute only exposes layout-related CSS properties for the top-level DOM element of widgets, the  \n",
    "`style` attribute is used to expose non-layout related styling attributes of widgets.\n",
    "\n",
    "However, the properties of the `style` atribute are specific to each widget type."
   ]
  },
  {
   "cell_type": "code",
   "execution_count": 15,
   "metadata": {},
   "outputs": [
    {
     "data": {
      "application/vnd.jupyter.widget-view+json": {
       "model_id": "74a193d67e414d78b4effd63aa2c13bc",
       "version_major": 2,
       "version_minor": 0
      },
      "text/html": [
       "<p>Failed to display Jupyter Widget of type <code>Button</code>.</p>\n",
       "<p>\n",
       "  If you're reading this message in the Jupyter Notebook or JupyterLab Notebook, it may mean\n",
       "  that the widgets JavaScript is still loading. If this message persists, it\n",
       "  likely means that the widgets JavaScript library is either not installed or\n",
       "  not enabled. See the <a href=\"https://ipywidgets.readthedocs.io/en/stable/user_install.html\">Jupyter\n",
       "  Widgets Documentation</a> for setup instructions.\n",
       "</p>\n",
       "<p>\n",
       "  If you're reading this message in another frontend (for example, a static\n",
       "  rendering on GitHub or <a href=\"https://nbviewer.jupyter.org/\">NBViewer</a>),\n",
       "  it may mean that your frontend doesn't currently support widgets.\n",
       "</p>\n"
      ],
      "text/plain": [
       "Button(description='Custom color', style=ButtonStyle(button_color='lightgreen'))"
      ]
     },
     "metadata": {},
     "output_type": "display_data"
    }
   ],
   "source": [
    "b1 = Button(description='Custom color')\n",
    "b1.style.button_color = 'lightgreen'\n",
    "b1"
   ]
  },
  {
   "cell_type": "markdown",
   "metadata": {},
   "source": [
    "You can get a list of the style attributes for a widget with the `keys` property."
   ]
  },
  {
   "cell_type": "code",
   "execution_count": 16,
   "metadata": {},
   "outputs": [
    {
     "data": {
      "text/plain": [
       "['_model_module',\n",
       " '_model_module_version',\n",
       " '_model_name',\n",
       " '_view_count',\n",
       " '_view_module',\n",
       " '_view_module_version',\n",
       " '_view_name',\n",
       " 'button_color',\n",
       " 'font_weight']"
      ]
     },
     "execution_count": 16,
     "metadata": {},
     "output_type": "execute_result"
    }
   ],
   "source": [
    "b1.style.keys"
   ]
  },
  {
   "cell_type": "markdown",
   "metadata": {},
   "source": [
    "Just like the `layout` attribute, widget styles can be assigned to other widgets."
   ]
  },
  {
   "cell_type": "code",
   "execution_count": 17,
   "metadata": {},
   "outputs": [
    {
     "data": {
      "application/vnd.jupyter.widget-view+json": {
       "model_id": "f0851fa043b5460ba4418acfebafab79",
       "version_major": 2,
       "version_minor": 0
      },
      "text/html": [
       "<p>Failed to display Jupyter Widget of type <code>Button</code>.</p>\n",
       "<p>\n",
       "  If you're reading this message in the Jupyter Notebook or JupyterLab Notebook, it may mean\n",
       "  that the widgets JavaScript is still loading. If this message persists, it\n",
       "  likely means that the widgets JavaScript library is either not installed or\n",
       "  not enabled. See the <a href=\"https://ipywidgets.readthedocs.io/en/stable/user_install.html\">Jupyter\n",
       "  Widgets Documentation</a> for setup instructions.\n",
       "</p>\n",
       "<p>\n",
       "  If you're reading this message in another frontend (for example, a static\n",
       "  rendering on GitHub or <a href=\"https://nbviewer.jupyter.org/\">NBViewer</a>),\n",
       "  it may mean that your frontend doesn't currently support widgets.\n",
       "</p>\n"
      ],
      "text/plain": [
       "Button(style=ButtonStyle(button_color='lightgreen'))"
      ]
     },
     "metadata": {},
     "output_type": "display_data"
    }
   ],
   "source": [
    "b2 = Button()\n",
    "b2.style = b1.style\n",
    "b2"
   ]
  },
  {
   "cell_type": "markdown",
   "metadata": {},
   "source": [
    "Widget styling attributes are specific to each widget type."
   ]
  },
  {
   "cell_type": "code",
   "execution_count": 18,
   "metadata": {},
   "outputs": [
    {
     "data": {
      "application/vnd.jupyter.widget-view+json": {
       "model_id": "7d936b3a9b0d481593392059acda8b2b",
       "version_major": 2,
       "version_minor": 0
      },
      "text/html": [
       "<p>Failed to display Jupyter Widget of type <code>IntSlider</code>.</p>\n",
       "<p>\n",
       "  If you're reading this message in the Jupyter Notebook or JupyterLab Notebook, it may mean\n",
       "  that the widgets JavaScript is still loading. If this message persists, it\n",
       "  likely means that the widgets JavaScript library is either not installed or\n",
       "  not enabled. See the <a href=\"https://ipywidgets.readthedocs.io/en/stable/user_install.html\">Jupyter\n",
       "  Widgets Documentation</a> for setup instructions.\n",
       "</p>\n",
       "<p>\n",
       "  If you're reading this message in another frontend (for example, a static\n",
       "  rendering on GitHub or <a href=\"https://nbviewer.jupyter.org/\">NBViewer</a>),\n",
       "  it may mean that your frontend doesn't currently support widgets.\n",
       "</p>\n"
      ],
      "text/plain": [
       "IntSlider(value=0, description='Blue handle', style=SliderStyle(handle_color='lightblue'))"
      ]
     },
     "metadata": {},
     "output_type": "display_data"
    }
   ],
   "source": [
    "s1 = IntSlider(description='Blue handle')\n",
    "s1.style.handle_color = 'lightblue'\n",
    "s1"
   ]
  }
 ],
 "metadata": {
  "hide_input": false,
  "kernelspec": {
   "display_name": "Python 3",
   "language": "python",
   "name": "python3"
  },
  "language_info": {
   "codemirror_mode": {
    "name": "ipython",
    "version": 3
   },
   "file_extension": ".py",
   "mimetype": "text/x-python",
   "name": "python",
   "nbconvert_exporter": "python",
   "pygments_lexer": "ipython3",
   "version": "3.6.2"
  },
  "varInspector": {
   "cols": {
    "lenName": 16,
    "lenType": 16,
    "lenVar": 40
   },
   "kernels_config": {
    "python": {
     "delete_cmd_postfix": "",
     "delete_cmd_prefix": "del ",
     "library": "var_list.py",
     "varRefreshCmd": "print(var_dic_list())"
    },
    "r": {
     "delete_cmd_postfix": ") ",
     "delete_cmd_prefix": "rm(",
     "library": "var_list.r",
     "varRefreshCmd": "cat(var_dic_list()) "
    }
   },
   "types_to_exclude": [
    "module",
    "function",
    "builtin_function_or_method",
    "instance",
    "_Feature"
   ],
   "window_display": false
  },
  "widgets": {
   "application/vnd.jupyter.widget-state+json": {
    "state": {
     "0058c8267ecf4a89a325682383ebef28": {
      "model_module": "@jupyter-widgets/controls",
      "model_module_version": "1.1.0",
      "model_name": "ButtonStyleModel",
      "state": {}
     },
     "00fbcfd6b3794e20adef785a7ba0d18f": {
      "model_module": "@jupyter-widgets/controls",
      "model_module_version": "1.1.0",
      "model_name": "VBoxModel",
      "state": {
       "children": [
        "IPY_MODEL_3542efa639e941ce88d325efd96ed61a",
        "IPY_MODEL_6feb26eafe7944e7940b9c5b23150ebe"
       ],
       "layout": "IPY_MODEL_1cd5e15c30d147c8a6c0f2fc22c51a67"
      }
     },
     "014f723810b5437183be04792681830f": {
      "model_module": "@jupyter-widgets/controls",
      "model_module_version": "1.1.0",
      "model_name": "ButtonStyleModel",
      "state": {
       "button_color": "lightgreen"
      }
     },
     "019e2aed4cd148fd84b1596c9ccba819": {
      "model_module": "@jupyter-widgets/controls",
      "model_module_version": "1.1.0",
      "model_name": "DropdownModel",
      "state": {
       "_options_labels": [
        "Scrambled",
        "Sunny side up",
        "Over easy"
       ],
       "index": 0,
       "layout": "IPY_MODEL_7101c650eb7b4ad2810fa868f2a347cd",
       "style": "IPY_MODEL_6c1ccff8ac5d4bc5a312dd11ae9546da"
      }
     },
     "01a3993388c64649b8728fe3da21a6fb": {
      "model_module": "@jupyter-widgets/base",
      "model_module_version": "1.0.0",
      "model_name": "LayoutModel",
      "state": {}
     },
     "020333eedd3c417fab82047df8de78e1": {
      "model_module": "@jupyter-widgets/controls",
      "model_module_version": "1.1.0",
      "model_name": "IntSliderModel",
      "state": {
       "layout": "IPY_MODEL_b2e32406fc2e46f5a0ff205f2220e01b",
       "style": "IPY_MODEL_1a050df662ab46dcb80ee4bce45c60e4"
      }
     },
     "0210bbf9bc3744b6b8a03e4aa2f5b9dc": {
      "model_module": "@jupyter-widgets/base",
      "model_module_version": "1.0.0",
      "model_name": "LayoutModel",
      "state": {}
     },
     "02205590ca884577a4fb9d9cdda1a114": {
      "model_module": "@jupyter-widgets/controls",
      "model_module_version": "1.1.0",
      "model_name": "LabelModel",
      "state": {
       "layout": "IPY_MODEL_70f281964e3649158a54d87125f9791a",
       "style": "IPY_MODEL_f6b30d21547d4fbf8e629b4f39976242",
       "value": "A too long description"
      }
     },
     "02930fe9e04547928e81c052bb2d3b90": {
      "model_module": "@jupyter-widgets/base",
      "model_module_version": "1.0.0",
      "model_name": "LayoutModel",
      "state": {}
     },
     "02f4c79d84054cfdba76827cd4971926": {
      "model_module": "@jupyter-widgets/controls",
      "model_module_version": "1.1.0",
      "model_name": "ButtonStyleModel",
      "state": {}
     },
     "02ff6e2ffeee41a0a75e4b0c8230066c": {
      "model_module": "@jupyter-widgets/controls",
      "model_module_version": "1.1.0",
      "model_name": "ButtonModel",
      "state": {
       "description": "(50% width, 80px height) button",
       "layout": "IPY_MODEL_78f597e050054a95b6c204a4d5c5ba12",
       "style": "IPY_MODEL_c9b52da5c53a4b69ba7d1f2804145b2e"
      }
     },
     "03d2f10cca034a13962696fbf2ce6d4d": {
      "model_module": "@jupyter-widgets/controls",
      "model_module_version": "1.1.0",
      "model_name": "ButtonModel",
      "state": {
       "button_style": "warning",
       "description": "11",
       "layout": "IPY_MODEL_86c93170059349499a5f76156cbd8cdf",
       "style": "IPY_MODEL_26809c04c3aa4cd3954680cef6271da3"
      }
     },
     "0474bebc718a4d479893258403ee6d98": {
      "model_module": "@jupyter-widgets/controls",
      "model_module_version": "1.1.0",
      "model_name": "BoxModel",
      "state": {
       "children": [
        "IPY_MODEL_ff83abaf008e428cb7ea0ebc26e3b22a",
        "IPY_MODEL_3f7bc0f4ffbb4072b8c559319289a99c"
       ],
       "layout": "IPY_MODEL_9cec86147f73446a81e86fe6e7ee1f15"
      }
     },
     "0495d268740a478fb417a9353429380e": {
      "model_module": "@jupyter-widgets/controls",
      "model_module_version": "1.1.0",
      "model_name": "ButtonStyleModel",
      "state": {}
     },
     "04e471f5df84465ea59b9a5b11f4bf23": {
      "model_module": "@jupyter-widgets/base",
      "model_module_version": "1.0.0",
      "model_name": "LayoutModel",
      "state": {}
     },
     "05e6adee92e24fc2ad2f544c26e97399": {
      "model_module": "@jupyter-widgets/base",
      "model_module_version": "1.0.0",
      "model_name": "LayoutModel",
      "state": {
       "flex": "1 1 auto",
       "width": "auto"
      }
     },
     "06181f317c114c798f759ee857d3f190": {
      "model_module": "@jupyter-widgets/controls",
      "model_module_version": "1.1.0",
      "model_name": "ButtonStyleModel",
      "state": {}
     },
     "0623f28438cf413d9a74c890263929ea": {
      "model_module": "@jupyter-widgets/base",
      "model_module_version": "1.0.0",
      "model_name": "LayoutModel",
      "state": {}
     },
     "062eb28159484753a4f7585a29946f59": {
      "model_module": "@jupyter-widgets/controls",
      "model_module_version": "1.1.0",
      "model_name": "ButtonStyleModel",
      "state": {}
     },
     "064bcdedc66840d69c61ad3a0d23e585": {
      "model_module": "@jupyter-widgets/controls",
      "model_module_version": "1.1.0",
      "model_name": "ButtonStyleModel",
      "state": {}
     },
     "068098de804041e281ea697d7ec634bd": {
      "model_module": "@jupyter-widgets/base",
      "model_module_version": "1.0.0",
      "model_name": "LayoutModel",
      "state": {}
     },
     "06c632abac854a628fcae81139d2591d": {
      "model_module": "@jupyter-widgets/controls",
      "model_module_version": "1.1.0",
      "model_name": "ButtonModel",
      "state": {
       "button_style": "danger",
       "description": "staple",
       "layout": "IPY_MODEL_3f49a64624264d8abe1a00f80a342c21",
       "style": "IPY_MODEL_711a7ddbb88347ad86455d95db51706e"
      }
     },
     "06f717ca1b83418db33ff346166a303d": {
      "model_module": "@jupyter-widgets/controls",
      "model_module_version": "1.1.0",
      "model_name": "ButtonModel",
      "state": {
       "layout": "IPY_MODEL_31d6a83087ed4776a42caa5e3aa39826",
       "style": "IPY_MODEL_014f723810b5437183be04792681830f"
      }
     },
     "07160c290135428dbe8e272d937f7550": {
      "model_module": "@jupyter-widgets/controls",
      "model_module_version": "1.1.0",
      "model_name": "BoxModel",
      "state": {
       "children": [
        "IPY_MODEL_5d1fd9b08747429f868954b7d1c79f91",
        "IPY_MODEL_bd72d3a1d7bc4097b11afceb0c4f40e7"
       ],
       "layout": "IPY_MODEL_e32e1ba49d54431a8b33e2de4ff14642"
      }
     },
     "0717f8881f7e41f9abea11cedf88b30c": {
      "model_module": "@jupyter-widgets/controls",
      "model_module_version": "1.1.0",
      "model_name": "ButtonModel",
      "state": {
       "button_style": "warning",
       "description": "29",
       "layout": "IPY_MODEL_2609a17cced145ad91b86d4ddfbd3bfd",
       "style": "IPY_MODEL_9e36984680bc4888abb1ff6137740674"
      }
     },
     "084767ec12244bb382ac5c5d82498d2e": {
      "model_module": "@jupyter-widgets/controls",
      "model_module_version": "1.1.0",
      "model_name": "ButtonStyleModel",
      "state": {}
     },
     "086df51273d24e04937f8e8345b3e6cf": {
      "model_module": "@jupyter-widgets/controls",
      "model_module_version": "1.1.0",
      "model_name": "BoxModel",
      "state": {
       "children": [
        "IPY_MODEL_a1361958633f479ba465f671b5667177",
        "IPY_MODEL_d143308f1a254236860ec0aa692d37e6",
        "IPY_MODEL_cf2586039aff40ae992e1c2b5415bba3"
       ],
       "layout": "IPY_MODEL_8058e47a870d43b0af78d79a488e3ca4"
      }
     },
     "08be938e8c844acaaf4af0c0c20aedba": {
      "model_module": "@jupyter-widgets/controls",
      "model_module_version": "1.1.0",
      "model_name": "ButtonStyleModel",
      "state": {}
     },
     "0900239eed7c40fd8d2fbf0fea297846": {
      "model_module": "@jupyter-widgets/controls",
      "model_module_version": "1.1.0",
      "model_name": "ButtonModel",
      "state": {
       "button_style": "warning",
       "description": "36",
       "layout": "IPY_MODEL_616560d2e26b4bee8b7c903f483241f8",
       "style": "IPY_MODEL_7a738dc1cc08435d9e58d0a5865f16c4"
      }
     },
     "0909dd3c366f464d8d087092ae83fb00": {
      "model_module": "@jupyter-widgets/controls",
      "model_module_version": "1.1.0",
      "model_name": "ButtonModel",
      "state": {
       "button_style": "warning",
       "description": "1",
       "layout": "IPY_MODEL_86c93170059349499a5f76156cbd8cdf",
       "style": "IPY_MODEL_f17377771f7049e190a14b5c5eceb10d"
      }
     },
     "0951adc347ce4785b1ca5044c793a8dc": {
      "model_module": "@jupyter-widgets/controls",
      "model_module_version": "1.1.0",
      "model_name": "ButtonStyleModel",
      "state": {}
     },
     "095c69b1538e48fe974175b9087c0fcd": {
      "model_module": "@jupyter-widgets/controls",
      "model_module_version": "1.1.0",
      "model_name": "ButtonModel",
      "state": {
       "description": "weight=1",
       "layout": "IPY_MODEL_a7261ca6a21a47f28db09cf820d7c77d",
       "style": "IPY_MODEL_2239ad9aba3b48a293cdecc022943219"
      }
     },
     "09c47efc533d42ce8554f376118c829f": {
      "model_module": "@jupyter-widgets/controls",
      "model_module_version": "1.1.0",
      "model_name": "ButtonModel",
      "state": {
       "button_style": "danger",
       "description": "horse",
       "layout": "IPY_MODEL_1e1fd102735342b8b1b0c3ce484e3628",
       "style": "IPY_MODEL_8aa642a5ec7347ac8ae106a6a8d300c2"
      }
     },
     "0a1da9ea2afe4899b5eb430929488573": {
      "model_module": "@jupyter-widgets/controls",
      "model_module_version": "1.1.0",
      "model_name": "SliderStyleModel",
      "state": {
       "description_width": "",
       "handle_color": "lightblue"
      }
     },
     "0a2f07fe226142b9b850dfd99dc6042a": {
      "model_module": "@jupyter-widgets/controls",
      "model_module_version": "1.1.0",
      "model_name": "ButtonStyleModel",
      "state": {}
     },
     "0abac824f64f4de080e4f3bf9d19a3aa": {
      "model_module": "@jupyter-widgets/controls",
      "model_module_version": "1.1.0",
      "model_name": "ButtonModel",
      "state": {
       "button_style": "danger",
       "description": "Danger Button",
       "layout": "IPY_MODEL_2aa917f6da45476d91d52f08c93cee50",
       "style": "IPY_MODEL_e97b5a0afdcd4da5acdea782e5f27e71"
      }
     },
     "0ace049e703d4b3791d6f4e69084427b": {
      "model_module": "@jupyter-widgets/controls",
      "model_module_version": "1.1.0",
      "model_name": "ButtonStyleModel",
      "state": {}
     },
     "0aef5d51893849d8b70c7da7e42b2804": {
      "model_module": "@jupyter-widgets/controls",
      "model_module_version": "1.1.0",
      "model_name": "IntSliderModel",
      "state": {
       "description": "\\(\\int_0^t f\\)",
       "layout": "IPY_MODEL_4c3bf7a475d742808314b5a1df88b1d2",
       "style": "IPY_MODEL_22182b5f28f14c65a113df9a33fa81cc"
      }
     },
     "0b0b7e5972b04520a7066fa08a6bf5a5": {
      "model_module": "@jupyter-widgets/controls",
      "model_module_version": "1.1.0",
      "model_name": "BoxModel",
      "state": {
       "children": [
        "IPY_MODEL_b19b0f4d5ebc41cbb22e025d8e3e32f5",
        "IPY_MODEL_55f4cb92fffc4e8ba540cbbf4f4aa15f"
       ],
       "layout": "IPY_MODEL_b73dcd51c0a84653a2a1d0fc2da4f240"
      }
     },
     "0b24fc39831441a9b6941a82edfbaaf1": {
      "model_module": "@jupyter-widgets/controls",
      "model_module_version": "1.1.0",
      "model_name": "BoxModel",
      "state": {
       "children": [
        "IPY_MODEL_9be60ad4ef5b4282a97125f138ad132b",
        "IPY_MODEL_c4cde0fc628c460397f664c2cd761f86"
       ],
       "layout": "IPY_MODEL_9cec86147f73446a81e86fe6e7ee1f15"
      }
     },
     "0bd3ef68f81141859b6fb4fe529cd47c": {
      "model_module": "@jupyter-widgets/controls",
      "model_module_version": "1.1.0",
      "model_name": "BoxModel",
      "state": {
       "children": [
        "IPY_MODEL_6f75f0851b4c40599d7d88100d52be88",
        "IPY_MODEL_c5d70bcfed9a4fabb59ad583a585726c",
        "IPY_MODEL_5af7ad0112994392818b1cee40ff5364",
        "IPY_MODEL_9629717020df48c5a34b08201c90d2c4"
       ],
       "layout": "IPY_MODEL_afa401374e3e4bdaa3c3048f6cebfd9e"
      }
     },
     "0bfdfc7e1cc047f392733010ca26bfb5": {
      "model_module": "@jupyter-widgets/controls",
      "model_module_version": "1.1.0",
      "model_name": "ButtonModel",
      "state": {
       "description": "Custom color",
       "layout": "IPY_MODEL_d87741c2d4ee455d8360e382ae57ee64",
       "style": "IPY_MODEL_de2208827b4f48c68915e881ca794115"
      }
     },
     "0c4209d609b44c0bbb70b19a7740ee48": {
      "model_module": "@jupyter-widgets/controls",
      "model_module_version": "1.1.0",
      "model_name": "ButtonModel",
      "state": {
       "description": "weight=1",
       "layout": "IPY_MODEL_dcc5a41fa3014226a31f6dec61649d84",
       "style": "IPY_MODEL_4c132c17fd4d442f9a007a27397d2f9b"
      }
     },
     "0c5032802b5c49cdb7bc117ced5f56e8": {
      "model_module": "@jupyter-widgets/base",
      "model_module_version": "1.0.0",
      "model_name": "LayoutModel",
      "state": {
       "align_items": "stretch",
       "border": "solid 2px",
       "display": "flex",
       "flex_flow": "column",
       "width": "50%"
      }
     },
     "0c6cc1ceb60d4b15be7e9c1f3c99aa26": {
      "model_module": "@jupyter-widgets/controls",
      "model_module_version": "1.1.0",
      "model_name": "ButtonStyleModel",
      "state": {}
     },
     "0c77439d99134b369caca19a25d2d3f2": {
      "model_module": "@jupyter-widgets/controls",
      "model_module_version": "1.1.0",
      "model_name": "ButtonStyleModel",
      "state": {}
     },
     "0c922727d5b84f8d83fb245bff63d2ea": {
      "model_module": "@jupyter-widgets/controls",
      "model_module_version": "1.1.0",
      "model_name": "ButtonStyleModel",
      "state": {}
     },
     "0cabf2e755884f7fbaa6614358e4351d": {
      "model_module": "@jupyter-widgets/controls",
      "model_module_version": "1.1.0",
      "model_name": "TextareaModel",
      "state": {
       "layout": "IPY_MODEL_8481107357e84a0db1a0a0f53bbf1a59",
       "style": "IPY_MODEL_138620da8eb348dd95218292cb7694b5"
      }
     },
     "0cc1a21bd2fd43a396f2d273465c5e90": {
      "model_module": "@jupyter-widgets/controls",
      "model_module_version": "1.1.0",
      "model_name": "ButtonStyleModel",
      "state": {}
     },
     "0cc3aa070dcd485ea4385a693c1bb7d3": {
      "model_module": "@jupyter-widgets/controls",
      "model_module_version": "1.1.0",
      "model_name": "ButtonStyleModel",
      "state": {}
     },
     "0d349dc58d7c43569ac3140b94345be3": {
      "model_module": "@jupyter-widgets/controls",
      "model_module_version": "1.1.0",
      "model_name": "ButtonModel",
      "state": {
       "button_style": "danger",
       "description": "battery",
       "layout": "IPY_MODEL_c366761f53664b9b868f37fc6573d759",
       "style": "IPY_MODEL_789014ca62f144db89f58454cafc259f"
      }
     },
     "0d9744538f9f40969c23538cc9cfe25a": {
      "model_module": "@jupyter-widgets/controls",
      "model_module_version": "1.1.0",
      "model_name": "ButtonModel",
      "state": {
       "button_style": "warning",
       "description": "0",
       "layout": "IPY_MODEL_2609a17cced145ad91b86d4ddfbd3bfd",
       "style": "IPY_MODEL_d4f9f96e80344c9187f3c89a887d5403"
      }
     },
     "0da17df2857140809605f302cd8fa998": {
      "model_module": "@jupyter-widgets/controls",
      "model_module_version": "1.1.0",
      "model_name": "BoxModel",
      "state": {
       "children": [
        "IPY_MODEL_110a3a070d534f9fafd63b6b8e536ab5",
        "IPY_MODEL_c244b4c92e614670ab9ad69f78ea1b38"
       ],
       "layout": "IPY_MODEL_9cec86147f73446a81e86fe6e7ee1f15"
      }
     },
     "0dae29a44c6640a38520eda3e76412bd": {
      "model_module": "@jupyter-widgets/controls",
      "model_module_version": "1.1.0",
      "model_name": "ButtonStyleModel",
      "state": {}
     },
     "0dcff2660f3249b3894e124b93d798df": {
      "model_module": "@jupyter-widgets/controls",
      "model_module_version": "1.1.0",
      "model_name": "IntSliderModel",
      "state": {
       "description": "Blue handle",
       "layout": "IPY_MODEL_85b83b86fa674290b480f153082d9615",
       "style": "IPY_MODEL_0a1da9ea2afe4899b5eb430929488573"
      }
     },
     "0de0a4ede1704419991adbf8320b84f9": {
      "model_module": "@jupyter-widgets/controls",
      "model_module_version": "1.1.0",
      "model_name": "ButtonStyleModel",
      "state": {}
     },
     "0de70a0050d04470a19d885cf9e4d1a2": {
      "model_module": "@jupyter-widgets/controls",
      "model_module_version": "1.1.0",
      "model_name": "ButtonStyleModel",
      "state": {}
     },
     "0e2c87a9caf7415e8394467aebd08eae": {
      "model_module": "@jupyter-widgets/controls",
      "model_module_version": "1.1.0",
      "model_name": "ButtonModel",
      "state": {
       "button_style": "danger",
       "description": "correct",
       "layout": "IPY_MODEL_c7338576bee04316bd2700f1c493a0f7",
       "style": "IPY_MODEL_c2ebddece7bc4287973b5ad652730a8c"
      }
     },
     "0e5afcffed4e47e18d97bd2dc561877f": {
      "model_module": "@jupyter-widgets/controls",
      "model_module_version": "1.1.0",
      "model_name": "DescriptionStyleModel",
      "state": {
       "description_width": ""
      }
     },
     "0ead874e67d44643a236c949155a5368": {
      "model_module": "@jupyter-widgets/base",
      "model_module_version": "1.0.0",
      "model_name": "LayoutModel",
      "state": {}
     },
     "0f1367eb17cc4c11b7b0ebf866002deb": {
      "model_module": "@jupyter-widgets/controls",
      "model_module_version": "1.1.0",
      "model_name": "ButtonStyleModel",
      "state": {}
     },
     "0f15205e3fd647a5851882092398f15f": {
      "model_module": "@jupyter-widgets/controls",
      "model_module_version": "1.1.0",
      "model_name": "ButtonStyleModel",
      "state": {}
     },
     "0f22c356a8d14e30b8c3ab97f3d66104": {
      "model_module": "@jupyter-widgets/controls",
      "model_module_version": "1.1.0",
      "model_name": "ButtonModel",
      "state": {
       "description": "weight=2",
       "layout": "IPY_MODEL_2d3753601014422094cd7ea237bc449a",
       "style": "IPY_MODEL_f6d6962875c34a70906b93ebd256fe48"
      }
     },
     "0f383d09470f46a4a22fec93da64d6fe": {
      "model_module": "@jupyter-widgets/controls",
      "model_module_version": "1.1.0",
      "model_name": "ButtonStyleModel",
      "state": {}
     },
     "0f85ecc716df499d803c7af9d6804c05": {
      "model_module": "@jupyter-widgets/controls",
      "model_module_version": "1.1.0",
      "model_name": "ButtonStyleModel",
      "state": {}
     },
     "0f9d050b069547968aae22ef4cb4a62c": {
      "model_module": "@jupyter-widgets/controls",
      "model_module_version": "1.1.0",
      "model_name": "ButtonModel",
      "state": {
       "button_style": "warning",
       "description": "27",
       "layout": "IPY_MODEL_2609a17cced145ad91b86d4ddfbd3bfd",
       "style": "IPY_MODEL_f0c7629d901a43cd9d6a96380c03f7e5"
      }
     },
     "0fb7ce4244d043a09b3d975a456fae32": {
      "model_module": "@jupyter-widgets/controls",
      "model_module_version": "1.1.0",
      "model_name": "DropdownModel",
      "state": {
       "_options_labels": [
        "Scrambled",
        "Sunny side up",
        "Over easy"
       ],
       "index": 0,
       "layout": "IPY_MODEL_e0baf2c0d1aa4946aed8ca0fb27fdac2",
       "style": "IPY_MODEL_73286ac6a1af4f428c0f1b66c23c5186"
      }
     },
     "0fea4196c7644b2780466c0b8306251d": {
      "model_module": "@jupyter-widgets/controls",
      "model_module_version": "1.1.0",
      "model_name": "ButtonStyleModel",
      "state": {}
     },
     "104564eb97854ca9ad14302351bdcff2": {
      "model_module": "@jupyter-widgets/controls",
      "model_module_version": "1.1.0",
      "model_name": "ButtonStyleModel",
      "state": {}
     },
     "108bb8ce088d4254bfee3ccc10190f14": {
      "model_module": "@jupyter-widgets/controls",
      "model_module_version": "1.1.0",
      "model_name": "LabelModel",
      "state": {
       "layout": "IPY_MODEL_fa68a3bfdc4049d39dece2c8e725a2e8",
       "style": "IPY_MODEL_3c1931efd1d14ced9622a0f216438cc8",
       "value": "Scroll horizontally:"
      }
     },
     "10bb669800ad4c699b27ab00a6a3dfab": {
      "model_module": "@jupyter-widgets/controls",
      "model_module_version": "1.1.0",
      "model_name": "ButtonStyleModel",
      "state": {}
     },
     "10efb154252045eab676fc357f71490a": {
      "model_module": "@jupyter-widgets/controls",
      "model_module_version": "1.1.0",
      "model_name": "IntSliderModel",
      "state": {
       "layout": "IPY_MODEL_4e78e99b94624044961f9a2aff616578",
       "max": 60,
       "min": 40,
       "style": "IPY_MODEL_7e3080c262864925b5208347c7bfe115",
       "value": 40
      }
     },
     "110a3a070d534f9fafd63b6b8e536ab5": {
      "model_module": "@jupyter-widgets/controls",
      "model_module_version": "1.1.0",
      "model_name": "LabelModel",
      "state": {
       "layout": "IPY_MODEL_384591c27dba454a8167ec6a914f3d4c",
       "style": "IPY_MODEL_b0ca8a293663460e8b7d9f3e10f3575e",
       "value": "Egg style"
      }
     },
     "11422f4fd5e34a98bfd4903086688cab": {
      "model_module": "@jupyter-widgets/base",
      "model_module_version": "1.0.0",
      "model_name": "LayoutModel",
      "state": {}
     },
     "12cc4b213c274be99c5710051a35e4fa": {
      "model_module": "@jupyter-widgets/controls",
      "model_module_version": "1.1.0",
      "model_name": "ButtonStyleModel",
      "state": {}
     },
     "12cf691292234a89816fb1d04414cb22": {
      "model_module": "@jupyter-widgets/controls",
      "model_module_version": "1.1.0",
      "model_name": "ButtonModel",
      "state": {
       "description": "weight=1",
       "layout": "IPY_MODEL_576da3648d5640769c2420d3f75fce00",
       "style": "IPY_MODEL_26c228e8836d4c2ab4d38e845d84b06e"
      }
     },
     "12e45243f7ed43f1890eff5d6883910b": {
      "model_module": "@jupyter-widgets/controls",
      "model_module_version": "1.1.0",
      "model_name": "ButtonModel",
      "state": {
       "button_style": "danger",
       "description": "correct",
       "layout": "IPY_MODEL_f36062d1658742dbab9032aaa90395e7",
       "style": "IPY_MODEL_9f0bed33040e42b18735895df53a1a78"
      }
     },
     "13812f4dcf0b406b9069d1ee3d478a18": {
      "model_module": "@jupyter-widgets/controls",
      "model_module_version": "1.1.0",
      "model_name": "ButtonStyleModel",
      "state": {}
     },
     "138620da8eb348dd95218292cb7694b5": {
      "model_module": "@jupyter-widgets/controls",
      "model_module_version": "1.1.0",
      "model_name": "DescriptionStyleModel",
      "state": {
       "description_width": ""
      }
     },
     "13af18f71e7349c7b08ccbf7e8f150ab": {
      "model_module": "@jupyter-widgets/controls",
      "model_module_version": "1.1.0",
      "model_name": "ButtonStyleModel",
      "state": {}
     },
     "13f1917bed0247dcb23c705a6e08307a": {
      "model_module": "@jupyter-widgets/controls",
      "model_module_version": "1.1.0",
      "model_name": "DropdownModel",
      "state": {
       "_options_labels": [
        "Scrambled",
        "Sunny side up",
        "Over easy"
       ],
       "index": 0,
       "layout": "IPY_MODEL_e85134800e794418814e5c8c7e3f900d",
       "style": "IPY_MODEL_a9d016725ee640d581b969f79fa1216b"
      }
     },
     "141c0bdcfdbb45d8be6d258e47f9bfa8": {
      "model_module": "@jupyter-widgets/controls",
      "model_module_version": "1.1.0",
      "model_name": "ButtonModel",
      "state": {
       "button_style": "danger",
       "description": "staple",
       "layout": "IPY_MODEL_a7a4802e7a1c4935acd9be3da0412e41",
       "style": "IPY_MODEL_9ce52ce9be2b46aeb22596e94ff9bdcc"
      }
     },
     "14ae5064ebed449796fecc9531bd8c29": {
      "model_module": "@jupyter-widgets/base",
      "model_module_version": "1.0.0",
      "model_name": "LayoutModel",
      "state": {
       "flex": "1 1 0%",
       "width": "auto"
      }
     },
     "14af3452480f458297990e6dc0e4feca": {
      "model_module": "@jupyter-widgets/controls",
      "model_module_version": "1.1.0",
      "model_name": "ButtonModel",
      "state": {
       "button_style": "warning",
       "description": "31",
       "layout": "IPY_MODEL_86c93170059349499a5f76156cbd8cdf",
       "style": "IPY_MODEL_67620e6a5449490a8b2ecb27586a04c1"
      }
     },
     "153afc4ac28b40ffb5e9467ac3596bfd": {
      "model_module": "@jupyter-widgets/controls",
      "model_module_version": "1.1.0",
      "model_name": "ButtonModel",
      "state": {
       "button_style": "danger",
       "description": "horse",
       "layout": "IPY_MODEL_6d65ff560e8b43efb20fdc71bbb7abd6",
       "style": "IPY_MODEL_062eb28159484753a4f7585a29946f59"
      }
     },
     "15d5ef6f85b6482aa7d6644b0d5c0fdd": {
      "model_module": "@jupyter-widgets/base",
      "model_module_version": "1.0.0",
      "model_name": "LayoutModel",
      "state": {
       "flex": "1 1 auto",
       "width": "auto"
      }
     },
     "15d81264f58a4fd4a0ba36ed5b418a94": {
      "model_module": "@jupyter-widgets/controls",
      "model_module_version": "1.1.0",
      "model_name": "ButtonModel",
      "state": {
       "button_style": "danger",
       "description": "correct",
       "layout": "IPY_MODEL_c366761f53664b9b868f37fc6573d759",
       "style": "IPY_MODEL_ee35a1c4b4124208b013ae94616b4f02"
      }
     },
     "15e4643d20614d2c8e6e62f428ecf1e4": {
      "model_module": "@jupyter-widgets/controls",
      "model_module_version": "1.1.0",
      "model_name": "IntSliderModel",
      "state": {
       "description": "Blue handle",
       "layout": "IPY_MODEL_de5468720c5e4147b117f32a5ef58ec5",
       "style": "IPY_MODEL_21c1e240e90142c4ad364b1f0d3b7fb7"
      }
     },
     "161ded8e11144f2c9cbd4d26b3633836": {
      "model_module": "@jupyter-widgets/controls",
      "model_module_version": "1.1.0",
      "model_name": "ButtonModel",
      "state": {
       "button_style": "warning",
       "description": "3",
       "layout": "IPY_MODEL_2609a17cced145ad91b86d4ddfbd3bfd",
       "style": "IPY_MODEL_84f759e9a9cf49bcaae8031740732f06"
      }
     },
     "1676c0fd65f34d15bffb8004ec4f2154": {
      "model_module": "@jupyter-widgets/controls",
      "model_module_version": "1.1.0",
      "model_name": "ButtonModel",
      "state": {
       "button_style": "warning",
       "description": "35",
       "layout": "IPY_MODEL_616560d2e26b4bee8b7c903f483241f8",
       "style": "IPY_MODEL_23feb2f947c74a9e9d186f99ef9ff2ea"
      }
     },
     "17877695fe4d4aa78455f58b7c73fa1e": {
      "model_module": "@jupyter-widgets/controls",
      "model_module_version": "1.1.0",
      "model_name": "ButtonStyleModel",
      "state": {}
     },
     "1787e6acb4bc4a8087a5002b83fb03a2": {
      "model_module": "@jupyter-widgets/controls",
      "model_module_version": "1.1.0",
      "model_name": "ButtonModel",
      "state": {
       "button_style": "danger",
       "description": "staple",
       "layout": "IPY_MODEL_6d65ff560e8b43efb20fdc71bbb7abd6",
       "style": "IPY_MODEL_54768dc1efb4403b859b82939522a7f4"
      }
     },
     "17c1b923cbbc41a48e937af846e96ca8": {
      "model_module": "@jupyter-widgets/controls",
      "model_module_version": "1.1.0",
      "model_name": "ButtonStyleModel",
      "state": {}
     },
     "1800557ab31a444699da0f034c2a14c0": {
      "model_module": "@jupyter-widgets/controls",
      "model_module_version": "1.1.0",
      "model_name": "ButtonStyleModel",
      "state": {}
     },
     "180c2f8593d6415795a9de069058a285": {
      "model_module": "@jupyter-widgets/controls",
      "model_module_version": "1.1.0",
      "model_name": "ButtonStyleModel",
      "state": {}
     },
     "1854302033e04b96b4378a2886b852e1": {
      "model_module": "@jupyter-widgets/controls",
      "model_module_version": "1.1.0",
      "model_name": "DescriptionStyleModel",
      "state": {
       "description_width": ""
      }
     },
     "185888f7164743ba80ac08b010222e3a": {
      "model_module": "@jupyter-widgets/controls",
      "model_module_version": "1.1.0",
      "model_name": "ButtonStyleModel",
      "state": {}
     },
     "187d57c53da14cbfa92b750ea7304d43": {
      "model_module": "@jupyter-widgets/controls",
      "model_module_version": "1.1.0",
      "model_name": "ButtonStyleModel",
      "state": {}
     },
     "190f5459176b44429970f89055f16758": {
      "model_module": "@jupyter-widgets/base",
      "model_module_version": "1.0.0",
      "model_name": "LayoutModel",
      "state": {
       "border": "3px solid black",
       "display": "flex",
       "height": "",
       "overflow_x": "scroll",
       "width": "500px"
      }
     },
     "1924fb1cda9b4a418cc520cc604b4aeb": {
      "model_module": "@jupyter-widgets/controls",
      "model_module_version": "1.1.0",
      "model_name": "ButtonStyleModel",
      "state": {}
     },
     "19334b76b10a45e6b06c3de0f9649173": {
      "model_module": "@jupyter-widgets/controls",
      "model_module_version": "1.1.0",
      "model_name": "ButtonStyleModel",
      "state": {}
     },
     "1971d09e9e8c47b49eca33ebd09ae2b2": {
      "model_module": "@jupyter-widgets/controls",
      "model_module_version": "1.1.0",
      "model_name": "ButtonStyleModel",
      "state": {}
     },
     "19ade981e73d4df4a4fe7f652bc46798": {
      "model_module": "@jupyter-widgets/controls",
      "model_module_version": "1.1.0",
      "model_name": "ButtonStyleModel",
      "state": {}
     },
     "19b79c5e98d1434b96e67629811579a0": {
      "model_module": "@jupyter-widgets/controls",
      "model_module_version": "1.1.0",
      "model_name": "BoxModel",
      "state": {
       "children": [
        "IPY_MODEL_9f5a077f26c94944b59bdc93d8c74e52",
        "IPY_MODEL_1c10c53f182d4a7a85c19c62fd254e3e",
        "IPY_MODEL_12cf691292234a89816fb1d04414cb22"
       ],
       "layout": "IPY_MODEL_2588130a1b7946438fbe65b36c607f33"
      }
     },
     "19fcb2d97aae4cea80e7351c09daebfb": {
      "model_module": "@jupyter-widgets/controls",
      "model_module_version": "1.1.0",
      "model_name": "ButtonStyleModel",
      "state": {}
     },
     "1a050df662ab46dcb80ee4bce45c60e4": {
      "model_module": "@jupyter-widgets/controls",
      "model_module_version": "1.1.0",
      "model_name": "SliderStyleModel",
      "state": {
       "description_width": ""
      }
     },
     "1a23f155631a4393b5cf51028b267023": {
      "model_module": "@jupyter-widgets/controls",
      "model_module_version": "1.1.0",
      "model_name": "ButtonModel",
      "state": {
       "button_style": "warning",
       "description": "25",
       "layout": "IPY_MODEL_86c93170059349499a5f76156cbd8cdf",
       "style": "IPY_MODEL_e97288a6d58c4c96999ac775891f8048"
      }
     },
     "1a3dfc4394804b5ab32d6b78a31ac55a": {
      "model_module": "@jupyter-widgets/controls",
      "model_module_version": "1.1.0",
      "model_name": "ButtonModel",
      "state": {
       "button_style": "warning",
       "description": "13",
       "layout": "IPY_MODEL_2609a17cced145ad91b86d4ddfbd3bfd",
       "style": "IPY_MODEL_9ba9dfbd5aae458ea82ee7c153adb2ba"
      }
     },
     "1a7c178dfb5842ae8211b2aa41f695e9": {
      "model_module": "@jupyter-widgets/controls",
      "model_module_version": "1.1.0",
      "model_name": "ButtonStyleModel",
      "state": {}
     },
     "1b5b88418a7543248fcaeb80778ea171": {
      "model_module": "@jupyter-widgets/base",
      "model_module_version": "1.0.0",
      "model_name": "LayoutModel",
      "state": {}
     },
     "1b969a5a33434407ac600334c65b44bd": {
      "model_module": "@jupyter-widgets/controls",
      "model_module_version": "1.1.0",
      "model_name": "ButtonStyleModel",
      "state": {}
     },
     "1bde4c27018d4aeaae155d981299f4ec": {
      "model_module": "@jupyter-widgets/controls",
      "model_module_version": "1.1.0",
      "model_name": "ButtonStyleModel",
      "state": {}
     },
     "1c10c53f182d4a7a85c19c62fd254e3e": {
      "model_module": "@jupyter-widgets/controls",
      "model_module_version": "1.1.0",
      "model_name": "ButtonModel",
      "state": {
       "description": "weight=2",
       "layout": "IPY_MODEL_f04f5d455c6844f9b072aefe3ed37b36",
       "style": "IPY_MODEL_b650d17bc2364f1c9c4d413903c2ca19"
      }
     },
     "1c43cde0a29346018b4f47d9e32fb07e": {
      "model_module": "@jupyter-widgets/controls",
      "model_module_version": "1.1.0",
      "model_name": "ButtonStyleModel",
      "state": {}
     },
     "1cb3f4a2b98043daac041cb5298d0b5f": {
      "model_module": "@jupyter-widgets/controls",
      "model_module_version": "1.1.0",
      "model_name": "ButtonStyleModel",
      "state": {}
     },
     "1cd53ac0d7054fef99bed1e691b86028": {
      "model_module": "@jupyter-widgets/controls",
      "model_module_version": "1.1.0",
      "model_name": "ButtonStyleModel",
      "state": {}
     },
     "1cd5e15c30d147c8a6c0f2fc22c51a67": {
      "model_module": "@jupyter-widgets/base",
      "model_module_version": "1.0.0",
      "model_name": "LayoutModel",
      "state": {}
     },
     "1d10072127cb4a32968374fdb7bd2479": {
      "model_module": "@jupyter-widgets/base",
      "model_module_version": "1.0.0",
      "model_name": "LayoutModel",
      "state": {
       "height": "100px",
       "min_width": "40px"
      }
     },
     "1d623c3c991a4ca29386030ebd49b23a": {
      "model_module": "@jupyter-widgets/controls",
      "model_module_version": "1.1.0",
      "model_name": "IntSliderModel",
      "state": {
       "description": "\\(\\int_0^t f\\)",
       "layout": "IPY_MODEL_7124c76bb4aa4441b3d187dfc0b8b423",
       "style": "IPY_MODEL_ca7985d3abca46adb4fef796e2fe7220"
      }
     },
     "1d6fa1c5a74745f1ad5f176b5e3c984c": {
      "model_module": "@jupyter-widgets/controls",
      "model_module_version": "1.1.0",
      "model_name": "DescriptionStyleModel",
      "state": {
       "description_width": ""
      }
     },
     "1d89f5dde602459e9f6d93a616a51a20": {
      "model_module": "@jupyter-widgets/controls",
      "model_module_version": "1.1.0",
      "model_name": "FloatTextModel",
      "state": {
       "layout": "IPY_MODEL_5020983ce43c44c3897411eb70214563",
       "step": null,
       "style": "IPY_MODEL_934737825999405bb1be14cc5c289e42"
      }
     },
     "1dfe42c26a254aa081fe43a573b76836": {
      "model_module": "@jupyter-widgets/controls",
      "model_module_version": "1.1.0",
      "model_name": "BoxModel",
      "state": {
       "children": [
        "IPY_MODEL_5c376c0a70dc4f3ab9f4a48214d38ab3",
        "IPY_MODEL_bc7d0c0b023045b3a501e2a6839ca1c1",
        "IPY_MODEL_4cf51c472f70459895f751c145ea37cc"
       ],
       "layout": "IPY_MODEL_4d264e0c05564486a9915059989c422e"
      }
     },
     "1e1fd102735342b8b1b0c3ce484e3628": {
      "model_module": "@jupyter-widgets/base",
      "model_module_version": "1.0.0",
      "model_name": "LayoutModel",
      "state": {
       "width": "auto"
      }
     },
     "1e4419a3c84d42a5ae453449254fc602": {
      "model_module": "@jupyter-widgets/controls",
      "model_module_version": "1.1.0",
      "model_name": "ButtonModel",
      "state": {
       "button_style": "warning",
       "description": "34",
       "layout": "IPY_MODEL_1d10072127cb4a32968374fdb7bd2479",
       "style": "IPY_MODEL_0058c8267ecf4a89a325682383ebef28"
      }
     },
     "1e48c20510704114b022b21faae1eac2": {
      "model_module": "@jupyter-widgets/controls",
      "model_module_version": "1.1.0",
      "model_name": "HBoxModel",
      "state": {
       "children": [
        "IPY_MODEL_4c278d33d7a24eedbf5aca08a2b62025",
        "IPY_MODEL_4996f26142834a378b7ed7cc3a941f05"
       ],
       "layout": "IPY_MODEL_8bb4735d5bfa4808bc74f910f32e0e6b"
      }
     },
     "1eccb214247845ea89cb994eeb0f7082": {
      "model_module": "@jupyter-widgets/controls",
      "model_module_version": "1.1.0",
      "model_name": "ButtonModel",
      "state": {
       "description": "weight=1",
       "layout": "IPY_MODEL_51ffd25947cf45d7bf0eca9951b399d0",
       "style": "IPY_MODEL_db6b11f921114cf68c65b99c3a216ad2"
      }
     },
     "2016c0ec48904458bf2693bde22e35fb": {
      "model_module": "@jupyter-widgets/controls",
      "model_module_version": "1.1.0",
      "model_name": "HBoxModel",
      "state": {
       "children": [
        "IPY_MODEL_4142d55aad464e39822b7f70d9d49b39",
        "IPY_MODEL_6e1d632d7347464090b7473164d6ed84"
       ],
       "layout": "IPY_MODEL_6d54d28ad21a4cf0864a0845b5c61582"
      }
     },
     "203f708ff78044858d15485a827a6685": {
      "model_module": "@jupyter-widgets/controls",
      "model_module_version": "1.1.0",
      "model_name": "ButtonModel",
      "state": {
       "button_style": "warning",
       "description": "11",
       "layout": "IPY_MODEL_1d10072127cb4a32968374fdb7bd2479",
       "style": "IPY_MODEL_5b6b36acedd74b2cb41f0b025b887202"
      }
     },
     "204971ea3b024bc196cc095a06b8c309": {
      "model_module": "@jupyter-widgets/controls",
      "model_module_version": "1.1.0",
      "model_name": "ButtonStyleModel",
      "state": {}
     },
     "20b92a5e570f4f64b43b9ed7bf18481b": {
      "model_module": "@jupyter-widgets/controls",
      "model_module_version": "1.1.0",
      "model_name": "ButtonStyleModel",
      "state": {}
     },
     "21ac207061194f0289ab9b20b59aa04e": {
      "model_module": "@jupyter-widgets/controls",
      "model_module_version": "1.1.0",
      "model_name": "ButtonStyleModel",
      "state": {}
     },
     "21c1e240e90142c4ad364b1f0d3b7fb7": {
      "model_module": "@jupyter-widgets/controls",
      "model_module_version": "1.1.0",
      "model_name": "SliderStyleModel",
      "state": {
       "description_width": "",
       "handle_color": "lightblue"
      }
     },
     "21fe4ddb707b4d89a5c0cb187b7db377": {
      "model_module": "@jupyter-widgets/controls",
      "model_module_version": "1.1.0",
      "model_name": "SliderStyleModel",
      "state": {
       "description_width": ""
      }
     },
     "22182b5f28f14c65a113df9a33fa81cc": {
      "model_module": "@jupyter-widgets/controls",
      "model_module_version": "1.1.0",
      "model_name": "SliderStyleModel",
      "state": {
       "description_width": ""
      }
     },
     "2225e13de06047a0a324ad4555fc0db5": {
      "model_module": "@jupyter-widgets/controls",
      "model_module_version": "1.1.0",
      "model_name": "ButtonStyleModel",
      "state": {}
     },
     "2239ad9aba3b48a293cdecc022943219": {
      "model_module": "@jupyter-widgets/controls",
      "model_module_version": "1.1.0",
      "model_name": "ButtonStyleModel",
      "state": {}
     },
     "227ded38627c4b6083c960ad642093ab": {
      "model_module": "@jupyter-widgets/controls",
      "model_module_version": "1.1.0",
      "model_name": "ButtonModel",
      "state": {
       "button_style": "warning",
       "description": "3",
       "layout": "IPY_MODEL_1d10072127cb4a32968374fdb7bd2479",
       "style": "IPY_MODEL_cf27c196e29e4334a21600398761d311"
      }
     },
     "228bd2e5998f481da3d596a5b95e07fc": {
      "model_module": "@jupyter-widgets/controls",
      "model_module_version": "1.1.0",
      "model_name": "DescriptionStyleModel",
      "state": {
       "description_width": ""
      }
     },
     "22e5e6cb686b43048db8652964db63f5": {
      "model_module": "@jupyter-widgets/controls",
      "model_module_version": "1.1.0",
      "model_name": "ButtonStyleModel",
      "state": {}
     },
     "2331d8e0d80446cab4e459de1753d725": {
      "model_module": "@jupyter-widgets/controls",
      "model_module_version": "1.1.0",
      "model_name": "ButtonModel",
      "state": {
       "description": "weight=1",
       "layout": "IPY_MODEL_63d39d5455ab456aa4a80c035525ae80",
       "style": "IPY_MODEL_d5e2915cc3244ff7907814687d04a2dc"
      }
     },
     "235c0626c2904c60b0e4ea9ab153c392": {
      "model_module": "@jupyter-widgets/controls",
      "model_module_version": "1.1.0",
      "model_name": "ButtonModel",
      "state": {
       "button_style": "warning",
       "description": "17",
       "layout": "IPY_MODEL_2609a17cced145ad91b86d4ddfbd3bfd",
       "style": "IPY_MODEL_32b862ec82374bf392d5381fc8fdb813"
      }
     },
     "23b981f649954b6c8cafed26a0b55f27": {
      "model_module": "@jupyter-widgets/base",
      "model_module_version": "1.0.0",
      "model_name": "LayoutModel",
      "state": {}
     },
     "23be2ce0410240c1a0bf267cb5140c98": {
      "model_module": "@jupyter-widgets/controls",
      "model_module_version": "1.1.0",
      "model_name": "ButtonStyleModel",
      "state": {}
     },
     "23f96ef0d33e4def83c6e8aac5810854": {
      "model_module": "@jupyter-widgets/controls",
      "model_module_version": "1.1.0",
      "model_name": "LabelModel",
      "state": {
       "layout": "IPY_MODEL_d73b4caeebd04f0f93049cc451aad20f",
       "style": "IPY_MODEL_54ea8f052a9b46b3b6a4e87455cc953e",
       "value": "Information"
      }
     },
     "23feb2f947c74a9e9d186f99ef9ff2ea": {
      "model_module": "@jupyter-widgets/controls",
      "model_module_version": "1.1.0",
      "model_name": "ButtonStyleModel",
      "state": {}
     },
     "23febfee2a93455b90f6740751230632": {
      "model_module": "@jupyter-widgets/base",
      "model_module_version": "1.0.0",
      "model_name": "LayoutModel",
      "state": {}
     },
     "241523cf9ace4fde8bc3cbf1082e9cc2": {
      "model_module": "@jupyter-widgets/controls",
      "model_module_version": "1.1.0",
      "model_name": "ButtonModel",
      "state": {
       "button_style": "warning",
       "description": "8",
       "layout": "IPY_MODEL_1d10072127cb4a32968374fdb7bd2479",
       "style": "IPY_MODEL_74d419661f344dceb341a9a42b7ed8a5"
      }
     },
     "2420dacfb33b40b9ab23d62933ae6a8d": {
      "model_module": "@jupyter-widgets/controls",
      "model_module_version": "1.1.0",
      "model_name": "HBoxModel",
      "state": {
       "children": [
        "IPY_MODEL_cf57c142eabc4d4da9889c9b8ace03b3",
        "IPY_MODEL_e5e0e37d2d5d401c858487478bf87531"
       ],
       "layout": "IPY_MODEL_9df9735194e3490bbfd3ef280f61b85a"
      }
     },
     "24c6f9ddb23b4cba8b0effc49cd157d0": {
      "model_module": "@jupyter-widgets/controls",
      "model_module_version": "1.1.0",
      "model_name": "ButtonModel",
      "state": {
       "button_style": "danger",
       "description": "horse",
       "layout": "IPY_MODEL_a7a4802e7a1c4935acd9be3da0412e41",
       "style": "IPY_MODEL_50690bc2a1d144fca277819682bb3690"
      }
     },
     "254c35ab985e4f79bc0283589ef4061b": {
      "model_module": "@jupyter-widgets/controls",
      "model_module_version": "1.1.0",
      "model_name": "ButtonStyleModel",
      "state": {}
     },
     "2552af58264b4083b1d49c2d5ed77e71": {
      "model_module": "@jupyter-widgets/controls",
      "model_module_version": "1.1.0",
      "model_name": "LabelModel",
      "state": {
       "layout": "IPY_MODEL_02930fe9e04547928e81c052bb2d3b90",
       "style": "IPY_MODEL_ec40cd611ffd437697bbc345df0a504c",
       "value": "Information"
      }
     },
     "2588130a1b7946438fbe65b36c607f33": {
      "model_module": "@jupyter-widgets/base",
      "model_module_version": "1.0.0",
      "model_name": "LayoutModel",
      "state": {
       "align_items": "stretch",
       "border": "solid",
       "display": "flex",
       "flex_flow": "row",
       "width": "50%"
      }
     },
     "25f8261fc3234ff091881f89fb2dc284": {
      "model_module": "@jupyter-widgets/controls",
      "model_module_version": "1.1.0",
      "model_name": "ButtonStyleModel",
      "state": {}
     },
     "2609a17cced145ad91b86d4ddfbd3bfd": {
      "model_module": "@jupyter-widgets/base",
      "model_module_version": "1.0.0",
      "model_name": "LayoutModel",
      "state": {
       "height": "100px",
       "min_width": "40px"
      }
     },
     "266efae4a6144a01a622001aad39c189": {
      "model_module": "@jupyter-widgets/controls",
      "model_module_version": "1.1.0",
      "model_name": "ButtonStyleModel",
      "state": {}
     },
     "267308d7e969409481d26712d5d2e06e": {
      "model_module": "@jupyter-widgets/controls",
      "model_module_version": "1.1.0",
      "model_name": "ButtonModel",
      "state": {
       "button_style": "warning",
       "description": "30",
       "layout": "IPY_MODEL_1d10072127cb4a32968374fdb7bd2479",
       "style": "IPY_MODEL_baccb346dd5b4b31ad4d58991fcc5eae"
      }
     },
     "26809c04c3aa4cd3954680cef6271da3": {
      "model_module": "@jupyter-widgets/controls",
      "model_module_version": "1.1.0",
      "model_name": "ButtonStyleModel",
      "state": {}
     },
     "26c228e8836d4c2ab4d38e845d84b06e": {
      "model_module": "@jupyter-widgets/controls",
      "model_module_version": "1.1.0",
      "model_name": "ButtonStyleModel",
      "state": {}
     },
     "26de14cf89fb4a058ebbd27357adcf0a": {
      "model_module": "@jupyter-widgets/base",
      "model_module_version": "1.0.0",
      "model_name": "LayoutModel",
      "state": {
       "align_items": "stretch",
       "border": "solid",
       "display": "flex",
       "flex_flow": "row",
       "width": "50%"
      }
     },
     "26f4ab9ee5574b049ab717ed90fb8b01": {
      "model_module": "@jupyter-widgets/controls",
      "model_module_version": "1.1.0",
      "model_name": "ButtonModel",
      "state": {
       "button_style": "warning",
       "description": "28",
       "layout": "IPY_MODEL_1d10072127cb4a32968374fdb7bd2479",
       "style": "IPY_MODEL_1cd53ac0d7054fef99bed1e691b86028"
      }
     },
     "274f532b51e543e78637abc1d4f13634": {
      "model_module": "@jupyter-widgets/controls",
      "model_module_version": "1.1.0",
      "model_name": "ButtonStyleModel",
      "state": {}
     },
     "2764bae2134b45f2990b0e105c0e641f": {
      "model_module": "@jupyter-widgets/controls",
      "model_module_version": "1.1.0",
      "model_name": "IntSliderModel",
      "state": {
       "description": "A too long description",
       "layout": "IPY_MODEL_7a43159cb1e54fbead61365f81b60df2",
       "style": "IPY_MODEL_9d1b3d687b2b46a2aab505e6fd7db57c"
      }
     },
     "283660f5d3cc48bdaf2b983b9a0347f7": {
      "model_module": "@jupyter-widgets/controls",
      "model_module_version": "1.1.0",
      "model_name": "SliderStyleModel",
      "state": {
       "description_width": ""
      }
     },
     "28644a21964441f4986bde27379ce02b": {
      "model_module": "@jupyter-widgets/base",
      "model_module_version": "1.0.0",
      "model_name": "LayoutModel",
      "state": {}
     },
     "287006c856694fb096d94ecf36da90a9": {
      "model_module": "@jupyter-widgets/controls",
      "model_module_version": "1.1.0",
      "model_name": "ButtonStyleModel",
      "state": {}
     },
     "28d175ed6d8841a29015139598b5f53d": {
      "model_module": "@jupyter-widgets/controls",
      "model_module_version": "1.1.0",
      "model_name": "SliderStyleModel",
      "state": {
       "description_width": ""
      }
     },
     "28ed73c3d23c4407bc044fcef7164ea1": {
      "model_module": "@jupyter-widgets/controls",
      "model_module_version": "1.1.0",
      "model_name": "ButtonModel",
      "state": {
       "description": "weight=1",
       "layout": "IPY_MODEL_a0e0e383ae7045be9ae71dc2066a64b1",
       "style": "IPY_MODEL_21ac207061194f0289ab9b20b59aa04e"
      }
     },
     "29152ab211d04971b2380c6423a9b96d": {
      "model_module": "@jupyter-widgets/controls",
      "model_module_version": "1.1.0",
      "model_name": "ButtonModel",
      "state": {
       "button_style": "warning",
       "description": "18",
       "layout": "IPY_MODEL_1d10072127cb4a32968374fdb7bd2479",
       "style": "IPY_MODEL_52babfc1e0544eebb82f7e3e1a31aade"
      }
     },
     "2973500750814744ba1c1fead86f19cf": {
      "model_module": "@jupyter-widgets/controls",
      "model_module_version": "1.1.0",
      "model_name": "ButtonModel",
      "state": {
       "button_style": "danger",
       "description": "battery",
       "layout": "IPY_MODEL_3f49a64624264d8abe1a00f80a342c21",
       "style": "IPY_MODEL_7089937f2d7b45638948859a9ccc398f"
      }
     },
     "29814439e9144be3aacdb2bfdd7a5349": {
      "model_module": "@jupyter-widgets/controls",
      "model_module_version": "1.1.0",
      "model_name": "ButtonModel",
      "state": {
       "button_style": "warning",
       "description": "27",
       "layout": "IPY_MODEL_86c93170059349499a5f76156cbd8cdf",
       "style": "IPY_MODEL_f79b7ab5630e4514b4b76e9700d1c127"
      }
     },
     "299c3dd0d01849af9a514fa35747f40a": {
      "model_module": "@jupyter-widgets/controls",
      "model_module_version": "1.1.0",
      "model_name": "ButtonModel",
      "state": {
       "button_style": "warning",
       "description": "36",
       "layout": "IPY_MODEL_86c93170059349499a5f76156cbd8cdf",
       "style": "IPY_MODEL_0de0a4ede1704419991adbf8320b84f9"
      }
     },
     "29adffe70a9b45cdaa10c18e85821647": {
      "model_module": "@jupyter-widgets/controls",
      "model_module_version": "1.1.0",
      "model_name": "ButtonStyleModel",
      "state": {}
     },
     "29dc52c93a99467b8f7a8107e8a781b7": {
      "model_module": "@jupyter-widgets/controls",
      "model_module_version": "1.1.0",
      "model_name": "ButtonStyleModel",
      "state": {}
     },
     "2a476fe0a9b345a7910c3084546ae4ff": {
      "model_module": "@jupyter-widgets/base",
      "model_module_version": "1.0.0",
      "model_name": "LayoutModel",
      "state": {}
     },
     "2a930140bcea421d8d09fcf63f00632e": {
      "model_module": "@jupyter-widgets/base",
      "model_module_version": "1.0.0",
      "model_name": "LayoutModel",
      "state": {}
     },
     "2aa917f6da45476d91d52f08c93cee50": {
      "model_module": "@jupyter-widgets/base",
      "model_module_version": "1.0.0",
      "model_name": "LayoutModel",
      "state": {}
     },
     "2ac593bcbc834127a2213bed1882b0f5": {
      "model_module": "@jupyter-widgets/controls",
      "model_module_version": "1.1.0",
      "model_name": "BoxModel",
      "state": {
       "children": [
        "IPY_MODEL_15d81264f58a4fd4a0ba36ed5b418a94",
        "IPY_MODEL_3e50f5d4c6e240e8b698acfe69564df9",
        "IPY_MODEL_0d349dc58d7c43569ac3140b94345be3",
        "IPY_MODEL_d8bf78dd2ed14029a2a037d20df8d376"
       ],
       "layout": "IPY_MODEL_c393f4a90d3440c2ae259b6f1d3ad83f"
      }
     },
     "2adeb1226af14019b73c4de8a28a23cf": {
      "model_module": "@jupyter-widgets/controls",
      "model_module_version": "1.1.0",
      "model_name": "ButtonStyleModel",
      "state": {}
     },
     "2b83e258eb0f4fe58fc14e148c9592a6": {
      "model_module": "@jupyter-widgets/controls",
      "model_module_version": "1.1.0",
      "model_name": "ButtonModel",
      "state": {
       "button_style": "warning",
       "description": "25",
       "layout": "IPY_MODEL_1d10072127cb4a32968374fdb7bd2479",
       "style": "IPY_MODEL_76a10bc409c841049e3ba6d210745d03"
      }
     },
     "2b8836c60b7b4421bb27c3508e57d4c8": {
      "model_module": "@jupyter-widgets/controls",
      "model_module_version": "1.1.0",
      "model_name": "ButtonStyleModel",
      "state": {}
     },
     "2bb63aabea6848c48b6787657136f8bd": {
      "model_module": "@jupyter-widgets/controls",
      "model_module_version": "1.1.0",
      "model_name": "ButtonModel",
      "state": {
       "button_style": "warning",
       "description": "22",
       "layout": "IPY_MODEL_616560d2e26b4bee8b7c903f483241f8",
       "style": "IPY_MODEL_6f84475c4395452ba31934f7e471fb54"
      }
     },
     "2c10a4e535fa4e7c8de4bee4c7d13a36": {
      "model_module": "@jupyter-widgets/controls",
      "model_module_version": "1.1.0",
      "model_name": "BoxModel",
      "state": {
       "children": [
        "IPY_MODEL_a83bd91a91aa4f1296fa15e4f5d7399b",
        "IPY_MODEL_f7c78de217ba4d87a546f10e56d25822",
        "IPY_MODEL_0c4209d609b44c0bbb70b19a7740ee48"
       ],
       "layout": "IPY_MODEL_75f570964a454d91a5d7bce6f759dab9"
      }
     },
     "2c6b7d7eddaa4594815a64122e7bda7e": {
      "model_module": "@jupyter-widgets/controls",
      "model_module_version": "1.1.0",
      "model_name": "ButtonStyleModel",
      "state": {}
     },
     "2c710044878d4a40b3e43f8b845e8aa8": {
      "model_module": "@jupyter-widgets/base",
      "model_module_version": "1.0.0",
      "model_name": "LayoutModel",
      "state": {
       "flex": "1 1 auto",
       "width": "auto"
      }
     },
     "2cb621fbacc74976b23ce11629c9e7ac": {
      "model_module": "@jupyter-widgets/controls",
      "model_module_version": "1.1.0",
      "model_name": "ButtonStyleModel",
      "state": {}
     },
     "2cb6fca3320e410f940c6af542f1df61": {
      "model_module": "@jupyter-widgets/controls",
      "model_module_version": "1.1.0",
      "model_name": "DescriptionStyleModel",
      "state": {
       "description_width": ""
      }
     },
     "2cc75e7a4e234adfa5dd08e9fadd46c8": {
      "model_module": "@jupyter-widgets/controls",
      "model_module_version": "1.1.0",
      "model_name": "DescriptionStyleModel",
      "state": {
       "description_width": ""
      }
     },
     "2d3753601014422094cd7ea237bc449a": {
      "model_module": "@jupyter-widgets/base",
      "model_module_version": "1.0.0",
      "model_name": "LayoutModel",
      "state": {
       "flex": "2 1 0%",
       "width": "auto"
      }
     },
     "2d781ef4328e4408bc134cc7eab5ba2c": {
      "model_module": "@jupyter-widgets/controls",
      "model_module_version": "1.1.0",
      "model_name": "ButtonModel",
      "state": {
       "description": "weight=2",
       "layout": "IPY_MODEL_e2c92e00770542dc94198d3bdd96f124",
       "style": "IPY_MODEL_554f53c01044495e9f57672b2d00cf75"
      }
     },
     "2dbc5b27b5a84121af55dee0f1d248f6": {
      "model_module": "@jupyter-widgets/controls",
      "model_module_version": "1.1.0",
      "model_name": "ButtonModel",
      "state": {
       "button_style": "warning",
       "description": "33",
       "layout": "IPY_MODEL_86c93170059349499a5f76156cbd8cdf",
       "style": "IPY_MODEL_acd1c1b8563348fba435e7bbe312e87a"
      }
     },
     "2e282e6da10d4c5398a43bb3dce8de3a": {
      "model_module": "@jupyter-widgets/controls",
      "model_module_version": "1.1.0",
      "model_name": "ButtonModel",
      "state": {
       "button_style": "warning",
       "description": "14",
       "layout": "IPY_MODEL_1d10072127cb4a32968374fdb7bd2479",
       "style": "IPY_MODEL_a205d295a5364d34893404a91b1527d5"
      }
     },
     "2e6fef9afefd4790bf78349aefbfb5db": {
      "model_module": "@jupyter-widgets/controls",
      "model_module_version": "1.1.0",
      "model_name": "LabelModel",
      "state": {
       "layout": "IPY_MODEL_803ee2ec105f4d6286128001803dc0cd",
       "style": "IPY_MODEL_2cb6fca3320e410f940c6af542f1df61",
       "value": "\\(e=mc^2\\)"
      }
     },
     "2e7d5587673b42ff981bea38d4a1f472": {
      "model_module": "@jupyter-widgets/controls",
      "model_module_version": "1.1.0",
      "model_name": "ButtonStyleModel",
      "state": {}
     },
     "2eb1f3c746ca44d9a2a361944f3988b0": {
      "model_module": "@jupyter-widgets/base",
      "model_module_version": "1.0.0",
      "model_name": "LayoutModel",
      "state": {
       "align_items": "stretch",
       "border": "solid",
       "display": "flex",
       "flex_flow": "column",
       "width": "50%"
      }
     },
     "2eb494f162f94fbca711a580594ea9dc": {
      "model_module": "@jupyter-widgets/controls",
      "model_module_version": "1.1.0",
      "model_name": "ButtonModel",
      "state": {
       "button_style": "warning",
       "description": "9",
       "layout": "IPY_MODEL_2609a17cced145ad91b86d4ddfbd3bfd",
       "style": "IPY_MODEL_3900e10fa2ee4d72b03a96578b0d8708"
      }
     },
     "2f644c36b4274022b9053fd3610ffcc6": {
      "model_module": "@jupyter-widgets/controls",
      "model_module_version": "1.1.0",
      "model_name": "ButtonStyleModel",
      "state": {}
     },
     "2f655f34e9144dbd8e84f23297a04258": {
      "model_module": "@jupyter-widgets/controls",
      "model_module_version": "1.1.0",
      "model_name": "SliderStyleModel",
      "state": {
       "description_width": "initial"
      }
     },
     "2f65966be1d2480fa60e34fc61858b2f": {
      "model_module": "@jupyter-widgets/base",
      "model_module_version": "1.0.0",
      "model_name": "LayoutModel",
      "state": {}
     },
     "2fe7c89e78d74ecdb84f9a00484ce7bd": {
      "model_module": "@jupyter-widgets/controls",
      "model_module_version": "1.1.0",
      "model_name": "ButtonStyleModel",
      "state": {}
     },
     "3074b57a5eb44bbd9d2fe44cd261a742": {
      "model_module": "@jupyter-widgets/controls",
      "model_module_version": "1.1.0",
      "model_name": "ButtonModel",
      "state": {
       "button_style": "warning",
       "description": "30",
       "layout": "IPY_MODEL_616560d2e26b4bee8b7c903f483241f8",
       "style": "IPY_MODEL_699c865fdd3841cda9aa7c4564345ec4"
      }
     },
     "30ac86fb07274d679e1525fd203ba0b7": {
      "model_module": "@jupyter-widgets/controls",
      "model_module_version": "1.1.0",
      "model_name": "LabelModel",
      "state": {
       "layout": "IPY_MODEL_3f4da8f93f77415bba480a230ab0a5fb",
       "style": "IPY_MODEL_5b43d9737fdf4f28b655a1e61dfdb22f",
       "value": "Egg style"
      }
     },
     "310ed406907641baa639278762835d72": {
      "model_module": "@jupyter-widgets/controls",
      "model_module_version": "1.1.0",
      "model_name": "ButtonStyleModel",
      "state": {}
     },
     "3168e8996b9646438c3da41646163b95": {
      "model_module": "@jupyter-widgets/controls",
      "model_module_version": "1.1.0",
      "model_name": "ButtonModel",
      "state": {
       "button_style": "warning",
       "description": "2",
       "layout": "IPY_MODEL_86c93170059349499a5f76156cbd8cdf",
       "style": "IPY_MODEL_eb519ea549d74d80a53b7fde8954f646"
      }
     },
     "317600764dc04154bb1f334624b49294": {
      "model_module": "@jupyter-widgets/controls",
      "model_module_version": "1.1.0",
      "model_name": "HBoxModel",
      "state": {
       "children": [
        "IPY_MODEL_02205590ca884577a4fb9d9cdda1a114",
        "IPY_MODEL_34850e23f9d1469f9f68cb19fe1d6c1a"
       ],
       "layout": "IPY_MODEL_7fbcfe1b6aab4debb6267f224ce9badb"
      }
     },
     "31a230eae331422f8f5c8cf0b43ba0d8": {
      "model_module": "@jupyter-widgets/controls",
      "model_module_version": "1.1.0",
      "model_name": "ButtonModel",
      "state": {
       "button_style": "warning",
       "description": "23",
       "layout": "IPY_MODEL_1d10072127cb4a32968374fdb7bd2479",
       "style": "IPY_MODEL_6eeb15aeba2b4bcb8ad73e2e89fec4a7"
      }
     },
     "31d6a83087ed4776a42caa5e3aa39826": {
      "model_module": "@jupyter-widgets/base",
      "model_module_version": "1.0.0",
      "model_name": "LayoutModel",
      "state": {}
     },
     "3245b9e93a9e411a950d348a7b1024ca": {
      "model_module": "@jupyter-widgets/controls",
      "model_module_version": "1.1.0",
      "model_name": "ButtonStyleModel",
      "state": {}
     },
     "32b862ec82374bf392d5381fc8fdb813": {
      "model_module": "@jupyter-widgets/controls",
      "model_module_version": "1.1.0",
      "model_name": "ButtonStyleModel",
      "state": {}
     },
     "32e6a8d4fc674d9983cd81cdf57e1a0c": {
      "model_module": "@jupyter-widgets/controls",
      "model_module_version": "1.1.0",
      "model_name": "ButtonModel",
      "state": {
       "button_style": "warning",
       "description": "4",
       "layout": "IPY_MODEL_1d10072127cb4a32968374fdb7bd2479",
       "style": "IPY_MODEL_0a2f07fe226142b9b850dfd99dc6042a"
      }
     },
     "335916aff5544af485be9cb623197cf2": {
      "model_module": "@jupyter-widgets/controls",
      "model_module_version": "1.1.0",
      "model_name": "SliderStyleModel",
      "state": {
       "description_width": "initial"
      }
     },
     "33771e0b97014b8f8f212df5e06734e8": {
      "model_module": "@jupyter-widgets/controls",
      "model_module_version": "1.1.0",
      "model_name": "ButtonStyleModel",
      "state": {}
     },
     "33980c241e614b6e8c80d1b582637c77": {
      "model_module": "@jupyter-widgets/controls",
      "model_module_version": "1.1.0",
      "model_name": "ButtonModel",
      "state": {
       "button_style": "warning",
       "description": "7",
       "layout": "IPY_MODEL_1d10072127cb4a32968374fdb7bd2479",
       "style": "IPY_MODEL_f14462339316411b973ea1c520418efe"
      }
     },
     "33a78844da0d4177bb96a16468bea759": {
      "model_module": "@jupyter-widgets/base",
      "model_module_version": "1.0.0",
      "model_name": "LayoutModel",
      "state": {
       "align_items": "stretch",
       "border": "solid",
       "display": "flex",
       "flex_flow": "column",
       "width": "50%"
      }
     },
     "33d4167d34d44855baed8eb24798d645": {
      "model_module": "@jupyter-widgets/controls",
      "model_module_version": "1.1.0",
      "model_name": "ButtonStyleModel",
      "state": {}
     },
     "33e3ea8dc8d04462b86cbf5d6a52813d": {
      "model_module": "@jupyter-widgets/base",
      "model_module_version": "1.0.0",
      "model_name": "LayoutModel",
      "state": {}
     },
     "33fa2122a7334531afeb6cf952e5e5a6": {
      "model_module": "@jupyter-widgets/controls",
      "model_module_version": "1.1.0",
      "model_name": "ButtonStyleModel",
      "state": {}
     },
     "34850e23f9d1469f9f68cb19fe1d6c1a": {
      "model_module": "@jupyter-widgets/controls",
      "model_module_version": "1.1.0",
      "model_name": "IntSliderModel",
      "state": {
       "layout": "IPY_MODEL_d729dc20040e4037827adecf08dc107c",
       "style": "IPY_MODEL_283660f5d3cc48bdaf2b983b9a0347f7"
      }
     },
     "34ba4ca482ad41ea9b6839310767574b": {
      "model_module": "@jupyter-widgets/controls",
      "model_module_version": "1.1.0",
      "model_name": "ButtonStyleModel",
      "state": {}
     },
     "34c9114f9e8f4375abd1bae851c4a3a5": {
      "model_module": "@jupyter-widgets/controls",
      "model_module_version": "1.1.0",
      "model_name": "ButtonStyleModel",
      "state": {}
     },
     "34f5593bfa464542959751bc48b7e585": {
      "model_module": "@jupyter-widgets/controls",
      "model_module_version": "1.1.0",
      "model_name": "ButtonModel",
      "state": {
       "button_style": "warning",
       "description": "19",
       "layout": "IPY_MODEL_616560d2e26b4bee8b7c903f483241f8",
       "style": "IPY_MODEL_64371b139b524867b8e72ab573b565cd"
      }
     },
     "3542efa639e941ce88d325efd96ed61a": {
      "model_module": "@jupyter-widgets/controls",
      "model_module_version": "1.1.0",
      "model_name": "ButtonModel",
      "state": {
       "description": "battery",
       "layout": "IPY_MODEL_5899d8f01fbe461ea321a4f88c590a15",
       "style": "IPY_MODEL_a9f2b98e737a4871b67257ead7a684a5"
      }
     },
     "354c8e0eba8c465bbeaa0b4e382d471e": {
      "model_module": "@jupyter-widgets/controls",
      "model_module_version": "1.1.0",
      "model_name": "ButtonStyleModel",
      "state": {}
     },
     "35a504b1e8694fd496cc87f4c5d1fc97": {
      "model_module": "@jupyter-widgets/base",
      "model_module_version": "1.0.0",
      "model_name": "LayoutModel",
      "state": {
       "align_items": "stretch",
       "border": "solid",
       "display": "flex",
       "flex_flow": "row",
       "width": "50%"
      }
     },
     "3614723fabfe46d9af33152b30efbcdd": {
      "model_module": "@jupyter-widgets/controls",
      "model_module_version": "1.1.0",
      "model_name": "DescriptionStyleModel",
      "state": {
       "description_width": ""
      }
     },
     "3692fd149d7b4b7993f4215dc144b7d4": {
      "model_module": "@jupyter-widgets/base",
      "model_module_version": "1.0.0",
      "model_name": "LayoutModel",
      "state": {}
     },
     "36a1ac29c8d449ecb0f8a68c6c98580c": {
      "model_module": "@jupyter-widgets/controls",
      "model_module_version": "1.1.0",
      "model_name": "ButtonModel",
      "state": {
       "button_style": "danger",
       "description": "horse",
       "layout": "IPY_MODEL_c7338576bee04316bd2700f1c493a0f7",
       "style": "IPY_MODEL_e1c4217b7eaa410a98cf3ab92fb9c96c"
      }
     },
     "36fd4ad8839c4208af2e75ec74575f67": {
      "model_module": "@jupyter-widgets/base",
      "model_module_version": "1.0.0",
      "model_name": "LayoutModel",
      "state": {}
     },
     "370ccf86c6e64277bd8f4d43cb2f4afc": {
      "model_module": "@jupyter-widgets/controls",
      "model_module_version": "1.1.0",
      "model_name": "ButtonStyleModel",
      "state": {}
     },
     "374a63f6a99e44299f6fe2986d1fa6af": {
      "model_module": "@jupyter-widgets/controls",
      "model_module_version": "1.1.0",
      "model_name": "BoxModel",
      "state": {
       "children": [
        "IPY_MODEL_5ea347f0a5af4822948bd8adfe061cac",
        "IPY_MODEL_13f1917bed0247dcb23c705a6e08307a"
       ],
       "layout": "IPY_MODEL_b73dcd51c0a84653a2a1d0fc2da4f240"
      }
     },
     "37d9f71b9ed043e48cd9318ee5133779": {
      "model_module": "@jupyter-widgets/controls",
      "model_module_version": "1.1.0",
      "model_name": "LabelModel",
      "state": {
       "layout": "IPY_MODEL_4a282fe84af443ddbc18638f25f1b2aa",
       "style": "IPY_MODEL_f1ea935c68574f75a7be4e1548c1065e",
       "value": "\\(e=mc^2\\)"
      }
     },
     "384591c27dba454a8167ec6a914f3d4c": {
      "model_module": "@jupyter-widgets/base",
      "model_module_version": "1.0.0",
      "model_name": "LayoutModel",
      "state": {}
     },
     "386ba40f1dd847568beb6e7b7c81599b": {
      "model_module": "@jupyter-widgets/base",
      "model_module_version": "1.0.0",
      "model_name": "LayoutModel",
      "state": {}
     },
     "38ad76e69214447d84171d713b4948e0": {
      "model_module": "@jupyter-widgets/controls",
      "model_module_version": "1.1.0",
      "model_name": "ButtonModel",
      "state": {
       "button_style": "warning",
       "description": "20",
       "layout": "IPY_MODEL_2609a17cced145ad91b86d4ddfbd3bfd",
       "style": "IPY_MODEL_3e38785f21a740c889f4c4d608f7fd38"
      }
     },
     "38c08caf3e334fe3bff0a802d703e117": {
      "model_module": "@jupyter-widgets/controls",
      "model_module_version": "1.1.0",
      "model_name": "ButtonModel",
      "state": {
       "button_style": "warning",
       "description": "2",
       "layout": "IPY_MODEL_2609a17cced145ad91b86d4ddfbd3bfd",
       "style": "IPY_MODEL_e8a8584b16fb444bb48194ddb4eb9e4e"
      }
     },
     "38d46f1f2ccf47d78142b38f6cea43a0": {
      "model_module": "@jupyter-widgets/controls",
      "model_module_version": "1.1.0",
      "model_name": "ButtonModel",
      "state": {
       "button_style": "warning",
       "description": "16",
       "layout": "IPY_MODEL_1d10072127cb4a32968374fdb7bd2479",
       "style": "IPY_MODEL_19ade981e73d4df4a4fe7f652bc46798"
      }
     },
     "38e605f60ee24d778110f3ec8289d4c2": {
      "model_module": "@jupyter-widgets/controls",
      "model_module_version": "1.1.0",
      "model_name": "ButtonModel",
      "state": {
       "button_style": "warning",
       "description": "5",
       "layout": "IPY_MODEL_86c93170059349499a5f76156cbd8cdf",
       "style": "IPY_MODEL_519d2b391cb344eba7ccbfd9febfecc3"
      }
     },
     "3900e10fa2ee4d72b03a96578b0d8708": {
      "model_module": "@jupyter-widgets/controls",
      "model_module_version": "1.1.0",
      "model_name": "ButtonStyleModel",
      "state": {}
     },
     "3904da86e1be430bb413955cf71fc254": {
      "model_module": "@jupyter-widgets/controls",
      "model_module_version": "1.1.0",
      "model_name": "BoxModel",
      "state": {
       "children": [
        "IPY_MODEL_b76fff8d717b4362b1f5c48ee7879997",
        "IPY_MODEL_a7936a976466407394f5696013ff4721",
        "IPY_MODEL_07160c290135428dbe8e272d937f7550",
        "IPY_MODEL_fb74280ca63843f5bb3aac9d06dfa625"
       ],
       "layout": "IPY_MODEL_c2d578a0dad64b10b38e893df3ea8d6e"
      }
     },
     "3905a2daa1084809bcb136d6d5a6d8b3": {
      "model_module": "@jupyter-widgets/base",
      "model_module_version": "1.0.0",
      "model_name": "LayoutModel",
      "state": {}
     },
     "391a36a59a854ea98ef503c492201ac3": {
      "model_module": "@jupyter-widgets/controls",
      "model_module_version": "1.1.0",
      "model_name": "ButtonModel",
      "state": {
       "button_style": "warning",
       "description": "24",
       "layout": "IPY_MODEL_1d10072127cb4a32968374fdb7bd2479",
       "style": "IPY_MODEL_f37b8c8dc72447418fdf4f8463238e9e"
      }
     },
     "39530e2c3f574a33b11afd7dec33604e": {
      "model_module": "@jupyter-widgets/controls",
      "model_module_version": "1.1.0",
      "model_name": "ButtonModel",
      "state": {
       "description": "(50% width, 80px height) button",
       "layout": "IPY_MODEL_9ddf859d43704d01a269a4f8eb8ea780",
       "style": "IPY_MODEL_0f383d09470f46a4a22fec93da64d6fe"
      }
     },
     "3958029d40db4179801c7efad0518acf": {
      "model_module": "@jupyter-widgets/base",
      "model_module_version": "1.0.0",
      "model_name": "LayoutModel",
      "state": {}
     },
     "39735fa0eed84a14ab716fa1f992cd06": {
      "model_module": "@jupyter-widgets/controls",
      "model_module_version": "1.1.0",
      "model_name": "ButtonModel",
      "state": {
       "button_style": "danger",
       "description": "Danger Button",
       "layout": "IPY_MODEL_be64f14ef5c541beb40fb63b319dd612",
       "style": "IPY_MODEL_772628fed38346d4be6339861a20adb5"
      }
     },
     "399c2e2292b94478b56fe2f83b42033e": {
      "model_module": "@jupyter-widgets/controls",
      "model_module_version": "1.1.0",
      "model_name": "ButtonStyleModel",
      "state": {}
     },
     "39aee62714c247eeb116d97bb6aa7e31": {
      "model_module": "@jupyter-widgets/controls",
      "model_module_version": "1.1.0",
      "model_name": "BoxModel",
      "state": {
       "children": [
        "IPY_MODEL_4666e90997084ffebe519d20bb1bffb0",
        "IPY_MODEL_09c47efc533d42ce8554f376118c829f",
        "IPY_MODEL_d019b13dd8454aefb8a9523083a10707",
        "IPY_MODEL_4cb181459a6340d1bd3b6b3db68f7a23"
       ],
       "layout": "IPY_MODEL_2eb1f3c746ca44d9a2a361944f3988b0"
      }
     },
     "39f10ac696a2444b89ff76ed0c4a1bd1": {
      "model_module": "@jupyter-widgets/controls",
      "model_module_version": "1.1.0",
      "model_name": "ButtonStyleModel",
      "state": {}
     },
     "3ad0cbfd365a431787af4b15cd2f423f": {
      "model_module": "@jupyter-widgets/controls",
      "model_module_version": "1.1.0",
      "model_name": "ButtonModel",
      "state": {
       "description": "staple",
       "layout": "IPY_MODEL_a89a3fa8e69f47d7ac2ee4df32f48e99",
       "style": "IPY_MODEL_6977ab1dfb394ffea855230d6b789a5f"
      }
     },
     "3ae7d478dc1c474bbce2988475a483d7": {
      "model_module": "@jupyter-widgets/controls",
      "model_module_version": "1.1.0",
      "model_name": "ButtonModel",
      "state": {
       "button_style": "warning",
       "description": "38",
       "layout": "IPY_MODEL_1d10072127cb4a32968374fdb7bd2479",
       "style": "IPY_MODEL_ea29e566694e46f78dc084f14dd904e7"
      }
     },
     "3b68ff56f755412383b3007cbd7fbf30": {
      "model_module": "@jupyter-widgets/controls",
      "model_module_version": "1.1.0",
      "model_name": "ButtonModel",
      "state": {
       "button_style": "warning",
       "description": "39",
       "layout": "IPY_MODEL_2609a17cced145ad91b86d4ddfbd3bfd",
       "style": "IPY_MODEL_25f8261fc3234ff091881f89fb2dc284"
      }
     },
     "3b9b03c870344e2a9421f860b854704e": {
      "model_module": "@jupyter-widgets/base",
      "model_module_version": "1.0.0",
      "model_name": "LayoutModel",
      "state": {
       "flex": "2 1 auto",
       "width": "auto"
      }
     },
     "3c1931efd1d14ced9622a0f216438cc8": {
      "model_module": "@jupyter-widgets/controls",
      "model_module_version": "1.1.0",
      "model_name": "DescriptionStyleModel",
      "state": {
       "description_width": ""
      }
     },
     "3c29ea4e013842289fa79fdde17b67d2": {
      "model_module": "@jupyter-widgets/controls",
      "model_module_version": "1.1.0",
      "model_name": "ButtonModel",
      "state": {
       "button_style": "danger",
       "description": "Danger Button",
       "layout": "IPY_MODEL_c5685b2d4a184555aff02b8d5c18bdb4",
       "style": "IPY_MODEL_1924fb1cda9b4a418cc520cc604b4aeb"
      }
     },
     "3c3623d32b83444ba76f049d987f81e3": {
      "model_module": "@jupyter-widgets/controls",
      "model_module_version": "1.1.0",
      "model_name": "ButtonStyleModel",
      "state": {}
     },
     "3cdcccc5301a48db9bd3a75fab5d58ca": {
      "model_module": "@jupyter-widgets/controls",
      "model_module_version": "1.1.0",
      "model_name": "TextareaModel",
      "state": {
       "layout": "IPY_MODEL_84c9c04f9b6542c3b122cc78a65ddfb9",
       "style": "IPY_MODEL_c95e17749b784923adaaf5f9c9141000"
      }
     },
     "3d5ec700e849482bb657ccb8b62898e8": {
      "model_module": "@jupyter-widgets/controls",
      "model_module_version": "1.1.0",
      "model_name": "ButtonModel",
      "state": {
       "button_style": "warning",
       "description": "38",
       "layout": "IPY_MODEL_616560d2e26b4bee8b7c903f483241f8",
       "style": "IPY_MODEL_0cc3aa070dcd485ea4385a693c1bb7d3"
      }
     },
     "3d6d73b0803c47c99781f8f5bd870104": {
      "model_module": "@jupyter-widgets/controls",
      "model_module_version": "1.1.0",
      "model_name": "ButtonModel",
      "state": {
       "button_style": "warning",
       "description": "30",
       "layout": "IPY_MODEL_86c93170059349499a5f76156cbd8cdf",
       "style": "IPY_MODEL_90fbc727b4564aa390c44ca5e957c356"
      }
     },
     "3dab232b405b43a58483e077e61bdbcc": {
      "model_module": "@jupyter-widgets/controls",
      "model_module_version": "1.1.0",
      "model_name": "HBoxModel",
      "state": {
       "children": [
        "IPY_MODEL_d7d7f989f8b14073b38926ad47009c5a",
        "IPY_MODEL_84447ea46574451f888023d1020d2f9c"
       ],
       "layout": "IPY_MODEL_28644a21964441f4986bde27379ce02b"
      }
     },
     "3de123c8cbe34ec185b392461cdb6c54": {
      "model_module": "@jupyter-widgets/controls",
      "model_module_version": "1.1.0",
      "model_name": "ButtonModel",
      "state": {
       "button_style": "warning",
       "description": "15",
       "layout": "IPY_MODEL_2609a17cced145ad91b86d4ddfbd3bfd",
       "style": "IPY_MODEL_a5e5b52458924b0bb6ca9762c52409b6"
      }
     },
     "3def1b87217a4e8c92e203756d2711bc": {
      "model_module": "@jupyter-widgets/controls",
      "model_module_version": "1.1.0",
      "model_name": "ButtonModel",
      "state": {
       "description": "weight=2",
       "layout": "IPY_MODEL_aac52a0aab854d8e8abc297c1983c9dc",
       "style": "IPY_MODEL_2225e13de06047a0a324ad4555fc0db5"
      }
     },
     "3dfd668465e440118f1564a33f4c74e4": {
      "model_module": "@jupyter-widgets/controls",
      "model_module_version": "1.1.0",
      "model_name": "ButtonModel",
      "state": {
       "description": "correct",
       "layout": "IPY_MODEL_d8fe3ef1a6a8463bae6d38c429f5ed42",
       "style": "IPY_MODEL_8f652531882e4c85a5394972768d3fbd"
      }
     },
     "3e38785f21a740c889f4c4d608f7fd38": {
      "model_module": "@jupyter-widgets/controls",
      "model_module_version": "1.1.0",
      "model_name": "ButtonStyleModel",
      "state": {}
     },
     "3e50f5d4c6e240e8b698acfe69564df9": {
      "model_module": "@jupyter-widgets/controls",
      "model_module_version": "1.1.0",
      "model_name": "ButtonModel",
      "state": {
       "button_style": "danger",
       "description": "horse",
       "layout": "IPY_MODEL_c366761f53664b9b868f37fc6573d759",
       "style": "IPY_MODEL_0fea4196c7644b2780466c0b8306251d"
      }
     },
     "3f10678c48bb4756be402df5892bf83a": {
      "model_module": "@jupyter-widgets/controls",
      "model_module_version": "1.1.0",
      "model_name": "ButtonModel",
      "state": {
       "description": "Custom color",
       "layout": "IPY_MODEL_84704b88881545b386f9b72783446bbf",
       "style": "IPY_MODEL_f88dee20c7b54c4a93b71787ec4d2e30"
      }
     },
     "3f49a64624264d8abe1a00f80a342c21": {
      "model_module": "@jupyter-widgets/base",
      "model_module_version": "1.0.0",
      "model_name": "LayoutModel",
      "state": {
       "width": "auto"
      }
     },
     "3f4da8f93f77415bba480a230ab0a5fb": {
      "model_module": "@jupyter-widgets/base",
      "model_module_version": "1.0.0",
      "model_name": "LayoutModel",
      "state": {}
     },
     "3f7bc0f4ffbb4072b8c559319289a99c": {
      "model_module": "@jupyter-widgets/controls",
      "model_module_version": "1.1.0",
      "model_name": "FloatTextModel",
      "state": {
       "layout": "IPY_MODEL_93ca3bf8f5bb4a0596eab63c0b600680",
       "step": null,
       "style": "IPY_MODEL_a0ca0c36e11c4ed2a8f822ac774437cf"
      }
     },
     "408c0990f51b4088965ec735547d9edf": {
      "model_module": "@jupyter-widgets/controls",
      "model_module_version": "1.1.0",
      "model_name": "ButtonModel",
      "state": {
       "description": "weight=2",
       "layout": "IPY_MODEL_5d92386cac3d452d8707e2b20b8a3091",
       "style": "IPY_MODEL_17c1b923cbbc41a48e937af846e96ca8"
      }
     },
     "40c385fe77bd4e1aabd6b6498d7ab15e": {
      "model_module": "@jupyter-widgets/controls",
      "model_module_version": "1.1.0",
      "model_name": "ButtonStyleModel",
      "state": {}
     },
     "40ffc9f6574749b1b8de840437770d2f": {
      "model_module": "@jupyter-widgets/controls",
      "model_module_version": "1.1.0",
      "model_name": "ButtonModel",
      "state": {
       "button_style": "warning",
       "description": "20",
       "layout": "IPY_MODEL_86c93170059349499a5f76156cbd8cdf",
       "style": "IPY_MODEL_d6cfa902402c4241a698ed4b8771fb74"
      }
     },
     "4142d55aad464e39822b7f70d9d49b39": {
      "model_module": "@jupyter-widgets/controls",
      "model_module_version": "1.1.0",
      "model_name": "VBoxModel",
      "state": {
       "children": [
        "IPY_MODEL_3dfd668465e440118f1564a33f4c74e4",
        "IPY_MODEL_531d416473434c0eaaa629aeabb005be"
       ],
       "layout": "IPY_MODEL_9757263eee1d4c3eb491103197390828"
      }
     },
     "4150f1c5df394d77940cd5528eefbef7": {
      "model_module": "@jupyter-widgets/controls",
      "model_module_version": "1.1.0",
      "model_name": "DescriptionStyleModel",
      "state": {
       "description_width": ""
      }
     },
     "4201890427b94b758e9eb886af0d7566": {
      "model_module": "@jupyter-widgets/controls",
      "model_module_version": "1.1.0",
      "model_name": "IntSliderModel",
      "state": {
       "layout": "IPY_MODEL_98e3083dc2294950a43e4c277eb14a04",
       "max": 60,
       "min": 40,
       "style": "IPY_MODEL_7a9ac0f37fa14022b63970f34f6b9bf7",
       "value": 40
      }
     },
     "42100ff802774b03b9a8e69fd0d0df2f": {
      "model_module": "@jupyter-widgets/controls",
      "model_module_version": "1.1.0",
      "model_name": "ButtonStyleModel",
      "state": {}
     },
     "4263b6f63d1948dc8a4d6ac8de41a03d": {
      "model_module": "@jupyter-widgets/controls",
      "model_module_version": "1.1.0",
      "model_name": "DescriptionStyleModel",
      "state": {
       "description_width": ""
      }
     },
     "42c5b4a9bec94fb5bbd57ce69e7c59f8": {
      "model_module": "@jupyter-widgets/controls",
      "model_module_version": "1.1.0",
      "model_name": "DescriptionStyleModel",
      "state": {
       "description_width": ""
      }
     },
     "436c9e85a6ee47eeb3868f7f9574c546": {
      "model_module": "@jupyter-widgets/controls",
      "model_module_version": "1.1.0",
      "model_name": "ButtonModel",
      "state": {
       "button_style": "warning",
       "description": "32",
       "layout": "IPY_MODEL_616560d2e26b4bee8b7c903f483241f8",
       "style": "IPY_MODEL_7de5217394fe493f9b9c84e720b49701"
      }
     },
     "43f7b740f832480eb087238ffc9c7d85": {
      "model_module": "@jupyter-widgets/base",
      "model_module_version": "1.0.0",
      "model_name": "LayoutModel",
      "state": {}
     },
     "448ab8f4a28842e487f4142371157af3": {
      "model_module": "@jupyter-widgets/base",
      "model_module_version": "1.0.0",
      "model_name": "LayoutModel",
      "state": {
       "height": "80px",
       "width": "50%"
      }
     },
     "448fccf4f6ab443c8d5bb806b9cc4815": {
      "model_module": "@jupyter-widgets/controls",
      "model_module_version": "1.1.0",
      "model_name": "ButtonModel",
      "state": {
       "button_style": "warning",
       "description": "26",
       "layout": "IPY_MODEL_2609a17cced145ad91b86d4ddfbd3bfd",
       "style": "IPY_MODEL_acf9f420d12f4d2f8de81a3e3baedfcb"
      }
     },
     "44c61e37e313419cb2878a92c08d212c": {
      "model_module": "@jupyter-widgets/controls",
      "model_module_version": "1.1.0",
      "model_name": "ButtonModel",
      "state": {
       "button_style": "warning",
       "description": "21",
       "layout": "IPY_MODEL_2609a17cced145ad91b86d4ddfbd3bfd",
       "style": "IPY_MODEL_5f3432a6d2e64224ade23fc9028e1f2a"
      }
     },
     "44d023299e0c4af19dec52109adb2109": {
      "model_module": "@jupyter-widgets/controls",
      "model_module_version": "1.1.0",
      "model_name": "ButtonStyleModel",
      "state": {}
     },
     "44fd90ce599e4422961655e2bcfa4046": {
      "model_module": "@jupyter-widgets/controls",
      "model_module_version": "1.1.0",
      "model_name": "IntSliderModel",
      "state": {
       "description": "\\(\\int_0^t f\\)",
       "layout": "IPY_MODEL_64bba450b39142ef87e00499ca6ecb07",
       "style": "IPY_MODEL_8adee3a6f1f0409dbc233f78393c756a"
      }
     },
     "45187f78492244acbdafbff605d128f1": {
      "model_module": "@jupyter-widgets/base",
      "model_module_version": "1.0.0",
      "model_name": "LayoutModel",
      "state": {}
     },
     "4625d8a4440b47b2ad95a84722e0de2c": {
      "model_module": "@jupyter-widgets/base",
      "model_module_version": "1.0.0",
      "model_name": "LayoutModel",
      "state": {}
     },
     "4666e90997084ffebe519d20bb1bffb0": {
      "model_module": "@jupyter-widgets/controls",
      "model_module_version": "1.1.0",
      "model_name": "ButtonModel",
      "state": {
       "button_style": "danger",
       "description": "correct",
       "layout": "IPY_MODEL_1e1fd102735342b8b1b0c3ce484e3628",
       "style": "IPY_MODEL_589afeb221384a0c8428b12999b9d3f2"
      }
     },
     "472d56b85109477eb9d55f3944d564d0": {
      "model_module": "@jupyter-widgets/controls",
      "model_module_version": "1.1.0",
      "model_name": "ButtonStyleModel",
      "state": {}
     },
     "4795390ab4964d26bcd7b56a9b583e43": {
      "model_module": "@jupyter-widgets/controls",
      "model_module_version": "1.1.0",
      "model_name": "ButtonStyleModel",
      "state": {}
     },
     "488ee290cffb481d89e6530e1258dced": {
      "model_module": "@jupyter-widgets/controls",
      "model_module_version": "1.1.0",
      "model_name": "ButtonStyleModel",
      "state": {}
     },
     "48a70b7e15a34a349ae21271bba2f1b1": {
      "model_module": "@jupyter-widgets/controls",
      "model_module_version": "1.1.0",
      "model_name": "ButtonStyleModel",
      "state": {}
     },
     "48b80f01817c432daedf5417f9612424": {
      "model_module": "@jupyter-widgets/base",
      "model_module_version": "1.0.0",
      "model_name": "LayoutModel",
      "state": {
       "flex": "2 1 auto",
       "width": "auto"
      }
     },
     "48c28ecf8ba54a329c6b551c647d7651": {
      "model_module": "@jupyter-widgets/controls",
      "model_module_version": "1.1.0",
      "model_name": "ButtonModel",
      "state": {
       "button_style": "warning",
       "description": "1",
       "layout": "IPY_MODEL_1d10072127cb4a32968374fdb7bd2479",
       "style": "IPY_MODEL_3c3623d32b83444ba76f049d987f81e3"
      }
     },
     "49237049f31d492dba4c5c0fe487bc78": {
      "model_module": "@jupyter-widgets/controls",
      "model_module_version": "1.1.0",
      "model_name": "ButtonModel",
      "state": {
       "description": "weight=1",
       "layout": "IPY_MODEL_9c6b6bd3db0042fe8a961559fbc3ae25",
       "style": "IPY_MODEL_0f15205e3fd647a5851882092398f15f"
      }
     },
     "4996f26142834a378b7ed7cc3a941f05": {
      "model_module": "@jupyter-widgets/controls",
      "model_module_version": "1.1.0",
      "model_name": "VBoxModel",
      "state": {
       "children": [
        "IPY_MODEL_fefbd7e119b04c1f9fb5290a98070844",
        "IPY_MODEL_a1c65eeb03fd4baea1f16897d365df27"
       ],
       "layout": "IPY_MODEL_f59486b65db144289a8496f814c1efc5"
      }
     },
     "4a0fbcac67e9450f9a7ab53d9a4e7bd2": {
      "model_module": "@jupyter-widgets/controls",
      "model_module_version": "1.1.0",
      "model_name": "ButtonModel",
      "state": {
       "button_style": "warning",
       "description": "2",
       "layout": "IPY_MODEL_616560d2e26b4bee8b7c903f483241f8",
       "style": "IPY_MODEL_776df2b13cd24636885852ae3a0745b7"
      }
     },
     "4a16075f176342a291372d4c317da9d3": {
      "model_module": "@jupyter-widgets/base",
      "model_module_version": "1.0.0",
      "model_name": "LayoutModel",
      "state": {
       "flex": "2 1 auto",
       "width": "auto"
      }
     },
     "4a282fe84af443ddbc18638f25f1b2aa": {
      "model_module": "@jupyter-widgets/base",
      "model_module_version": "1.0.0",
      "model_name": "LayoutModel",
      "state": {}
     },
     "4a318ff5b6764f88bee907cbc6ab8489": {
      "model_module": "@jupyter-widgets/controls",
      "model_module_version": "1.1.0",
      "model_name": "DescriptionStyleModel",
      "state": {
       "description_width": ""
      }
     },
     "4a539eacd90d472f90e3b6c87eeddf78": {
      "model_module": "@jupyter-widgets/base",
      "model_module_version": "1.0.0",
      "model_name": "LayoutModel",
      "state": {}
     },
     "4aeee26c12824662a5c702a014962325": {
      "model_module": "@jupyter-widgets/controls",
      "model_module_version": "1.1.0",
      "model_name": "ButtonModel",
      "state": {
       "description": "(50% width, 80px height) button",
       "layout": "IPY_MODEL_448ab8f4a28842e487f4142371157af3",
       "style": "IPY_MODEL_e47052bfc9974d40b6c6b167a685065a"
      }
     },
     "4ba6326177a1413480dcf5610295c554": {
      "model_module": "@jupyter-widgets/base",
      "model_module_version": "1.0.0",
      "model_name": "LayoutModel",
      "state": {
       "flex": "1 1 auto",
       "width": "auto"
      }
     },
     "4bc1dd15668e45be8ca92be6b12d5e58": {
      "model_module": "@jupyter-widgets/controls",
      "model_module_version": "1.1.0",
      "model_name": "ButtonModel",
      "state": {
       "description": "horse",
       "layout": "IPY_MODEL_66b4474973da4fb98145cc0114703723",
       "style": "IPY_MODEL_0c922727d5b84f8d83fb245bff63d2ea"
      }
     },
     "4c132c17fd4d442f9a007a27397d2f9b": {
      "model_module": "@jupyter-widgets/controls",
      "model_module_version": "1.1.0",
      "model_name": "ButtonStyleModel",
      "state": {}
     },
     "4c278d33d7a24eedbf5aca08a2b62025": {
      "model_module": "@jupyter-widgets/controls",
      "model_module_version": "1.1.0",
      "model_name": "VBoxModel",
      "state": {
       "children": [
        "IPY_MODEL_e664bdbb6a08479b8aef9b8e7a0579c3",
        "IPY_MODEL_4bc1dd15668e45be8ca92be6b12d5e58"
       ],
       "layout": "IPY_MODEL_d9a45cb023ea49df98748d985b1be01f"
      }
     },
     "4c2d648a95f94248ab2a0e3c1c1baabe": {
      "model_module": "@jupyter-widgets/controls",
      "model_module_version": "1.1.0",
      "model_name": "ButtonModel",
      "state": {
       "button_style": "warning",
       "description": "9",
       "layout": "IPY_MODEL_86c93170059349499a5f76156cbd8cdf",
       "style": "IPY_MODEL_1b969a5a33434407ac600334c65b44bd"
      }
     },
     "4c3bf7a475d742808314b5a1df88b1d2": {
      "model_module": "@jupyter-widgets/base",
      "model_module_version": "1.0.0",
      "model_name": "LayoutModel",
      "state": {}
     },
     "4c9a9883bd9f4186ad0c1232ef818c4d": {
      "model_module": "@jupyter-widgets/base",
      "model_module_version": "1.0.0",
      "model_name": "LayoutModel",
      "state": {
       "align_items": "stretch",
       "border": "solid",
       "display": "flex",
       "flex_flow": "column",
       "width": "50%"
      }
     },
     "4cb181459a6340d1bd3b6b3db68f7a23": {
      "model_module": "@jupyter-widgets/controls",
      "model_module_version": "1.1.0",
      "model_name": "ButtonModel",
      "state": {
       "button_style": "danger",
       "description": "staple",
       "layout": "IPY_MODEL_1e1fd102735342b8b1b0c3ce484e3628",
       "style": "IPY_MODEL_57a3df89147f46c9bdb77da63724971c"
      }
     },
     "4cc2c5d68369416fa1e0c69092aef7f0": {
      "model_module": "@jupyter-widgets/controls",
      "model_module_version": "1.1.0",
      "model_name": "ButtonStyleModel",
      "state": {}
     },
     "4cf51c472f70459895f751c145ea37cc": {
      "model_module": "@jupyter-widgets/controls",
      "model_module_version": "1.1.0",
      "model_name": "ButtonModel",
      "state": {
       "description": "weight=1",
       "layout": "IPY_MODEL_d2130f3e301b4cb9a4ca202a041384e6",
       "style": "IPY_MODEL_8fc24b43e4c9471e846ca6163b45998b"
      }
     },
     "4d264e0c05564486a9915059989c422e": {
      "model_module": "@jupyter-widgets/base",
      "model_module_version": "1.0.0",
      "model_name": "LayoutModel",
      "state": {
       "align_items": "stretch",
       "border": "solid",
       "display": "flex",
       "flex_flow": "row",
       "width": "50%"
      }
     },
     "4e6a91179f2749ffbb811f237feb7980": {
      "model_module": "@jupyter-widgets/controls",
      "model_module_version": "1.1.0",
      "model_name": "ButtonStyleModel",
      "state": {}
     },
     "4e78e99b94624044961f9a2aff616578": {
      "model_module": "@jupyter-widgets/base",
      "model_module_version": "1.0.0",
      "model_name": "LayoutModel",
      "state": {}
     },
     "4ed102fc1e4345809ee6c647d144deca": {
      "model_module": "@jupyter-widgets/controls",
      "model_module_version": "1.1.0",
      "model_name": "ButtonModel",
      "state": {
       "button_style": "warning",
       "description": "16",
       "layout": "IPY_MODEL_616560d2e26b4bee8b7c903f483241f8",
       "style": "IPY_MODEL_f053f96b74334d549a7542d7de120df7"
      }
     },
     "4ed86549c73c4e9aa2dd9a5afeb4fba8": {
      "model_module": "@jupyter-widgets/controls",
      "model_module_version": "1.1.0",
      "model_name": "ButtonStyleModel",
      "state": {}
     },
     "4f6539573ba34b319d2488958a52ed3a": {
      "model_module": "@jupyter-widgets/controls",
      "model_module_version": "1.1.0",
      "model_name": "ButtonStyleModel",
      "state": {}
     },
     "5020983ce43c44c3897411eb70214563": {
      "model_module": "@jupyter-widgets/base",
      "model_module_version": "1.0.0",
      "model_name": "LayoutModel",
      "state": {}
     },
     "5063f970b3624c3b9aa54e639cf768e4": {
      "model_module": "@jupyter-widgets/controls",
      "model_module_version": "1.1.0",
      "model_name": "ButtonModel",
      "state": {
       "button_style": "warning",
       "description": "2",
       "layout": "IPY_MODEL_1d10072127cb4a32968374fdb7bd2479",
       "style": "IPY_MODEL_f19df83f360f4ab5a8e768aaf5549ea3"
      }
     },
     "50690bc2a1d144fca277819682bb3690": {
      "model_module": "@jupyter-widgets/controls",
      "model_module_version": "1.1.0",
      "model_name": "ButtonStyleModel",
      "state": {}
     },
     "50d4df3519a646ebba0b185716aa8589": {
      "model_module": "@jupyter-widgets/base",
      "model_module_version": "1.0.0",
      "model_name": "LayoutModel",
      "state": {
       "align_items": "stretch",
       "border": "solid",
       "display": "flex",
       "flex_flow": "column",
       "width": "50%"
      }
     },
     "519d2b391cb344eba7ccbfd9febfecc3": {
      "model_module": "@jupyter-widgets/controls",
      "model_module_version": "1.1.0",
      "model_name": "ButtonStyleModel",
      "state": {}
     },
     "51ffd25947cf45d7bf0eca9951b399d0": {
      "model_module": "@jupyter-widgets/base",
      "model_module_version": "1.0.0",
      "model_name": "LayoutModel",
      "state": {
       "flex": "1 1 auto",
       "width": "auto"
      }
     },
     "522070754aad4c539faa50e8dc29db24": {
      "model_module": "@jupyter-widgets/controls",
      "model_module_version": "1.1.0",
      "model_name": "BoxModel",
      "state": {
       "children": [
        "IPY_MODEL_b37b29d2cf554cac958beb6083a9b23a",
        "IPY_MODEL_24c6f9ddb23b4cba8b0effc49cd157d0",
        "IPY_MODEL_e441e870fdec4b89930e9dee703f3c62",
        "IPY_MODEL_141c0bdcfdbb45d8be6d258e47f9bfa8"
       ],
       "layout": "IPY_MODEL_c0eaf176e94f44d8a1a7a39d0c247562"
      }
     },
     "52babfc1e0544eebb82f7e3e1a31aade": {
      "model_module": "@jupyter-widgets/controls",
      "model_module_version": "1.1.0",
      "model_name": "ButtonStyleModel",
      "state": {}
     },
     "52e800b7708c4d19bdf3f6bb6c4dc5ed": {
      "model_module": "@jupyter-widgets/base",
      "model_module_version": "1.0.0",
      "model_name": "LayoutModel",
      "state": {
       "flex": "1",
       "width": "auto"
      }
     },
     "52ece7873a464df889e6aaab4ab0f9d1": {
      "model_module": "@jupyter-widgets/controls",
      "model_module_version": "1.1.0",
      "model_name": "ButtonModel",
      "state": {
       "layout": "IPY_MODEL_5d1bf591aeb14d049dbec0ba829aa40b",
       "style": "IPY_MODEL_f88dee20c7b54c4a93b71787ec4d2e30"
      }
     },
     "52f8bb66598b4437a43f84857ecaed9d": {
      "model_module": "@jupyter-widgets/controls",
      "model_module_version": "1.1.0",
      "model_name": "SliderStyleModel",
      "state": {
       "description_width": "initial"
      }
     },
     "531d416473434c0eaaa629aeabb005be": {
      "model_module": "@jupyter-widgets/controls",
      "model_module_version": "1.1.0",
      "model_name": "ButtonModel",
      "state": {
       "description": "horse",
       "layout": "IPY_MODEL_36fd4ad8839c4208af2e75ec74575f67",
       "style": "IPY_MODEL_609e05ed848845838e3199c0ac7bbcf1"
      }
     },
     "5349334a1981439fafd1475c83be27e0": {
      "model_module": "@jupyter-widgets/controls",
      "model_module_version": "1.1.0",
      "model_name": "ButtonModel",
      "state": {
       "button_style": "danger",
       "description": "correct",
       "layout": "IPY_MODEL_6d65ff560e8b43efb20fdc71bbb7abd6",
       "style": "IPY_MODEL_204971ea3b024bc196cc095a06b8c309"
      }
     },
     "53c02a4636c74aeeb00675d3a6e2c6d6": {
      "model_module": "@jupyter-widgets/controls",
      "model_module_version": "1.1.0",
      "model_name": "BoxModel",
      "state": {
       "children": [
        "IPY_MODEL_9ee98a1fab9d4598912c9cf5d600048e",
        "IPY_MODEL_3def1b87217a4e8c92e203756d2711bc",
        "IPY_MODEL_1eccb214247845ea89cb994eeb0f7082"
       ],
       "layout": "IPY_MODEL_35a504b1e8694fd496cc87f4c5d1fc97"
      }
     },
     "54050f0aaec84eea9ff4bf4a9c325b07": {
      "model_module": "@jupyter-widgets/controls",
      "model_module_version": "1.1.0",
      "model_name": "ButtonModel",
      "state": {
       "button_style": "warning",
       "description": "18",
       "layout": "IPY_MODEL_86c93170059349499a5f76156cbd8cdf",
       "style": "IPY_MODEL_99dba6072ddf4bbaa966422e7097d49d"
      }
     },
     "54678e6dcb9b450087a0b555e6073f71": {
      "model_module": "@jupyter-widgets/controls",
      "model_module_version": "1.1.0",
      "model_name": "ButtonStyleModel",
      "state": {}
     },
     "547060654ee1494d990849fce51a42ed": {
      "model_module": "@jupyter-widgets/base",
      "model_module_version": "1.0.0",
      "model_name": "LayoutModel",
      "state": {}
     },
     "5471018df5a94fbc80ebfb86c2a9c7ba": {
      "model_module": "@jupyter-widgets/base",
      "model_module_version": "1.0.0",
      "model_name": "LayoutModel",
      "state": {}
     },
     "54768dc1efb4403b859b82939522a7f4": {
      "model_module": "@jupyter-widgets/controls",
      "model_module_version": "1.1.0",
      "model_name": "ButtonStyleModel",
      "state": {}
     },
     "5485f6a5b84d4fbf9425c19995c82f97": {
      "model_module": "@jupyter-widgets/base",
      "model_module_version": "1.0.0",
      "model_name": "LayoutModel",
      "state": {}
     },
     "54a97a5c94c64d06b5c2df08a4785fff": {
      "model_module": "@jupyter-widgets/controls",
      "model_module_version": "1.1.0",
      "model_name": "BoxModel",
      "state": {
       "children": [
        "IPY_MODEL_0e2c87a9caf7415e8394467aebd08eae",
        "IPY_MODEL_36a1ac29c8d449ecb0f8a68c6c98580c",
        "IPY_MODEL_f6ca1f989ef6416ea22d35c2bb7c97a2",
        "IPY_MODEL_d4ce337fca8e4de5b3b3b36859687ae9"
       ],
       "layout": "IPY_MODEL_50d4df3519a646ebba0b185716aa8589"
      }
     },
     "54ea8f052a9b46b3b6a4e87455cc953e": {
      "model_module": "@jupyter-widgets/controls",
      "model_module_version": "1.1.0",
      "model_name": "DescriptionStyleModel",
      "state": {
       "description_width": ""
      }
     },
     "54fd3edafdfb4df48a3fe51fa48b309f": {
      "model_module": "@jupyter-widgets/controls",
      "model_module_version": "1.1.0",
      "model_name": "ButtonModel",
      "state": {
       "button_style": "warning",
       "description": "14",
       "layout": "IPY_MODEL_616560d2e26b4bee8b7c903f483241f8",
       "style": "IPY_MODEL_ab8bda73972b434082c9e0ba4a8a3f76"
      }
     },
     "554f53c01044495e9f57672b2d00cf75": {
      "model_module": "@jupyter-widgets/controls",
      "model_module_version": "1.1.0",
      "model_name": "ButtonStyleModel",
      "state": {}
     },
     "558f2c6f57f543a4b0ead83846433125": {
      "model_module": "@jupyter-widgets/base",
      "model_module_version": "1.0.0",
      "model_name": "LayoutModel",
      "state": {}
     },
     "55c161cf9a394e7396d7859fd36537b0": {
      "model_module": "@jupyter-widgets/base",
      "model_module_version": "1.0.0",
      "model_name": "LayoutModel",
      "state": {}
     },
     "55c2ad91ff184c609fc595985a53331b": {
      "model_module": "@jupyter-widgets/controls",
      "model_module_version": "1.1.0",
      "model_name": "ButtonModel",
      "state": {
       "button_style": "warning",
       "description": "31",
       "layout": "IPY_MODEL_1d10072127cb4a32968374fdb7bd2479",
       "style": "IPY_MODEL_54678e6dcb9b450087a0b555e6073f71"
      }
     },
     "55f4cb92fffc4e8ba540cbbf4f4aa15f": {
      "model_module": "@jupyter-widgets/controls",
      "model_module_version": "1.1.0",
      "model_name": "IntSliderModel",
      "state": {
       "layout": "IPY_MODEL_aaf0db2cd95647989787d2a00fd825c6",
       "max": 60,
       "min": 40,
       "style": "IPY_MODEL_82cecb45b34346e0a650a2b576f5f7e0",
       "value": 40
      }
     },
     "576da3648d5640769c2420d3f75fce00": {
      "model_module": "@jupyter-widgets/base",
      "model_module_version": "1.0.0",
      "model_name": "LayoutModel",
      "state": {
       "flex": "1 1 auto",
       "width": "auto"
      }
     },
     "57a3df89147f46c9bdb77da63724971c": {
      "model_module": "@jupyter-widgets/controls",
      "model_module_version": "1.1.0",
      "model_name": "ButtonStyleModel",
      "state": {}
     },
     "57da6ae2bb714f2d9ee114bcea1f696a": {
      "model_module": "@jupyter-widgets/base",
      "model_module_version": "1.0.0",
      "model_name": "LayoutModel",
      "state": {
       "align_items": "stretch",
       "border": "solid 2px",
       "display": "flex",
       "flex_flow": "column",
       "width": "50%"
      }
     },
     "5866b46efcb94e5f848f07c4265607c9": {
      "model_module": "@jupyter-widgets/controls",
      "model_module_version": "1.1.0",
      "model_name": "ButtonModel",
      "state": {
       "description": "Another button with the same layout",
       "layout": "IPY_MODEL_9ddf859d43704d01a269a4f8eb8ea780",
       "style": "IPY_MODEL_c5723a81ec044cd88f1f638871fe6bdd"
      }
     },
     "5899d8f01fbe461ea321a4f88c590a15": {
      "model_module": "@jupyter-widgets/base",
      "model_module_version": "1.0.0",
      "model_name": "LayoutModel",
      "state": {}
     },
     "589afeb221384a0c8428b12999b9d3f2": {
      "model_module": "@jupyter-widgets/controls",
      "model_module_version": "1.1.0",
      "model_name": "ButtonStyleModel",
      "state": {}
     },
     "590f63df2359429fb8cb88604a50b97f": {
      "model_module": "@jupyter-widgets/base",
      "model_module_version": "1.0.0",
      "model_name": "LayoutModel",
      "state": {
       "align_items": "stretch",
       "border": "solid",
       "display": "flex",
       "flex_flow": "row",
       "width": "50%"
      }
     },
     "5944c9fb8a58400f93ca111b886155d8": {
      "model_module": "@jupyter-widgets/controls",
      "model_module_version": "1.1.0",
      "model_name": "ButtonStyleModel",
      "state": {}
     },
     "597963f20f3f4639b73799e1b3412194": {
      "model_module": "@jupyter-widgets/controls",
      "model_module_version": "1.1.0",
      "model_name": "IntSliderModel",
      "state": {
       "description": "A too long description",
       "layout": "IPY_MODEL_2a476fe0a9b345a7910c3084546ae4ff",
       "style": "IPY_MODEL_335916aff5544af485be9cb623197cf2"
      }
     },
     "59eb5ce652cc4f50b5cd9da20bb1974f": {
      "model_module": "@jupyter-widgets/controls",
      "model_module_version": "1.1.0",
      "model_name": "ButtonModel",
      "state": {
       "description": "weight=1",
       "layout": "IPY_MODEL_976b72bae3c444ac83f10b2b0d93d166",
       "style": "IPY_MODEL_1c43cde0a29346018b4f47d9e32fb07e"
      }
     },
     "59f22ac0f15346b78af2970b049a4bcc": {
      "model_module": "@jupyter-widgets/controls",
      "model_module_version": "1.1.0",
      "model_name": "ButtonModel",
      "state": {
       "button_style": "warning",
       "description": "38",
       "layout": "IPY_MODEL_86c93170059349499a5f76156cbd8cdf",
       "style": "IPY_MODEL_fc77ce3cd6e342e2b28131ff8f6a3d2d"
      }
     },
     "5a08590152a34b74b9f4eb8759f3ba98": {
      "model_module": "@jupyter-widgets/controls",
      "model_module_version": "1.1.0",
      "model_name": "ButtonModel",
      "state": {
       "button_style": "warning",
       "description": "7",
       "layout": "IPY_MODEL_616560d2e26b4bee8b7c903f483241f8",
       "style": "IPY_MODEL_34c9114f9e8f4375abd1bae851c4a3a5"
      }
     },
     "5a6146d8f9eb48d3a0017834a644bf32": {
      "model_module": "@jupyter-widgets/controls",
      "model_module_version": "1.1.0",
      "model_name": "ButtonModel",
      "state": {
       "description": "horse",
       "layout": "IPY_MODEL_79de7dac7bce4471804ad722064e39ee",
       "style": "IPY_MODEL_a65a0069184c48b0b120af14e801ed38"
      }
     },
     "5aced70dfa80451cbc7c9dcf8f00aed1": {
      "model_module": "@jupyter-widgets/controls",
      "model_module_version": "1.1.0",
      "model_name": "ButtonStyleModel",
      "state": {}
     },
     "5af7ad0112994392818b1cee40ff5364": {
      "model_module": "@jupyter-widgets/controls",
      "model_module_version": "1.1.0",
      "model_name": "ButtonModel",
      "state": {
       "button_style": "danger",
       "description": "battery",
       "layout": "IPY_MODEL_7ff80e764e2745d9800eae1f025f64e0",
       "style": "IPY_MODEL_909124d321c64999b1ac340990e7d691"
      }
     },
     "5b43d9737fdf4f28b655a1e61dfdb22f": {
      "model_module": "@jupyter-widgets/controls",
      "model_module_version": "1.1.0",
      "model_name": "DescriptionStyleModel",
      "state": {
       "description_width": ""
      }
     },
     "5b6b36acedd74b2cb41f0b025b887202": {
      "model_module": "@jupyter-widgets/controls",
      "model_module_version": "1.1.0",
      "model_name": "ButtonStyleModel",
      "state": {}
     },
     "5b6be4b4d08b4849916f2fbd8466c781": {
      "model_module": "@jupyter-widgets/controls",
      "model_module_version": "1.1.0",
      "model_name": "ButtonModel",
      "state": {
       "button_style": "warning",
       "description": "32",
       "layout": "IPY_MODEL_2609a17cced145ad91b86d4ddfbd3bfd",
       "style": "IPY_MODEL_7f5a6823ffdd47c6a23dc07cac1f96b4"
      }
     },
     "5bc39eccfd764c95a9e31e842105cce4": {
      "model_module": "@jupyter-widgets/controls",
      "model_module_version": "1.1.0",
      "model_name": "SliderStyleModel",
      "state": {
       "description_width": "",
       "handle_color": "lightblue"
      }
     },
     "5c376c0a70dc4f3ab9f4a48214d38ab3": {
      "model_module": "@jupyter-widgets/controls",
      "model_module_version": "1.1.0",
      "model_name": "ButtonModel",
      "state": {
       "description": "weight=1",
       "layout": "IPY_MODEL_52e800b7708c4d19bdf3f6bb6c4dc5ed",
       "style": "IPY_MODEL_bf44b9e7dd994727b55bf414aa285aa4"
      }
     },
     "5c3b7e5ecd9145698d2ee04ee7034cea": {
      "model_module": "@jupyter-widgets/base",
      "model_module_version": "1.0.0",
      "model_name": "LayoutModel",
      "state": {
       "align_items": "stretch",
       "border": "solid 2px",
       "display": "flex",
       "flex_flow": "column",
       "width": "50%"
      }
     },
     "5c7ba414f669447491791b76167cbe25": {
      "model_module": "@jupyter-widgets/controls",
      "model_module_version": "1.1.0",
      "model_name": "ButtonStyleModel",
      "state": {}
     },
     "5d1bf591aeb14d049dbec0ba829aa40b": {
      "model_module": "@jupyter-widgets/base",
      "model_module_version": "1.0.0",
      "model_name": "LayoutModel",
      "state": {}
     },
     "5d1fd9b08747429f868954b7d1c79f91": {
      "model_module": "@jupyter-widgets/controls",
      "model_module_version": "1.1.0",
      "model_name": "LabelModel",
      "state": {
       "layout": "IPY_MODEL_d8e54c7d00fc4c79a19c5dae072e58cb",
       "style": "IPY_MODEL_7195849301f848b28455149df7f2a815",
       "value": "Ship size"
      }
     },
     "5d3cd6de2c3d4d3fbfc90aeff77ba2d9": {
      "model_module": "@jupyter-widgets/controls",
      "model_module_version": "1.1.0",
      "model_name": "ButtonModel",
      "state": {
       "button_style": "warning",
       "description": "0",
       "layout": "IPY_MODEL_86c93170059349499a5f76156cbd8cdf",
       "style": "IPY_MODEL_4e6a91179f2749ffbb811f237feb7980"
      }
     },
     "5d47575e167c4a56bf7a5e4aeab1e572": {
      "model_module": "@jupyter-widgets/base",
      "model_module_version": "1.0.0",
      "model_name": "LayoutModel",
      "state": {
       "flex": "1 1 auto",
       "width": "auto"
      }
     },
     "5d92386cac3d452d8707e2b20b8a3091": {
      "model_module": "@jupyter-widgets/base",
      "model_module_version": "1.0.0",
      "model_name": "LayoutModel",
      "state": {
       "flex": "2 1 0%",
       "width": "auto"
      }
     },
     "5dc2386043a142b995e22172f41fbdc2": {
      "model_module": "@jupyter-widgets/controls",
      "model_module_version": "1.1.0",
      "model_name": "ButtonStyleModel",
      "state": {}
     },
     "5de7a7cd326a45a4924e06b996029ef8": {
      "model_module": "@jupyter-widgets/controls",
      "model_module_version": "1.1.0",
      "model_name": "ButtonModel",
      "state": {
       "button_style": "warning",
       "description": "7",
       "layout": "IPY_MODEL_2609a17cced145ad91b86d4ddfbd3bfd",
       "style": "IPY_MODEL_9da1d6f74c9b44a2a0b262ee8e034c38"
      }
     },
     "5e48460f0fb84a6683c77c9abcb5be56": {
      "model_module": "@jupyter-widgets/controls",
      "model_module_version": "1.1.0",
      "model_name": "ButtonStyleModel",
      "state": {}
     },
     "5ea347f0a5af4822948bd8adfe061cac": {
      "model_module": "@jupyter-widgets/controls",
      "model_module_version": "1.1.0",
      "model_name": "LabelModel",
      "state": {
       "layout": "IPY_MODEL_a95f5b08735e46d2b7fee5e55d995a26",
       "style": "IPY_MODEL_2cc75e7a4e234adfa5dd08e9fadd46c8",
       "value": "Egg style"
      }
     },
     "5eaf3b0b678a4193b18af98798fb7c9e": {
      "model_module": "@jupyter-widgets/controls",
      "model_module_version": "1.1.0",
      "model_name": "ButtonStyleModel",
      "state": {}
     },
     "5ed9df4210aa49a0910430556b8af791": {
      "model_module": "@jupyter-widgets/base",
      "model_module_version": "1.0.0",
      "model_name": "LayoutModel",
      "state": {}
     },
     "5f3432a6d2e64224ade23fc9028e1f2a": {
      "model_module": "@jupyter-widgets/controls",
      "model_module_version": "1.1.0",
      "model_name": "ButtonStyleModel",
      "state": {}
     },
     "5f5d7ddb266a438cb1afd4fb8b6f1258": {
      "model_module": "@jupyter-widgets/controls",
      "model_module_version": "1.1.0",
      "model_name": "ButtonModel",
      "state": {
       "button_style": "warning",
       "description": "33",
       "layout": "IPY_MODEL_616560d2e26b4bee8b7c903f483241f8",
       "style": "IPY_MODEL_4795390ab4964d26bcd7b56a9b583e43"
      }
     },
     "5fa69c1024d549758c34eee3ba780271": {
      "model_module": "@jupyter-widgets/controls",
      "model_module_version": "1.1.0",
      "model_name": "ButtonModel",
      "state": {
       "button_style": "warning",
       "description": "1",
       "layout": "IPY_MODEL_2609a17cced145ad91b86d4ddfbd3bfd",
       "style": "IPY_MODEL_1971d09e9e8c47b49eca33ebd09ae2b2"
      }
     },
     "5fb993e839ca4c4fb445e8f37ced0df7": {
      "model_module": "@jupyter-widgets/base",
      "model_module_version": "1.0.0",
      "model_name": "LayoutModel",
      "state": {}
     },
     "5fd25f05abe24b3088f715b1e558c64d": {
      "model_module": "@jupyter-widgets/controls",
      "model_module_version": "1.1.0",
      "model_name": "ButtonStyleModel",
      "state": {}
     },
     "609e05ed848845838e3199c0ac7bbcf1": {
      "model_module": "@jupyter-widgets/controls",
      "model_module_version": "1.1.0",
      "model_name": "ButtonStyleModel",
      "state": {}
     },
     "60e47423a29248bc9bb7fbcd059f228a": {
      "model_module": "@jupyter-widgets/controls",
      "model_module_version": "1.1.0",
      "model_name": "ButtonStyleModel",
      "state": {}
     },
     "616560d2e26b4bee8b7c903f483241f8": {
      "model_module": "@jupyter-widgets/base",
      "model_module_version": "1.0.0",
      "model_name": "LayoutModel",
      "state": {
       "height": "100px",
       "min_width": "40px"
      }
     },
     "6191567e063845d9ab6941e2d370a590": {
      "model_module": "@jupyter-widgets/controls",
      "model_module_version": "1.1.0",
      "model_name": "IntSliderModel",
      "state": {
       "description": "A too long description",
       "layout": "IPY_MODEL_b7f1ca167c53428e8ff7351cc4f47999",
       "style": "IPY_MODEL_febfc1d66e4e445284879a52f66a07bd"
      }
     },
     "62299ce93f094d8eb68c5a6a166ea071": {
      "model_module": "@jupyter-widgets/base",
      "model_module_version": "1.0.0",
      "model_name": "LayoutModel",
      "state": {}
     },
     "622d979c08c649a18250cae3c3a0495a": {
      "model_module": "@jupyter-widgets/controls",
      "model_module_version": "1.1.0",
      "model_name": "ButtonStyleModel",
      "state": {}
     },
     "625eadedfb064b0b85843865afcd62d6": {
      "model_module": "@jupyter-widgets/base",
      "model_module_version": "1.0.0",
      "model_name": "LayoutModel",
      "state": {
       "border": "3px solid black",
       "display": "flex",
       "height": "",
       "overflow_x": "scroll",
       "width": "500px"
      }
     },
     "62c87d55ccf84459b77a17e06c2d1719": {
      "model_module": "@jupyter-widgets/base",
      "model_module_version": "1.0.0",
      "model_name": "LayoutModel",
      "state": {}
     },
     "62de4449499543daafa71cb4128f45c7": {
      "model_module": "@jupyter-widgets/base",
      "model_module_version": "1.0.0",
      "model_name": "LayoutModel",
      "state": {
       "flex": "2 1 auto",
       "width": "auto"
      }
     },
     "63d39d5455ab456aa4a80c035525ae80": {
      "model_module": "@jupyter-widgets/base",
      "model_module_version": "1.0.0",
      "model_name": "LayoutModel",
      "state": {
       "flex": "1 1 0%",
       "width": "auto"
      }
     },
     "63e17f2c46bc42e288e5508a8b3812ad": {
      "model_module": "@jupyter-widgets/controls",
      "model_module_version": "1.1.0",
      "model_name": "ButtonModel",
      "state": {
       "button_style": "warning",
       "description": "6",
       "layout": "IPY_MODEL_2609a17cced145ad91b86d4ddfbd3bfd",
       "style": "IPY_MODEL_cb112bfe245045098f5777e8302a6ba8"
      }
     },
     "64371b139b524867b8e72ab573b565cd": {
      "model_module": "@jupyter-widgets/controls",
      "model_module_version": "1.1.0",
      "model_name": "ButtonStyleModel",
      "state": {}
     },
     "64bba450b39142ef87e00499ca6ecb07": {
      "model_module": "@jupyter-widgets/base",
      "model_module_version": "1.0.0",
      "model_name": "LayoutModel",
      "state": {}
     },
     "64eec6386f7a42ac992de6d8ff992b13": {
      "model_module": "@jupyter-widgets/controls",
      "model_module_version": "1.1.0",
      "model_name": "BoxModel",
      "state": {
       "children": [
        "IPY_MODEL_0d9744538f9f40969c23538cc9cfe25a",
        "IPY_MODEL_5fa69c1024d549758c34eee3ba780271",
        "IPY_MODEL_38c08caf3e334fe3bff0a802d703e117",
        "IPY_MODEL_161ded8e11144f2c9cbd4d26b3633836",
        "IPY_MODEL_a725a811ee5f4269a5791925a7cb186c",
        "IPY_MODEL_bb3d20ae02294a0a9e44b7307c630822",
        "IPY_MODEL_63e17f2c46bc42e288e5508a8b3812ad",
        "IPY_MODEL_5de7a7cd326a45a4924e06b996029ef8",
        "IPY_MODEL_94295db0a9704364ad2f120a2feb9d34",
        "IPY_MODEL_2eb494f162f94fbca711a580594ea9dc",
        "IPY_MODEL_a215139af73d41fe8f450d3ec2bcd2c9",
        "IPY_MODEL_c8929da433be4f0baecb05a4ceb0f2df",
        "IPY_MODEL_fafcf24ab6554f218c36ec0073cae5ca",
        "IPY_MODEL_1a3dfc4394804b5ab32d6b78a31ac55a",
        "IPY_MODEL_6bfc3458c128475d9306dcb97fc567f9",
        "IPY_MODEL_3de123c8cbe34ec185b392461cdb6c54",
        "IPY_MODEL_bce73fd260b2447d869029891eec9a22",
        "IPY_MODEL_235c0626c2904c60b0e4ea9ab153c392",
        "IPY_MODEL_b6dd8f66ee6d4c10b9c04b11b3a65253",
        "IPY_MODEL_ff4a59943615409dbf27cc8030e16632",
        "IPY_MODEL_38ad76e69214447d84171d713b4948e0",
        "IPY_MODEL_44c61e37e313419cb2878a92c08d212c",
        "IPY_MODEL_737e494bbdb047c491bff1c0a5926565",
        "IPY_MODEL_849c0d4558e74f9a9beaab9a6fa46636",
        "IPY_MODEL_8b39c022d33548fb8e382f05b8ea1984",
        "IPY_MODEL_ce73c9001d9a4277bbb052b622320053",
        "IPY_MODEL_448fccf4f6ab443c8d5bb806b9cc4815",
        "IPY_MODEL_0f9d050b069547968aae22ef4cb4a62c",
        "IPY_MODEL_95c6b7dfe9c646b08bfe9a07262f1d82",
        "IPY_MODEL_0717f8881f7e41f9abea11cedf88b30c",
        "IPY_MODEL_9740a1f70e774e9bab42f6624596bc0b",
        "IPY_MODEL_cc54b3f8483348b58ed9e44423b67923",
        "IPY_MODEL_5b6be4b4d08b4849916f2fbd8466c781",
        "IPY_MODEL_a982ea8f9c564cc494fcf7eba4b30456",
        "IPY_MODEL_9850d9f55a1c48ffa5f824dd214dbb48",
        "IPY_MODEL_939225dc381541bfa0b7a9af18b3ec1f",
        "IPY_MODEL_aa382f71d5e847fe8d278d0a4ce8ba83",
        "IPY_MODEL_91c8b75ba9264800aa8c54b95e639ed8",
        "IPY_MODEL_f7a7526ce5d94d4cab8f25fc8cd90459",
        "IPY_MODEL_3b68ff56f755412383b3007cbd7fbf30"
       ],
       "layout": "IPY_MODEL_625eadedfb064b0b85843865afcd62d6"
      }
     },
     "6583b864d5e5481f991066254ab81abb": {
      "model_module": "@jupyter-widgets/base",
      "model_module_version": "1.0.0",
      "model_name": "LayoutModel",
      "state": {
       "flex": "1 1 auto",
       "width": "auto"
      }
     },
     "6585e15f31b0423f80c564b79b270ada": {
      "model_module": "@jupyter-widgets/controls",
      "model_module_version": "1.1.0",
      "model_name": "ButtonStyleModel",
      "state": {
       "button_color": "lightgreen"
      }
     },
     "65cc81bae10142e3b4d2635c4bd30f77": {
      "model_module": "@jupyter-widgets/base",
      "model_module_version": "1.0.0",
      "model_name": "LayoutModel",
      "state": {}
     },
     "65db632122ab4ed881a4a10876784c27": {
      "model_module": "@jupyter-widgets/controls",
      "model_module_version": "1.1.0",
      "model_name": "ButtonModel",
      "state": {
       "button_style": "warning",
       "description": "37",
       "layout": "IPY_MODEL_1d10072127cb4a32968374fdb7bd2479",
       "style": "IPY_MODEL_9f0af05564a340cd9bece8b7d8c8f256"
      }
     },
     "6603eb25b4ff475e9ff2ac306a7decaf": {
      "model_module": "@jupyter-widgets/controls",
      "model_module_version": "1.1.0",
      "model_name": "ButtonStyleModel",
      "state": {}
     },
     "66872eb1e9eb489a823056e08f8dccea": {
      "model_module": "@jupyter-widgets/controls",
      "model_module_version": "1.1.0",
      "model_name": "DescriptionStyleModel",
      "state": {
       "description_width": ""
      }
     },
     "66b4474973da4fb98145cc0114703723": {
      "model_module": "@jupyter-widgets/base",
      "model_module_version": "1.0.0",
      "model_name": "LayoutModel",
      "state": {}
     },
     "67620e6a5449490a8b2ecb27586a04c1": {
      "model_module": "@jupyter-widgets/controls",
      "model_module_version": "1.1.0",
      "model_name": "ButtonStyleModel",
      "state": {}
     },
     "681494fc4a0e4fe49efd2055dfb85df2": {
      "model_module": "@jupyter-widgets/controls",
      "model_module_version": "1.1.0",
      "model_name": "BoxModel",
      "state": {
       "children": [
        "IPY_MODEL_e0d6241184be4291bc01cf1dcdad0dbb",
        "IPY_MODEL_9935c4b522284ad88aaaae42b3d72a20",
        "IPY_MODEL_e400a45357cf40c980847b905d1c0959"
       ],
       "layout": "IPY_MODEL_26de14cf89fb4a058ebbd27357adcf0a"
      }
     },
     "695b46d840184b04b17f2e52b95d43b9": {
      "model_module": "@jupyter-widgets/controls",
      "model_module_version": "1.1.0",
      "model_name": "DescriptionStyleModel",
      "state": {
       "description_width": ""
      }
     },
     "6977ab1dfb394ffea855230d6b789a5f": {
      "model_module": "@jupyter-widgets/controls",
      "model_module_version": "1.1.0",
      "model_name": "ButtonStyleModel",
      "state": {}
     },
     "699c865fdd3841cda9aa7c4564345ec4": {
      "model_module": "@jupyter-widgets/controls",
      "model_module_version": "1.1.0",
      "model_name": "ButtonStyleModel",
      "state": {}
     },
     "6a1daa42237443f0919d191c42d03ea4": {
      "model_module": "@jupyter-widgets/controls",
      "model_module_version": "1.1.0",
      "model_name": "ButtonStyleModel",
      "state": {}
     },
     "6a28aab88ef94006b526ff66fce68f90": {
      "model_module": "@jupyter-widgets/base",
      "model_module_version": "1.0.0",
      "model_name": "LayoutModel",
      "state": {
       "border": "3px solid black",
       "display": "flex",
       "height": "",
       "overflow_x": "scroll",
       "width": "500px"
      }
     },
     "6ab986af3d744b8b8c10354bbf2bc8c2": {
      "model_module": "@jupyter-widgets/controls",
      "model_module_version": "1.1.0",
      "model_name": "ButtonStyleModel",
      "state": {}
     },
     "6aee015cdc85424ba89326efe20bc663": {
      "model_module": "@jupyter-widgets/controls",
      "model_module_version": "1.1.0",
      "model_name": "DescriptionStyleModel",
      "state": {
       "description_width": ""
      }
     },
     "6bfc3458c128475d9306dcb97fc567f9": {
      "model_module": "@jupyter-widgets/controls",
      "model_module_version": "1.1.0",
      "model_name": "ButtonModel",
      "state": {
       "button_style": "warning",
       "description": "14",
       "layout": "IPY_MODEL_2609a17cced145ad91b86d4ddfbd3bfd",
       "style": "IPY_MODEL_399c2e2292b94478b56fe2f83b42033e"
      }
     },
     "6c02b2fe3030490592c6e9f3a58ed8f5": {
      "model_module": "@jupyter-widgets/controls",
      "model_module_version": "1.1.0",
      "model_name": "ButtonModel",
      "state": {
       "button_style": "warning",
       "description": "26",
       "layout": "IPY_MODEL_1d10072127cb4a32968374fdb7bd2479",
       "style": "IPY_MODEL_22e5e6cb686b43048db8652964db63f5"
      }
     },
     "6c1ccff8ac5d4bc5a312dd11ae9546da": {
      "model_module": "@jupyter-widgets/controls",
      "model_module_version": "1.1.0",
      "model_name": "DescriptionStyleModel",
      "state": {
       "description_width": ""
      }
     },
     "6c2f56b174374ef28e6b3e99afbf21a2": {
      "model_module": "@jupyter-widgets/controls",
      "model_module_version": "1.1.0",
      "model_name": "ButtonModel",
      "state": {
       "description": "weight=1",
       "layout": "IPY_MODEL_05e6adee92e24fc2ad2f544c26e97399",
       "style": "IPY_MODEL_2fe7c89e78d74ecdb84f9a00484ce7bd"
      }
     },
     "6c3ad1bf79c24d088f800daae511c31c": {
      "model_module": "@jupyter-widgets/controls",
      "model_module_version": "1.1.0",
      "model_name": "ButtonStyleModel",
      "state": {}
     },
     "6d06309ef84242af8feab43b84d41494": {
      "model_module": "@jupyter-widgets/controls",
      "model_module_version": "1.1.0",
      "model_name": "ButtonStyleModel",
      "state": {}
     },
     "6d54d28ad21a4cf0864a0845b5c61582": {
      "model_module": "@jupyter-widgets/base",
      "model_module_version": "1.0.0",
      "model_name": "LayoutModel",
      "state": {}
     },
     "6d65ff560e8b43efb20fdc71bbb7abd6": {
      "model_module": "@jupyter-widgets/base",
      "model_module_version": "1.0.0",
      "model_name": "LayoutModel",
      "state": {
       "width": "auto"
      }
     },
     "6d68e1a2ffc24b7b9e6d33d56d5d6191": {
      "model_module": "@jupyter-widgets/controls",
      "model_module_version": "1.1.0",
      "model_name": "ButtonModel",
      "state": {
       "button_style": "warning",
       "description": "19",
       "layout": "IPY_MODEL_86c93170059349499a5f76156cbd8cdf",
       "style": "IPY_MODEL_2e7d5587673b42ff981bea38d4a1f472"
      }
     },
     "6d8e29f8b4d34096a3a5cf54f9aa11dc": {
      "model_module": "@jupyter-widgets/controls",
      "model_module_version": "1.1.0",
      "model_name": "FloatTextModel",
      "state": {
       "layout": "IPY_MODEL_b93185083a8d4441acf03d604ea3568d",
       "step": null,
       "style": "IPY_MODEL_85ba4b04152e4c69a769310967ae2598"
      }
     },
     "6e1d632d7347464090b7473164d6ed84": {
      "model_module": "@jupyter-widgets/controls",
      "model_module_version": "1.1.0",
      "model_name": "VBoxModel",
      "state": {
       "children": [
        "IPY_MODEL_a805481e4e2943dea6eccd126b4c30c8",
        "IPY_MODEL_3ad0cbfd365a431787af4b15cd2f423f"
       ],
       "layout": "IPY_MODEL_e080244dd9f74b548cc3d910ac8391c9"
      }
     },
     "6e34d432ac9b431e8456527d94046441": {
      "model_module": "@jupyter-widgets/controls",
      "model_module_version": "1.1.0",
      "model_name": "ButtonModel",
      "state": {
       "button_style": "warning",
       "description": "12",
       "layout": "IPY_MODEL_1d10072127cb4a32968374fdb7bd2479",
       "style": "IPY_MODEL_8ba04621f14b4b72ab5e0426845785e6"
      }
     },
     "6e3b5f3f0383455f9c6228b8be695c4f": {
      "model_module": "@jupyter-widgets/controls",
      "model_module_version": "1.1.0",
      "model_name": "BoxModel",
      "state": {
       "children": [
        "IPY_MODEL_bb00187efa354c8e99ac8b21c9bfe3d7",
        "IPY_MODEL_93e4f65746924ba7a0adc08044ad7c93"
       ],
       "layout": "IPY_MODEL_b73dcd51c0a84653a2a1d0fc2da4f240"
      }
     },
     "6e57277a9d024555a035753cb2039bf9": {
      "model_module": "@jupyter-widgets/controls",
      "model_module_version": "1.1.0",
      "model_name": "SliderStyleModel",
      "state": {
       "description_width": ""
      }
     },
     "6eb4d63d00884fb990eb7fbc06bf0d40": {
      "model_module": "@jupyter-widgets/controls",
      "model_module_version": "1.1.0",
      "model_name": "ButtonStyleModel",
      "state": {}
     },
     "6ee3695c42314a74aaad20c87352ee2d": {
      "model_module": "@jupyter-widgets/controls",
      "model_module_version": "1.1.0",
      "model_name": "ButtonModel",
      "state": {
       "button_style": "warning",
       "description": "10",
       "layout": "IPY_MODEL_616560d2e26b4bee8b7c903f483241f8",
       "style": "IPY_MODEL_7f6de41ac2494942928747e4a7094709"
      }
     },
     "6eeb15aeba2b4bcb8ad73e2e89fec4a7": {
      "model_module": "@jupyter-widgets/controls",
      "model_module_version": "1.1.0",
      "model_name": "ButtonStyleModel",
      "state": {}
     },
     "6f17f620b21e4bd1bd8192eb006f74f1": {
      "model_module": "@jupyter-widgets/controls",
      "model_module_version": "1.1.0",
      "model_name": "LabelModel",
      "state": {
       "layout": "IPY_MODEL_11422f4fd5e34a98bfd4903086688cab",
       "style": "IPY_MODEL_a9b2c773e12c4c3cbc620f9d162d03c2",
       "value": "Egg style"
      }
     },
     "6f32d841632f49d5b2268fb667ef9b00": {
      "model_module": "@jupyter-widgets/controls",
      "model_module_version": "1.1.0",
      "model_name": "BoxModel",
      "state": {
       "children": [
        "IPY_MODEL_8f731e87ee994ad29a4b7e5910af2dbe",
        "IPY_MODEL_48c28ecf8ba54a329c6b551c647d7651",
        "IPY_MODEL_5063f970b3624c3b9aa54e639cf768e4",
        "IPY_MODEL_227ded38627c4b6083c960ad642093ab",
        "IPY_MODEL_32e6a8d4fc674d9983cd81cdf57e1a0c",
        "IPY_MODEL_c732975859bd4754999810506faa7c72",
        "IPY_MODEL_6f4e7ad0949c47a7a83aaf802d8f8e44",
        "IPY_MODEL_33980c241e614b6e8c80d1b582637c77",
        "IPY_MODEL_241523cf9ace4fde8bc3cbf1082e9cc2",
        "IPY_MODEL_edbe2f1e386c47c4b8bf0a1f0e0509b3",
        "IPY_MODEL_c00543bc12bc43acae052bd2c71782c6",
        "IPY_MODEL_203f708ff78044858d15485a827a6685",
        "IPY_MODEL_6e34d432ac9b431e8456527d94046441",
        "IPY_MODEL_a0bc358fbd2e44b4a755650c8974a853",
        "IPY_MODEL_2e282e6da10d4c5398a43bb3dce8de3a",
        "IPY_MODEL_fe114d8bb26f4306b304892f642987de",
        "IPY_MODEL_38d46f1f2ccf47d78142b38f6cea43a0",
        "IPY_MODEL_b937c41330af4033be3a34a1ad2cd48e",
        "IPY_MODEL_29152ab211d04971b2380c6423a9b96d",
        "IPY_MODEL_b7bda0181ed74aaebba7bceb713ff499",
        "IPY_MODEL_ca926de8c083469c94ba019a063c5963",
        "IPY_MODEL_85953ba390dd46a5aab6537e623e4e8c",
        "IPY_MODEL_bad6e3deb0fe45b29050e99562d175fc",
        "IPY_MODEL_31a230eae331422f8f5c8cf0b43ba0d8",
        "IPY_MODEL_391a36a59a854ea98ef503c492201ac3",
        "IPY_MODEL_2b83e258eb0f4fe58fc14e148c9592a6",
        "IPY_MODEL_6c02b2fe3030490592c6e9f3a58ed8f5",
        "IPY_MODEL_7822ba7f1b314823a01565c7cb9186c9",
        "IPY_MODEL_26f4ab9ee5574b049ab717ed90fb8b01",
        "IPY_MODEL_c5429fa966b148428d8aed0fe73519a5",
        "IPY_MODEL_267308d7e969409481d26712d5d2e06e",
        "IPY_MODEL_55c2ad91ff184c609fc595985a53331b",
        "IPY_MODEL_e9357d0e0a3f49278997d7be2d59bfd0",
        "IPY_MODEL_db0799217826411fb3ce2ad80e56b971",
        "IPY_MODEL_1e4419a3c84d42a5ae453449254fc602",
        "IPY_MODEL_ae65cd331b594ba6a936aa600d3020b6",
        "IPY_MODEL_ed21397c67c54aec8b6c2c9d077f8ba8",
        "IPY_MODEL_65db632122ab4ed881a4a10876784c27",
        "IPY_MODEL_3ae7d478dc1c474bbce2988475a483d7",
        "IPY_MODEL_780c88f2097a40ceb31c9afd01999a60"
       ],
       "layout": "IPY_MODEL_190f5459176b44429970f89055f16758"
      }
     },
     "6f4e7ad0949c47a7a83aaf802d8f8e44": {
      "model_module": "@jupyter-widgets/controls",
      "model_module_version": "1.1.0",
      "model_name": "ButtonModel",
      "state": {
       "button_style": "warning",
       "description": "6",
       "layout": "IPY_MODEL_1d10072127cb4a32968374fdb7bd2479",
       "style": "IPY_MODEL_2c6b7d7eddaa4594815a64122e7bda7e"
      }
     },
     "6f75f0851b4c40599d7d88100d52be88": {
      "model_module": "@jupyter-widgets/controls",
      "model_module_version": "1.1.0",
      "model_name": "ButtonModel",
      "state": {
       "button_style": "danger",
       "description": "correct",
       "layout": "IPY_MODEL_7ff80e764e2745d9800eae1f025f64e0",
       "style": "IPY_MODEL_06181f317c114c798f759ee857d3f190"
      }
     },
     "6f84475c4395452ba31934f7e471fb54": {
      "model_module": "@jupyter-widgets/controls",
      "model_module_version": "1.1.0",
      "model_name": "ButtonStyleModel",
      "state": {}
     },
     "6faee9851ba3483fb44e5fdb6b76664a": {
      "model_module": "@jupyter-widgets/controls",
      "model_module_version": "1.1.0",
      "model_name": "ButtonModel",
      "state": {
       "button_style": "danger",
       "description": "Danger Button",
       "layout": "IPY_MODEL_b9f2c8dcffa14cae87cfa14292703498",
       "style": "IPY_MODEL_95c3b9a5ff0f44a7923498d0090ee53d"
      }
     },
     "6fe928030f9c478db354b230c14f362b": {
      "model_module": "@jupyter-widgets/controls",
      "model_module_version": "1.1.0",
      "model_name": "ButtonStyleModel",
      "state": {}
     },
     "6feb26eafe7944e7940b9c5b23150ebe": {
      "model_module": "@jupyter-widgets/controls",
      "model_module_version": "1.1.0",
      "model_name": "ButtonModel",
      "state": {
       "description": "staple",
       "layout": "IPY_MODEL_3958029d40db4179801c7efad0518acf",
       "style": "IPY_MODEL_f635bd3b224c4f18936c7b7df72219f0"
      }
     },
     "7026b132f6d24b68a77dff5ad702d84a": {
      "model_module": "@jupyter-widgets/base",
      "model_module_version": "1.0.0",
      "model_name": "LayoutModel",
      "state": {}
     },
     "7089937f2d7b45638948859a9ccc398f": {
      "model_module": "@jupyter-widgets/controls",
      "model_module_version": "1.1.0",
      "model_name": "ButtonStyleModel",
      "state": {}
     },
     "70de4703b5c74a9c89f719f68bb74fb7": {
      "model_module": "@jupyter-widgets/base",
      "model_module_version": "1.0.0",
      "model_name": "LayoutModel",
      "state": {
       "align_items": "stretch",
       "border": "solid",
       "display": "flex",
       "flex_flow": "row",
       "width": "50%"
      }
     },
     "70f281964e3649158a54d87125f9791a": {
      "model_module": "@jupyter-widgets/base",
      "model_module_version": "1.0.0",
      "model_name": "LayoutModel",
      "state": {}
     },
     "70f4fd148fae4de6ad97754662ce8e4f": {
      "model_module": "@jupyter-widgets/controls",
      "model_module_version": "1.1.0",
      "model_name": "ButtonStyleModel",
      "state": {}
     },
     "7101c650eb7b4ad2810fa868f2a347cd": {
      "model_module": "@jupyter-widgets/base",
      "model_module_version": "1.0.0",
      "model_name": "LayoutModel",
      "state": {}
     },
     "711a7ddbb88347ad86455d95db51706e": {
      "model_module": "@jupyter-widgets/controls",
      "model_module_version": "1.1.0",
      "model_name": "ButtonStyleModel",
      "state": {}
     },
     "711e60d44f0a49b1b574965a053f4010": {
      "model_module": "@jupyter-widgets/base",
      "model_module_version": "1.0.0",
      "model_name": "LayoutModel",
      "state": {
       "height": "80px",
       "width": "50%"
      }
     },
     "7124c76bb4aa4441b3d187dfc0b8b423": {
      "model_module": "@jupyter-widgets/base",
      "model_module_version": "1.0.0",
      "model_name": "LayoutModel",
      "state": {}
     },
     "716e437820cd4cc3b96eb4e5de6fc63b": {
      "model_module": "@jupyter-widgets/controls",
      "model_module_version": "1.1.0",
      "model_name": "ButtonModel",
      "state": {
       "button_style": "warning",
       "description": "37",
       "layout": "IPY_MODEL_616560d2e26b4bee8b7c903f483241f8",
       "style": "IPY_MODEL_6a1daa42237443f0919d191c42d03ea4"
      }
     },
     "7195849301f848b28455149df7f2a815": {
      "model_module": "@jupyter-widgets/controls",
      "model_module_version": "1.1.0",
      "model_name": "DescriptionStyleModel",
      "state": {
       "description_width": ""
      }
     },
     "72aff38a3a7c43a4b808c49dfa37cf75": {
      "model_module": "@jupyter-widgets/controls",
      "model_module_version": "1.1.0",
      "model_name": "ButtonModel",
      "state": {
       "description": "weight=1",
       "layout": "IPY_MODEL_a8804a26078f463cada6c9effdfbd10f",
       "style": "IPY_MODEL_a8f91b91bfef4574b9b2c073123e0cb0"
      }
     },
     "72d156a193f44c53819a01b6c51c1ce9": {
      "model_module": "@jupyter-widgets/controls",
      "model_module_version": "1.1.0",
      "model_name": "DescriptionStyleModel",
      "state": {
       "description_width": ""
      }
     },
     "73286ac6a1af4f428c0f1b66c23c5186": {
      "model_module": "@jupyter-widgets/controls",
      "model_module_version": "1.1.0",
      "model_name": "DescriptionStyleModel",
      "state": {
       "description_width": ""
      }
     },
     "734b13179ce14ec9b5167a22d2077578": {
      "model_module": "@jupyter-widgets/controls",
      "model_module_version": "1.1.0",
      "model_name": "HBoxModel",
      "state": {
       "children": [
        "IPY_MODEL_a14ce01536884b5fa981330858311efa",
        "IPY_MODEL_020333eedd3c417fab82047df8de78e1"
       ],
       "layout": "IPY_MODEL_23b981f649954b6c8cafed26a0b55f27"
      }
     },
     "737e494bbdb047c491bff1c0a5926565": {
      "model_module": "@jupyter-widgets/controls",
      "model_module_version": "1.1.0",
      "model_name": "ButtonModel",
      "state": {
       "button_style": "warning",
       "description": "22",
       "layout": "IPY_MODEL_2609a17cced145ad91b86d4ddfbd3bfd",
       "style": "IPY_MODEL_1cb3f4a2b98043daac041cb5298d0b5f"
      }
     },
     "73e40c1542e7482b802c77d7f0ebbe77": {
      "model_module": "@jupyter-widgets/controls",
      "model_module_version": "1.1.0",
      "model_name": "ButtonStyleModel",
      "state": {}
     },
     "743f19c1597a4bcfa831976b59487be5": {
      "model_module": "@jupyter-widgets/controls",
      "model_module_version": "1.1.0",
      "model_name": "ButtonStyleModel",
      "state": {}
     },
     "74a193d67e414d78b4effd63aa2c13bc": {
      "model_module": "@jupyter-widgets/controls",
      "model_module_version": "1.1.0",
      "model_name": "ButtonModel",
      "state": {
       "description": "Custom color",
       "layout": "IPY_MODEL_43f7b740f832480eb087238ffc9c7d85",
       "style": "IPY_MODEL_6585e15f31b0423f80c564b79b270ada"
      }
     },
     "74d419661f344dceb341a9a42b7ed8a5": {
      "model_module": "@jupyter-widgets/controls",
      "model_module_version": "1.1.0",
      "model_name": "ButtonStyleModel",
      "state": {}
     },
     "74f8a3bcacd04315a6e1a354b04c91d1": {
      "model_module": "@jupyter-widgets/controls",
      "model_module_version": "1.1.0",
      "model_name": "ButtonStyleModel",
      "state": {}
     },
     "75b6fe8a59cf4b35bd79b7ef782ac8d6": {
      "model_module": "@jupyter-widgets/controls",
      "model_module_version": "1.1.0",
      "model_name": "ButtonStyleModel",
      "state": {}
     },
     "75f570964a454d91a5d7bce6f759dab9": {
      "model_module": "@jupyter-widgets/base",
      "model_module_version": "1.0.0",
      "model_name": "LayoutModel",
      "state": {
       "align_items": "stretch",
       "border": "solid",
       "display": "flex",
       "flex_flow": "row",
       "width": "50%"
      }
     },
     "76a10bc409c841049e3ba6d210745d03": {
      "model_module": "@jupyter-widgets/controls",
      "model_module_version": "1.1.0",
      "model_name": "ButtonStyleModel",
      "state": {}
     },
     "76d4d4d310df41cab5230e1f722cb7a7": {
      "model_module": "@jupyter-widgets/base",
      "model_module_version": "1.0.0",
      "model_name": "LayoutModel",
      "state": {
       "flex": "1 1 0%",
       "width": "auto"
      }
     },
     "76f0676a30b44e5083aa1bf985263985": {
      "model_module": "@jupyter-widgets/base",
      "model_module_version": "1.0.0",
      "model_name": "LayoutModel",
      "state": {
       "align_items": "stretch",
       "border": "solid",
       "display": "flex",
       "flex_flow": "row",
       "width": "50%"
      }
     },
     "772628fed38346d4be6339861a20adb5": {
      "model_module": "@jupyter-widgets/controls",
      "model_module_version": "1.1.0",
      "model_name": "ButtonStyleModel",
      "state": {}
     },
     "776df2b13cd24636885852ae3a0745b7": {
      "model_module": "@jupyter-widgets/controls",
      "model_module_version": "1.1.0",
      "model_name": "ButtonStyleModel",
      "state": {}
     },
     "776fa7f8a04742a9a95b7c5ef8e0ba6e": {
      "model_module": "@jupyter-widgets/controls",
      "model_module_version": "1.1.0",
      "model_name": "ButtonStyleModel",
      "state": {}
     },
     "7786845ceece4cf5a882a75091ad3859": {
      "model_module": "@jupyter-widgets/base",
      "model_module_version": "1.0.0",
      "model_name": "LayoutModel",
      "state": {}
     },
     "77ab81c3ed6b45c9b47366651fa35afa": {
      "model_module": "@jupyter-widgets/controls",
      "model_module_version": "1.1.0",
      "model_name": "ButtonStyleModel",
      "state": {}
     },
     "78090cbb573b402aa41274e377e92ad3": {
      "model_module": "@jupyter-widgets/controls",
      "model_module_version": "1.1.0",
      "model_name": "ButtonStyleModel",
      "state": {}
     },
     "780c88f2097a40ceb31c9afd01999a60": {
      "model_module": "@jupyter-widgets/controls",
      "model_module_version": "1.1.0",
      "model_name": "ButtonModel",
      "state": {
       "button_style": "warning",
       "description": "39",
       "layout": "IPY_MODEL_1d10072127cb4a32968374fdb7bd2479",
       "style": "IPY_MODEL_8fd83c0015f44d1dad37d24495faf8ce"
      }
     },
     "7822ba7f1b314823a01565c7cb9186c9": {
      "model_module": "@jupyter-widgets/controls",
      "model_module_version": "1.1.0",
      "model_name": "ButtonModel",
      "state": {
       "button_style": "warning",
       "description": "27",
       "layout": "IPY_MODEL_1d10072127cb4a32968374fdb7bd2479",
       "style": "IPY_MODEL_5aced70dfa80451cbc7c9dcf8f00aed1"
      }
     },
     "789014ca62f144db89f58454cafc259f": {
      "model_module": "@jupyter-widgets/controls",
      "model_module_version": "1.1.0",
      "model_name": "ButtonStyleModel",
      "state": {}
     },
     "78f597e050054a95b6c204a4d5c5ba12": {
      "model_module": "@jupyter-widgets/base",
      "model_module_version": "1.0.0",
      "model_name": "LayoutModel",
      "state": {
       "height": "80px",
       "width": "50%"
      }
     },
     "79ab4ef68bba4f0eab8be66ca0782bff": {
      "model_module": "@jupyter-widgets/controls",
      "model_module_version": "1.1.0",
      "model_name": "ButtonModel",
      "state": {
       "description": "weight=1",
       "layout": "IPY_MODEL_6583b864d5e5481f991066254ab81abb",
       "style": "IPY_MODEL_e24bf6ab054c443597a9614b562b9e24"
      }
     },
     "79b010220d8f467bbb064786a643bb26": {
      "model_module": "@jupyter-widgets/controls",
      "model_module_version": "1.1.0",
      "model_name": "BoxModel",
      "state": {
       "children": [
        "IPY_MODEL_0b0b7e5972b04520a7066fa08a6bf5a5",
        "IPY_MODEL_374a63f6a99e44299f6fe2986d1fa6af",
        "IPY_MODEL_d37cbbd210de414a9e892cefed3dcfa2",
        "IPY_MODEL_6e3b5f3f0383455f9c6228b8be695c4f"
       ],
       "layout": "IPY_MODEL_57da6ae2bb714f2d9ee114bcea1f696a"
      }
     },
     "79de7dac7bce4471804ad722064e39ee": {
      "model_module": "@jupyter-widgets/base",
      "model_module_version": "1.0.0",
      "model_name": "LayoutModel",
      "state": {}
     },
     "7a43159cb1e54fbead61365f81b60df2": {
      "model_module": "@jupyter-widgets/base",
      "model_module_version": "1.0.0",
      "model_name": "LayoutModel",
      "state": {}
     },
     "7a738dc1cc08435d9e58d0a5865f16c4": {
      "model_module": "@jupyter-widgets/controls",
      "model_module_version": "1.1.0",
      "model_name": "ButtonStyleModel",
      "state": {}
     },
     "7a9ac0f37fa14022b63970f34f6b9bf7": {
      "model_module": "@jupyter-widgets/controls",
      "model_module_version": "1.1.0",
      "model_name": "SliderStyleModel",
      "state": {
       "description_width": ""
      }
     },
     "7abf22946d784dc3b28ed7c21047c5b0": {
      "model_module": "@jupyter-widgets/base",
      "model_module_version": "1.0.0",
      "model_name": "LayoutModel",
      "state": {}
     },
     "7ae39135cf4e4462b6668ffc1a9772e3": {
      "model_module": "@jupyter-widgets/controls",
      "model_module_version": "1.1.0",
      "model_name": "ButtonStyleModel",
      "state": {}
     },
     "7bd1dfff77024f218260de6f1db8ee62": {
      "model_module": "@jupyter-widgets/controls",
      "model_module_version": "1.1.0",
      "model_name": "DescriptionStyleModel",
      "state": {
       "description_width": ""
      }
     },
     "7c76431092da44e9a3e703c17d72fa1e": {
      "model_module": "@jupyter-widgets/base",
      "model_module_version": "1.0.0",
      "model_name": "LayoutModel",
      "state": {}
     },
     "7cd013045626409aa8db0a78a615b004": {
      "model_module": "@jupyter-widgets/controls",
      "model_module_version": "1.1.0",
      "model_name": "IntSliderModel",
      "state": {
       "description": "\\(\\int_0^t f\\)",
       "layout": "IPY_MODEL_0210bbf9bc3744b6b8a03e4aa2f5b9dc",
       "style": "IPY_MODEL_e6a3178e4f9a4805bb32677e04bc6bbf"
      }
     },
     "7d17118e60ce49cd9ff301b1b7284a3b": {
      "model_module": "@jupyter-widgets/base",
      "model_module_version": "1.0.0",
      "model_name": "LayoutModel",
      "state": {}
     },
     "7d936b3a9b0d481593392059acda8b2b": {
      "model_module": "@jupyter-widgets/controls",
      "model_module_version": "1.1.0",
      "model_name": "IntSliderModel",
      "state": {
       "description": "Blue handle",
       "layout": "IPY_MODEL_7026b132f6d24b68a77dff5ad702d84a",
       "style": "IPY_MODEL_5bc39eccfd764c95a9e31e842105cce4"
      }
     },
     "7de5217394fe493f9b9c84e720b49701": {
      "model_module": "@jupyter-widgets/controls",
      "model_module_version": "1.1.0",
      "model_name": "ButtonStyleModel",
      "state": {}
     },
     "7e3080c262864925b5208347c7bfe115": {
      "model_module": "@jupyter-widgets/controls",
      "model_module_version": "1.1.0",
      "model_name": "SliderStyleModel",
      "state": {
       "description_width": ""
      }
     },
     "7f5a6823ffdd47c6a23dc07cac1f96b4": {
      "model_module": "@jupyter-widgets/controls",
      "model_module_version": "1.1.0",
      "model_name": "ButtonStyleModel",
      "state": {}
     },
     "7f6de41ac2494942928747e4a7094709": {
      "model_module": "@jupyter-widgets/controls",
      "model_module_version": "1.1.0",
      "model_name": "ButtonStyleModel",
      "state": {}
     },
     "7f99ba3b71b348389daecbe9ae688c64": {
      "model_module": "@jupyter-widgets/controls",
      "model_module_version": "1.1.0",
      "model_name": "ButtonModel",
      "state": {
       "button_style": "warning",
       "description": "24",
       "layout": "IPY_MODEL_616560d2e26b4bee8b7c903f483241f8",
       "style": "IPY_MODEL_93a57efb7b98497b84dc0161b82db7c2"
      }
     },
     "7f9ee6a73e674ffabded54caa8e7d9f5": {
      "model_module": "@jupyter-widgets/controls",
      "model_module_version": "1.1.0",
      "model_name": "ButtonModel",
      "state": {
       "button_style": "warning",
       "description": "31",
       "layout": "IPY_MODEL_616560d2e26b4bee8b7c903f483241f8",
       "style": "IPY_MODEL_ef361712716f4f0b80f2b5993202fe83"
      }
     },
     "7fbcfe1b6aab4debb6267f224ce9badb": {
      "model_module": "@jupyter-widgets/base",
      "model_module_version": "1.0.0",
      "model_name": "LayoutModel",
      "state": {}
     },
     "7ff80e764e2745d9800eae1f025f64e0": {
      "model_module": "@jupyter-widgets/base",
      "model_module_version": "1.0.0",
      "model_name": "LayoutModel",
      "state": {
       "flex": "1 1 auto",
       "width": "auto"
      }
     },
     "803ee2ec105f4d6286128001803dc0cd": {
      "model_module": "@jupyter-widgets/base",
      "model_module_version": "1.0.0",
      "model_name": "LayoutModel",
      "state": {}
     },
     "804fd581e0a54e0091164b7bbd7f1107": {
      "model_module": "@jupyter-widgets/controls",
      "model_module_version": "1.1.0",
      "model_name": "ButtonStyleModel",
      "state": {}
     },
     "8058e47a870d43b0af78d79a488e3ca4": {
      "model_module": "@jupyter-widgets/base",
      "model_module_version": "1.0.0",
      "model_name": "LayoutModel",
      "state": {
       "align_items": "stretch",
       "border": "solid",
       "display": "flex",
       "flex_flow": "row",
       "width": "50%"
      }
     },
     "8058f68082934d8cbfb3a3e917a5859e": {
      "model_module": "@jupyter-widgets/base",
      "model_module_version": "1.0.0",
      "model_name": "LayoutModel",
      "state": {}
     },
     "809403ced6984e1db5767e65f0ea226f": {
      "model_module": "@jupyter-widgets/base",
      "model_module_version": "1.0.0",
      "model_name": "LayoutModel",
      "state": {}
     },
     "80d74f398dd64ca687c9f7f3cc6cfc53": {
      "model_module": "@jupyter-widgets/controls",
      "model_module_version": "1.1.0",
      "model_name": "IntSliderModel",
      "state": {
       "description": "A too long description",
       "layout": "IPY_MODEL_55c161cf9a394e7396d7859fd36537b0",
       "style": "IPY_MODEL_6e57277a9d024555a035753cb2039bf9"
      }
     },
     "815f2f47a1724f3c95a9b175f285bb08": {
      "model_module": "@jupyter-widgets/controls",
      "model_module_version": "1.1.0",
      "model_name": "LabelModel",
      "state": {
       "layout": "IPY_MODEL_7786845ceece4cf5a882a75091ad3859",
       "style": "IPY_MODEL_228bd2e5998f481da3d596a5b95e07fc",
       "value": "Ship size"
      }
     },
     "826ef1b635774996bc2be6d32c18d7b9": {
      "model_module": "@jupyter-widgets/controls",
      "model_module_version": "1.1.0",
      "model_name": "LabelModel",
      "state": {
       "layout": "IPY_MODEL_4a539eacd90d472f90e3b6c87eeddf78",
       "style": "IPY_MODEL_4a318ff5b6764f88bee907cbc6ab8489",
       "value": "\\(e=mc^2\\)"
      }
     },
     "82731e6db04642d4a6787ed81de73213": {
      "model_module": "@jupyter-widgets/controls",
      "model_module_version": "1.1.0",
      "model_name": "ButtonStyleModel",
      "state": {}
     },
     "82cecb45b34346e0a650a2b576f5f7e0": {
      "model_module": "@jupyter-widgets/controls",
      "model_module_version": "1.1.0",
      "model_name": "SliderStyleModel",
      "state": {
       "description_width": ""
      }
     },
     "82e9e5c62c2f4f6190a97d44576f67d5": {
      "model_module": "@jupyter-widgets/base",
      "model_module_version": "1.0.0",
      "model_name": "LayoutModel",
      "state": {}
     },
     "837c18c2978f4a24b2cb960c23bd01cd": {
      "model_module": "@jupyter-widgets/controls",
      "model_module_version": "1.1.0",
      "model_name": "VBoxModel",
      "state": {
       "children": [
        "IPY_MODEL_885d51f1e4624e75ac58153e091e3aa3",
        "IPY_MODEL_5a6146d8f9eb48d3a0017834a644bf32"
       ],
       "layout": "IPY_MODEL_23febfee2a93455b90f6740751230632"
      }
     },
     "83f82fbfb1b1492987bd819538041fa3": {
      "model_module": "@jupyter-widgets/controls",
      "model_module_version": "1.1.0",
      "model_name": "ButtonStyleModel",
      "state": {}
     },
     "84447ea46574451f888023d1020d2f9c": {
      "model_module": "@jupyter-widgets/controls",
      "model_module_version": "1.1.0",
      "model_name": "IntSliderModel",
      "state": {
       "layout": "IPY_MODEL_2a930140bcea421d8d09fcf63f00632e",
       "style": "IPY_MODEL_a2867abb1c5043c8a9c90b8f85aed5fc"
      }
     },
     "844e689f4fb5418483d536942a3a0685": {
      "model_module": "@jupyter-widgets/controls",
      "model_module_version": "1.1.0",
      "model_name": "ButtonModel",
      "state": {
       "button_style": "warning",
       "description": "15",
       "layout": "IPY_MODEL_86c93170059349499a5f76156cbd8cdf",
       "style": "IPY_MODEL_0951adc347ce4785b1ca5044c793a8dc"
      }
     },
     "84704b88881545b386f9b72783446bbf": {
      "model_module": "@jupyter-widgets/base",
      "model_module_version": "1.0.0",
      "model_name": "LayoutModel",
      "state": {}
     },
     "8481107357e84a0db1a0a0f53bbf1a59": {
      "model_module": "@jupyter-widgets/base",
      "model_module_version": "1.0.0",
      "model_name": "LayoutModel",
      "state": {}
     },
     "849c0d4558e74f9a9beaab9a6fa46636": {
      "model_module": "@jupyter-widgets/controls",
      "model_module_version": "1.1.0",
      "model_name": "ButtonModel",
      "state": {
       "button_style": "warning",
       "description": "23",
       "layout": "IPY_MODEL_2609a17cced145ad91b86d4ddfbd3bfd",
       "style": "IPY_MODEL_83f82fbfb1b1492987bd819538041fa3"
      }
     },
     "84c9c04f9b6542c3b122cc78a65ddfb9": {
      "model_module": "@jupyter-widgets/base",
      "model_module_version": "1.0.0",
      "model_name": "LayoutModel",
      "state": {}
     },
     "84f759e9a9cf49bcaae8031740732f06": {
      "model_module": "@jupyter-widgets/controls",
      "model_module_version": "1.1.0",
      "model_name": "ButtonStyleModel",
      "state": {}
     },
     "852889b600cb4f98990513e3000fe4c9": {
      "model_module": "@jupyter-widgets/controls",
      "model_module_version": "1.1.0",
      "model_name": "ButtonStyleModel",
      "state": {}
     },
     "854847ab33a94f099e25c3da59cc715d": {
      "model_module": "@jupyter-widgets/controls",
      "model_module_version": "1.1.0",
      "model_name": "DescriptionStyleModel",
      "state": {
       "description_width": ""
      }
     },
     "85953ba390dd46a5aab6537e623e4e8c": {
      "model_module": "@jupyter-widgets/controls",
      "model_module_version": "1.1.0",
      "model_name": "ButtonModel",
      "state": {
       "button_style": "warning",
       "description": "21",
       "layout": "IPY_MODEL_1d10072127cb4a32968374fdb7bd2479",
       "style": "IPY_MODEL_e758cc3d1d944ceca8369ac0ad2a67df"
      }
     },
     "85b83b86fa674290b480f153082d9615": {
      "model_module": "@jupyter-widgets/base",
      "model_module_version": "1.0.0",
      "model_name": "LayoutModel",
      "state": {}
     },
     "85ba4b04152e4c69a769310967ae2598": {
      "model_module": "@jupyter-widgets/controls",
      "model_module_version": "1.1.0",
      "model_name": "DescriptionStyleModel",
      "state": {
       "description_width": ""
      }
     },
     "866e541298c5452482da2e154fd86053": {
      "model_module": "@jupyter-widgets/controls",
      "model_module_version": "1.1.0",
      "model_name": "ButtonStyleModel",
      "state": {}
     },
     "8671460bf97b43f39cb6a6d349ae7a4d": {
      "model_module": "@jupyter-widgets/controls",
      "model_module_version": "1.1.0",
      "model_name": "ButtonStyleModel",
      "state": {}
     },
     "8674fc122dc347e4b023aa252cf4d4e2": {
      "model_module": "@jupyter-widgets/controls",
      "model_module_version": "1.1.0",
      "model_name": "ButtonModel",
      "state": {
       "description": "weight=1",
       "layout": "IPY_MODEL_e6ed3472dd5342dd8174a7304fc48c19",
       "style": "IPY_MODEL_48a70b7e15a34a349ae21271bba2f1b1"
      }
     },
     "86c93170059349499a5f76156cbd8cdf": {
      "model_module": "@jupyter-widgets/base",
      "model_module_version": "1.0.0",
      "model_name": "LayoutModel",
      "state": {
       "height": "100px",
       "min_width": "40px"
      }
     },
     "8755780fefec4d949d23380d36df60f3": {
      "model_module": "@jupyter-widgets/controls",
      "model_module_version": "1.1.0",
      "model_name": "BoxModel",
      "state": {
       "children": [
        "IPY_MODEL_095c69b1538e48fe974175b9087c0fcd",
        "IPY_MODEL_0f22c356a8d14e30b8c3ab97f3d66104",
        "IPY_MODEL_28ed73c3d23c4407bc044fcef7164ea1"
       ],
       "layout": "IPY_MODEL_26de14cf89fb4a058ebbd27357adcf0a"
      }
     },
     "8775b6645bec42a7aef778d9cf274e01": {
      "model_module": "@jupyter-widgets/controls",
      "model_module_version": "1.1.0",
      "model_name": "VBoxModel",
      "state": {
       "children": [
        "IPY_MODEL_aba58bbfe75c49fa9b623d6bb427465a",
        "IPY_MODEL_90d7b23d2dea4fcba0c75b6cd0752b26"
       ],
       "layout": "IPY_MODEL_fff6803d5150478da66f80906ff01338"
      }
     },
     "87cffb66d7ed49cf82da8e38d6a414aa": {
      "model_module": "@jupyter-widgets/controls",
      "model_module_version": "1.1.0",
      "model_name": "ButtonModel",
      "state": {
       "button_style": "warning",
       "description": "26",
       "layout": "IPY_MODEL_86c93170059349499a5f76156cbd8cdf",
       "style": "IPY_MODEL_6fe928030f9c478db354b230c14f362b"
      }
     },
     "88209d51c3534e5d99a7593dc2bc59bc": {
      "model_module": "@jupyter-widgets/base",
      "model_module_version": "1.0.0",
      "model_name": "LayoutModel",
      "state": {}
     },
     "885d51f1e4624e75ac58153e091e3aa3": {
      "model_module": "@jupyter-widgets/controls",
      "model_module_version": "1.1.0",
      "model_name": "ButtonModel",
      "state": {
       "description": "correct",
       "layout": "IPY_MODEL_e3173b72324b4fbca41b3a15df78a948",
       "style": "IPY_MODEL_96d537ca62294f528c2c6d0fe0a39eda"
      }
     },
     "88d173de56c74d45b67188ce9f7cc11f": {
      "model_module": "@jupyter-widgets/controls",
      "model_module_version": "1.1.0",
      "model_name": "IntSliderModel",
      "state": {
       "layout": "IPY_MODEL_82e9e5c62c2f4f6190a97d44576f67d5",
       "max": 60,
       "min": 40,
       "style": "IPY_MODEL_a34ea4d9649a4dc0a1ecefa68331fbdd",
       "value": 40
      }
     },
     "89009a151da64843bc371b04ef86c0e1": {
      "model_module": "@jupyter-widgets/base",
      "model_module_version": "1.0.0",
      "model_name": "LayoutModel",
      "state": {
       "align_items": "stretch",
       "border": "solid",
       "display": "flex",
       "flex_flow": "row",
       "width": "50%"
      }
     },
     "89a42a505c584a5f97404ad52d2b767d": {
      "model_module": "@jupyter-widgets/controls",
      "model_module_version": "1.1.0",
      "model_name": "BoxModel",
      "state": {
       "children": [
        "IPY_MODEL_2552af58264b4083b1d49c2d5ed77e71",
        "IPY_MODEL_0cabf2e755884f7fbaa6614358e4351d"
       ],
       "layout": "IPY_MODEL_df42cf5042074ebeb5bb3b8015be3684"
      }
     },
     "89b1be7777ba4382a0255cbb0522de65": {
      "model_module": "@jupyter-widgets/controls",
      "model_module_version": "1.1.0",
      "model_name": "ButtonModel",
      "state": {
       "button_style": "warning",
       "description": "5",
       "layout": "IPY_MODEL_616560d2e26b4bee8b7c903f483241f8",
       "style": "IPY_MODEL_180c2f8593d6415795a9de069058a285"
      }
     },
     "8aa642a5ec7347ac8ae106a6a8d300c2": {
      "model_module": "@jupyter-widgets/controls",
      "model_module_version": "1.1.0",
      "model_name": "ButtonStyleModel",
      "state": {}
     },
     "8adee3a6f1f0409dbc233f78393c756a": {
      "model_module": "@jupyter-widgets/controls",
      "model_module_version": "1.1.0",
      "model_name": "SliderStyleModel",
      "state": {
       "description_width": ""
      }
     },
     "8b39c022d33548fb8e382f05b8ea1984": {
      "model_module": "@jupyter-widgets/controls",
      "model_module_version": "1.1.0",
      "model_name": "ButtonModel",
      "state": {
       "button_style": "warning",
       "description": "24",
       "layout": "IPY_MODEL_2609a17cced145ad91b86d4ddfbd3bfd",
       "style": "IPY_MODEL_370ccf86c6e64277bd8f4d43cb2f4afc"
      }
     },
     "8b68bdfa84a24c10aafb4e0195b42467": {
      "model_module": "@jupyter-widgets/controls",
      "model_module_version": "1.1.0",
      "model_name": "ButtonModel",
      "state": {
       "button_style": "danger",
       "description": "horse",
       "layout": "IPY_MODEL_3f49a64624264d8abe1a00f80a342c21",
       "style": "IPY_MODEL_2b8836c60b7b4421bb27c3508e57d4c8"
      }
     },
     "8b9ec1b49e86467186da7992d5791712": {
      "model_module": "@jupyter-widgets/base",
      "model_module_version": "1.0.0",
      "model_name": "LayoutModel",
      "state": {
       "flex": "2 1 0%",
       "width": "auto"
      }
     },
     "8ba04621f14b4b72ab5e0426845785e6": {
      "model_module": "@jupyter-widgets/controls",
      "model_module_version": "1.1.0",
      "model_name": "ButtonStyleModel",
      "state": {}
     },
     "8bb4735d5bfa4808bc74f910f32e0e6b": {
      "model_module": "@jupyter-widgets/base",
      "model_module_version": "1.0.0",
      "model_name": "LayoutModel",
      "state": {}
     },
     "8bef0f64ac7744e59b5fa8fd34806ba3": {
      "model_module": "@jupyter-widgets/controls",
      "model_module_version": "1.1.0",
      "model_name": "SliderStyleModel",
      "state": {
       "description_width": "initial"
      }
     },
     "8d057a6c3c834da3ac14af37789e994b": {
      "model_module": "@jupyter-widgets/controls",
      "model_module_version": "1.1.0",
      "model_name": "ButtonStyleModel",
      "state": {}
     },
     "8d8c7b157b924cdd84b9266b217ac2b2": {
      "model_module": "@jupyter-widgets/controls",
      "model_module_version": "1.1.0",
      "model_name": "ButtonStyleModel",
      "state": {}
     },
     "8de44f9262fb4aefb4721273a72d7880": {
      "model_module": "@jupyter-widgets/controls",
      "model_module_version": "1.1.0",
      "model_name": "ButtonStyleModel",
      "state": {}
     },
     "8e0d036a66b34328b7473e4968420cba": {
      "model_module": "@jupyter-widgets/controls",
      "model_module_version": "1.1.0",
      "model_name": "ButtonStyleModel",
      "state": {}
     },
     "8eaea5be7ee14b4f99ba337095fae034": {
      "model_module": "@jupyter-widgets/controls",
      "model_module_version": "1.1.0",
      "model_name": "ButtonStyleModel",
      "state": {}
     },
     "8f25c8e8d43f42ae87c702ebe03290e9": {
      "model_module": "@jupyter-widgets/controls",
      "model_module_version": "1.1.0",
      "model_name": "ButtonStyleModel",
      "state": {}
     },
     "8f652531882e4c85a5394972768d3fbd": {
      "model_module": "@jupyter-widgets/controls",
      "model_module_version": "1.1.0",
      "model_name": "ButtonStyleModel",
      "state": {}
     },
     "8f731e87ee994ad29a4b7e5910af2dbe": {
      "model_module": "@jupyter-widgets/controls",
      "model_module_version": "1.1.0",
      "model_name": "ButtonModel",
      "state": {
       "button_style": "warning",
       "description": "0",
       "layout": "IPY_MODEL_1d10072127cb4a32968374fdb7bd2479",
       "style": "IPY_MODEL_187d57c53da14cbfa92b750ea7304d43"
      }
     },
     "8fa1e49d47e241059fca5b4266e78bd6": {
      "model_module": "@jupyter-widgets/controls",
      "model_module_version": "1.1.0",
      "model_name": "LabelModel",
      "state": {
       "layout": "IPY_MODEL_cf2e13c109f2404082cbc4a570892bd3",
       "style": "IPY_MODEL_1d6fa1c5a74745f1ad5f176b5e3c984c",
       "value": "Age of the captain"
      }
     },
     "8fc24b43e4c9471e846ca6163b45998b": {
      "model_module": "@jupyter-widgets/controls",
      "model_module_version": "1.1.0",
      "model_name": "ButtonStyleModel",
      "state": {}
     },
     "8fd83c0015f44d1dad37d24495faf8ce": {
      "model_module": "@jupyter-widgets/controls",
      "model_module_version": "1.1.0",
      "model_name": "ButtonStyleModel",
      "state": {}
     },
     "8fde0902d3b744ac9fafb7e7daa69a0c": {
      "model_module": "@jupyter-widgets/controls",
      "model_module_version": "1.1.0",
      "model_name": "ButtonStyleModel",
      "state": {}
     },
     "909124d321c64999b1ac340990e7d691": {
      "model_module": "@jupyter-widgets/controls",
      "model_module_version": "1.1.0",
      "model_name": "ButtonStyleModel",
      "state": {}
     },
     "90b6fea021144d0296a75c38a66a1d7a": {
      "model_module": "@jupyter-widgets/controls",
      "model_module_version": "1.1.0",
      "model_name": "BoxModel",
      "state": {
       "children": [
        "IPY_MODEL_bd783b16766f42649897adb9e0a390f7",
        "IPY_MODEL_8b68bdfa84a24c10aafb4e0195b42467",
        "IPY_MODEL_2973500750814744ba1c1fead86f19cf",
        "IPY_MODEL_06c632abac854a628fcae81139d2591d"
       ],
       "layout": "IPY_MODEL_d59075743148499d85998baa4c1610f7"
      }
     },
     "90d7b23d2dea4fcba0c75b6cd0752b26": {
      "model_module": "@jupyter-widgets/controls",
      "model_module_version": "1.1.0",
      "model_name": "BoxModel",
      "state": {
       "children": [
        "IPY_MODEL_f7a72320633547fd8bdece9fcffb4be9",
        "IPY_MODEL_f2244c4aa510415399772c690586f1be",
        "IPY_MODEL_4a0fbcac67e9450f9a7ab53d9a4e7bd2",
        "IPY_MODEL_f211ae83f92c4671a85bb9214ea5cea8",
        "IPY_MODEL_9e36d40f4c864fc9adc5bde2528900a7",
        "IPY_MODEL_89b1be7777ba4382a0255cbb0522de65",
        "IPY_MODEL_b3c606c17bfe4dfeb0149f9a3fd9d487",
        "IPY_MODEL_5a08590152a34b74b9f4eb8759f3ba98",
        "IPY_MODEL_b05f6cf81bda4baa844d5bd1be47fdd8",
        "IPY_MODEL_f65a7ac3607648be8f961590e0683f0b",
        "IPY_MODEL_6ee3695c42314a74aaad20c87352ee2d",
        "IPY_MODEL_dcc7e315e2e54740bbb3be9cb89d8f54",
        "IPY_MODEL_d1208f324f3949f3aab2ce4886eaafab",
        "IPY_MODEL_a0f95764e5cd4c01b290044672fda307",
        "IPY_MODEL_54fd3edafdfb4df48a3fe51fa48b309f",
        "IPY_MODEL_97719b27ff6240879bfc6a0f9e2085c0",
        "IPY_MODEL_4ed102fc1e4345809ee6c647d144deca",
        "IPY_MODEL_aab865ee7ec145a09c9531fe161e6e83",
        "IPY_MODEL_bcfd6b1a03d84bfb82e2fcdba2f6236f",
        "IPY_MODEL_34f5593bfa464542959751bc48b7e585",
        "IPY_MODEL_9a4345d5ebf543ad9f82a64dc9fe72c6",
        "IPY_MODEL_b2300a8dbd2c4a2a99119187399afc84",
        "IPY_MODEL_2bb63aabea6848c48b6787657136f8bd",
        "IPY_MODEL_b04da1cdf5e747989d559efc5f60fa9d",
        "IPY_MODEL_7f99ba3b71b348389daecbe9ae688c64",
        "IPY_MODEL_dcd60e0af5074cdcafc5cf09b9a6ea9b",
        "IPY_MODEL_f5af1d1a7ab84c85ba70f3b4773c18f5",
        "IPY_MODEL_aa9d6491b0d648218bc884295310e8ae",
        "IPY_MODEL_b90b753d4b5e4db382fa937aaa4ba27e",
        "IPY_MODEL_f9c6fac1215b43189b0672165fb8e435",
        "IPY_MODEL_3074b57a5eb44bbd9d2fe44cd261a742",
        "IPY_MODEL_7f9ee6a73e674ffabded54caa8e7d9f5",
        "IPY_MODEL_436c9e85a6ee47eeb3868f7f9574c546",
        "IPY_MODEL_5f5d7ddb266a438cb1afd4fb8b6f1258",
        "IPY_MODEL_912d7ef2d6294b3bb3cdcc3ca2bf9c50",
        "IPY_MODEL_1676c0fd65f34d15bffb8004ec4f2154",
        "IPY_MODEL_0900239eed7c40fd8d2fbf0fea297846",
        "IPY_MODEL_716e437820cd4cc3b96eb4e5de6fc63b",
        "IPY_MODEL_3d5ec700e849482bb657ccb8b62898e8",
        "IPY_MODEL_dd8b8fa261c34c05bb79f708e6bf90e3"
       ],
       "layout": "IPY_MODEL_bf77aa6cf66342f58a27a824e3c27303"
      }
     },
     "90fbc727b4564aa390c44ca5e957c356": {
      "model_module": "@jupyter-widgets/controls",
      "model_module_version": "1.1.0",
      "model_name": "ButtonStyleModel",
      "state": {}
     },
     "912d7ef2d6294b3bb3cdcc3ca2bf9c50": {
      "model_module": "@jupyter-widgets/controls",
      "model_module_version": "1.1.0",
      "model_name": "ButtonModel",
      "state": {
       "button_style": "warning",
       "description": "34",
       "layout": "IPY_MODEL_616560d2e26b4bee8b7c903f483241f8",
       "style": "IPY_MODEL_0c6cc1ceb60d4b15be7e9c1f3c99aa26"
      }
     },
     "91c8b75ba9264800aa8c54b95e639ed8": {
      "model_module": "@jupyter-widgets/controls",
      "model_module_version": "1.1.0",
      "model_name": "ButtonModel",
      "state": {
       "button_style": "warning",
       "description": "37",
       "layout": "IPY_MODEL_2609a17cced145ad91b86d4ddfbd3bfd",
       "style": "IPY_MODEL_b83d9914936d451a9ee0b83119aa6cf4"
      }
     },
     "924d95bfd81c4cdcabde80b4a2f9ee25": {
      "model_module": "@jupyter-widgets/controls",
      "model_module_version": "1.1.0",
      "model_name": "ButtonStyleModel",
      "state": {}
     },
     "925f41871e74410f9f40d05e19b16df9": {
      "model_module": "@jupyter-widgets/controls",
      "model_module_version": "1.1.0",
      "model_name": "ButtonStyleModel",
      "state": {}
     },
     "934737825999405bb1be14cc5c289e42": {
      "model_module": "@jupyter-widgets/controls",
      "model_module_version": "1.1.0",
      "model_name": "DescriptionStyleModel",
      "state": {
       "description_width": ""
      }
     },
     "939225dc381541bfa0b7a9af18b3ec1f": {
      "model_module": "@jupyter-widgets/controls",
      "model_module_version": "1.1.0",
      "model_name": "ButtonModel",
      "state": {
       "button_style": "warning",
       "description": "35",
       "layout": "IPY_MODEL_2609a17cced145ad91b86d4ddfbd3bfd",
       "style": "IPY_MODEL_42100ff802774b03b9a8e69fd0d0df2f"
      }
     },
     "93a57efb7b98497b84dc0161b82db7c2": {
      "model_module": "@jupyter-widgets/controls",
      "model_module_version": "1.1.0",
      "model_name": "ButtonStyleModel",
      "state": {}
     },
     "93ca3bf8f5bb4a0596eab63c0b600680": {
      "model_module": "@jupyter-widgets/base",
      "model_module_version": "1.0.0",
      "model_name": "LayoutModel",
      "state": {}
     },
     "93e4f65746924ba7a0adc08044ad7c93": {
      "model_module": "@jupyter-widgets/controls",
      "model_module_version": "1.1.0",
      "model_name": "TextareaModel",
      "state": {
       "layout": "IPY_MODEL_547060654ee1494d990849fce51a42ed",
       "style": "IPY_MODEL_4150f1c5df394d77940cd5528eefbef7"
      }
     },
     "942797e11eb542cea46b4dbeb7d2c748": {
      "model_module": "@jupyter-widgets/controls",
      "model_module_version": "1.1.0",
      "model_name": "IntSliderModel",
      "state": {
       "layout": "IPY_MODEL_8058f68082934d8cbfb3a3e917a5859e",
       "style": "IPY_MODEL_28d175ed6d8841a29015139598b5f53d"
      }
     },
     "94295db0a9704364ad2f120a2feb9d34": {
      "model_module": "@jupyter-widgets/controls",
      "model_module_version": "1.1.0",
      "model_name": "ButtonModel",
      "state": {
       "button_style": "warning",
       "description": "8",
       "layout": "IPY_MODEL_2609a17cced145ad91b86d4ddfbd3bfd",
       "style": "IPY_MODEL_df44b5237f374cffa675cf85d17a7ac3"
      }
     },
     "94a3a145e9514fddab69938d554c007d": {
      "model_module": "@jupyter-widgets/controls",
      "model_module_version": "1.1.0",
      "model_name": "ButtonStyleModel",
      "state": {}
     },
     "959ffd7488a5488394ac2b86c1a0a9c9": {
      "model_module": "@jupyter-widgets/controls",
      "model_module_version": "1.1.0",
      "model_name": "BoxModel",
      "state": {
       "children": [
        "IPY_MODEL_cc39d4e7a32044d59a1c3975bb34b196",
        "IPY_MODEL_0da17df2857140809605f302cd8fa998",
        "IPY_MODEL_0474bebc718a4d479893258403ee6d98",
        "IPY_MODEL_0b24fc39831441a9b6941a82edfbaaf1"
       ],
       "layout": "IPY_MODEL_5c3b7e5ecd9145698d2ee04ee7034cea"
      }
     },
     "95c3b9a5ff0f44a7923498d0090ee53d": {
      "model_module": "@jupyter-widgets/controls",
      "model_module_version": "1.1.0",
      "model_name": "ButtonStyleModel",
      "state": {}
     },
     "95c6b7dfe9c646b08bfe9a07262f1d82": {
      "model_module": "@jupyter-widgets/controls",
      "model_module_version": "1.1.0",
      "model_name": "ButtonModel",
      "state": {
       "button_style": "warning",
       "description": "28",
       "layout": "IPY_MODEL_2609a17cced145ad91b86d4ddfbd3bfd",
       "style": "IPY_MODEL_b419d92e60a54ca79a16faa148dafb07"
      }
     },
     "95f0f9a0452e4de2b20b7e0b63dc8781": {
      "model_module": "@jupyter-widgets/base",
      "model_module_version": "1.0.0",
      "model_name": "LayoutModel",
      "state": {}
     },
     "9629717020df48c5a34b08201c90d2c4": {
      "model_module": "@jupyter-widgets/controls",
      "model_module_version": "1.1.0",
      "model_name": "ButtonModel",
      "state": {
       "button_style": "danger",
       "description": "staple",
       "layout": "IPY_MODEL_7ff80e764e2745d9800eae1f025f64e0",
       "style": "IPY_MODEL_2cb621fbacc74976b23ce11629c9e7ac"
      }
     },
     "9691e7bbe130445ab7dfa36f9c40569b": {
      "model_module": "@jupyter-widgets/base",
      "model_module_version": "1.0.0",
      "model_name": "LayoutModel",
      "state": {
       "flex": "2 1 auto",
       "width": "auto"
      }
     },
     "96d537ca62294f528c2c6d0fe0a39eda": {
      "model_module": "@jupyter-widgets/controls",
      "model_module_version": "1.1.0",
      "model_name": "ButtonStyleModel",
      "state": {}
     },
     "96e22eaa17824a6d8daa64afc2598352": {
      "model_module": "@jupyter-widgets/controls",
      "model_module_version": "1.1.0",
      "model_name": "ButtonStyleModel",
      "state": {}
     },
     "9733885a284f4464a1a69176a9372350": {
      "model_module": "@jupyter-widgets/base",
      "model_module_version": "1.0.0",
      "model_name": "LayoutModel",
      "state": {
       "flex": "2 1 0%",
       "width": "auto"
      }
     },
     "973aa523fdab4ec0bb38cd7e75e5decb": {
      "model_module": "@jupyter-widgets/controls",
      "model_module_version": "1.1.0",
      "model_name": "ButtonStyleModel",
      "state": {}
     },
     "9740a1f70e774e9bab42f6624596bc0b": {
      "model_module": "@jupyter-widgets/controls",
      "model_module_version": "1.1.0",
      "model_name": "ButtonModel",
      "state": {
       "button_style": "warning",
       "description": "30",
       "layout": "IPY_MODEL_2609a17cced145ad91b86d4ddfbd3bfd",
       "style": "IPY_MODEL_0f85ecc716df499d803c7af9d6804c05"
      }
     },
     "9757263eee1d4c3eb491103197390828": {
      "model_module": "@jupyter-widgets/base",
      "model_module_version": "1.0.0",
      "model_name": "LayoutModel",
      "state": {}
     },
     "976b72bae3c444ac83f10b2b0d93d166": {
      "model_module": "@jupyter-widgets/base",
      "model_module_version": "1.0.0",
      "model_name": "LayoutModel",
      "state": {
       "flex": "1 1 0%",
       "width": "auto"
      }
     },
     "97719b27ff6240879bfc6a0f9e2085c0": {
      "model_module": "@jupyter-widgets/controls",
      "model_module_version": "1.1.0",
      "model_name": "ButtonModel",
      "state": {
       "button_style": "warning",
       "description": "15",
       "layout": "IPY_MODEL_616560d2e26b4bee8b7c903f483241f8",
       "style": "IPY_MODEL_34ba4ca482ad41ea9b6839310767574b"
      }
     },
     "97de8cd95ce94e79b57d0505728aa0e3": {
      "model_module": "@jupyter-widgets/controls",
      "model_module_version": "1.1.0",
      "model_name": "LabelModel",
      "state": {
       "layout": "IPY_MODEL_65cc81bae10142e3b4d2635c4bd30f77",
       "style": "IPY_MODEL_6aee015cdc85424ba89326efe20bc663",
       "value": "\\(e=mc^2\\)"
      }
     },
     "9850d9f55a1c48ffa5f824dd214dbb48": {
      "model_module": "@jupyter-widgets/controls",
      "model_module_version": "1.1.0",
      "model_name": "ButtonModel",
      "state": {
       "button_style": "warning",
       "description": "34",
       "layout": "IPY_MODEL_2609a17cced145ad91b86d4ddfbd3bfd",
       "style": "IPY_MODEL_986f122f5e4b491db6dc164cdb26e991"
      }
     },
     "986f122f5e4b491db6dc164cdb26e991": {
      "model_module": "@jupyter-widgets/controls",
      "model_module_version": "1.1.0",
      "model_name": "ButtonStyleModel",
      "state": {}
     },
     "98e3083dc2294950a43e4c277eb14a04": {
      "model_module": "@jupyter-widgets/base",
      "model_module_version": "1.0.0",
      "model_name": "LayoutModel",
      "state": {}
     },
     "9935c4b522284ad88aaaae42b3d72a20": {
      "model_module": "@jupyter-widgets/controls",
      "model_module_version": "1.1.0",
      "model_name": "ButtonModel",
      "state": {
       "description": "weight=2",
       "layout": "IPY_MODEL_3b9b03c870344e2a9421f860b854704e",
       "style": "IPY_MODEL_a3bf8354ac11430faf6ef8175b93bf50"
      }
     },
     "99a0e854a536443284d704b58297e8c0": {
      "model_module": "@jupyter-widgets/base",
      "model_module_version": "1.0.0",
      "model_name": "LayoutModel",
      "state": {
       "flex": "2",
       "width": "auto"
      }
     },
     "99dba6072ddf4bbaa966422e7097d49d": {
      "model_module": "@jupyter-widgets/controls",
      "model_module_version": "1.1.0",
      "model_name": "ButtonStyleModel",
      "state": {}
     },
     "99e96e53375b48f594fed5064d6d8150": {
      "model_module": "@jupyter-widgets/controls",
      "model_module_version": "1.1.0",
      "model_name": "ButtonModel",
      "state": {
       "description": "weight=1",
       "layout": "IPY_MODEL_7c76431092da44e9a3e703c17d72fa1e",
       "style": "IPY_MODEL_c26d53b368f14ed1b9c3cd51e20a31b1"
      }
     },
     "9a4345d5ebf543ad9f82a64dc9fe72c6": {
      "model_module": "@jupyter-widgets/controls",
      "model_module_version": "1.1.0",
      "model_name": "ButtonModel",
      "state": {
       "button_style": "warning",
       "description": "20",
       "layout": "IPY_MODEL_616560d2e26b4bee8b7c903f483241f8",
       "style": "IPY_MODEL_82731e6db04642d4a6787ed81de73213"
      }
     },
     "9a9fdd69eb3d48b28c0872ff15484389": {
      "model_module": "@jupyter-widgets/controls",
      "model_module_version": "1.1.0",
      "model_name": "ButtonModel",
      "state": {
       "button_style": "warning",
       "description": "10",
       "layout": "IPY_MODEL_86c93170059349499a5f76156cbd8cdf",
       "style": "IPY_MODEL_b3c2fc36803349b69665d29bd9ac5549"
      }
     },
     "9ab129776c9d43c6a916d31c636578ab": {
      "model_module": "@jupyter-widgets/controls",
      "model_module_version": "1.1.0",
      "model_name": "ButtonStyleModel",
      "state": {}
     },
     "9ab13f2e01fd4184a3a743db7fe1c4e0": {
      "model_module": "@jupyter-widgets/controls",
      "model_module_version": "1.1.0",
      "model_name": "ButtonStyleModel",
      "state": {}
     },
     "9af3640295de4ea6a88c8a4726d4148c": {
      "model_module": "@jupyter-widgets/controls",
      "model_module_version": "1.1.0",
      "model_name": "BoxModel",
      "state": {
       "children": [
        "IPY_MODEL_72aff38a3a7c43a4b808c49dfa37cf75",
        "IPY_MODEL_2d781ef4328e4408bc134cc7eab5ba2c",
        "IPY_MODEL_8674fc122dc347e4b023aa252cf4d4e2"
       ],
       "layout": "IPY_MODEL_590f63df2359429fb8cb88604a50b97f"
      }
     },
     "9b4ce2f6e8ef43319d291af785e84b9c": {
      "model_module": "@jupyter-widgets/base",
      "model_module_version": "1.0.0",
      "model_name": "LayoutModel",
      "state": {
       "flex": "1 1 auto",
       "width": "auto"
      }
     },
     "9ba9dfbd5aae458ea82ee7c153adb2ba": {
      "model_module": "@jupyter-widgets/controls",
      "model_module_version": "1.1.0",
      "model_name": "ButtonStyleModel",
      "state": {}
     },
     "9be60ad4ef5b4282a97125f138ad132b": {
      "model_module": "@jupyter-widgets/controls",
      "model_module_version": "1.1.0",
      "model_name": "LabelModel",
      "state": {
       "layout": "IPY_MODEL_386ba40f1dd847568beb6e7b7c81599b",
       "style": "IPY_MODEL_3614723fabfe46d9af33152b30efbcdd",
       "value": "Information"
      }
     },
     "9c0ad6c850674c7ea21d102be3a3b315": {
      "model_module": "@jupyter-widgets/base",
      "model_module_version": "1.0.0",
      "model_name": "LayoutModel",
      "state": {}
     },
     "9c6b6bd3db0042fe8a961559fbc3ae25": {
      "model_module": "@jupyter-widgets/base",
      "model_module_version": "1.0.0",
      "model_name": "LayoutModel",
      "state": {
       "flex": "1 1 auto"
      }
     },
     "9ce52ce9be2b46aeb22596e94ff9bdcc": {
      "model_module": "@jupyter-widgets/controls",
      "model_module_version": "1.1.0",
      "model_name": "ButtonStyleModel",
      "state": {}
     },
     "9cec86147f73446a81e86fe6e7ee1f15": {
      "model_module": "@jupyter-widgets/base",
      "model_module_version": "1.0.0",
      "model_name": "LayoutModel",
      "state": {
       "display": "flex",
       "flex_flow": "row",
       "justify_content": "space-between"
      }
     },
     "9d1b3d687b2b46a2aab505e6fd7db57c": {
      "model_module": "@jupyter-widgets/controls",
      "model_module_version": "1.1.0",
      "model_name": "SliderStyleModel",
      "state": {
       "description_width": ""
      }
     },
     "9d5c20f158ce440bbfb469d817641fe1": {
      "model_module": "@jupyter-widgets/controls",
      "model_module_version": "1.1.0",
      "model_name": "ButtonStyleModel",
      "state": {}
     },
     "9d66000613a04a55b25ce6e5689b0910": {
      "model_module": "@jupyter-widgets/controls",
      "model_module_version": "1.1.0",
      "model_name": "ButtonModel",
      "state": {
       "button_style": "warning",
       "description": "14",
       "layout": "IPY_MODEL_86c93170059349499a5f76156cbd8cdf",
       "style": "IPY_MODEL_13af18f71e7349c7b08ccbf7e8f150ab"
      }
     },
     "9d9a3b6bdd494789bbd673d633cf04d2": {
      "model_module": "@jupyter-widgets/controls",
      "model_module_version": "1.1.0",
      "model_name": "BoxModel",
      "state": {
       "children": [
        "IPY_MODEL_5d3cd6de2c3d4d3fbfc90aeff77ba2d9",
        "IPY_MODEL_0909dd3c366f464d8d087092ae83fb00",
        "IPY_MODEL_3168e8996b9646438c3da41646163b95",
        "IPY_MODEL_ab7ee10a64404f26825beccd859fb613",
        "IPY_MODEL_c47b9d3adf4c4c929df2ec5fc136f4de",
        "IPY_MODEL_38e605f60ee24d778110f3ec8289d4c2",
        "IPY_MODEL_afb16dd3bf9549c3aa282ac1b55699f6",
        "IPY_MODEL_a10f5daa4b894504b5fbd07868504bd3",
        "IPY_MODEL_b6dcd13a9366433a8c4f1fd73ff819d9",
        "IPY_MODEL_4c2d648a95f94248ab2a0e3c1c1baabe",
        "IPY_MODEL_9a9fdd69eb3d48b28c0872ff15484389",
        "IPY_MODEL_03d2f10cca034a13962696fbf2ce6d4d",
        "IPY_MODEL_e77af21d3f76480694434674087d51bf",
        "IPY_MODEL_c6c38d09747f4d2ea8122be4ef834104",
        "IPY_MODEL_9d66000613a04a55b25ce6e5689b0910",
        "IPY_MODEL_844e689f4fb5418483d536942a3a0685",
        "IPY_MODEL_a018f9df0de64a7db88d4760666d2204",
        "IPY_MODEL_9e5ceea5744b4177b5f94f82e231973d",
        "IPY_MODEL_54050f0aaec84eea9ff4bf4a9c325b07",
        "IPY_MODEL_6d68e1a2ffc24b7b9e6d33d56d5d6191",
        "IPY_MODEL_40ffc9f6574749b1b8de840437770d2f",
        "IPY_MODEL_c3eb310789e74ccf913210b1558aee8d",
        "IPY_MODEL_f79ab8504cca44e297791fef4f73d832",
        "IPY_MODEL_e4b4f16bee534374ac503ddb8cefeb2d",
        "IPY_MODEL_a0a87486c6f94523bc1be42f6dbbac65",
        "IPY_MODEL_1a23f155631a4393b5cf51028b267023",
        "IPY_MODEL_87cffb66d7ed49cf82da8e38d6a414aa",
        "IPY_MODEL_29814439e9144be3aacdb2bfdd7a5349",
        "IPY_MODEL_af527d2aa5c24809b32eeb0e329f57ea",
        "IPY_MODEL_b9d0e01c61a6427997967f639a546da2",
        "IPY_MODEL_3d6d73b0803c47c99781f8f5bd870104",
        "IPY_MODEL_14af3452480f458297990e6dc0e4feca",
        "IPY_MODEL_b5a698b60cdf437392f96f8924d2f246",
        "IPY_MODEL_2dbc5b27b5a84121af55dee0f1d248f6",
        "IPY_MODEL_9fe52f750e274fe694f26699d53bb26e",
        "IPY_MODEL_dd37173b5c674f3782a246cab24c85b4",
        "IPY_MODEL_299c3dd0d01849af9a514fa35747f40a",
        "IPY_MODEL_d92aeefa1a0f4b198a849e0b6e2439d5",
        "IPY_MODEL_59f22ac0f15346b78af2970b049a4bcc",
        "IPY_MODEL_d60f94d4c3744344b3a2c95c55b386ae"
       ],
       "layout": "IPY_MODEL_6a28aab88ef94006b526ff66fce68f90"
      }
     },
     "9da1d6f74c9b44a2a0b262ee8e034c38": {
      "model_module": "@jupyter-widgets/controls",
      "model_module_version": "1.1.0",
      "model_name": "ButtonStyleModel",
      "state": {}
     },
     "9dd86ec6beac49029edd848222fb7f4e": {
      "model_module": "@jupyter-widgets/controls",
      "model_module_version": "1.1.0",
      "model_name": "ButtonModel",
      "state": {
       "description": "horse",
       "layout": "IPY_MODEL_7abf22946d784dc3b28ed7c21047c5b0",
       "style": "IPY_MODEL_743f19c1597a4bcfa831976b59487be5"
      }
     },
     "9dd98dcac8fc4d68bab541d80e8d8ccf": {
      "model_module": "@jupyter-widgets/controls",
      "model_module_version": "1.1.0",
      "model_name": "DescriptionStyleModel",
      "state": {
       "description_width": ""
      }
     },
     "9ddf859d43704d01a269a4f8eb8ea780": {
      "model_module": "@jupyter-widgets/base",
      "model_module_version": "1.0.0",
      "model_name": "LayoutModel",
      "state": {
       "height": "80px",
       "width": "50%"
      }
     },
     "9df9735194e3490bbfd3ef280f61b85a": {
      "model_module": "@jupyter-widgets/base",
      "model_module_version": "1.0.0",
      "model_name": "LayoutModel",
      "state": {}
     },
     "9e36984680bc4888abb1ff6137740674": {
      "model_module": "@jupyter-widgets/controls",
      "model_module_version": "1.1.0",
      "model_name": "ButtonStyleModel",
      "state": {}
     },
     "9e36d40f4c864fc9adc5bde2528900a7": {
      "model_module": "@jupyter-widgets/controls",
      "model_module_version": "1.1.0",
      "model_name": "ButtonModel",
      "state": {
       "button_style": "warning",
       "description": "4",
       "layout": "IPY_MODEL_616560d2e26b4bee8b7c903f483241f8",
       "style": "IPY_MODEL_f3fb93e4c4b74bbe827f8a648f3c5ca1"
      }
     },
     "9e5ceea5744b4177b5f94f82e231973d": {
      "model_module": "@jupyter-widgets/controls",
      "model_module_version": "1.1.0",
      "model_name": "ButtonModel",
      "state": {
       "button_style": "warning",
       "description": "17",
       "layout": "IPY_MODEL_86c93170059349499a5f76156cbd8cdf",
       "style": "IPY_MODEL_f3a676438b984f99bc6d451c5e37393f"
      }
     },
     "9ee98a1fab9d4598912c9cf5d600048e": {
      "model_module": "@jupyter-widgets/controls",
      "model_module_version": "1.1.0",
      "model_name": "ButtonModel",
      "state": {
       "description": "weight=1",
       "layout": "IPY_MODEL_b4c3788c04f747adaa30f5492e6fcf68",
       "style": "IPY_MODEL_9fa9837230be4c2d94b65d2ff77fec03"
      }
     },
     "9f0af05564a340cd9bece8b7d8c8f256": {
      "model_module": "@jupyter-widgets/controls",
      "model_module_version": "1.1.0",
      "model_name": "ButtonStyleModel",
      "state": {}
     },
     "9f0bed33040e42b18735895df53a1a78": {
      "model_module": "@jupyter-widgets/controls",
      "model_module_version": "1.1.0",
      "model_name": "ButtonStyleModel",
      "state": {}
     },
     "9f5a077f26c94944b59bdc93d8c74e52": {
      "model_module": "@jupyter-widgets/controls",
      "model_module_version": "1.1.0",
      "model_name": "ButtonModel",
      "state": {
       "description": "weight=1",
       "layout": "IPY_MODEL_4ba6326177a1413480dcf5610295c554",
       "style": "IPY_MODEL_5eaf3b0b678a4193b18af98798fb7c9e"
      }
     },
     "9fa9837230be4c2d94b65d2ff77fec03": {
      "model_module": "@jupyter-widgets/controls",
      "model_module_version": "1.1.0",
      "model_name": "ButtonStyleModel",
      "state": {}
     },
     "9fe52f750e274fe694f26699d53bb26e": {
      "model_module": "@jupyter-widgets/controls",
      "model_module_version": "1.1.0",
      "model_name": "ButtonModel",
      "state": {
       "button_style": "warning",
       "description": "34",
       "layout": "IPY_MODEL_86c93170059349499a5f76156cbd8cdf",
       "style": "IPY_MODEL_19334b76b10a45e6b06c3de0f9649173"
      }
     },
     "a018f9df0de64a7db88d4760666d2204": {
      "model_module": "@jupyter-widgets/controls",
      "model_module_version": "1.1.0",
      "model_name": "ButtonModel",
      "state": {
       "button_style": "warning",
       "description": "16",
       "layout": "IPY_MODEL_86c93170059349499a5f76156cbd8cdf",
       "style": "IPY_MODEL_488ee290cffb481d89e6530e1258dced"
      }
     },
     "a0a87486c6f94523bc1be42f6dbbac65": {
      "model_module": "@jupyter-widgets/controls",
      "model_module_version": "1.1.0",
      "model_name": "ButtonModel",
      "state": {
       "button_style": "warning",
       "description": "24",
       "layout": "IPY_MODEL_86c93170059349499a5f76156cbd8cdf",
       "style": "IPY_MODEL_2adeb1226af14019b73c4de8a28a23cf"
      }
     },
     "a0bc358fbd2e44b4a755650c8974a853": {
      "model_module": "@jupyter-widgets/controls",
      "model_module_version": "1.1.0",
      "model_name": "ButtonModel",
      "state": {
       "button_style": "warning",
       "description": "13",
       "layout": "IPY_MODEL_1d10072127cb4a32968374fdb7bd2479",
       "style": "IPY_MODEL_ec62bca979ac41b98e92acbce35fc79c"
      }
     },
     "a0ca0c36e11c4ed2a8f822ac774437cf": {
      "model_module": "@jupyter-widgets/controls",
      "model_module_version": "1.1.0",
      "model_name": "DescriptionStyleModel",
      "state": {
       "description_width": ""
      }
     },
     "a0e0e383ae7045be9ae71dc2066a64b1": {
      "model_module": "@jupyter-widgets/base",
      "model_module_version": "1.0.0",
      "model_name": "LayoutModel",
      "state": {
       "flex": "1 1 0%",
       "width": "auto"
      }
     },
     "a0f95764e5cd4c01b290044672fda307": {
      "model_module": "@jupyter-widgets/controls",
      "model_module_version": "1.1.0",
      "model_name": "ButtonModel",
      "state": {
       "button_style": "warning",
       "description": "13",
       "layout": "IPY_MODEL_616560d2e26b4bee8b7c903f483241f8",
       "style": "IPY_MODEL_104564eb97854ca9ad14302351bdcff2"
      }
     },
     "a10f5daa4b894504b5fbd07868504bd3": {
      "model_module": "@jupyter-widgets/controls",
      "model_module_version": "1.1.0",
      "model_name": "ButtonModel",
      "state": {
       "button_style": "warning",
       "description": "7",
       "layout": "IPY_MODEL_86c93170059349499a5f76156cbd8cdf",
       "style": "IPY_MODEL_084767ec12244bb382ac5c5d82498d2e"
      }
     },
     "a1361958633f479ba465f671b5667177": {
      "model_module": "@jupyter-widgets/controls",
      "model_module_version": "1.1.0",
      "model_name": "ButtonModel",
      "state": {
       "description": "weight=1",
       "layout": "IPY_MODEL_c51da729f1e74d5ba585854ce2000571",
       "style": "IPY_MODEL_23be2ce0410240c1a0bf267cb5140c98"
      }
     },
     "a14ce01536884b5fa981330858311efa": {
      "model_module": "@jupyter-widgets/controls",
      "model_module_version": "1.1.0",
      "model_name": "LabelModel",
      "state": {
       "layout": "IPY_MODEL_f14cb61f9f674993879d846812dfadb1",
       "style": "IPY_MODEL_66872eb1e9eb489a823056e08f8dccea",
       "value": "A too long description"
      }
     },
     "a19e7f5d62fd4f638a483e1a15310399": {
      "model_module": "@jupyter-widgets/controls",
      "model_module_version": "1.1.0",
      "model_name": "ButtonModel",
      "state": {
       "description": "weight=2",
       "layout": "IPY_MODEL_4a16075f176342a291372d4c317da9d3",
       "style": "IPY_MODEL_4cc2c5d68369416fa1e0c69092aef7f0"
      }
     },
     "a1c65eeb03fd4baea1f16897d365df27": {
      "model_module": "@jupyter-widgets/controls",
      "model_module_version": "1.1.0",
      "model_name": "ButtonModel",
      "state": {
       "description": "staple",
       "layout": "IPY_MODEL_9c0ad6c850674c7ea21d102be3a3b315",
       "style": "IPY_MODEL_8de44f9262fb4aefb4721273a72d7880"
      }
     },
     "a205d295a5364d34893404a91b1527d5": {
      "model_module": "@jupyter-widgets/controls",
      "model_module_version": "1.1.0",
      "model_name": "ButtonStyleModel",
      "state": {}
     },
     "a215139af73d41fe8f450d3ec2bcd2c9": {
      "model_module": "@jupyter-widgets/controls",
      "model_module_version": "1.1.0",
      "model_name": "ButtonModel",
      "state": {
       "button_style": "warning",
       "description": "10",
       "layout": "IPY_MODEL_2609a17cced145ad91b86d4ddfbd3bfd",
       "style": "IPY_MODEL_a9c1570e4e2441ee83846dd93d9ebf8f"
      }
     },
     "a23aad3b93544613951f968d860c8ce1": {
      "model_module": "@jupyter-widgets/base",
      "model_module_version": "1.0.0",
      "model_name": "LayoutModel",
      "state": {}
     },
     "a2867abb1c5043c8a9c90b8f85aed5fc": {
      "model_module": "@jupyter-widgets/controls",
      "model_module_version": "1.1.0",
      "model_name": "SliderStyleModel",
      "state": {
       "description_width": ""
      }
     },
     "a34ea4d9649a4dc0a1ecefa68331fbdd": {
      "model_module": "@jupyter-widgets/controls",
      "model_module_version": "1.1.0",
      "model_name": "SliderStyleModel",
      "state": {
       "description_width": ""
      }
     },
     "a37031a8c321479f802b4eccfe3dac6e": {
      "model_module": "@jupyter-widgets/controls",
      "model_module_version": "1.1.0",
      "model_name": "ButtonModel",
      "state": {
       "description": "Another button with the same layout",
       "layout": "IPY_MODEL_78f597e050054a95b6c204a4d5c5ba12",
       "style": "IPY_MODEL_622d979c08c649a18250cae3c3a0495a"
      }
     },
     "a3bf8354ac11430faf6ef8175b93bf50": {
      "model_module": "@jupyter-widgets/controls",
      "model_module_version": "1.1.0",
      "model_name": "ButtonStyleModel",
      "state": {}
     },
     "a45014769e53461ab3dc3e0fac70592b": {
      "model_module": "@jupyter-widgets/controls",
      "model_module_version": "1.1.0",
      "model_name": "DescriptionStyleModel",
      "state": {
       "description_width": ""
      }
     },
     "a497ea835905455b8cfd5f2bf1fbaaf3": {
      "model_module": "@jupyter-widgets/base",
      "model_module_version": "1.0.0",
      "model_name": "LayoutModel",
      "state": {
       "flex": "1 1 0%",
       "width": "auto"
      }
     },
     "a56887cef4d14bf08f53ddb400ab92bf": {
      "model_module": "@jupyter-widgets/controls",
      "model_module_version": "1.1.0",
      "model_name": "ButtonStyleModel",
      "state": {}
     },
     "a5e5b52458924b0bb6ca9762c52409b6": {
      "model_module": "@jupyter-widgets/controls",
      "model_module_version": "1.1.0",
      "model_name": "ButtonStyleModel",
      "state": {}
     },
     "a625620d41884327be2dcbd42c379134": {
      "model_module": "@jupyter-widgets/controls",
      "model_module_version": "1.1.0",
      "model_name": "BoxModel",
      "state": {
       "children": [
        "IPY_MODEL_5349334a1981439fafd1475c83be27e0",
        "IPY_MODEL_153afc4ac28b40ffb5e9467ac3596bfd",
        "IPY_MODEL_b869727d8bf7400f976de1ceb0ce1c02",
        "IPY_MODEL_1787e6acb4bc4a8087a5002b83fb03a2"
       ],
       "layout": "IPY_MODEL_4c9a9883bd9f4186ad0c1232ef818c4d"
      }
     },
     "a65a0069184c48b0b120af14e801ed38": {
      "model_module": "@jupyter-widgets/controls",
      "model_module_version": "1.1.0",
      "model_name": "ButtonStyleModel",
      "state": {}
     },
     "a6faf490062244fbb577ba1fba58bfef": {
      "model_module": "@jupyter-widgets/controls",
      "model_module_version": "1.1.0",
      "model_name": "IntSliderModel",
      "state": {
       "description": "A too long description",
       "layout": "IPY_MODEL_da3eac9248c94e98a816fc458bff117b",
       "style": "IPY_MODEL_21fe4ddb707b4d89a5c0cb187b7db377"
      }
     },
     "a725a811ee5f4269a5791925a7cb186c": {
      "model_module": "@jupyter-widgets/controls",
      "model_module_version": "1.1.0",
      "model_name": "ButtonModel",
      "state": {
       "button_style": "warning",
       "description": "4",
       "layout": "IPY_MODEL_2609a17cced145ad91b86d4ddfbd3bfd",
       "style": "IPY_MODEL_b31dc5b4350d412cb2779a2e97c76018"
      }
     },
     "a7261ca6a21a47f28db09cf820d7c77d": {
      "model_module": "@jupyter-widgets/base",
      "model_module_version": "1.0.0",
      "model_name": "LayoutModel",
      "state": {
       "flex": "1 1 0%",
       "width": "auto"
      }
     },
     "a745f99947b2421dbe367e256e795903": {
      "model_module": "@jupyter-widgets/controls",
      "model_module_version": "1.1.0",
      "model_name": "ButtonModel",
      "state": {
       "layout": "IPY_MODEL_bdd89e496fe346e49aea166100c855c7",
       "style": "IPY_MODEL_de2208827b4f48c68915e881ca794115"
      }
     },
     "a7936a976466407394f5696013ff4721": {
      "model_module": "@jupyter-widgets/controls",
      "model_module_version": "1.1.0",
      "model_name": "BoxModel",
      "state": {
       "children": [
        "IPY_MODEL_6f17f620b21e4bd1bd8192eb006f74f1",
        "IPY_MODEL_019e2aed4cd148fd84b1596c9ccba819"
       ],
       "layout": "IPY_MODEL_e32e1ba49d54431a8b33e2de4ff14642"
      }
     },
     "a7a4802e7a1c4935acd9be3da0412e41": {
      "model_module": "@jupyter-widgets/base",
      "model_module_version": "1.0.0",
      "model_name": "LayoutModel",
      "state": {
       "width": "auto"
      }
     },
     "a805481e4e2943dea6eccd126b4c30c8": {
      "model_module": "@jupyter-widgets/controls",
      "model_module_version": "1.1.0",
      "model_name": "ButtonModel",
      "state": {
       "description": "battery",
       "layout": "IPY_MODEL_5471018df5a94fbc80ebfb86c2a9c7ba",
       "style": "IPY_MODEL_5fd25f05abe24b3088f715b1e558c64d"
      }
     },
     "a83bd91a91aa4f1296fa15e4f5d7399b": {
      "model_module": "@jupyter-widgets/controls",
      "model_module_version": "1.1.0",
      "model_name": "ButtonModel",
      "state": {
       "description": "weight=1",
       "layout": "IPY_MODEL_a497ea835905455b8cfd5f2bf1fbaaf3",
       "style": "IPY_MODEL_40c385fe77bd4e1aabd6b6498d7ab15e"
      }
     },
     "a8804a26078f463cada6c9effdfbd10f": {
      "model_module": "@jupyter-widgets/base",
      "model_module_version": "1.0.0",
      "model_name": "LayoutModel",
      "state": {
       "flex": "1 1 0%",
       "width": "auto"
      }
     },
     "a89a3fa8e69f47d7ac2ee4df32f48e99": {
      "model_module": "@jupyter-widgets/base",
      "model_module_version": "1.0.0",
      "model_name": "LayoutModel",
      "state": {}
     },
     "a8d33b6946bc4f0ab9eacd28dce1d2fe": {
      "model_module": "@jupyter-widgets/controls",
      "model_module_version": "1.1.0",
      "model_name": "SliderStyleModel",
      "state": {
       "description_width": "",
       "handle_color": "lightblue"
      }
     },
     "a8f91b91bfef4574b9b2c073123e0cb0": {
      "model_module": "@jupyter-widgets/controls",
      "model_module_version": "1.1.0",
      "model_name": "ButtonStyleModel",
      "state": {}
     },
     "a95f5b08735e46d2b7fee5e55d995a26": {
      "model_module": "@jupyter-widgets/base",
      "model_module_version": "1.0.0",
      "model_name": "LayoutModel",
      "state": {}
     },
     "a982ea8f9c564cc494fcf7eba4b30456": {
      "model_module": "@jupyter-widgets/controls",
      "model_module_version": "1.1.0",
      "model_name": "ButtonModel",
      "state": {
       "button_style": "warning",
       "description": "33",
       "layout": "IPY_MODEL_2609a17cced145ad91b86d4ddfbd3bfd",
       "style": "IPY_MODEL_0cc1a21bd2fd43a396f2d273465c5e90"
      }
     },
     "a9b2c773e12c4c3cbc620f9d162d03c2": {
      "model_module": "@jupyter-widgets/controls",
      "model_module_version": "1.1.0",
      "model_name": "DescriptionStyleModel",
      "state": {
       "description_width": ""
      }
     },
     "a9c1570e4e2441ee83846dd93d9ebf8f": {
      "model_module": "@jupyter-widgets/controls",
      "model_module_version": "1.1.0",
      "model_name": "ButtonStyleModel",
      "state": {}
     },
     "a9d016725ee640d581b969f79fa1216b": {
      "model_module": "@jupyter-widgets/controls",
      "model_module_version": "1.1.0",
      "model_name": "DescriptionStyleModel",
      "state": {
       "description_width": ""
      }
     },
     "a9f2b98e737a4871b67257ead7a684a5": {
      "model_module": "@jupyter-widgets/controls",
      "model_module_version": "1.1.0",
      "model_name": "ButtonStyleModel",
      "state": {}
     },
     "aa382f71d5e847fe8d278d0a4ce8ba83": {
      "model_module": "@jupyter-widgets/controls",
      "model_module_version": "1.1.0",
      "model_name": "ButtonModel",
      "state": {
       "button_style": "warning",
       "description": "36",
       "layout": "IPY_MODEL_2609a17cced145ad91b86d4ddfbd3bfd",
       "style": "IPY_MODEL_8e0d036a66b34328b7473e4968420cba"
      }
     },
     "aa9d6491b0d648218bc884295310e8ae": {
      "model_module": "@jupyter-widgets/controls",
      "model_module_version": "1.1.0",
      "model_name": "ButtonModel",
      "state": {
       "button_style": "warning",
       "description": "27",
       "layout": "IPY_MODEL_616560d2e26b4bee8b7c903f483241f8",
       "style": "IPY_MODEL_925f41871e74410f9f40d05e19b16df9"
      }
     },
     "aab865ee7ec145a09c9531fe161e6e83": {
      "model_module": "@jupyter-widgets/controls",
      "model_module_version": "1.1.0",
      "model_name": "ButtonModel",
      "state": {
       "button_style": "warning",
       "description": "17",
       "layout": "IPY_MODEL_616560d2e26b4bee8b7c903f483241f8",
       "style": "IPY_MODEL_efe6ac6f093848adb8711e770c37e705"
      }
     },
     "aac1a3d33f0544739eeb7da1c6e25359": {
      "model_module": "@jupyter-widgets/controls",
      "model_module_version": "1.1.0",
      "model_name": "ButtonStyleModel",
      "state": {}
     },
     "aac52a0aab854d8e8abc297c1983c9dc": {
      "model_module": "@jupyter-widgets/base",
      "model_module_version": "1.0.0",
      "model_name": "LayoutModel",
      "state": {
       "flex": "2 1 auto",
       "width": "auto"
      }
     },
     "aaf0db2cd95647989787d2a00fd825c6": {
      "model_module": "@jupyter-widgets/base",
      "model_module_version": "1.0.0",
      "model_name": "LayoutModel",
      "state": {}
     },
     "ab7ee10a64404f26825beccd859fb613": {
      "model_module": "@jupyter-widgets/controls",
      "model_module_version": "1.1.0",
      "model_name": "ButtonModel",
      "state": {
       "button_style": "warning",
       "description": "3",
       "layout": "IPY_MODEL_86c93170059349499a5f76156cbd8cdf",
       "style": "IPY_MODEL_8eaea5be7ee14b4f99ba337095fae034"
      }
     },
     "ab8bda73972b434082c9e0ba4a8a3f76": {
      "model_module": "@jupyter-widgets/controls",
      "model_module_version": "1.1.0",
      "model_name": "ButtonStyleModel",
      "state": {}
     },
     "aba58bbfe75c49fa9b623d6bb427465a": {
      "model_module": "@jupyter-widgets/controls",
      "model_module_version": "1.1.0",
      "model_name": "LabelModel",
      "state": {
       "layout": "IPY_MODEL_ba65aeae1de343c8b5c8ce93684f30f4",
       "style": "IPY_MODEL_695b46d840184b04b17f2e52b95d43b9",
       "value": "Scroll horizontally:"
      }
     },
     "acc6c51a8b2343b482e52a16d1573867": {
      "model_module": "@jupyter-widgets/controls",
      "model_module_version": "1.1.0",
      "model_name": "ButtonModel",
      "state": {
       "button_style": "danger",
       "description": "battery",
       "layout": "IPY_MODEL_f36062d1658742dbab9032aaa90395e7",
       "style": "IPY_MODEL_19fcb2d97aae4cea80e7351c09daebfb"
      }
     },
     "acd1c1b8563348fba435e7bbe312e87a": {
      "model_module": "@jupyter-widgets/controls",
      "model_module_version": "1.1.0",
      "model_name": "ButtonStyleModel",
      "state": {}
     },
     "acf9f420d12f4d2f8de81a3e3baedfcb": {
      "model_module": "@jupyter-widgets/controls",
      "model_module_version": "1.1.0",
      "model_name": "ButtonStyleModel",
      "state": {}
     },
     "ae159805978e415196aeaac10d67ae27": {
      "model_module": "@jupyter-widgets/base",
      "model_module_version": "1.0.0",
      "model_name": "LayoutModel",
      "state": {}
     },
     "ae65cd331b594ba6a936aa600d3020b6": {
      "model_module": "@jupyter-widgets/controls",
      "model_module_version": "1.1.0",
      "model_name": "ButtonModel",
      "state": {
       "button_style": "warning",
       "description": "35",
       "layout": "IPY_MODEL_1d10072127cb4a32968374fdb7bd2479",
       "style": "IPY_MODEL_78090cbb573b402aa41274e377e92ad3"
      }
     },
     "aec91f4997fc416a9fa61b498f5f4ac1": {
      "model_module": "@jupyter-widgets/controls",
      "model_module_version": "1.1.0",
      "model_name": "BoxModel",
      "state": {
       "children": [
        "IPY_MODEL_49237049f31d492dba4c5c0fe487bc78",
        "IPY_MODEL_bec71ceaf71f4da48866ad2f6bee998f",
        "IPY_MODEL_f391b86609024ca9b1e4e6ff3cbbae93"
       ],
       "layout": "IPY_MODEL_c979b0b239cb4a07977ee4e5ea5b91b4"
      }
     },
     "af527d2aa5c24809b32eeb0e329f57ea": {
      "model_module": "@jupyter-widgets/controls",
      "model_module_version": "1.1.0",
      "model_name": "ButtonModel",
      "state": {
       "button_style": "warning",
       "description": "28",
       "layout": "IPY_MODEL_86c93170059349499a5f76156cbd8cdf",
       "style": "IPY_MODEL_0ace049e703d4b3791d6f4e69084427b"
      }
     },
     "afa401374e3e4bdaa3c3048f6cebfd9e": {
      "model_module": "@jupyter-widgets/base",
      "model_module_version": "1.0.0",
      "model_name": "LayoutModel",
      "state": {
       "align_items": "stretch",
       "border": "solid",
       "display": "flex",
       "flex_flow": "column",
       "width": "50%"
      }
     },
     "afb16dd3bf9549c3aa282ac1b55699f6": {
      "model_module": "@jupyter-widgets/controls",
      "model_module_version": "1.1.0",
      "model_name": "ButtonModel",
      "state": {
       "button_style": "warning",
       "description": "6",
       "layout": "IPY_MODEL_86c93170059349499a5f76156cbd8cdf",
       "style": "IPY_MODEL_e3f7c091d02642edb4be287ca1ad3b8c"
      }
     },
     "b04a460354e144d390998777d793d347": {
      "model_module": "@jupyter-widgets/controls",
      "model_module_version": "1.1.0",
      "model_name": "DescriptionStyleModel",
      "state": {
       "description_width": ""
      }
     },
     "b04da1cdf5e747989d559efc5f60fa9d": {
      "model_module": "@jupyter-widgets/controls",
      "model_module_version": "1.1.0",
      "model_name": "ButtonModel",
      "state": {
       "button_style": "warning",
       "description": "23",
       "layout": "IPY_MODEL_616560d2e26b4bee8b7c903f483241f8",
       "style": "IPY_MODEL_60e47423a29248bc9bb7fbcd059f228a"
      }
     },
     "b05f6cf81bda4baa844d5bd1be47fdd8": {
      "model_module": "@jupyter-widgets/controls",
      "model_module_version": "1.1.0",
      "model_name": "ButtonModel",
      "state": {
       "button_style": "warning",
       "description": "8",
       "layout": "IPY_MODEL_616560d2e26b4bee8b7c903f483241f8",
       "style": "IPY_MODEL_185888f7164743ba80ac08b010222e3a"
      }
     },
     "b075b178e5824efeaa817a3c8b35a47c": {
      "model_module": "@jupyter-widgets/controls",
      "model_module_version": "1.1.0",
      "model_name": "LabelModel",
      "state": {
       "layout": "IPY_MODEL_d52715ea8acd48ae86bf367d5c2b3560",
       "style": "IPY_MODEL_7bd1dfff77024f218260de6f1db8ee62",
       "value": "A too long description"
      }
     },
     "b0ca8a293663460e8b7d9f3e10f3575e": {
      "model_module": "@jupyter-widgets/controls",
      "model_module_version": "1.1.0",
      "model_name": "DescriptionStyleModel",
      "state": {
       "description_width": ""
      }
     },
     "b19b0f4d5ebc41cbb22e025d8e3e32f5": {
      "model_module": "@jupyter-widgets/controls",
      "model_module_version": "1.1.0",
      "model_name": "LabelModel",
      "state": {
       "layout": "IPY_MODEL_558f2c6f57f543a4b0ead83846433125",
       "style": "IPY_MODEL_1854302033e04b96b4378a2886b852e1",
       "value": "Age of the captain"
      }
     },
     "b2300a8dbd2c4a2a99119187399afc84": {
      "model_module": "@jupyter-widgets/controls",
      "model_module_version": "1.1.0",
      "model_name": "ButtonModel",
      "state": {
       "button_style": "warning",
       "description": "21",
       "layout": "IPY_MODEL_616560d2e26b4bee8b7c903f483241f8",
       "style": "IPY_MODEL_8f25c8e8d43f42ae87c702ebe03290e9"
      }
     },
     "b23e198d2d1041188ca6b78471348930": {
      "model_module": "@jupyter-widgets/controls",
      "model_module_version": "1.1.0",
      "model_name": "IntSliderModel",
      "state": {
       "description": "Blue handle",
       "layout": "IPY_MODEL_62299ce93f094d8eb68c5a6a166ea071",
       "style": "IPY_MODEL_a8d33b6946bc4f0ab9eacd28dce1d2fe"
      }
     },
     "b2e32406fc2e46f5a0ff205f2220e01b": {
      "model_module": "@jupyter-widgets/base",
      "model_module_version": "1.0.0",
      "model_name": "LayoutModel",
      "state": {}
     },
     "b2f9973906224326b69fe0f4d7847b86": {
      "model_module": "@jupyter-widgets/controls",
      "model_module_version": "1.1.0",
      "model_name": "HBoxModel",
      "state": {
       "children": [
        "IPY_MODEL_837c18c2978f4a24b2cb960c23bd01cd",
        "IPY_MODEL_00fbcfd6b3794e20adef785a7ba0d18f"
       ],
       "layout": "IPY_MODEL_809403ced6984e1db5767e65f0ea226f"
      }
     },
     "b31dc5b4350d412cb2779a2e97c76018": {
      "model_module": "@jupyter-widgets/controls",
      "model_module_version": "1.1.0",
      "model_name": "ButtonStyleModel",
      "state": {}
     },
     "b35e611bf7b54a2b8ac020a26da57f63": {
      "model_module": "@jupyter-widgets/controls",
      "model_module_version": "1.1.0",
      "model_name": "BoxModel",
      "state": {
       "children": [
        "IPY_MODEL_f028e5d9f13649ab99f2a4c9943c7790",
        "IPY_MODEL_c34a296120cc4267856d966239da32e2",
        "IPY_MODEL_f5459b59461a46308b2839ffc9cefda8",
        "IPY_MODEL_89a42a505c584a5f97404ad52d2b767d"
       ],
       "layout": "IPY_MODEL_0c5032802b5c49cdb7bc117ced5f56e8"
      }
     },
     "b37b29d2cf554cac958beb6083a9b23a": {
      "model_module": "@jupyter-widgets/controls",
      "model_module_version": "1.1.0",
      "model_name": "ButtonModel",
      "state": {
       "button_style": "danger",
       "description": "correct",
       "layout": "IPY_MODEL_a7a4802e7a1c4935acd9be3da0412e41",
       "style": "IPY_MODEL_354c8e0eba8c465bbeaa0b4e382d471e"
      }
     },
     "b3c2fc36803349b69665d29bd9ac5549": {
      "model_module": "@jupyter-widgets/controls",
      "model_module_version": "1.1.0",
      "model_name": "ButtonStyleModel",
      "state": {}
     },
     "b3c606c17bfe4dfeb0149f9a3fd9d487": {
      "model_module": "@jupyter-widgets/controls",
      "model_module_version": "1.1.0",
      "model_name": "ButtonModel",
      "state": {
       "button_style": "warning",
       "description": "6",
       "layout": "IPY_MODEL_616560d2e26b4bee8b7c903f483241f8",
       "style": "IPY_MODEL_12cc4b213c274be99c5710051a35e4fa"
      }
     },
     "b3ed601691d2453e8d567ed804951038": {
      "model_module": "@jupyter-widgets/controls",
      "model_module_version": "1.1.0",
      "model_name": "ButtonModel",
      "state": {
       "description": "weight=2",
       "layout": "IPY_MODEL_9691e7bbe130445ab7dfa36f9c40569b",
       "style": "IPY_MODEL_5c7ba414f669447491791b76167cbe25"
      }
     },
     "b419d92e60a54ca79a16faa148dafb07": {
      "model_module": "@jupyter-widgets/controls",
      "model_module_version": "1.1.0",
      "model_name": "ButtonStyleModel",
      "state": {}
     },
     "b447010556c04c0b8509a61b8553ec52": {
      "model_module": "@jupyter-widgets/controls",
      "model_module_version": "1.1.0",
      "model_name": "IntSliderModel",
      "state": {
       "description": "A too long description",
       "layout": "IPY_MODEL_b9d8eeee82164521af34d4516aef0a9d",
       "style": "IPY_MODEL_2f655f34e9144dbd8e84f23297a04258"
      }
     },
     "b4c3788c04f747adaa30f5492e6fcf68": {
      "model_module": "@jupyter-widgets/base",
      "model_module_version": "1.0.0",
      "model_name": "LayoutModel",
      "state": {
       "flex": "1 1 auto",
       "width": "auto"
      }
     },
     "b5a698b60cdf437392f96f8924d2f246": {
      "model_module": "@jupyter-widgets/controls",
      "model_module_version": "1.1.0",
      "model_name": "ButtonModel",
      "state": {
       "button_style": "warning",
       "description": "32",
       "layout": "IPY_MODEL_86c93170059349499a5f76156cbd8cdf",
       "style": "IPY_MODEL_0c77439d99134b369caca19a25d2d3f2"
      }
     },
     "b650d17bc2364f1c9c4d413903c2ca19": {
      "model_module": "@jupyter-widgets/controls",
      "model_module_version": "1.1.0",
      "model_name": "ButtonStyleModel",
      "state": {}
     },
     "b698e328807e435d9ae45fda6cc1b535": {
      "model_module": "@jupyter-widgets/base",
      "model_module_version": "1.0.0",
      "model_name": "LayoutModel",
      "state": {}
     },
     "b6afee0ba22848ebad3a1831c931c5af": {
      "model_module": "@jupyter-widgets/base",
      "model_module_version": "1.0.0",
      "model_name": "LayoutModel",
      "state": {
       "flex": "2 1 0%",
       "width": "auto"
      }
     },
     "b6dcd13a9366433a8c4f1fd73ff819d9": {
      "model_module": "@jupyter-widgets/controls",
      "model_module_version": "1.1.0",
      "model_name": "ButtonModel",
      "state": {
       "button_style": "warning",
       "description": "8",
       "layout": "IPY_MODEL_86c93170059349499a5f76156cbd8cdf",
       "style": "IPY_MODEL_6ab986af3d744b8b8c10354bbf2bc8c2"
      }
     },
     "b6dd8f66ee6d4c10b9c04b11b3a65253": {
      "model_module": "@jupyter-widgets/controls",
      "model_module_version": "1.1.0",
      "model_name": "ButtonModel",
      "state": {
       "button_style": "warning",
       "description": "18",
       "layout": "IPY_MODEL_2609a17cced145ad91b86d4ddfbd3bfd",
       "style": "IPY_MODEL_33fa2122a7334531afeb6cf952e5e5a6"
      }
     },
     "b73dcd51c0a84653a2a1d0fc2da4f240": {
      "model_module": "@jupyter-widgets/base",
      "model_module_version": "1.0.0",
      "model_name": "LayoutModel",
      "state": {
       "display": "flex",
       "flex_flow": "row",
       "justify_content": "space-between"
      }
     },
     "b76fff8d717b4362b1f5c48ee7879997": {
      "model_module": "@jupyter-widgets/controls",
      "model_module_version": "1.1.0",
      "model_name": "BoxModel",
      "state": {
       "children": [
        "IPY_MODEL_c3b6e545e30a46daae70a4c8e41f105e",
        "IPY_MODEL_4201890427b94b758e9eb886af0d7566"
       ],
       "layout": "IPY_MODEL_e32e1ba49d54431a8b33e2de4ff14642"
      }
     },
     "b7bda0181ed74aaebba7bceb713ff499": {
      "model_module": "@jupyter-widgets/controls",
      "model_module_version": "1.1.0",
      "model_name": "ButtonModel",
      "state": {
       "button_style": "warning",
       "description": "19",
       "layout": "IPY_MODEL_1d10072127cb4a32968374fdb7bd2479",
       "style": "IPY_MODEL_29dc52c93a99467b8f7a8107e8a781b7"
      }
     },
     "b7f1ca167c53428e8ff7351cc4f47999": {
      "model_module": "@jupyter-widgets/base",
      "model_module_version": "1.0.0",
      "model_name": "LayoutModel",
      "state": {}
     },
     "b83d9914936d451a9ee0b83119aa6cf4": {
      "model_module": "@jupyter-widgets/controls",
      "model_module_version": "1.1.0",
      "model_name": "ButtonStyleModel",
      "state": {}
     },
     "b869727d8bf7400f976de1ceb0ce1c02": {
      "model_module": "@jupyter-widgets/controls",
      "model_module_version": "1.1.0",
      "model_name": "ButtonModel",
      "state": {
       "button_style": "danger",
       "description": "battery",
       "layout": "IPY_MODEL_6d65ff560e8b43efb20fdc71bbb7abd6",
       "style": "IPY_MODEL_f3fc08e247f443cf9a9b0df3229d465e"
      }
     },
     "b8f149cc7a21471bbd1888c561e55ed3": {
      "model_module": "@jupyter-widgets/controls",
      "model_module_version": "1.1.0",
      "model_name": "ButtonStyleModel",
      "state": {}
     },
     "b90b753d4b5e4db382fa937aaa4ba27e": {
      "model_module": "@jupyter-widgets/controls",
      "model_module_version": "1.1.0",
      "model_name": "ButtonModel",
      "state": {
       "button_style": "warning",
       "description": "28",
       "layout": "IPY_MODEL_616560d2e26b4bee8b7c903f483241f8",
       "style": "IPY_MODEL_6eb4d63d00884fb990eb7fbc06bf0d40"
      }
     },
     "b93185083a8d4441acf03d604ea3568d": {
      "model_module": "@jupyter-widgets/base",
      "model_module_version": "1.0.0",
      "model_name": "LayoutModel",
      "state": {}
     },
     "b937c41330af4033be3a34a1ad2cd48e": {
      "model_module": "@jupyter-widgets/controls",
      "model_module_version": "1.1.0",
      "model_name": "ButtonModel",
      "state": {
       "button_style": "warning",
       "description": "17",
       "layout": "IPY_MODEL_1d10072127cb4a32968374fdb7bd2479",
       "style": "IPY_MODEL_e73dc4739bca4f58abe42c1e065691e6"
      }
     },
     "b9700717fb8e4284b0be3cbd7eee7a10": {
      "model_module": "@jupyter-widgets/controls",
      "model_module_version": "1.1.0",
      "model_name": "ButtonStyleModel",
      "state": {}
     },
     "b99cb7d29769435d8dea0a6e1c0f8aef": {
      "model_module": "@jupyter-widgets/controls",
      "model_module_version": "1.1.0",
      "model_name": "DescriptionStyleModel",
      "state": {
       "description_width": ""
      }
     },
     "b9d0e01c61a6427997967f639a546da2": {
      "model_module": "@jupyter-widgets/controls",
      "model_module_version": "1.1.0",
      "model_name": "ButtonModel",
      "state": {
       "button_style": "warning",
       "description": "29",
       "layout": "IPY_MODEL_86c93170059349499a5f76156cbd8cdf",
       "style": "IPY_MODEL_4ed86549c73c4e9aa2dd9a5afeb4fba8"
      }
     },
     "b9d8eeee82164521af34d4516aef0a9d": {
      "model_module": "@jupyter-widgets/base",
      "model_module_version": "1.0.0",
      "model_name": "LayoutModel",
      "state": {}
     },
     "b9f2c8dcffa14cae87cfa14292703498": {
      "model_module": "@jupyter-widgets/base",
      "model_module_version": "1.0.0",
      "model_name": "LayoutModel",
      "state": {}
     },
     "ba5eb26a607e4ea1b83850dfd015637b": {
      "model_module": "@jupyter-widgets/controls",
      "model_module_version": "1.1.0",
      "model_name": "ButtonModel",
      "state": {
       "button_style": "danger",
       "description": "horse",
       "layout": "IPY_MODEL_f36062d1658742dbab9032aaa90395e7",
       "style": "IPY_MODEL_bcc1dd48edd14714a5df274225367625"
      }
     },
     "ba65aeae1de343c8b5c8ce93684f30f4": {
      "model_module": "@jupyter-widgets/base",
      "model_module_version": "1.0.0",
      "model_name": "LayoutModel",
      "state": {}
     },
     "baccb346dd5b4b31ad4d58991fcc5eae": {
      "model_module": "@jupyter-widgets/controls",
      "model_module_version": "1.1.0",
      "model_name": "ButtonStyleModel",
      "state": {}
     },
     "bad6e3deb0fe45b29050e99562d175fc": {
      "model_module": "@jupyter-widgets/controls",
      "model_module_version": "1.1.0",
      "model_name": "ButtonModel",
      "state": {
       "button_style": "warning",
       "description": "22",
       "layout": "IPY_MODEL_1d10072127cb4a32968374fdb7bd2479",
       "style": "IPY_MODEL_274f532b51e543e78637abc1d4f13634"
      }
     },
     "bb00187efa354c8e99ac8b21c9bfe3d7": {
      "model_module": "@jupyter-widgets/controls",
      "model_module_version": "1.1.0",
      "model_name": "LabelModel",
      "state": {
       "layout": "IPY_MODEL_88209d51c3534e5d99a7593dc2bc59bc",
       "style": "IPY_MODEL_c5b3d6830837488bb0c1bf9e08fef8c9",
       "value": "Information"
      }
     },
     "bb3d20ae02294a0a9e44b7307c630822": {
      "model_module": "@jupyter-widgets/controls",
      "model_module_version": "1.1.0",
      "model_name": "ButtonModel",
      "state": {
       "button_style": "warning",
       "description": "5",
       "layout": "IPY_MODEL_2609a17cced145ad91b86d4ddfbd3bfd",
       "style": "IPY_MODEL_13812f4dcf0b406b9069d1ee3d478a18"
      }
     },
     "bbeac3e81110403e82a04aeebe679555": {
      "model_module": "@jupyter-widgets/controls",
      "model_module_version": "1.1.0",
      "model_name": "ButtonModel",
      "state": {
       "description": "Another button with the same layout",
       "layout": "IPY_MODEL_448ab8f4a28842e487f4142371157af3",
       "style": "IPY_MODEL_33d4167d34d44855baed8eb24798d645"
      }
     },
     "bc7d0c0b023045b3a501e2a6839ca1c1": {
      "model_module": "@jupyter-widgets/controls",
      "model_module_version": "1.1.0",
      "model_name": "ButtonModel",
      "state": {
       "description": "weight=2",
       "layout": "IPY_MODEL_99a0e854a536443284d704b58297e8c0",
       "style": "IPY_MODEL_1800557ab31a444699da0f034c2a14c0"
      }
     },
     "bc8e6770c5fc4d3181b1f1e5df7c8b13": {
      "model_module": "@jupyter-widgets/controls",
      "model_module_version": "1.1.0",
      "model_name": "ButtonModel",
      "state": {
       "description": "weight=1",
       "layout": "IPY_MODEL_14ae5064ebed449796fecc9531bd8c29",
       "style": "IPY_MODEL_96e22eaa17824a6d8daa64afc2598352"
      }
     },
     "bcc1dd48edd14714a5df274225367625": {
      "model_module": "@jupyter-widgets/controls",
      "model_module_version": "1.1.0",
      "model_name": "ButtonStyleModel",
      "state": {}
     },
     "bce73fd260b2447d869029891eec9a22": {
      "model_module": "@jupyter-widgets/controls",
      "model_module_version": "1.1.0",
      "model_name": "ButtonModel",
      "state": {
       "button_style": "warning",
       "description": "16",
       "layout": "IPY_MODEL_2609a17cced145ad91b86d4ddfbd3bfd",
       "style": "IPY_MODEL_1a7c178dfb5842ae8211b2aa41f695e9"
      }
     },
     "bcfd6b1a03d84bfb82e2fcdba2f6236f": {
      "model_module": "@jupyter-widgets/controls",
      "model_module_version": "1.1.0",
      "model_name": "ButtonModel",
      "state": {
       "button_style": "warning",
       "description": "18",
       "layout": "IPY_MODEL_616560d2e26b4bee8b7c903f483241f8",
       "style": "IPY_MODEL_472d56b85109477eb9d55f3944d564d0"
      }
     },
     "bd72d3a1d7bc4097b11afceb0c4f40e7": {
      "model_module": "@jupyter-widgets/controls",
      "model_module_version": "1.1.0",
      "model_name": "FloatTextModel",
      "state": {
       "layout": "IPY_MODEL_01a3993388c64649b8728fe3da21a6fb",
       "step": null,
       "style": "IPY_MODEL_72d156a193f44c53819a01b6c51c1ce9"
      }
     },
     "bd783b16766f42649897adb9e0a390f7": {
      "model_module": "@jupyter-widgets/controls",
      "model_module_version": "1.1.0",
      "model_name": "ButtonModel",
      "state": {
       "button_style": "danger",
       "description": "correct",
       "layout": "IPY_MODEL_3f49a64624264d8abe1a00f80a342c21",
       "style": "IPY_MODEL_0dae29a44c6640a38520eda3e76412bd"
      }
     },
     "bdc14834747f418eace27551f596f8f7": {
      "model_module": "@jupyter-widgets/controls",
      "model_module_version": "1.1.0",
      "model_name": "ButtonModel",
      "state": {
       "description": "weight=1",
       "layout": "IPY_MODEL_f8bea1c4dd1a4f2ca827a68b32efe6dc",
       "style": "IPY_MODEL_6c3ad1bf79c24d088f800daae511c31c"
      }
     },
     "bdd89e496fe346e49aea166100c855c7": {
      "model_module": "@jupyter-widgets/base",
      "model_module_version": "1.0.0",
      "model_name": "LayoutModel",
      "state": {}
     },
     "bdf28fcc8c174c138f8610447365eff8": {
      "model_module": "@jupyter-widgets/base",
      "model_module_version": "1.0.0",
      "model_name": "LayoutModel",
      "state": {}
     },
     "be64f14ef5c541beb40fb63b319dd612": {
      "model_module": "@jupyter-widgets/base",
      "model_module_version": "1.0.0",
      "model_name": "LayoutModel",
      "state": {}
     },
     "bec71ceaf71f4da48866ad2f6bee998f": {
      "model_module": "@jupyter-widgets/controls",
      "model_module_version": "1.1.0",
      "model_name": "ButtonModel",
      "state": {
       "description": "weight=2",
       "layout": "IPY_MODEL_62de4449499543daafa71cb4128f45c7",
       "style": "IPY_MODEL_77ab81c3ed6b45c9b47366651fa35afa"
      }
     },
     "bf44b9e7dd994727b55bf414aa285aa4": {
      "model_module": "@jupyter-widgets/controls",
      "model_module_version": "1.1.0",
      "model_name": "ButtonStyleModel",
      "state": {}
     },
     "bf77aa6cf66342f58a27a824e3c27303": {
      "model_module": "@jupyter-widgets/base",
      "model_module_version": "1.0.0",
      "model_name": "LayoutModel",
      "state": {
       "border": "3px solid black",
       "display": "flex",
       "height": "",
       "overflow_x": "scroll",
       "width": "500px"
      }
     },
     "c00543bc12bc43acae052bd2c71782c6": {
      "model_module": "@jupyter-widgets/controls",
      "model_module_version": "1.1.0",
      "model_name": "ButtonModel",
      "state": {
       "button_style": "warning",
       "description": "10",
       "layout": "IPY_MODEL_1d10072127cb4a32968374fdb7bd2479",
       "style": "IPY_MODEL_924d95bfd81c4cdcabde80b4a2f9ee25"
      }
     },
     "c0eaf176e94f44d8a1a7a39d0c247562": {
      "model_module": "@jupyter-widgets/base",
      "model_module_version": "1.0.0",
      "model_name": "LayoutModel",
      "state": {
       "align_items": "stretch",
       "border": "solid",
       "display": "flex",
       "flex_flow": "column",
       "width": "50%"
      }
     },
     "c1626c30310548b9a46e37b769da2266": {
      "model_module": "@jupyter-widgets/controls",
      "model_module_version": "1.1.0",
      "model_name": "ButtonStyleModel",
      "state": {}
     },
     "c16a7d0bb84c46a6ac020d54bc027c1b": {
      "model_module": "@jupyter-widgets/controls",
      "model_module_version": "1.1.0",
      "model_name": "ButtonStyleModel",
      "state": {}
     },
     "c244b4c92e614670ab9ad69f78ea1b38": {
      "model_module": "@jupyter-widgets/controls",
      "model_module_version": "1.1.0",
      "model_name": "DropdownModel",
      "state": {
       "_options_labels": [
        "Scrambled",
        "Sunny side up",
        "Over easy"
       ],
       "index": 0,
       "layout": "IPY_MODEL_04e471f5df84465ea59b9a5b11f4bf23",
       "style": "IPY_MODEL_854847ab33a94f099e25c3da59cc715d"
      }
     },
     "c26d53b368f14ed1b9c3cd51e20a31b1": {
      "model_module": "@jupyter-widgets/controls",
      "model_module_version": "1.1.0",
      "model_name": "ButtonStyleModel",
      "state": {}
     },
     "c290114a993447cbb24ea420bf73f385": {
      "model_module": "@jupyter-widgets/controls",
      "model_module_version": "1.1.0",
      "model_name": "ButtonModel",
      "state": {
       "description": "Another button with the same layout",
       "layout": "IPY_MODEL_711e60d44f0a49b1b574965a053f4010",
       "style": "IPY_MODEL_c1626c30310548b9a46e37b769da2266"
      }
     },
     "c2d578a0dad64b10b38e893df3ea8d6e": {
      "model_module": "@jupyter-widgets/base",
      "model_module_version": "1.0.0",
      "model_name": "LayoutModel",
      "state": {
       "align_items": "stretch",
       "border": "solid 2px",
       "display": "flex",
       "flex_flow": "column",
       "width": "50%"
      }
     },
     "c2ebddece7bc4287973b5ad652730a8c": {
      "model_module": "@jupyter-widgets/controls",
      "model_module_version": "1.1.0",
      "model_name": "ButtonStyleModel",
      "state": {}
     },
     "c34a296120cc4267856d966239da32e2": {
      "model_module": "@jupyter-widgets/controls",
      "model_module_version": "1.1.0",
      "model_name": "BoxModel",
      "state": {
       "children": [
        "IPY_MODEL_30ac86fb07274d679e1525fd203ba0b7",
        "IPY_MODEL_0fb7ce4244d043a09b3d975a456fae32"
       ],
       "layout": "IPY_MODEL_df42cf5042074ebeb5bb3b8015be3684"
      }
     },
     "c366761f53664b9b868f37fc6573d759": {
      "model_module": "@jupyter-widgets/base",
      "model_module_version": "1.0.0",
      "model_name": "LayoutModel",
      "state": {
       "width": "auto"
      }
     },
     "c393f4a90d3440c2ae259b6f1d3ad83f": {
      "model_module": "@jupyter-widgets/base",
      "model_module_version": "1.0.0",
      "model_name": "LayoutModel",
      "state": {
       "align_items": "stretch",
       "border": "solid",
       "display": "flex",
       "flex_flow": "column",
       "width": "50%"
      }
     },
     "c3b6e545e30a46daae70a4c8e41f105e": {
      "model_module": "@jupyter-widgets/controls",
      "model_module_version": "1.1.0",
      "model_name": "LabelModel",
      "state": {
       "layout": "IPY_MODEL_bdf28fcc8c174c138f8610447365eff8",
       "style": "IPY_MODEL_a45014769e53461ab3dc3e0fac70592b",
       "value": "Age of the captain"
      }
     },
     "c3eb310789e74ccf913210b1558aee8d": {
      "model_module": "@jupyter-widgets/controls",
      "model_module_version": "1.1.0",
      "model_name": "ButtonModel",
      "state": {
       "button_style": "warning",
       "description": "21",
       "layout": "IPY_MODEL_86c93170059349499a5f76156cbd8cdf",
       "style": "IPY_MODEL_f16528c6763648969048b081e6512640"
      }
     },
     "c3fae98470104b9189982a8f1276f239": {
      "model_module": "@jupyter-widgets/controls",
      "model_module_version": "1.1.0",
      "model_name": "BoxModel",
      "state": {
       "children": [
        "IPY_MODEL_d04f10db99314a9dbef7a8ee63f571d4",
        "IPY_MODEL_a19e7f5d62fd4f638a483e1a15310399",
        "IPY_MODEL_99e96e53375b48f594fed5064d6d8150"
       ],
       "layout": "IPY_MODEL_89009a151da64843bc371b04ef86c0e1"
      }
     },
     "c47b9d3adf4c4c929df2ec5fc136f4de": {
      "model_module": "@jupyter-widgets/controls",
      "model_module_version": "1.1.0",
      "model_name": "ButtonModel",
      "state": {
       "button_style": "warning",
       "description": "4",
       "layout": "IPY_MODEL_86c93170059349499a5f76156cbd8cdf",
       "style": "IPY_MODEL_cdd6af3e1de24e6594d67e4ef22df208"
      }
     },
     "c4cde0fc628c460397f664c2cd761f86": {
      "model_module": "@jupyter-widgets/controls",
      "model_module_version": "1.1.0",
      "model_name": "TextareaModel",
      "state": {
       "layout": "IPY_MODEL_fe5df9ccff5d496e914e9074d7640b46",
       "style": "IPY_MODEL_ddc86795151e40c79aa787eb69e17562"
      }
     },
     "c4cf81df9aff4b96af412382e9f45bad": {
      "model_module": "@jupyter-widgets/controls",
      "model_module_version": "1.1.0",
      "model_name": "BoxModel",
      "state": {
       "children": [
        "IPY_MODEL_6c2f56b174374ef28e6b3e99afbf21a2",
        "IPY_MODEL_b3ed601691d2453e8d567ed804951038",
        "IPY_MODEL_d56a85bc043242ebaa4e81e5c9279577"
       ],
       "layout": "IPY_MODEL_76f0676a30b44e5083aa1bf985263985"
      }
     },
     "c51da729f1e74d5ba585854ce2000571": {
      "model_module": "@jupyter-widgets/base",
      "model_module_version": "1.0.0",
      "model_name": "LayoutModel",
      "state": {
       "flex": "1 1 0%",
       "width": "auto"
      }
     },
     "c5429fa966b148428d8aed0fe73519a5": {
      "model_module": "@jupyter-widgets/controls",
      "model_module_version": "1.1.0",
      "model_name": "ButtonModel",
      "state": {
       "button_style": "warning",
       "description": "29",
       "layout": "IPY_MODEL_1d10072127cb4a32968374fdb7bd2479",
       "style": "IPY_MODEL_75b6fe8a59cf4b35bd79b7ef782ac8d6"
      }
     },
     "c5685b2d4a184555aff02b8d5c18bdb4": {
      "model_module": "@jupyter-widgets/base",
      "model_module_version": "1.0.0",
      "model_name": "LayoutModel",
      "state": {}
     },
     "c5723a81ec044cd88f1f638871fe6bdd": {
      "model_module": "@jupyter-widgets/controls",
      "model_module_version": "1.1.0",
      "model_name": "ButtonStyleModel",
      "state": {}
     },
     "c5b3d6830837488bb0c1bf9e08fef8c9": {
      "model_module": "@jupyter-widgets/controls",
      "model_module_version": "1.1.0",
      "model_name": "DescriptionStyleModel",
      "state": {
       "description_width": ""
      }
     },
     "c5d70bcfed9a4fabb59ad583a585726c": {
      "model_module": "@jupyter-widgets/controls",
      "model_module_version": "1.1.0",
      "model_name": "ButtonModel",
      "state": {
       "button_style": "danger",
       "description": "horse",
       "layout": "IPY_MODEL_7ff80e764e2745d9800eae1f025f64e0",
       "style": "IPY_MODEL_804fd581e0a54e0091164b7bbd7f1107"
      }
     },
     "c5fba2ce896841f7a41836bd9766daaa": {
      "model_module": "@jupyter-widgets/controls",
      "model_module_version": "1.1.0",
      "model_name": "ButtonStyleModel",
      "state": {}
     },
     "c6c38d09747f4d2ea8122be4ef834104": {
      "model_module": "@jupyter-widgets/controls",
      "model_module_version": "1.1.0",
      "model_name": "ButtonModel",
      "state": {
       "button_style": "warning",
       "description": "13",
       "layout": "IPY_MODEL_86c93170059349499a5f76156cbd8cdf",
       "style": "IPY_MODEL_b9700717fb8e4284b0be3cbd7eee7a10"
      }
     },
     "c732975859bd4754999810506faa7c72": {
      "model_module": "@jupyter-widgets/controls",
      "model_module_version": "1.1.0",
      "model_name": "ButtonModel",
      "state": {
       "button_style": "warning",
       "description": "5",
       "layout": "IPY_MODEL_1d10072127cb4a32968374fdb7bd2479",
       "style": "IPY_MODEL_73e40c1542e7482b802c77d7f0ebbe77"
      }
     },
     "c7338576bee04316bd2700f1c493a0f7": {
      "model_module": "@jupyter-widgets/base",
      "model_module_version": "1.0.0",
      "model_name": "LayoutModel",
      "state": {
       "flex": "1 1 auto",
       "width": "auto"
      }
     },
     "c8929da433be4f0baecb05a4ceb0f2df": {
      "model_module": "@jupyter-widgets/controls",
      "model_module_version": "1.1.0",
      "model_name": "ButtonModel",
      "state": {
       "button_style": "warning",
       "description": "11",
       "layout": "IPY_MODEL_2609a17cced145ad91b86d4ddfbd3bfd",
       "style": "IPY_MODEL_29adffe70a9b45cdaa10c18e85821647"
      }
     },
     "c95e17749b784923adaaf5f9c9141000": {
      "model_module": "@jupyter-widgets/controls",
      "model_module_version": "1.1.0",
      "model_name": "DescriptionStyleModel",
      "state": {
       "description_width": ""
      }
     },
     "c979b0b239cb4a07977ee4e5ea5b91b4": {
      "model_module": "@jupyter-widgets/base",
      "model_module_version": "1.0.0",
      "model_name": "LayoutModel",
      "state": {
       "align_items": "stretch",
       "border": "solid",
       "display": "flex",
       "flex_flow": "row",
       "width": "50%"
      }
     },
     "c9b52da5c53a4b69ba7d1f2804145b2e": {
      "model_module": "@jupyter-widgets/controls",
      "model_module_version": "1.1.0",
      "model_name": "ButtonStyleModel",
      "state": {}
     },
     "ca7985d3abca46adb4fef796e2fe7220": {
      "model_module": "@jupyter-widgets/controls",
      "model_module_version": "1.1.0",
      "model_name": "SliderStyleModel",
      "state": {
       "description_width": ""
      }
     },
     "ca926de8c083469c94ba019a063c5963": {
      "model_module": "@jupyter-widgets/controls",
      "model_module_version": "1.1.0",
      "model_name": "ButtonModel",
      "state": {
       "button_style": "warning",
       "description": "20",
       "layout": "IPY_MODEL_1d10072127cb4a32968374fdb7bd2479",
       "style": "IPY_MODEL_8d8c7b157b924cdd84b9266b217ac2b2"
      }
     },
     "cb112bfe245045098f5777e8302a6ba8": {
      "model_module": "@jupyter-widgets/controls",
      "model_module_version": "1.1.0",
      "model_name": "ButtonStyleModel",
      "state": {}
     },
     "cc39d4e7a32044d59a1c3975bb34b196": {
      "model_module": "@jupyter-widgets/controls",
      "model_module_version": "1.1.0",
      "model_name": "BoxModel",
      "state": {
       "children": [
        "IPY_MODEL_efaeb1522f6f4d09ac5b18108e38e438",
        "IPY_MODEL_10efb154252045eab676fc357f71490a"
       ],
       "layout": "IPY_MODEL_9cec86147f73446a81e86fe6e7ee1f15"
      }
     },
     "cc54b3f8483348b58ed9e44423b67923": {
      "model_module": "@jupyter-widgets/controls",
      "model_module_version": "1.1.0",
      "model_name": "ButtonModel",
      "state": {
       "button_style": "warning",
       "description": "31",
       "layout": "IPY_MODEL_2609a17cced145ad91b86d4ddfbd3bfd",
       "style": "IPY_MODEL_4f6539573ba34b319d2488958a52ed3a"
      }
     },
     "cdd6af3e1de24e6594d67e4ef22df208": {
      "model_module": "@jupyter-widgets/controls",
      "model_module_version": "1.1.0",
      "model_name": "ButtonStyleModel",
      "state": {}
     },
     "ce73c9001d9a4277bbb052b622320053": {
      "model_module": "@jupyter-widgets/controls",
      "model_module_version": "1.1.0",
      "model_name": "ButtonModel",
      "state": {
       "button_style": "warning",
       "description": "25",
       "layout": "IPY_MODEL_2609a17cced145ad91b86d4ddfbd3bfd",
       "style": "IPY_MODEL_b8f149cc7a21471bbd1888c561e55ed3"
      }
     },
     "cf2586039aff40ae992e1c2b5415bba3": {
      "model_module": "@jupyter-widgets/controls",
      "model_module_version": "1.1.0",
      "model_name": "ButtonModel",
      "state": {
       "description": "weight=1",
       "layout": "IPY_MODEL_76d4d4d310df41cab5230e1f722cb7a7",
       "style": "IPY_MODEL_2f644c36b4274022b9053fd3610ffcc6"
      }
     },
     "cf27c196e29e4334a21600398761d311": {
      "model_module": "@jupyter-widgets/controls",
      "model_module_version": "1.1.0",
      "model_name": "ButtonStyleModel",
      "state": {}
     },
     "cf2e13c109f2404082cbc4a570892bd3": {
      "model_module": "@jupyter-widgets/base",
      "model_module_version": "1.0.0",
      "model_name": "LayoutModel",
      "state": {}
     },
     "cf57c142eabc4d4da9889c9b8ace03b3": {
      "model_module": "@jupyter-widgets/controls",
      "model_module_version": "1.1.0",
      "model_name": "VBoxModel",
      "state": {
       "children": [
        "IPY_MODEL_ed7aafd95d624e41b4ea1259c4df0fe9",
        "IPY_MODEL_9dd86ec6beac49029edd848222fb7f4e"
       ],
       "layout": "IPY_MODEL_7d17118e60ce49cd9ff301b1b7284a3b"
      }
     },
     "cfc4e575bdaf4c8a9b85e1ef2eff6bd2": {
      "model_module": "@jupyter-widgets/controls",
      "model_module_version": "1.1.0",
      "model_name": "LabelModel",
      "state": {
       "layout": "IPY_MODEL_5ed9df4210aa49a0910430556b8af791",
       "style": "IPY_MODEL_42c5b4a9bec94fb5bbd57ce69e7c59f8",
       "value": "Scroll horizontally:"
      }
     },
     "d019b13dd8454aefb8a9523083a10707": {
      "model_module": "@jupyter-widgets/controls",
      "model_module_version": "1.1.0",
      "model_name": "ButtonModel",
      "state": {
       "button_style": "danger",
       "description": "battery",
       "layout": "IPY_MODEL_1e1fd102735342b8b1b0c3ce484e3628",
       "style": "IPY_MODEL_74f8a3bcacd04315a6e1a354b04c91d1"
      }
     },
     "d04f10db99314a9dbef7a8ee63f571d4": {
      "model_module": "@jupyter-widgets/controls",
      "model_module_version": "1.1.0",
      "model_name": "ButtonModel",
      "state": {
       "description": "weight=1",
       "layout": "IPY_MODEL_ae159805978e415196aeaac10d67ae27",
       "style": "IPY_MODEL_064bcdedc66840d69c61ad3a0d23e585"
      }
     },
     "d1208f324f3949f3aab2ce4886eaafab": {
      "model_module": "@jupyter-widgets/controls",
      "model_module_version": "1.1.0",
      "model_name": "ButtonModel",
      "state": {
       "button_style": "warning",
       "description": "12",
       "layout": "IPY_MODEL_616560d2e26b4bee8b7c903f483241f8",
       "style": "IPY_MODEL_d2574c76fbae4a76be9f7b9f7d105ee0"
      }
     },
     "d143308f1a254236860ec0aa692d37e6": {
      "model_module": "@jupyter-widgets/controls",
      "model_module_version": "1.1.0",
      "model_name": "ButtonModel",
      "state": {
       "description": "weight=2",
       "layout": "IPY_MODEL_8b9ec1b49e86467186da7992d5791712",
       "style": "IPY_MODEL_aac1a3d33f0544739eeb7da1c6e25359"
      }
     },
     "d2130f3e301b4cb9a4ca202a041384e6": {
      "model_module": "@jupyter-widgets/base",
      "model_module_version": "1.0.0",
      "model_name": "LayoutModel",
      "state": {
       "flex": "1",
       "width": "auto"
      }
     },
     "d2574c76fbae4a76be9f7b9f7d105ee0": {
      "model_module": "@jupyter-widgets/controls",
      "model_module_version": "1.1.0",
      "model_name": "ButtonStyleModel",
      "state": {}
     },
     "d37cbbd210de414a9e892cefed3dcfa2": {
      "model_module": "@jupyter-widgets/controls",
      "model_module_version": "1.1.0",
      "model_name": "BoxModel",
      "state": {
       "children": [
        "IPY_MODEL_815f2f47a1724f3c95a9b175f285bb08",
        "IPY_MODEL_1d89f5dde602459e9f6d93a616a51a20"
       ],
       "layout": "IPY_MODEL_b73dcd51c0a84653a2a1d0fc2da4f240"
      }
     },
     "d4543517cb03425a8000157cb31b2a7d": {
      "model_module": "@jupyter-widgets/controls",
      "model_module_version": "1.1.0",
      "model_name": "ButtonModel",
      "state": {
       "description": "weight=2",
       "layout": "IPY_MODEL_9733885a284f4464a1a69176a9372350",
       "style": "IPY_MODEL_dce530f1198d40269bf6fbac87b9f0f8"
      }
     },
     "d4ce337fca8e4de5b3b3b36859687ae9": {
      "model_module": "@jupyter-widgets/controls",
      "model_module_version": "1.1.0",
      "model_name": "ButtonModel",
      "state": {
       "button_style": "danger",
       "description": "staple",
       "layout": "IPY_MODEL_c7338576bee04316bd2700f1c493a0f7",
       "style": "IPY_MODEL_0f1367eb17cc4c11b7b0ebf866002deb"
      }
     },
     "d4f9f96e80344c9187f3c89a887d5403": {
      "model_module": "@jupyter-widgets/controls",
      "model_module_version": "1.1.0",
      "model_name": "ButtonStyleModel",
      "state": {}
     },
     "d52715ea8acd48ae86bf367d5c2b3560": {
      "model_module": "@jupyter-widgets/base",
      "model_module_version": "1.0.0",
      "model_name": "LayoutModel",
      "state": {}
     },
     "d56a85bc043242ebaa4e81e5c9279577": {
      "model_module": "@jupyter-widgets/controls",
      "model_module_version": "1.1.0",
      "model_name": "ButtonModel",
      "state": {
       "description": "weight=1",
       "layout": "IPY_MODEL_9b4ce2f6e8ef43319d291af785e84b9c",
       "style": "IPY_MODEL_9ab13f2e01fd4184a3a743db7fe1c4e0"
      }
     },
     "d59075743148499d85998baa4c1610f7": {
      "model_module": "@jupyter-widgets/base",
      "model_module_version": "1.0.0",
      "model_name": "LayoutModel",
      "state": {
       "align_items": "stretch",
       "border": "solid",
       "display": "flex",
       "flex_flow": "column",
       "width": "50%"
      }
     },
     "d5e2915cc3244ff7907814687d04a2dc": {
      "model_module": "@jupyter-widgets/controls",
      "model_module_version": "1.1.0",
      "model_name": "ButtonStyleModel",
      "state": {}
     },
     "d60f94d4c3744344b3a2c95c55b386ae": {
      "model_module": "@jupyter-widgets/controls",
      "model_module_version": "1.1.0",
      "model_name": "ButtonModel",
      "state": {
       "button_style": "warning",
       "description": "39",
       "layout": "IPY_MODEL_86c93170059349499a5f76156cbd8cdf",
       "style": "IPY_MODEL_266efae4a6144a01a622001aad39c189"
      }
     },
     "d69a6c380c1e4267888641a0f2037cea": {
      "model_module": "@jupyter-widgets/controls",
      "model_module_version": "1.1.0",
      "model_name": "ButtonStyleModel",
      "state": {}
     },
     "d6cfa902402c4241a698ed4b8771fb74": {
      "model_module": "@jupyter-widgets/controls",
      "model_module_version": "1.1.0",
      "model_name": "ButtonStyleModel",
      "state": {}
     },
     "d729dc20040e4037827adecf08dc107c": {
      "model_module": "@jupyter-widgets/base",
      "model_module_version": "1.0.0",
      "model_name": "LayoutModel",
      "state": {}
     },
     "d73b4caeebd04f0f93049cc451aad20f": {
      "model_module": "@jupyter-widgets/base",
      "model_module_version": "1.0.0",
      "model_name": "LayoutModel",
      "state": {}
     },
     "d7d7f989f8b14073b38926ad47009c5a": {
      "model_module": "@jupyter-widgets/controls",
      "model_module_version": "1.1.0",
      "model_name": "LabelModel",
      "state": {
       "layout": "IPY_MODEL_2f65966be1d2480fa60e34fc61858b2f",
       "style": "IPY_MODEL_4263b6f63d1948dc8a4d6ac8de41a03d",
       "value": "A too long description"
      }
     },
     "d87741c2d4ee455d8360e382ae57ee64": {
      "model_module": "@jupyter-widgets/base",
      "model_module_version": "1.0.0",
      "model_name": "LayoutModel",
      "state": {}
     },
     "d8bf78dd2ed14029a2a037d20df8d376": {
      "model_module": "@jupyter-widgets/controls",
      "model_module_version": "1.1.0",
      "model_name": "ButtonModel",
      "state": {
       "button_style": "danger",
       "description": "staple",
       "layout": "IPY_MODEL_c366761f53664b9b868f37fc6573d759",
       "style": "IPY_MODEL_33771e0b97014b8f8f212df5e06734e8"
      }
     },
     "d8e54c7d00fc4c79a19c5dae072e58cb": {
      "model_module": "@jupyter-widgets/base",
      "model_module_version": "1.0.0",
      "model_name": "LayoutModel",
      "state": {}
     },
     "d8fe3ef1a6a8463bae6d38c429f5ed42": {
      "model_module": "@jupyter-widgets/base",
      "model_module_version": "1.0.0",
      "model_name": "LayoutModel",
      "state": {}
     },
     "d91175e5716f4f2f8ec89f8021703c4d": {
      "model_module": "@jupyter-widgets/base",
      "model_module_version": "1.0.0",
      "model_name": "LayoutModel",
      "state": {}
     },
     "d92aeefa1a0f4b198a849e0b6e2439d5": {
      "model_module": "@jupyter-widgets/controls",
      "model_module_version": "1.1.0",
      "model_name": "ButtonModel",
      "state": {
       "button_style": "warning",
       "description": "37",
       "layout": "IPY_MODEL_86c93170059349499a5f76156cbd8cdf",
       "style": "IPY_MODEL_287006c856694fb096d94ecf36da90a9"
      }
     },
     "d93d15e3f1b24ab087bca04f7540616f": {
      "model_module": "@jupyter-widgets/controls",
      "model_module_version": "1.1.0",
      "model_name": "ButtonStyleModel",
      "state": {}
     },
     "d9a45cb023ea49df98748d985b1be01f": {
      "model_module": "@jupyter-widgets/base",
      "model_module_version": "1.0.0",
      "model_name": "LayoutModel",
      "state": {}
     },
     "d9c076ba47384cd99565a100c8615174": {
      "model_module": "@jupyter-widgets/controls",
      "model_module_version": "1.1.0",
      "model_name": "ButtonStyleModel",
      "state": {}
     },
     "da3eac9248c94e98a816fc458bff117b": {
      "model_module": "@jupyter-widgets/base",
      "model_module_version": "1.0.0",
      "model_name": "LayoutModel",
      "state": {}
     },
     "db0799217826411fb3ce2ad80e56b971": {
      "model_module": "@jupyter-widgets/controls",
      "model_module_version": "1.1.0",
      "model_name": "ButtonModel",
      "state": {
       "button_style": "warning",
       "description": "33",
       "layout": "IPY_MODEL_1d10072127cb4a32968374fdb7bd2479",
       "style": "IPY_MODEL_db6fa312881140e092630c93b7ce2be8"
      }
     },
     "db6b11f921114cf68c65b99c3a216ad2": {
      "model_module": "@jupyter-widgets/controls",
      "model_module_version": "1.1.0",
      "model_name": "ButtonStyleModel",
      "state": {}
     },
     "db6fa312881140e092630c93b7ce2be8": {
      "model_module": "@jupyter-widgets/controls",
      "model_module_version": "1.1.0",
      "model_name": "ButtonStyleModel",
      "state": {}
     },
     "db920ad3970f4522be1d0b2d2e93f719": {
      "model_module": "@jupyter-widgets/base",
      "model_module_version": "1.0.0",
      "model_name": "LayoutModel",
      "state": {
       "flex": "1 1 auto",
       "width": "auto"
      }
     },
     "dcc5a41fa3014226a31f6dec61649d84": {
      "model_module": "@jupyter-widgets/base",
      "model_module_version": "1.0.0",
      "model_name": "LayoutModel",
      "state": {
       "flex": "1 1 0%",
       "width": "auto"
      }
     },
     "dcc7e315e2e54740bbb3be9cb89d8f54": {
      "model_module": "@jupyter-widgets/controls",
      "model_module_version": "1.1.0",
      "model_name": "ButtonModel",
      "state": {
       "button_style": "warning",
       "description": "11",
       "layout": "IPY_MODEL_616560d2e26b4bee8b7c903f483241f8",
       "style": "IPY_MODEL_94a3a145e9514fddab69938d554c007d"
      }
     },
     "dcd60e0af5074cdcafc5cf09b9a6ea9b": {
      "model_module": "@jupyter-widgets/controls",
      "model_module_version": "1.1.0",
      "model_name": "ButtonModel",
      "state": {
       "button_style": "warning",
       "description": "25",
       "layout": "IPY_MODEL_616560d2e26b4bee8b7c903f483241f8",
       "style": "IPY_MODEL_9d5c20f158ce440bbfb469d817641fe1"
      }
     },
     "dce530f1198d40269bf6fbac87b9f0f8": {
      "model_module": "@jupyter-widgets/controls",
      "model_module_version": "1.1.0",
      "model_name": "ButtonStyleModel",
      "state": {}
     },
     "dd37173b5c674f3782a246cab24c85b4": {
      "model_module": "@jupyter-widgets/controls",
      "model_module_version": "1.1.0",
      "model_name": "ButtonModel",
      "state": {
       "button_style": "warning",
       "description": "35",
       "layout": "IPY_MODEL_86c93170059349499a5f76156cbd8cdf",
       "style": "IPY_MODEL_6d06309ef84242af8feab43b84d41494"
      }
     },
     "dd7b78a21535461ab0233a445896e1a8": {
      "model_module": "@jupyter-widgets/controls",
      "model_module_version": "1.1.0",
      "model_name": "LabelModel",
      "state": {
       "layout": "IPY_MODEL_3905a2daa1084809bcb136d6d5a6d8b3",
       "style": "IPY_MODEL_9dd98dcac8fc4d68bab541d80e8d8ccf",
       "value": "Scroll horizontally:"
      }
     },
     "dd8b8fa261c34c05bb79f708e6bf90e3": {
      "model_module": "@jupyter-widgets/controls",
      "model_module_version": "1.1.0",
      "model_name": "ButtonModel",
      "state": {
       "button_style": "warning",
       "description": "39",
       "layout": "IPY_MODEL_616560d2e26b4bee8b7c903f483241f8",
       "style": "IPY_MODEL_5e48460f0fb84a6683c77c9abcb5be56"
      }
     },
     "ddc86795151e40c79aa787eb69e17562": {
      "model_module": "@jupyter-widgets/controls",
      "model_module_version": "1.1.0",
      "model_name": "DescriptionStyleModel",
      "state": {
       "description_width": ""
      }
     },
     "de2208827b4f48c68915e881ca794115": {
      "model_module": "@jupyter-widgets/controls",
      "model_module_version": "1.1.0",
      "model_name": "ButtonStyleModel",
      "state": {
       "button_color": "lightgreen"
      }
     },
     "de5468720c5e4147b117f32a5ef58ec5": {
      "model_module": "@jupyter-widgets/base",
      "model_module_version": "1.0.0",
      "model_name": "LayoutModel",
      "state": {}
     },
     "dec63361c3dc4fa09a311641f419264e": {
      "model_module": "@jupyter-widgets/controls",
      "model_module_version": "1.1.0",
      "model_name": "ButtonStyleModel",
      "state": {}
     },
     "df42cf5042074ebeb5bb3b8015be3684": {
      "model_module": "@jupyter-widgets/base",
      "model_module_version": "1.0.0",
      "model_name": "LayoutModel",
      "state": {
       "display": "flex",
       "flex_flow": "row",
       "justify_content": "space-between"
      }
     },
     "df44b5237f374cffa675cf85d17a7ac3": {
      "model_module": "@jupyter-widgets/controls",
      "model_module_version": "1.1.0",
      "model_name": "ButtonStyleModel",
      "state": {}
     },
     "e080244dd9f74b548cc3d910ac8391c9": {
      "model_module": "@jupyter-widgets/base",
      "model_module_version": "1.0.0",
      "model_name": "LayoutModel",
      "state": {}
     },
     "e0baf2c0d1aa4946aed8ca0fb27fdac2": {
      "model_module": "@jupyter-widgets/base",
      "model_module_version": "1.0.0",
      "model_name": "LayoutModel",
      "state": {}
     },
     "e0d6241184be4291bc01cf1dcdad0dbb": {
      "model_module": "@jupyter-widgets/controls",
      "model_module_version": "1.1.0",
      "model_name": "ButtonModel",
      "state": {
       "description": "weight=1",
       "layout": "IPY_MODEL_db920ad3970f4522be1d0b2d2e93f719",
       "style": "IPY_MODEL_08be938e8c844acaaf4af0c0c20aedba"
      }
     },
     "e0e610b5ae0546c7a8da1a4c7047c94c": {
      "model_module": "@jupyter-widgets/controls",
      "model_module_version": "1.1.0",
      "model_name": "VBoxModel",
      "state": {
       "children": [
        "IPY_MODEL_cfc4e575bdaf4c8a9b85e1ef2eff6bd2",
        "IPY_MODEL_9d9a3b6bdd494789bbd673d633cf04d2"
       ],
       "layout": "IPY_MODEL_068098de804041e281ea697d7ec634bd"
      }
     },
     "e1c16e926cff471195778becd5ff2fc1": {
      "model_module": "@jupyter-widgets/controls",
      "model_module_version": "1.1.0",
      "model_name": "IntSliderModel",
      "state": {
       "description": "A too long description",
       "layout": "IPY_MODEL_a23aad3b93544613951f968d860c8ce1",
       "style": "IPY_MODEL_8bef0f64ac7744e59b5fa8fd34806ba3"
      }
     },
     "e1c4217b7eaa410a98cf3ab92fb9c96c": {
      "model_module": "@jupyter-widgets/controls",
      "model_module_version": "1.1.0",
      "model_name": "ButtonStyleModel",
      "state": {}
     },
     "e20de192866c4b78bc7befec8c8cbb6a": {
      "model_module": "@jupyter-widgets/controls",
      "model_module_version": "1.1.0",
      "model_name": "IntSliderModel",
      "state": {
       "description": "A too long description",
       "layout": "IPY_MODEL_b698e328807e435d9ae45fda6cc1b535",
       "style": "IPY_MODEL_52f8bb66598b4437a43f84857ecaed9d"
      }
     },
     "e2410422c0114408812c7322137e28ce": {
      "model_module": "@jupyter-widgets/controls",
      "model_module_version": "1.1.0",
      "model_name": "ButtonModel",
      "state": {
       "description": "battery",
       "layout": "IPY_MODEL_ee4ff732528240c6a1066dd00da7384b",
       "style": "IPY_MODEL_866e541298c5452482da2e154fd86053"
      }
     },
     "e24bf6ab054c443597a9614b562b9e24": {
      "model_module": "@jupyter-widgets/controls",
      "model_module_version": "1.1.0",
      "model_name": "ButtonStyleModel",
      "state": {}
     },
     "e2c92e00770542dc94198d3bdd96f124": {
      "model_module": "@jupyter-widgets/base",
      "model_module_version": "1.0.0",
      "model_name": "LayoutModel",
      "state": {
       "flex": "2 1 0%",
       "width": "auto"
      }
     },
     "e2e86cbf765748f2bf9e1d65ec72ecf1": {
      "model_module": "@jupyter-widgets/controls",
      "model_module_version": "1.1.0",
      "model_name": "BoxModel",
      "state": {
       "children": [
        "IPY_MODEL_12e45243f7ed43f1890eff5d6883910b",
        "IPY_MODEL_ba5eb26a607e4ea1b83850dfd015637b",
        "IPY_MODEL_acc6c51a8b2343b482e52a16d1573867",
        "IPY_MODEL_ee2a933ff0d345d98c1255a2e703cf4f"
       ],
       "layout": "IPY_MODEL_33a78844da0d4177bb96a16468bea759"
      }
     },
     "e3173b72324b4fbca41b3a15df78a948": {
      "model_module": "@jupyter-widgets/base",
      "model_module_version": "1.0.0",
      "model_name": "LayoutModel",
      "state": {}
     },
     "e32e1ba49d54431a8b33e2de4ff14642": {
      "model_module": "@jupyter-widgets/base",
      "model_module_version": "1.0.0",
      "model_name": "LayoutModel",
      "state": {
       "display": "flex",
       "flex_flow": "row",
       "justify_content": "space-between"
      }
     },
     "e3400dfe8e934a9fb5e80b9db63ed5ab": {
      "model_module": "@jupyter-widgets/controls",
      "model_module_version": "1.1.0",
      "model_name": "ButtonStyleModel",
      "state": {}
     },
     "e393e06fe41c4992abfab679edb305bb": {
      "model_module": "@jupyter-widgets/controls",
      "model_module_version": "1.1.0",
      "model_name": "ButtonModel",
      "state": {
       "description": "(50% width, 80px height) button",
       "layout": "IPY_MODEL_711e60d44f0a49b1b574965a053f4010",
       "style": "IPY_MODEL_39f10ac696a2444b89ff76ed0c4a1bd1"
      }
     },
     "e3f7c091d02642edb4be287ca1ad3b8c": {
      "model_module": "@jupyter-widgets/controls",
      "model_module_version": "1.1.0",
      "model_name": "ButtonStyleModel",
      "state": {}
     },
     "e400a45357cf40c980847b905d1c0959": {
      "model_module": "@jupyter-widgets/controls",
      "model_module_version": "1.1.0",
      "model_name": "ButtonModel",
      "state": {
       "description": "weight=1",
       "layout": "IPY_MODEL_2c710044878d4a40b3e43f8b845e8aa8",
       "style": "IPY_MODEL_8671460bf97b43f39cb6a6d349ae7a4d"
      }
     },
     "e441e870fdec4b89930e9dee703f3c62": {
      "model_module": "@jupyter-widgets/controls",
      "model_module_version": "1.1.0",
      "model_name": "ButtonModel",
      "state": {
       "button_style": "danger",
       "description": "battery",
       "layout": "IPY_MODEL_a7a4802e7a1c4935acd9be3da0412e41",
       "style": "IPY_MODEL_02f4c79d84054cfdba76827cd4971926"
      }
     },
     "e47052bfc9974d40b6c6b167a685065a": {
      "model_module": "@jupyter-widgets/controls",
      "model_module_version": "1.1.0",
      "model_name": "ButtonStyleModel",
      "state": {}
     },
     "e4b4f16bee534374ac503ddb8cefeb2d": {
      "model_module": "@jupyter-widgets/controls",
      "model_module_version": "1.1.0",
      "model_name": "ButtonModel",
      "state": {
       "button_style": "warning",
       "description": "23",
       "layout": "IPY_MODEL_86c93170059349499a5f76156cbd8cdf",
       "style": "IPY_MODEL_776fa7f8a04742a9a95b7c5ef8e0ba6e"
      }
     },
     "e5e0e37d2d5d401c858487478bf87531": {
      "model_module": "@jupyter-widgets/controls",
      "model_module_version": "1.1.0",
      "model_name": "VBoxModel",
      "state": {
       "children": [
        "IPY_MODEL_e2410422c0114408812c7322137e28ce",
        "IPY_MODEL_e9315d77e9c046e9bcd5305d5fcd68f5"
       ],
       "layout": "IPY_MODEL_45187f78492244acbdafbff605d128f1"
      }
     },
     "e654a8dc7afa4694b19190d5d40b9548": {
      "model_module": "@jupyter-widgets/controls",
      "model_module_version": "1.1.0",
      "model_name": "VBoxModel",
      "state": {
       "children": [
        "IPY_MODEL_dd7b78a21535461ab0233a445896e1a8",
        "IPY_MODEL_6f32d841632f49d5b2268fb667ef9b00"
       ],
       "layout": "IPY_MODEL_4625d8a4440b47b2ad95a84722e0de2c"
      }
     },
     "e664bdbb6a08479b8aef9b8e7a0579c3": {
      "model_module": "@jupyter-widgets/controls",
      "model_module_version": "1.1.0",
      "model_name": "ButtonModel",
      "state": {
       "description": "correct",
       "layout": "IPY_MODEL_1b5b88418a7543248fcaeb80778ea171",
       "style": "IPY_MODEL_5944c9fb8a58400f93ca111b886155d8"
      }
     },
     "e6a3178e4f9a4805bb32677e04bc6bbf": {
      "model_module": "@jupyter-widgets/controls",
      "model_module_version": "1.1.0",
      "model_name": "SliderStyleModel",
      "state": {
       "description_width": ""
      }
     },
     "e6ed3472dd5342dd8174a7304fc48c19": {
      "model_module": "@jupyter-widgets/base",
      "model_module_version": "1.0.0",
      "model_name": "LayoutModel",
      "state": {
       "flex": "1 1 0%",
       "width": "auto"
      }
     },
     "e73c4b594e154f709b73dd64b218c42e": {
      "model_module": "@jupyter-widgets/controls",
      "model_module_version": "1.1.0",
      "model_name": "ButtonModel",
      "state": {
       "description": "Custom color",
       "layout": "IPY_MODEL_0623f28438cf413d9a74c890263929ea",
       "style": "IPY_MODEL_014f723810b5437183be04792681830f"
      }
     },
     "e73dc4739bca4f58abe42c1e065691e6": {
      "model_module": "@jupyter-widgets/controls",
      "model_module_version": "1.1.0",
      "model_name": "ButtonStyleModel",
      "state": {}
     },
     "e758cc3d1d944ceca8369ac0ad2a67df": {
      "model_module": "@jupyter-widgets/controls",
      "model_module_version": "1.1.0",
      "model_name": "ButtonStyleModel",
      "state": {}
     },
     "e77af21d3f76480694434674087d51bf": {
      "model_module": "@jupyter-widgets/controls",
      "model_module_version": "1.1.0",
      "model_name": "ButtonModel",
      "state": {
       "button_style": "warning",
       "description": "12",
       "layout": "IPY_MODEL_86c93170059349499a5f76156cbd8cdf",
       "style": "IPY_MODEL_0495d268740a478fb417a9353429380e"
      }
     },
     "e85134800e794418814e5c8c7e3f900d": {
      "model_module": "@jupyter-widgets/base",
      "model_module_version": "1.0.0",
      "model_name": "LayoutModel",
      "state": {}
     },
     "e897f7fe08e34d7486502d5c5ceecac7": {
      "model_module": "@jupyter-widgets/controls",
      "model_module_version": "1.1.0",
      "model_name": "HBoxModel",
      "state": {
       "children": [
        "IPY_MODEL_b075b178e5824efeaa817a3c8b35a47c",
        "IPY_MODEL_942797e11eb542cea46b4dbeb7d2c748"
       ],
       "layout": "IPY_MODEL_5fb993e839ca4c4fb445e8f37ced0df7"
      }
     },
     "e8a8584b16fb444bb48194ddb4eb9e4e": {
      "model_module": "@jupyter-widgets/controls",
      "model_module_version": "1.1.0",
      "model_name": "ButtonStyleModel",
      "state": {}
     },
     "e9315d77e9c046e9bcd5305d5fcd68f5": {
      "model_module": "@jupyter-widgets/controls",
      "model_module_version": "1.1.0",
      "model_name": "ButtonModel",
      "state": {
       "description": "staple",
       "layout": "IPY_MODEL_33e3ea8dc8d04462b86cbf5d6a52813d",
       "style": "IPY_MODEL_310ed406907641baa639278762835d72"
      }
     },
     "e9357d0e0a3f49278997d7be2d59bfd0": {
      "model_module": "@jupyter-widgets/controls",
      "model_module_version": "1.1.0",
      "model_name": "ButtonModel",
      "state": {
       "button_style": "warning",
       "description": "32",
       "layout": "IPY_MODEL_1d10072127cb4a32968374fdb7bd2479",
       "style": "IPY_MODEL_9ab129776c9d43c6a916d31c636578ab"
      }
     },
     "e97288a6d58c4c96999ac775891f8048": {
      "model_module": "@jupyter-widgets/controls",
      "model_module_version": "1.1.0",
      "model_name": "ButtonStyleModel",
      "state": {}
     },
     "e97b5a0afdcd4da5acdea782e5f27e71": {
      "model_module": "@jupyter-widgets/controls",
      "model_module_version": "1.1.0",
      "model_name": "ButtonStyleModel",
      "state": {}
     },
     "ea29e566694e46f78dc084f14dd904e7": {
      "model_module": "@jupyter-widgets/controls",
      "model_module_version": "1.1.0",
      "model_name": "ButtonStyleModel",
      "state": {}
     },
     "eb519ea549d74d80a53b7fde8954f646": {
      "model_module": "@jupyter-widgets/controls",
      "model_module_version": "1.1.0",
      "model_name": "ButtonStyleModel",
      "state": {}
     },
     "ec2fc48f4c1b4f47adcc5f3b0e1efc29": {
      "model_module": "@jupyter-widgets/controls",
      "model_module_version": "1.1.0",
      "model_name": "VBoxModel",
      "state": {
       "children": [
        "IPY_MODEL_108bb8ce088d4254bfee3ccc10190f14",
        "IPY_MODEL_64eec6386f7a42ac992de6d8ff992b13"
       ],
       "layout": "IPY_MODEL_62c87d55ccf84459b77a17e06c2d1719"
      }
     },
     "ec40cd611ffd437697bbc345df0a504c": {
      "model_module": "@jupyter-widgets/controls",
      "model_module_version": "1.1.0",
      "model_name": "DescriptionStyleModel",
      "state": {
       "description_width": ""
      }
     },
     "ec62bca979ac41b98e92acbce35fc79c": {
      "model_module": "@jupyter-widgets/controls",
      "model_module_version": "1.1.0",
      "model_name": "ButtonStyleModel",
      "state": {}
     },
     "ed21397c67c54aec8b6c2c9d077f8ba8": {
      "model_module": "@jupyter-widgets/controls",
      "model_module_version": "1.1.0",
      "model_name": "ButtonModel",
      "state": {
       "button_style": "warning",
       "description": "36",
       "layout": "IPY_MODEL_1d10072127cb4a32968374fdb7bd2479",
       "style": "IPY_MODEL_7ae39135cf4e4462b6668ffc1a9772e3"
      }
     },
     "ed7aafd95d624e41b4ea1259c4df0fe9": {
      "model_module": "@jupyter-widgets/controls",
      "model_module_version": "1.1.0",
      "model_name": "ButtonModel",
      "state": {
       "description": "correct",
       "layout": "IPY_MODEL_d91175e5716f4f2f8ec89f8021703c4d",
       "style": "IPY_MODEL_8fde0902d3b744ac9fafb7e7daa69a0c"
      }
     },
     "edaa3b0770784ac5ae3f5953cbe4395f": {
      "model_module": "@jupyter-widgets/controls",
      "model_module_version": "1.1.0",
      "model_name": "ButtonModel",
      "state": {
       "description": "weight=1",
       "layout": "IPY_MODEL_5d47575e167c4a56bf7a5e4aeab1e572",
       "style": "IPY_MODEL_0de70a0050d04470a19d885cf9e4d1a2"
      }
     },
     "edbe2f1e386c47c4b8bf0a1f0e0509b3": {
      "model_module": "@jupyter-widgets/controls",
      "model_module_version": "1.1.0",
      "model_name": "ButtonModel",
      "state": {
       "button_style": "warning",
       "description": "9",
       "layout": "IPY_MODEL_1d10072127cb4a32968374fdb7bd2479",
       "style": "IPY_MODEL_973aa523fdab4ec0bb38cd7e75e5decb"
      }
     },
     "ee2a933ff0d345d98c1255a2e703cf4f": {
      "model_module": "@jupyter-widgets/controls",
      "model_module_version": "1.1.0",
      "model_name": "ButtonModel",
      "state": {
       "button_style": "danger",
       "description": "staple",
       "layout": "IPY_MODEL_f36062d1658742dbab9032aaa90395e7",
       "style": "IPY_MODEL_c5fba2ce896841f7a41836bd9766daaa"
      }
     },
     "ee35a1c4b4124208b013ae94616b4f02": {
      "model_module": "@jupyter-widgets/controls",
      "model_module_version": "1.1.0",
      "model_name": "ButtonStyleModel",
      "state": {}
     },
     "ee4ff732528240c6a1066dd00da7384b": {
      "model_module": "@jupyter-widgets/base",
      "model_module_version": "1.0.0",
      "model_name": "LayoutModel",
      "state": {}
     },
     "ee59aeb620914056a69fcbff3e9ed95d": {
      "model_module": "@jupyter-widgets/controls",
      "model_module_version": "1.1.0",
      "model_name": "BoxModel",
      "state": {
       "children": [
        "IPY_MODEL_bc8e6770c5fc4d3181b1f1e5df7c8b13",
        "IPY_MODEL_d4543517cb03425a8000157cb31b2a7d",
        "IPY_MODEL_59eb5ce652cc4f50b5cd9da20bb1974f"
       ],
       "layout": "IPY_MODEL_26de14cf89fb4a058ebbd27357adcf0a"
      }
     },
     "ef361712716f4f0b80f2b5993202fe83": {
      "model_module": "@jupyter-widgets/controls",
      "model_module_version": "1.1.0",
      "model_name": "ButtonStyleModel",
      "state": {}
     },
     "efaeb1522f6f4d09ac5b18108e38e438": {
      "model_module": "@jupyter-widgets/controls",
      "model_module_version": "1.1.0",
      "model_name": "LabelModel",
      "state": {
       "layout": "IPY_MODEL_5485f6a5b84d4fbf9425c19995c82f97",
       "style": "IPY_MODEL_b04a460354e144d390998777d793d347",
       "value": "Age of the captain"
      }
     },
     "efe6ac6f093848adb8711e770c37e705": {
      "model_module": "@jupyter-widgets/controls",
      "model_module_version": "1.1.0",
      "model_name": "ButtonStyleModel",
      "state": {}
     },
     "f028e5d9f13649ab99f2a4c9943c7790": {
      "model_module": "@jupyter-widgets/controls",
      "model_module_version": "1.1.0",
      "model_name": "BoxModel",
      "state": {
       "children": [
        "IPY_MODEL_8fa1e49d47e241059fca5b4266e78bd6",
        "IPY_MODEL_88d173de56c74d45b67188ce9f7cc11f"
       ],
       "layout": "IPY_MODEL_df42cf5042074ebeb5bb3b8015be3684"
      }
     },
     "f04f5d455c6844f9b072aefe3ed37b36": {
      "model_module": "@jupyter-widgets/base",
      "model_module_version": "1.0.0",
      "model_name": "LayoutModel",
      "state": {
       "flex": "2 1 auto",
       "width": "auto"
      }
     },
     "f053f96b74334d549a7542d7de120df7": {
      "model_module": "@jupyter-widgets/controls",
      "model_module_version": "1.1.0",
      "model_name": "ButtonStyleModel",
      "state": {}
     },
     "f0851fa043b5460ba4418acfebafab79": {
      "model_module": "@jupyter-widgets/controls",
      "model_module_version": "1.1.0",
      "model_name": "ButtonModel",
      "state": {
       "layout": "IPY_MODEL_95f0f9a0452e4de2b20b7e0b63dc8781",
       "style": "IPY_MODEL_6585e15f31b0423f80c564b79b270ada"
      }
     },
     "f0c7629d901a43cd9d6a96380c03f7e5": {
      "model_module": "@jupyter-widgets/controls",
      "model_module_version": "1.1.0",
      "model_name": "ButtonStyleModel",
      "state": {}
     },
     "f14462339316411b973ea1c520418efe": {
      "model_module": "@jupyter-widgets/controls",
      "model_module_version": "1.1.0",
      "model_name": "ButtonStyleModel",
      "state": {}
     },
     "f14cb61f9f674993879d846812dfadb1": {
      "model_module": "@jupyter-widgets/base",
      "model_module_version": "1.0.0",
      "model_name": "LayoutModel",
      "state": {}
     },
     "f16528c6763648969048b081e6512640": {
      "model_module": "@jupyter-widgets/controls",
      "model_module_version": "1.1.0",
      "model_name": "ButtonStyleModel",
      "state": {}
     },
     "f17377771f7049e190a14b5c5eceb10d": {
      "model_module": "@jupyter-widgets/controls",
      "model_module_version": "1.1.0",
      "model_name": "ButtonStyleModel",
      "state": {}
     },
     "f19df83f360f4ab5a8e768aaf5549ea3": {
      "model_module": "@jupyter-widgets/controls",
      "model_module_version": "1.1.0",
      "model_name": "ButtonStyleModel",
      "state": {}
     },
     "f1ea935c68574f75a7be4e1548c1065e": {
      "model_module": "@jupyter-widgets/controls",
      "model_module_version": "1.1.0",
      "model_name": "DescriptionStyleModel",
      "state": {
       "description_width": ""
      }
     },
     "f211ae83f92c4671a85bb9214ea5cea8": {
      "model_module": "@jupyter-widgets/controls",
      "model_module_version": "1.1.0",
      "model_name": "ButtonModel",
      "state": {
       "button_style": "warning",
       "description": "3",
       "layout": "IPY_MODEL_616560d2e26b4bee8b7c903f483241f8",
       "style": "IPY_MODEL_8d057a6c3c834da3ac14af37789e994b"
      }
     },
     "f2244c4aa510415399772c690586f1be": {
      "model_module": "@jupyter-widgets/controls",
      "model_module_version": "1.1.0",
      "model_name": "ButtonModel",
      "state": {
       "button_style": "warning",
       "description": "1",
       "layout": "IPY_MODEL_616560d2e26b4bee8b7c903f483241f8",
       "style": "IPY_MODEL_d93d15e3f1b24ab087bca04f7540616f"
      }
     },
     "f36062d1658742dbab9032aaa90395e7": {
      "model_module": "@jupyter-widgets/base",
      "model_module_version": "1.0.0",
      "model_name": "LayoutModel",
      "state": {
       "width": "auto"
      }
     },
     "f37b8c8dc72447418fdf4f8463238e9e": {
      "model_module": "@jupyter-widgets/controls",
      "model_module_version": "1.1.0",
      "model_name": "ButtonStyleModel",
      "state": {}
     },
     "f391b86609024ca9b1e4e6ff3cbbae93": {
      "model_module": "@jupyter-widgets/controls",
      "model_module_version": "1.1.0",
      "model_name": "ButtonModel",
      "state": {
       "description": "weight=1",
       "layout": "IPY_MODEL_15d5ef6f85b6482aa7d6644b0d5c0fdd",
       "style": "IPY_MODEL_6603eb25b4ff475e9ff2ac306a7decaf"
      }
     },
     "f3a676438b984f99bc6d451c5e37393f": {
      "model_module": "@jupyter-widgets/controls",
      "model_module_version": "1.1.0",
      "model_name": "ButtonStyleModel",
      "state": {}
     },
     "f3fb93e4c4b74bbe827f8a648f3c5ca1": {
      "model_module": "@jupyter-widgets/controls",
      "model_module_version": "1.1.0",
      "model_name": "ButtonStyleModel",
      "state": {}
     },
     "f3fc08e247f443cf9a9b0df3229d465e": {
      "model_module": "@jupyter-widgets/controls",
      "model_module_version": "1.1.0",
      "model_name": "ButtonStyleModel",
      "state": {}
     },
     "f5459b59461a46308b2839ffc9cefda8": {
      "model_module": "@jupyter-widgets/controls",
      "model_module_version": "1.1.0",
      "model_name": "BoxModel",
      "state": {
       "children": [
        "IPY_MODEL_f5ed8bd5b1f348d892945e419c7de5a3",
        "IPY_MODEL_6d8e29f8b4d34096a3a5cf54f9aa11dc"
       ],
       "layout": "IPY_MODEL_df42cf5042074ebeb5bb3b8015be3684"
      }
     },
     "f59486b65db144289a8496f814c1efc5": {
      "model_module": "@jupyter-widgets/base",
      "model_module_version": "1.0.0",
      "model_name": "LayoutModel",
      "state": {}
     },
     "f599c7f9411c419cbec632eccecaa2d8": {
      "model_module": "@jupyter-widgets/controls",
      "model_module_version": "1.1.0",
      "model_name": "BoxModel",
      "state": {
       "children": [
        "IPY_MODEL_2331d8e0d80446cab4e459de1753d725",
        "IPY_MODEL_408c0990f51b4088965ec735547d9edf",
        "IPY_MODEL_bdc14834747f418eace27551f596f8f7"
       ],
       "layout": "IPY_MODEL_70de4703b5c74a9c89f719f68bb74fb7"
      }
     },
     "f5af1d1a7ab84c85ba70f3b4773c18f5": {
      "model_module": "@jupyter-widgets/controls",
      "model_module_version": "1.1.0",
      "model_name": "ButtonModel",
      "state": {
       "button_style": "warning",
       "description": "26",
       "layout": "IPY_MODEL_616560d2e26b4bee8b7c903f483241f8",
       "style": "IPY_MODEL_a56887cef4d14bf08f53ddb400ab92bf"
      }
     },
     "f5ed8bd5b1f348d892945e419c7de5a3": {
      "model_module": "@jupyter-widgets/controls",
      "model_module_version": "1.1.0",
      "model_name": "LabelModel",
      "state": {
       "layout": "IPY_MODEL_0ead874e67d44643a236c949155a5368",
       "style": "IPY_MODEL_b99cb7d29769435d8dea0a6e1c0f8aef",
       "value": "Ship size"
      }
     },
     "f635bd3b224c4f18936c7b7df72219f0": {
      "model_module": "@jupyter-widgets/controls",
      "model_module_version": "1.1.0",
      "model_name": "ButtonStyleModel",
      "state": {}
     },
     "f65a7ac3607648be8f961590e0683f0b": {
      "model_module": "@jupyter-widgets/controls",
      "model_module_version": "1.1.0",
      "model_name": "ButtonModel",
      "state": {
       "button_style": "warning",
       "description": "9",
       "layout": "IPY_MODEL_616560d2e26b4bee8b7c903f483241f8",
       "style": "IPY_MODEL_e3400dfe8e934a9fb5e80b9db63ed5ab"
      }
     },
     "f6b30d21547d4fbf8e629b4f39976242": {
      "model_module": "@jupyter-widgets/controls",
      "model_module_version": "1.1.0",
      "model_name": "DescriptionStyleModel",
      "state": {
       "description_width": ""
      }
     },
     "f6bc97733fb0454a93858ccd75218405": {
      "model_module": "@jupyter-widgets/controls",
      "model_module_version": "1.1.0",
      "model_name": "ButtonModel",
      "state": {
       "description": "weight=2",
       "layout": "IPY_MODEL_48b80f01817c432daedf5417f9612424",
       "style": "IPY_MODEL_17877695fe4d4aa78455f58b7c73fa1e"
      }
     },
     "f6ca1f989ef6416ea22d35c2bb7c97a2": {
      "model_module": "@jupyter-widgets/controls",
      "model_module_version": "1.1.0",
      "model_name": "ButtonModel",
      "state": {
       "button_style": "danger",
       "description": "battery",
       "layout": "IPY_MODEL_c7338576bee04316bd2700f1c493a0f7",
       "style": "IPY_MODEL_5dc2386043a142b995e22172f41fbdc2"
      }
     },
     "f6d6962875c34a70906b93ebd256fe48": {
      "model_module": "@jupyter-widgets/controls",
      "model_module_version": "1.1.0",
      "model_name": "ButtonStyleModel",
      "state": {}
     },
     "f79ab8504cca44e297791fef4f73d832": {
      "model_module": "@jupyter-widgets/controls",
      "model_module_version": "1.1.0",
      "model_name": "ButtonModel",
      "state": {
       "button_style": "warning",
       "description": "22",
       "layout": "IPY_MODEL_86c93170059349499a5f76156cbd8cdf",
       "style": "IPY_MODEL_3245b9e93a9e411a950d348a7b1024ca"
      }
     },
     "f79b7ab5630e4514b4b76e9700d1c127": {
      "model_module": "@jupyter-widgets/controls",
      "model_module_version": "1.1.0",
      "model_name": "ButtonStyleModel",
      "state": {}
     },
     "f7a72320633547fd8bdece9fcffb4be9": {
      "model_module": "@jupyter-widgets/controls",
      "model_module_version": "1.1.0",
      "model_name": "ButtonModel",
      "state": {
       "button_style": "warning",
       "description": "0",
       "layout": "IPY_MODEL_616560d2e26b4bee8b7c903f483241f8",
       "style": "IPY_MODEL_f868d410b6c447d69a55313d116ea7eb"
      }
     },
     "f7a7526ce5d94d4cab8f25fc8cd90459": {
      "model_module": "@jupyter-widgets/controls",
      "model_module_version": "1.1.0",
      "model_name": "ButtonModel",
      "state": {
       "button_style": "warning",
       "description": "38",
       "layout": "IPY_MODEL_2609a17cced145ad91b86d4ddfbd3bfd",
       "style": "IPY_MODEL_c16a7d0bb84c46a6ac020d54bc027c1b"
      }
     },
     "f7c78de217ba4d87a546f10e56d25822": {
      "model_module": "@jupyter-widgets/controls",
      "model_module_version": "1.1.0",
      "model_name": "ButtonModel",
      "state": {
       "description": "weight=2",
       "layout": "IPY_MODEL_b6afee0ba22848ebad3a1831c931c5af",
       "style": "IPY_MODEL_852889b600cb4f98990513e3000fe4c9"
      }
     },
     "f868d410b6c447d69a55313d116ea7eb": {
      "model_module": "@jupyter-widgets/controls",
      "model_module_version": "1.1.0",
      "model_name": "ButtonStyleModel",
      "state": {}
     },
     "f88dee20c7b54c4a93b71787ec4d2e30": {
      "model_module": "@jupyter-widgets/controls",
      "model_module_version": "1.1.0",
      "model_name": "ButtonStyleModel",
      "state": {
       "button_color": "lightgreen"
      }
     },
     "f8bea1c4dd1a4f2ca827a68b32efe6dc": {
      "model_module": "@jupyter-widgets/base",
      "model_module_version": "1.0.0",
      "model_name": "LayoutModel",
      "state": {
       "flex": "1 1 0%",
       "width": "auto"
      }
     },
     "f8f00727b33d48cf9d5267fff244edda": {
      "model_module": "@jupyter-widgets/base",
      "model_module_version": "1.0.0",
      "model_name": "LayoutModel",
      "state": {}
     },
     "f9c6fac1215b43189b0672165fb8e435": {
      "model_module": "@jupyter-widgets/controls",
      "model_module_version": "1.1.0",
      "model_name": "ButtonModel",
      "state": {
       "button_style": "warning",
       "description": "29",
       "layout": "IPY_MODEL_616560d2e26b4bee8b7c903f483241f8",
       "style": "IPY_MODEL_1bde4c27018d4aeaae155d981299f4ec"
      }
     },
     "fa68a3bfdc4049d39dece2c8e725a2e8": {
      "model_module": "@jupyter-widgets/base",
      "model_module_version": "1.0.0",
      "model_name": "LayoutModel",
      "state": {}
     },
     "fafcf24ab6554f218c36ec0073cae5ca": {
      "model_module": "@jupyter-widgets/controls",
      "model_module_version": "1.1.0",
      "model_name": "ButtonModel",
      "state": {
       "button_style": "warning",
       "description": "12",
       "layout": "IPY_MODEL_2609a17cced145ad91b86d4ddfbd3bfd",
       "style": "IPY_MODEL_70f4fd148fae4de6ad97754662ce8e4f"
      }
     },
     "fb74280ca63843f5bb3aac9d06dfa625": {
      "model_module": "@jupyter-widgets/controls",
      "model_module_version": "1.1.0",
      "model_name": "BoxModel",
      "state": {
       "children": [
        "IPY_MODEL_23f96ef0d33e4def83c6e8aac5810854",
        "IPY_MODEL_3cdcccc5301a48db9bd3a75fab5d58ca"
       ],
       "layout": "IPY_MODEL_e32e1ba49d54431a8b33e2de4ff14642"
      }
     },
     "fc77ce3cd6e342e2b28131ff8f6a3d2d": {
      "model_module": "@jupyter-widgets/controls",
      "model_module_version": "1.1.0",
      "model_name": "ButtonStyleModel",
      "state": {}
     },
     "fe114d8bb26f4306b304892f642987de": {
      "model_module": "@jupyter-widgets/controls",
      "model_module_version": "1.1.0",
      "model_name": "ButtonModel",
      "state": {
       "button_style": "warning",
       "description": "15",
       "layout": "IPY_MODEL_1d10072127cb4a32968374fdb7bd2479",
       "style": "IPY_MODEL_20b92a5e570f4f64b43b9ed7bf18481b"
      }
     },
     "fe5df9ccff5d496e914e9074d7640b46": {
      "model_module": "@jupyter-widgets/base",
      "model_module_version": "1.0.0",
      "model_name": "LayoutModel",
      "state": {}
     },
     "febfc1d66e4e445284879a52f66a07bd": {
      "model_module": "@jupyter-widgets/controls",
      "model_module_version": "1.1.0",
      "model_name": "SliderStyleModel",
      "state": {
       "description_width": ""
      }
     },
     "fefbd7e119b04c1f9fb5290a98070844": {
      "model_module": "@jupyter-widgets/controls",
      "model_module_version": "1.1.0",
      "model_name": "ButtonModel",
      "state": {
       "description": "battery",
       "layout": "IPY_MODEL_f8f00727b33d48cf9d5267fff244edda",
       "style": "IPY_MODEL_dec63361c3dc4fa09a311641f419264e"
      }
     },
     "ff4a59943615409dbf27cc8030e16632": {
      "model_module": "@jupyter-widgets/controls",
      "model_module_version": "1.1.0",
      "model_name": "ButtonModel",
      "state": {
       "button_style": "warning",
       "description": "19",
       "layout": "IPY_MODEL_2609a17cced145ad91b86d4ddfbd3bfd",
       "style": "IPY_MODEL_254c35ab985e4f79bc0283589ef4061b"
      }
     },
     "ff83abaf008e428cb7ea0ebc26e3b22a": {
      "model_module": "@jupyter-widgets/controls",
      "model_module_version": "1.1.0",
      "model_name": "LabelModel",
      "state": {
       "layout": "IPY_MODEL_3692fd149d7b4b7993f4215dc144b7d4",
       "style": "IPY_MODEL_0e5afcffed4e47e18d97bd2dc561877f",
       "value": "Ship size"
      }
     },
     "fff6803d5150478da66f80906ff01338": {
      "model_module": "@jupyter-widgets/base",
      "model_module_version": "1.0.0",
      "model_name": "LayoutModel",
      "state": {}
     }
    },
    "version_major": 2,
    "version_minor": 0
   }
  }
 },
 "nbformat": 4,
 "nbformat_minor": 1
}
