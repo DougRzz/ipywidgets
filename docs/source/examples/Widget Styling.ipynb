{
 "cells": [
  {
   "cell_type": "markdown",
   "metadata": {},
   "source": [
    "# Layout and Styling of Jupyter widgets\n",
    "\n",
    "This notebook presents how to layout and style Jupyter interactive widgets to build rich and *reactive* widget-based applications."
   ]
  },
  {
   "cell_type": "markdown",
   "metadata": {},
   "source": [
    "## The `layout` attribute.\n",
    "\n",
    "Jupyter interactive widgets have a `layout` attribute exposing a number of CSS properties that impact how widgets are laid out.\n",
    "\n",
    "### Exposed CSS properties\n",
    "\n",
    "<div class=\"alert alert-info\" style=\"margin: 20px\">\n",
    "The following properties map to the values of the CSS properties of the same name (underscores being replaced with dashes), applied to the top DOM elements of the corresponding widget.\n",
    "</div>\n",
    "\n",
    "\n",
    "#### Sizes\n",
    "\n",
    "- `height`\n",
    "- `width`\n",
    "- `max_height`\n",
    "- `max_width`\n",
    "- `min_height`\n",
    "- `min_width`\n",
    "\n",
    "#### Display\n",
    "\n",
    "- `visibility`\n",
    "- `display`\n",
    "- `overflow`\n",
    "- `overflow_x`\n",
    "- `overflow_y`\n",
    "\n",
    "#### Box model\n",
    "\n",
    "- `border` \n",
    "- `margin`\n",
    "- `padding`\n",
    "\n",
    "#### Positioning\n",
    "\n",
    "- `top`\n",
    "- `left`\n",
    "- `bottom`\n",
    "- `right`\n",
    "\n",
    "#### Flexbox\n",
    "\n",
    "- `order`\n",
    "- `flex_flow`\n",
    "- `align_items`\n",
    "- `flex`\n",
    "- `align_self`\n",
    "- `align_content`\n",
    "- `justify_content`\n",
    "\n",
    "\n",
    "### Shorthand CSS properties\n",
    "\n",
    "You may have noticed that certain CSS properties such as `margin-[top/right/bottom/left]` seem to be missing. The same holds for `padding-[top/right/bottom/left]` etc.\n",
    "\n",
    "In fact, you can atomically specify `[top/right/bottom/left]` margins via the `margin` attribute alone by passing the string `'100px 150px 100px 80px'` for a respectively `top`, `right`, `bottom` and `left` margins of  `100`, `150`, `100` and `80` pixels.\n",
    "\n",
    "Similarly, the `flex` attribute can hold values for `flex-grow`, `flex-shrink` and `flex-basis`. The `border` attribute is a shorthand property for `border-width`, `border-style (required)`, and `border-color`."
   ]
  },
  {
   "cell_type": "markdown",
   "metadata": {},
   "source": [
    "### Simple examples"
   ]
  },
  {
   "cell_type": "markdown",
   "metadata": {},
   "source": [
    "The following example shows how to resize a `Button` so that its views have a height of `80px` and a width of `50%` of the available space:"
   ]
  },
  {
   "cell_type": "code",
   "execution_count": 25,
   "metadata": {},
   "outputs": [
    {
     "data": {
      "application/vnd.jupyter.widget-view+json": {
       "model_id": "75a91993b65349c6a31b7633b6b9f099",
       "version_major": 2,
       "version_minor": 0
      },
      "text/html": [
       "<p>Failed to display Jupyter Widget of type <code>Button</code>.</p>\n",
       "<p>\n",
       "  If you're reading this message in the Jupyter Notebook or JupyterLab Notebook, it may mean\n",
       "  that the widgets JavaScript is still loading. If this message persists, it\n",
       "  likely means that the widgets JavaScript library is either not installed or\n",
       "  not enabled. See the <a href=\"https://ipywidgets.readthedocs.io/en/stable/user_install.html\">Jupyter\n",
       "  Widgets Documentation</a> for setup instructions.\n",
       "</p>\n",
       "<p>\n",
       "  If you're reading this message in another frontend (for example, a static\n",
       "  rendering on GitHub or <a href=\"https://nbviewer.jupyter.org/\">NBViewer</a>),\n",
       "  it may mean that your frontend doesn't currently support widgets.\n",
       "</p>\n"
      ],
      "text/plain": [
       "Button(description='(50% width, 80px height) button', layout=Layout(height='80px', width='50%'), style=ButtonStyle())"
      ]
     },
     "metadata": {},
     "output_type": "display_data"
    }
   ],
   "source": [
    "from ipywidgets import Button, Layout\n",
    "\n",
    "b = Button(description='(50% width, 80px height) button',\n",
    "           layout=Layout(width='50%', height='80px'))\n",
    "b"
   ]
  },
  {
   "cell_type": "markdown",
   "metadata": {},
   "source": [
    "The `layout` property can be shared between multiple widgets and assigned directly."
   ]
  },
  {
   "cell_type": "code",
   "execution_count": 26,
   "metadata": {},
   "outputs": [
    {
     "data": {
      "application/vnd.jupyter.widget-view+json": {
       "model_id": "d9a728eb75ee47fc94e6e9a7683810d8",
       "version_major": 2,
       "version_minor": 0
      },
      "text/html": [
       "<p>Failed to display Jupyter Widget of type <code>Button</code>.</p>\n",
       "<p>\n",
       "  If you're reading this message in the Jupyter Notebook or JupyterLab Notebook, it may mean\n",
       "  that the widgets JavaScript is still loading. If this message persists, it\n",
       "  likely means that the widgets JavaScript library is either not installed or\n",
       "  not enabled. See the <a href=\"https://ipywidgets.readthedocs.io/en/stable/user_install.html\">Jupyter\n",
       "  Widgets Documentation</a> for setup instructions.\n",
       "</p>\n",
       "<p>\n",
       "  If you're reading this message in another frontend (for example, a static\n",
       "  rendering on GitHub or <a href=\"https://nbviewer.jupyter.org/\">NBViewer</a>),\n",
       "  it may mean that your frontend doesn't currently support widgets.\n",
       "</p>\n"
      ],
      "text/plain": [
       "Button(description='Another button with the same layout', layout=Layout(height='80px', width='50%'), style=ButtonStyle())"
      ]
     },
     "metadata": {},
     "output_type": "display_data"
    }
   ],
   "source": [
    "Button(description='Another button with the same layout', layout=b.layout)"
   ]
  },
  {
   "cell_type": "markdown",
   "metadata": {},
   "source": [
    "### Description"
   ]
  },
  {
   "cell_type": "markdown",
   "metadata": {},
   "source": [
    "You may have noticed that long descriptions are truncated. This is because the description length is, by default, fixed."
   ]
  },
  {
   "cell_type": "code",
   "execution_count": 27,
   "metadata": {},
   "outputs": [
    {
     "data": {
      "application/vnd.jupyter.widget-view+json": {
       "model_id": "0fe679996c884f07a7e0703fef7e831c",
       "version_major": 2,
       "version_minor": 0
      },
      "text/html": [
       "<p>Failed to display Jupyter Widget of type <code>IntSlider</code>.</p>\n",
       "<p>\n",
       "  If you're reading this message in the Jupyter Notebook or JupyterLab Notebook, it may mean\n",
       "  that the widgets JavaScript is still loading. If this message persists, it\n",
       "  likely means that the widgets JavaScript library is either not installed or\n",
       "  not enabled. See the <a href=\"https://ipywidgets.readthedocs.io/en/stable/user_install.html\">Jupyter\n",
       "  Widgets Documentation</a> for setup instructions.\n",
       "</p>\n",
       "<p>\n",
       "  If you're reading this message in another frontend (for example, a static\n",
       "  rendering on GitHub or <a href=\"https://nbviewer.jupyter.org/\">NBViewer</a>),\n",
       "  it may mean that your frontend doesn't currently support widgets.\n",
       "</p>\n"
      ],
      "text/plain": [
       "IntSlider(value=0, description='A too long description')"
      ]
     },
     "metadata": {},
     "output_type": "display_data"
    }
   ],
   "source": [
    "from ipywidgets import IntSlider\n",
    "\n",
    "IntSlider(description='A too long description')"
   ]
  },
  {
   "cell_type": "markdown",
   "metadata": {},
   "source": [
    "You can change the length of the description to fit the description text. However, this will make the widget itself shorter. You can change both by adjusting the description width and the widget width using the widget's style."
   ]
  },
  {
   "cell_type": "code",
   "execution_count": 28,
   "metadata": {},
   "outputs": [
    {
     "data": {
      "application/vnd.jupyter.widget-view+json": {
       "model_id": "84e7bb29aa124ee1ba7d3ba47c57a414",
       "version_major": 2,
       "version_minor": 0
      },
      "text/html": [
       "<p>Failed to display Jupyter Widget of type <code>IntSlider</code>.</p>\n",
       "<p>\n",
       "  If you're reading this message in the Jupyter Notebook or JupyterLab Notebook, it may mean\n",
       "  that the widgets JavaScript is still loading. If this message persists, it\n",
       "  likely means that the widgets JavaScript library is either not installed or\n",
       "  not enabled. See the <a href=\"https://ipywidgets.readthedocs.io/en/stable/user_install.html\">Jupyter\n",
       "  Widgets Documentation</a> for setup instructions.\n",
       "</p>\n",
       "<p>\n",
       "  If you're reading this message in another frontend (for example, a static\n",
       "  rendering on GitHub or <a href=\"https://nbviewer.jupyter.org/\">NBViewer</a>),\n",
       "  it may mean that your frontend doesn't currently support widgets.\n",
       "</p>\n"
      ],
      "text/plain": [
       "IntSlider(value=0, description='A too long description', style=SliderStyle(description_width='initial'))"
      ]
     },
     "metadata": {},
     "output_type": "display_data"
    }
   ],
   "source": [
    "style = {'description_width': 'initial'}\n",
    "IntSlider(description='A too long description', style=style)"
   ]
  },
  {
   "cell_type": "markdown",
   "metadata": {},
   "source": [
    "If you need more flexibility to lay out widgets and descriptions, you can use Label widgets directly."
   ]
  },
  {
   "cell_type": "code",
   "execution_count": 29,
   "metadata": {},
   "outputs": [
    {
     "data": {
      "application/vnd.jupyter.widget-view+json": {
       "model_id": "d416513267f64953ad5da4f0a20d2fea",
       "version_major": 2,
       "version_minor": 0
      },
      "text/html": [
       "<p>Failed to display Jupyter Widget of type <code>HBox</code>.</p>\n",
       "<p>\n",
       "  If you're reading this message in the Jupyter Notebook or JupyterLab Notebook, it may mean\n",
       "  that the widgets JavaScript is still loading. If this message persists, it\n",
       "  likely means that the widgets JavaScript library is either not installed or\n",
       "  not enabled. See the <a href=\"https://ipywidgets.readthedocs.io/en/stable/user_install.html\">Jupyter\n",
       "  Widgets Documentation</a> for setup instructions.\n",
       "</p>\n",
       "<p>\n",
       "  If you're reading this message in another frontend (for example, a static\n",
       "  rendering on GitHub or <a href=\"https://nbviewer.jupyter.org/\">NBViewer</a>),\n",
       "  it may mean that your frontend doesn't currently support widgets.\n",
       "</p>\n"
      ],
      "text/plain": [
       "HBox(children=(Label(value='A too long description'), IntSlider(value=0)))"
      ]
     },
     "metadata": {},
     "output_type": "display_data"
    }
   ],
   "source": [
    "from ipywidgets import HBox, Label\n",
    "\n",
    "HBox([Label('A too long description'), IntSlider()])"
   ]
  },
  {
   "cell_type": "markdown",
   "metadata": {},
   "source": [
    "### Natural sizes, and arrangements using HBox and VBox\n",
    "\n",
    "Most of the core-widgets have default heights and widths that tile well together. This allows simple layouts based on the `HBox` and `VBox` helper functions to align naturally:"
   ]
  },
  {
   "cell_type": "code",
   "execution_count": 30,
   "metadata": {},
   "outputs": [
    {
     "data": {
      "application/vnd.jupyter.widget-view+json": {
       "model_id": "5f7b7ceeac9f410a97258ca311ecac83",
       "version_major": 2,
       "version_minor": 0
      },
      "text/html": [
       "<p>Failed to display Jupyter Widget of type <code>HBox</code>.</p>\n",
       "<p>\n",
       "  If you're reading this message in the Jupyter Notebook or JupyterLab Notebook, it may mean\n",
       "  that the widgets JavaScript is still loading. If this message persists, it\n",
       "  likely means that the widgets JavaScript library is either not installed or\n",
       "  not enabled. See the <a href=\"https://ipywidgets.readthedocs.io/en/stable/user_install.html\">Jupyter\n",
       "  Widgets Documentation</a> for setup instructions.\n",
       "</p>\n",
       "<p>\n",
       "  If you're reading this message in another frontend (for example, a static\n",
       "  rendering on GitHub or <a href=\"https://nbviewer.jupyter.org/\">NBViewer</a>),\n",
       "  it may mean that your frontend doesn't currently support widgets.\n",
       "</p>\n"
      ],
      "text/plain": [
       "HBox(children=(VBox(children=(Button(description='correct', style=ButtonStyle()), Button(description='horse', style=ButtonStyle()))), VBox(children=(Button(description='battery', style=ButtonStyle()), Button(description='staple', style=ButtonStyle())))))"
      ]
     },
     "metadata": {},
     "output_type": "display_data"
    }
   ],
   "source": [
    "from ipywidgets import Button, HBox, VBox\n",
    "\n",
    "words = ['correct', 'horse', 'battery', 'staple']\n",
    "items = [Button(description=w) for w in words]\n",
    "left_box = VBox([items[0], items[1]])\n",
    "right_box = VBox([items[2], items[3]])\n",
    "HBox([left_box, right_box])"
   ]
  },
  {
   "cell_type": "markdown",
   "metadata": {},
   "source": [
    "### Latex"
   ]
  },
  {
   "cell_type": "markdown",
   "metadata": {},
   "source": [
    "Widgets such as sliders and text inputs have a description attribute that can render Latex Equations. The `Label` widget also renders Latex equations."
   ]
  },
  {
   "cell_type": "code",
   "execution_count": 31,
   "metadata": {},
   "outputs": [],
   "source": [
    "from ipywidgets import IntSlider, Label"
   ]
  },
  {
   "cell_type": "code",
   "execution_count": 32,
   "metadata": {},
   "outputs": [
    {
     "data": {
      "application/vnd.jupyter.widget-view+json": {
       "model_id": "742498067efb47bf911d8f9b2693336b",
       "version_major": 2,
       "version_minor": 0
      },
      "text/html": [
       "<p>Failed to display Jupyter Widget of type <code>IntSlider</code>.</p>\n",
       "<p>\n",
       "  If you're reading this message in the Jupyter Notebook or JupyterLab Notebook, it may mean\n",
       "  that the widgets JavaScript is still loading. If this message persists, it\n",
       "  likely means that the widgets JavaScript library is either not installed or\n",
       "  not enabled. See the <a href=\"https://ipywidgets.readthedocs.io/en/stable/user_install.html\">Jupyter\n",
       "  Widgets Documentation</a> for setup instructions.\n",
       "</p>\n",
       "<p>\n",
       "  If you're reading this message in another frontend (for example, a static\n",
       "  rendering on GitHub or <a href=\"https://nbviewer.jupyter.org/\">NBViewer</a>),\n",
       "  it may mean that your frontend doesn't currently support widgets.\n",
       "</p>\n"
      ],
      "text/plain": [
       "IntSlider(value=0, description='\\\\(\\\\int_0^t f\\\\)')"
      ]
     },
     "metadata": {},
     "output_type": "display_data"
    }
   ],
   "source": [
    "IntSlider(description=r'\\(\\int_0^t f\\)')"
   ]
  },
  {
   "cell_type": "code",
   "execution_count": 33,
   "metadata": {},
   "outputs": [
    {
     "data": {
      "application/vnd.jupyter.widget-view+json": {
       "model_id": "659d13f88e60485085b081544419529c",
       "version_major": 2,
       "version_minor": 0
      },
      "text/html": [
       "<p>Failed to display Jupyter Widget of type <code>Label</code>.</p>\n",
       "<p>\n",
       "  If you're reading this message in the Jupyter Notebook or JupyterLab Notebook, it may mean\n",
       "  that the widgets JavaScript is still loading. If this message persists, it\n",
       "  likely means that the widgets JavaScript library is either not installed or\n",
       "  not enabled. See the <a href=\"https://ipywidgets.readthedocs.io/en/stable/user_install.html\">Jupyter\n",
       "  Widgets Documentation</a> for setup instructions.\n",
       "</p>\n",
       "<p>\n",
       "  If you're reading this message in another frontend (for example, a static\n",
       "  rendering on GitHub or <a href=\"https://nbviewer.jupyter.org/\">NBViewer</a>),\n",
       "  it may mean that your frontend doesn't currently support widgets.\n",
       "</p>\n"
      ],
      "text/plain": [
       "Label(value='\\\\(e=mc^2\\\\)')"
      ]
     },
     "metadata": {},
     "output_type": "display_data"
    }
   ],
   "source": [
    "Label(value=r'\\(e=mc^2\\)')"
   ]
  },
  {
   "cell_type": "markdown",
   "metadata": {},
   "source": [
    "### Number formatting\n",
    "\n",
    "Sliders have a readout field which can be formatted using Python's [Format Specification Mini-Language](https://docs.python.org/3/library/string.html#format-specification-mini-language). If the space available for the readout is too narrow for the string representation of the slider value, a different styling is applied to show that not all digits are visible."
   ]
  },
  {
   "cell_type": "markdown",
   "metadata": {},
   "source": [
    "## The Flexbox layout\n",
    "\n",
    "The `HBox` and `VBox` classes above are special cases of the `Box` widget.\n",
    "\n",
    "The `Box` widget enables the entire CSS flexbox spec, enabling rich reactive layouts in the Jupyter notebook. It aims at providing an efficient way to lay out, align and distribute space among items in a container.\n",
    "\n",
    "Again, the whole flexbox spec is exposed via the `layout` attribute of the container widget (`Box`) and the contained items. One may share the same `layout` attribute among all the contained items.\n",
    "\n",
    "\n",
    "### Acknowledgement\n",
    "\n",
    "The following flexbox tutorial on the flexbox layout follows the lines of the article [A Complete Guide to Flexbox](https://css-tricks.com/snippets/css/a-guide-to-flexbox/) by Chris Coyier, and uses text and various images from the article [with permission](https://css-tricks.com/license/).\n",
    "\n",
    "### Basics and terminology\n",
    "\n",
    "Since flexbox is a whole module and not a single property, it involves a lot of things including its whole set of properties. Some of them are meant to be set on the container (parent element, known as \"flex container\") whereas the others are meant to be set on the children (known as \"flex items\").\n",
    "\n",
    "If regular layout is based on both block and inline flow directions, the flex layout is based on \"flex-flow directions\". Please have a look at this figure from the specification, explaining the main idea behind the flex layout.\n",
    "\n",
    "![Flexbox](./images/flexbox.png)\n",
    "\n",
    "Basically, items will be laid out following either the `main axis` (from `main-start` to `main-end`) or the `cross axis` (from `cross-start` to `cross-end`).\n",
    "\n",
    "- `main axis` - The main axis of a flex container is the primary axis along which flex items are laid out. Beware, it is not necessarily horizontal; it depends on the flex-direction property (see below).\n",
    "- `main-start | main-end` - The flex items are placed within the container starting from main-start and going to main-end.\n",
    "- `main size` - A flex item's width or height, whichever is in the main dimension, is the item's main size. The flex item's main size property is either the ‘width’ or ‘height’ property, whichever is in the main dimension.\n",
    "cross axis - The axis perpendicular to the main axis is called the cross axis. Its direction depends on the main axis direction.\n",
    "- `cross-start | cross-end` - Flex lines are filled with items and placed into the container starting on the cross-start side of the flex container and going toward the cross-end side.\n",
    "- `cross size` - The width or height of a flex item, whichever is in the cross dimension, is the item's cross size. The cross size property is whichever of ‘width’ or ‘height’ that is in the cross dimension.\n",
    "\n",
    "### Properties of the parent\n",
    "\n",
    "![Container](./images/flex-container.svg)\n",
    "\n",
    "#### display\n",
    "\n",
    "`display` can be `flex` or `inline-flex`. This defines a flex container (block or inline).\n",
    "\n",
    "#### flex-flow\n",
    "\n",
    "`flex-flow` is a shorthand for the `flex-direction` and `flex-wrap` properties, which together define the flex container's main and cross axes. Default is `row nowrap`.\n",
    "\n",
    "- `flex-direction` (column-reverse | column | row | row-reverse )\n",
    "\n",
    "  This establishes the main-axis, thus defining the direction flex items are placed in the flex container. Flexbox is (aside from optional wrapping) a single-direction layout concept. Think of flex items as primarily laying out either in horizontal rows or vertical columns.\n",
    "![Direction](./images/flex-direction1.svg)\n",
    "\n",
    "- `flex-wrap` (nowrap | wrap | wrap-reverse)\n",
    "\n",
    "  By default, flex items will all try to fit onto one line. You can change that and allow the items to wrap as needed with this property. Direction also plays a role here, determining the direction new lines are stacked in.\n",
    "![Wrap](./images/flex-wrap.svg)\n",
    "\n",
    "#### justify-content\n",
    "\n",
    "`justify-content` can be one of `flex-start`, `flex-end`, `center`, `space-between`, `space-around`. This defines the alignment along the main axis. It helps distribute extra free space left over when either all the flex items on a line are inflexible, or are flexible but have reached their maximum size. It also exerts some control over the alignment of items when they overflow the line.\n",
    "  ![Justify](./images/justify-content.svg)\n",
    "\n",
    "#### align-items\n",
    "\n",
    "`align-items` can be one of `flex-start`, `flex-end`, `center`, `baseline`, `stretch`. This defines the default behaviour for how flex items are laid out along the cross axis on the current line. Think of it as the justify-content version for the cross-axis (perpendicular to the main-axis).\n",
    "   ![Items](./images/align-items.svg)\n",
    "   \n",
    "#### align-content\n",
    "`align-content` can be one of `flex-start`, `flex-end`, `center`, `baseline`, `stretch`. This aligns a flex container's lines within when there is extra space in the cross-axis, similar to how justify-content aligns individual items within the main-axis.\n",
    "![Items](./images/align-content.svg)\n",
    "\n",
    "**Note**: this property has no effect when there is only one line of flex items.\n",
    "\n",
    "### Properties of the items\n",
    "\n",
    "![Item](./images/flex-items.svg)\n",
    "\n",
    "The flexbox-related CSS properties of the items have no impact if the parent element is not a flexbox container (i.e. has a `display` attribute equal to `flex` or `inline-flex`).\n",
    "\n",
    "#### order\n",
    "By default, flex items are laid out in the source order. However, the `order` property controls the order in which they appear in the flex container.\n",
    "<img src=\"./images/order-2.svg\" alt=\"Order\" style=\"width: 500px;\"/>\n",
    "   \n",
    "#### flex\n",
    "`flex` is shorthand for three properties, `flex-grow`, `flex-shrink` and `flex-basis` combined. The second and third parameters (`flex-shrink` and `flex-basis`) are optional. Default is `0 1 auto`.\n",
    "   \n",
    "  - `flex-grow`\n",
    "\n",
    "    This defines the ability for a flex item to grow if necessary. It accepts a unitless value that serves as a proportion. It dictates what amount of the available space inside the flex container the item should take up.\n",
    "\n",
    "    If all items have flex-grow set to 1, the remaining space in the container will be distributed equally to all children. If one of the children a value of 2, the remaining space would take up twice as much space as the others (or it will try to, at least).\n",
    "      ![Grow](./images/flex-grow.svg)\n",
    "\n",
    "  - `flex-shrink`\n",
    "\n",
    "    This defines the ability for a flex item to shrink if necessary.\n",
    "\n",
    "  - `flex-basis`\n",
    "\n",
    "    This defines the default size of an element before the remaining space is distributed. It can be a length (e.g. `20%`, `5rem`, etc.) or a keyword. The `auto` keyword means *\"look at my width or height property\"*.\n",
    " \n",
    "#### align-self\n",
    "\n",
    "`align-self` allows the default alignment (or the one specified by align-items) to be overridden for individual flex items.\n",
    "\n",
    "![Align](./images/align-self.svg)\n",
    "\n",
    "### The VBox and HBox helpers\n",
    "\n",
    "The `VBox` and `HBox` helper classes provide simple defaults to arrange child widgets in vertical and horizontal boxes. They are roughly equivalent to:\n",
    "\n",
    "```Python\n",
    "def VBox(*pargs, **kwargs):\n",
    "    \"\"\"Displays multiple widgets vertically using the flexible box model.\"\"\"\n",
    "    box = Box(*pargs, **kwargs)\n",
    "    box.layout.display = 'flex'\n",
    "    box.layout.flex_flow = 'column'\n",
    "    box.layout.align_items = 'stretch'\n",
    "    return box\n",
    "\n",
    "def HBox(*pargs, **kwargs):\n",
    "    \"\"\"Displays multiple widgets horizontally using the flexible box model.\"\"\"\n",
    "    box = Box(*pargs, **kwargs)\n",
    "    box.layout.display = 'flex'\n",
    "    box.layout.align_items = 'stretch'\n",
    "    return box\n",
    "```\n",
    "\n",
    "\n",
    "### Examples"
   ]
  },
  {
   "cell_type": "markdown",
   "metadata": {},
   "source": [
    "**Four buttons in a VBox. Items stretch to the maximum width, in a vertical box taking `50%` of the available space.**"
   ]
  },
  {
   "cell_type": "code",
   "execution_count": 34,
   "metadata": {},
   "outputs": [
    {
     "data": {
      "application/vnd.jupyter.widget-view+json": {
       "model_id": "9f72077ff2f84cc88cd33699eb3bffe9",
       "version_major": 2,
       "version_minor": 0
      },
      "text/html": [
       "<p>Failed to display Jupyter Widget of type <code>Box</code>.</p>\n",
       "<p>\n",
       "  If you're reading this message in the Jupyter Notebook or JupyterLab Notebook, it may mean\n",
       "  that the widgets JavaScript is still loading. If this message persists, it\n",
       "  likely means that the widgets JavaScript library is either not installed or\n",
       "  not enabled. See the <a href=\"https://ipywidgets.readthedocs.io/en/stable/user_install.html\">Jupyter\n",
       "  Widgets Documentation</a> for setup instructions.\n",
       "</p>\n",
       "<p>\n",
       "  If you're reading this message in another frontend (for example, a static\n",
       "  rendering on GitHub or <a href=\"https://nbviewer.jupyter.org/\">NBViewer</a>),\n",
       "  it may mean that your frontend doesn't currently support widgets.\n",
       "</p>\n"
      ],
      "text/plain": [
       "Box(children=(Button(button_style='danger', description='correct', layout=Layout(width='auto'), style=ButtonStyle()), Button(button_style='danger', description='horse', layout=Layout(width='auto'), style=ButtonStyle()), Button(button_style='danger', description='battery', layout=Layout(width='auto'), style=ButtonStyle()), Button(button_style='danger', description='staple', layout=Layout(width='auto'), style=ButtonStyle())), layout=Layout(align_items='stretch', border='solid', display='flex', flex_flow='column', width='50%'))"
      ]
     },
     "metadata": {},
     "output_type": "display_data"
    }
   ],
   "source": [
    "from ipywidgets import Layout, Button, Box\n",
    "\n",
    "items_layout = Layout( width='auto')     # override the default width of the button to 'auto' to let the button grow\n",
    "\n",
    "box_layout = Layout(display='flex',\n",
    "                    flex_flow='column', \n",
    "                    align_items='stretch', \n",
    "                    border='solid',\n",
    "                    width='50%')\n",
    "\n",
    "words = ['correct', 'horse', 'battery', 'staple']\n",
    "items = [Button(description=word, layout=items_layout, button_style='danger') for word in words]\n",
    "box = Box(children=items, layout=box_layout)\n",
    "box"
   ]
  },
  {
   "cell_type": "markdown",
   "metadata": {},
   "source": [
    "**Three buttons in an HBox. Items flex proportionaly to their weight.**"
   ]
  },
  {
   "cell_type": "code",
   "execution_count": 61,
   "metadata": {},
   "outputs": [
    {
     "data": {
      "application/vnd.jupyter.widget-view+json": {
       "model_id": "afbe588a0a574144b1bfc25434353070",
       "version_major": 2,
       "version_minor": 0
      },
      "text/html": [
       "<p>Failed to display Jupyter Widget of type <code>VBox</code>.</p>\n",
       "<p>\n",
       "  If you're reading this message in the Jupyter Notebook or JupyterLab Notebook, it may mean\n",
       "  that the widgets JavaScript is still loading. If this message persists, it\n",
       "  likely means that the widgets JavaScript library is either not installed or\n",
       "  not enabled. See the <a href=\"https://ipywidgets.readthedocs.io/en/stable/user_install.html\">Jupyter\n",
       "  Widgets Documentation</a> for setup instructions.\n",
       "</p>\n",
       "<p>\n",
       "  If you're reading this message in another frontend (for example, a static\n",
       "  rendering on GitHub or <a href=\"https://nbviewer.jupyter.org/\">NBViewer</a>),\n",
       "  it may mean that your frontend doesn't currently support widgets.\n",
       "</p>\n"
      ],
      "text/plain": [
       "VBox(children=(Box(children=(Button(button_style='danger', description='weight=1, auto', layout=Layout(flex='1 1 auto', width='auto'), style=ButtonStyle()), Button(button_style='danger', description='weight=3, auto', layout=Layout(flex='3 1 auto', width='auto'), style=ButtonStyle()), Button(button_style='danger', description='weight=1, auto', layout=Layout(flex='1 1 auto', width='auto'), style=ButtonStyle())), layout=Layout(align_items='stretch', display='flex', flex_flow='row', width='70%')), Box(children=(Button(button_style='danger', description='weight=1, _0%', layout=Layout(flex='1 1 0%', width='auto'), style=ButtonStyle()), Button(button_style='danger', description='weight=3, _0%', layout=Layout(flex='3 1 0%', width='auto'), style=ButtonStyle()), Button(button_style='danger', description='weight=1, _0%', layout=Layout(flex='1 1 0%', width='auto'), style=ButtonStyle())), layout=Layout(align_items='stretch', display='flex', flex_flow='row', width='70%'))))"
      ]
     },
     "metadata": {},
     "output_type": "display_data"
    }
   ],
   "source": [
    "from ipywidgets import Layout, Button, Box, VBox\n",
    "\n",
    "# Items flex proportionallly to the weight and the left over space around the text \n",
    "items_auto = [\n",
    "    Button(description='weight=1, auto', layout=Layout(flex='1 1 auto', width='auto'), button_style='danger'),\n",
    "    Button(description='weight=3, auto', layout=Layout(flex='3 1 auto', width='auto'), button_style='danger'),\n",
    "    Button(description='weight=1, auto', layout=Layout(flex='1 1 auto', width='auto'), button_style='danger'),\n",
    " ]\n",
    "\n",
    "# Items flex proportionallly to the weight \n",
    "items_0 = [\n",
    "    Button(description='weight=1, _0%', layout=Layout(flex='1 1 0%', width='auto'), button_style='danger'),\n",
    "    Button(description='weight=3, _0%', layout=Layout(flex='3 1 0%', width='auto'), button_style='danger'),\n",
    "    Button(description='weight=1, _0%', layout=Layout(flex='1 1 0%', width='auto'), button_style='danger'),\n",
    " ]\n",
    "box_layout = Layout(display='flex',\n",
    "                    flex_flow='row', \n",
    "                    align_items='stretch', \n",
    "                    width='70%')\n",
    "box_auto = Box(children=items_auto, layout=box_layout)\n",
    "box_0 = Box(children=items_0, layout=box_layout)\n",
    "VBox([box_auto, box_0])"
   ]
  },
  {
   "cell_type": "markdown",
   "metadata": {},
   "source": [
    "**A more advanced example: a reactive form.**\n",
    "\n",
    "The form is a `VBox` of width '50%'. Each row in the VBox is an HBox, that justifies the content with space between.."
   ]
  },
  {
   "cell_type": "code",
   "execution_count": 36,
   "metadata": {},
   "outputs": [
    {
     "data": {
      "application/vnd.jupyter.widget-view+json": {
       "model_id": "0edce4793fe24d75a515896978eefd14",
       "version_major": 2,
       "version_minor": 0
      },
      "text/html": [
       "<p>Failed to display Jupyter Widget of type <code>Box</code>.</p>\n",
       "<p>\n",
       "  If you're reading this message in the Jupyter Notebook or JupyterLab Notebook, it may mean\n",
       "  that the widgets JavaScript is still loading. If this message persists, it\n",
       "  likely means that the widgets JavaScript library is either not installed or\n",
       "  not enabled. See the <a href=\"https://ipywidgets.readthedocs.io/en/stable/user_install.html\">Jupyter\n",
       "  Widgets Documentation</a> for setup instructions.\n",
       "</p>\n",
       "<p>\n",
       "  If you're reading this message in another frontend (for example, a static\n",
       "  rendering on GitHub or <a href=\"https://nbviewer.jupyter.org/\">NBViewer</a>),\n",
       "  it may mean that your frontend doesn't currently support widgets.\n",
       "</p>\n"
      ],
      "text/plain": [
       "Box(children=(Box(children=(Label(value='Age of the captain'), IntSlider(value=40, max=60, min=40)), layout=Layout(display='flex', flex_flow='row', justify_content='space-between')), Box(children=(Label(value='Egg style'), Dropdown(options=('Scrambled', 'Sunny side up', 'Over easy'), value='Scrambled')), layout=Layout(display='flex', flex_flow='row', justify_content='space-between')), Box(children=(Label(value='Ship size'), FloatText(value=0.0)), layout=Layout(display='flex', flex_flow='row', justify_content='space-between')), Box(children=(Label(value='Information'), Textarea(value='')), layout=Layout(display='flex', flex_flow='row', justify_content='space-between'))), layout=Layout(align_items='stretch', border='solid 2px', display='flex', flex_flow='column', width='50%'))"
      ]
     },
     "metadata": {},
     "output_type": "display_data"
    }
   ],
   "source": [
    "from ipywidgets import Layout, Button, Box, FloatText, Textarea, Dropdown, Label, IntSlider\n",
    "\n",
    "form_item_layout = Layout(\n",
    "    display='flex',\n",
    "    flex_flow='row',\n",
    "    justify_content='space-between'\n",
    ")\n",
    "\n",
    "form_items = [\n",
    "    Box([Label(value='Age of the captain'), IntSlider(min=40, max=60)], layout=form_item_layout),\n",
    "    Box([Label(value='Egg style'), \n",
    "         Dropdown(options=['Scrambled', 'Sunny side up', 'Over easy'])], layout=form_item_layout),\n",
    "    Box([Label(value='Ship size'), \n",
    "         FloatText()], layout=form_item_layout),\n",
    "    Box([Label(value='Information'), \n",
    "         Textarea()], layout=form_item_layout)\n",
    "]\n",
    "\n",
    "form = Box(form_items, layout=Layout(\n",
    "    display='flex',\n",
    "    flex_flow='column',\n",
    "    border='solid 2px',\n",
    "    align_items='stretch',\n",
    "    width='50%'\n",
    "))\n",
    "form"
   ]
  },
  {
   "cell_type": "markdown",
   "metadata": {},
   "source": [
    "**A more advanced example: a carousel.**"
   ]
  },
  {
   "cell_type": "code",
   "execution_count": 55,
   "metadata": {},
   "outputs": [
    {
     "data": {
      "application/vnd.jupyter.widget-view+json": {
       "model_id": "ab28da9bfef14cafb06ed64121648c26",
       "version_major": 2,
       "version_minor": 0
      },
      "text/html": [
       "<p>Failed to display Jupyter Widget of type <code>VBox</code>.</p>\n",
       "<p>\n",
       "  If you're reading this message in the Jupyter Notebook or JupyterLab Notebook, it may mean\n",
       "  that the widgets JavaScript is still loading. If this message persists, it\n",
       "  likely means that the widgets JavaScript library is either not installed or\n",
       "  not enabled. See the <a href=\"https://ipywidgets.readthedocs.io/en/stable/user_install.html\">Jupyter\n",
       "  Widgets Documentation</a> for setup instructions.\n",
       "</p>\n",
       "<p>\n",
       "  If you're reading this message in another frontend (for example, a static\n",
       "  rendering on GitHub or <a href=\"https://nbviewer.jupyter.org/\">NBViewer</a>),\n",
       "  it may mean that your frontend doesn't currently support widgets.\n",
       "</p>\n"
      ],
      "text/plain": [
       "VBox(children=(Label(value='Scroll horizontally:'), Box(children=(Button(button_style='warning', description='0', layout=Layout(height='100px', min_width='40px'), style=ButtonStyle()), Button(button_style='warning', description='1', layout=Layout(height='100px', min_width='40px'), style=ButtonStyle()), Button(button_style='warning', description='2', layout=Layout(height='100px', min_width='40px'), style=ButtonStyle()), Button(button_style='warning', description='3', layout=Layout(height='100px', min_width='40px'), style=ButtonStyle()), Button(button_style='warning', description='4', layout=Layout(height='100px', min_width='40px'), style=ButtonStyle()), Button(button_style='warning', description='5', layout=Layout(height='100px', min_width='40px'), style=ButtonStyle()), Button(button_style='warning', description='6', layout=Layout(height='100px', min_width='40px'), style=ButtonStyle()), Button(button_style='warning', description='7', layout=Layout(height='100px', min_width='40px'), style=ButtonStyle()), Button(button_style='warning', description='8', layout=Layout(height='100px', min_width='40px'), style=ButtonStyle()), Button(button_style='warning', description='9', layout=Layout(height='100px', min_width='40px'), style=ButtonStyle()), Button(button_style='warning', description='10', layout=Layout(height='100px', min_width='40px'), style=ButtonStyle()), Button(button_style='warning', description='11', layout=Layout(height='100px', min_width='40px'), style=ButtonStyle()), Button(button_style='warning', description='12', layout=Layout(height='100px', min_width='40px'), style=ButtonStyle()), Button(button_style='warning', description='13', layout=Layout(height='100px', min_width='40px'), style=ButtonStyle()), Button(button_style='warning', description='14', layout=Layout(height='100px', min_width='40px'), style=ButtonStyle()), Button(button_style='warning', description='15', layout=Layout(height='100px', min_width='40px'), style=ButtonStyle()), Button(button_style='warning', description='16', layout=Layout(height='100px', min_width='40px'), style=ButtonStyle()), Button(button_style='warning', description='17', layout=Layout(height='100px', min_width='40px'), style=ButtonStyle()), Button(button_style='warning', description='18', layout=Layout(height='100px', min_width='40px'), style=ButtonStyle()), Button(button_style='warning', description='19', layout=Layout(height='100px', min_width='40px'), style=ButtonStyle()), Button(button_style='warning', description='20', layout=Layout(height='100px', min_width='40px'), style=ButtonStyle()), Button(button_style='warning', description='21', layout=Layout(height='100px', min_width='40px'), style=ButtonStyle()), Button(button_style='warning', description='22', layout=Layout(height='100px', min_width='40px'), style=ButtonStyle()), Button(button_style='warning', description='23', layout=Layout(height='100px', min_width='40px'), style=ButtonStyle()), Button(button_style='warning', description='24', layout=Layout(height='100px', min_width='40px'), style=ButtonStyle()), Button(button_style='warning', description='25', layout=Layout(height='100px', min_width='40px'), style=ButtonStyle()), Button(button_style='warning', description='26', layout=Layout(height='100px', min_width='40px'), style=ButtonStyle()), Button(button_style='warning', description='27', layout=Layout(height='100px', min_width='40px'), style=ButtonStyle()), Button(button_style='warning', description='28', layout=Layout(height='100px', min_width='40px'), style=ButtonStyle()), Button(button_style='warning', description='29', layout=Layout(height='100px', min_width='40px'), style=ButtonStyle()), Button(button_style='warning', description='30', layout=Layout(height='100px', min_width='40px'), style=ButtonStyle()), Button(button_style='warning', description='31', layout=Layout(height='100px', min_width='40px'), style=ButtonStyle()), Button(button_style='warning', description='32', layout=Layout(height='100px', min_width='40px'), style=ButtonStyle()), Button(button_style='warning', description='33', layout=Layout(height='100px', min_width='40px'), style=ButtonStyle()), Button(button_style='warning', description='34', layout=Layout(height='100px', min_width='40px'), style=ButtonStyle()), Button(button_style='warning', description='35', layout=Layout(height='100px', min_width='40px'), style=ButtonStyle()), Button(button_style='warning', description='36', layout=Layout(height='100px', min_width='40px'), style=ButtonStyle()), Button(button_style='warning', description='37', layout=Layout(height='100px', min_width='40px'), style=ButtonStyle()), Button(button_style='warning', description='38', layout=Layout(height='100px', min_width='40px'), style=ButtonStyle()), Button(button_style='warning', description='39', layout=Layout(height='100px', min_width='40px'), style=ButtonStyle())), layout=Layout(border='3px solid black', display='flex', flex_flow='row', height='', overflow_x='scroll', width='500px'))))"
      ]
     },
     "metadata": {},
     "output_type": "display_data"
    }
   ],
   "source": [
    "from ipywidgets import Layout, Button, Box\n",
    "\n",
    "item_layout = Layout(height='100px', min_width='40px')\n",
    "items = [Button(layout=item_layout, description=str(i), button_style='warning') for i in range(40)]\n",
    "box_layout = Layout(overflow_x='scroll',\n",
    "                    border='3px solid black',\n",
    "                    width='500px',\n",
    "                    height='',\n",
    "                    flex_flow='row',\n",
    "                    display='flex')\n",
    "carousel = Box(children=items, layout=box_layout)\n",
    "VBox([Label('Scroll horizontally:'), carousel])"
   ]
  },
  {
   "cell_type": "markdown",
   "metadata": {},
   "source": [
    "## Predefined styles\n",
    "\n",
    "If you wish the styling of widgets to make use of colors and styles defined by the environment (to be consistent with e.g. a notebook theme), many widgets enable choosing in a list of pre-defined styles.\n",
    "\n",
    "For example, the `Button` widget has a `button_style` attribute that may take 5 different values:\n",
    "\n",
    " - `'primary'`\n",
    " - `'success'`\n",
    " - `'info'`\n",
    " - `'warning'`\n",
    " - `'danger'`\n",
    "\n",
    "besides the default empty string ''."
   ]
  },
  {
   "cell_type": "code",
   "execution_count": 38,
   "metadata": {},
   "outputs": [
    {
     "data": {
      "application/vnd.jupyter.widget-view+json": {
       "model_id": "2ee211b41d2448bfa03d47a5c0d784a4",
       "version_major": 2,
       "version_minor": 0
      },
      "text/html": [
       "<p>Failed to display Jupyter Widget of type <code>Button</code>.</p>\n",
       "<p>\n",
       "  If you're reading this message in the Jupyter Notebook or JupyterLab Notebook, it may mean\n",
       "  that the widgets JavaScript is still loading. If this message persists, it\n",
       "  likely means that the widgets JavaScript library is either not installed or\n",
       "  not enabled. See the <a href=\"https://ipywidgets.readthedocs.io/en/stable/user_install.html\">Jupyter\n",
       "  Widgets Documentation</a> for setup instructions.\n",
       "</p>\n",
       "<p>\n",
       "  If you're reading this message in another frontend (for example, a static\n",
       "  rendering on GitHub or <a href=\"https://nbviewer.jupyter.org/\">NBViewer</a>),\n",
       "  it may mean that your frontend doesn't currently support widgets.\n",
       "</p>\n"
      ],
      "text/plain": [
       "Button(button_style='danger', description='Danger Button', style=ButtonStyle())"
      ]
     },
     "metadata": {},
     "output_type": "display_data"
    }
   ],
   "source": [
    "from ipywidgets import Button\n",
    "\n",
    "Button(description='Danger Button', button_style='danger')"
   ]
  },
  {
   "cell_type": "markdown",
   "metadata": {},
   "source": [
    "## The `style` attribute\n",
    "\n",
    "While the `layout` attribute only exposes layout-related CSS properties for the top-level DOM element of widgets, the  \n",
    "`style` attribute is used to expose non-layout related styling attributes of widgets.\n",
    "\n",
    "However, the properties of the `style` atribute are specific to each widget type."
   ]
  },
  {
   "cell_type": "code",
   "execution_count": 39,
   "metadata": {},
   "outputs": [
    {
     "data": {
      "application/vnd.jupyter.widget-view+json": {
       "model_id": "949e09ec3e1e4042acc429e980dee9bd",
       "version_major": 2,
       "version_minor": 0
      },
      "text/html": [
       "<p>Failed to display Jupyter Widget of type <code>Button</code>.</p>\n",
       "<p>\n",
       "  If you're reading this message in the Jupyter Notebook or JupyterLab Notebook, it may mean\n",
       "  that the widgets JavaScript is still loading. If this message persists, it\n",
       "  likely means that the widgets JavaScript library is either not installed or\n",
       "  not enabled. See the <a href=\"https://ipywidgets.readthedocs.io/en/stable/user_install.html\">Jupyter\n",
       "  Widgets Documentation</a> for setup instructions.\n",
       "</p>\n",
       "<p>\n",
       "  If you're reading this message in another frontend (for example, a static\n",
       "  rendering on GitHub or <a href=\"https://nbviewer.jupyter.org/\">NBViewer</a>),\n",
       "  it may mean that your frontend doesn't currently support widgets.\n",
       "</p>\n"
      ],
      "text/plain": [
       "Button(description='Custom color', style=ButtonStyle(button_color='lightgreen'))"
      ]
     },
     "metadata": {},
     "output_type": "display_data"
    }
   ],
   "source": [
    "b1 = Button(description='Custom color')\n",
    "b1.style.button_color = 'lightgreen'\n",
    "b1"
   ]
  },
  {
   "cell_type": "markdown",
   "metadata": {},
   "source": [
    "You can get a list of the style attributes for a widget with the `keys` property."
   ]
  },
  {
   "cell_type": "code",
   "execution_count": 40,
   "metadata": {},
   "outputs": [
    {
     "data": {
      "text/plain": [
       "['_model_module',\n",
       " '_model_module_version',\n",
       " '_model_name',\n",
       " '_view_count',\n",
       " '_view_module',\n",
       " '_view_module_version',\n",
       " '_view_name',\n",
       " 'button_color',\n",
       " 'font_weight']"
      ]
     },
     "execution_count": 40,
     "metadata": {},
     "output_type": "execute_result"
    }
   ],
   "source": [
    "b1.style.keys"
   ]
  },
  {
   "cell_type": "markdown",
   "metadata": {},
   "source": [
    "Just like the `layout` attribute, widget styles can be assigned to other widgets."
   ]
  },
  {
   "cell_type": "code",
   "execution_count": 41,
   "metadata": {},
   "outputs": [
    {
     "data": {
      "application/vnd.jupyter.widget-view+json": {
       "model_id": "5335f0deb51e45c3b12293672762ea2f",
       "version_major": 2,
       "version_minor": 0
      },
      "text/html": [
       "<p>Failed to display Jupyter Widget of type <code>Button</code>.</p>\n",
       "<p>\n",
       "  If you're reading this message in the Jupyter Notebook or JupyterLab Notebook, it may mean\n",
       "  that the widgets JavaScript is still loading. If this message persists, it\n",
       "  likely means that the widgets JavaScript library is either not installed or\n",
       "  not enabled. See the <a href=\"https://ipywidgets.readthedocs.io/en/stable/user_install.html\">Jupyter\n",
       "  Widgets Documentation</a> for setup instructions.\n",
       "</p>\n",
       "<p>\n",
       "  If you're reading this message in another frontend (for example, a static\n",
       "  rendering on GitHub or <a href=\"https://nbviewer.jupyter.org/\">NBViewer</a>),\n",
       "  it may mean that your frontend doesn't currently support widgets.\n",
       "</p>\n"
      ],
      "text/plain": [
       "Button(style=ButtonStyle(button_color='lightgreen'))"
      ]
     },
     "metadata": {},
     "output_type": "display_data"
    }
   ],
   "source": [
    "b2 = Button()\n",
    "b2.style = b1.style\n",
    "b2"
   ]
  },
  {
   "cell_type": "markdown",
   "metadata": {},
   "source": [
    "Widget styling attributes are specific to each widget type."
   ]
  },
  {
   "cell_type": "code",
   "execution_count": 42,
   "metadata": {},
   "outputs": [
    {
     "data": {
      "application/vnd.jupyter.widget-view+json": {
       "model_id": "8208886a79254eb5b62442932388e73a",
       "version_major": 2,
       "version_minor": 0
      },
      "text/html": [
       "<p>Failed to display Jupyter Widget of type <code>IntSlider</code>.</p>\n",
       "<p>\n",
       "  If you're reading this message in the Jupyter Notebook or JupyterLab Notebook, it may mean\n",
       "  that the widgets JavaScript is still loading. If this message persists, it\n",
       "  likely means that the widgets JavaScript library is either not installed or\n",
       "  not enabled. See the <a href=\"https://ipywidgets.readthedocs.io/en/stable/user_install.html\">Jupyter\n",
       "  Widgets Documentation</a> for setup instructions.\n",
       "</p>\n",
       "<p>\n",
       "  If you're reading this message in another frontend (for example, a static\n",
       "  rendering on GitHub or <a href=\"https://nbviewer.jupyter.org/\">NBViewer</a>),\n",
       "  it may mean that your frontend doesn't currently support widgets.\n",
       "</p>\n"
      ],
      "text/plain": [
       "IntSlider(value=0, description='Blue handle', style=SliderStyle(handle_color='lightblue'))"
      ]
     },
     "metadata": {},
     "output_type": "display_data"
    }
   ],
   "source": [
    "s1 = IntSlider(description='Blue handle')\n",
    "s1.style.handle_color = 'lightblue'\n",
    "s1"
   ]
  }
 ],
 "metadata": {
  "hide_input": false,
  "kernelspec": {
   "display_name": "Python 3",
   "language": "python",
   "name": "python3"
  },
  "language_info": {
   "codemirror_mode": {
    "name": "ipython",
    "version": 3
   },
   "file_extension": ".py",
   "mimetype": "text/x-python",
   "name": "python",
   "nbconvert_exporter": "python",
   "pygments_lexer": "ipython3",
   "version": "3.6.4"
  },
  "varInspector": {
   "cols": {
    "lenName": 16,
    "lenType": 16,
    "lenVar": 40
   },
   "kernels_config": {
    "python": {
     "delete_cmd_postfix": "",
     "delete_cmd_prefix": "del ",
     "library": "var_list.py",
     "varRefreshCmd": "print(var_dic_list())"
    },
    "r": {
     "delete_cmd_postfix": ") ",
     "delete_cmd_prefix": "rm(",
     "library": "var_list.r",
     "varRefreshCmd": "cat(var_dic_list()) "
    }
   },
   "types_to_exclude": [
    "module",
    "function",
    "builtin_function_or_method",
    "instance",
    "_Feature"
   ],
   "window_display": false
  },
  "widgets": {
   "application/vnd.jupyter.widget-state+json": {
    "state": {
     "0058ae7623a04f11803bed34b4e001d1": {
      "model_module": "@jupyter-widgets/controls",
      "model_module_version": "1.1.0",
      "model_name": "ButtonModel",
      "state": {
       "button_style": "warning",
       "description": "24",
       "layout": "IPY_MODEL_5f4383735711415596954c7bc1a5bfd1",
       "style": "IPY_MODEL_ae1142d85cb84b33b1ea470e4bd02093"
      }
     },
     "0058c8267ecf4a89a325682383ebef28": {
      "model_module": "@jupyter-widgets/controls",
      "model_module_version": "1.1.0",
      "model_name": "ButtonStyleModel",
      "state": {}
     },
     "0078b0a475c2484b86caaf418899786a": {
      "model_module": "@jupyter-widgets/controls",
      "model_module_version": "1.1.0",
      "model_name": "ButtonStyleModel",
      "state": {}
     },
     "007cdb881d7442e092bb7246e32d5adb": {
      "model_module": "@jupyter-widgets/controls",
      "model_module_version": "1.1.0",
      "model_name": "ButtonModel",
      "state": {
       "button_style": "warning",
       "description": "23",
       "layout": "IPY_MODEL_6abcd37e41034b2ca8a2c4c4ba0dca11",
       "style": "IPY_MODEL_9f6242098440454ea6042ef3cfbfb7a8"
      }
     },
     "00938197fbe94dc8b7a1620ffa94307f": {
      "model_module": "@jupyter-widgets/controls",
      "model_module_version": "1.1.0",
      "model_name": "ButtonStyleModel",
      "state": {}
     },
     "00e60517f6aa4f0ead9428b7f6a34910": {
      "model_module": "@jupyter-widgets/controls",
      "model_module_version": "1.1.0",
      "model_name": "ButtonModel",
      "state": {
       "description": "weight=1, 0%",
       "layout": "IPY_MODEL_0da3766809f14c05a2ad82cc219613a3",
       "style": "IPY_MODEL_8e1da2096c1e4ddda38478e184f4717f"
      }
     },
     "00f7870692ef428aa3c4fb5ec5f49d92": {
      "model_module": "@jupyter-widgets/base",
      "model_module_version": "1.0.0",
      "model_name": "LayoutModel",
      "state": {
       "flex": "2 1 0%",
       "width": "auto"
      }
     },
     "00f8858a36fd443388936b742bb8b580": {
      "model_module": "@jupyter-widgets/controls",
      "model_module_version": "1.1.0",
      "model_name": "BoxModel",
      "state": {
       "children": [
        "IPY_MODEL_d6daf0a3280e401aa83cf70b3f49d290",
        "IPY_MODEL_330c09803e374f219e6e63449659ab69",
        "IPY_MODEL_dc3122a453034a2baea57b85ddc39e07",
        "IPY_MODEL_d4fda9662754424a9e02e8e6c8be7336",
        "IPY_MODEL_1a98264b752542fba80bbb40765677b4",
        "IPY_MODEL_aa2667d590b3444d9cedb2573c6beb8f",
        "IPY_MODEL_1afcb6492fcb4b34a95a0df47a27548c",
        "IPY_MODEL_7f04ce1ed9fa4d86a5f9a4f11c5c8f41",
        "IPY_MODEL_b9153e3408194d698d9d52fa4fb5585f",
        "IPY_MODEL_b8527af0a2234a2b8fa79369cf18ffb4",
        "IPY_MODEL_86c0bef6a6024fe2aff219dfd38e6127",
        "IPY_MODEL_51f9ec53b1b0469a8c31e195bad63d36",
        "IPY_MODEL_6186893528e2482bbb540a1a62b59c01",
        "IPY_MODEL_5a24b22d58bb4c5aaee7495581775196",
        "IPY_MODEL_84c6c6d057a24ad5a901f7c49932a826",
        "IPY_MODEL_137b3b8b753b4f2fbf203ca491b39ae1",
        "IPY_MODEL_522a6e487ef14593b30f18ccd5bad07e",
        "IPY_MODEL_56e6f81047b044dc9fe23234a1502e1f",
        "IPY_MODEL_ee21e2b6c5474090929b7105e2dc42fd",
        "IPY_MODEL_adf90391fc344a7ab13ab5b19e7a5c4e",
        "IPY_MODEL_5e83b513760b43838c0d3517d342780e",
        "IPY_MODEL_337346cf012b4dc79c68fa51de066051",
        "IPY_MODEL_51784868989e4b48b7ca46f507c8bb64",
        "IPY_MODEL_adcf5210c1db480fa1595df59f8757eb",
        "IPY_MODEL_135695a53f55463d84fecaf0971c23d8",
        "IPY_MODEL_ea91d78eb80b4cac9ae320f635b8f01e",
        "IPY_MODEL_46429e39eeb1498d919647e65e27389f",
        "IPY_MODEL_94c2dc54e0e24fd7ac958c374a520870",
        "IPY_MODEL_bc0c78eab5634f8bbc35dda94e44d54f",
        "IPY_MODEL_978bfecb02514a2a874e102412019c4c",
        "IPY_MODEL_0d2e297e864d4148a58d2fa404a81d9a",
        "IPY_MODEL_796d6c07253c45f8bd291edb61debd24",
        "IPY_MODEL_0b5d80b47dde405fae220e8be374fc90",
        "IPY_MODEL_c6a192a92b514f56b39a2234dc594661",
        "IPY_MODEL_d54239c920de458cb68ba8afbf2ab93f",
        "IPY_MODEL_5f10204404fd450fa73e8da20f9cd4d6",
        "IPY_MODEL_6c7dd6a840fd422db439be113058c889",
        "IPY_MODEL_024b47ca167548909c5a0851f1b359be",
        "IPY_MODEL_e8a998539f2740fdb7fe6fd8aa47094e",
        "IPY_MODEL_8314c2b38bf543bbae9b81a61bb12747"
       ],
       "layout": "IPY_MODEL_fb20dbd8e69648f586cc138ef22fbe3b"
      }
     },
     "00fbcfd6b3794e20adef785a7ba0d18f": {
      "model_module": "@jupyter-widgets/controls",
      "model_module_version": "1.1.0",
      "model_name": "VBoxModel",
      "state": {
       "children": [
        "IPY_MODEL_3542efa639e941ce88d325efd96ed61a",
        "IPY_MODEL_6feb26eafe7944e7940b9c5b23150ebe"
       ],
       "layout": "IPY_MODEL_1cd5e15c30d147c8a6c0f2fc22c51a67"
      }
     },
     "0129b593ea8f40a5969ddfbbfbee32b4": {
      "model_module": "@jupyter-widgets/controls",
      "model_module_version": "1.1.0",
      "model_name": "ButtonStyleModel",
      "state": {}
     },
     "014f723810b5437183be04792681830f": {
      "model_module": "@jupyter-widgets/controls",
      "model_module_version": "1.1.0",
      "model_name": "ButtonStyleModel",
      "state": {
       "button_color": "lightgreen"
      }
     },
     "019e2aed4cd148fd84b1596c9ccba819": {
      "model_module": "@jupyter-widgets/controls",
      "model_module_version": "1.1.0",
      "model_name": "DropdownModel",
      "state": {
       "_options_labels": [
        "Scrambled",
        "Sunny side up",
        "Over easy"
       ],
       "index": 0,
       "layout": "IPY_MODEL_7101c650eb7b4ad2810fa868f2a347cd",
       "style": "IPY_MODEL_6c1ccff8ac5d4bc5a312dd11ae9546da"
      }
     },
     "01a3993388c64649b8728fe3da21a6fb": {
      "model_module": "@jupyter-widgets/base",
      "model_module_version": "1.0.0",
      "model_name": "LayoutModel",
      "state": {}
     },
     "01a4116955cb473aac242b39e7e36d17": {
      "model_module": "@jupyter-widgets/controls",
      "model_module_version": "1.1.0",
      "model_name": "ButtonStyleModel",
      "state": {}
     },
     "020333eedd3c417fab82047df8de78e1": {
      "model_module": "@jupyter-widgets/controls",
      "model_module_version": "1.1.0",
      "model_name": "IntSliderModel",
      "state": {
       "layout": "IPY_MODEL_b2e32406fc2e46f5a0ff205f2220e01b",
       "style": "IPY_MODEL_1a050df662ab46dcb80ee4bce45c60e4"
      }
     },
     "0209493ae0ec4c58942112db8f622ee7": {
      "model_module": "@jupyter-widgets/controls",
      "model_module_version": "1.1.0",
      "model_name": "ButtonStyleModel",
      "state": {}
     },
     "0210bbf9bc3744b6b8a03e4aa2f5b9dc": {
      "model_module": "@jupyter-widgets/base",
      "model_module_version": "1.0.0",
      "model_name": "LayoutModel",
      "state": {}
     },
     "02205590ca884577a4fb9d9cdda1a114": {
      "model_module": "@jupyter-widgets/controls",
      "model_module_version": "1.1.0",
      "model_name": "LabelModel",
      "state": {
       "layout": "IPY_MODEL_70f281964e3649158a54d87125f9791a",
       "style": "IPY_MODEL_f6b30d21547d4fbf8e629b4f39976242",
       "value": "A too long description"
      }
     },
     "02309652825941169e6a5fdb72ce08c1": {
      "model_module": "@jupyter-widgets/controls",
      "model_module_version": "1.1.0",
      "model_name": "ButtonStyleModel",
      "state": {}
     },
     "02374199046a4b269aaf68f71b20613d": {
      "model_module": "@jupyter-widgets/controls",
      "model_module_version": "1.1.0",
      "model_name": "ButtonModel",
      "state": {
       "button_style": "warning",
       "description": "30",
       "layout": "IPY_MODEL_f97c294201b54222ba61666297c61c75",
       "style": "IPY_MODEL_b50d1e573eb34af4a7a21e83d5fa2ae5"
      }
     },
     "024b47ca167548909c5a0851f1b359be": {
      "model_module": "@jupyter-widgets/controls",
      "model_module_version": "1.1.0",
      "model_name": "ButtonModel",
      "state": {
       "button_style": "warning",
       "description": "37",
       "layout": "IPY_MODEL_9886a36bb356420e9e4d3c7cdd66e238",
       "style": "IPY_MODEL_17038dd855704e3f8c364312bbb351c6"
      }
     },
     "02930fe9e04547928e81c052bb2d3b90": {
      "model_module": "@jupyter-widgets/base",
      "model_module_version": "1.0.0",
      "model_name": "LayoutModel",
      "state": {}
     },
     "02aa21ddb50141f5b0c602bc71b83d62": {
      "model_module": "@jupyter-widgets/controls",
      "model_module_version": "1.1.0",
      "model_name": "ButtonModel",
      "state": {
       "button_style": "warning",
       "description": "22",
       "layout": "IPY_MODEL_6abcd37e41034b2ca8a2c4c4ba0dca11",
       "style": "IPY_MODEL_81ec874e094f413088dd30ceacec3ee1"
      }
     },
     "02bdaaf61bd440258fbf0cd159be0597": {
      "model_module": "@jupyter-widgets/controls",
      "model_module_version": "1.1.0",
      "model_name": "BoxModel",
      "state": {
       "children": [
        "IPY_MODEL_df8d4a944f324914add68b4179e51e42",
        "IPY_MODEL_464280bf48fa4863ba81e686d2bfd65b",
        "IPY_MODEL_ebda4fe8c4484d9fbbc2ddcc2a3f9a97"
       ],
       "layout": "IPY_MODEL_f804b93605b841d68c7d7dde9fb05ac9"
      }
     },
     "02e42e30833f4999ab9aca57ef8dfdaf": {
      "model_module": "@jupyter-widgets/controls",
      "model_module_version": "1.1.0",
      "model_name": "ButtonStyleModel",
      "state": {}
     },
     "02ed48b75be0416999781b7d9000e33a": {
      "model_module": "@jupyter-widgets/controls",
      "model_module_version": "1.1.0",
      "model_name": "ButtonStyleModel",
      "state": {}
     },
     "02f4c79d84054cfdba76827cd4971926": {
      "model_module": "@jupyter-widgets/controls",
      "model_module_version": "1.1.0",
      "model_name": "ButtonStyleModel",
      "state": {}
     },
     "02ff6e2ffeee41a0a75e4b0c8230066c": {
      "model_module": "@jupyter-widgets/controls",
      "model_module_version": "1.1.0",
      "model_name": "ButtonModel",
      "state": {
       "description": "(50% width, 80px height) button",
       "layout": "IPY_MODEL_78f597e050054a95b6c204a4d5c5ba12",
       "style": "IPY_MODEL_c9b52da5c53a4b69ba7d1f2804145b2e"
      }
     },
     "0340c16ad91142969d56d5c398619ee5": {
      "model_module": "@jupyter-widgets/controls",
      "model_module_version": "1.1.0",
      "model_name": "ButtonModel",
      "state": {
       "button_style": "warning",
       "description": "20",
       "layout": "IPY_MODEL_f97c294201b54222ba61666297c61c75",
       "style": "IPY_MODEL_86120c170f904c55a2900c4b0a628f39"
      }
     },
     "0383e150bd0c4a5ca09c638482a9d4a5": {
      "model_module": "@jupyter-widgets/controls",
      "model_module_version": "1.1.0",
      "model_name": "ButtonStyleModel",
      "state": {}
     },
     "03d2f10cca034a13962696fbf2ce6d4d": {
      "model_module": "@jupyter-widgets/controls",
      "model_module_version": "1.1.0",
      "model_name": "ButtonModel",
      "state": {
       "button_style": "warning",
       "description": "11",
       "layout": "IPY_MODEL_86c93170059349499a5f76156cbd8cdf",
       "style": "IPY_MODEL_26809c04c3aa4cd3954680cef6271da3"
      }
     },
     "0418c2020d7e41eab3733f09a5c3b12e": {
      "model_module": "@jupyter-widgets/controls",
      "model_module_version": "1.1.0",
      "model_name": "ButtonModel",
      "state": {
       "button_style": "danger",
       "description": "weight=1, _0%",
       "layout": "IPY_MODEL_b678fe0199c746ff8d6d196c48a283f8",
       "style": "IPY_MODEL_fdc80c3fb62644f1bfc5df600656ff5d"
      }
     },
     "04353537e286451e807583a76e2458d7": {
      "model_module": "@jupyter-widgets/controls",
      "model_module_version": "1.1.0",
      "model_name": "VBoxModel",
      "state": {
       "children": [
        "IPY_MODEL_8afd908fcba4488aae93564779d4a555",
        "IPY_MODEL_cc01a0c729d2434ca2482d54af55a442"
       ],
       "layout": "IPY_MODEL_4f7b7820f62a44a586cda1114d105a93"
      }
     },
     "0474bebc718a4d479893258403ee6d98": {
      "model_module": "@jupyter-widgets/controls",
      "model_module_version": "1.1.0",
      "model_name": "BoxModel",
      "state": {
       "children": [
        "IPY_MODEL_ff83abaf008e428cb7ea0ebc26e3b22a",
        "IPY_MODEL_3f7bc0f4ffbb4072b8c559319289a99c"
       ],
       "layout": "IPY_MODEL_9cec86147f73446a81e86fe6e7ee1f15"
      }
     },
     "0495d268740a478fb417a9353429380e": {
      "model_module": "@jupyter-widgets/controls",
      "model_module_version": "1.1.0",
      "model_name": "ButtonStyleModel",
      "state": {}
     },
     "04a5460350ce497a8581705a73986484": {
      "model_module": "@jupyter-widgets/controls",
      "model_module_version": "1.1.0",
      "model_name": "ButtonModel",
      "state": {
       "description": "weight=2, auto",
       "layout": "IPY_MODEL_12b96cbed6824a7e8a8d5827585e768d",
       "style": "IPY_MODEL_eb16a4d6d25e4e89bbbfb33d82d31fe1"
      }
     },
     "04ac99d4763e41f3a14930b3d07464ce": {
      "model_module": "@jupyter-widgets/base",
      "model_module_version": "1.0.0",
      "model_name": "LayoutModel",
      "state": {}
     },
     "04c72dfc94944492b992bec93cf03fbd": {
      "model_module": "@jupyter-widgets/base",
      "model_module_version": "1.0.0",
      "model_name": "LayoutModel",
      "state": {
       "flex": "1 1 auto",
       "width": "auto"
      }
     },
     "04e471f5df84465ea59b9a5b11f4bf23": {
      "model_module": "@jupyter-widgets/base",
      "model_module_version": "1.0.0",
      "model_name": "LayoutModel",
      "state": {}
     },
     "0588d501e6124026b9e6287a44746fa2": {
      "model_module": "@jupyter-widgets/base",
      "model_module_version": "1.0.0",
      "model_name": "LayoutModel",
      "state": {
       "align_items": "stretch",
       "border": "solid 1px",
       "display": "flex",
       "flex_flow": "row",
       "width": "70%"
      }
     },
     "05a54d216209490bbe5a36420da3ee25": {
      "model_module": "@jupyter-widgets/base",
      "model_module_version": "1.0.0",
      "model_name": "LayoutModel",
      "state": {
       "flex": "1 1 0%",
       "width": "auto"
      }
     },
     "05bfcfb94e174b29b3bbe8149dcc1271": {
      "model_module": "@jupyter-widgets/controls",
      "model_module_version": "1.1.0",
      "model_name": "DescriptionStyleModel",
      "state": {
       "description_width": ""
      }
     },
     "05e6adee92e24fc2ad2f544c26e97399": {
      "model_module": "@jupyter-widgets/base",
      "model_module_version": "1.0.0",
      "model_name": "LayoutModel",
      "state": {
       "flex": "1 1 auto",
       "width": "auto"
      }
     },
     "0606cbc317604fbdbaea9d3fd0b2d14a": {
      "model_module": "@jupyter-widgets/base",
      "model_module_version": "1.0.0",
      "model_name": "LayoutModel",
      "state": {
       "height": "100px",
       "min_width": "40px"
      }
     },
     "06181f317c114c798f759ee857d3f190": {
      "model_module": "@jupyter-widgets/controls",
      "model_module_version": "1.1.0",
      "model_name": "ButtonStyleModel",
      "state": {}
     },
     "0623f28438cf413d9a74c890263929ea": {
      "model_module": "@jupyter-widgets/base",
      "model_module_version": "1.0.0",
      "model_name": "LayoutModel",
      "state": {}
     },
     "062eb28159484753a4f7585a29946f59": {
      "model_module": "@jupyter-widgets/controls",
      "model_module_version": "1.1.0",
      "model_name": "ButtonStyleModel",
      "state": {}
     },
     "064bcdedc66840d69c61ad3a0d23e585": {
      "model_module": "@jupyter-widgets/controls",
      "model_module_version": "1.1.0",
      "model_name": "ButtonStyleModel",
      "state": {}
     },
     "064d7a5e7ab042d3843e983dae72cbb8": {
      "model_module": "@jupyter-widgets/controls",
      "model_module_version": "1.1.0",
      "model_name": "ButtonModel",
      "state": {
       "button_style": "warning",
       "description": "17",
       "layout": "IPY_MODEL_128139c1d2f94adbaaea71294ef22ff3",
       "style": "IPY_MODEL_cc3fd9719bee496abbf9353d6583008f"
      }
     },
     "068098de804041e281ea697d7ec634bd": {
      "model_module": "@jupyter-widgets/base",
      "model_module_version": "1.0.0",
      "model_name": "LayoutModel",
      "state": {}
     },
     "069b12883e7b4bc188da074b569dc6bf": {
      "model_module": "@jupyter-widgets/base",
      "model_module_version": "1.0.0",
      "model_name": "LayoutModel",
      "state": {
       "flex": "1 1 auto",
       "width": "auto"
      }
     },
     "06af71d4a29c4a41aa9d986f5017a137": {
      "model_module": "@jupyter-widgets/controls",
      "model_module_version": "1.1.0",
      "model_name": "ButtonStyleModel",
      "state": {}
     },
     "06b7e4b8ba5a4d78912b4933441f203a": {
      "model_module": "@jupyter-widgets/controls",
      "model_module_version": "1.1.0",
      "model_name": "DescriptionStyleModel",
      "state": {
       "description_width": ""
      }
     },
     "06c632abac854a628fcae81139d2591d": {
      "model_module": "@jupyter-widgets/controls",
      "model_module_version": "1.1.0",
      "model_name": "ButtonModel",
      "state": {
       "button_style": "danger",
       "description": "staple",
       "layout": "IPY_MODEL_3f49a64624264d8abe1a00f80a342c21",
       "style": "IPY_MODEL_711a7ddbb88347ad86455d95db51706e"
      }
     },
     "06f717ca1b83418db33ff346166a303d": {
      "model_module": "@jupyter-widgets/controls",
      "model_module_version": "1.1.0",
      "model_name": "ButtonModel",
      "state": {
       "layout": "IPY_MODEL_31d6a83087ed4776a42caa5e3aa39826",
       "style": "IPY_MODEL_014f723810b5437183be04792681830f"
      }
     },
     "07160c290135428dbe8e272d937f7550": {
      "model_module": "@jupyter-widgets/controls",
      "model_module_version": "1.1.0",
      "model_name": "BoxModel",
      "state": {
       "children": [
        "IPY_MODEL_5d1fd9b08747429f868954b7d1c79f91",
        "IPY_MODEL_bd72d3a1d7bc4097b11afceb0c4f40e7"
       ],
       "layout": "IPY_MODEL_e32e1ba49d54431a8b33e2de4ff14642"
      }
     },
     "0717f8881f7e41f9abea11cedf88b30c": {
      "model_module": "@jupyter-widgets/controls",
      "model_module_version": "1.1.0",
      "model_name": "ButtonModel",
      "state": {
       "button_style": "warning",
       "description": "29",
       "layout": "IPY_MODEL_2609a17cced145ad91b86d4ddfbd3bfd",
       "style": "IPY_MODEL_9e36984680bc4888abb1ff6137740674"
      }
     },
     "073cba390cdb48d68bbfb53e5ff05968": {
      "model_module": "@jupyter-widgets/controls",
      "model_module_version": "1.1.0",
      "model_name": "ButtonStyleModel",
      "state": {}
     },
     "0756e959df904e5fb97dd8808eee6359": {
      "model_module": "@jupyter-widgets/controls",
      "model_module_version": "1.1.0",
      "model_name": "ButtonModel",
      "state": {
       "button_style": "warning",
       "description": "10",
       "layout": "IPY_MODEL_6abcd37e41034b2ca8a2c4c4ba0dca11",
       "style": "IPY_MODEL_5a04723ab99445878c953f92a125b650"
      }
     },
     "0769d3b72d5e4d18a71d9d604f2b7f33": {
      "model_module": "@jupyter-widgets/controls",
      "model_module_version": "1.1.0",
      "model_name": "VBoxModel",
      "state": {
       "children": [
        "IPY_MODEL_d509f45586454098ab3968398289c827",
        "IPY_MODEL_73e36e5928de4207b0f87f64093dbd59"
       ],
       "layout": "IPY_MODEL_bbbcf3672e0f40d0a12b4bbaa66667de"
      }
     },
     "07b678053dd34ba1849a0decb01b56c0": {
      "model_module": "@jupyter-widgets/controls",
      "model_module_version": "1.1.0",
      "model_name": "ButtonModel",
      "state": {
       "button_style": "warning",
       "description": "1",
       "layout": "IPY_MODEL_5a006e2933db480cbe6187ccadf63fd7",
       "style": "IPY_MODEL_0801d003c7784fff9f85bc9bc6f422b9"
      }
     },
     "0801d003c7784fff9f85bc9bc6f422b9": {
      "model_module": "@jupyter-widgets/controls",
      "model_module_version": "1.1.0",
      "model_name": "ButtonStyleModel",
      "state": {}
     },
     "08233a43fde34078ac7bc816491c3804": {
      "model_module": "@jupyter-widgets/controls",
      "model_module_version": "1.1.0",
      "model_name": "ButtonStyleModel",
      "state": {}
     },
     "084767ec12244bb382ac5c5d82498d2e": {
      "model_module": "@jupyter-widgets/controls",
      "model_module_version": "1.1.0",
      "model_name": "ButtonStyleModel",
      "state": {}
     },
     "084b2104c57c4473b375e1a9ae36c335": {
      "model_module": "@jupyter-widgets/base",
      "model_module_version": "1.0.0",
      "model_name": "LayoutModel",
      "state": {}
     },
     "08624087733d4f5ebddedb3194975f04": {
      "model_module": "@jupyter-widgets/base",
      "model_module_version": "1.0.0",
      "model_name": "LayoutModel",
      "state": {
       "flex": "1 1 auto",
       "width": "auto"
      }
     },
     "086df51273d24e04937f8e8345b3e6cf": {
      "model_module": "@jupyter-widgets/controls",
      "model_module_version": "1.1.0",
      "model_name": "BoxModel",
      "state": {
       "children": [
        "IPY_MODEL_a1361958633f479ba465f671b5667177",
        "IPY_MODEL_d143308f1a254236860ec0aa692d37e6",
        "IPY_MODEL_cf2586039aff40ae992e1c2b5415bba3"
       ],
       "layout": "IPY_MODEL_8058e47a870d43b0af78d79a488e3ca4"
      }
     },
     "08a354fd401d4b17bccc675806c9a48b": {
      "model_module": "@jupyter-widgets/base",
      "model_module_version": "1.0.0",
      "model_name": "LayoutModel",
      "state": {
       "width": "auto"
      }
     },
     "08be938e8c844acaaf4af0c0c20aedba": {
      "model_module": "@jupyter-widgets/controls",
      "model_module_version": "1.1.0",
      "model_name": "ButtonStyleModel",
      "state": {}
     },
     "08d256d45eb64701b4e152ca2b947779": {
      "model_module": "@jupyter-widgets/controls",
      "model_module_version": "1.1.0",
      "model_name": "ButtonStyleModel",
      "state": {}
     },
     "08daabb49c9e492abd68dde8c1213b88": {
      "model_module": "@jupyter-widgets/base",
      "model_module_version": "1.0.0",
      "model_name": "LayoutModel",
      "state": {
       "flex": "1 1 0%",
       "width": "auto"
      }
     },
     "08f79646df364b288120cd971a12376a": {
      "model_module": "@jupyter-widgets/base",
      "model_module_version": "1.0.0",
      "model_name": "LayoutModel",
      "state": {}
     },
     "0900239eed7c40fd8d2fbf0fea297846": {
      "model_module": "@jupyter-widgets/controls",
      "model_module_version": "1.1.0",
      "model_name": "ButtonModel",
      "state": {
       "button_style": "warning",
       "description": "36",
       "layout": "IPY_MODEL_616560d2e26b4bee8b7c903f483241f8",
       "style": "IPY_MODEL_7a738dc1cc08435d9e58d0a5865f16c4"
      }
     },
     "0909dd3c366f464d8d087092ae83fb00": {
      "model_module": "@jupyter-widgets/controls",
      "model_module_version": "1.1.0",
      "model_name": "ButtonModel",
      "state": {
       "button_style": "warning",
       "description": "1",
       "layout": "IPY_MODEL_86c93170059349499a5f76156cbd8cdf",
       "style": "IPY_MODEL_f17377771f7049e190a14b5c5eceb10d"
      }
     },
     "0911c1942b594d4eaf6ede977a5c16dc": {
      "model_module": "@jupyter-widgets/controls",
      "model_module_version": "1.1.0",
      "model_name": "ButtonStyleModel",
      "state": {}
     },
     "0951adc347ce4785b1ca5044c793a8dc": {
      "model_module": "@jupyter-widgets/controls",
      "model_module_version": "1.1.0",
      "model_name": "ButtonStyleModel",
      "state": {}
     },
     "095c69b1538e48fe974175b9087c0fcd": {
      "model_module": "@jupyter-widgets/controls",
      "model_module_version": "1.1.0",
      "model_name": "ButtonModel",
      "state": {
       "description": "weight=1",
       "layout": "IPY_MODEL_a7261ca6a21a47f28db09cf820d7c77d",
       "style": "IPY_MODEL_2239ad9aba3b48a293cdecc022943219"
      }
     },
     "0964108645bf43b3bfe0ccee67c30b43": {
      "model_module": "@jupyter-widgets/controls",
      "model_module_version": "1.1.0",
      "model_name": "BoxModel",
      "state": {
       "children": [
        "IPY_MODEL_dda3ace8aee54559acb9b801a67029f1",
        "IPY_MODEL_3521d71906664006aee41074f114f785",
        "IPY_MODEL_f3ecaafed0d5464babb0568b68e7c148"
       ],
       "layout": "IPY_MODEL_bb36a910c3624f46a5cf986bbeff7d8f"
      }
     },
     "0967ad7850184df882fc72b32d8266c2": {
      "model_module": "@jupyter-widgets/controls",
      "model_module_version": "1.1.0",
      "model_name": "ButtonStyleModel",
      "state": {}
     },
     "0969a8e6210b43a98051601a7cd10115": {
      "model_module": "@jupyter-widgets/controls",
      "model_module_version": "1.1.0",
      "model_name": "ButtonModel",
      "state": {
       "button_style": "warning",
       "description": "14",
       "layout": "IPY_MODEL_128139c1d2f94adbaaea71294ef22ff3",
       "style": "IPY_MODEL_356368e0ac864196b341dc9cdb77a656"
      }
     },
     "09aac82cf5724e739ebbb7c4d72b3661": {
      "model_module": "@jupyter-widgets/controls",
      "model_module_version": "1.1.0",
      "model_name": "ButtonStyleModel",
      "state": {}
     },
     "09c47efc533d42ce8554f376118c829f": {
      "model_module": "@jupyter-widgets/controls",
      "model_module_version": "1.1.0",
      "model_name": "ButtonModel",
      "state": {
       "button_style": "danger",
       "description": "horse",
       "layout": "IPY_MODEL_1e1fd102735342b8b1b0c3ce484e3628",
       "style": "IPY_MODEL_8aa642a5ec7347ac8ae106a6a8d300c2"
      }
     },
     "0a1da9ea2afe4899b5eb430929488573": {
      "model_module": "@jupyter-widgets/controls",
      "model_module_version": "1.1.0",
      "model_name": "SliderStyleModel",
      "state": {
       "description_width": "",
       "handle_color": "lightblue"
      }
     },
     "0a2f07fe226142b9b850dfd99dc6042a": {
      "model_module": "@jupyter-widgets/controls",
      "model_module_version": "1.1.0",
      "model_name": "ButtonStyleModel",
      "state": {}
     },
     "0a535bf2f8b74c85aab2aea0e596bbe3": {
      "model_module": "@jupyter-widgets/controls",
      "model_module_version": "1.1.0",
      "model_name": "ButtonStyleModel",
      "state": {}
     },
     "0a9917e4dcb3416abe3ed044f3c95de6": {
      "model_module": "@jupyter-widgets/base",
      "model_module_version": "1.0.0",
      "model_name": "LayoutModel",
      "state": {
       "flex": "1 1 auto",
       "width": "auto"
      }
     },
     "0abac824f64f4de080e4f3bf9d19a3aa": {
      "model_module": "@jupyter-widgets/controls",
      "model_module_version": "1.1.0",
      "model_name": "ButtonModel",
      "state": {
       "button_style": "danger",
       "description": "Danger Button",
       "layout": "IPY_MODEL_2aa917f6da45476d91d52f08c93cee50",
       "style": "IPY_MODEL_e97b5a0afdcd4da5acdea782e5f27e71"
      }
     },
     "0ac180ed4c1544adb00fce52512ad2c4": {
      "model_module": "@jupyter-widgets/controls",
      "model_module_version": "1.1.0",
      "model_name": "ButtonStyleModel",
      "state": {}
     },
     "0ace049e703d4b3791d6f4e69084427b": {
      "model_module": "@jupyter-widgets/controls",
      "model_module_version": "1.1.0",
      "model_name": "ButtonStyleModel",
      "state": {}
     },
     "0aef5d51893849d8b70c7da7e42b2804": {
      "model_module": "@jupyter-widgets/controls",
      "model_module_version": "1.1.0",
      "model_name": "IntSliderModel",
      "state": {
       "description": "\\(\\int_0^t f\\)",
       "layout": "IPY_MODEL_4c3bf7a475d742808314b5a1df88b1d2",
       "style": "IPY_MODEL_22182b5f28f14c65a113df9a33fa81cc"
      }
     },
     "0af87b227b43470abe92e3c846fd945d": {
      "model_module": "@jupyter-widgets/controls",
      "model_module_version": "1.1.0",
      "model_name": "ButtonStyleModel",
      "state": {}
     },
     "0afbc8cf95e54941ac1d6ad9df48b7eb": {
      "model_module": "@jupyter-widgets/controls",
      "model_module_version": "1.1.0",
      "model_name": "ButtonModel",
      "state": {
       "button_style": "warning",
       "description": "3",
       "layout": "IPY_MODEL_4f96c205ba6c46e196e16241cfe4cf24",
       "style": "IPY_MODEL_f3f7d012bc724c1593a580e340e0a6b1"
      }
     },
     "0b0b7e5972b04520a7066fa08a6bf5a5": {
      "model_module": "@jupyter-widgets/controls",
      "model_module_version": "1.1.0",
      "model_name": "BoxModel",
      "state": {
       "children": [
        "IPY_MODEL_b19b0f4d5ebc41cbb22e025d8e3e32f5",
        "IPY_MODEL_55f4cb92fffc4e8ba540cbbf4f4aa15f"
       ],
       "layout": "IPY_MODEL_b73dcd51c0a84653a2a1d0fc2da4f240"
      }
     },
     "0b24fc39831441a9b6941a82edfbaaf1": {
      "model_module": "@jupyter-widgets/controls",
      "model_module_version": "1.1.0",
      "model_name": "BoxModel",
      "state": {
       "children": [
        "IPY_MODEL_9be60ad4ef5b4282a97125f138ad132b",
        "IPY_MODEL_c4cde0fc628c460397f664c2cd761f86"
       ],
       "layout": "IPY_MODEL_9cec86147f73446a81e86fe6e7ee1f15"
      }
     },
     "0b25d5e1a07845d28d35e84043ec31ed": {
      "model_module": "@jupyter-widgets/base",
      "model_module_version": "1.0.0",
      "model_name": "LayoutModel",
      "state": {
       "flex": "1 1 auto",
       "width": "auto"
      }
     },
     "0b4ab1925b614077b910f8826679b886": {
      "model_module": "@jupyter-widgets/controls",
      "model_module_version": "1.1.0",
      "model_name": "ButtonModel",
      "state": {
       "description": "weight=1",
       "layout": "IPY_MODEL_d709757d0c4c420f9bebfd3790835cd0",
       "style": "IPY_MODEL_9f65fc8428f641058be7b1169ca58a03"
      }
     },
     "0b4ea96cc88344feac5ac5bbb45a8ab3": {
      "model_module": "@jupyter-widgets/base",
      "model_module_version": "1.0.0",
      "model_name": "LayoutModel",
      "state": {
       "flex": "1 1 auto",
       "width": "auto"
      }
     },
     "0b50770845e34322a3660d262d24bdec": {
      "model_module": "@jupyter-widgets/controls",
      "model_module_version": "1.1.0",
      "model_name": "ButtonModel",
      "state": {
       "button_style": "danger",
       "description": "weight=1, _0%",
       "layout": "IPY_MODEL_84ba33ae8b2a424d92f98a91a7cf0fa9",
       "style": "IPY_MODEL_fbb2eec6e5174dda9c84e863cebda842"
      }
     },
     "0b5d80b47dde405fae220e8be374fc90": {
      "model_module": "@jupyter-widgets/controls",
      "model_module_version": "1.1.0",
      "model_name": "ButtonModel",
      "state": {
       "button_style": "warning",
       "description": "32",
       "layout": "IPY_MODEL_9886a36bb356420e9e4d3c7cdd66e238",
       "style": "IPY_MODEL_968ffed9b29745c2b49243a8bb08c157"
      }
     },
     "0b72ea356da744a18dba8e259ab1fb13": {
      "model_module": "@jupyter-widgets/controls",
      "model_module_version": "1.1.0",
      "model_name": "ButtonStyleModel",
      "state": {}
     },
     "0bcd24c67d33432d89ab472f6eb79e9e": {
      "model_module": "@jupyter-widgets/base",
      "model_module_version": "1.0.0",
      "model_name": "LayoutModel",
      "state": {}
     },
     "0bd3ef68f81141859b6fb4fe529cd47c": {
      "model_module": "@jupyter-widgets/controls",
      "model_module_version": "1.1.0",
      "model_name": "BoxModel",
      "state": {
       "children": [
        "IPY_MODEL_6f75f0851b4c40599d7d88100d52be88",
        "IPY_MODEL_c5d70bcfed9a4fabb59ad583a585726c",
        "IPY_MODEL_5af7ad0112994392818b1cee40ff5364",
        "IPY_MODEL_9629717020df48c5a34b08201c90d2c4"
       ],
       "layout": "IPY_MODEL_afa401374e3e4bdaa3c3048f6cebfd9e"
      }
     },
     "0bd4215af39046a28f83c35e88f1305f": {
      "model_module": "@jupyter-widgets/base",
      "model_module_version": "1.0.0",
      "model_name": "LayoutModel",
      "state": {}
     },
     "0bd53f577f544b998232e455642616c7": {
      "model_module": "@jupyter-widgets/base",
      "model_module_version": "1.0.0",
      "model_name": "LayoutModel",
      "state": {
       "flex": "1 1 0%",
       "width": "auto"
      }
     },
     "0bfdfc7e1cc047f392733010ca26bfb5": {
      "model_module": "@jupyter-widgets/controls",
      "model_module_version": "1.1.0",
      "model_name": "ButtonModel",
      "state": {
       "description": "Custom color",
       "layout": "IPY_MODEL_d87741c2d4ee455d8360e382ae57ee64",
       "style": "IPY_MODEL_de2208827b4f48c68915e881ca794115"
      }
     },
     "0c1fc6c202494353afbab94b112298a1": {
      "model_module": "@jupyter-widgets/controls",
      "model_module_version": "1.1.0",
      "model_name": "ButtonModel",
      "state": {
       "button_style": "warning",
       "description": "29",
       "layout": "IPY_MODEL_f97c294201b54222ba61666297c61c75",
       "style": "IPY_MODEL_3072cd0688504092a0a05ce57ec72e4a"
      }
     },
     "0c22ba9a2f41416d84b9940a32078dd2": {
      "model_module": "@jupyter-widgets/controls",
      "model_module_version": "1.1.0",
      "model_name": "ButtonStyleModel",
      "state": {}
     },
     "0c4209d609b44c0bbb70b19a7740ee48": {
      "model_module": "@jupyter-widgets/controls",
      "model_module_version": "1.1.0",
      "model_name": "ButtonModel",
      "state": {
       "description": "weight=1",
       "layout": "IPY_MODEL_dcc5a41fa3014226a31f6dec61649d84",
       "style": "IPY_MODEL_4c132c17fd4d442f9a007a27397d2f9b"
      }
     },
     "0c5032802b5c49cdb7bc117ced5f56e8": {
      "model_module": "@jupyter-widgets/base",
      "model_module_version": "1.0.0",
      "model_name": "LayoutModel",
      "state": {
       "align_items": "stretch",
       "border": "solid 2px",
       "display": "flex",
       "flex_flow": "column",
       "width": "50%"
      }
     },
     "0c5c327df2af4a25bbe7f2220fd4d1d3": {
      "model_module": "@jupyter-widgets/controls",
      "model_module_version": "1.1.0",
      "model_name": "ButtonStyleModel",
      "state": {}
     },
     "0c6cc1ceb60d4b15be7e9c1f3c99aa26": {
      "model_module": "@jupyter-widgets/controls",
      "model_module_version": "1.1.0",
      "model_name": "ButtonStyleModel",
      "state": {}
     },
     "0c77439d99134b369caca19a25d2d3f2": {
      "model_module": "@jupyter-widgets/controls",
      "model_module_version": "1.1.0",
      "model_name": "ButtonStyleModel",
      "state": {}
     },
     "0c8f738c45de49919e781366cf228c19": {
      "model_module": "@jupyter-widgets/base",
      "model_module_version": "1.0.0",
      "model_name": "LayoutModel",
      "state": {}
     },
     "0c922727d5b84f8d83fb245bff63d2ea": {
      "model_module": "@jupyter-widgets/controls",
      "model_module_version": "1.1.0",
      "model_name": "ButtonStyleModel",
      "state": {}
     },
     "0cabf2e755884f7fbaa6614358e4351d": {
      "model_module": "@jupyter-widgets/controls",
      "model_module_version": "1.1.0",
      "model_name": "TextareaModel",
      "state": {
       "layout": "IPY_MODEL_8481107357e84a0db1a0a0f53bbf1a59",
       "style": "IPY_MODEL_138620da8eb348dd95218292cb7694b5"
      }
     },
     "0cc1a21bd2fd43a396f2d273465c5e90": {
      "model_module": "@jupyter-widgets/controls",
      "model_module_version": "1.1.0",
      "model_name": "ButtonStyleModel",
      "state": {}
     },
     "0cc3aa070dcd485ea4385a693c1bb7d3": {
      "model_module": "@jupyter-widgets/controls",
      "model_module_version": "1.1.0",
      "model_name": "ButtonStyleModel",
      "state": {}
     },
     "0d0a4773ca2e41d18a6350fbcd9e7e16": {
      "model_module": "@jupyter-widgets/controls",
      "model_module_version": "1.1.0",
      "model_name": "ButtonStyleModel",
      "state": {}
     },
     "0d0d5043c3f74d63849959aaf973f05b": {
      "model_module": "@jupyter-widgets/controls",
      "model_module_version": "1.1.0",
      "model_name": "LabelModel",
      "state": {
       "layout": "IPY_MODEL_be02770dc1ee48499975141129ed7dd8",
       "style": "IPY_MODEL_21d73ff353db455b8d703862405d5493",
       "value": "Information"
      }
     },
     "0d2e297e864d4148a58d2fa404a81d9a": {
      "model_module": "@jupyter-widgets/controls",
      "model_module_version": "1.1.0",
      "model_name": "ButtonModel",
      "state": {
       "button_style": "warning",
       "description": "30",
       "layout": "IPY_MODEL_9886a36bb356420e9e4d3c7cdd66e238",
       "style": "IPY_MODEL_6fef30c286494b9d8399d1db5d4ea222"
      }
     },
     "0d349dc58d7c43569ac3140b94345be3": {
      "model_module": "@jupyter-widgets/controls",
      "model_module_version": "1.1.0",
      "model_name": "ButtonModel",
      "state": {
       "button_style": "danger",
       "description": "battery",
       "layout": "IPY_MODEL_c366761f53664b9b868f37fc6573d759",
       "style": "IPY_MODEL_789014ca62f144db89f58454cafc259f"
      }
     },
     "0d6f370b8ed54cabbf9b37be67fb3288": {
      "model_module": "@jupyter-widgets/controls",
      "model_module_version": "1.1.0",
      "model_name": "ButtonStyleModel",
      "state": {}
     },
     "0d9744538f9f40969c23538cc9cfe25a": {
      "model_module": "@jupyter-widgets/controls",
      "model_module_version": "1.1.0",
      "model_name": "ButtonModel",
      "state": {
       "button_style": "warning",
       "description": "0",
       "layout": "IPY_MODEL_2609a17cced145ad91b86d4ddfbd3bfd",
       "style": "IPY_MODEL_d4f9f96e80344c9187f3c89a887d5403"
      }
     },
     "0da17df2857140809605f302cd8fa998": {
      "model_module": "@jupyter-widgets/controls",
      "model_module_version": "1.1.0",
      "model_name": "BoxModel",
      "state": {
       "children": [
        "IPY_MODEL_110a3a070d534f9fafd63b6b8e536ab5",
        "IPY_MODEL_c244b4c92e614670ab9ad69f78ea1b38"
       ],
       "layout": "IPY_MODEL_9cec86147f73446a81e86fe6e7ee1f15"
      }
     },
     "0da3766809f14c05a2ad82cc219613a3": {
      "model_module": "@jupyter-widgets/base",
      "model_module_version": "1.0.0",
      "model_name": "LayoutModel",
      "state": {
       "flex": "1 1 0%",
       "width": "auto"
      }
     },
     "0dae29a44c6640a38520eda3e76412bd": {
      "model_module": "@jupyter-widgets/controls",
      "model_module_version": "1.1.0",
      "model_name": "ButtonStyleModel",
      "state": {}
     },
     "0dcff2660f3249b3894e124b93d798df": {
      "model_module": "@jupyter-widgets/controls",
      "model_module_version": "1.1.0",
      "model_name": "IntSliderModel",
      "state": {
       "description": "Blue handle",
       "layout": "IPY_MODEL_85b83b86fa674290b480f153082d9615",
       "style": "IPY_MODEL_0a1da9ea2afe4899b5eb430929488573"
      }
     },
     "0de0a4ede1704419991adbf8320b84f9": {
      "model_module": "@jupyter-widgets/controls",
      "model_module_version": "1.1.0",
      "model_name": "ButtonStyleModel",
      "state": {}
     },
     "0de70a0050d04470a19d885cf9e4d1a2": {
      "model_module": "@jupyter-widgets/controls",
      "model_module_version": "1.1.0",
      "model_name": "ButtonStyleModel",
      "state": {}
     },
     "0e0800c787f9443eaee93f9626fa55bc": {
      "model_module": "@jupyter-widgets/controls",
      "model_module_version": "1.1.0",
      "model_name": "ButtonStyleModel",
      "state": {}
     },
     "0e1a099a6d154790b32fe0a2d7a3f5cb": {
      "model_module": "@jupyter-widgets/base",
      "model_module_version": "1.0.0",
      "model_name": "LayoutModel",
      "state": {
       "flex": "1 1 0%",
       "width": "auto"
      }
     },
     "0e1adf580a874d9894992e8e1be48e8e": {
      "model_module": "@jupyter-widgets/controls",
      "model_module_version": "1.1.0",
      "model_name": "ButtonModel",
      "state": {
       "button_style": "warning",
       "description": "8",
       "layout": "IPY_MODEL_5f4383735711415596954c7bc1a5bfd1",
       "style": "IPY_MODEL_e807d441f73f467b81730d4ed4a5054a"
      }
     },
     "0e1b5a8bf8fb467a8a055cd2e37ab8c5": {
      "model_module": "@jupyter-widgets/controls",
      "model_module_version": "1.1.0",
      "model_name": "ButtonStyleModel",
      "state": {}
     },
     "0e2c87a9caf7415e8394467aebd08eae": {
      "model_module": "@jupyter-widgets/controls",
      "model_module_version": "1.1.0",
      "model_name": "ButtonModel",
      "state": {
       "button_style": "danger",
       "description": "correct",
       "layout": "IPY_MODEL_c7338576bee04316bd2700f1c493a0f7",
       "style": "IPY_MODEL_c2ebddece7bc4287973b5ad652730a8c"
      }
     },
     "0e58232f10dc4211a0a19a75035fb4bb": {
      "model_module": "@jupyter-widgets/controls",
      "model_module_version": "1.1.0",
      "model_name": "ButtonModel",
      "state": {
       "button_style": "danger",
       "description": "weight=1, auto",
       "layout": "IPY_MODEL_63483cc0db974b9f9f37a69d71e071dc",
       "style": "IPY_MODEL_4ae6d00eaa6d4660ad3fb0b4a818135a"
      }
     },
     "0e5afcffed4e47e18d97bd2dc561877f": {
      "model_module": "@jupyter-widgets/controls",
      "model_module_version": "1.1.0",
      "model_name": "DescriptionStyleModel",
      "state": {
       "description_width": ""
      }
     },
     "0e9e2e74e4cb47a9962b361f8cd6a847": {
      "model_module": "@jupyter-widgets/controls",
      "model_module_version": "1.1.0",
      "model_name": "ButtonModel",
      "state": {
       "button_style": "danger",
       "description": "weight=1, _0%",
       "layout": "IPY_MODEL_55bdbd60c44d4661872dff19c19c9b76",
       "style": "IPY_MODEL_29285e29a8d447bda2fa8e83866c16bd"
      }
     },
     "0ead874e67d44643a236c949155a5368": {
      "model_module": "@jupyter-widgets/base",
      "model_module_version": "1.0.0",
      "model_name": "LayoutModel",
      "state": {}
     },
     "0edce4793fe24d75a515896978eefd14": {
      "model_module": "@jupyter-widgets/controls",
      "model_module_version": "1.1.0",
      "model_name": "BoxModel",
      "state": {
       "children": [
        "IPY_MODEL_314fc7bb30a240728109f49b6241690b",
        "IPY_MODEL_cc328e87dd3042ad9fd69f590fcad61b",
        "IPY_MODEL_210f498592364e1db9eec5088f0c0fab",
        "IPY_MODEL_8f7977e5dcb4477d9f819578d901d855"
       ],
       "layout": "IPY_MODEL_4f4856926d1a4a108f4c2c67e8aed4c4"
      }
     },
     "0f0dbb39551047aa948f3515d3669b74": {
      "model_module": "@jupyter-widgets/controls",
      "model_module_version": "1.1.0",
      "model_name": "ButtonModel",
      "state": {
       "button_style": "warning",
       "description": "23",
       "layout": "IPY_MODEL_4f96c205ba6c46e196e16241cfe4cf24",
       "style": "IPY_MODEL_671b8c503ce14a4da2068c7227048784"
      }
     },
     "0f1367eb17cc4c11b7b0ebf866002deb": {
      "model_module": "@jupyter-widgets/controls",
      "model_module_version": "1.1.0",
      "model_name": "ButtonStyleModel",
      "state": {}
     },
     "0f15205e3fd647a5851882092398f15f": {
      "model_module": "@jupyter-widgets/controls",
      "model_module_version": "1.1.0",
      "model_name": "ButtonStyleModel",
      "state": {}
     },
     "0f22c356a8d14e30b8c3ab97f3d66104": {
      "model_module": "@jupyter-widgets/controls",
      "model_module_version": "1.1.0",
      "model_name": "ButtonModel",
      "state": {
       "description": "weight=2",
       "layout": "IPY_MODEL_2d3753601014422094cd7ea237bc449a",
       "style": "IPY_MODEL_f6d6962875c34a70906b93ebd256fe48"
      }
     },
     "0f383d09470f46a4a22fec93da64d6fe": {
      "model_module": "@jupyter-widgets/controls",
      "model_module_version": "1.1.0",
      "model_name": "ButtonStyleModel",
      "state": {}
     },
     "0f77caa99b2642cab48ae9f0bcae447a": {
      "model_module": "@jupyter-widgets/base",
      "model_module_version": "1.0.0",
      "model_name": "LayoutModel",
      "state": {}
     },
     "0f85ecc716df499d803c7af9d6804c05": {
      "model_module": "@jupyter-widgets/controls",
      "model_module_version": "1.1.0",
      "model_name": "ButtonStyleModel",
      "state": {}
     },
     "0f9d050b069547968aae22ef4cb4a62c": {
      "model_module": "@jupyter-widgets/controls",
      "model_module_version": "1.1.0",
      "model_name": "ButtonModel",
      "state": {
       "button_style": "warning",
       "description": "27",
       "layout": "IPY_MODEL_2609a17cced145ad91b86d4ddfbd3bfd",
       "style": "IPY_MODEL_f0c7629d901a43cd9d6a96380c03f7e5"
      }
     },
     "0fa5aa166dd8416b85004ecf139dddee": {
      "model_module": "@jupyter-widgets/controls",
      "model_module_version": "1.1.0",
      "model_name": "ButtonModel",
      "state": {
       "button_style": "warning",
       "description": "24",
       "layout": "IPY_MODEL_4f96c205ba6c46e196e16241cfe4cf24",
       "style": "IPY_MODEL_59258a050b2345049780047ab747a59e"
      }
     },
     "0fb7ce4244d043a09b3d975a456fae32": {
      "model_module": "@jupyter-widgets/controls",
      "model_module_version": "1.1.0",
      "model_name": "DropdownModel",
      "state": {
       "_options_labels": [
        "Scrambled",
        "Sunny side up",
        "Over easy"
       ],
       "index": 0,
       "layout": "IPY_MODEL_e0baf2c0d1aa4946aed8ca0fb27fdac2",
       "style": "IPY_MODEL_73286ac6a1af4f428c0f1b66c23c5186"
      }
     },
     "0fe679996c884f07a7e0703fef7e831c": {
      "model_module": "@jupyter-widgets/controls",
      "model_module_version": "1.1.0",
      "model_name": "IntSliderModel",
      "state": {
       "description": "A too long description",
       "layout": "IPY_MODEL_c33bfb311300432dac45d825868cfb9a",
       "style": "IPY_MODEL_ceee9d1b5e35409ea969d583c882b158"
      }
     },
     "0fea4196c7644b2780466c0b8306251d": {
      "model_module": "@jupyter-widgets/controls",
      "model_module_version": "1.1.0",
      "model_name": "ButtonStyleModel",
      "state": {}
     },
     "0ff86af3c8324fcfa35a9c6475d72159": {
      "model_module": "@jupyter-widgets/controls",
      "model_module_version": "1.1.0",
      "model_name": "ButtonStyleModel",
      "state": {}
     },
     "10269c8809ed4db883c026bc8dfaa9bf": {
      "model_module": "@jupyter-widgets/controls",
      "model_module_version": "1.1.0",
      "model_name": "ButtonStyleModel",
      "state": {}
     },
     "104564eb97854ca9ad14302351bdcff2": {
      "model_module": "@jupyter-widgets/controls",
      "model_module_version": "1.1.0",
      "model_name": "ButtonStyleModel",
      "state": {}
     },
     "10468e8427064bd98f6906eeb5b13a70": {
      "model_module": "@jupyter-widgets/controls",
      "model_module_version": "1.1.0",
      "model_name": "ButtonModel",
      "state": {
       "button_style": "warning",
       "description": "18",
       "layout": "IPY_MODEL_0606cbc317604fbdbaea9d3fd0b2d14a",
       "style": "IPY_MODEL_e1d871f0aa07488eb8a4d6928a634b56"
      }
     },
     "108bb8ce088d4254bfee3ccc10190f14": {
      "model_module": "@jupyter-widgets/controls",
      "model_module_version": "1.1.0",
      "model_name": "LabelModel",
      "state": {
       "layout": "IPY_MODEL_fa68a3bfdc4049d39dece2c8e725a2e8",
       "style": "IPY_MODEL_3c1931efd1d14ced9622a0f216438cc8",
       "value": "Scroll horizontally:"
      }
     },
     "10bb669800ad4c699b27ab00a6a3dfab": {
      "model_module": "@jupyter-widgets/controls",
      "model_module_version": "1.1.0",
      "model_name": "ButtonStyleModel",
      "state": {}
     },
     "10ef5ac051d646f8aba4b47dac8de2bf": {
      "model_module": "@jupyter-widgets/controls",
      "model_module_version": "1.1.0",
      "model_name": "ButtonModel",
      "state": {
       "button_style": "warning",
       "description": "36",
       "layout": "IPY_MODEL_0606cbc317604fbdbaea9d3fd0b2d14a",
       "style": "IPY_MODEL_562a1b1461a042589800f1e3d65b6b95"
      }
     },
     "10efb154252045eab676fc357f71490a": {
      "model_module": "@jupyter-widgets/controls",
      "model_module_version": "1.1.0",
      "model_name": "IntSliderModel",
      "state": {
       "layout": "IPY_MODEL_4e78e99b94624044961f9a2aff616578",
       "max": 60,
       "min": 40,
       "style": "IPY_MODEL_7e3080c262864925b5208347c7bfe115",
       "value": 40
      }
     },
     "10f2986e21bc459aad0e3fbe6bf72f5d": {
      "model_module": "@jupyter-widgets/controls",
      "model_module_version": "1.1.0",
      "model_name": "ButtonModel",
      "state": {
       "button_style": "warning",
       "description": "20",
       "layout": "IPY_MODEL_4f96c205ba6c46e196e16241cfe4cf24",
       "style": "IPY_MODEL_d5d3f0cef2d74f83b85b1a186f9999d8"
      }
     },
     "10f6aaa46b614d4ebf513c6c18902dc8": {
      "model_module": "@jupyter-widgets/controls",
      "model_module_version": "1.1.0",
      "model_name": "ButtonModel",
      "state": {
       "button_style": "warning",
       "description": "25",
       "layout": "IPY_MODEL_6abcd37e41034b2ca8a2c4c4ba0dca11",
       "style": "IPY_MODEL_3d7faa96e9e04d2281ccfd619d634c4c"
      }
     },
     "110a3a070d534f9fafd63b6b8e536ab5": {
      "model_module": "@jupyter-widgets/controls",
      "model_module_version": "1.1.0",
      "model_name": "LabelModel",
      "state": {
       "layout": "IPY_MODEL_384591c27dba454a8167ec6a914f3d4c",
       "style": "IPY_MODEL_b0ca8a293663460e8b7d9f3e10f3575e",
       "value": "Egg style"
      }
     },
     "11171f6179154fb4b5ff52616b102e2f": {
      "model_module": "@jupyter-widgets/controls",
      "model_module_version": "1.1.0",
      "model_name": "ButtonStyleModel",
      "state": {}
     },
     "11422f4fd5e34a98bfd4903086688cab": {
      "model_module": "@jupyter-widgets/base",
      "model_module_version": "1.0.0",
      "model_name": "LayoutModel",
      "state": {}
     },
     "11b8df9cbfab4cdfbb97fbfda5b8ae4a": {
      "model_module": "@jupyter-widgets/controls",
      "model_module_version": "1.1.0",
      "model_name": "ButtonStyleModel",
      "state": {}
     },
     "11f0eaf53bf241f9a79ed2db8ac94011": {
      "model_module": "@jupyter-widgets/controls",
      "model_module_version": "1.1.0",
      "model_name": "ButtonStyleModel",
      "state": {}
     },
     "11f4b0aad25c4bc1ae973b61560992bf": {
      "model_module": "@jupyter-widgets/controls",
      "model_module_version": "1.1.0",
      "model_name": "ButtonStyleModel",
      "state": {}
     },
     "120de0d2a83e46bbbef603950ff93271": {
      "model_module": "@jupyter-widgets/controls",
      "model_module_version": "1.1.0",
      "model_name": "ButtonStyleModel",
      "state": {}
     },
     "121345a7bf874ac282204d241ea9c79c": {
      "model_module": "@jupyter-widgets/controls",
      "model_module_version": "1.1.0",
      "model_name": "ButtonStyleModel",
      "state": {}
     },
     "1215b2eb0fc84dad98ac5f533e56c856": {
      "model_module": "@jupyter-widgets/controls",
      "model_module_version": "1.1.0",
      "model_name": "ButtonModel",
      "state": {
       "button_style": "warning",
       "description": "35",
       "layout": "IPY_MODEL_f97c294201b54222ba61666297c61c75",
       "style": "IPY_MODEL_dd6373ff0c144825a244c58acdb2dfb6"
      }
     },
     "124943578c3941ca9135610ba806dd67": {
      "model_module": "@jupyter-widgets/controls",
      "model_module_version": "1.1.0",
      "model_name": "ButtonModel",
      "state": {
       "description": "weight=2, _0%",
       "layout": "IPY_MODEL_1eeb75f87431414a9e06d8a87c1aac4f",
       "style": "IPY_MODEL_11171f6179154fb4b5ff52616b102e2f"
      }
     },
     "124de595c10143d0bc77c23afcad40ed": {
      "model_module": "@jupyter-widgets/controls",
      "model_module_version": "1.1.0",
      "model_name": "BoxModel",
      "state": {
       "children": [
        "IPY_MODEL_d0ca2b52d44b4a0db2e4e56c73b250b2",
        "IPY_MODEL_fab101d2499046de84204aa2d7d49d90",
        "IPY_MODEL_0e58232f10dc4211a0a19a75035fb4bb"
       ],
       "layout": "IPY_MODEL_4f2ea89743eb4c2b9fb45013addd5ce5"
      }
     },
     "125f933936bc4b8795380b9f7a854642": {
      "model_module": "@jupyter-widgets/controls",
      "model_module_version": "1.1.0",
      "model_name": "ButtonModel",
      "state": {
       "description": "weight=1, _0%",
       "layout": "IPY_MODEL_b108c577a5384e42936652403348162d",
       "style": "IPY_MODEL_c730e111152c49cb9b34fcb4965d2df5"
      }
     },
     "125fe57b10784fbbb89dffb2bcbd6820": {
      "model_module": "@jupyter-widgets/controls",
      "model_module_version": "1.1.0",
      "model_name": "ButtonStyleModel",
      "state": {}
     },
     "128139c1d2f94adbaaea71294ef22ff3": {
      "model_module": "@jupyter-widgets/base",
      "model_module_version": "1.0.0",
      "model_name": "LayoutModel",
      "state": {
       "height": "100px",
       "min_width": "40px"
      }
     },
     "1293c933078d457e9001320eae713294": {
      "model_module": "@jupyter-widgets/controls",
      "model_module_version": "1.1.0",
      "model_name": "ButtonModel",
      "state": {
       "button_style": "warning",
       "description": "39",
       "layout": "IPY_MODEL_128139c1d2f94adbaaea71294ef22ff3",
       "style": "IPY_MODEL_06af71d4a29c4a41aa9d986f5017a137"
      }
     },
     "12b96cbed6824a7e8a8d5827585e768d": {
      "model_module": "@jupyter-widgets/base",
      "model_module_version": "1.0.0",
      "model_name": "LayoutModel",
      "state": {
       "flex": "2 1 auto",
       "width": "auto"
      }
     },
     "12c01430ed7145fdbd40f8004e3237d0": {
      "model_module": "@jupyter-widgets/controls",
      "model_module_version": "1.1.0",
      "model_name": "ButtonStyleModel",
      "state": {}
     },
     "12c845014e99452cb4f2ae81431fd01a": {
      "model_module": "@jupyter-widgets/controls",
      "model_module_version": "1.1.0",
      "model_name": "BoxModel",
      "state": {
       "children": [
        "IPY_MODEL_d3d19375f68b421ebf6e7165def93d56",
        "IPY_MODEL_ce792af2b56b4ad1988d0457fb07dcd4"
       ],
       "layout": "IPY_MODEL_d7039aeff9cc4d7ab13b4c231b67969f"
      }
     },
     "12cc4b213c274be99c5710051a35e4fa": {
      "model_module": "@jupyter-widgets/controls",
      "model_module_version": "1.1.0",
      "model_name": "ButtonStyleModel",
      "state": {}
     },
     "12cf691292234a89816fb1d04414cb22": {
      "model_module": "@jupyter-widgets/controls",
      "model_module_version": "1.1.0",
      "model_name": "ButtonModel",
      "state": {
       "description": "weight=1",
       "layout": "IPY_MODEL_576da3648d5640769c2420d3f75fce00",
       "style": "IPY_MODEL_26c228e8836d4c2ab4d38e845d84b06e"
      }
     },
     "12e45243f7ed43f1890eff5d6883910b": {
      "model_module": "@jupyter-widgets/controls",
      "model_module_version": "1.1.0",
      "model_name": "ButtonModel",
      "state": {
       "button_style": "danger",
       "description": "correct",
       "layout": "IPY_MODEL_f36062d1658742dbab9032aaa90395e7",
       "style": "IPY_MODEL_9f0bed33040e42b18735895df53a1a78"
      }
     },
     "1343878c3d1747b98a7fd29625d64fd0": {
      "model_module": "@jupyter-widgets/controls",
      "model_module_version": "1.1.0",
      "model_name": "ButtonStyleModel",
      "state": {}
     },
     "135695a53f55463d84fecaf0971c23d8": {
      "model_module": "@jupyter-widgets/controls",
      "model_module_version": "1.1.0",
      "model_name": "ButtonModel",
      "state": {
       "button_style": "warning",
       "description": "24",
       "layout": "IPY_MODEL_9886a36bb356420e9e4d3c7cdd66e238",
       "style": "IPY_MODEL_5fd9b83be2e04ae0a789372e76a8bfd2"
      }
     },
     "136c580099bf4fe2ab9c389711cb7f6e": {
      "model_module": "@jupyter-widgets/controls",
      "model_module_version": "1.1.0",
      "model_name": "ButtonModel",
      "state": {
       "button_style": "warning",
       "description": "15",
       "layout": "IPY_MODEL_6abcd37e41034b2ca8a2c4c4ba0dca11",
       "style": "IPY_MODEL_7578c698c9094e1c913e3029c5dda854"
      }
     },
     "137b3b8b753b4f2fbf203ca491b39ae1": {
      "model_module": "@jupyter-widgets/controls",
      "model_module_version": "1.1.0",
      "model_name": "ButtonModel",
      "state": {
       "button_style": "warning",
       "description": "15",
       "layout": "IPY_MODEL_9886a36bb356420e9e4d3c7cdd66e238",
       "style": "IPY_MODEL_42c0b61d27964a15a997e0249edd2f42"
      }
     },
     "137ec8c6fcb34c1ca064cbc476707ef5": {
      "model_module": "@jupyter-widgets/controls",
      "model_module_version": "1.1.0",
      "model_name": "DescriptionStyleModel",
      "state": {
       "description_width": ""
      }
     },
     "13812f4dcf0b406b9069d1ee3d478a18": {
      "model_module": "@jupyter-widgets/controls",
      "model_module_version": "1.1.0",
      "model_name": "ButtonStyleModel",
      "state": {}
     },
     "138620da8eb348dd95218292cb7694b5": {
      "model_module": "@jupyter-widgets/controls",
      "model_module_version": "1.1.0",
      "model_name": "DescriptionStyleModel",
      "state": {
       "description_width": ""
      }
     },
     "1393f9788399406eafdf50f06c9eaf79": {
      "model_module": "@jupyter-widgets/controls",
      "model_module_version": "1.1.0",
      "model_name": "ButtonStyleModel",
      "state": {}
     },
     "1394725853bb4ca3820f81ad917227a7": {
      "model_module": "@jupyter-widgets/controls",
      "model_module_version": "1.1.0",
      "model_name": "ButtonStyleModel",
      "state": {}
     },
     "13af18f71e7349c7b08ccbf7e8f150ab": {
      "model_module": "@jupyter-widgets/controls",
      "model_module_version": "1.1.0",
      "model_name": "ButtonStyleModel",
      "state": {}
     },
     "13eea0b63d06486da3897f7e7f03bad2": {
      "model_module": "@jupyter-widgets/controls",
      "model_module_version": "1.1.0",
      "model_name": "ButtonStyleModel",
      "state": {}
     },
     "13ef262b89c0421ebc3f137dca5b03cf": {
      "model_module": "@jupyter-widgets/controls",
      "model_module_version": "1.1.0",
      "model_name": "ButtonModel",
      "state": {
       "button_style": "warning",
       "description": "11",
       "layout": "IPY_MODEL_5f4383735711415596954c7bc1a5bfd1",
       "style": "IPY_MODEL_f59120dd19ce4bc3aa962c7d7e37acb1"
      }
     },
     "13ef74e061a84e939c9f80b1f08140bb": {
      "model_module": "@jupyter-widgets/controls",
      "model_module_version": "1.1.0",
      "model_name": "ButtonModel",
      "state": {
       "button_style": "warning",
       "description": "18",
       "layout": "IPY_MODEL_5a006e2933db480cbe6187ccadf63fd7",
       "style": "IPY_MODEL_ba71245e4d174d00a93f1aa960e2ccad"
      }
     },
     "13f1917bed0247dcb23c705a6e08307a": {
      "model_module": "@jupyter-widgets/controls",
      "model_module_version": "1.1.0",
      "model_name": "DropdownModel",
      "state": {
       "_options_labels": [
        "Scrambled",
        "Sunny side up",
        "Over easy"
       ],
       "index": 0,
       "layout": "IPY_MODEL_e85134800e794418814e5c8c7e3f900d",
       "style": "IPY_MODEL_a9d016725ee640d581b969f79fa1216b"
      }
     },
     "13ff16a3f8b14a4f9d7255d2a7b5d7b3": {
      "model_module": "@jupyter-widgets/controls",
      "model_module_version": "1.1.0",
      "model_name": "ButtonModel",
      "state": {
       "button_style": "danger",
       "description": "weight=1, _0%",
       "layout": "IPY_MODEL_66c815b329a545cb8bcfa1e2b981f7f4",
       "style": "IPY_MODEL_2c09fa2a305c4800b21b877853136c1e"
      }
     },
     "14149709fe1547c489e0e3b8806a95af": {
      "model_module": "@jupyter-widgets/controls",
      "model_module_version": "1.1.0",
      "model_name": "ButtonStyleModel",
      "state": {}
     },
     "141c0bdcfdbb45d8be6d258e47f9bfa8": {
      "model_module": "@jupyter-widgets/controls",
      "model_module_version": "1.1.0",
      "model_name": "ButtonModel",
      "state": {
       "button_style": "danger",
       "description": "staple",
       "layout": "IPY_MODEL_a7a4802e7a1c4935acd9be3da0412e41",
       "style": "IPY_MODEL_9ce52ce9be2b46aeb22596e94ff9bdcc"
      }
     },
     "146aef1065d14f7baa8f86baa499c108": {
      "model_module": "@jupyter-widgets/base",
      "model_module_version": "1.0.0",
      "model_name": "LayoutModel",
      "state": {
       "flex": "1 1 auto",
       "width": "auto"
      }
     },
     "14ae5064ebed449796fecc9531bd8c29": {
      "model_module": "@jupyter-widgets/base",
      "model_module_version": "1.0.0",
      "model_name": "LayoutModel",
      "state": {
       "flex": "1 1 0%",
       "width": "auto"
      }
     },
     "14af3452480f458297990e6dc0e4feca": {
      "model_module": "@jupyter-widgets/controls",
      "model_module_version": "1.1.0",
      "model_name": "ButtonModel",
      "state": {
       "button_style": "warning",
       "description": "31",
       "layout": "IPY_MODEL_86c93170059349499a5f76156cbd8cdf",
       "style": "IPY_MODEL_67620e6a5449490a8b2ecb27586a04c1"
      }
     },
     "14ccd8df24df4a2bb84f7aae51fba274": {
      "model_module": "@jupyter-widgets/controls",
      "model_module_version": "1.1.0",
      "model_name": "ButtonModel",
      "state": {
       "button_style": "danger",
       "description": "horse",
       "layout": "IPY_MODEL_b552cfe26e0c43508b1080ce200578bd",
       "style": "IPY_MODEL_0383e150bd0c4a5ca09c638482a9d4a5"
      }
     },
     "14d9f419b3cb45b1b6860ca3dfae74a6": {
      "model_module": "@jupyter-widgets/controls",
      "model_module_version": "1.1.0",
      "model_name": "ButtonModel",
      "state": {
       "button_style": "danger",
       "description": "weight=1, _0%",
       "layout": "IPY_MODEL_05a54d216209490bbe5a36420da3ee25",
       "style": "IPY_MODEL_54476fa22a9343a5a9e84c47454b6a34"
      }
     },
     "1502f9c3292d4855a9b048f640ec9006": {
      "model_module": "@jupyter-widgets/controls",
      "model_module_version": "1.1.0",
      "model_name": "ButtonStyleModel",
      "state": {}
     },
     "15041a05c8ad497c9ea549f2a342c937": {
      "model_module": "@jupyter-widgets/controls",
      "model_module_version": "1.1.0",
      "model_name": "ButtonStyleModel",
      "state": {}
     },
     "153afc4ac28b40ffb5e9467ac3596bfd": {
      "model_module": "@jupyter-widgets/controls",
      "model_module_version": "1.1.0",
      "model_name": "ButtonModel",
      "state": {
       "button_style": "danger",
       "description": "horse",
       "layout": "IPY_MODEL_6d65ff560e8b43efb20fdc71bbb7abd6",
       "style": "IPY_MODEL_062eb28159484753a4f7585a29946f59"
      }
     },
     "155e9c7830e34da9a952eb449feb7760": {
      "model_module": "@jupyter-widgets/base",
      "model_module_version": "1.0.0",
      "model_name": "LayoutModel",
      "state": {}
     },
     "1592ba2362844d24b2c80758c52a3762": {
      "model_module": "@jupyter-widgets/controls",
      "model_module_version": "1.1.0",
      "model_name": "IntSliderModel",
      "state": {
       "layout": "IPY_MODEL_8979ef531c894f41a9548a4ea0e93220",
       "style": "IPY_MODEL_25bf40ea708b457d9036c5f940ed051c"
      }
     },
     "15bb11c13c2f4f48a49ce43318c94d6d": {
      "model_module": "@jupyter-widgets/controls",
      "model_module_version": "1.1.0",
      "model_name": "ButtonStyleModel",
      "state": {}
     },
     "15d4b4a525a04f5e84e5987878a2c509": {
      "model_module": "@jupyter-widgets/controls",
      "model_module_version": "1.1.0",
      "model_name": "VBoxModel",
      "state": {
       "children": [
        "IPY_MODEL_56955a562ec845718b3d7770c5c87573",
        "IPY_MODEL_2fb124dfb3414bc5b924eb122987f7aa"
       ],
       "layout": "IPY_MODEL_4437208a60d14de2803863a1be420edf"
      }
     },
     "15d5ef6f85b6482aa7d6644b0d5c0fdd": {
      "model_module": "@jupyter-widgets/base",
      "model_module_version": "1.0.0",
      "model_name": "LayoutModel",
      "state": {
       "flex": "1 1 auto",
       "width": "auto"
      }
     },
     "15d81264f58a4fd4a0ba36ed5b418a94": {
      "model_module": "@jupyter-widgets/controls",
      "model_module_version": "1.1.0",
      "model_name": "ButtonModel",
      "state": {
       "button_style": "danger",
       "description": "correct",
       "layout": "IPY_MODEL_c366761f53664b9b868f37fc6573d759",
       "style": "IPY_MODEL_ee35a1c4b4124208b013ae94616b4f02"
      }
     },
     "15e4643d20614d2c8e6e62f428ecf1e4": {
      "model_module": "@jupyter-widgets/controls",
      "model_module_version": "1.1.0",
      "model_name": "IntSliderModel",
      "state": {
       "description": "Blue handle",
       "layout": "IPY_MODEL_de5468720c5e4147b117f32a5ef58ec5",
       "style": "IPY_MODEL_21c1e240e90142c4ad364b1f0d3b7fb7"
      }
     },
     "160aa8f26f8b4eba9769d29fdae80e7e": {
      "model_module": "@jupyter-widgets/controls",
      "model_module_version": "1.1.0",
      "model_name": "ButtonModel",
      "state": {
       "button_style": "warning",
       "description": "13",
       "layout": "IPY_MODEL_0606cbc317604fbdbaea9d3fd0b2d14a",
       "style": "IPY_MODEL_f64fab90c5f54b97b9ffb2eab564b040"
      }
     },
     "161ded8e11144f2c9cbd4d26b3633836": {
      "model_module": "@jupyter-widgets/controls",
      "model_module_version": "1.1.0",
      "model_name": "ButtonModel",
      "state": {
       "button_style": "warning",
       "description": "3",
       "layout": "IPY_MODEL_2609a17cced145ad91b86d4ddfbd3bfd",
       "style": "IPY_MODEL_84f759e9a9cf49bcaae8031740732f06"
      }
     },
     "1624561925fb4ed5aed463e939e29089": {
      "model_module": "@jupyter-widgets/controls",
      "model_module_version": "1.1.0",
      "model_name": "DescriptionStyleModel",
      "state": {
       "description_width": ""
      }
     },
     "1676c0fd65f34d15bffb8004ec4f2154": {
      "model_module": "@jupyter-widgets/controls",
      "model_module_version": "1.1.0",
      "model_name": "ButtonModel",
      "state": {
       "button_style": "warning",
       "description": "35",
       "layout": "IPY_MODEL_616560d2e26b4bee8b7c903f483241f8",
       "style": "IPY_MODEL_23feb2f947c74a9e9d186f99ef9ff2ea"
      }
     },
     "16d92db431fc44e2b1dbffb12a8919e0": {
      "model_module": "@jupyter-widgets/base",
      "model_module_version": "1.0.0",
      "model_name": "LayoutModel",
      "state": {
       "align_items": "stretch",
       "display": "flex",
       "flex_flow": "row",
       "width": "70%"
      }
     },
     "16de833c0e1843faa3abad1c616ee49f": {
      "model_module": "@jupyter-widgets/controls",
      "model_module_version": "1.1.0",
      "model_name": "ButtonModel",
      "state": {
       "button_style": "warning",
       "description": "1",
       "layout": "IPY_MODEL_0606cbc317604fbdbaea9d3fd0b2d14a",
       "style": "IPY_MODEL_d2d3bc5d606d4f45b06968c9bddf7f77"
      }
     },
     "17038dd855704e3f8c364312bbb351c6": {
      "model_module": "@jupyter-widgets/controls",
      "model_module_version": "1.1.0",
      "model_name": "ButtonStyleModel",
      "state": {}
     },
     "1713156d820a4ee18662e81c09d8d194": {
      "model_module": "@jupyter-widgets/controls",
      "model_module_version": "1.1.0",
      "model_name": "ButtonModel",
      "state": {
       "button_style": "warning",
       "description": "0",
       "layout": "IPY_MODEL_4f96c205ba6c46e196e16241cfe4cf24",
       "style": "IPY_MODEL_6d8e8fc6c71840f6b4677a208285d1bb"
      }
     },
     "1763a642dbdc4044842191d86737be15": {
      "model_module": "@jupyter-widgets/controls",
      "model_module_version": "1.1.0",
      "model_name": "ButtonStyleModel",
      "state": {}
     },
     "17877695fe4d4aa78455f58b7c73fa1e": {
      "model_module": "@jupyter-widgets/controls",
      "model_module_version": "1.1.0",
      "model_name": "ButtonStyleModel",
      "state": {}
     },
     "1787e6acb4bc4a8087a5002b83fb03a2": {
      "model_module": "@jupyter-widgets/controls",
      "model_module_version": "1.1.0",
      "model_name": "ButtonModel",
      "state": {
       "button_style": "danger",
       "description": "staple",
       "layout": "IPY_MODEL_6d65ff560e8b43efb20fdc71bbb7abd6",
       "style": "IPY_MODEL_54768dc1efb4403b859b82939522a7f4"
      }
     },
     "17b43204d68a4dfcb444d62c153a3203": {
      "model_module": "@jupyter-widgets/controls",
      "model_module_version": "1.1.0",
      "model_name": "ButtonModel",
      "state": {
       "button_style": "warning",
       "description": "16",
       "layout": "IPY_MODEL_6abcd37e41034b2ca8a2c4c4ba0dca11",
       "style": "IPY_MODEL_a27a02b97bf5423199e04a8733a2767b"
      }
     },
     "17c1b923cbbc41a48e937af846e96ca8": {
      "model_module": "@jupyter-widgets/controls",
      "model_module_version": "1.1.0",
      "model_name": "ButtonStyleModel",
      "state": {}
     },
     "17f2f6c246d74563ac402a9fe8c64130": {
      "model_module": "@jupyter-widgets/controls",
      "model_module_version": "1.1.0",
      "model_name": "ButtonModel",
      "state": {
       "button_style": "warning",
       "description": "35",
       "layout": "IPY_MODEL_128139c1d2f94adbaaea71294ef22ff3",
       "style": "IPY_MODEL_f029aaf25d4c4c9db6977b32212ba38a"
      }
     },
     "17fb90f48b334950ae699f87350ce1d3": {
      "model_module": "@jupyter-widgets/controls",
      "model_module_version": "1.1.0",
      "model_name": "ButtonModel",
      "state": {
       "button_style": "warning",
       "description": "9",
       "layout": "IPY_MODEL_4f96c205ba6c46e196e16241cfe4cf24",
       "style": "IPY_MODEL_a4db6629c76d462399e88da7cd003327"
      }
     },
     "1800557ab31a444699da0f034c2a14c0": {
      "model_module": "@jupyter-widgets/controls",
      "model_module_version": "1.1.0",
      "model_name": "ButtonStyleModel",
      "state": {}
     },
     "18033b6822e94db1b8d8db774a89b68b": {
      "model_module": "@jupyter-widgets/controls",
      "model_module_version": "1.1.0",
      "model_name": "ButtonStyleModel",
      "state": {}
     },
     "180c2f8593d6415795a9de069058a285": {
      "model_module": "@jupyter-widgets/controls",
      "model_module_version": "1.1.0",
      "model_name": "ButtonStyleModel",
      "state": {}
     },
     "182c952682a04499aceab5e1903be1e5": {
      "model_module": "@jupyter-widgets/controls",
      "model_module_version": "1.1.0",
      "model_name": "ButtonStyleModel",
      "state": {}
     },
     "1854302033e04b96b4378a2886b852e1": {
      "model_module": "@jupyter-widgets/controls",
      "model_module_version": "1.1.0",
      "model_name": "DescriptionStyleModel",
      "state": {
       "description_width": ""
      }
     },
     "185888f7164743ba80ac08b010222e3a": {
      "model_module": "@jupyter-widgets/controls",
      "model_module_version": "1.1.0",
      "model_name": "ButtonStyleModel",
      "state": {}
     },
     "187d57c53da14cbfa92b750ea7304d43": {
      "model_module": "@jupyter-widgets/controls",
      "model_module_version": "1.1.0",
      "model_name": "ButtonStyleModel",
      "state": {}
     },
     "18e7f2ebdb0647c69ef15c31b5999dc6": {
      "model_module": "@jupyter-widgets/controls",
      "model_module_version": "1.1.0",
      "model_name": "ButtonStyleModel",
      "state": {}
     },
     "190b63b2ed0c43b6b88218f477c99e75": {
      "model_module": "@jupyter-widgets/controls",
      "model_module_version": "1.1.0",
      "model_name": "ButtonModel",
      "state": {
       "button_style": "warning",
       "description": "36",
       "layout": "IPY_MODEL_5a006e2933db480cbe6187ccadf63fd7",
       "style": "IPY_MODEL_1393f9788399406eafdf50f06c9eaf79"
      }
     },
     "190f5459176b44429970f89055f16758": {
      "model_module": "@jupyter-widgets/base",
      "model_module_version": "1.0.0",
      "model_name": "LayoutModel",
      "state": {
       "border": "3px solid black",
       "display": "flex",
       "height": "",
       "overflow_x": "scroll",
       "width": "500px"
      }
     },
     "191ace1a592f4b34b663b04529cd164d": {
      "model_module": "@jupyter-widgets/controls",
      "model_module_version": "1.1.0",
      "model_name": "VBoxModel",
      "state": {
       "children": [
        "IPY_MODEL_ba6540b88e9e483ab57b8dd16c25ca49",
        "IPY_MODEL_475a8daf3a8240c09c31e81889e0b25e"
       ],
       "layout": "IPY_MODEL_c6f5e6732ad44628ba1148cb9ebd70cf"
      }
     },
     "1924fb1cda9b4a418cc520cc604b4aeb": {
      "model_module": "@jupyter-widgets/controls",
      "model_module_version": "1.1.0",
      "model_name": "ButtonStyleModel",
      "state": {}
     },
     "19334b76b10a45e6b06c3de0f9649173": {
      "model_module": "@jupyter-widgets/controls",
      "model_module_version": "1.1.0",
      "model_name": "ButtonStyleModel",
      "state": {}
     },
     "1971d09e9e8c47b49eca33ebd09ae2b2": {
      "model_module": "@jupyter-widgets/controls",
      "model_module_version": "1.1.0",
      "model_name": "ButtonStyleModel",
      "state": {}
     },
     "19ade981e73d4df4a4fe7f652bc46798": {
      "model_module": "@jupyter-widgets/controls",
      "model_module_version": "1.1.0",
      "model_name": "ButtonStyleModel",
      "state": {}
     },
     "19b79c5e98d1434b96e67629811579a0": {
      "model_module": "@jupyter-widgets/controls",
      "model_module_version": "1.1.0",
      "model_name": "BoxModel",
      "state": {
       "children": [
        "IPY_MODEL_9f5a077f26c94944b59bdc93d8c74e52",
        "IPY_MODEL_1c10c53f182d4a7a85c19c62fd254e3e",
        "IPY_MODEL_12cf691292234a89816fb1d04414cb22"
       ],
       "layout": "IPY_MODEL_2588130a1b7946438fbe65b36c607f33"
      }
     },
     "19ba2c5f3b4a45579ec791b888f3d879": {
      "model_module": "@jupyter-widgets/controls",
      "model_module_version": "1.1.0",
      "model_name": "ButtonStyleModel",
      "state": {}
     },
     "19de3b77b270454b92aa63d599f3a1e7": {
      "model_module": "@jupyter-widgets/controls",
      "model_module_version": "1.1.0",
      "model_name": "ButtonModel",
      "state": {
       "button_style": "warning",
       "description": "18",
       "layout": "IPY_MODEL_6abcd37e41034b2ca8a2c4c4ba0dca11",
       "style": "IPY_MODEL_8dc93ceb89264f35b33b5d582f764779"
      }
     },
     "19fbf8f382da4467bed04f55c4d60fbb": {
      "model_module": "@jupyter-widgets/controls",
      "model_module_version": "1.1.0",
      "model_name": "ButtonModel",
      "state": {
       "button_style": "danger",
       "description": "weight=2, _0%",
       "layout": "IPY_MODEL_941a58206f9c421884302765a9afbbe1",
       "style": "IPY_MODEL_c0f27d70170a43008813b2f2f6a14b80"
      }
     },
     "19fcb2d97aae4cea80e7351c09daebfb": {
      "model_module": "@jupyter-widgets/controls",
      "model_module_version": "1.1.0",
      "model_name": "ButtonStyleModel",
      "state": {}
     },
     "19fdca28ed454afa9fa2d0503f64d67f": {
      "model_module": "@jupyter-widgets/base",
      "model_module_version": "1.0.0",
      "model_name": "LayoutModel",
      "state": {
       "flex": "1 1 auto",
       "width": "auto"
      }
     },
     "1a050df662ab46dcb80ee4bce45c60e4": {
      "model_module": "@jupyter-widgets/controls",
      "model_module_version": "1.1.0",
      "model_name": "SliderStyleModel",
      "state": {
       "description_width": ""
      }
     },
     "1a0f09c472b345cb9e9ee3d54a664a80": {
      "model_module": "@jupyter-widgets/controls",
      "model_module_version": "1.1.0",
      "model_name": "ButtonModel",
      "state": {
       "button_style": "warning",
       "description": "38",
       "layout": "IPY_MODEL_6abcd37e41034b2ca8a2c4c4ba0dca11",
       "style": "IPY_MODEL_a91f61bdf18147fca4a04c3d6d7c4bb2"
      }
     },
     "1a23f155631a4393b5cf51028b267023": {
      "model_module": "@jupyter-widgets/controls",
      "model_module_version": "1.1.0",
      "model_name": "ButtonModel",
      "state": {
       "button_style": "warning",
       "description": "25",
       "layout": "IPY_MODEL_86c93170059349499a5f76156cbd8cdf",
       "style": "IPY_MODEL_e97288a6d58c4c96999ac775891f8048"
      }
     },
     "1a2fa37fb9f84ec29ee6c4def42b834d": {
      "model_module": "@jupyter-widgets/base",
      "model_module_version": "1.0.0",
      "model_name": "LayoutModel",
      "state": {}
     },
     "1a3dfc4394804b5ab32d6b78a31ac55a": {
      "model_module": "@jupyter-widgets/controls",
      "model_module_version": "1.1.0",
      "model_name": "ButtonModel",
      "state": {
       "button_style": "warning",
       "description": "13",
       "layout": "IPY_MODEL_2609a17cced145ad91b86d4ddfbd3bfd",
       "style": "IPY_MODEL_9ba9dfbd5aae458ea82ee7c153adb2ba"
      }
     },
     "1a7c178dfb5842ae8211b2aa41f695e9": {
      "model_module": "@jupyter-widgets/controls",
      "model_module_version": "1.1.0",
      "model_name": "ButtonStyleModel",
      "state": {}
     },
     "1a98264b752542fba80bbb40765677b4": {
      "model_module": "@jupyter-widgets/controls",
      "model_module_version": "1.1.0",
      "model_name": "ButtonModel",
      "state": {
       "button_style": "warning",
       "description": "4",
       "layout": "IPY_MODEL_9886a36bb356420e9e4d3c7cdd66e238",
       "style": "IPY_MODEL_e83c0240ab0d4332aa9fd3f58c147f48"
      }
     },
     "1aed087cd73242ab94ad12d4a0181eab": {
      "model_module": "@jupyter-widgets/controls",
      "model_module_version": "1.1.0",
      "model_name": "ButtonStyleModel",
      "state": {}
     },
     "1afcb6492fcb4b34a95a0df47a27548c": {
      "model_module": "@jupyter-widgets/controls",
      "model_module_version": "1.1.0",
      "model_name": "ButtonModel",
      "state": {
       "button_style": "warning",
       "description": "6",
       "layout": "IPY_MODEL_9886a36bb356420e9e4d3c7cdd66e238",
       "style": "IPY_MODEL_77f74de48ee4484f9d0eb94b17311ed3"
      }
     },
     "1b130d44db134be6b54af23af58e371d": {
      "model_module": "@jupyter-widgets/controls",
      "model_module_version": "1.1.0",
      "model_name": "ButtonModel",
      "state": {
       "description": "weight=1, 0%",
       "layout": "IPY_MODEL_b81f61ee9c4543a681b7e932e05e39af",
       "style": "IPY_MODEL_33d458eccedc4f1896238e433386b819"
      }
     },
     "1b396afb36da4e948f08e529e2f3bde9": {
      "model_module": "@jupyter-widgets/controls",
      "model_module_version": "1.1.0",
      "model_name": "ButtonModel",
      "state": {
       "button_style": "warning",
       "description": "14",
       "layout": "IPY_MODEL_5a006e2933db480cbe6187ccadf63fd7",
       "style": "IPY_MODEL_a15e0c9045454b1885a70542d54a942d"
      }
     },
     "1b5b88418a7543248fcaeb80778ea171": {
      "model_module": "@jupyter-widgets/base",
      "model_module_version": "1.0.0",
      "model_name": "LayoutModel",
      "state": {}
     },
     "1b709dbd7a8f49458a95d3ac26db914b": {
      "model_module": "@jupyter-widgets/controls",
      "model_module_version": "1.1.0",
      "model_name": "ButtonModel",
      "state": {
       "button_style": "warning",
       "description": "20",
       "layout": "IPY_MODEL_5a006e2933db480cbe6187ccadf63fd7",
       "style": "IPY_MODEL_efe860b44bca4434bf235d9d75a17073"
      }
     },
     "1b969a5a33434407ac600334c65b44bd": {
      "model_module": "@jupyter-widgets/controls",
      "model_module_version": "1.1.0",
      "model_name": "ButtonStyleModel",
      "state": {}
     },
     "1bb83c75431c46f3950ca4e9986ac3d8": {
      "model_module": "@jupyter-widgets/controls",
      "model_module_version": "1.1.0",
      "model_name": "ButtonModel",
      "state": {
       "button_style": "warning",
       "description": "23",
       "layout": "IPY_MODEL_f97c294201b54222ba61666297c61c75",
       "style": "IPY_MODEL_5f90bda6c5f04507a3672ec6cfa7d4bb"
      }
     },
     "1bde4c27018d4aeaae155d981299f4ec": {
      "model_module": "@jupyter-widgets/controls",
      "model_module_version": "1.1.0",
      "model_name": "ButtonStyleModel",
      "state": {}
     },
     "1be6e65707b04614b03f7e6b78dcf8e8": {
      "model_module": "@jupyter-widgets/controls",
      "model_module_version": "1.1.0",
      "model_name": "ButtonModel",
      "state": {
       "button_style": "warning",
       "description": "16",
       "layout": "IPY_MODEL_5a006e2933db480cbe6187ccadf63fd7",
       "style": "IPY_MODEL_4c5cc25b262f439492819226ee55c024"
      }
     },
     "1c10c53f182d4a7a85c19c62fd254e3e": {
      "model_module": "@jupyter-widgets/controls",
      "model_module_version": "1.1.0",
      "model_name": "ButtonModel",
      "state": {
       "description": "weight=2",
       "layout": "IPY_MODEL_f04f5d455c6844f9b072aefe3ed37b36",
       "style": "IPY_MODEL_b650d17bc2364f1c9c4d413903c2ca19"
      }
     },
     "1c26b8c1235a4a8ab8423ce740f001e6": {
      "model_module": "@jupyter-widgets/controls",
      "model_module_version": "1.1.0",
      "model_name": "ButtonModel",
      "state": {
       "button_style": "warning",
       "description": "30",
       "layout": "IPY_MODEL_128139c1d2f94adbaaea71294ef22ff3",
       "style": "IPY_MODEL_1d70f65b78144a1ab8a32b4a1e85dc87"
      }
     },
     "1c43cde0a29346018b4f47d9e32fb07e": {
      "model_module": "@jupyter-widgets/controls",
      "model_module_version": "1.1.0",
      "model_name": "ButtonStyleModel",
      "state": {}
     },
     "1c5df0c07fbe428b85b58a3a4efdf0b9": {
      "model_module": "@jupyter-widgets/controls",
      "model_module_version": "1.1.0",
      "model_name": "BoxModel",
      "state": {
       "children": [
        "IPY_MODEL_f071494750be42b7b7dc75f6eeaa72f6",
        "IPY_MODEL_16de833c0e1843faa3abad1c616ee49f",
        "IPY_MODEL_481da89c911c457f85a5847dd15274c3",
        "IPY_MODEL_3c3a55c9097345fd96ecde3e68043df6",
        "IPY_MODEL_a509fd8e72dc4299a5f35b9227fae4d6",
        "IPY_MODEL_73b5cd5f6279497892bb83d6006d95ac",
        "IPY_MODEL_cb3d6bf5a46041cd84fe51cbb9947787",
        "IPY_MODEL_bb6fcb66c0314bfa9ddf3aad7658001b",
        "IPY_MODEL_3b48bd1fcb1d44999f7ccba7624969da",
        "IPY_MODEL_ad748f65c3c646129f5dd07d7bbe126b",
        "IPY_MODEL_36140e1f606e49b1b01afeba2833155b",
        "IPY_MODEL_b423824ab8df4fb6b121234529577483",
        "IPY_MODEL_8956f310629a4e358bd4d8051393b462",
        "IPY_MODEL_160aa8f26f8b4eba9769d29fdae80e7e",
        "IPY_MODEL_b8ef56f500494ebf871ba31a909b6853",
        "IPY_MODEL_528e9be637f049099c6da975f252cd88",
        "IPY_MODEL_acd69a50b50640aaa6917682cb968557",
        "IPY_MODEL_3026028c196b46afa00f731d7d65183b",
        "IPY_MODEL_10468e8427064bd98f6906eeb5b13a70",
        "IPY_MODEL_b5e86e4782ff45e4b99be1d71a8db2d5",
        "IPY_MODEL_5c92899b30b5461a8d283509e6d0c145",
        "IPY_MODEL_aacfcc646db54cc0a0e2af90816bc5e5",
        "IPY_MODEL_7a13c77314a340e2a676f452a7dc5d87",
        "IPY_MODEL_4a4ee071496e48feaa201f8217297585",
        "IPY_MODEL_9e7c05c66ec8401183a228c70f200655",
        "IPY_MODEL_f9f87e72a8044a3da15179d04acc2b67",
        "IPY_MODEL_33ed596f249040a9b3c31e047e92b22f",
        "IPY_MODEL_b9f09ff8fc2346febd1a2b601cbdfbf0",
        "IPY_MODEL_b621423f7aa840fbbe083b264b449a80",
        "IPY_MODEL_9753214fcf5c42348541b3ceb691f379",
        "IPY_MODEL_a5deb0050cd143c8b3201a32782772b7",
        "IPY_MODEL_f3302e6901de410d94f027e1f1807784",
        "IPY_MODEL_74250857e95043208f76c028d2f3d961",
        "IPY_MODEL_c1db9f28e73642478f3ce6cb43e86182",
        "IPY_MODEL_7045f0292ca9474bbe9e64880f543f6e",
        "IPY_MODEL_5a64baa7357a48b7a1d6e169ddfe2056",
        "IPY_MODEL_10ef5ac051d646f8aba4b47dac8de2bf",
        "IPY_MODEL_b24af3a904c841d4927818ee34f97ff5",
        "IPY_MODEL_fc579bc2ba3049b2b4ca03e66c1d5069",
        "IPY_MODEL_2b1aaf2501624c02b390f15a7820eba2"
       ],
       "layout": "IPY_MODEL_2e664786360241749908a447afc4106b"
      }
     },
     "1c8a39cfc2b14f30b20e95054ca040c8": {
      "model_module": "@jupyter-widgets/controls",
      "model_module_version": "1.1.0",
      "model_name": "ButtonModel",
      "state": {
       "button_style": "danger",
       "description": "horse",
       "layout": "IPY_MODEL_08a354fd401d4b17bccc675806c9a48b",
       "style": "IPY_MODEL_6b9b713620da4bb78b618a84e5aa4611"
      }
     },
     "1c95e82cedfd4b74b386770c23fd55ed": {
      "model_module": "@jupyter-widgets/controls",
      "model_module_version": "1.1.0",
      "model_name": "ButtonModel",
      "state": {
       "button_style": "warning",
       "description": "8",
       "layout": "IPY_MODEL_128139c1d2f94adbaaea71294ef22ff3",
       "style": "IPY_MODEL_c3e20c9dcb38482cbf206bde7ab2bcef"
      }
     },
     "1cb3f4a2b98043daac041cb5298d0b5f": {
      "model_module": "@jupyter-widgets/controls",
      "model_module_version": "1.1.0",
      "model_name": "ButtonStyleModel",
      "state": {}
     },
     "1cd53ac0d7054fef99bed1e691b86028": {
      "model_module": "@jupyter-widgets/controls",
      "model_module_version": "1.1.0",
      "model_name": "ButtonStyleModel",
      "state": {}
     },
     "1cd5e15c30d147c8a6c0f2fc22c51a67": {
      "model_module": "@jupyter-widgets/base",
      "model_module_version": "1.0.0",
      "model_name": "LayoutModel",
      "state": {}
     },
     "1cdf437ba4754cdf95d60936efa3d278": {
      "model_module": "@jupyter-widgets/base",
      "model_module_version": "1.0.0",
      "model_name": "LayoutModel",
      "state": {
       "border": "3px solid black",
       "display": "flex",
       "flex_flow": "column",
       "height": "",
       "overflow_x": "scroll",
       "width": "500px"
      }
     },
     "1d10072127cb4a32968374fdb7bd2479": {
      "model_module": "@jupyter-widgets/base",
      "model_module_version": "1.0.0",
      "model_name": "LayoutModel",
      "state": {
       "height": "100px",
       "min_width": "40px"
      }
     },
     "1d623c3c991a4ca29386030ebd49b23a": {
      "model_module": "@jupyter-widgets/controls",
      "model_module_version": "1.1.0",
      "model_name": "IntSliderModel",
      "state": {
       "description": "\\(\\int_0^t f\\)",
       "layout": "IPY_MODEL_7124c76bb4aa4441b3d187dfc0b8b423",
       "style": "IPY_MODEL_ca7985d3abca46adb4fef796e2fe7220"
      }
     },
     "1d6e57e313d44639924e80d217b0720a": {
      "model_module": "@jupyter-widgets/controls",
      "model_module_version": "1.1.0",
      "model_name": "BoxModel",
      "state": {
       "children": [
        "IPY_MODEL_2d5225dc17c543ad9e17b87433e74a16",
        "IPY_MODEL_7f06b7bb19cb4bf294a07322d180ada7",
        "IPY_MODEL_73d72b81e0774a0399a11e73c7e7d10c"
       ],
       "layout": "IPY_MODEL_f3a2ed86978d4a31820f84434045766d"
      }
     },
     "1d6fa1c5a74745f1ad5f176b5e3c984c": {
      "model_module": "@jupyter-widgets/controls",
      "model_module_version": "1.1.0",
      "model_name": "DescriptionStyleModel",
      "state": {
       "description_width": ""
      }
     },
     "1d70f65b78144a1ab8a32b4a1e85dc87": {
      "model_module": "@jupyter-widgets/controls",
      "model_module_version": "1.1.0",
      "model_name": "ButtonStyleModel",
      "state": {}
     },
     "1d7c241276d34448afdcdfc54035f9b3": {
      "model_module": "@jupyter-widgets/controls",
      "model_module_version": "1.1.0",
      "model_name": "ButtonModel",
      "state": {
       "button_style": "warning",
       "description": "32",
       "layout": "IPY_MODEL_5f4383735711415596954c7bc1a5bfd1",
       "style": "IPY_MODEL_e3fd5d0847034c2d928a74b8fd574163"
      }
     },
     "1d89f5dde602459e9f6d93a616a51a20": {
      "model_module": "@jupyter-widgets/controls",
      "model_module_version": "1.1.0",
      "model_name": "FloatTextModel",
      "state": {
       "layout": "IPY_MODEL_5020983ce43c44c3897411eb70214563",
       "step": null,
       "style": "IPY_MODEL_934737825999405bb1be14cc5c289e42"
      }
     },
     "1dcef2e5711045dab665e62c8d8266ba": {
      "model_module": "@jupyter-widgets/base",
      "model_module_version": "1.0.0",
      "model_name": "LayoutModel",
      "state": {
       "width": "auto"
      }
     },
     "1def7d5db4af43f79aa433808616d3c6": {
      "model_module": "@jupyter-widgets/controls",
      "model_module_version": "1.1.0",
      "model_name": "ButtonModel",
      "state": {
       "button_style": "warning",
       "description": "35",
       "layout": "IPY_MODEL_5a006e2933db480cbe6187ccadf63fd7",
       "style": "IPY_MODEL_20610c40fbbb4f63a212a3d61c422f92"
      }
     },
     "1dfe42c26a254aa081fe43a573b76836": {
      "model_module": "@jupyter-widgets/controls",
      "model_module_version": "1.1.0",
      "model_name": "BoxModel",
      "state": {
       "children": [
        "IPY_MODEL_5c376c0a70dc4f3ab9f4a48214d38ab3",
        "IPY_MODEL_bc7d0c0b023045b3a501e2a6839ca1c1",
        "IPY_MODEL_4cf51c472f70459895f751c145ea37cc"
       ],
       "layout": "IPY_MODEL_4d264e0c05564486a9915059989c422e"
      }
     },
     "1e07aa75325e440e8d55991033e91347": {
      "model_module": "@jupyter-widgets/base",
      "model_module_version": "1.0.0",
      "model_name": "LayoutModel",
      "state": {}
     },
     "1e1fd102735342b8b1b0c3ce484e3628": {
      "model_module": "@jupyter-widgets/base",
      "model_module_version": "1.0.0",
      "model_name": "LayoutModel",
      "state": {
       "width": "auto"
      }
     },
     "1e4419a3c84d42a5ae453449254fc602": {
      "model_module": "@jupyter-widgets/controls",
      "model_module_version": "1.1.0",
      "model_name": "ButtonModel",
      "state": {
       "button_style": "warning",
       "description": "34",
       "layout": "IPY_MODEL_1d10072127cb4a32968374fdb7bd2479",
       "style": "IPY_MODEL_0058c8267ecf4a89a325682383ebef28"
      }
     },
     "1e48c20510704114b022b21faae1eac2": {
      "model_module": "@jupyter-widgets/controls",
      "model_module_version": "1.1.0",
      "model_name": "HBoxModel",
      "state": {
       "children": [
        "IPY_MODEL_4c278d33d7a24eedbf5aca08a2b62025",
        "IPY_MODEL_4996f26142834a378b7ed7cc3a941f05"
       ],
       "layout": "IPY_MODEL_8bb4735d5bfa4808bc74f910f32e0e6b"
      }
     },
     "1e52e686861e4f16ae766cb22899da93": {
      "model_module": "@jupyter-widgets/controls",
      "model_module_version": "1.1.0",
      "model_name": "ButtonModel",
      "state": {
       "button_style": "warning",
       "description": "22",
       "layout": "IPY_MODEL_f97c294201b54222ba61666297c61c75",
       "style": "IPY_MODEL_780298d569d642c996389b1af281d8ef"
      }
     },
     "1e5d6b6fb3614ba0aef8bf2fc89591b0": {
      "model_module": "@jupyter-widgets/controls",
      "model_module_version": "1.1.0",
      "model_name": "ButtonModel",
      "state": {
       "button_style": "danger",
       "description": "weight=1, _0%",
       "layout": "IPY_MODEL_4a159827cd7141ada6369fd514456289",
       "style": "IPY_MODEL_28a03f94b91c42348a44103250a2d9d3"
      }
     },
     "1e703aa0e83b4709ae9e10273677a89e": {
      "model_module": "@jupyter-widgets/controls",
      "model_module_version": "1.1.0",
      "model_name": "ButtonStyleModel",
      "state": {}
     },
     "1eb707c6ac534b42b2e9628c442781b9": {
      "model_module": "@jupyter-widgets/controls",
      "model_module_version": "1.1.0",
      "model_name": "ButtonModel",
      "state": {
       "button_style": "warning",
       "description": "26",
       "layout": "IPY_MODEL_f97c294201b54222ba61666297c61c75",
       "style": "IPY_MODEL_0209493ae0ec4c58942112db8f622ee7"
      }
     },
     "1eccb214247845ea89cb994eeb0f7082": {
      "model_module": "@jupyter-widgets/controls",
      "model_module_version": "1.1.0",
      "model_name": "ButtonModel",
      "state": {
       "description": "weight=1",
       "layout": "IPY_MODEL_51ffd25947cf45d7bf0eca9951b399d0",
       "style": "IPY_MODEL_db6b11f921114cf68c65b99c3a216ad2"
      }
     },
     "1ee1b7f4ec694c12b440b16a4ff99dc8": {
      "model_module": "@jupyter-widgets/controls",
      "model_module_version": "1.1.0",
      "model_name": "ButtonStyleModel",
      "state": {}
     },
     "1eeb75f87431414a9e06d8a87c1aac4f": {
      "model_module": "@jupyter-widgets/base",
      "model_module_version": "1.0.0",
      "model_name": "LayoutModel",
      "state": {
       "flex": "2 1 0%",
       "width": "auto"
      }
     },
     "1efee5fd11c049fcbcc8fc314e50e82d": {
      "model_module": "@jupyter-widgets/controls",
      "model_module_version": "1.1.0",
      "model_name": "IntSliderModel",
      "state": {
       "description": "A too long description",
       "layout": "IPY_MODEL_f677c46122ed4c6e91a479299d2a922b",
       "style": "IPY_MODEL_23da4c86de7e44c88eddf2a84323dc32"
      }
     },
     "1f45a33f4e664b7bb19d5d47566140ae": {
      "model_module": "@jupyter-widgets/controls",
      "model_module_version": "1.1.0",
      "model_name": "ButtonModel",
      "state": {
       "description": "staple",
       "layout": "IPY_MODEL_88551bc0450742adba64836c39018ac7",
       "style": "IPY_MODEL_268b5692ab124aeea72d7ddecd481ea3"
      }
     },
     "2016c0ec48904458bf2693bde22e35fb": {
      "model_module": "@jupyter-widgets/controls",
      "model_module_version": "1.1.0",
      "model_name": "HBoxModel",
      "state": {
       "children": [
        "IPY_MODEL_4142d55aad464e39822b7f70d9d49b39",
        "IPY_MODEL_6e1d632d7347464090b7473164d6ed84"
       ],
       "layout": "IPY_MODEL_6d54d28ad21a4cf0864a0845b5c61582"
      }
     },
     "203f708ff78044858d15485a827a6685": {
      "model_module": "@jupyter-widgets/controls",
      "model_module_version": "1.1.0",
      "model_name": "ButtonModel",
      "state": {
       "button_style": "warning",
       "description": "11",
       "layout": "IPY_MODEL_1d10072127cb4a32968374fdb7bd2479",
       "style": "IPY_MODEL_5b6b36acedd74b2cb41f0b025b887202"
      }
     },
     "204971ea3b024bc196cc095a06b8c309": {
      "model_module": "@jupyter-widgets/controls",
      "model_module_version": "1.1.0",
      "model_name": "ButtonStyleModel",
      "state": {}
     },
     "20610c40fbbb4f63a212a3d61c422f92": {
      "model_module": "@jupyter-widgets/controls",
      "model_module_version": "1.1.0",
      "model_name": "ButtonStyleModel",
      "state": {}
     },
     "20621a2aa9fc4d9cac9aa71d3186b421": {
      "model_module": "@jupyter-widgets/controls",
      "model_module_version": "1.1.0",
      "model_name": "ButtonModel",
      "state": {
       "button_style": "warning",
       "description": "4",
       "layout": "IPY_MODEL_f97c294201b54222ba61666297c61c75",
       "style": "IPY_MODEL_5c6e9a0177f049ec8ac81a1aef584176"
      }
     },
     "20650135013f4510846280487e3246aa": {
      "model_module": "@jupyter-widgets/controls",
      "model_module_version": "1.1.0",
      "model_name": "ButtonModel",
      "state": {
       "button_style": "warning",
       "description": "0",
       "layout": "IPY_MODEL_6abcd37e41034b2ca8a2c4c4ba0dca11",
       "style": "IPY_MODEL_0967ad7850184df882fc72b32d8266c2"
      }
     },
     "2070261a1e8a4ce08d54e537d879a4c0": {
      "model_module": "@jupyter-widgets/controls",
      "model_module_version": "1.1.0",
      "model_name": "ButtonStyleModel",
      "state": {}
     },
     "207265003f204b288dbc782751904d1c": {
      "model_module": "@jupyter-widgets/controls",
      "model_module_version": "1.1.0",
      "model_name": "ButtonStyleModel",
      "state": {}
     },
     "20b92a5e570f4f64b43b9ed7bf18481b": {
      "model_module": "@jupyter-widgets/controls",
      "model_module_version": "1.1.0",
      "model_name": "ButtonStyleModel",
      "state": {}
     },
     "20d8090278fb4dffae97f337ea4db53a": {
      "model_module": "@jupyter-widgets/controls",
      "model_module_version": "1.1.0",
      "model_name": "ButtonStyleModel",
      "state": {}
     },
     "20df72f6b6da4c789057cfc4911a3909": {
      "model_module": "@jupyter-widgets/controls",
      "model_module_version": "1.1.0",
      "model_name": "ButtonModel",
      "state": {
       "button_style": "warning",
       "description": "37",
       "layout": "IPY_MODEL_5f4383735711415596954c7bc1a5bfd1",
       "style": "IPY_MODEL_1e703aa0e83b4709ae9e10273677a89e"
      }
     },
     "20f53e539ffb4dc3aa928c9d955bcd8b": {
      "model_module": "@jupyter-widgets/base",
      "model_module_version": "1.0.0",
      "model_name": "LayoutModel",
      "state": {}
     },
     "210f498592364e1db9eec5088f0c0fab": {
      "model_module": "@jupyter-widgets/controls",
      "model_module_version": "1.1.0",
      "model_name": "BoxModel",
      "state": {
       "children": [
        "IPY_MODEL_653b5747a4a242e997bca153a68f1d0c",
        "IPY_MODEL_d8bd1ca0a0184481a45310efefcf5912"
       ],
       "layout": "IPY_MODEL_b99b68da767946949d1d26a178669bd6"
      }
     },
     "21858e4c05234755a6b8a4b83910826a": {
      "model_module": "@jupyter-widgets/base",
      "model_module_version": "1.0.0",
      "model_name": "LayoutModel",
      "state": {
       "flex": "1 1 0%",
       "width": "auto"
      }
     },
     "21a197cfc9364644be0e9e907a2be236": {
      "model_module": "@jupyter-widgets/controls",
      "model_module_version": "1.1.0",
      "model_name": "BoxModel",
      "state": {
       "children": [
        "IPY_MODEL_ed853953f7424c239a563eb0ca3e0ea7",
        "IPY_MODEL_fbf0a7d5bd25417a8fba32fd27c74585",
        "IPY_MODEL_8c9a967c2bb94fdab1922e92bb6a188f"
       ],
       "layout": "IPY_MODEL_649c5d5c10184c0096163602f2cca6be"
      }
     },
     "21ac207061194f0289ab9b20b59aa04e": {
      "model_module": "@jupyter-widgets/controls",
      "model_module_version": "1.1.0",
      "model_name": "ButtonStyleModel",
      "state": {}
     },
     "21c1e240e90142c4ad364b1f0d3b7fb7": {
      "model_module": "@jupyter-widgets/controls",
      "model_module_version": "1.1.0",
      "model_name": "SliderStyleModel",
      "state": {
       "description_width": "",
       "handle_color": "lightblue"
      }
     },
     "21d73ff353db455b8d703862405d5493": {
      "model_module": "@jupyter-widgets/controls",
      "model_module_version": "1.1.0",
      "model_name": "DescriptionStyleModel",
      "state": {
       "description_width": ""
      }
     },
     "21dec92cc8554e4fbcf4b28d8987a63c": {
      "model_module": "@jupyter-widgets/controls",
      "model_module_version": "1.1.0",
      "model_name": "FloatTextModel",
      "state": {
       "layout": "IPY_MODEL_cd71a16913da448ea0938da61a6ada62",
       "step": null,
       "style": "IPY_MODEL_900a4bf2aadd4cc2bf4ff909c9ce3075"
      }
     },
     "21fe4ddb707b4d89a5c0cb187b7db377": {
      "model_module": "@jupyter-widgets/controls",
      "model_module_version": "1.1.0",
      "model_name": "SliderStyleModel",
      "state": {
       "description_width": ""
      }
     },
     "22182b5f28f14c65a113df9a33fa81cc": {
      "model_module": "@jupyter-widgets/controls",
      "model_module_version": "1.1.0",
      "model_name": "SliderStyleModel",
      "state": {
       "description_width": ""
      }
     },
     "2225e13de06047a0a324ad4555fc0db5": {
      "model_module": "@jupyter-widgets/controls",
      "model_module_version": "1.1.0",
      "model_name": "ButtonStyleModel",
      "state": {}
     },
     "22341a7de1024b2d9c8dad1814b9f4fe": {
      "model_module": "@jupyter-widgets/base",
      "model_module_version": "1.0.0",
      "model_name": "LayoutModel",
      "state": {
       "align_items": "stretch",
       "display": "flex",
       "flex_flow": "row",
       "width": "70%"
      }
     },
     "2239ad9aba3b48a293cdecc022943219": {
      "model_module": "@jupyter-widgets/controls",
      "model_module_version": "1.1.0",
      "model_name": "ButtonStyleModel",
      "state": {}
     },
     "227ded38627c4b6083c960ad642093ab": {
      "model_module": "@jupyter-widgets/controls",
      "model_module_version": "1.1.0",
      "model_name": "ButtonModel",
      "state": {
       "button_style": "warning",
       "description": "3",
       "layout": "IPY_MODEL_1d10072127cb4a32968374fdb7bd2479",
       "style": "IPY_MODEL_cf27c196e29e4334a21600398761d311"
      }
     },
     "228bd2e5998f481da3d596a5b95e07fc": {
      "model_module": "@jupyter-widgets/controls",
      "model_module_version": "1.1.0",
      "model_name": "DescriptionStyleModel",
      "state": {
       "description_width": ""
      }
     },
     "22e20856938344cbbd3ee982cba05251": {
      "model_module": "@jupyter-widgets/controls",
      "model_module_version": "1.1.0",
      "model_name": "BoxModel",
      "state": {
       "children": [
        "IPY_MODEL_6bdc9ccb17d247889746df0830198ce0",
        "IPY_MODEL_fd37f2a79ede4cda8f19cc048e17c711",
        "IPY_MODEL_37d98d6b7b9243abb0a909c296ebe08a"
       ],
       "layout": "IPY_MODEL_22341a7de1024b2d9c8dad1814b9f4fe"
      }
     },
     "22e5e6cb686b43048db8652964db63f5": {
      "model_module": "@jupyter-widgets/controls",
      "model_module_version": "1.1.0",
      "model_name": "ButtonStyleModel",
      "state": {}
     },
     "230ceebee94e4b7cb88048043cd700fd": {
      "model_module": "@jupyter-widgets/controls",
      "model_module_version": "1.1.0",
      "model_name": "ButtonModel",
      "state": {
       "button_style": "warning",
       "description": "19",
       "layout": "IPY_MODEL_128139c1d2f94adbaaea71294ef22ff3",
       "style": "IPY_MODEL_79a2c6174d4b476da4736d7ee4a50d2d"
      }
     },
     "23190f38bd7a43838e57ea77188648f9": {
      "model_module": "@jupyter-widgets/controls",
      "model_module_version": "1.1.0",
      "model_name": "VBoxModel",
      "state": {
       "children": [
        "IPY_MODEL_ff0ad93f610c4084bf6b9e387cedad6a",
        "IPY_MODEL_ff7638ffa0d14cc090ad64c092d13d28"
       ],
       "layout": "IPY_MODEL_75b0851868744b58be68f86ad837f3a2"
      }
     },
     "23193b744f9a4040b31fa44e668d58f3": {
      "model_module": "@jupyter-widgets/controls",
      "model_module_version": "1.1.0",
      "model_name": "ButtonStyleModel",
      "state": {}
     },
     "2331d8e0d80446cab4e459de1753d725": {
      "model_module": "@jupyter-widgets/controls",
      "model_module_version": "1.1.0",
      "model_name": "ButtonModel",
      "state": {
       "description": "weight=1",
       "layout": "IPY_MODEL_63d39d5455ab456aa4a80c035525ae80",
       "style": "IPY_MODEL_d5e2915cc3244ff7907814687d04a2dc"
      }
     },
     "235c0626c2904c60b0e4ea9ab153c392": {
      "model_module": "@jupyter-widgets/controls",
      "model_module_version": "1.1.0",
      "model_name": "ButtonModel",
      "state": {
       "button_style": "warning",
       "description": "17",
       "layout": "IPY_MODEL_2609a17cced145ad91b86d4ddfbd3bfd",
       "style": "IPY_MODEL_32b862ec82374bf392d5381fc8fdb813"
      }
     },
     "235e16b76e984ee98cd29a54471a7d81": {
      "model_module": "@jupyter-widgets/controls",
      "model_module_version": "1.1.0",
      "model_name": "ButtonStyleModel",
      "state": {}
     },
     "23a21d0636b34615a9145ed1ab89656e": {
      "model_module": "@jupyter-widgets/base",
      "model_module_version": "1.0.0",
      "model_name": "LayoutModel",
      "state": {
       "flex": "1 1 auto",
       "width": "auto"
      }
     },
     "23b981f649954b6c8cafed26a0b55f27": {
      "model_module": "@jupyter-widgets/base",
      "model_module_version": "1.0.0",
      "model_name": "LayoutModel",
      "state": {}
     },
     "23be2ce0410240c1a0bf267cb5140c98": {
      "model_module": "@jupyter-widgets/controls",
      "model_module_version": "1.1.0",
      "model_name": "ButtonStyleModel",
      "state": {}
     },
     "23c0ba5c697d4afc97444c2a586f8004": {
      "model_module": "@jupyter-widgets/controls",
      "model_module_version": "1.1.0",
      "model_name": "ButtonStyleModel",
      "state": {}
     },
     "23da4c86de7e44c88eddf2a84323dc32": {
      "model_module": "@jupyter-widgets/controls",
      "model_module_version": "1.1.0",
      "model_name": "SliderStyleModel",
      "state": {
       "description_width": "initial"
      }
     },
     "23e5d54bbee9470fb676db64f06b05ee": {
      "model_module": "@jupyter-widgets/controls",
      "model_module_version": "1.1.0",
      "model_name": "ButtonStyleModel",
      "state": {}
     },
     "23f3fab000cb480d969a220df078970b": {
      "model_module": "@jupyter-widgets/base",
      "model_module_version": "1.0.0",
      "model_name": "LayoutModel",
      "state": {}
     },
     "23f96ef0d33e4def83c6e8aac5810854": {
      "model_module": "@jupyter-widgets/controls",
      "model_module_version": "1.1.0",
      "model_name": "LabelModel",
      "state": {
       "layout": "IPY_MODEL_d73b4caeebd04f0f93049cc451aad20f",
       "style": "IPY_MODEL_54ea8f052a9b46b3b6a4e87455cc953e",
       "value": "Information"
      }
     },
     "23feb2f947c74a9e9d186f99ef9ff2ea": {
      "model_module": "@jupyter-widgets/controls",
      "model_module_version": "1.1.0",
      "model_name": "ButtonStyleModel",
      "state": {}
     },
     "23febfee2a93455b90f6740751230632": {
      "model_module": "@jupyter-widgets/base",
      "model_module_version": "1.0.0",
      "model_name": "LayoutModel",
      "state": {}
     },
     "241523cf9ace4fde8bc3cbf1082e9cc2": {
      "model_module": "@jupyter-widgets/controls",
      "model_module_version": "1.1.0",
      "model_name": "ButtonModel",
      "state": {
       "button_style": "warning",
       "description": "8",
       "layout": "IPY_MODEL_1d10072127cb4a32968374fdb7bd2479",
       "style": "IPY_MODEL_74d419661f344dceb341a9a42b7ed8a5"
      }
     },
     "241af4eaa4164ceaad4b70b8f433ad79": {
      "model_module": "@jupyter-widgets/controls",
      "model_module_version": "1.1.0",
      "model_name": "ButtonModel",
      "state": {
       "button_style": "warning",
       "description": "5",
       "layout": "IPY_MODEL_4f96c205ba6c46e196e16241cfe4cf24",
       "style": "IPY_MODEL_616601b79b4c43e5ae47df8c12fea41c"
      }
     },
     "2420dacfb33b40b9ab23d62933ae6a8d": {
      "model_module": "@jupyter-widgets/controls",
      "model_module_version": "1.1.0",
      "model_name": "HBoxModel",
      "state": {
       "children": [
        "IPY_MODEL_cf57c142eabc4d4da9889c9b8ace03b3",
        "IPY_MODEL_e5e0e37d2d5d401c858487478bf87531"
       ],
       "layout": "IPY_MODEL_9df9735194e3490bbfd3ef280f61b85a"
      }
     },
     "24546efd81c944db86ee1376e37b04b5": {
      "model_module": "@jupyter-widgets/controls",
      "model_module_version": "1.1.0",
      "model_name": "ButtonModel",
      "state": {
       "button_style": "warning",
       "description": "25",
       "layout": "IPY_MODEL_4f96c205ba6c46e196e16241cfe4cf24",
       "style": "IPY_MODEL_b1d01d73f0094f55987b1980303c60b0"
      }
     },
     "248f9963a33d487e82d64bd5a359e177": {
      "model_module": "@jupyter-widgets/base",
      "model_module_version": "1.0.0",
      "model_name": "LayoutModel",
      "state": {
       "flex": "1 1 auto",
       "width": "auto"
      }
     },
     "24b99335900a4bad80d0c98916b7eee6": {
      "model_module": "@jupyter-widgets/controls",
      "model_module_version": "1.1.0",
      "model_name": "DescriptionStyleModel",
      "state": {
       "description_width": ""
      }
     },
     "24c6f9ddb23b4cba8b0effc49cd157d0": {
      "model_module": "@jupyter-widgets/controls",
      "model_module_version": "1.1.0",
      "model_name": "ButtonModel",
      "state": {
       "button_style": "danger",
       "description": "horse",
       "layout": "IPY_MODEL_a7a4802e7a1c4935acd9be3da0412e41",
       "style": "IPY_MODEL_50690bc2a1d144fca277819682bb3690"
      }
     },
     "24d9da0fe56d474c82a4a659a00b5668": {
      "model_module": "@jupyter-widgets/controls",
      "model_module_version": "1.1.0",
      "model_name": "ButtonModel",
      "state": {
       "button_style": "warning",
       "description": "38",
       "layout": "IPY_MODEL_5a006e2933db480cbe6187ccadf63fd7",
       "style": "IPY_MODEL_262f8f078c9949239e8fcf3f86486ec6"
      }
     },
     "24f2c616a5e24fa7984d6db3baf80cdc": {
      "model_module": "@jupyter-widgets/controls",
      "model_module_version": "1.1.0",
      "model_name": "ButtonModel",
      "state": {
       "button_style": "warning",
       "description": "4",
       "layout": "IPY_MODEL_5f4383735711415596954c7bc1a5bfd1",
       "style": "IPY_MODEL_6a08969f381242e19f86d1177bdfff7b"
      }
     },
     "25161ee0ce2a4914ae73b07d90852687": {
      "model_module": "@jupyter-widgets/controls",
      "model_module_version": "1.1.0",
      "model_name": "ButtonModel",
      "state": {
       "button_style": "warning",
       "description": "39",
       "layout": "IPY_MODEL_f97c294201b54222ba61666297c61c75",
       "style": "IPY_MODEL_6e1b61bf4d1f4ded9e99c1d9a847eef8"
      }
     },
     "254c35ab985e4f79bc0283589ef4061b": {
      "model_module": "@jupyter-widgets/controls",
      "model_module_version": "1.1.0",
      "model_name": "ButtonStyleModel",
      "state": {}
     },
     "2552af58264b4083b1d49c2d5ed77e71": {
      "model_module": "@jupyter-widgets/controls",
      "model_module_version": "1.1.0",
      "model_name": "LabelModel",
      "state": {
       "layout": "IPY_MODEL_02930fe9e04547928e81c052bb2d3b90",
       "style": "IPY_MODEL_ec40cd611ffd437697bbc345df0a504c",
       "value": "Information"
      }
     },
     "2588130a1b7946438fbe65b36c607f33": {
      "model_module": "@jupyter-widgets/base",
      "model_module_version": "1.0.0",
      "model_name": "LayoutModel",
      "state": {
       "align_items": "stretch",
       "border": "solid",
       "display": "flex",
       "flex_flow": "row",
       "width": "50%"
      }
     },
     "25bf40ea708b457d9036c5f940ed051c": {
      "model_module": "@jupyter-widgets/controls",
      "model_module_version": "1.1.0",
      "model_name": "SliderStyleModel",
      "state": {
       "description_width": ""
      }
     },
     "25e13e76912f4ec3964f01cb849c0cfd": {
      "model_module": "@jupyter-widgets/controls",
      "model_module_version": "1.1.0",
      "model_name": "SliderStyleModel",
      "state": {
       "description_width": "",
       "handle_color": "lightblue"
      }
     },
     "25f8261fc3234ff091881f89fb2dc284": {
      "model_module": "@jupyter-widgets/controls",
      "model_module_version": "1.1.0",
      "model_name": "ButtonStyleModel",
      "state": {}
     },
     "2609a17cced145ad91b86d4ddfbd3bfd": {
      "model_module": "@jupyter-widgets/base",
      "model_module_version": "1.0.0",
      "model_name": "LayoutModel",
      "state": {
       "height": "100px",
       "min_width": "40px"
      }
     },
     "2612eafedf764a7bb812b79d675d1c92": {
      "model_module": "@jupyter-widgets/controls",
      "model_module_version": "1.1.0",
      "model_name": "VBoxModel",
      "state": {
       "children": [
        "IPY_MODEL_22e20856938344cbbd3ee982cba05251",
        "IPY_MODEL_d81789a0ffb74a3e9d777f9ef48c6aef"
       ],
       "layout": "IPY_MODEL_1a2fa37fb9f84ec29ee6c4def42b834d"
      }
     },
     "262e391002ae4f63aa1a80220e419d6d": {
      "model_module": "@jupyter-widgets/base",
      "model_module_version": "1.0.0",
      "model_name": "LayoutModel",
      "state": {
       "flex": "1 1 0%",
       "width": "auto"
      }
     },
     "262f8f078c9949239e8fcf3f86486ec6": {
      "model_module": "@jupyter-widgets/controls",
      "model_module_version": "1.1.0",
      "model_name": "ButtonStyleModel",
      "state": {}
     },
     "266efae4a6144a01a622001aad39c189": {
      "model_module": "@jupyter-widgets/controls",
      "model_module_version": "1.1.0",
      "model_name": "ButtonStyleModel",
      "state": {}
     },
     "267308d7e969409481d26712d5d2e06e": {
      "model_module": "@jupyter-widgets/controls",
      "model_module_version": "1.1.0",
      "model_name": "ButtonModel",
      "state": {
       "button_style": "warning",
       "description": "30",
       "layout": "IPY_MODEL_1d10072127cb4a32968374fdb7bd2479",
       "style": "IPY_MODEL_baccb346dd5b4b31ad4d58991fcc5eae"
      }
     },
     "26809c04c3aa4cd3954680cef6271da3": {
      "model_module": "@jupyter-widgets/controls",
      "model_module_version": "1.1.0",
      "model_name": "ButtonStyleModel",
      "state": {}
     },
     "2685b7574a6c4188ac61466919ead2b6": {
      "model_module": "@jupyter-widgets/controls",
      "model_module_version": "1.1.0",
      "model_name": "ButtonStyleModel",
      "state": {}
     },
     "268b5692ab124aeea72d7ddecd481ea3": {
      "model_module": "@jupyter-widgets/controls",
      "model_module_version": "1.1.0",
      "model_name": "ButtonStyleModel",
      "state": {}
     },
     "269eb0c267404fce918df871ba200d64": {
      "model_module": "@jupyter-widgets/base",
      "model_module_version": "1.0.0",
      "model_name": "LayoutModel",
      "state": {}
     },
     "26a1c05e4a9f4711a922e8297079868d": {
      "model_module": "@jupyter-widgets/base",
      "model_module_version": "1.0.0",
      "model_name": "LayoutModel",
      "state": {}
     },
     "26c228e8836d4c2ab4d38e845d84b06e": {
      "model_module": "@jupyter-widgets/controls",
      "model_module_version": "1.1.0",
      "model_name": "ButtonStyleModel",
      "state": {}
     },
     "26ceeb4d9f07438dab4d3c8e3a59e085": {
      "model_module": "@jupyter-widgets/controls",
      "model_module_version": "1.1.0",
      "model_name": "ButtonStyleModel",
      "state": {}
     },
     "26de14cf89fb4a058ebbd27357adcf0a": {
      "model_module": "@jupyter-widgets/base",
      "model_module_version": "1.0.0",
      "model_name": "LayoutModel",
      "state": {
       "align_items": "stretch",
       "border": "solid",
       "display": "flex",
       "flex_flow": "row",
       "width": "50%"
      }
     },
     "26f4ab9ee5574b049ab717ed90fb8b01": {
      "model_module": "@jupyter-widgets/controls",
      "model_module_version": "1.1.0",
      "model_name": "ButtonModel",
      "state": {
       "button_style": "warning",
       "description": "28",
       "layout": "IPY_MODEL_1d10072127cb4a32968374fdb7bd2479",
       "style": "IPY_MODEL_1cd53ac0d7054fef99bed1e691b86028"
      }
     },
     "27159d491c6a4705b36884e716c6676e": {
      "model_module": "@jupyter-widgets/controls",
      "model_module_version": "1.1.0",
      "model_name": "ButtonStyleModel",
      "state": {}
     },
     "272761f531b241b2a207cc11936e4717": {
      "model_module": "@jupyter-widgets/controls",
      "model_module_version": "1.1.0",
      "model_name": "VBoxModel",
      "state": {
       "children": [
        "IPY_MODEL_5d56f2a1a3ad4bf3ac74433ecc9dd8a9",
        "IPY_MODEL_3295d1c885694210b8ebfbc5bc09f236"
       ],
       "layout": "IPY_MODEL_084b2104c57c4473b375e1a9ae36c335"
      }
     },
     "274f532b51e543e78637abc1d4f13634": {
      "model_module": "@jupyter-widgets/controls",
      "model_module_version": "1.1.0",
      "model_name": "ButtonStyleModel",
      "state": {}
     },
     "2764bae2134b45f2990b0e105c0e641f": {
      "model_module": "@jupyter-widgets/controls",
      "model_module_version": "1.1.0",
      "model_name": "IntSliderModel",
      "state": {
       "description": "A too long description",
       "layout": "IPY_MODEL_7a43159cb1e54fbead61365f81b60df2",
       "style": "IPY_MODEL_9d1b3d687b2b46a2aab505e6fd7db57c"
      }
     },
     "27be3b11839548c28c1e6907f350d623": {
      "model_module": "@jupyter-widgets/controls",
      "model_module_version": "1.1.0",
      "model_name": "ButtonModel",
      "state": {
       "description": "weight=1, _0%",
       "layout": "IPY_MODEL_9bfb860e35fd46ee9ba56cdb5bc6ff28",
       "style": "IPY_MODEL_757affd0002d45249c568acfb835114a"
      }
     },
     "2801adc1bf7545059796e4dd99a09269": {
      "model_module": "@jupyter-widgets/controls",
      "model_module_version": "1.1.0",
      "model_name": "ButtonStyleModel",
      "state": {}
     },
     "280ef884ccd54a2f981e70d63e276f68": {
      "model_module": "@jupyter-widgets/controls",
      "model_module_version": "1.1.0",
      "model_name": "ButtonStyleModel",
      "state": {}
     },
     "2810a5256d0c4691ac5a9f578801e2f6": {
      "model_module": "@jupyter-widgets/base",
      "model_module_version": "1.0.0",
      "model_name": "LayoutModel",
      "state": {}
     },
     "283660f5d3cc48bdaf2b983b9a0347f7": {
      "model_module": "@jupyter-widgets/controls",
      "model_module_version": "1.1.0",
      "model_name": "SliderStyleModel",
      "state": {
       "description_width": ""
      }
     },
     "28644a21964441f4986bde27379ce02b": {
      "model_module": "@jupyter-widgets/base",
      "model_module_version": "1.0.0",
      "model_name": "LayoutModel",
      "state": {}
     },
     "287006c856694fb096d94ecf36da90a9": {
      "model_module": "@jupyter-widgets/controls",
      "model_module_version": "1.1.0",
      "model_name": "ButtonStyleModel",
      "state": {}
     },
     "28a03f94b91c42348a44103250a2d9d3": {
      "model_module": "@jupyter-widgets/controls",
      "model_module_version": "1.1.0",
      "model_name": "ButtonStyleModel",
      "state": {}
     },
     "28d175ed6d8841a29015139598b5f53d": {
      "model_module": "@jupyter-widgets/controls",
      "model_module_version": "1.1.0",
      "model_name": "SliderStyleModel",
      "state": {
       "description_width": ""
      }
     },
     "28ed73c3d23c4407bc044fcef7164ea1": {
      "model_module": "@jupyter-widgets/controls",
      "model_module_version": "1.1.0",
      "model_name": "ButtonModel",
      "state": {
       "description": "weight=1",
       "layout": "IPY_MODEL_a0e0e383ae7045be9ae71dc2066a64b1",
       "style": "IPY_MODEL_21ac207061194f0289ab9b20b59aa04e"
      }
     },
     "29152ab211d04971b2380c6423a9b96d": {
      "model_module": "@jupyter-widgets/controls",
      "model_module_version": "1.1.0",
      "model_name": "ButtonModel",
      "state": {
       "button_style": "warning",
       "description": "18",
       "layout": "IPY_MODEL_1d10072127cb4a32968374fdb7bd2479",
       "style": "IPY_MODEL_52babfc1e0544eebb82f7e3e1a31aade"
      }
     },
     "29285e29a8d447bda2fa8e83866c16bd": {
      "model_module": "@jupyter-widgets/controls",
      "model_module_version": "1.1.0",
      "model_name": "ButtonStyleModel",
      "state": {}
     },
     "2973500750814744ba1c1fead86f19cf": {
      "model_module": "@jupyter-widgets/controls",
      "model_module_version": "1.1.0",
      "model_name": "ButtonModel",
      "state": {
       "button_style": "danger",
       "description": "battery",
       "layout": "IPY_MODEL_3f49a64624264d8abe1a00f80a342c21",
       "style": "IPY_MODEL_7089937f2d7b45638948859a9ccc398f"
      }
     },
     "297bea6edd7e414da68a690cfa52cd83": {
      "model_module": "@jupyter-widgets/controls",
      "model_module_version": "1.1.0",
      "model_name": "ButtonStyleModel",
      "state": {}
     },
     "29814439e9144be3aacdb2bfdd7a5349": {
      "model_module": "@jupyter-widgets/controls",
      "model_module_version": "1.1.0",
      "model_name": "ButtonModel",
      "state": {
       "button_style": "warning",
       "description": "27",
       "layout": "IPY_MODEL_86c93170059349499a5f76156cbd8cdf",
       "style": "IPY_MODEL_f79b7ab5630e4514b4b76e9700d1c127"
      }
     },
     "299c3dd0d01849af9a514fa35747f40a": {
      "model_module": "@jupyter-widgets/controls",
      "model_module_version": "1.1.0",
      "model_name": "ButtonModel",
      "state": {
       "button_style": "warning",
       "description": "36",
       "layout": "IPY_MODEL_86c93170059349499a5f76156cbd8cdf",
       "style": "IPY_MODEL_0de0a4ede1704419991adbf8320b84f9"
      }
     },
     "299d5a9a9ff7425a80f863bcc6d881c9": {
      "model_module": "@jupyter-widgets/controls",
      "model_module_version": "1.1.0",
      "model_name": "ButtonStyleModel",
      "state": {}
     },
     "29adffe70a9b45cdaa10c18e85821647": {
      "model_module": "@jupyter-widgets/controls",
      "model_module_version": "1.1.0",
      "model_name": "ButtonStyleModel",
      "state": {}
     },
     "29bbb7dc38a741a08ee2e389d5e1c552": {
      "model_module": "@jupyter-widgets/controls",
      "model_module_version": "1.1.0",
      "model_name": "ButtonModel",
      "state": {
       "button_style": "danger",
       "description": "weight=1, _0%",
       "layout": "IPY_MODEL_52f42d5ec55943f6bc502ef8c45b85ba",
       "style": "IPY_MODEL_6a6d3eb9e57e4f1489cf90ad6875c9e0"
      }
     },
     "29dc52c93a99467b8f7a8107e8a781b7": {
      "model_module": "@jupyter-widgets/controls",
      "model_module_version": "1.1.0",
      "model_name": "ButtonStyleModel",
      "state": {}
     },
     "2a476fe0a9b345a7910c3084546ae4ff": {
      "model_module": "@jupyter-widgets/base",
      "model_module_version": "1.0.0",
      "model_name": "LayoutModel",
      "state": {}
     },
     "2a4d3e8811094ec9bc260ef1230eb1a3": {
      "model_module": "@jupyter-widgets/controls",
      "model_module_version": "1.1.0",
      "model_name": "ButtonStyleModel",
      "state": {}
     },
     "2a736ee5fe76457e95eda9e5d840ae81": {
      "model_module": "@jupyter-widgets/controls",
      "model_module_version": "1.1.0",
      "model_name": "ButtonStyleModel",
      "state": {}
     },
     "2a930140bcea421d8d09fcf63f00632e": {
      "model_module": "@jupyter-widgets/base",
      "model_module_version": "1.0.0",
      "model_name": "LayoutModel",
      "state": {}
     },
     "2aa917f6da45476d91d52f08c93cee50": {
      "model_module": "@jupyter-widgets/base",
      "model_module_version": "1.0.0",
      "model_name": "LayoutModel",
      "state": {}
     },
     "2ac593bcbc834127a2213bed1882b0f5": {
      "model_module": "@jupyter-widgets/controls",
      "model_module_version": "1.1.0",
      "model_name": "BoxModel",
      "state": {
       "children": [
        "IPY_MODEL_15d81264f58a4fd4a0ba36ed5b418a94",
        "IPY_MODEL_3e50f5d4c6e240e8b698acfe69564df9",
        "IPY_MODEL_0d349dc58d7c43569ac3140b94345be3",
        "IPY_MODEL_d8bf78dd2ed14029a2a037d20df8d376"
       ],
       "layout": "IPY_MODEL_c393f4a90d3440c2ae259b6f1d3ad83f"
      }
     },
     "2adeb1226af14019b73c4de8a28a23cf": {
      "model_module": "@jupyter-widgets/controls",
      "model_module_version": "1.1.0",
      "model_name": "ButtonStyleModel",
      "state": {}
     },
     "2ae5e533ff7b40df9decf5fc9efe88a6": {
      "model_module": "@jupyter-widgets/controls",
      "model_module_version": "1.1.0",
      "model_name": "ButtonStyleModel",
      "state": {}
     },
     "2b0a6cc5551d4e27be41d2f967d563ff": {
      "model_module": "@jupyter-widgets/controls",
      "model_module_version": "1.1.0",
      "model_name": "ButtonStyleModel",
      "state": {}
     },
     "2b1aaf2501624c02b390f15a7820eba2": {
      "model_module": "@jupyter-widgets/controls",
      "model_module_version": "1.1.0",
      "model_name": "ButtonModel",
      "state": {
       "button_style": "warning",
       "description": "39",
       "layout": "IPY_MODEL_0606cbc317604fbdbaea9d3fd0b2d14a",
       "style": "IPY_MODEL_19ba2c5f3b4a45579ec791b888f3d879"
      }
     },
     "2b83e258eb0f4fe58fc14e148c9592a6": {
      "model_module": "@jupyter-widgets/controls",
      "model_module_version": "1.1.0",
      "model_name": "ButtonModel",
      "state": {
       "button_style": "warning",
       "description": "25",
       "layout": "IPY_MODEL_1d10072127cb4a32968374fdb7bd2479",
       "style": "IPY_MODEL_76a10bc409c841049e3ba6d210745d03"
      }
     },
     "2b8836c60b7b4421bb27c3508e57d4c8": {
      "model_module": "@jupyter-widgets/controls",
      "model_module_version": "1.1.0",
      "model_name": "ButtonStyleModel",
      "state": {}
     },
     "2baffe042a454fc08252a073b31b11f8": {
      "model_module": "@jupyter-widgets/controls",
      "model_module_version": "1.1.0",
      "model_name": "ButtonModel",
      "state": {
       "button_style": "warning",
       "description": "4",
       "layout": "IPY_MODEL_5a006e2933db480cbe6187ccadf63fd7",
       "style": "IPY_MODEL_53059ed33b5b474e9ffbf7db3a6069c6"
      }
     },
     "2bb63aabea6848c48b6787657136f8bd": {
      "model_module": "@jupyter-widgets/controls",
      "model_module_version": "1.1.0",
      "model_name": "ButtonModel",
      "state": {
       "button_style": "warning",
       "description": "22",
       "layout": "IPY_MODEL_616560d2e26b4bee8b7c903f483241f8",
       "style": "IPY_MODEL_6f84475c4395452ba31934f7e471fb54"
      }
     },
     "2c0860b996d548d79776be363efbd464": {
      "model_module": "@jupyter-widgets/controls",
      "model_module_version": "1.1.0",
      "model_name": "ButtonModel",
      "state": {
       "button_style": "warning",
       "description": "19",
       "layout": "IPY_MODEL_f97c294201b54222ba61666297c61c75",
       "style": "IPY_MODEL_57bb6d42be7240359b1b880e5a8961cd"
      }
     },
     "2c09fa2a305c4800b21b877853136c1e": {
      "model_module": "@jupyter-widgets/controls",
      "model_module_version": "1.1.0",
      "model_name": "ButtonStyleModel",
      "state": {}
     },
     "2c10a4e535fa4e7c8de4bee4c7d13a36": {
      "model_module": "@jupyter-widgets/controls",
      "model_module_version": "1.1.0",
      "model_name": "BoxModel",
      "state": {
       "children": [
        "IPY_MODEL_a83bd91a91aa4f1296fa15e4f5d7399b",
        "IPY_MODEL_f7c78de217ba4d87a546f10e56d25822",
        "IPY_MODEL_0c4209d609b44c0bbb70b19a7740ee48"
       ],
       "layout": "IPY_MODEL_75f570964a454d91a5d7bce6f759dab9"
      }
     },
     "2c6b7d7eddaa4594815a64122e7bda7e": {
      "model_module": "@jupyter-widgets/controls",
      "model_module_version": "1.1.0",
      "model_name": "ButtonStyleModel",
      "state": {}
     },
     "2c6c20bb0c504d1db79b7ec11da4bff3": {
      "model_module": "@jupyter-widgets/controls",
      "model_module_version": "1.1.0",
      "model_name": "ButtonStyleModel",
      "state": {}
     },
     "2c710044878d4a40b3e43f8b845e8aa8": {
      "model_module": "@jupyter-widgets/base",
      "model_module_version": "1.0.0",
      "model_name": "LayoutModel",
      "state": {
       "flex": "1 1 auto",
       "width": "auto"
      }
     },
     "2c9740cb93cc4b56b6b395d9ad537f07": {
      "model_module": "@jupyter-widgets/base",
      "model_module_version": "1.0.0",
      "model_name": "LayoutModel",
      "state": {
       "flex": "2 1 0%",
       "width": "auto"
      }
     },
     "2c997010804b43e3af62a641286b7147": {
      "model_module": "@jupyter-widgets/base",
      "model_module_version": "1.0.0",
      "model_name": "LayoutModel",
      "state": {}
     },
     "2ca24f86b38b4ccab3bf488afe5717f2": {
      "model_module": "@jupyter-widgets/controls",
      "model_module_version": "1.1.0",
      "model_name": "ButtonModel",
      "state": {
       "description": "weight=2, 0%",
       "layout": "IPY_MODEL_c83a93e6bf7e4b0aa98c19b57ad44474",
       "style": "IPY_MODEL_e6f56a78a97d4d36aaba22bbe7ddcc65"
      }
     },
     "2caed93c630b4bf9bcfe9cf16c7dcda5": {
      "model_module": "@jupyter-widgets/controls",
      "model_module_version": "1.1.0",
      "model_name": "ButtonModel",
      "state": {
       "button_style": "warning",
       "description": "34",
       "layout": "IPY_MODEL_f97c294201b54222ba61666297c61c75",
       "style": "IPY_MODEL_27159d491c6a4705b36884e716c6676e"
      }
     },
     "2cb621fbacc74976b23ce11629c9e7ac": {
      "model_module": "@jupyter-widgets/controls",
      "model_module_version": "1.1.0",
      "model_name": "ButtonStyleModel",
      "state": {}
     },
     "2cb6fca3320e410f940c6af542f1df61": {
      "model_module": "@jupyter-widgets/controls",
      "model_module_version": "1.1.0",
      "model_name": "DescriptionStyleModel",
      "state": {
       "description_width": ""
      }
     },
     "2cc75e7a4e234adfa5dd08e9fadd46c8": {
      "model_module": "@jupyter-widgets/controls",
      "model_module_version": "1.1.0",
      "model_name": "DescriptionStyleModel",
      "state": {
       "description_width": ""
      }
     },
     "2ce1e86ff54c41b5b7eaea9b099c0cb7": {
      "model_module": "@jupyter-widgets/controls",
      "model_module_version": "1.1.0",
      "model_name": "ButtonStyleModel",
      "state": {}
     },
     "2d31a7463aa24337a4fa69b00688324e": {
      "model_module": "@jupyter-widgets/base",
      "model_module_version": "1.0.0",
      "model_name": "LayoutModel",
      "state": {
       "flex": "3 1 0%",
       "width": "auto"
      }
     },
     "2d3753601014422094cd7ea237bc449a": {
      "model_module": "@jupyter-widgets/base",
      "model_module_version": "1.0.0",
      "model_name": "LayoutModel",
      "state": {
       "flex": "2 1 0%",
       "width": "auto"
      }
     },
     "2d5225dc17c543ad9e17b87433e74a16": {
      "model_module": "@jupyter-widgets/controls",
      "model_module_version": "1.1.0",
      "model_name": "ButtonModel",
      "state": {
       "button_style": "danger",
       "description": "weight=1, _0%",
       "layout": "IPY_MODEL_a4b346bf1ef042c5897c9a5775878262",
       "style": "IPY_MODEL_4b94e77af95a4331b7dbe5e1885ae202"
      }
     },
     "2d781ef4328e4408bc134cc7eab5ba2c": {
      "model_module": "@jupyter-widgets/controls",
      "model_module_version": "1.1.0",
      "model_name": "ButtonModel",
      "state": {
       "description": "weight=2",
       "layout": "IPY_MODEL_e2c92e00770542dc94198d3bdd96f124",
       "style": "IPY_MODEL_554f53c01044495e9f57672b2d00cf75"
      }
     },
     "2d806c1ba14344589df776c17052cf70": {
      "model_module": "@jupyter-widgets/base",
      "model_module_version": "1.0.0",
      "model_name": "LayoutModel",
      "state": {
       "flex": "1 1 0%",
       "width": "auto"
      }
     },
     "2d874c8c98ab4d0ea3c0d36191bd07e5": {
      "model_module": "@jupyter-widgets/base",
      "model_module_version": "1.0.0",
      "model_name": "LayoutModel",
      "state": {
       "border": "3px solid black",
       "display": "flex",
       "flex_flow": "row",
       "height": "",
       "overflow_x": "scroll",
       "width": "500px"
      }
     },
     "2d9734220b83457d94eb7d32429b047b": {
      "model_module": "@jupyter-widgets/controls",
      "model_module_version": "1.1.0",
      "model_name": "ButtonModel",
      "state": {
       "button_style": "warning",
       "description": "26",
       "layout": "IPY_MODEL_4f96c205ba6c46e196e16241cfe4cf24",
       "style": "IPY_MODEL_ac324bdd95434944bbc9be88e3f7fcc6"
      }
     },
     "2dbc5b27b5a84121af55dee0f1d248f6": {
      "model_module": "@jupyter-widgets/controls",
      "model_module_version": "1.1.0",
      "model_name": "ButtonModel",
      "state": {
       "button_style": "warning",
       "description": "33",
       "layout": "IPY_MODEL_86c93170059349499a5f76156cbd8cdf",
       "style": "IPY_MODEL_acd1c1b8563348fba435e7bbe312e87a"
      }
     },
     "2dd7d7d42f9b43b6984f3c80106f7d15": {
      "model_module": "@jupyter-widgets/controls",
      "model_module_version": "1.1.0",
      "model_name": "ButtonModel",
      "state": {
       "description": "weight=2",
       "layout": "IPY_MODEL_c0b5aac8235c42a0928a678a81b26c23",
       "style": "IPY_MODEL_be91468d6c474a0dbf8e20e94a391fa5"
      }
     },
     "2dd8c7d95ffe4c0c83c1e91f92f5c073": {
      "model_module": "@jupyter-widgets/controls",
      "model_module_version": "1.1.0",
      "model_name": "BoxModel",
      "state": {
       "children": [
        "IPY_MODEL_8a25bd9fe03f474284a906a0c2a611a0",
        "IPY_MODEL_d90ebd533a6c44d1afc79f448f4b5f92",
        "IPY_MODEL_3ba8f73902b443ab86aae68da53c15b2"
       ],
       "layout": "IPY_MODEL_9517f37da0d440d3b513a4d613f46967"
      }
     },
     "2de60a5acd4e48c89e63ae3e0374029e": {
      "model_module": "@jupyter-widgets/controls",
      "model_module_version": "1.1.0",
      "model_name": "ButtonModel",
      "state": {
       "button_style": "danger",
       "description": "weight=1, _0%",
       "layout": "IPY_MODEL_21858e4c05234755a6b8a4b83910826a",
       "style": "IPY_MODEL_09aac82cf5724e739ebbb7c4d72b3661"
      }
     },
     "2e1c959edbb74695bd6069cd1412311c": {
      "model_module": "@jupyter-widgets/base",
      "model_module_version": "1.0.0",
      "model_name": "LayoutModel",
      "state": {}
     },
     "2e282e6da10d4c5398a43bb3dce8de3a": {
      "model_module": "@jupyter-widgets/controls",
      "model_module_version": "1.1.0",
      "model_name": "ButtonModel",
      "state": {
       "button_style": "warning",
       "description": "14",
       "layout": "IPY_MODEL_1d10072127cb4a32968374fdb7bd2479",
       "style": "IPY_MODEL_a205d295a5364d34893404a91b1527d5"
      }
     },
     "2e664786360241749908a447afc4106b": {
      "model_module": "@jupyter-widgets/base",
      "model_module_version": "1.0.0",
      "model_name": "LayoutModel",
      "state": {
       "border": "3px solid black",
       "display": "flex",
       "height": "",
       "overflow_x": "scroll",
       "width": "500px"
      }
     },
     "2e6fef9afefd4790bf78349aefbfb5db": {
      "model_module": "@jupyter-widgets/controls",
      "model_module_version": "1.1.0",
      "model_name": "LabelModel",
      "state": {
       "layout": "IPY_MODEL_803ee2ec105f4d6286128001803dc0cd",
       "style": "IPY_MODEL_2cb6fca3320e410f940c6af542f1df61",
       "value": "\\(e=mc^2\\)"
      }
     },
     "2e7d5587673b42ff981bea38d4a1f472": {
      "model_module": "@jupyter-widgets/controls",
      "model_module_version": "1.1.0",
      "model_name": "ButtonStyleModel",
      "state": {}
     },
     "2eb1f3c746ca44d9a2a361944f3988b0": {
      "model_module": "@jupyter-widgets/base",
      "model_module_version": "1.0.0",
      "model_name": "LayoutModel",
      "state": {
       "align_items": "stretch",
       "border": "solid",
       "display": "flex",
       "flex_flow": "column",
       "width": "50%"
      }
     },
     "2eb494f162f94fbca711a580594ea9dc": {
      "model_module": "@jupyter-widgets/controls",
      "model_module_version": "1.1.0",
      "model_name": "ButtonModel",
      "state": {
       "button_style": "warning",
       "description": "9",
       "layout": "IPY_MODEL_2609a17cced145ad91b86d4ddfbd3bfd",
       "style": "IPY_MODEL_3900e10fa2ee4d72b03a96578b0d8708"
      }
     },
     "2ee211b41d2448bfa03d47a5c0d784a4": {
      "model_module": "@jupyter-widgets/controls",
      "model_module_version": "1.1.0",
      "model_name": "ButtonModel",
      "state": {
       "button_style": "danger",
       "description": "Danger Button",
       "layout": "IPY_MODEL_9389db70f1784e0899f22738b5e1adb8",
       "style": "IPY_MODEL_49a7e1d1312d4ffe8474b415b5a326e0"
      }
     },
     "2f641d1f7c314bc4bcc917d0985fdc43": {
      "model_module": "@jupyter-widgets/controls",
      "model_module_version": "1.1.0",
      "model_name": "ButtonStyleModel",
      "state": {}
     },
     "2f644c36b4274022b9053fd3610ffcc6": {
      "model_module": "@jupyter-widgets/controls",
      "model_module_version": "1.1.0",
      "model_name": "ButtonStyleModel",
      "state": {}
     },
     "2f655f34e9144dbd8e84f23297a04258": {
      "model_module": "@jupyter-widgets/controls",
      "model_module_version": "1.1.0",
      "model_name": "SliderStyleModel",
      "state": {
       "description_width": "initial"
      }
     },
     "2f65966be1d2480fa60e34fc61858b2f": {
      "model_module": "@jupyter-widgets/base",
      "model_module_version": "1.0.0",
      "model_name": "LayoutModel",
      "state": {}
     },
     "2fb124dfb3414bc5b924eb122987f7aa": {
      "model_module": "@jupyter-widgets/controls",
      "model_module_version": "1.1.0",
      "model_name": "BoxModel",
      "state": {
       "children": [
        "IPY_MODEL_2de60a5acd4e48c89e63ae3e0374029e",
        "IPY_MODEL_35075da607394f73b59862e5ed8c1b27",
        "IPY_MODEL_13ff16a3f8b14a4f9d7255d2a7b5d7b3"
       ],
       "layout": "IPY_MODEL_c2c56161de16416ebb6c5fff191f1b2e"
      }
     },
     "2fcdb88a7eed42ec81646b6bd55624c5": {
      "model_module": "@jupyter-widgets/controls",
      "model_module_version": "1.1.0",
      "model_name": "BoxModel",
      "state": {
       "children": [
        "IPY_MODEL_3e44bbefe9b043348a375edce1015970",
        "IPY_MODEL_a51f4ed7cccf450da67e3671e40d6097",
        "IPY_MODEL_4f3904fcd437498b959074e1b5f55142"
       ],
       "layout": "IPY_MODEL_edb7678b44bb44839371839b11ac42e3"
      }
     },
     "2fe05fa999e64c128a5f9ed21ea514a5": {
      "model_module": "@jupyter-widgets/controls",
      "model_module_version": "1.1.0",
      "model_name": "ButtonModel",
      "state": {
       "button_style": "warning",
       "description": "28",
       "layout": "IPY_MODEL_6abcd37e41034b2ca8a2c4c4ba0dca11",
       "style": "IPY_MODEL_af40ef9e6f9c493fb042351829f563ba"
      }
     },
     "2fe7c89e78d74ecdb84f9a00484ce7bd": {
      "model_module": "@jupyter-widgets/controls",
      "model_module_version": "1.1.0",
      "model_name": "ButtonStyleModel",
      "state": {}
     },
     "3026028c196b46afa00f731d7d65183b": {
      "model_module": "@jupyter-widgets/controls",
      "model_module_version": "1.1.0",
      "model_name": "ButtonModel",
      "state": {
       "button_style": "warning",
       "description": "17",
       "layout": "IPY_MODEL_0606cbc317604fbdbaea9d3fd0b2d14a",
       "style": "IPY_MODEL_4deea6db0ec84e5691209980fa0d3953"
      }
     },
     "30471762a2d74bc585f955e3bdbc82bd": {
      "model_module": "@jupyter-widgets/controls",
      "model_module_version": "1.1.0",
      "model_name": "ButtonModel",
      "state": {
       "button_style": "warning",
       "description": "3",
       "layout": "IPY_MODEL_5a006e2933db480cbe6187ccadf63fd7",
       "style": "IPY_MODEL_5e529f3659b94085b64de8c47015920b"
      }
     },
     "3072cd0688504092a0a05ce57ec72e4a": {
      "model_module": "@jupyter-widgets/controls",
      "model_module_version": "1.1.0",
      "model_name": "ButtonStyleModel",
      "state": {}
     },
     "3074b57a5eb44bbd9d2fe44cd261a742": {
      "model_module": "@jupyter-widgets/controls",
      "model_module_version": "1.1.0",
      "model_name": "ButtonModel",
      "state": {
       "button_style": "warning",
       "description": "30",
       "layout": "IPY_MODEL_616560d2e26b4bee8b7c903f483241f8",
       "style": "IPY_MODEL_699c865fdd3841cda9aa7c4564345ec4"
      }
     },
     "3081c8145c0146e5a3f99b3eeef79019": {
      "model_module": "@jupyter-widgets/controls",
      "model_module_version": "1.1.0",
      "model_name": "ButtonModel",
      "state": {
       "button_style": "danger",
       "description": "staple",
       "layout": "IPY_MODEL_08a354fd401d4b17bccc675806c9a48b",
       "style": "IPY_MODEL_3e6a262bb08545ee91d48946cbbcaa0e"
      }
     },
     "30919d2b0caa4421b77f35958733290a": {
      "model_module": "@jupyter-widgets/controls",
      "model_module_version": "1.1.0",
      "model_name": "ButtonStyleModel",
      "state": {}
     },
     "309b722086224e5eab8b51125cd28bc3": {
      "model_module": "@jupyter-widgets/controls",
      "model_module_version": "1.1.0",
      "model_name": "ButtonStyleModel",
      "state": {}
     },
     "30ac86fb07274d679e1525fd203ba0b7": {
      "model_module": "@jupyter-widgets/controls",
      "model_module_version": "1.1.0",
      "model_name": "LabelModel",
      "state": {
       "layout": "IPY_MODEL_3f4da8f93f77415bba480a230ab0a5fb",
       "style": "IPY_MODEL_5b43d9737fdf4f28b655a1e61dfdb22f",
       "value": "Egg style"
      }
     },
     "30df40f35dc84109810a932f42a4cbfc": {
      "model_module": "@jupyter-widgets/controls",
      "model_module_version": "1.1.0",
      "model_name": "BoxModel",
      "state": {
       "children": [
        "IPY_MODEL_0418c2020d7e41eab3733f09a5c3b12e",
        "IPY_MODEL_7c555d0e17214aed94e08c6c1704b46c",
        "IPY_MODEL_0e9e2e74e4cb47a9962b361f8cd6a847"
       ],
       "layout": "IPY_MODEL_9517f37da0d440d3b513a4d613f46967"
      }
     },
     "310ed406907641baa639278762835d72": {
      "model_module": "@jupyter-widgets/controls",
      "model_module_version": "1.1.0",
      "model_name": "ButtonStyleModel",
      "state": {}
     },
     "3129c3574b734034aa6c9579397f2c46": {
      "model_module": "@jupyter-widgets/base",
      "model_module_version": "1.0.0",
      "model_name": "LayoutModel",
      "state": {
       "flex": "1 1 0%",
       "width": "auto"
      }
     },
     "314fc7bb30a240728109f49b6241690b": {
      "model_module": "@jupyter-widgets/controls",
      "model_module_version": "1.1.0",
      "model_name": "BoxModel",
      "state": {
       "children": [
        "IPY_MODEL_3a80ccc937bc473e9cff63ebeebf7ace",
        "IPY_MODEL_67a5ff316b0c4825a48bfd4d1e9c36c6"
       ],
       "layout": "IPY_MODEL_b99b68da767946949d1d26a178669bd6"
      }
     },
     "3168e8996b9646438c3da41646163b95": {
      "model_module": "@jupyter-widgets/controls",
      "model_module_version": "1.1.0",
      "model_name": "ButtonModel",
      "state": {
       "button_style": "warning",
       "description": "2",
       "layout": "IPY_MODEL_86c93170059349499a5f76156cbd8cdf",
       "style": "IPY_MODEL_eb519ea549d74d80a53b7fde8954f646"
      }
     },
     "317600764dc04154bb1f334624b49294": {
      "model_module": "@jupyter-widgets/controls",
      "model_module_version": "1.1.0",
      "model_name": "HBoxModel",
      "state": {
       "children": [
        "IPY_MODEL_02205590ca884577a4fb9d9cdda1a114",
        "IPY_MODEL_34850e23f9d1469f9f68cb19fe1d6c1a"
       ],
       "layout": "IPY_MODEL_7fbcfe1b6aab4debb6267f224ce9badb"
      }
     },
     "31a22b2f141e4d85aff734021e83350e": {
      "model_module": "@jupyter-widgets/controls",
      "model_module_version": "1.1.0",
      "model_name": "ButtonStyleModel",
      "state": {}
     },
     "31a230eae331422f8f5c8cf0b43ba0d8": {
      "model_module": "@jupyter-widgets/controls",
      "model_module_version": "1.1.0",
      "model_name": "ButtonModel",
      "state": {
       "button_style": "warning",
       "description": "23",
       "layout": "IPY_MODEL_1d10072127cb4a32968374fdb7bd2479",
       "style": "IPY_MODEL_6eeb15aeba2b4bcb8ad73e2e89fec4a7"
      }
     },
     "31aa2afa702c4d4a9e58e1d554893920": {
      "model_module": "@jupyter-widgets/controls",
      "model_module_version": "1.1.0",
      "model_name": "ButtonStyleModel",
      "state": {}
     },
     "31b0bba2a03a49c4ac0ecd600c163415": {
      "model_module": "@jupyter-widgets/controls",
      "model_module_version": "1.1.0",
      "model_name": "ButtonStyleModel",
      "state": {}
     },
     "31d6a83087ed4776a42caa5e3aa39826": {
      "model_module": "@jupyter-widgets/base",
      "model_module_version": "1.0.0",
      "model_name": "LayoutModel",
      "state": {}
     },
     "320ceb0493dd49aca5780ac2310cef91": {
      "model_module": "@jupyter-widgets/controls",
      "model_module_version": "1.1.0",
      "model_name": "ButtonModel",
      "state": {
       "button_style": "warning",
       "description": "32",
       "layout": "IPY_MODEL_128139c1d2f94adbaaea71294ef22ff3",
       "style": "IPY_MODEL_0e0800c787f9443eaee93f9626fa55bc"
      }
     },
     "32155ea18c304499847423f056184f60": {
      "model_module": "@jupyter-widgets/controls",
      "model_module_version": "1.1.0",
      "model_name": "ButtonModel",
      "state": {
       "button_style": "warning",
       "description": "7",
       "layout": "IPY_MODEL_128139c1d2f94adbaaea71294ef22ff3",
       "style": "IPY_MODEL_9fdb64eee49b408dbfcffaecdf285ad0"
      }
     },
     "321649d6441947b9bbe5bca1797e936c": {
      "model_module": "@jupyter-widgets/controls",
      "model_module_version": "1.1.0",
      "model_name": "ButtonModel",
      "state": {
       "button_style": "warning",
       "description": "10",
       "layout": "IPY_MODEL_5a006e2933db480cbe6187ccadf63fd7",
       "style": "IPY_MODEL_299d5a9a9ff7425a80f863bcc6d881c9"
      }
     },
     "323ce613ba964900947e071d229b9023": {
      "model_module": "@jupyter-widgets/base",
      "model_module_version": "1.0.0",
      "model_name": "LayoutModel",
      "state": {
       "flex": "1 1 0%",
       "width": "auto"
      }
     },
     "3245b9e93a9e411a950d348a7b1024ca": {
      "model_module": "@jupyter-widgets/controls",
      "model_module_version": "1.1.0",
      "model_name": "ButtonStyleModel",
      "state": {}
     },
     "3295d1c885694210b8ebfbc5bc09f236": {
      "model_module": "@jupyter-widgets/controls",
      "model_module_version": "1.1.0",
      "model_name": "BoxModel",
      "state": {
       "children": [
        "IPY_MODEL_4b50010f8ba3489e969fcb801dac5b18",
        "IPY_MODEL_d4ade93326a74168bb676c83ae04d88c",
        "IPY_MODEL_74993a7c8ae64067a3ef3c9ee07fdd1a"
       ],
       "layout": "IPY_MODEL_50ae45af4cf64c4aa35dbf4dc80420eb"
      }
     },
     "329d59538bad4e1bbf2c807b6fd89caa": {
      "model_module": "@jupyter-widgets/controls",
      "model_module_version": "1.1.0",
      "model_name": "ButtonStyleModel",
      "state": {}
     },
     "32b862ec82374bf392d5381fc8fdb813": {
      "model_module": "@jupyter-widgets/controls",
      "model_module_version": "1.1.0",
      "model_name": "ButtonStyleModel",
      "state": {}
     },
     "32c5ab0262b04ca0b5869d8dda3d60d7": {
      "model_module": "@jupyter-widgets/base",
      "model_module_version": "1.0.0",
      "model_name": "LayoutModel",
      "state": {
       "flex": "1 1 auto",
       "width": "auto"
      }
     },
     "32e5f630d39d435583ce249ef93316cc": {
      "model_module": "@jupyter-widgets/controls",
      "model_module_version": "1.1.0",
      "model_name": "ButtonStyleModel",
      "state": {}
     },
     "32e6a8d4fc674d9983cd81cdf57e1a0c": {
      "model_module": "@jupyter-widgets/controls",
      "model_module_version": "1.1.0",
      "model_name": "ButtonModel",
      "state": {
       "button_style": "warning",
       "description": "4",
       "layout": "IPY_MODEL_1d10072127cb4a32968374fdb7bd2479",
       "style": "IPY_MODEL_0a2f07fe226142b9b850dfd99dc6042a"
      }
     },
     "330c09803e374f219e6e63449659ab69": {
      "model_module": "@jupyter-widgets/controls",
      "model_module_version": "1.1.0",
      "model_name": "ButtonModel",
      "state": {
       "button_style": "warning",
       "description": "1",
       "layout": "IPY_MODEL_9886a36bb356420e9e4d3c7cdd66e238",
       "style": "IPY_MODEL_33e75bd081504b1086cb4a8d780d0825"
      }
     },
     "3316cb39766646ec81b7e062e83e9014": {
      "model_module": "@jupyter-widgets/controls",
      "model_module_version": "1.1.0",
      "model_name": "ButtonStyleModel",
      "state": {}
     },
     "335916aff5544af485be9cb623197cf2": {
      "model_module": "@jupyter-widgets/controls",
      "model_module_version": "1.1.0",
      "model_name": "SliderStyleModel",
      "state": {
       "description_width": "initial"
      }
     },
     "335e9607a9964e97a9b4d9c1e4aa9504": {
      "model_module": "@jupyter-widgets/controls",
      "model_module_version": "1.1.0",
      "model_name": "TextareaModel",
      "state": {
       "layout": "IPY_MODEL_1e07aa75325e440e8d55991033e91347",
       "style": "IPY_MODEL_c60eaefd59c84fb1b563f4060c5b0944"
      }
     },
     "337346cf012b4dc79c68fa51de066051": {
      "model_module": "@jupyter-widgets/controls",
      "model_module_version": "1.1.0",
      "model_name": "ButtonModel",
      "state": {
       "button_style": "warning",
       "description": "21",
       "layout": "IPY_MODEL_9886a36bb356420e9e4d3c7cdd66e238",
       "style": "IPY_MODEL_e5d44bd1b7bc4f1c887e9faa4aece96c"
      }
     },
     "3373b6e71a4343eeacb5eea2dbef4af5": {
      "model_module": "@jupyter-widgets/base",
      "model_module_version": "1.0.0",
      "model_name": "LayoutModel",
      "state": {
       "flex": "1 1 auto",
       "width": "auto"
      }
     },
     "33771e0b97014b8f8f212df5e06734e8": {
      "model_module": "@jupyter-widgets/controls",
      "model_module_version": "1.1.0",
      "model_name": "ButtonStyleModel",
      "state": {}
     },
     "338acd0597d8482abf8c8d3afb8ac07b": {
      "model_module": "@jupyter-widgets/base",
      "model_module_version": "1.0.0",
      "model_name": "LayoutModel",
      "state": {}
     },
     "33980c241e614b6e8c80d1b582637c77": {
      "model_module": "@jupyter-widgets/controls",
      "model_module_version": "1.1.0",
      "model_name": "ButtonModel",
      "state": {
       "button_style": "warning",
       "description": "7",
       "layout": "IPY_MODEL_1d10072127cb4a32968374fdb7bd2479",
       "style": "IPY_MODEL_f14462339316411b973ea1c520418efe"
      }
     },
     "33a350d2e9c14f74bddf7699b900587b": {
      "model_module": "@jupyter-widgets/controls",
      "model_module_version": "1.1.0",
      "model_name": "DescriptionStyleModel",
      "state": {
       "description_width": ""
      }
     },
     "33a78844da0d4177bb96a16468bea759": {
      "model_module": "@jupyter-widgets/base",
      "model_module_version": "1.0.0",
      "model_name": "LayoutModel",
      "state": {
       "align_items": "stretch",
       "border": "solid",
       "display": "flex",
       "flex_flow": "column",
       "width": "50%"
      }
     },
     "33d4167d34d44855baed8eb24798d645": {
      "model_module": "@jupyter-widgets/controls",
      "model_module_version": "1.1.0",
      "model_name": "ButtonStyleModel",
      "state": {}
     },
     "33d458eccedc4f1896238e433386b819": {
      "model_module": "@jupyter-widgets/controls",
      "model_module_version": "1.1.0",
      "model_name": "ButtonStyleModel",
      "state": {}
     },
     "33e3ea8dc8d04462b86cbf5d6a52813d": {
      "model_module": "@jupyter-widgets/base",
      "model_module_version": "1.0.0",
      "model_name": "LayoutModel",
      "state": {}
     },
     "33e75bd081504b1086cb4a8d780d0825": {
      "model_module": "@jupyter-widgets/controls",
      "model_module_version": "1.1.0",
      "model_name": "ButtonStyleModel",
      "state": {}
     },
     "33ed596f249040a9b3c31e047e92b22f": {
      "model_module": "@jupyter-widgets/controls",
      "model_module_version": "1.1.0",
      "model_name": "ButtonModel",
      "state": {
       "button_style": "warning",
       "description": "26",
       "layout": "IPY_MODEL_0606cbc317604fbdbaea9d3fd0b2d14a",
       "style": "IPY_MODEL_3316cb39766646ec81b7e062e83e9014"
      }
     },
     "33fa2122a7334531afeb6cf952e5e5a6": {
      "model_module": "@jupyter-widgets/controls",
      "model_module_version": "1.1.0",
      "model_name": "ButtonStyleModel",
      "state": {}
     },
     "34850e23f9d1469f9f68cb19fe1d6c1a": {
      "model_module": "@jupyter-widgets/controls",
      "model_module_version": "1.1.0",
      "model_name": "IntSliderModel",
      "state": {
       "layout": "IPY_MODEL_d729dc20040e4037827adecf08dc107c",
       "style": "IPY_MODEL_283660f5d3cc48bdaf2b983b9a0347f7"
      }
     },
     "34b09bf591a34591a6ae00fae086fccb": {
      "model_module": "@jupyter-widgets/controls",
      "model_module_version": "1.1.0",
      "model_name": "ButtonModel",
      "state": {
       "button_style": "warning",
       "description": "23",
       "layout": "IPY_MODEL_128139c1d2f94adbaaea71294ef22ff3",
       "style": "IPY_MODEL_ee03d7dd21d744e99608739211e9d9b5"
      }
     },
     "34ba4ca482ad41ea9b6839310767574b": {
      "model_module": "@jupyter-widgets/controls",
      "model_module_version": "1.1.0",
      "model_name": "ButtonStyleModel",
      "state": {}
     },
     "34c1d63f4c244f5c870bee3fe6bb8bbb": {
      "model_module": "@jupyter-widgets/base",
      "model_module_version": "1.0.0",
      "model_name": "LayoutModel",
      "state": {}
     },
     "34c9114f9e8f4375abd1bae851c4a3a5": {
      "model_module": "@jupyter-widgets/controls",
      "model_module_version": "1.1.0",
      "model_name": "ButtonStyleModel",
      "state": {}
     },
     "34f5593bfa464542959751bc48b7e585": {
      "model_module": "@jupyter-widgets/controls",
      "model_module_version": "1.1.0",
      "model_name": "ButtonModel",
      "state": {
       "button_style": "warning",
       "description": "19",
       "layout": "IPY_MODEL_616560d2e26b4bee8b7c903f483241f8",
       "style": "IPY_MODEL_64371b139b524867b8e72ab573b565cd"
      }
     },
     "35075da607394f73b59862e5ed8c1b27": {
      "model_module": "@jupyter-widgets/controls",
      "model_module_version": "1.1.0",
      "model_name": "ButtonModel",
      "state": {
       "button_style": "danger",
       "description": "weight=2, _0%",
       "layout": "IPY_MODEL_b8d43783d318451abf3a8c392b7fcdb8",
       "style": "IPY_MODEL_0ac180ed4c1544adb00fce52512ad2c4"
      }
     },
     "3521d71906664006aee41074f114f785": {
      "model_module": "@jupyter-widgets/controls",
      "model_module_version": "1.1.0",
      "model_name": "ButtonModel",
      "state": {
       "description": "weight=2, _0%",
       "layout": "IPY_MODEL_fffda4df507e442195619bd4c2a3fbac",
       "style": "IPY_MODEL_99c70b09a61546698174ab31480b6bd5"
      }
     },
     "35422ae42d3044388c4d32df07152cc1": {
      "model_module": "@jupyter-widgets/base",
      "model_module_version": "1.0.0",
      "model_name": "LayoutModel",
      "state": {}
     },
     "3542efa639e941ce88d325efd96ed61a": {
      "model_module": "@jupyter-widgets/controls",
      "model_module_version": "1.1.0",
      "model_name": "ButtonModel",
      "state": {
       "description": "battery",
       "layout": "IPY_MODEL_5899d8f01fbe461ea321a4f88c590a15",
       "style": "IPY_MODEL_a9f2b98e737a4871b67257ead7a684a5"
      }
     },
     "354c8e0eba8c465bbeaa0b4e382d471e": {
      "model_module": "@jupyter-widgets/controls",
      "model_module_version": "1.1.0",
      "model_name": "ButtonStyleModel",
      "state": {}
     },
     "356368e0ac864196b341dc9cdb77a656": {
      "model_module": "@jupyter-widgets/controls",
      "model_module_version": "1.1.0",
      "model_name": "ButtonStyleModel",
      "state": {}
     },
     "35a02644407c4e9fb720163a101cbdaa": {
      "model_module": "@jupyter-widgets/controls",
      "model_module_version": "1.1.0",
      "model_name": "ButtonModel",
      "state": {
       "button_style": "warning",
       "description": "9",
       "layout": "IPY_MODEL_6abcd37e41034b2ca8a2c4c4ba0dca11",
       "style": "IPY_MODEL_26ceeb4d9f07438dab4d3c8e3a59e085"
      }
     },
     "35a504b1e8694fd496cc87f4c5d1fc97": {
      "model_module": "@jupyter-widgets/base",
      "model_module_version": "1.0.0",
      "model_name": "LayoutModel",
      "state": {
       "align_items": "stretch",
       "border": "solid",
       "display": "flex",
       "flex_flow": "row",
       "width": "50%"
      }
     },
     "35e309eb09ed43c998c0b63f1d8d33b1": {
      "model_module": "@jupyter-widgets/controls",
      "model_module_version": "1.1.0",
      "model_name": "ButtonStyleModel",
      "state": {}
     },
     "35fed0e895bb40ecbbe1933a4120fa6c": {
      "model_module": "@jupyter-widgets/base",
      "model_module_version": "1.0.0",
      "model_name": "LayoutModel",
      "state": {
       "flex": "1 1 0%",
       "width": "auto"
      }
     },
     "36140e1f606e49b1b01afeba2833155b": {
      "model_module": "@jupyter-widgets/controls",
      "model_module_version": "1.1.0",
      "model_name": "ButtonModel",
      "state": {
       "button_style": "warning",
       "description": "10",
       "layout": "IPY_MODEL_0606cbc317604fbdbaea9d3fd0b2d14a",
       "style": "IPY_MODEL_ef013b69d04e451eb52be7ae29cf5e09"
      }
     },
     "3614723fabfe46d9af33152b30efbcdd": {
      "model_module": "@jupyter-widgets/controls",
      "model_module_version": "1.1.0",
      "model_name": "DescriptionStyleModel",
      "state": {
       "description_width": ""
      }
     },
     "3692fd149d7b4b7993f4215dc144b7d4": {
      "model_module": "@jupyter-widgets/base",
      "model_module_version": "1.0.0",
      "model_name": "LayoutModel",
      "state": {}
     },
     "36a1ac29c8d449ecb0f8a68c6c98580c": {
      "model_module": "@jupyter-widgets/controls",
      "model_module_version": "1.1.0",
      "model_name": "ButtonModel",
      "state": {
       "button_style": "danger",
       "description": "horse",
       "layout": "IPY_MODEL_c7338576bee04316bd2700f1c493a0f7",
       "style": "IPY_MODEL_e1c4217b7eaa410a98cf3ab92fb9c96c"
      }
     },
     "36fd4ad8839c4208af2e75ec74575f67": {
      "model_module": "@jupyter-widgets/base",
      "model_module_version": "1.0.0",
      "model_name": "LayoutModel",
      "state": {}
     },
     "370ccf86c6e64277bd8f4d43cb2f4afc": {
      "model_module": "@jupyter-widgets/controls",
      "model_module_version": "1.1.0",
      "model_name": "ButtonStyleModel",
      "state": {}
     },
     "371dddd05b5042ce86cc7ed409d3081b": {
      "model_module": "@jupyter-widgets/controls",
      "model_module_version": "1.1.0",
      "model_name": "VBoxModel",
      "state": {
       "children": [
        "IPY_MODEL_57c2e921a7c54e6b90efd51a6d2540c4",
        "IPY_MODEL_a917bb87aa3142618d75a4cd2a14982f"
       ],
       "layout": "IPY_MODEL_c8e71425f51943adab1b135b363e23d6"
      }
     },
     "374a63f6a99e44299f6fe2986d1fa6af": {
      "model_module": "@jupyter-widgets/controls",
      "model_module_version": "1.1.0",
      "model_name": "BoxModel",
      "state": {
       "children": [
        "IPY_MODEL_5ea347f0a5af4822948bd8adfe061cac",
        "IPY_MODEL_13f1917bed0247dcb23c705a6e08307a"
       ],
       "layout": "IPY_MODEL_b73dcd51c0a84653a2a1d0fc2da4f240"
      }
     },
     "374fe091bfdf48e9aa9dd0864dd13e37": {
      "model_module": "@jupyter-widgets/controls",
      "model_module_version": "1.1.0",
      "model_name": "ButtonModel",
      "state": {
       "description": "horse",
       "layout": "IPY_MODEL_f19c9fe6e7554feb9b8e8ecba8db7daf",
       "style": "IPY_MODEL_63210dedd1354f57994b3b211e6581c9"
      }
     },
     "37c48161aa5b41b893df25c5aaee6466": {
      "model_module": "@jupyter-widgets/controls",
      "model_module_version": "1.1.0",
      "model_name": "ButtonStyleModel",
      "state": {}
     },
     "37d98d6b7b9243abb0a909c296ebe08a": {
      "model_module": "@jupyter-widgets/controls",
      "model_module_version": "1.1.0",
      "model_name": "ButtonModel",
      "state": {
       "button_style": "danger",
       "description": "weight=1, auto",
       "layout": "IPY_MODEL_3373b6e71a4343eeacb5eea2dbef4af5",
       "style": "IPY_MODEL_235e16b76e984ee98cd29a54471a7d81"
      }
     },
     "37d9f71b9ed043e48cd9318ee5133779": {
      "model_module": "@jupyter-widgets/controls",
      "model_module_version": "1.1.0",
      "model_name": "LabelModel",
      "state": {
       "layout": "IPY_MODEL_4a282fe84af443ddbc18638f25f1b2aa",
       "style": "IPY_MODEL_f1ea935c68574f75a7be4e1548c1065e",
       "value": "\\(e=mc^2\\)"
      }
     },
     "384591c27dba454a8167ec6a914f3d4c": {
      "model_module": "@jupyter-widgets/base",
      "model_module_version": "1.0.0",
      "model_name": "LayoutModel",
      "state": {}
     },
     "38499259a6354f53874dc3c04676cdc6": {
      "model_module": "@jupyter-widgets/controls",
      "model_module_version": "1.1.0",
      "model_name": "ButtonStyleModel",
      "state": {}
     },
     "386ba40f1dd847568beb6e7b7c81599b": {
      "model_module": "@jupyter-widgets/base",
      "model_module_version": "1.0.0",
      "model_name": "LayoutModel",
      "state": {}
     },
     "38ad76e69214447d84171d713b4948e0": {
      "model_module": "@jupyter-widgets/controls",
      "model_module_version": "1.1.0",
      "model_name": "ButtonModel",
      "state": {
       "button_style": "warning",
       "description": "20",
       "layout": "IPY_MODEL_2609a17cced145ad91b86d4ddfbd3bfd",
       "style": "IPY_MODEL_3e38785f21a740c889f4c4d608f7fd38"
      }
     },
     "38b32553e2b845a99c327cf273c6fd03": {
      "model_module": "@jupyter-widgets/controls",
      "model_module_version": "1.1.0",
      "model_name": "BoxModel",
      "state": {
       "children": [
        "IPY_MODEL_908b05618f9c4318a9d0dbb1cd9da495",
        "IPY_MODEL_19fbf8f382da4467bed04f55c4d60fbb",
        "IPY_MODEL_29bbb7dc38a741a08ee2e389d5e1c552"
       ],
       "layout": "IPY_MODEL_edb7678b44bb44839371839b11ac42e3"
      }
     },
     "38b7cf5ae7f749dba2ea1eec124f16bd": {
      "model_module": "@jupyter-widgets/controls",
      "model_module_version": "1.1.0",
      "model_name": "ButtonStyleModel",
      "state": {}
     },
     "38c08caf3e334fe3bff0a802d703e117": {
      "model_module": "@jupyter-widgets/controls",
      "model_module_version": "1.1.0",
      "model_name": "ButtonModel",
      "state": {
       "button_style": "warning",
       "description": "2",
       "layout": "IPY_MODEL_2609a17cced145ad91b86d4ddfbd3bfd",
       "style": "IPY_MODEL_e8a8584b16fb444bb48194ddb4eb9e4e"
      }
     },
     "38d46f1f2ccf47d78142b38f6cea43a0": {
      "model_module": "@jupyter-widgets/controls",
      "model_module_version": "1.1.0",
      "model_name": "ButtonModel",
      "state": {
       "button_style": "warning",
       "description": "16",
       "layout": "IPY_MODEL_1d10072127cb4a32968374fdb7bd2479",
       "style": "IPY_MODEL_19ade981e73d4df4a4fe7f652bc46798"
      }
     },
     "38e605f60ee24d778110f3ec8289d4c2": {
      "model_module": "@jupyter-widgets/controls",
      "model_module_version": "1.1.0",
      "model_name": "ButtonModel",
      "state": {
       "button_style": "warning",
       "description": "5",
       "layout": "IPY_MODEL_86c93170059349499a5f76156cbd8cdf",
       "style": "IPY_MODEL_519d2b391cb344eba7ccbfd9febfecc3"
      }
     },
     "3900e10fa2ee4d72b03a96578b0d8708": {
      "model_module": "@jupyter-widgets/controls",
      "model_module_version": "1.1.0",
      "model_name": "ButtonStyleModel",
      "state": {}
     },
     "3904da86e1be430bb413955cf71fc254": {
      "model_module": "@jupyter-widgets/controls",
      "model_module_version": "1.1.0",
      "model_name": "BoxModel",
      "state": {
       "children": [
        "IPY_MODEL_b76fff8d717b4362b1f5c48ee7879997",
        "IPY_MODEL_a7936a976466407394f5696013ff4721",
        "IPY_MODEL_07160c290135428dbe8e272d937f7550",
        "IPY_MODEL_fb74280ca63843f5bb3aac9d06dfa625"
       ],
       "layout": "IPY_MODEL_c2d578a0dad64b10b38e893df3ea8d6e"
      }
     },
     "3905a2daa1084809bcb136d6d5a6d8b3": {
      "model_module": "@jupyter-widgets/base",
      "model_module_version": "1.0.0",
      "model_name": "LayoutModel",
      "state": {}
     },
     "39142546ed9247639510aac93378a7de": {
      "model_module": "@jupyter-widgets/controls",
      "model_module_version": "1.1.0",
      "model_name": "ButtonModel",
      "state": {
       "button_style": "warning",
       "description": "17",
       "layout": "IPY_MODEL_5f4383735711415596954c7bc1a5bfd1",
       "style": "IPY_MODEL_c333170c2fce40d98e1b6e4ffa03bc53"
      }
     },
     "391a36a59a854ea98ef503c492201ac3": {
      "model_module": "@jupyter-widgets/controls",
      "model_module_version": "1.1.0",
      "model_name": "ButtonModel",
      "state": {
       "button_style": "warning",
       "description": "24",
       "layout": "IPY_MODEL_1d10072127cb4a32968374fdb7bd2479",
       "style": "IPY_MODEL_f37b8c8dc72447418fdf4f8463238e9e"
      }
     },
     "391c7e939a074961906e231916f11b2a": {
      "model_module": "@jupyter-widgets/controls",
      "model_module_version": "1.1.0",
      "model_name": "ButtonModel",
      "state": {
       "button_style": "warning",
       "description": "21",
       "layout": "IPY_MODEL_6abcd37e41034b2ca8a2c4c4ba0dca11",
       "style": "IPY_MODEL_e44b857ec24b4b138b0ce5ee4df652aa"
      }
     },
     "391f918c631c42b0bc0892bc5ab76f63": {
      "model_module": "@jupyter-widgets/controls",
      "model_module_version": "1.1.0",
      "model_name": "ButtonStyleModel",
      "state": {}
     },
     "392a901bc51e49ac8aa2df0256a9ff05": {
      "model_module": "@jupyter-widgets/controls",
      "model_module_version": "1.1.0",
      "model_name": "ButtonStyleModel",
      "state": {}
     },
     "392b9248ded248b18418a04122e78a69": {
      "model_module": "@jupyter-widgets/controls",
      "model_module_version": "1.1.0",
      "model_name": "ButtonStyleModel",
      "state": {}
     },
     "39530e2c3f574a33b11afd7dec33604e": {
      "model_module": "@jupyter-widgets/controls",
      "model_module_version": "1.1.0",
      "model_name": "ButtonModel",
      "state": {
       "description": "(50% width, 80px height) button",
       "layout": "IPY_MODEL_9ddf859d43704d01a269a4f8eb8ea780",
       "style": "IPY_MODEL_0f383d09470f46a4a22fec93da64d6fe"
      }
     },
     "39552ac7440f483db46f5a6befbeb1ab": {
      "model_module": "@jupyter-widgets/controls",
      "model_module_version": "1.1.0",
      "model_name": "ButtonModel",
      "state": {
       "button_style": "warning",
       "description": "36",
       "layout": "IPY_MODEL_5f4383735711415596954c7bc1a5bfd1",
       "style": "IPY_MODEL_125fe57b10784fbbb89dffb2bcbd6820"
      }
     },
     "3958029d40db4179801c7efad0518acf": {
      "model_module": "@jupyter-widgets/base",
      "model_module_version": "1.0.0",
      "model_name": "LayoutModel",
      "state": {}
     },
     "396d490671774a8997642dc10882b9d6": {
      "model_module": "@jupyter-widgets/controls",
      "model_module_version": "1.1.0",
      "model_name": "ButtonStyleModel",
      "state": {}
     },
     "39735fa0eed84a14ab716fa1f992cd06": {
      "model_module": "@jupyter-widgets/controls",
      "model_module_version": "1.1.0",
      "model_name": "ButtonModel",
      "state": {
       "button_style": "danger",
       "description": "Danger Button",
       "layout": "IPY_MODEL_be64f14ef5c541beb40fb63b319dd612",
       "style": "IPY_MODEL_772628fed38346d4be6339861a20adb5"
      }
     },
     "399c2e2292b94478b56fe2f83b42033e": {
      "model_module": "@jupyter-widgets/controls",
      "model_module_version": "1.1.0",
      "model_name": "ButtonStyleModel",
      "state": {}
     },
     "39aee62714c247eeb116d97bb6aa7e31": {
      "model_module": "@jupyter-widgets/controls",
      "model_module_version": "1.1.0",
      "model_name": "BoxModel",
      "state": {
       "children": [
        "IPY_MODEL_4666e90997084ffebe519d20bb1bffb0",
        "IPY_MODEL_09c47efc533d42ce8554f376118c829f",
        "IPY_MODEL_d019b13dd8454aefb8a9523083a10707",
        "IPY_MODEL_4cb181459a6340d1bd3b6b3db68f7a23"
       ],
       "layout": "IPY_MODEL_2eb1f3c746ca44d9a2a361944f3988b0"
      }
     },
     "39f10ac696a2444b89ff76ed0c4a1bd1": {
      "model_module": "@jupyter-widgets/controls",
      "model_module_version": "1.1.0",
      "model_name": "ButtonStyleModel",
      "state": {}
     },
     "39fa633eb382419384a44d2edb4da37a": {
      "model_module": "@jupyter-widgets/controls",
      "model_module_version": "1.1.0",
      "model_name": "ButtonStyleModel",
      "state": {}
     },
     "3a80ccc937bc473e9cff63ebeebf7ace": {
      "model_module": "@jupyter-widgets/controls",
      "model_module_version": "1.1.0",
      "model_name": "LabelModel",
      "state": {
       "layout": "IPY_MODEL_d976d9367c6f441ebf34397e974820cb",
       "style": "IPY_MODEL_7c01d4e8a5754c7eb847b1f3151bfe27",
       "value": "Age of the captain"
      }
     },
     "3aa0614814e34872be92dec1b05903d7": {
      "model_module": "@jupyter-widgets/controls",
      "model_module_version": "1.1.0",
      "model_name": "BoxModel",
      "state": {
       "children": [
        "IPY_MODEL_5114d207dac84e169ab07bc4273d6132",
        "IPY_MODEL_a893ab02800945d8ba04e495f9ac9e8d",
        "IPY_MODEL_d0897ed81a5e4913b7df994cceea828f"
       ],
       "layout": "IPY_MODEL_b439cb33d2c340b8bbb4a8447dc00028"
      }
     },
     "3ac4b7ef92f64a1094bd8a8ea51891b0": {
      "model_module": "@jupyter-widgets/base",
      "model_module_version": "1.0.0",
      "model_name": "LayoutModel",
      "state": {
       "flex": "1 1 0%",
       "width": "auto"
      }
     },
     "3ad0cbfd365a431787af4b15cd2f423f": {
      "model_module": "@jupyter-widgets/controls",
      "model_module_version": "1.1.0",
      "model_name": "ButtonModel",
      "state": {
       "description": "staple",
       "layout": "IPY_MODEL_a89a3fa8e69f47d7ac2ee4df32f48e99",
       "style": "IPY_MODEL_6977ab1dfb394ffea855230d6b789a5f"
      }
     },
     "3ae7d478dc1c474bbce2988475a483d7": {
      "model_module": "@jupyter-widgets/controls",
      "model_module_version": "1.1.0",
      "model_name": "ButtonModel",
      "state": {
       "button_style": "warning",
       "description": "38",
       "layout": "IPY_MODEL_1d10072127cb4a32968374fdb7bd2479",
       "style": "IPY_MODEL_ea29e566694e46f78dc084f14dd904e7"
      }
     },
     "3b48bd1fcb1d44999f7ccba7624969da": {
      "model_module": "@jupyter-widgets/controls",
      "model_module_version": "1.1.0",
      "model_name": "ButtonModel",
      "state": {
       "button_style": "warning",
       "description": "8",
       "layout": "IPY_MODEL_0606cbc317604fbdbaea9d3fd0b2d14a",
       "style": "IPY_MODEL_585cd63d756f4602bb47407fa57fb10a"
      }
     },
     "3b4a364785c34d9ab745a8138e01f8d8": {
      "model_module": "@jupyter-widgets/controls",
      "model_module_version": "1.1.0",
      "model_name": "ButtonStyleModel",
      "state": {}
     },
     "3b4b1a6f79684217b19fd270a5ada83d": {
      "model_module": "@jupyter-widgets/controls",
      "model_module_version": "1.1.0",
      "model_name": "ButtonStyleModel",
      "state": {}
     },
     "3b52c53a85b243839f314a4e04e7ccaa": {
      "model_module": "@jupyter-widgets/controls",
      "model_module_version": "1.1.0",
      "model_name": "ButtonStyleModel",
      "state": {}
     },
     "3b68ff56f755412383b3007cbd7fbf30": {
      "model_module": "@jupyter-widgets/controls",
      "model_module_version": "1.1.0",
      "model_name": "ButtonModel",
      "state": {
       "button_style": "warning",
       "description": "39",
       "layout": "IPY_MODEL_2609a17cced145ad91b86d4ddfbd3bfd",
       "style": "IPY_MODEL_25f8261fc3234ff091881f89fb2dc284"
      }
     },
     "3b77059c179a4a9f9017f3c433675975": {
      "model_module": "@jupyter-widgets/controls",
      "model_module_version": "1.1.0",
      "model_name": "ButtonStyleModel",
      "state": {}
     },
     "3b86c2d66b414b7f9988befb6bd42e26": {
      "model_module": "@jupyter-widgets/base",
      "model_module_version": "1.0.0",
      "model_name": "LayoutModel",
      "state": {}
     },
     "3b9b03c870344e2a9421f860b854704e": {
      "model_module": "@jupyter-widgets/base",
      "model_module_version": "1.0.0",
      "model_name": "LayoutModel",
      "state": {
       "flex": "2 1 auto",
       "width": "auto"
      }
     },
     "3ba8f73902b443ab86aae68da53c15b2": {
      "model_module": "@jupyter-widgets/controls",
      "model_module_version": "1.1.0",
      "model_name": "ButtonModel",
      "state": {
       "button_style": "danger",
       "description": "weight=1, auto",
       "layout": "IPY_MODEL_8d5aa1b50908454d8dc0e783262b633e",
       "style": "IPY_MODEL_a000e5e600314b9ba2c56a9f25f40caf"
      }
     },
     "3bb40f03fc9449b0b2b5c147256df2d9": {
      "model_module": "@jupyter-widgets/controls",
      "model_module_version": "1.1.0",
      "model_name": "ButtonModel",
      "state": {
       "button_style": "warning",
       "description": "38",
       "layout": "IPY_MODEL_f97c294201b54222ba61666297c61c75",
       "style": "IPY_MODEL_cfc26db413b74338a6c3c1f2d0124858"
      }
     },
     "3bd7163a32ac4a7fbf144f20478ea860": {
      "model_module": "@jupyter-widgets/controls",
      "model_module_version": "1.1.0",
      "model_name": "VBoxModel",
      "state": {
       "children": [
        "IPY_MODEL_3aa0614814e34872be92dec1b05903d7",
        "IPY_MODEL_b465ecd51c154663bfdeb62ae38e2282"
       ],
       "layout": "IPY_MODEL_4dd0992f6a7e4fbdaed0e221e1ee34d2"
      }
     },
     "3c07956f5bad496d80dab8cd932d08af": {
      "model_module": "@jupyter-widgets/base",
      "model_module_version": "1.0.0",
      "model_name": "LayoutModel",
      "state": {}
     },
     "3c1931efd1d14ced9622a0f216438cc8": {
      "model_module": "@jupyter-widgets/controls",
      "model_module_version": "1.1.0",
      "model_name": "DescriptionStyleModel",
      "state": {
       "description_width": ""
      }
     },
     "3c29ea4e013842289fa79fdde17b67d2": {
      "model_module": "@jupyter-widgets/controls",
      "model_module_version": "1.1.0",
      "model_name": "ButtonModel",
      "state": {
       "button_style": "danger",
       "description": "Danger Button",
       "layout": "IPY_MODEL_c5685b2d4a184555aff02b8d5c18bdb4",
       "style": "IPY_MODEL_1924fb1cda9b4a418cc520cc604b4aeb"
      }
     },
     "3c3623d32b83444ba76f049d987f81e3": {
      "model_module": "@jupyter-widgets/controls",
      "model_module_version": "1.1.0",
      "model_name": "ButtonStyleModel",
      "state": {}
     },
     "3c3a55c9097345fd96ecde3e68043df6": {
      "model_module": "@jupyter-widgets/controls",
      "model_module_version": "1.1.0",
      "model_name": "ButtonModel",
      "state": {
       "button_style": "warning",
       "description": "3",
       "layout": "IPY_MODEL_0606cbc317604fbdbaea9d3fd0b2d14a",
       "style": "IPY_MODEL_c8db1d06a28647ac81f4a2f0e9005566"
      }
     },
     "3cb3bc416bc749a48fd5dce5148ee481": {
      "model_module": "@jupyter-widgets/controls",
      "model_module_version": "1.1.0",
      "model_name": "ButtonModel",
      "state": {
       "button_style": "danger",
       "description": "weight=1, _0%",
       "layout": "IPY_MODEL_c34ce472ab3543a18681abae8b57623d",
       "style": "IPY_MODEL_454558797c9f48aa93bb9503b9b7d89f"
      }
     },
     "3cb8f5517f714d29a6caf6b995c99d3e": {
      "model_module": "@jupyter-widgets/controls",
      "model_module_version": "1.1.0",
      "model_name": "ButtonStyleModel",
      "state": {}
     },
     "3cdcccc5301a48db9bd3a75fab5d58ca": {
      "model_module": "@jupyter-widgets/controls",
      "model_module_version": "1.1.0",
      "model_name": "TextareaModel",
      "state": {
       "layout": "IPY_MODEL_84c9c04f9b6542c3b122cc78a65ddfb9",
       "style": "IPY_MODEL_c95e17749b784923adaaf5f9c9141000"
      }
     },
     "3d287e03031c4a42b5358193aabc22fb": {
      "model_module": "@jupyter-widgets/base",
      "model_module_version": "1.0.0",
      "model_name": "LayoutModel",
      "state": {
       "align_items": "stretch",
       "border": "solid 0.5px",
       "display": "flex",
       "flex_flow": "row",
       "width": "70%"
      }
     },
     "3d5ec700e849482bb657ccb8b62898e8": {
      "model_module": "@jupyter-widgets/controls",
      "model_module_version": "1.1.0",
      "model_name": "ButtonModel",
      "state": {
       "button_style": "warning",
       "description": "38",
       "layout": "IPY_MODEL_616560d2e26b4bee8b7c903f483241f8",
       "style": "IPY_MODEL_0cc3aa070dcd485ea4385a693c1bb7d3"
      }
     },
     "3d6d73b0803c47c99781f8f5bd870104": {
      "model_module": "@jupyter-widgets/controls",
      "model_module_version": "1.1.0",
      "model_name": "ButtonModel",
      "state": {
       "button_style": "warning",
       "description": "30",
       "layout": "IPY_MODEL_86c93170059349499a5f76156cbd8cdf",
       "style": "IPY_MODEL_90fbc727b4564aa390c44ca5e957c356"
      }
     },
     "3d76d1d884d3447e889221b3ec18fdfb": {
      "model_module": "@jupyter-widgets/controls",
      "model_module_version": "1.1.0",
      "model_name": "ButtonModel",
      "state": {
       "button_style": "danger",
       "description": "weight=1, _0%",
       "layout": "IPY_MODEL_b4669dcd38a8440db2ebf890923bd22a",
       "style": "IPY_MODEL_a1f5b167deeb4c52b4c2a2ba9a820ae4"
      }
     },
     "3d7faa96e9e04d2281ccfd619d634c4c": {
      "model_module": "@jupyter-widgets/controls",
      "model_module_version": "1.1.0",
      "model_name": "ButtonStyleModel",
      "state": {}
     },
     "3d9b496a7ccb4e288ac39ceaf6b3d3ab": {
      "model_module": "@jupyter-widgets/controls",
      "model_module_version": "1.1.0",
      "model_name": "ButtonStyleModel",
      "state": {}
     },
     "3dab232b405b43a58483e077e61bdbcc": {
      "model_module": "@jupyter-widgets/controls",
      "model_module_version": "1.1.0",
      "model_name": "HBoxModel",
      "state": {
       "children": [
        "IPY_MODEL_d7d7f989f8b14073b38926ad47009c5a",
        "IPY_MODEL_84447ea46574451f888023d1020d2f9c"
       ],
       "layout": "IPY_MODEL_28644a21964441f4986bde27379ce02b"
      }
     },
     "3dd0e498bc4346e2af261325ab99b935": {
      "model_module": "@jupyter-widgets/controls",
      "model_module_version": "1.1.0",
      "model_name": "ButtonStyleModel",
      "state": {}
     },
     "3de123c8cbe34ec185b392461cdb6c54": {
      "model_module": "@jupyter-widgets/controls",
      "model_module_version": "1.1.0",
      "model_name": "ButtonModel",
      "state": {
       "button_style": "warning",
       "description": "15",
       "layout": "IPY_MODEL_2609a17cced145ad91b86d4ddfbd3bfd",
       "style": "IPY_MODEL_a5e5b52458924b0bb6ca9762c52409b6"
      }
     },
     "3def1b87217a4e8c92e203756d2711bc": {
      "model_module": "@jupyter-widgets/controls",
      "model_module_version": "1.1.0",
      "model_name": "ButtonModel",
      "state": {
       "description": "weight=2",
       "layout": "IPY_MODEL_aac52a0aab854d8e8abc297c1983c9dc",
       "style": "IPY_MODEL_2225e13de06047a0a324ad4555fc0db5"
      }
     },
     "3dfd668465e440118f1564a33f4c74e4": {
      "model_module": "@jupyter-widgets/controls",
      "model_module_version": "1.1.0",
      "model_name": "ButtonModel",
      "state": {
       "description": "correct",
       "layout": "IPY_MODEL_d8fe3ef1a6a8463bae6d38c429f5ed42",
       "style": "IPY_MODEL_8f652531882e4c85a5394972768d3fbd"
      }
     },
     "3e38785f21a740c889f4c4d608f7fd38": {
      "model_module": "@jupyter-widgets/controls",
      "model_module_version": "1.1.0",
      "model_name": "ButtonStyleModel",
      "state": {}
     },
     "3e44bbefe9b043348a375edce1015970": {
      "model_module": "@jupyter-widgets/controls",
      "model_module_version": "1.1.0",
      "model_name": "ButtonModel",
      "state": {
       "button_style": "danger",
       "description": "weight=1, auto",
       "layout": "IPY_MODEL_c55a6591e90a4770907f7d0c3591165d",
       "style": "IPY_MODEL_0b72ea356da744a18dba8e259ab1fb13"
      }
     },
     "3e4a5b89ebd44a3db283a7e1b36d9cf8": {
      "model_module": "@jupyter-widgets/controls",
      "model_module_version": "1.1.0",
      "model_name": "ButtonStyleModel",
      "state": {}
     },
     "3e50f5d4c6e240e8b698acfe69564df9": {
      "model_module": "@jupyter-widgets/controls",
      "model_module_version": "1.1.0",
      "model_name": "ButtonModel",
      "state": {
       "button_style": "danger",
       "description": "horse",
       "layout": "IPY_MODEL_c366761f53664b9b868f37fc6573d759",
       "style": "IPY_MODEL_0fea4196c7644b2780466c0b8306251d"
      }
     },
     "3e6a262bb08545ee91d48946cbbcaa0e": {
      "model_module": "@jupyter-widgets/controls",
      "model_module_version": "1.1.0",
      "model_name": "ButtonStyleModel",
      "state": {}
     },
     "3ec6fc5d079248a2b6fef91f45036ec1": {
      "model_module": "@jupyter-widgets/controls",
      "model_module_version": "1.1.0",
      "model_name": "LabelModel",
      "state": {
       "layout": "IPY_MODEL_5d912014a2b147f4929b0329e8c47efa",
       "style": "IPY_MODEL_7ebb964b36d64832a7dd1734c91bd9b8",
       "value": "A too long description"
      }
     },
     "3f10678c48bb4756be402df5892bf83a": {
      "model_module": "@jupyter-widgets/controls",
      "model_module_version": "1.1.0",
      "model_name": "ButtonModel",
      "state": {
       "description": "Custom color",
       "layout": "IPY_MODEL_84704b88881545b386f9b72783446bbf",
       "style": "IPY_MODEL_f88dee20c7b54c4a93b71787ec4d2e30"
      }
     },
     "3f10ba51b1954a4fab64a12ec1aeab5d": {
      "model_module": "@jupyter-widgets/controls",
      "model_module_version": "1.1.0",
      "model_name": "ButtonModel",
      "state": {
       "button_style": "warning",
       "description": "31",
       "layout": "IPY_MODEL_6abcd37e41034b2ca8a2c4c4ba0dca11",
       "style": "IPY_MODEL_309b722086224e5eab8b51125cd28bc3"
      }
     },
     "3f158a72be194a96bca079dd235edc48": {
      "model_module": "@jupyter-widgets/controls",
      "model_module_version": "1.1.0",
      "model_name": "ButtonStyleModel",
      "state": {}
     },
     "3f49a64624264d8abe1a00f80a342c21": {
      "model_module": "@jupyter-widgets/base",
      "model_module_version": "1.0.0",
      "model_name": "LayoutModel",
      "state": {
       "width": "auto"
      }
     },
     "3f4da8f93f77415bba480a230ab0a5fb": {
      "model_module": "@jupyter-widgets/base",
      "model_module_version": "1.0.0",
      "model_name": "LayoutModel",
      "state": {}
     },
     "3f7bc0f4ffbb4072b8c559319289a99c": {
      "model_module": "@jupyter-widgets/controls",
      "model_module_version": "1.1.0",
      "model_name": "FloatTextModel",
      "state": {
       "layout": "IPY_MODEL_93ca3bf8f5bb4a0596eab63c0b600680",
       "step": null,
       "style": "IPY_MODEL_a0ca0c36e11c4ed2a8f822ac774437cf"
      }
     },
     "3f98d12ec24f4535ae7487807f65cbf5": {
      "model_module": "@jupyter-widgets/controls",
      "model_module_version": "1.1.0",
      "model_name": "ButtonStyleModel",
      "state": {}
     },
     "3fbf5852d3714a24b8d8abbcd940eee7": {
      "model_module": "@jupyter-widgets/controls",
      "model_module_version": "1.1.0",
      "model_name": "ButtonStyleModel",
      "state": {}
     },
     "3fd473c0cde34517a4756d7d71487d65": {
      "model_module": "@jupyter-widgets/controls",
      "model_module_version": "1.1.0",
      "model_name": "ButtonStyleModel",
      "state": {}
     },
     "3ffff4807c4748c28f922b129c3f0517": {
      "model_module": "@jupyter-widgets/controls",
      "model_module_version": "1.1.0",
      "model_name": "ButtonStyleModel",
      "state": {}
     },
     "400a114c4b4a4f989bc45f5de5c1e1a9": {
      "model_module": "@jupyter-widgets/controls",
      "model_module_version": "1.1.0",
      "model_name": "ButtonModel",
      "state": {
       "button_style": "danger",
       "description": "weight=1, auto",
       "layout": "IPY_MODEL_926b544a07d24ec4bce5c7a6f261e0d4",
       "style": "IPY_MODEL_cbdd18688f4e4ffcae35955d481de2a6"
      }
     },
     "404079252b864088aae4345fb24206f0": {
      "model_module": "@jupyter-widgets/controls",
      "model_module_version": "1.1.0",
      "model_name": "ButtonModel",
      "state": {
       "button_style": "warning",
       "description": "36",
       "layout": "IPY_MODEL_6abcd37e41034b2ca8a2c4c4ba0dca11",
       "style": "IPY_MODEL_329d59538bad4e1bbf2c807b6fd89caa"
      }
     },
     "408c0990f51b4088965ec735547d9edf": {
      "model_module": "@jupyter-widgets/controls",
      "model_module_version": "1.1.0",
      "model_name": "ButtonModel",
      "state": {
       "description": "weight=2",
       "layout": "IPY_MODEL_5d92386cac3d452d8707e2b20b8a3091",
       "style": "IPY_MODEL_17c1b923cbbc41a48e937af846e96ca8"
      }
     },
     "40c385fe77bd4e1aabd6b6498d7ab15e": {
      "model_module": "@jupyter-widgets/controls",
      "model_module_version": "1.1.0",
      "model_name": "ButtonStyleModel",
      "state": {}
     },
     "40ffc9f6574749b1b8de840437770d2f": {
      "model_module": "@jupyter-widgets/controls",
      "model_module_version": "1.1.0",
      "model_name": "ButtonModel",
      "state": {
       "button_style": "warning",
       "description": "20",
       "layout": "IPY_MODEL_86c93170059349499a5f76156cbd8cdf",
       "style": "IPY_MODEL_d6cfa902402c4241a698ed4b8771fb74"
      }
     },
     "4142d55aad464e39822b7f70d9d49b39": {
      "model_module": "@jupyter-widgets/controls",
      "model_module_version": "1.1.0",
      "model_name": "VBoxModel",
      "state": {
       "children": [
        "IPY_MODEL_3dfd668465e440118f1564a33f4c74e4",
        "IPY_MODEL_531d416473434c0eaaa629aeabb005be"
       ],
       "layout": "IPY_MODEL_9757263eee1d4c3eb491103197390828"
      }
     },
     "4143f96ea4fc440ba3ec4d19da9fed03": {
      "model_module": "@jupyter-widgets/controls",
      "model_module_version": "1.1.0",
      "model_name": "ButtonStyleModel",
      "state": {}
     },
     "4150f1c5df394d77940cd5528eefbef7": {
      "model_module": "@jupyter-widgets/controls",
      "model_module_version": "1.1.0",
      "model_name": "DescriptionStyleModel",
      "state": {
       "description_width": ""
      }
     },
     "415db19e575d4283b920c50090f6f3c4": {
      "model_module": "@jupyter-widgets/controls",
      "model_module_version": "1.1.0",
      "model_name": "ButtonModel",
      "state": {
       "button_style": "warning",
       "description": "0",
       "layout": "IPY_MODEL_128139c1d2f94adbaaea71294ef22ff3",
       "style": "IPY_MODEL_748e8f8eb9af4679b04ee44af0d1b1a3"
      }
     },
     "416d5858784e4cf4b006dbe56fffb7fe": {
      "model_module": "@jupyter-widgets/controls",
      "model_module_version": "1.1.0",
      "model_name": "ButtonStyleModel",
      "state": {}
     },
     "418cfbfe57d04885bb64dcdb96055917": {
      "model_module": "@jupyter-widgets/controls",
      "model_module_version": "1.1.0",
      "model_name": "DescriptionStyleModel",
      "state": {
       "description_width": ""
      }
     },
     "41cc316a3db748d187d4c04159edba68": {
      "model_module": "@jupyter-widgets/controls",
      "model_module_version": "1.1.0",
      "model_name": "ButtonModel",
      "state": {
       "button_style": "danger",
       "description": "weight=2, auto",
       "layout": "IPY_MODEL_cb4356fb99cd41ee878d153268c58294",
       "style": "IPY_MODEL_6bf61ba234264970849e71e7ab0fcf3e"
      }
     },
     "4201890427b94b758e9eb886af0d7566": {
      "model_module": "@jupyter-widgets/controls",
      "model_module_version": "1.1.0",
      "model_name": "IntSliderModel",
      "state": {
       "layout": "IPY_MODEL_98e3083dc2294950a43e4c277eb14a04",
       "max": 60,
       "min": 40,
       "style": "IPY_MODEL_7a9ac0f37fa14022b63970f34f6b9bf7",
       "value": 40
      }
     },
     "42100ff802774b03b9a8e69fd0d0df2f": {
      "model_module": "@jupyter-widgets/controls",
      "model_module_version": "1.1.0",
      "model_name": "ButtonStyleModel",
      "state": {}
     },
     "4263b6f63d1948dc8a4d6ac8de41a03d": {
      "model_module": "@jupyter-widgets/controls",
      "model_module_version": "1.1.0",
      "model_name": "DescriptionStyleModel",
      "state": {
       "description_width": ""
      }
     },
     "42735b6e2a4d41c68fa83620ded4e462": {
      "model_module": "@jupyter-widgets/controls",
      "model_module_version": "1.1.0",
      "model_name": "VBoxModel",
      "state": {
       "children": [
        "IPY_MODEL_d844121e15bd42a583abca13e55c0351",
        "IPY_MODEL_1c5df0c07fbe428b85b58a3a4efdf0b9"
       ],
       "layout": "IPY_MODEL_2810a5256d0c4691ac5a9f578801e2f6"
      }
     },
     "429315edbcc449699597a588fcc583e0": {
      "model_module": "@jupyter-widgets/controls",
      "model_module_version": "1.1.0",
      "model_name": "HBoxModel",
      "state": {
       "children": [
        "IPY_MODEL_c2841761db014c61ade8fd5734c375a6",
        "IPY_MODEL_e54579921ee04e35909f1e6d6273ba26"
       ],
       "layout": "IPY_MODEL_ef91d2f6e73d4cb990f7b05f3226eeef"
      }
     },
     "42c0b61d27964a15a997e0249edd2f42": {
      "model_module": "@jupyter-widgets/controls",
      "model_module_version": "1.1.0",
      "model_name": "ButtonStyleModel",
      "state": {}
     },
     "42c5b4a9bec94fb5bbd57ce69e7c59f8": {
      "model_module": "@jupyter-widgets/controls",
      "model_module_version": "1.1.0",
      "model_name": "DescriptionStyleModel",
      "state": {
       "description_width": ""
      }
     },
     "432e9d15a70142f8acaac71593ba5abf": {
      "model_module": "@jupyter-widgets/base",
      "model_module_version": "1.0.0",
      "model_name": "LayoutModel",
      "state": {
       "width": "auto"
      }
     },
     "434094ff3cf44f989860b8327ff41da4": {
      "model_module": "@jupyter-widgets/controls",
      "model_module_version": "1.1.0",
      "model_name": "ButtonModel",
      "state": {
       "description": "weight=2, _0%",
       "layout": "IPY_MODEL_667b646c340e4218be7b21579a80155e",
       "style": "IPY_MODEL_751d18b0b0604598a4807077e1a880ec"
      }
     },
     "436c9e85a6ee47eeb3868f7f9574c546": {
      "model_module": "@jupyter-widgets/controls",
      "model_module_version": "1.1.0",
      "model_name": "ButtonModel",
      "state": {
       "button_style": "warning",
       "description": "32",
       "layout": "IPY_MODEL_616560d2e26b4bee8b7c903f483241f8",
       "style": "IPY_MODEL_7de5217394fe493f9b9c84e720b49701"
      }
     },
     "4373f28db626471cbd97750f724aed7a": {
      "model_module": "@jupyter-widgets/controls",
      "model_module_version": "1.1.0",
      "model_name": "ButtonModel",
      "state": {
       "button_style": "warning",
       "description": "9",
       "layout": "IPY_MODEL_5f4383735711415596954c7bc1a5bfd1",
       "style": "IPY_MODEL_13eea0b63d06486da3897f7e7f03bad2"
      }
     },
     "43f7b740f832480eb087238ffc9c7d85": {
      "model_module": "@jupyter-widgets/base",
      "model_module_version": "1.0.0",
      "model_name": "LayoutModel",
      "state": {}
     },
     "44289f15b03a445a8656ac095bb9817b": {
      "model_module": "@jupyter-widgets/base",
      "model_module_version": "1.0.0",
      "model_name": "LayoutModel",
      "state": {
       "flex": "2 1 0%",
       "width": "auto"
      }
     },
     "4429b4183284446a95175a34645db501": {
      "model_module": "@jupyter-widgets/controls",
      "model_module_version": "1.1.0",
      "model_name": "ButtonStyleModel",
      "state": {}
     },
     "4437208a60d14de2803863a1be420edf": {
      "model_module": "@jupyter-widgets/base",
      "model_module_version": "1.0.0",
      "model_name": "LayoutModel",
      "state": {}
     },
     "444301f6e759411d807537612c7cfe4e": {
      "model_module": "@jupyter-widgets/base",
      "model_module_version": "1.0.0",
      "model_name": "LayoutModel",
      "state": {
       "flex": "1 1 0%",
       "width": "auto"
      }
     },
     "444d7511471a4d278f1182213259f637": {
      "model_module": "@jupyter-widgets/controls",
      "model_module_version": "1.1.0",
      "model_name": "ButtonStyleModel",
      "state": {}
     },
     "4469e97d3a414ed1a89409f740d929fc": {
      "model_module": "@jupyter-widgets/controls",
      "model_module_version": "1.1.0",
      "model_name": "ButtonStyleModel",
      "state": {}
     },
     "448ab8f4a28842e487f4142371157af3": {
      "model_module": "@jupyter-widgets/base",
      "model_module_version": "1.0.0",
      "model_name": "LayoutModel",
      "state": {
       "height": "80px",
       "width": "50%"
      }
     },
     "448fccf4f6ab443c8d5bb806b9cc4815": {
      "model_module": "@jupyter-widgets/controls",
      "model_module_version": "1.1.0",
      "model_name": "ButtonModel",
      "state": {
       "button_style": "warning",
       "description": "26",
       "layout": "IPY_MODEL_2609a17cced145ad91b86d4ddfbd3bfd",
       "style": "IPY_MODEL_acf9f420d12f4d2f8de81a3e3baedfcb"
      }
     },
     "44988d1bff9241daa21b35e1ad909c4f": {
      "model_module": "@jupyter-widgets/base",
      "model_module_version": "1.0.0",
      "model_name": "LayoutModel",
      "state": {
       "flex": "1 1 0%",
       "width": "auto"
      }
     },
     "44c61e37e313419cb2878a92c08d212c": {
      "model_module": "@jupyter-widgets/controls",
      "model_module_version": "1.1.0",
      "model_name": "ButtonModel",
      "state": {
       "button_style": "warning",
       "description": "21",
       "layout": "IPY_MODEL_2609a17cced145ad91b86d4ddfbd3bfd",
       "style": "IPY_MODEL_5f3432a6d2e64224ade23fc9028e1f2a"
      }
     },
     "44cbef45c43747609e2dcf38d19fed93": {
      "model_module": "@jupyter-widgets/controls",
      "model_module_version": "1.1.0",
      "model_name": "LabelModel",
      "state": {
       "layout": "IPY_MODEL_8d4d339868af41c08c82404bb3da9444",
       "style": "IPY_MODEL_79a1e58da5784328aa01873c46a6ea6a",
       "value": "Scroll horizontally:"
      }
     },
     "44d023299e0c4af19dec52109adb2109": {
      "model_module": "@jupyter-widgets/controls",
      "model_module_version": "1.1.0",
      "model_name": "ButtonStyleModel",
      "state": {}
     },
     "44d310efa53e4f58bb22f5353809c064": {
      "model_module": "@jupyter-widgets/controls",
      "model_module_version": "1.1.0",
      "model_name": "ButtonStyleModel",
      "state": {}
     },
     "44fd90ce599e4422961655e2bcfa4046": {
      "model_module": "@jupyter-widgets/controls",
      "model_module_version": "1.1.0",
      "model_name": "IntSliderModel",
      "state": {
       "description": "\\(\\int_0^t f\\)",
       "layout": "IPY_MODEL_64bba450b39142ef87e00499ca6ecb07",
       "style": "IPY_MODEL_8adee3a6f1f0409dbc233f78393c756a"
      }
     },
     "45187f78492244acbdafbff605d128f1": {
      "model_module": "@jupyter-widgets/base",
      "model_module_version": "1.0.0",
      "model_name": "LayoutModel",
      "state": {}
     },
     "451e67d3e65442a48afc48ed496779d7": {
      "model_module": "@jupyter-widgets/controls",
      "model_module_version": "1.1.0",
      "model_name": "ButtonStyleModel",
      "state": {}
     },
     "454558797c9f48aa93bb9503b9b7d89f": {
      "model_module": "@jupyter-widgets/controls",
      "model_module_version": "1.1.0",
      "model_name": "ButtonStyleModel",
      "state": {}
     },
     "4621728bbc9843c3aa679f0aa8739a78": {
      "model_module": "@jupyter-widgets/base",
      "model_module_version": "1.0.0",
      "model_name": "LayoutModel",
      "state": {}
     },
     "4625d8a4440b47b2ad95a84722e0de2c": {
      "model_module": "@jupyter-widgets/base",
      "model_module_version": "1.0.0",
      "model_name": "LayoutModel",
      "state": {}
     },
     "463c698fbf6d4a5fb3ab27ff44da628c": {
      "model_module": "@jupyter-widgets/base",
      "model_module_version": "1.0.0",
      "model_name": "LayoutModel",
      "state": {
       "flex": "2 1 0%",
       "width": "auto"
      }
     },
     "46405c0615ed40688982ef199149ee0a": {
      "model_module": "@jupyter-widgets/controls",
      "model_module_version": "1.1.0",
      "model_name": "ButtonStyleModel",
      "state": {}
     },
     "464280bf48fa4863ba81e686d2bfd65b": {
      "model_module": "@jupyter-widgets/controls",
      "model_module_version": "1.1.0",
      "model_name": "ButtonModel",
      "state": {
       "description": "weight=2, auto",
       "layout": "IPY_MODEL_b663f57b9ed4440d95f4921ed69d7e25",
       "style": "IPY_MODEL_182c952682a04499aceab5e1903be1e5"
      }
     },
     "46429e39eeb1498d919647e65e27389f": {
      "model_module": "@jupyter-widgets/controls",
      "model_module_version": "1.1.0",
      "model_name": "ButtonModel",
      "state": {
       "button_style": "warning",
       "description": "26",
       "layout": "IPY_MODEL_9886a36bb356420e9e4d3c7cdd66e238",
       "style": "IPY_MODEL_89ed9394beb24259bb149c7e3d24f315"
      }
     },
     "4666e90997084ffebe519d20bb1bffb0": {
      "model_module": "@jupyter-widgets/controls",
      "model_module_version": "1.1.0",
      "model_name": "ButtonModel",
      "state": {
       "button_style": "danger",
       "description": "correct",
       "layout": "IPY_MODEL_1e1fd102735342b8b1b0c3ce484e3628",
       "style": "IPY_MODEL_589afeb221384a0c8428b12999b9d3f2"
      }
     },
     "46f580b57b424fe496b17a3549dbe2dc": {
      "model_module": "@jupyter-widgets/controls",
      "model_module_version": "1.1.0",
      "model_name": "ButtonModel",
      "state": {
       "description": "weight=1, auto",
       "layout": "IPY_MODEL_146aef1065d14f7baa8f86baa499c108",
       "style": "IPY_MODEL_31b0bba2a03a49c4ac0ecd600c163415"
      }
     },
     "46f5a6d4d51743aba774b33a5a046e89": {
      "model_module": "@jupyter-widgets/controls",
      "model_module_version": "1.1.0",
      "model_name": "ButtonStyleModel",
      "state": {}
     },
     "46fdad1134944cae8ace2359684b1657": {
      "model_module": "@jupyter-widgets/controls",
      "model_module_version": "1.1.0",
      "model_name": "VBoxModel",
      "state": {
       "children": [
        "IPY_MODEL_124de595c10143d0bc77c23afcad40ed",
        "IPY_MODEL_dcd93826003a4c218564b24b2bd3b475"
       ],
       "layout": "IPY_MODEL_6e05dfee8fad48989779491e5b648325"
      }
     },
     "472d56b85109477eb9d55f3944d564d0": {
      "model_module": "@jupyter-widgets/controls",
      "model_module_version": "1.1.0",
      "model_name": "ButtonStyleModel",
      "state": {}
     },
     "475a8daf3a8240c09c31e81889e0b25e": {
      "model_module": "@jupyter-widgets/controls",
      "model_module_version": "1.1.0",
      "model_name": "BoxModel",
      "state": {
       "children": [
        "IPY_MODEL_d81499fb8151423d956219d600cec01c",
        "IPY_MODEL_929d26a3a82240ed9bb2cc9c6619bf2a",
        "IPY_MODEL_6b3a4ceaac7c43f8b33670e2664fbf59"
       ],
       "layout": "IPY_MODEL_0588d501e6124026b9e6287a44746fa2"
      }
     },
     "475bb9d5a89949108f48284cd834faf3": {
      "model_module": "@jupyter-widgets/controls",
      "model_module_version": "1.1.0",
      "model_name": "ButtonModel",
      "state": {
       "button_style": "warning",
       "description": "6",
       "layout": "IPY_MODEL_128139c1d2f94adbaaea71294ef22ff3",
       "style": "IPY_MODEL_3b4b1a6f79684217b19fd270a5ada83d"
      }
     },
     "4760b10562d34cbea219c5bdbee3956d": {
      "model_module": "@jupyter-widgets/controls",
      "model_module_version": "1.1.0",
      "model_name": "ButtonStyleModel",
      "state": {}
     },
     "476d2dae045441c0ba5737ed482b1078": {
      "model_module": "@jupyter-widgets/controls",
      "model_module_version": "1.1.0",
      "model_name": "ButtonModel",
      "state": {
       "description": "horse",
       "layout": "IPY_MODEL_d0e7962f9fa64cf2a24adb2f6e797df0",
       "style": "IPY_MODEL_968b61840ec645c49b48ec1ac82b0e5f"
      }
     },
     "479121b017bc4f7488431461faa34579": {
      "model_module": "@jupyter-widgets/controls",
      "model_module_version": "1.1.0",
      "model_name": "ButtonModel",
      "state": {
       "button_style": "warning",
       "description": "9",
       "layout": "IPY_MODEL_128139c1d2f94adbaaea71294ef22ff3",
       "style": "IPY_MODEL_59390aacdd674d6aac990e7b2501fd1f"
      }
     },
     "4795390ab4964d26bcd7b56a9b583e43": {
      "model_module": "@jupyter-widgets/controls",
      "model_module_version": "1.1.0",
      "model_name": "ButtonStyleModel",
      "state": {}
     },
     "481da89c911c457f85a5847dd15274c3": {
      "model_module": "@jupyter-widgets/controls",
      "model_module_version": "1.1.0",
      "model_name": "ButtonModel",
      "state": {
       "button_style": "warning",
       "description": "2",
       "layout": "IPY_MODEL_0606cbc317604fbdbaea9d3fd0b2d14a",
       "style": "IPY_MODEL_73264e2bc6144a56b22b25025c2418ee"
      }
     },
     "488ee290cffb481d89e6530e1258dced": {
      "model_module": "@jupyter-widgets/controls",
      "model_module_version": "1.1.0",
      "model_name": "ButtonStyleModel",
      "state": {}
     },
     "48a70b7e15a34a349ae21271bba2f1b1": {
      "model_module": "@jupyter-widgets/controls",
      "model_module_version": "1.1.0",
      "model_name": "ButtonStyleModel",
      "state": {}
     },
     "48b80f01817c432daedf5417f9612424": {
      "model_module": "@jupyter-widgets/base",
      "model_module_version": "1.0.0",
      "model_name": "LayoutModel",
      "state": {
       "flex": "2 1 auto",
       "width": "auto"
      }
     },
     "48c28ecf8ba54a329c6b551c647d7651": {
      "model_module": "@jupyter-widgets/controls",
      "model_module_version": "1.1.0",
      "model_name": "ButtonModel",
      "state": {
       "button_style": "warning",
       "description": "1",
       "layout": "IPY_MODEL_1d10072127cb4a32968374fdb7bd2479",
       "style": "IPY_MODEL_3c3623d32b83444ba76f049d987f81e3"
      }
     },
     "490fb802b0c24487b1c79d9efd0aa28b": {
      "model_module": "@jupyter-widgets/controls",
      "model_module_version": "1.1.0",
      "model_name": "ButtonStyleModel",
      "state": {}
     },
     "49237049f31d492dba4c5c0fe487bc78": {
      "model_module": "@jupyter-widgets/controls",
      "model_module_version": "1.1.0",
      "model_name": "ButtonModel",
      "state": {
       "description": "weight=1",
       "layout": "IPY_MODEL_9c6b6bd3db0042fe8a961559fbc3ae25",
       "style": "IPY_MODEL_0f15205e3fd647a5851882092398f15f"
      }
     },
     "493b1734af084ebf8d63f80925eb70cd": {
      "model_module": "@jupyter-widgets/controls",
      "model_module_version": "1.1.0",
      "model_name": "ButtonStyleModel",
      "state": {}
     },
     "498de56251cc4485bd9db456578ac1e5": {
      "model_module": "@jupyter-widgets/controls",
      "model_module_version": "1.1.0",
      "model_name": "ButtonStyleModel",
      "state": {}
     },
     "4996f26142834a378b7ed7cc3a941f05": {
      "model_module": "@jupyter-widgets/controls",
      "model_module_version": "1.1.0",
      "model_name": "VBoxModel",
      "state": {
       "children": [
        "IPY_MODEL_fefbd7e119b04c1f9fb5290a98070844",
        "IPY_MODEL_a1c65eeb03fd4baea1f16897d365df27"
       ],
       "layout": "IPY_MODEL_f59486b65db144289a8496f814c1efc5"
      }
     },
     "49a7e1d1312d4ffe8474b415b5a326e0": {
      "model_module": "@jupyter-widgets/controls",
      "model_module_version": "1.1.0",
      "model_name": "ButtonStyleModel",
      "state": {}
     },
     "49aaa16298d54a1383a0f537c9eba76c": {
      "model_module": "@jupyter-widgets/base",
      "model_module_version": "1.0.0",
      "model_name": "LayoutModel",
      "state": {
       "border": "3px solid black",
       "display": "flex",
       "height": "",
       "overflow_x": "scroll",
       "width": "500px"
      }
     },
     "4a0fbcac67e9450f9a7ab53d9a4e7bd2": {
      "model_module": "@jupyter-widgets/controls",
      "model_module_version": "1.1.0",
      "model_name": "ButtonModel",
      "state": {
       "button_style": "warning",
       "description": "2",
       "layout": "IPY_MODEL_616560d2e26b4bee8b7c903f483241f8",
       "style": "IPY_MODEL_776df2b13cd24636885852ae3a0745b7"
      }
     },
     "4a136b995bdd4a42aebd5d5af1edb446": {
      "model_module": "@jupyter-widgets/controls",
      "model_module_version": "1.1.0",
      "model_name": "ButtonModel",
      "state": {
       "button_style": "warning",
       "description": "28",
       "layout": "IPY_MODEL_5a006e2933db480cbe6187ccadf63fd7",
       "style": "IPY_MODEL_9f66d9a525e84eaba1477d579675f13d"
      }
     },
     "4a159827cd7141ada6369fd514456289": {
      "model_module": "@jupyter-widgets/base",
      "model_module_version": "1.0.0",
      "model_name": "LayoutModel",
      "state": {
       "flex": "1 1 0%",
       "width": "auto"
      }
     },
     "4a16075f176342a291372d4c317da9d3": {
      "model_module": "@jupyter-widgets/base",
      "model_module_version": "1.0.0",
      "model_name": "LayoutModel",
      "state": {
       "flex": "2 1 auto",
       "width": "auto"
      }
     },
     "4a282fe84af443ddbc18638f25f1b2aa": {
      "model_module": "@jupyter-widgets/base",
      "model_module_version": "1.0.0",
      "model_name": "LayoutModel",
      "state": {}
     },
     "4a318ff5b6764f88bee907cbc6ab8489": {
      "model_module": "@jupyter-widgets/controls",
      "model_module_version": "1.1.0",
      "model_name": "DescriptionStyleModel",
      "state": {
       "description_width": ""
      }
     },
     "4a4ee071496e48feaa201f8217297585": {
      "model_module": "@jupyter-widgets/controls",
      "model_module_version": "1.1.0",
      "model_name": "ButtonModel",
      "state": {
       "button_style": "warning",
       "description": "23",
       "layout": "IPY_MODEL_0606cbc317604fbdbaea9d3fd0b2d14a",
       "style": "IPY_MODEL_0c5c327df2af4a25bbe7f2220fd4d1d3"
      }
     },
     "4a539eacd90d472f90e3b6c87eeddf78": {
      "model_module": "@jupyter-widgets/base",
      "model_module_version": "1.0.0",
      "model_name": "LayoutModel",
      "state": {}
     },
     "4a8392c1d6b14c1999414b142df23986": {
      "model_module": "@jupyter-widgets/controls",
      "model_module_version": "1.1.0",
      "model_name": "ButtonModel",
      "state": {
       "button_style": "warning",
       "description": "28",
       "layout": "IPY_MODEL_5f4383735711415596954c7bc1a5bfd1",
       "style": "IPY_MODEL_3b77059c179a4a9f9017f3c433675975"
      }
     },
     "4a938c5eef8348e38c6d1d580e0dfceb": {
      "model_module": "@jupyter-widgets/controls",
      "model_module_version": "1.1.0",
      "model_name": "SliderStyleModel",
      "state": {
       "description_width": "",
       "handle_color": "lightblue"
      }
     },
     "4ae11bf0773e403da487fc7e68126c95": {
      "model_module": "@jupyter-widgets/controls",
      "model_module_version": "1.1.0",
      "model_name": "ButtonModel",
      "state": {
       "button_style": "danger",
       "description": "battery",
       "layout": "IPY_MODEL_b552cfe26e0c43508b1080ce200578bd",
       "style": "IPY_MODEL_18e7f2ebdb0647c69ef15c31b5999dc6"
      }
     },
     "4ae6d00eaa6d4660ad3fb0b4a818135a": {
      "model_module": "@jupyter-widgets/controls",
      "model_module_version": "1.1.0",
      "model_name": "ButtonStyleModel",
      "state": {}
     },
     "4aeee26c12824662a5c702a014962325": {
      "model_module": "@jupyter-widgets/controls",
      "model_module_version": "1.1.0",
      "model_name": "ButtonModel",
      "state": {
       "description": "(50% width, 80px height) button",
       "layout": "IPY_MODEL_448ab8f4a28842e487f4142371157af3",
       "style": "IPY_MODEL_e47052bfc9974d40b6c6b167a685065a"
      }
     },
     "4b50010f8ba3489e969fcb801dac5b18": {
      "model_module": "@jupyter-widgets/controls",
      "model_module_version": "1.1.0",
      "model_name": "ButtonModel",
      "state": {
       "description": "weight=1, --0%",
       "layout": "IPY_MODEL_66a8cb58b075466782d893d1fe564ab3",
       "style": "IPY_MODEL_a180d70bd5614452bd2aea17f29214ba"
      }
     },
     "4b94e77af95a4331b7dbe5e1885ae202": {
      "model_module": "@jupyter-widgets/controls",
      "model_module_version": "1.1.0",
      "model_name": "ButtonStyleModel",
      "state": {}
     },
     "4b9b4efc50eb48caaadb25bb6cb01652": {
      "model_module": "@jupyter-widgets/controls",
      "model_module_version": "1.1.0",
      "model_name": "ButtonStyleModel",
      "state": {}
     },
     "4ba6326177a1413480dcf5610295c554": {
      "model_module": "@jupyter-widgets/base",
      "model_module_version": "1.0.0",
      "model_name": "LayoutModel",
      "state": {
       "flex": "1 1 auto",
       "width": "auto"
      }
     },
     "4bc1dd15668e45be8ca92be6b12d5e58": {
      "model_module": "@jupyter-widgets/controls",
      "model_module_version": "1.1.0",
      "model_name": "ButtonModel",
      "state": {
       "description": "horse",
       "layout": "IPY_MODEL_66b4474973da4fb98145cc0114703723",
       "style": "IPY_MODEL_0c922727d5b84f8d83fb245bff63d2ea"
      }
     },
     "4bcaa7baa5c64a0187d40a4e323cd872": {
      "model_module": "@jupyter-widgets/base",
      "model_module_version": "1.0.0",
      "model_name": "LayoutModel",
      "state": {}
     },
     "4beb69704cd14f9ebfe74849153f9741": {
      "model_module": "@jupyter-widgets/controls",
      "model_module_version": "1.1.0",
      "model_name": "ButtonStyleModel",
      "state": {}
     },
     "4c014e8be8d64bb599a70e3dce433363": {
      "model_module": "@jupyter-widgets/controls",
      "model_module_version": "1.1.0",
      "model_name": "ButtonStyleModel",
      "state": {}
     },
     "4c132c17fd4d442f9a007a27397d2f9b": {
      "model_module": "@jupyter-widgets/controls",
      "model_module_version": "1.1.0",
      "model_name": "ButtonStyleModel",
      "state": {}
     },
     "4c278d33d7a24eedbf5aca08a2b62025": {
      "model_module": "@jupyter-widgets/controls",
      "model_module_version": "1.1.0",
      "model_name": "VBoxModel",
      "state": {
       "children": [
        "IPY_MODEL_e664bdbb6a08479b8aef9b8e7a0579c3",
        "IPY_MODEL_4bc1dd15668e45be8ca92be6b12d5e58"
       ],
       "layout": "IPY_MODEL_d9a45cb023ea49df98748d985b1be01f"
      }
     },
     "4c2d648a95f94248ab2a0e3c1c1baabe": {
      "model_module": "@jupyter-widgets/controls",
      "model_module_version": "1.1.0",
      "model_name": "ButtonModel",
      "state": {
       "button_style": "warning",
       "description": "9",
       "layout": "IPY_MODEL_86c93170059349499a5f76156cbd8cdf",
       "style": "IPY_MODEL_1b969a5a33434407ac600334c65b44bd"
      }
     },
     "4c2d669971824770964897023391a387": {
      "model_module": "@jupyter-widgets/controls",
      "model_module_version": "1.1.0",
      "model_name": "ButtonModel",
      "state": {
       "button_style": "danger",
       "description": "weight=1, _0%",
       "layout": "IPY_MODEL_b74e71d942724ca0b4f490c6df8307cc",
       "style": "IPY_MODEL_392b9248ded248b18418a04122e78a69"
      }
     },
     "4c30e2d88a8c43c19653132eb8ba3f0f": {
      "model_module": "@jupyter-widgets/base",
      "model_module_version": "1.0.0",
      "model_name": "LayoutModel",
      "state": {}
     },
     "4c3bf7a475d742808314b5a1df88b1d2": {
      "model_module": "@jupyter-widgets/base",
      "model_module_version": "1.0.0",
      "model_name": "LayoutModel",
      "state": {}
     },
     "4c53f85abb5648e58a3835b0e9c63e89": {
      "model_module": "@jupyter-widgets/controls",
      "model_module_version": "1.1.0",
      "model_name": "ButtonStyleModel",
      "state": {}
     },
     "4c5cc25b262f439492819226ee55c024": {
      "model_module": "@jupyter-widgets/controls",
      "model_module_version": "1.1.0",
      "model_name": "ButtonStyleModel",
      "state": {}
     },
     "4c5f9139a8594f5fa70207e212f83a0c": {
      "model_module": "@jupyter-widgets/base",
      "model_module_version": "1.0.0",
      "model_name": "LayoutModel",
      "state": {
       "flex": "3 1 0%",
       "width": "auto"
      }
     },
     "4c9a9883bd9f4186ad0c1232ef818c4d": {
      "model_module": "@jupyter-widgets/base",
      "model_module_version": "1.0.0",
      "model_name": "LayoutModel",
      "state": {
       "align_items": "stretch",
       "border": "solid",
       "display": "flex",
       "flex_flow": "column",
       "width": "50%"
      }
     },
     "4cb181459a6340d1bd3b6b3db68f7a23": {
      "model_module": "@jupyter-widgets/controls",
      "model_module_version": "1.1.0",
      "model_name": "ButtonModel",
      "state": {
       "button_style": "danger",
       "description": "staple",
       "layout": "IPY_MODEL_1e1fd102735342b8b1b0c3ce484e3628",
       "style": "IPY_MODEL_57a3df89147f46c9bdb77da63724971c"
      }
     },
     "4cb995bc24f04fd38d6c319fda91e34f": {
      "model_module": "@jupyter-widgets/controls",
      "model_module_version": "1.1.0",
      "model_name": "ButtonModel",
      "state": {
       "description": "weight=1, auto",
       "layout": "IPY_MODEL_b70625984d2c4f84bdbc932c68b15f51",
       "style": "IPY_MODEL_a56585e49c774eaf8a92d62f28f949e8"
      }
     },
     "4cc2c5d68369416fa1e0c69092aef7f0": {
      "model_module": "@jupyter-widgets/controls",
      "model_module_version": "1.1.0",
      "model_name": "ButtonStyleModel",
      "state": {}
     },
     "4cf51c472f70459895f751c145ea37cc": {
      "model_module": "@jupyter-widgets/controls",
      "model_module_version": "1.1.0",
      "model_name": "ButtonModel",
      "state": {
       "description": "weight=1",
       "layout": "IPY_MODEL_d2130f3e301b4cb9a4ca202a041384e6",
       "style": "IPY_MODEL_8fc24b43e4c9471e846ca6163b45998b"
      }
     },
     "4d264e0c05564486a9915059989c422e": {
      "model_module": "@jupyter-widgets/base",
      "model_module_version": "1.0.0",
      "model_name": "LayoutModel",
      "state": {
       "align_items": "stretch",
       "border": "solid",
       "display": "flex",
       "flex_flow": "row",
       "width": "50%"
      }
     },
     "4d2776f4da344730aa5cb894d5f76a03": {
      "model_module": "@jupyter-widgets/controls",
      "model_module_version": "1.1.0",
      "model_name": "ButtonStyleModel",
      "state": {}
     },
     "4dd0992f6a7e4fbdaed0e221e1ee34d2": {
      "model_module": "@jupyter-widgets/base",
      "model_module_version": "1.0.0",
      "model_name": "LayoutModel",
      "state": {}
     },
     "4deea6db0ec84e5691209980fa0d3953": {
      "model_module": "@jupyter-widgets/controls",
      "model_module_version": "1.1.0",
      "model_name": "ButtonStyleModel",
      "state": {}
     },
     "4e396823358b4f54abfe85968b1bc2cb": {
      "model_module": "@jupyter-widgets/controls",
      "model_module_version": "1.1.0",
      "model_name": "ButtonModel",
      "state": {
       "button_style": "warning",
       "description": "10",
       "layout": "IPY_MODEL_4f96c205ba6c46e196e16241cfe4cf24",
       "style": "IPY_MODEL_4f365f15addd4a7d9d926b8e4a61e07b"
      }
     },
     "4e6a91179f2749ffbb811f237feb7980": {
      "model_module": "@jupyter-widgets/controls",
      "model_module_version": "1.1.0",
      "model_name": "ButtonStyleModel",
      "state": {}
     },
     "4e7890b59344405fb9aa10582b33912d": {
      "model_module": "@jupyter-widgets/controls",
      "model_module_version": "1.1.0",
      "model_name": "ButtonStyleModel",
      "state": {}
     },
     "4e78e99b94624044961f9a2aff616578": {
      "model_module": "@jupyter-widgets/base",
      "model_module_version": "1.0.0",
      "model_name": "LayoutModel",
      "state": {}
     },
     "4ed102fc1e4345809ee6c647d144deca": {
      "model_module": "@jupyter-widgets/controls",
      "model_module_version": "1.1.0",
      "model_name": "ButtonModel",
      "state": {
       "button_style": "warning",
       "description": "16",
       "layout": "IPY_MODEL_616560d2e26b4bee8b7c903f483241f8",
       "style": "IPY_MODEL_f053f96b74334d549a7542d7de120df7"
      }
     },
     "4ed86549c73c4e9aa2dd9a5afeb4fba8": {
      "model_module": "@jupyter-widgets/controls",
      "model_module_version": "1.1.0",
      "model_name": "ButtonStyleModel",
      "state": {}
     },
     "4f21114034c14aff9061ddc9a83c64fc": {
      "model_module": "@jupyter-widgets/controls",
      "model_module_version": "1.1.0",
      "model_name": "ButtonStyleModel",
      "state": {}
     },
     "4f2ea89743eb4c2b9fb45013addd5ce5": {
      "model_module": "@jupyter-widgets/base",
      "model_module_version": "1.0.0",
      "model_name": "LayoutModel",
      "state": {
       "align_items": "stretch",
       "display": "flex",
       "flex_flow": "row",
       "width": "70%"
      }
     },
     "4f365f15addd4a7d9d926b8e4a61e07b": {
      "model_module": "@jupyter-widgets/controls",
      "model_module_version": "1.1.0",
      "model_name": "ButtonStyleModel",
      "state": {}
     },
     "4f3904fcd437498b959074e1b5f55142": {
      "model_module": "@jupyter-widgets/controls",
      "model_module_version": "1.1.0",
      "model_name": "ButtonModel",
      "state": {
       "button_style": "danger",
       "description": "weight=1, auto",
       "layout": "IPY_MODEL_1dcef2e5711045dab665e62c8d8266ba",
       "style": "IPY_MODEL_c794f665ccf04c168d00b9b3ac6ec7f4"
      }
     },
     "4f4856926d1a4a108f4c2c67e8aed4c4": {
      "model_module": "@jupyter-widgets/base",
      "model_module_version": "1.0.0",
      "model_name": "LayoutModel",
      "state": {
       "align_items": "stretch",
       "border": "solid 2px",
       "display": "flex",
       "flex_flow": "column",
       "width": "50%"
      }
     },
     "4f6539573ba34b319d2488958a52ed3a": {
      "model_module": "@jupyter-widgets/controls",
      "model_module_version": "1.1.0",
      "model_name": "ButtonStyleModel",
      "state": {}
     },
     "4f7b7820f62a44a586cda1114d105a93": {
      "model_module": "@jupyter-widgets/base",
      "model_module_version": "1.0.0",
      "model_name": "LayoutModel",
      "state": {}
     },
     "4f81ddc5ab8e4ae7b3583714235fb747": {
      "model_module": "@jupyter-widgets/base",
      "model_module_version": "1.0.0",
      "model_name": "LayoutModel",
      "state": {
       "align_items": "stretch",
       "border": "solid",
       "display": "flex",
       "flex_flow": "row",
       "width": "50%"
      }
     },
     "4f8527d43ced46098c0f1fbf400740b5": {
      "model_module": "@jupyter-widgets/controls",
      "model_module_version": "1.1.0",
      "model_name": "ButtonModel",
      "state": {
       "button_style": "warning",
       "description": "18",
       "layout": "IPY_MODEL_4f96c205ba6c46e196e16241cfe4cf24",
       "style": "IPY_MODEL_121345a7bf874ac282204d241ea9c79c"
      }
     },
     "4f96c205ba6c46e196e16241cfe4cf24": {
      "model_module": "@jupyter-widgets/base",
      "model_module_version": "1.0.0",
      "model_name": "LayoutModel",
      "state": {
       "height": "100px",
       "min_width": "40px"
      }
     },
     "4f9abbedd70a4fc7abfebb49b98722c7": {
      "model_module": "@jupyter-widgets/controls",
      "model_module_version": "1.1.0",
      "model_name": "ButtonStyleModel",
      "state": {}
     },
     "4fbca35e73b54e078c9d2b95ddd79e9b": {
      "model_module": "@jupyter-widgets/controls",
      "model_module_version": "1.1.0",
      "model_name": "ButtonModel",
      "state": {
       "button_style": "warning",
       "description": "0",
       "layout": "IPY_MODEL_5f4383735711415596954c7bc1a5bfd1",
       "style": "IPY_MODEL_5c1b22e58e1d42e997904517441a3ec9"
      }
     },
     "4ffd5bf26ffd452f96084bb150552654": {
      "model_module": "@jupyter-widgets/controls",
      "model_module_version": "1.1.0",
      "model_name": "VBoxModel",
      "state": {
       "children": [
        "IPY_MODEL_7c1d6254280345dc9db36c396dc69bf4",
        "IPY_MODEL_1d6e57e313d44639924e80d217b0720a"
       ],
       "layout": "IPY_MODEL_0c8f738c45de49919e781366cf228c19"
      }
     },
     "500881966f90448e9d63e246cb7b3c18": {
      "model_module": "@jupyter-widgets/controls",
      "model_module_version": "1.1.0",
      "model_name": "IntSliderModel",
      "state": {
       "description": "Blue handle",
       "layout": "IPY_MODEL_2c997010804b43e3af62a641286b7147",
       "style": "IPY_MODEL_4a938c5eef8348e38c6d1d580e0dfceb"
      }
     },
     "50182995712b4b7ab85ea9eb9ef93513": {
      "model_module": "@jupyter-widgets/controls",
      "model_module_version": "1.1.0",
      "model_name": "ButtonModel",
      "state": {
       "button_style": "warning",
       "description": "22",
       "layout": "IPY_MODEL_128139c1d2f94adbaaea71294ef22ff3",
       "style": "IPY_MODEL_2a4d3e8811094ec9bc260ef1230eb1a3"
      }
     },
     "5020983ce43c44c3897411eb70214563": {
      "model_module": "@jupyter-widgets/base",
      "model_module_version": "1.0.0",
      "model_name": "LayoutModel",
      "state": {}
     },
     "5063f970b3624c3b9aa54e639cf768e4": {
      "model_module": "@jupyter-widgets/controls",
      "model_module_version": "1.1.0",
      "model_name": "ButtonModel",
      "state": {
       "button_style": "warning",
       "description": "2",
       "layout": "IPY_MODEL_1d10072127cb4a32968374fdb7bd2479",
       "style": "IPY_MODEL_f19df83f360f4ab5a8e768aaf5549ea3"
      }
     },
     "50690bc2a1d144fca277819682bb3690": {
      "model_module": "@jupyter-widgets/controls",
      "model_module_version": "1.1.0",
      "model_name": "ButtonStyleModel",
      "state": {}
     },
     "50ae45af4cf64c4aa35dbf4dc80420eb": {
      "model_module": "@jupyter-widgets/base",
      "model_module_version": "1.0.0",
      "model_name": "LayoutModel",
      "state": {
       "align_items": "stretch",
       "border": "solid",
       "display": "flex",
       "flex_flow": "row",
       "width": "70%"
      }
     },
     "50d4df3519a646ebba0b185716aa8589": {
      "model_module": "@jupyter-widgets/base",
      "model_module_version": "1.0.0",
      "model_name": "LayoutModel",
      "state": {
       "align_items": "stretch",
       "border": "solid",
       "display": "flex",
       "flex_flow": "column",
       "width": "50%"
      }
     },
     "5101bbd17a7b4083afe60f555956367e": {
      "model_module": "@jupyter-widgets/controls",
      "model_module_version": "1.1.0",
      "model_name": "SliderStyleModel",
      "state": {
       "description_width": ""
      }
     },
     "5114d207dac84e169ab07bc4273d6132": {
      "model_module": "@jupyter-widgets/controls",
      "model_module_version": "1.1.0",
      "model_name": "ButtonModel",
      "state": {
       "description": "weight=1, auto",
       "layout": "IPY_MODEL_bc26d7e2dd444f92a32b2e542ddbc47b",
       "style": "IPY_MODEL_4f21114034c14aff9061ddc9a83c64fc"
      }
     },
     "511db23495664ad7a3e3b2c3ec61101b": {
      "model_module": "@jupyter-widgets/controls",
      "model_module_version": "1.1.0",
      "model_name": "ButtonStyleModel",
      "state": {}
     },
     "51784868989e4b48b7ca46f507c8bb64": {
      "model_module": "@jupyter-widgets/controls",
      "model_module_version": "1.1.0",
      "model_name": "ButtonModel",
      "state": {
       "button_style": "warning",
       "description": "22",
       "layout": "IPY_MODEL_9886a36bb356420e9e4d3c7cdd66e238",
       "style": "IPY_MODEL_a57724641c7c4a2aaf8ade8d24ad67d9"
      }
     },
     "51878a770d3f4bdc936e567beec89be7": {
      "model_module": "@jupyter-widgets/controls",
      "model_module_version": "1.1.0",
      "model_name": "ButtonModel",
      "state": {
       "button_style": "warning",
       "description": "17",
       "layout": "IPY_MODEL_f97c294201b54222ba61666297c61c75",
       "style": "IPY_MODEL_31aa2afa702c4d4a9e58e1d554893920"
      }
     },
     "519d2b391cb344eba7ccbfd9febfecc3": {
      "model_module": "@jupyter-widgets/controls",
      "model_module_version": "1.1.0",
      "model_name": "ButtonStyleModel",
      "state": {}
     },
     "51a719a9441740bca621f8d29144c630": {
      "model_module": "@jupyter-widgets/controls",
      "model_module_version": "1.1.0",
      "model_name": "BoxModel",
      "state": {
       "children": [
        "IPY_MODEL_a8181ec2137e41a1892630fe1826b214",
        "IPY_MODEL_335e9607a9964e97a9b4d9c1e4aa9504"
       ],
       "layout": "IPY_MODEL_d7039aeff9cc4d7ab13b4c231b67969f"
      }
     },
     "51bbf3287b6a4a1b841dea17d06523f3": {
      "model_module": "@jupyter-widgets/controls",
      "model_module_version": "1.1.0",
      "model_name": "ButtonModel",
      "state": {
       "button_style": "warning",
       "description": "3",
       "layout": "IPY_MODEL_f97c294201b54222ba61666297c61c75",
       "style": "IPY_MODEL_fad4fe75df344e62a2b8052dd9410f04"
      }
     },
     "51c483d5392c4e5ab43ea8946cf34536": {
      "model_module": "@jupyter-widgets/controls",
      "model_module_version": "1.1.0",
      "model_name": "ButtonStyleModel",
      "state": {}
     },
     "51f9ec53b1b0469a8c31e195bad63d36": {
      "model_module": "@jupyter-widgets/controls",
      "model_module_version": "1.1.0",
      "model_name": "ButtonModel",
      "state": {
       "button_style": "warning",
       "description": "11",
       "layout": "IPY_MODEL_9886a36bb356420e9e4d3c7cdd66e238",
       "style": "IPY_MODEL_65a2aa4dded849bd99eb15aff08a02c1"
      }
     },
     "51ffd25947cf45d7bf0eca9951b399d0": {
      "model_module": "@jupyter-widgets/base",
      "model_module_version": "1.0.0",
      "model_name": "LayoutModel",
      "state": {
       "flex": "1 1 auto",
       "width": "auto"
      }
     },
     "521772e7dc1e439da2484b76ad0fbeec": {
      "model_module": "@jupyter-widgets/controls",
      "model_module_version": "1.1.0",
      "model_name": "ButtonModel",
      "state": {
       "button_style": "warning",
       "description": "39",
       "layout": "IPY_MODEL_6abcd37e41034b2ca8a2c4c4ba0dca11",
       "style": "IPY_MODEL_15bb11c13c2f4f48a49ce43318c94d6d"
      }
     },
     "522070754aad4c539faa50e8dc29db24": {
      "model_module": "@jupyter-widgets/controls",
      "model_module_version": "1.1.0",
      "model_name": "BoxModel",
      "state": {
       "children": [
        "IPY_MODEL_b37b29d2cf554cac958beb6083a9b23a",
        "IPY_MODEL_24c6f9ddb23b4cba8b0effc49cd157d0",
        "IPY_MODEL_e441e870fdec4b89930e9dee703f3c62",
        "IPY_MODEL_141c0bdcfdbb45d8be6d258e47f9bfa8"
       ],
       "layout": "IPY_MODEL_c0eaf176e94f44d8a1a7a39d0c247562"
      }
     },
     "522a6e487ef14593b30f18ccd5bad07e": {
      "model_module": "@jupyter-widgets/controls",
      "model_module_version": "1.1.0",
      "model_name": "ButtonModel",
      "state": {
       "button_style": "warning",
       "description": "16",
       "layout": "IPY_MODEL_9886a36bb356420e9e4d3c7cdd66e238",
       "style": "IPY_MODEL_8aeb09f924834b6c850720e27b91b0bd"
      }
     },
     "5251ad89f416411ab85f623e8e989820": {
      "model_module": "@jupyter-widgets/controls",
      "model_module_version": "1.1.0",
      "model_name": "ButtonStyleModel",
      "state": {}
     },
     "528e9be637f049099c6da975f252cd88": {
      "model_module": "@jupyter-widgets/controls",
      "model_module_version": "1.1.0",
      "model_name": "ButtonModel",
      "state": {
       "button_style": "warning",
       "description": "15",
       "layout": "IPY_MODEL_0606cbc317604fbdbaea9d3fd0b2d14a",
       "style": "IPY_MODEL_9a54ba10692d4bf2b868978fc4f3f7a3"
      }
     },
     "52babfc1e0544eebb82f7e3e1a31aade": {
      "model_module": "@jupyter-widgets/controls",
      "model_module_version": "1.1.0",
      "model_name": "ButtonStyleModel",
      "state": {}
     },
     "52e4b6b6e15b43e8869732e545ac29ba": {
      "model_module": "@jupyter-widgets/controls",
      "model_module_version": "1.1.0",
      "model_name": "DropdownModel",
      "state": {
       "_options_labels": [
        "Scrambled",
        "Sunny side up",
        "Over easy"
       ],
       "index": 0,
       "layout": "IPY_MODEL_e17877ba99034266b5e3a8d92945bffb",
       "style": "IPY_MODEL_fbfb2dfdd79b469d9f29b5031c3c404c"
      }
     },
     "52e800b7708c4d19bdf3f6bb6c4dc5ed": {
      "model_module": "@jupyter-widgets/base",
      "model_module_version": "1.0.0",
      "model_name": "LayoutModel",
      "state": {
       "flex": "1",
       "width": "auto"
      }
     },
     "52ece7873a464df889e6aaab4ab0f9d1": {
      "model_module": "@jupyter-widgets/controls",
      "model_module_version": "1.1.0",
      "model_name": "ButtonModel",
      "state": {
       "layout": "IPY_MODEL_5d1bf591aeb14d049dbec0ba829aa40b",
       "style": "IPY_MODEL_f88dee20c7b54c4a93b71787ec4d2e30"
      }
     },
     "52f42d5ec55943f6bc502ef8c45b85ba": {
      "model_module": "@jupyter-widgets/base",
      "model_module_version": "1.0.0",
      "model_name": "LayoutModel",
      "state": {
       "flex": "1 1 0%",
       "width": "auto"
      }
     },
     "52f8bb66598b4437a43f84857ecaed9d": {
      "model_module": "@jupyter-widgets/controls",
      "model_module_version": "1.1.0",
      "model_name": "SliderStyleModel",
      "state": {
       "description_width": "initial"
      }
     },
     "53059ed33b5b474e9ffbf7db3a6069c6": {
      "model_module": "@jupyter-widgets/controls",
      "model_module_version": "1.1.0",
      "model_name": "ButtonStyleModel",
      "state": {}
     },
     "531d416473434c0eaaa629aeabb005be": {
      "model_module": "@jupyter-widgets/controls",
      "model_module_version": "1.1.0",
      "model_name": "ButtonModel",
      "state": {
       "description": "horse",
       "layout": "IPY_MODEL_36fd4ad8839c4208af2e75ec74575f67",
       "style": "IPY_MODEL_609e05ed848845838e3199c0ac7bbcf1"
      }
     },
     "5335f0deb51e45c3b12293672762ea2f": {
      "model_module": "@jupyter-widgets/controls",
      "model_module_version": "1.1.0",
      "model_name": "ButtonModel",
      "state": {
       "layout": "IPY_MODEL_d86ada56e7214aefa8ed2441bca33389",
       "style": "IPY_MODEL_84399214ed2d42889afd883f25063a47"
      }
     },
     "5349334a1981439fafd1475c83be27e0": {
      "model_module": "@jupyter-widgets/controls",
      "model_module_version": "1.1.0",
      "model_name": "ButtonModel",
      "state": {
       "button_style": "danger",
       "description": "correct",
       "layout": "IPY_MODEL_6d65ff560e8b43efb20fdc71bbb7abd6",
       "style": "IPY_MODEL_204971ea3b024bc196cc095a06b8c309"
      }
     },
     "534a982d33bd4eaa9bcf931603fbf8e3": {
      "model_module": "@jupyter-widgets/controls",
      "model_module_version": "1.1.0",
      "model_name": "ButtonStyleModel",
      "state": {}
     },
     "53a87d61914042d4b468d397c33e1724": {
      "model_module": "@jupyter-widgets/controls",
      "model_module_version": "1.1.0",
      "model_name": "DescriptionStyleModel",
      "state": {
       "description_width": ""
      }
     },
     "53c02a4636c74aeeb00675d3a6e2c6d6": {
      "model_module": "@jupyter-widgets/controls",
      "model_module_version": "1.1.0",
      "model_name": "BoxModel",
      "state": {
       "children": [
        "IPY_MODEL_9ee98a1fab9d4598912c9cf5d600048e",
        "IPY_MODEL_3def1b87217a4e8c92e203756d2711bc",
        "IPY_MODEL_1eccb214247845ea89cb994eeb0f7082"
       ],
       "layout": "IPY_MODEL_35a504b1e8694fd496cc87f4c5d1fc97"
      }
     },
     "53d2474dca9645a5a003a543453676e6": {
      "model_module": "@jupyter-widgets/controls",
      "model_module_version": "1.1.0",
      "model_name": "VBoxModel",
      "state": {
       "children": [
        "IPY_MODEL_9be4509edaab4d259afba7751abfbdb2",
        "IPY_MODEL_a5fa988c23ec439ba1bbfb661fcaed62"
       ],
       "layout": "IPY_MODEL_97b0d7d635fc494c9b5606824dbe086f"
      }
     },
     "54050f0aaec84eea9ff4bf4a9c325b07": {
      "model_module": "@jupyter-widgets/controls",
      "model_module_version": "1.1.0",
      "model_name": "ButtonModel",
      "state": {
       "button_style": "warning",
       "description": "18",
       "layout": "IPY_MODEL_86c93170059349499a5f76156cbd8cdf",
       "style": "IPY_MODEL_99dba6072ddf4bbaa966422e7097d49d"
      }
     },
     "54476fa22a9343a5a9e84c47454b6a34": {
      "model_module": "@jupyter-widgets/controls",
      "model_module_version": "1.1.0",
      "model_name": "ButtonStyleModel",
      "state": {}
     },
     "54678e6dcb9b450087a0b555e6073f71": {
      "model_module": "@jupyter-widgets/controls",
      "model_module_version": "1.1.0",
      "model_name": "ButtonStyleModel",
      "state": {}
     },
     "547060654ee1494d990849fce51a42ed": {
      "model_module": "@jupyter-widgets/base",
      "model_module_version": "1.0.0",
      "model_name": "LayoutModel",
      "state": {}
     },
     "5471018df5a94fbc80ebfb86c2a9c7ba": {
      "model_module": "@jupyter-widgets/base",
      "model_module_version": "1.0.0",
      "model_name": "LayoutModel",
      "state": {}
     },
     "54768dc1efb4403b859b82939522a7f4": {
      "model_module": "@jupyter-widgets/controls",
      "model_module_version": "1.1.0",
      "model_name": "ButtonStyleModel",
      "state": {}
     },
     "5485f6a5b84d4fbf9425c19995c82f97": {
      "model_module": "@jupyter-widgets/base",
      "model_module_version": "1.0.0",
      "model_name": "LayoutModel",
      "state": {}
     },
     "54944238ca634b1788eda561315994b8": {
      "model_module": "@jupyter-widgets/controls",
      "model_module_version": "1.1.0",
      "model_name": "ButtonModel",
      "state": {
       "button_style": "warning",
       "description": "14",
       "layout": "IPY_MODEL_f97c294201b54222ba61666297c61c75",
       "style": "IPY_MODEL_60427791ca7d406ebe75e7e44cabfa9f"
      }
     },
     "54a66b8d3f64456085aa3e88f1d3f651": {
      "model_module": "@jupyter-widgets/controls",
      "model_module_version": "1.1.0",
      "model_name": "ButtonModel",
      "state": {
       "button_style": "warning",
       "description": "24",
       "layout": "IPY_MODEL_5a006e2933db480cbe6187ccadf63fd7",
       "style": "IPY_MODEL_cdb565fdc1764f78b8de9a262e6dde58"
      }
     },
     "54a97a5c94c64d06b5c2df08a4785fff": {
      "model_module": "@jupyter-widgets/controls",
      "model_module_version": "1.1.0",
      "model_name": "BoxModel",
      "state": {
       "children": [
        "IPY_MODEL_0e2c87a9caf7415e8394467aebd08eae",
        "IPY_MODEL_36a1ac29c8d449ecb0f8a68c6c98580c",
        "IPY_MODEL_f6ca1f989ef6416ea22d35c2bb7c97a2",
        "IPY_MODEL_d4ce337fca8e4de5b3b3b36859687ae9"
       ],
       "layout": "IPY_MODEL_50d4df3519a646ebba0b185716aa8589"
      }
     },
     "54ea8f052a9b46b3b6a4e87455cc953e": {
      "model_module": "@jupyter-widgets/controls",
      "model_module_version": "1.1.0",
      "model_name": "DescriptionStyleModel",
      "state": {
       "description_width": ""
      }
     },
     "54fd3edafdfb4df48a3fe51fa48b309f": {
      "model_module": "@jupyter-widgets/controls",
      "model_module_version": "1.1.0",
      "model_name": "ButtonModel",
      "state": {
       "button_style": "warning",
       "description": "14",
       "layout": "IPY_MODEL_616560d2e26b4bee8b7c903f483241f8",
       "style": "IPY_MODEL_ab8bda73972b434082c9e0ba4a8a3f76"
      }
     },
     "550c78ad464948c0ad2e7ff31a867979": {
      "model_module": "@jupyter-widgets/controls",
      "model_module_version": "1.1.0",
      "model_name": "ButtonStyleModel",
      "state": {}
     },
     "5542265a1ed74dbe9837cd94d9a83b4b": {
      "model_module": "@jupyter-widgets/controls",
      "model_module_version": "1.1.0",
      "model_name": "ButtonStyleModel",
      "state": {}
     },
     "554f53c01044495e9f57672b2d00cf75": {
      "model_module": "@jupyter-widgets/controls",
      "model_module_version": "1.1.0",
      "model_name": "ButtonStyleModel",
      "state": {}
     },
     "558f2c6f57f543a4b0ead83846433125": {
      "model_module": "@jupyter-widgets/base",
      "model_module_version": "1.0.0",
      "model_name": "LayoutModel",
      "state": {}
     },
     "55ab2c34190e46acb26c098cc72b8445": {
      "model_module": "@jupyter-widgets/base",
      "model_module_version": "1.0.0",
      "model_name": "LayoutModel",
      "state": {}
     },
     "55bdbd60c44d4661872dff19c19c9b76": {
      "model_module": "@jupyter-widgets/base",
      "model_module_version": "1.0.0",
      "model_name": "LayoutModel",
      "state": {
       "flex": "1 1 0%",
       "width": "auto"
      }
     },
     "55c161cf9a394e7396d7859fd36537b0": {
      "model_module": "@jupyter-widgets/base",
      "model_module_version": "1.0.0",
      "model_name": "LayoutModel",
      "state": {}
     },
     "55c2ad91ff184c609fc595985a53331b": {
      "model_module": "@jupyter-widgets/controls",
      "model_module_version": "1.1.0",
      "model_name": "ButtonModel",
      "state": {
       "button_style": "warning",
       "description": "31",
       "layout": "IPY_MODEL_1d10072127cb4a32968374fdb7bd2479",
       "style": "IPY_MODEL_54678e6dcb9b450087a0b555e6073f71"
      }
     },
     "55f4cb92fffc4e8ba540cbbf4f4aa15f": {
      "model_module": "@jupyter-widgets/controls",
      "model_module_version": "1.1.0",
      "model_name": "IntSliderModel",
      "state": {
       "layout": "IPY_MODEL_aaf0db2cd95647989787d2a00fd825c6",
       "max": 60,
       "min": 40,
       "style": "IPY_MODEL_82cecb45b34346e0a650a2b576f5f7e0",
       "value": 40
      }
     },
     "5608edf1751b4e4baad6331af07e6695": {
      "model_module": "@jupyter-widgets/controls",
      "model_module_version": "1.1.0",
      "model_name": "ButtonModel",
      "state": {
       "description": "weight=2, auto",
       "layout": "IPY_MODEL_8324aae7bb2d485d8ccd5b1bd4117920",
       "style": "IPY_MODEL_d7d461a944c4450fbfebd4c316cb1690"
      }
     },
     "562a1b1461a042589800f1e3d65b6b95": {
      "model_module": "@jupyter-widgets/controls",
      "model_module_version": "1.1.0",
      "model_name": "ButtonStyleModel",
      "state": {}
     },
     "56955a562ec845718b3d7770c5c87573": {
      "model_module": "@jupyter-widgets/controls",
      "model_module_version": "1.1.0",
      "model_name": "BoxModel",
      "state": {
       "children": [
        "IPY_MODEL_a8903b470538415d900a6d33fd203270",
        "IPY_MODEL_72a2256e006f49968b6b25969b3713cb",
        "IPY_MODEL_da5cb1d245da4112bbe12e02d17c3d09"
       ],
       "layout": "IPY_MODEL_c2c56161de16416ebb6c5fff191f1b2e"
      }
     },
     "569b02ca08fb4457a9b94080dc9a9591": {
      "model_module": "@jupyter-widgets/controls",
      "model_module_version": "1.1.0",
      "model_name": "ButtonModel",
      "state": {
       "description": "Another button with the same layout",
       "layout": "IPY_MODEL_c35c7c9bdd8c41af9985c6003a083f96",
       "style": "IPY_MODEL_cf785c3efccd42a6a7bafb58541b1a9c"
      }
     },
     "56c7ab061736420496a3daaff1add681": {
      "model_module": "@jupyter-widgets/controls",
      "model_module_version": "1.1.0",
      "model_name": "ButtonStyleModel",
      "state": {}
     },
     "56c7cf4b6cfc49b5bf44df2c8a1e53ce": {
      "model_module": "@jupyter-widgets/controls",
      "model_module_version": "1.1.0",
      "model_name": "ButtonModel",
      "state": {
       "button_style": "warning",
       "description": "16",
       "layout": "IPY_MODEL_128139c1d2f94adbaaea71294ef22ff3",
       "style": "IPY_MODEL_8379d8a070b24985a334db9d21f0f03f"
      }
     },
     "56e6f81047b044dc9fe23234a1502e1f": {
      "model_module": "@jupyter-widgets/controls",
      "model_module_version": "1.1.0",
      "model_name": "ButtonModel",
      "state": {
       "button_style": "warning",
       "description": "17",
       "layout": "IPY_MODEL_9886a36bb356420e9e4d3c7cdd66e238",
       "style": "IPY_MODEL_2f641d1f7c314bc4bcc917d0985fdc43"
      }
     },
     "5708f6bb99bd414d9c1afdff63b566a2": {
      "model_module": "@jupyter-widgets/controls",
      "model_module_version": "1.1.0",
      "model_name": "ButtonModel",
      "state": {
       "description": "weight=1, auto",
       "layout": "IPY_MODEL_9cf7087096e74172b09dace15caad0c7",
       "style": "IPY_MODEL_8724a7defdfb44c98bfefc078c578f1c"
      }
     },
     "576b5a48a64e4de5a4b6f9d3d4e8fa17": {
      "model_module": "@jupyter-widgets/base",
      "model_module_version": "1.0.0",
      "model_name": "LayoutModel",
      "state": {}
     },
     "576da3648d5640769c2420d3f75fce00": {
      "model_module": "@jupyter-widgets/base",
      "model_module_version": "1.0.0",
      "model_name": "LayoutModel",
      "state": {
       "flex": "1 1 auto",
       "width": "auto"
      }
     },
     "576e5dbef7cd4877b9d8746bd657a452": {
      "model_module": "@jupyter-widgets/controls",
      "model_module_version": "1.1.0",
      "model_name": "ButtonStyleModel",
      "state": {}
     },
     "578852c380f0454496d6a2b07f23d23e": {
      "model_module": "@jupyter-widgets/controls",
      "model_module_version": "1.1.0",
      "model_name": "ButtonStyleModel",
      "state": {}
     },
     "57a3df89147f46c9bdb77da63724971c": {
      "model_module": "@jupyter-widgets/controls",
      "model_module_version": "1.1.0",
      "model_name": "ButtonStyleModel",
      "state": {}
     },
     "57bb6d42be7240359b1b880e5a8961cd": {
      "model_module": "@jupyter-widgets/controls",
      "model_module_version": "1.1.0",
      "model_name": "ButtonStyleModel",
      "state": {}
     },
     "57c2e921a7c54e6b90efd51a6d2540c4": {
      "model_module": "@jupyter-widgets/controls",
      "model_module_version": "1.1.0",
      "model_name": "BoxModel",
      "state": {
       "children": [
        "IPY_MODEL_98c708760cc9425c9469253958e1b9f5",
        "IPY_MODEL_6d08deb1de7146b993f9fc461367dfa0",
        "IPY_MODEL_81063f19acde424f99c8e3576a2146cd"
       ],
       "layout": "IPY_MODEL_3d287e03031c4a42b5358193aabc22fb"
      }
     },
     "57d3197dd87a4506b514613d4c265052": {
      "model_module": "@jupyter-widgets/controls",
      "model_module_version": "1.1.0",
      "model_name": "ButtonStyleModel",
      "state": {}
     },
     "57da6ae2bb714f2d9ee114bcea1f696a": {
      "model_module": "@jupyter-widgets/base",
      "model_module_version": "1.0.0",
      "model_name": "LayoutModel",
      "state": {
       "align_items": "stretch",
       "border": "solid 2px",
       "display": "flex",
       "flex_flow": "column",
       "width": "50%"
      }
     },
     "5805d88682cf47678fbf147f18bb3ea9": {
      "model_module": "@jupyter-widgets/controls",
      "model_module_version": "1.1.0",
      "model_name": "ButtonModel",
      "state": {
       "button_style": "warning",
       "description": "31",
       "layout": "IPY_MODEL_128139c1d2f94adbaaea71294ef22ff3",
       "style": "IPY_MODEL_59831ccf84bc4c86849665ad80fee821"
      }
     },
     "581875329f8942979bcf4251ffff1014": {
      "model_module": "@jupyter-widgets/controls",
      "model_module_version": "1.1.0",
      "model_name": "ButtonStyleModel",
      "state": {}
     },
     "5848aeac1eb341a5b4059b2945dd5a6d": {
      "model_module": "@jupyter-widgets/controls",
      "model_module_version": "1.1.0",
      "model_name": "ButtonModel",
      "state": {
       "description": "weight=1, auto",
       "layout": "IPY_MODEL_19fdca28ed454afa9fa2d0503f64d67f",
       "style": "IPY_MODEL_10269c8809ed4db883c026bc8dfaa9bf"
      }
     },
     "585cd63d756f4602bb47407fa57fb10a": {
      "model_module": "@jupyter-widgets/controls",
      "model_module_version": "1.1.0",
      "model_name": "ButtonStyleModel",
      "state": {}
     },
     "5866b46efcb94e5f848f07c4265607c9": {
      "model_module": "@jupyter-widgets/controls",
      "model_module_version": "1.1.0",
      "model_name": "ButtonModel",
      "state": {
       "description": "Another button with the same layout",
       "layout": "IPY_MODEL_9ddf859d43704d01a269a4f8eb8ea780",
       "style": "IPY_MODEL_c5723a81ec044cd88f1f638871fe6bdd"
      }
     },
     "588f18d9eee04f309f207aa551a391df": {
      "model_module": "@jupyter-widgets/base",
      "model_module_version": "1.0.0",
      "model_name": "LayoutModel",
      "state": {}
     },
     "5899d8f01fbe461ea321a4f88c590a15": {
      "model_module": "@jupyter-widgets/base",
      "model_module_version": "1.0.0",
      "model_name": "LayoutModel",
      "state": {}
     },
     "589a65ddc8d145569f39fe3e7ab7f947": {
      "model_module": "@jupyter-widgets/base",
      "model_module_version": "1.0.0",
      "model_name": "LayoutModel",
      "state": {}
     },
     "589afeb221384a0c8428b12999b9d3f2": {
      "model_module": "@jupyter-widgets/controls",
      "model_module_version": "1.1.0",
      "model_name": "ButtonStyleModel",
      "state": {}
     },
     "58cf3a412c4747f1ae882734a4836d4c": {
      "model_module": "@jupyter-widgets/controls",
      "model_module_version": "1.1.0",
      "model_name": "ButtonStyleModel",
      "state": {}
     },
     "58e1dbfb102f40a88e0be2612e95cf59": {
      "model_module": "@jupyter-widgets/controls",
      "model_module_version": "1.1.0",
      "model_name": "ButtonModel",
      "state": {
       "button_style": "warning",
       "description": "37",
       "layout": "IPY_MODEL_6abcd37e41034b2ca8a2c4c4ba0dca11",
       "style": "IPY_MODEL_2685b7574a6c4188ac61466919ead2b6"
      }
     },
     "590f63df2359429fb8cb88604a50b97f": {
      "model_module": "@jupyter-widgets/base",
      "model_module_version": "1.0.0",
      "model_name": "LayoutModel",
      "state": {
       "align_items": "stretch",
       "border": "solid",
       "display": "flex",
       "flex_flow": "row",
       "width": "50%"
      }
     },
     "5921df5ce4f9494f825da5292d84b9a6": {
      "model_module": "@jupyter-widgets/controls",
      "model_module_version": "1.1.0",
      "model_name": "ButtonStyleModel",
      "state": {}
     },
     "59258a050b2345049780047ab747a59e": {
      "model_module": "@jupyter-widgets/controls",
      "model_module_version": "1.1.0",
      "model_name": "ButtonStyleModel",
      "state": {}
     },
     "59390aacdd674d6aac990e7b2501fd1f": {
      "model_module": "@jupyter-widgets/controls",
      "model_module_version": "1.1.0",
      "model_name": "ButtonStyleModel",
      "state": {}
     },
     "593b372e717a447a8771db665706d49b": {
      "model_module": "@jupyter-widgets/controls",
      "model_module_version": "1.1.0",
      "model_name": "ButtonStyleModel",
      "state": {}
     },
     "5944c9fb8a58400f93ca111b886155d8": {
      "model_module": "@jupyter-widgets/controls",
      "model_module_version": "1.1.0",
      "model_name": "ButtonStyleModel",
      "state": {}
     },
     "5952de9c22454463aafbfb740188037a": {
      "model_module": "@jupyter-widgets/base",
      "model_module_version": "1.0.0",
      "model_name": "LayoutModel",
      "state": {
       "flex": "1 1 auto",
       "width": "auto"
      }
     },
     "597963f20f3f4639b73799e1b3412194": {
      "model_module": "@jupyter-widgets/controls",
      "model_module_version": "1.1.0",
      "model_name": "IntSliderModel",
      "state": {
       "description": "A too long description",
       "layout": "IPY_MODEL_2a476fe0a9b345a7910c3084546ae4ff",
       "style": "IPY_MODEL_335916aff5544af485be9cb623197cf2"
      }
     },
     "59831ccf84bc4c86849665ad80fee821": {
      "model_module": "@jupyter-widgets/controls",
      "model_module_version": "1.1.0",
      "model_name": "ButtonStyleModel",
      "state": {}
     },
     "59bb35fdd2fa44b8838ed51d1a974043": {
      "model_module": "@jupyter-widgets/controls",
      "model_module_version": "1.1.0",
      "model_name": "ButtonModel",
      "state": {
       "description": "weight=2, _0%",
       "layout": "IPY_MODEL_a7e8ef32dffd4a3784aa9dce9ea4c4d8",
       "style": "IPY_MODEL_969a7203d7b24c0bba4014020d4abf76"
      }
     },
     "59dc69c6bd8145db97ef9bc2dddfa2d4": {
      "model_module": "@jupyter-widgets/controls",
      "model_module_version": "1.1.0",
      "model_name": "ButtonStyleModel",
      "state": {}
     },
     "59eb5ce652cc4f50b5cd9da20bb1974f": {
      "model_module": "@jupyter-widgets/controls",
      "model_module_version": "1.1.0",
      "model_name": "ButtonModel",
      "state": {
       "description": "weight=1",
       "layout": "IPY_MODEL_976b72bae3c444ac83f10b2b0d93d166",
       "style": "IPY_MODEL_1c43cde0a29346018b4f47d9e32fb07e"
      }
     },
     "59f22ac0f15346b78af2970b049a4bcc": {
      "model_module": "@jupyter-widgets/controls",
      "model_module_version": "1.1.0",
      "model_name": "ButtonModel",
      "state": {
       "button_style": "warning",
       "description": "38",
       "layout": "IPY_MODEL_86c93170059349499a5f76156cbd8cdf",
       "style": "IPY_MODEL_fc77ce3cd6e342e2b28131ff8f6a3d2d"
      }
     },
     "5a006e2933db480cbe6187ccadf63fd7": {
      "model_module": "@jupyter-widgets/base",
      "model_module_version": "1.0.0",
      "model_name": "LayoutModel",
      "state": {
       "height": "100px",
       "min_width": "40px"
      }
     },
     "5a04723ab99445878c953f92a125b650": {
      "model_module": "@jupyter-widgets/controls",
      "model_module_version": "1.1.0",
      "model_name": "ButtonStyleModel",
      "state": {}
     },
     "5a08590152a34b74b9f4eb8759f3ba98": {
      "model_module": "@jupyter-widgets/controls",
      "model_module_version": "1.1.0",
      "model_name": "ButtonModel",
      "state": {
       "button_style": "warning",
       "description": "7",
       "layout": "IPY_MODEL_616560d2e26b4bee8b7c903f483241f8",
       "style": "IPY_MODEL_34c9114f9e8f4375abd1bae851c4a3a5"
      }
     },
     "5a24b22d58bb4c5aaee7495581775196": {
      "model_module": "@jupyter-widgets/controls",
      "model_module_version": "1.1.0",
      "model_name": "ButtonModel",
      "state": {
       "button_style": "warning",
       "description": "13",
       "layout": "IPY_MODEL_9886a36bb356420e9e4d3c7cdd66e238",
       "style": "IPY_MODEL_4c53f85abb5648e58a3835b0e9c63e89"
      }
     },
     "5a6146d8f9eb48d3a0017834a644bf32": {
      "model_module": "@jupyter-widgets/controls",
      "model_module_version": "1.1.0",
      "model_name": "ButtonModel",
      "state": {
       "description": "horse",
       "layout": "IPY_MODEL_79de7dac7bce4471804ad722064e39ee",
       "style": "IPY_MODEL_a65a0069184c48b0b120af14e801ed38"
      }
     },
     "5a64baa7357a48b7a1d6e169ddfe2056": {
      "model_module": "@jupyter-widgets/controls",
      "model_module_version": "1.1.0",
      "model_name": "ButtonModel",
      "state": {
       "button_style": "warning",
       "description": "35",
       "layout": "IPY_MODEL_0606cbc317604fbdbaea9d3fd0b2d14a",
       "style": "IPY_MODEL_c5808e2645674b288bf4275264bd439f"
      }
     },
     "5a8e2142ef0f48e1819b5abff28f3beb": {
      "model_module": "@jupyter-widgets/controls",
      "model_module_version": "1.1.0",
      "model_name": "ButtonStyleModel",
      "state": {}
     },
     "5abfc6143807441ba8c66c2bb77ddcf6": {
      "model_module": "@jupyter-widgets/controls",
      "model_module_version": "1.1.0",
      "model_name": "ButtonModel",
      "state": {
       "button_style": "danger",
       "description": "weight=2, _0%",
       "layout": "IPY_MODEL_4c5f9139a8594f5fa70207e212f83a0c",
       "style": "IPY_MODEL_fc61037c570c43aebac512c281e45dfc"
      }
     },
     "5aced70dfa80451cbc7c9dcf8f00aed1": {
      "model_module": "@jupyter-widgets/controls",
      "model_module_version": "1.1.0",
      "model_name": "ButtonStyleModel",
      "state": {}
     },
     "5af7ad0112994392818b1cee40ff5364": {
      "model_module": "@jupyter-widgets/controls",
      "model_module_version": "1.1.0",
      "model_name": "ButtonModel",
      "state": {
       "button_style": "danger",
       "description": "battery",
       "layout": "IPY_MODEL_7ff80e764e2745d9800eae1f025f64e0",
       "style": "IPY_MODEL_909124d321c64999b1ac340990e7d691"
      }
     },
     "5b43d9737fdf4f28b655a1e61dfdb22f": {
      "model_module": "@jupyter-widgets/controls",
      "model_module_version": "1.1.0",
      "model_name": "DescriptionStyleModel",
      "state": {
       "description_width": ""
      }
     },
     "5b472e3c966d47c7abc816a523fd5573": {
      "model_module": "@jupyter-widgets/controls",
      "model_module_version": "1.1.0",
      "model_name": "ButtonStyleModel",
      "state": {}
     },
     "5b6b36acedd74b2cb41f0b025b887202": {
      "model_module": "@jupyter-widgets/controls",
      "model_module_version": "1.1.0",
      "model_name": "ButtonStyleModel",
      "state": {}
     },
     "5b6be4b4d08b4849916f2fbd8466c781": {
      "model_module": "@jupyter-widgets/controls",
      "model_module_version": "1.1.0",
      "model_name": "ButtonModel",
      "state": {
       "button_style": "warning",
       "description": "32",
       "layout": "IPY_MODEL_2609a17cced145ad91b86d4ddfbd3bfd",
       "style": "IPY_MODEL_7f5a6823ffdd47c6a23dc07cac1f96b4"
      }
     },
     "5bc22ff2dee84f56ac78f4a5ff0aed58": {
      "model_module": "@jupyter-widgets/controls",
      "model_module_version": "1.1.0",
      "model_name": "ButtonModel",
      "state": {
       "button_style": "warning",
       "description": "29",
       "layout": "IPY_MODEL_4f96c205ba6c46e196e16241cfe4cf24",
       "style": "IPY_MODEL_f5c47ae4aed44b35ab4966617d107ee2"
      }
     },
     "5bc39eccfd764c95a9e31e842105cce4": {
      "model_module": "@jupyter-widgets/controls",
      "model_module_version": "1.1.0",
      "model_name": "SliderStyleModel",
      "state": {
       "description_width": "",
       "handle_color": "lightblue"
      }
     },
     "5c1b22e58e1d42e997904517441a3ec9": {
      "model_module": "@jupyter-widgets/controls",
      "model_module_version": "1.1.0",
      "model_name": "ButtonStyleModel",
      "state": {}
     },
     "5c376c0a70dc4f3ab9f4a48214d38ab3": {
      "model_module": "@jupyter-widgets/controls",
      "model_module_version": "1.1.0",
      "model_name": "ButtonModel",
      "state": {
       "description": "weight=1",
       "layout": "IPY_MODEL_52e800b7708c4d19bdf3f6bb6c4dc5ed",
       "style": "IPY_MODEL_bf44b9e7dd994727b55bf414aa285aa4"
      }
     },
     "5c3b7e5ecd9145698d2ee04ee7034cea": {
      "model_module": "@jupyter-widgets/base",
      "model_module_version": "1.0.0",
      "model_name": "LayoutModel",
      "state": {
       "align_items": "stretch",
       "border": "solid 2px",
       "display": "flex",
       "flex_flow": "column",
       "width": "50%"
      }
     },
     "5c48ef83f2d949b3843b9f422fb14214": {
      "model_module": "@jupyter-widgets/base",
      "model_module_version": "1.0.0",
      "model_name": "LayoutModel",
      "state": {}
     },
     "5c57b24638ab41cd938d130772059304": {
      "model_module": "@jupyter-widgets/controls",
      "model_module_version": "1.1.0",
      "model_name": "LabelModel",
      "state": {
       "layout": "IPY_MODEL_589a65ddc8d145569f39fe3e7ab7f947",
       "style": "IPY_MODEL_9deaa720bda5461d8daa27b64ec4c706",
       "value": "Scroll horizontally:"
      }
     },
     "5c6e9a0177f049ec8ac81a1aef584176": {
      "model_module": "@jupyter-widgets/controls",
      "model_module_version": "1.1.0",
      "model_name": "ButtonStyleModel",
      "state": {}
     },
     "5c7ba414f669447491791b76167cbe25": {
      "model_module": "@jupyter-widgets/controls",
      "model_module_version": "1.1.0",
      "model_name": "ButtonStyleModel",
      "state": {}
     },
     "5c92899b30b5461a8d283509e6d0c145": {
      "model_module": "@jupyter-widgets/controls",
      "model_module_version": "1.1.0",
      "model_name": "ButtonModel",
      "state": {
       "button_style": "warning",
       "description": "20",
       "layout": "IPY_MODEL_0606cbc317604fbdbaea9d3fd0b2d14a",
       "style": "IPY_MODEL_4beb69704cd14f9ebfe74849153f9741"
      }
     },
     "5cd33267fce94450a3ead2afd45dc6a6": {
      "model_module": "@jupyter-widgets/controls",
      "model_module_version": "1.1.0",
      "model_name": "VBoxModel",
      "state": {
       "children": [
        "IPY_MODEL_2dd8c7d95ffe4c0c83c1e91f92f5c073",
        "IPY_MODEL_30df40f35dc84109810a932f42a4cbfc"
       ],
       "layout": "IPY_MODEL_e0e380d5cf71415c9db8c2fc1bddaaab"
      }
     },
     "5ceeaf24881e468c99f460ecfa2f016d": {
      "model_module": "@jupyter-widgets/controls",
      "model_module_version": "1.1.0",
      "model_name": "ButtonModel",
      "state": {
       "button_style": "warning",
       "description": "9",
       "layout": "IPY_MODEL_5a006e2933db480cbe6187ccadf63fd7",
       "style": "IPY_MODEL_a970a5c1507e4b8b93c0aa1764913b95"
      }
     },
     "5d1bf591aeb14d049dbec0ba829aa40b": {
      "model_module": "@jupyter-widgets/base",
      "model_module_version": "1.0.0",
      "model_name": "LayoutModel",
      "state": {}
     },
     "5d1fd9b08747429f868954b7d1c79f91": {
      "model_module": "@jupyter-widgets/controls",
      "model_module_version": "1.1.0",
      "model_name": "LabelModel",
      "state": {
       "layout": "IPY_MODEL_d8e54c7d00fc4c79a19c5dae072e58cb",
       "style": "IPY_MODEL_7195849301f848b28455149df7f2a815",
       "value": "Ship size"
      }
     },
     "5d3cd6de2c3d4d3fbfc90aeff77ba2d9": {
      "model_module": "@jupyter-widgets/controls",
      "model_module_version": "1.1.0",
      "model_name": "ButtonModel",
      "state": {
       "button_style": "warning",
       "description": "0",
       "layout": "IPY_MODEL_86c93170059349499a5f76156cbd8cdf",
       "style": "IPY_MODEL_4e6a91179f2749ffbb811f237feb7980"
      }
     },
     "5d47575e167c4a56bf7a5e4aeab1e572": {
      "model_module": "@jupyter-widgets/base",
      "model_module_version": "1.0.0",
      "model_name": "LayoutModel",
      "state": {
       "flex": "1 1 auto",
       "width": "auto"
      }
     },
     "5d56f2a1a3ad4bf3ac74433ecc9dd8a9": {
      "model_module": "@jupyter-widgets/controls",
      "model_module_version": "1.1.0",
      "model_name": "BoxModel",
      "state": {
       "children": [
        "IPY_MODEL_b2355f60026446269de1dcf35966a67f",
        "IPY_MODEL_aed6715071e2409fb5bcb39f60f4a6e6",
        "IPY_MODEL_ce906dec50cf4372818971ae7938dfbe"
       ],
       "layout": "IPY_MODEL_50ae45af4cf64c4aa35dbf4dc80420eb"
      }
     },
     "5d60daef5e8247779b50254f46b60d42": {
      "model_module": "@jupyter-widgets/base",
      "model_module_version": "1.0.0",
      "model_name": "LayoutModel",
      "state": {
       "border": "3px solid black",
       "display": "flex",
       "flex_flow": "row",
       "height": "",
       "overflow_x": "scroll",
       "width": "500px"
      }
     },
     "5d8b63da9e00498095a3a7e8364a1dc9": {
      "model_module": "@jupyter-widgets/controls",
      "model_module_version": "1.1.0",
      "model_name": "ButtonModel",
      "state": {
       "button_style": "warning",
       "description": "32",
       "layout": "IPY_MODEL_5a006e2933db480cbe6187ccadf63fd7",
       "style": "IPY_MODEL_d256f0dac5ad4bc586eab51d8c225733"
      }
     },
     "5d912014a2b147f4929b0329e8c47efa": {
      "model_module": "@jupyter-widgets/base",
      "model_module_version": "1.0.0",
      "model_name": "LayoutModel",
      "state": {}
     },
     "5d92386cac3d452d8707e2b20b8a3091": {
      "model_module": "@jupyter-widgets/base",
      "model_module_version": "1.0.0",
      "model_name": "LayoutModel",
      "state": {
       "flex": "2 1 0%",
       "width": "auto"
      }
     },
     "5d92ecb359fa4414a9f7b1013a0d9488": {
      "model_module": "@jupyter-widgets/controls",
      "model_module_version": "1.1.0",
      "model_name": "ButtonModel",
      "state": {
       "description": "weight=1, _0%",
       "layout": "IPY_MODEL_7a3da04defa548879f49816b9c4ea833",
       "style": "IPY_MODEL_3cb8f5517f714d29a6caf6b995c99d3e"
      }
     },
     "5daf38c4b7694d5797fc0593199b726c": {
      "model_module": "@jupyter-widgets/controls",
      "model_module_version": "1.1.0",
      "model_name": "ButtonModel",
      "state": {
       "button_style": "warning",
       "description": "8",
       "layout": "IPY_MODEL_6abcd37e41034b2ca8a2c4c4ba0dca11",
       "style": "IPY_MODEL_acdcf891faff45da83d6f3f28d8e815f"
      }
     },
     "5dc2386043a142b995e22172f41fbdc2": {
      "model_module": "@jupyter-widgets/controls",
      "model_module_version": "1.1.0",
      "model_name": "ButtonStyleModel",
      "state": {}
     },
     "5dd5e0817f4d4b4f8404ae47d4116eb1": {
      "model_module": "@jupyter-widgets/controls",
      "model_module_version": "1.1.0",
      "model_name": "ButtonStyleModel",
      "state": {}
     },
     "5de7a7cd326a45a4924e06b996029ef8": {
      "model_module": "@jupyter-widgets/controls",
      "model_module_version": "1.1.0",
      "model_name": "ButtonModel",
      "state": {
       "button_style": "warning",
       "description": "7",
       "layout": "IPY_MODEL_2609a17cced145ad91b86d4ddfbd3bfd",
       "style": "IPY_MODEL_9da1d6f74c9b44a2a0b262ee8e034c38"
      }
     },
     "5e1ca505b77049518b214b0816716ff5": {
      "model_module": "@jupyter-widgets/controls",
      "model_module_version": "1.1.0",
      "model_name": "ButtonStyleModel",
      "state": {}
     },
     "5e48460f0fb84a6683c77c9abcb5be56": {
      "model_module": "@jupyter-widgets/controls",
      "model_module_version": "1.1.0",
      "model_name": "ButtonStyleModel",
      "state": {}
     },
     "5e529f3659b94085b64de8c47015920b": {
      "model_module": "@jupyter-widgets/controls",
      "model_module_version": "1.1.0",
      "model_name": "ButtonStyleModel",
      "state": {}
     },
     "5e83b513760b43838c0d3517d342780e": {
      "model_module": "@jupyter-widgets/controls",
      "model_module_version": "1.1.0",
      "model_name": "ButtonModel",
      "state": {
       "button_style": "warning",
       "description": "20",
       "layout": "IPY_MODEL_9886a36bb356420e9e4d3c7cdd66e238",
       "style": "IPY_MODEL_ebc40f672aea497d9065292b1d317565"
      }
     },
     "5ea347f0a5af4822948bd8adfe061cac": {
      "model_module": "@jupyter-widgets/controls",
      "model_module_version": "1.1.0",
      "model_name": "LabelModel",
      "state": {
       "layout": "IPY_MODEL_a95f5b08735e46d2b7fee5e55d995a26",
       "style": "IPY_MODEL_2cc75e7a4e234adfa5dd08e9fadd46c8",
       "value": "Egg style"
      }
     },
     "5eaf3b0b678a4193b18af98798fb7c9e": {
      "model_module": "@jupyter-widgets/controls",
      "model_module_version": "1.1.0",
      "model_name": "ButtonStyleModel",
      "state": {}
     },
     "5ed9df4210aa49a0910430556b8af791": {
      "model_module": "@jupyter-widgets/base",
      "model_module_version": "1.0.0",
      "model_name": "LayoutModel",
      "state": {}
     },
     "5ee62ea7f8de4d5db01875d2fac44192": {
      "model_module": "@jupyter-widgets/base",
      "model_module_version": "1.0.0",
      "model_name": "LayoutModel",
      "state": {
       "flex": "3 1 auto",
       "width": "auto"
      }
     },
     "5f10204404fd450fa73e8da20f9cd4d6": {
      "model_module": "@jupyter-widgets/controls",
      "model_module_version": "1.1.0",
      "model_name": "ButtonModel",
      "state": {
       "button_style": "warning",
       "description": "35",
       "layout": "IPY_MODEL_9886a36bb356420e9e4d3c7cdd66e238",
       "style": "IPY_MODEL_c3473e441f3a4a31843552fce34d01bf"
      }
     },
     "5f3432a6d2e64224ade23fc9028e1f2a": {
      "model_module": "@jupyter-widgets/controls",
      "model_module_version": "1.1.0",
      "model_name": "ButtonStyleModel",
      "state": {}
     },
     "5f3fd15c01e246ad92893b497d7a244b": {
      "model_module": "@jupyter-widgets/controls",
      "model_module_version": "1.1.0",
      "model_name": "ButtonModel",
      "state": {
       "button_style": "warning",
       "description": "1",
       "layout": "IPY_MODEL_f97c294201b54222ba61666297c61c75",
       "style": "IPY_MODEL_e69dabcee9ed4fb8b27df6f847695bc4"
      }
     },
     "5f4383735711415596954c7bc1a5bfd1": {
      "model_module": "@jupyter-widgets/base",
      "model_module_version": "1.0.0",
      "model_name": "LayoutModel",
      "state": {
       "height": "100px",
       "min_width": "40px"
      }
     },
     "5f5d7ddb266a438cb1afd4fb8b6f1258": {
      "model_module": "@jupyter-widgets/controls",
      "model_module_version": "1.1.0",
      "model_name": "ButtonModel",
      "state": {
       "button_style": "warning",
       "description": "33",
       "layout": "IPY_MODEL_616560d2e26b4bee8b7c903f483241f8",
       "style": "IPY_MODEL_4795390ab4964d26bcd7b56a9b583e43"
      }
     },
     "5f7b7ceeac9f410a97258ca311ecac83": {
      "model_module": "@jupyter-widgets/controls",
      "model_module_version": "1.1.0",
      "model_name": "HBoxModel",
      "state": {
       "children": [
        "IPY_MODEL_9e53c7482c0341d58c82a393ef4b3068",
        "IPY_MODEL_81825a238328412d9e47c016b35c57a3"
       ],
       "layout": "IPY_MODEL_f1875b47e4d041199311292711c49338"
      }
     },
     "5f90bda6c5f04507a3672ec6cfa7d4bb": {
      "model_module": "@jupyter-widgets/controls",
      "model_module_version": "1.1.0",
      "model_name": "ButtonStyleModel",
      "state": {}
     },
     "5fa69c1024d549758c34eee3ba780271": {
      "model_module": "@jupyter-widgets/controls",
      "model_module_version": "1.1.0",
      "model_name": "ButtonModel",
      "state": {
       "button_style": "warning",
       "description": "1",
       "layout": "IPY_MODEL_2609a17cced145ad91b86d4ddfbd3bfd",
       "style": "IPY_MODEL_1971d09e9e8c47b49eca33ebd09ae2b2"
      }
     },
     "5fb35076a3b34c2ebe484c9d471e78c2": {
      "model_module": "@jupyter-widgets/controls",
      "model_module_version": "1.1.0",
      "model_name": "ButtonModel",
      "state": {
       "button_style": "warning",
       "description": "5",
       "layout": "IPY_MODEL_5a006e2933db480cbe6187ccadf63fd7",
       "style": "IPY_MODEL_9193e901c6074712bf43592c5be6e423"
      }
     },
     "5fb993e839ca4c4fb445e8f37ced0df7": {
      "model_module": "@jupyter-widgets/base",
      "model_module_version": "1.0.0",
      "model_name": "LayoutModel",
      "state": {}
     },
     "5fd25f05abe24b3088f715b1e558c64d": {
      "model_module": "@jupyter-widgets/controls",
      "model_module_version": "1.1.0",
      "model_name": "ButtonStyleModel",
      "state": {}
     },
     "5fd9b83be2e04ae0a789372e76a8bfd2": {
      "model_module": "@jupyter-widgets/controls",
      "model_module_version": "1.1.0",
      "model_name": "ButtonStyleModel",
      "state": {}
     },
     "5fe01fc18f784ab08f202aea52371057": {
      "model_module": "@jupyter-widgets/controls",
      "model_module_version": "1.1.0",
      "model_name": "ButtonModel",
      "state": {
       "button_style": "warning",
       "description": "26",
       "layout": "IPY_MODEL_5f4383735711415596954c7bc1a5bfd1",
       "style": "IPY_MODEL_3b4a364785c34d9ab745a8138e01f8d8"
      }
     },
     "602e48db0c974b7bae0aa2d8a0849fdc": {
      "model_module": "@jupyter-widgets/controls",
      "model_module_version": "1.1.0",
      "model_name": "ButtonModel",
      "state": {
       "button_style": "warning",
       "description": "6",
       "layout": "IPY_MODEL_6abcd37e41034b2ca8a2c4c4ba0dca11",
       "style": "IPY_MODEL_02ed48b75be0416999781b7d9000e33a"
      }
     },
     "60427791ca7d406ebe75e7e44cabfa9f": {
      "model_module": "@jupyter-widgets/controls",
      "model_module_version": "1.1.0",
      "model_name": "ButtonStyleModel",
      "state": {}
     },
     "6076a8dee8cf4c6ebfcda3661149a9fd": {
      "model_module": "@jupyter-widgets/controls",
      "model_module_version": "1.1.0",
      "model_name": "ButtonModel",
      "state": {
       "button_style": "danger",
       "description": "weight=2, auto",
       "layout": "IPY_MODEL_b5a5103c129e4790b08c46df571eb380",
       "style": "IPY_MODEL_20d8090278fb4dffae97f337ea4db53a"
      }
     },
     "6082220ddc454499b0daa2fe12d538bc": {
      "model_module": "@jupyter-widgets/controls",
      "model_module_version": "1.1.0",
      "model_name": "ButtonStyleModel",
      "state": {}
     },
     "609e05ed848845838e3199c0ac7bbcf1": {
      "model_module": "@jupyter-widgets/controls",
      "model_module_version": "1.1.0",
      "model_name": "ButtonStyleModel",
      "state": {}
     },
     "60e47423a29248bc9bb7fbcd059f228a": {
      "model_module": "@jupyter-widgets/controls",
      "model_module_version": "1.1.0",
      "model_name": "ButtonStyleModel",
      "state": {}
     },
     "60e75fc603324db589804509371c57a7": {
      "model_module": "@jupyter-widgets/controls",
      "model_module_version": "1.1.0",
      "model_name": "ButtonStyleModel",
      "state": {}
     },
     "615551a14f8c401f89049ae3f744f74f": {
      "model_module": "@jupyter-widgets/controls",
      "model_module_version": "1.1.0",
      "model_name": "ButtonModel",
      "state": {
       "button_style": "warning",
       "description": "11",
       "layout": "IPY_MODEL_6abcd37e41034b2ca8a2c4c4ba0dca11",
       "style": "IPY_MODEL_f0c5d9a0160f48cda2556628c1a4171a"
      }
     },
     "616560d2e26b4bee8b7c903f483241f8": {
      "model_module": "@jupyter-widgets/base",
      "model_module_version": "1.0.0",
      "model_name": "LayoutModel",
      "state": {
       "height": "100px",
       "min_width": "40px"
      }
     },
     "616601b79b4c43e5ae47df8c12fea41c": {
      "model_module": "@jupyter-widgets/controls",
      "model_module_version": "1.1.0",
      "model_name": "ButtonStyleModel",
      "state": {}
     },
     "6186893528e2482bbb540a1a62b59c01": {
      "model_module": "@jupyter-widgets/controls",
      "model_module_version": "1.1.0",
      "model_name": "ButtonModel",
      "state": {
       "button_style": "warning",
       "description": "12",
       "layout": "IPY_MODEL_9886a36bb356420e9e4d3c7cdd66e238",
       "style": "IPY_MODEL_35e309eb09ed43c998c0b63f1d8d33b1"
      }
     },
     "6191567e063845d9ab6941e2d370a590": {
      "model_module": "@jupyter-widgets/controls",
      "model_module_version": "1.1.0",
      "model_name": "IntSliderModel",
      "state": {
       "description": "A too long description",
       "layout": "IPY_MODEL_b7f1ca167c53428e8ff7351cc4f47999",
       "style": "IPY_MODEL_febfc1d66e4e445284879a52f66a07bd"
      }
     },
     "61b4311d5dfd4cc89d44faf332b54f9a": {
      "model_module": "@jupyter-widgets/controls",
      "model_module_version": "1.1.0",
      "model_name": "ButtonModel",
      "state": {
       "description": "weight=1, auto",
       "layout": "IPY_MODEL_5952de9c22454463aafbfb740188037a",
       "style": "IPY_MODEL_4b9b4efc50eb48caaadb25bb6cb01652"
      }
     },
     "61c7cc7167784919b45f5acfd8409c11": {
      "model_module": "@jupyter-widgets/controls",
      "model_module_version": "1.1.0",
      "model_name": "ButtonModel",
      "state": {
       "button_style": "warning",
       "description": "34",
       "layout": "IPY_MODEL_6abcd37e41034b2ca8a2c4c4ba0dca11",
       "style": "IPY_MODEL_f477d82837d64304820f1a4f74858ed6"
      }
     },
     "62272d9b08e94e239767e199353c7993": {
      "model_module": "@jupyter-widgets/controls",
      "model_module_version": "1.1.0",
      "model_name": "ButtonStyleModel",
      "state": {}
     },
     "62299ce93f094d8eb68c5a6a166ea071": {
      "model_module": "@jupyter-widgets/base",
      "model_module_version": "1.0.0",
      "model_name": "LayoutModel",
      "state": {}
     },
     "622d979c08c649a18250cae3c3a0495a": {
      "model_module": "@jupyter-widgets/controls",
      "model_module_version": "1.1.0",
      "model_name": "ButtonStyleModel",
      "state": {}
     },
     "623f97c9ada146d7a89a2fe9e9c0adc7": {
      "model_module": "@jupyter-widgets/controls",
      "model_module_version": "1.1.0",
      "model_name": "ButtonStyleModel",
      "state": {}
     },
     "6255be33a19441938c241044ff3d33aa": {
      "model_module": "@jupyter-widgets/base",
      "model_module_version": "1.0.0",
      "model_name": "LayoutModel",
      "state": {}
     },
     "625eadedfb064b0b85843865afcd62d6": {
      "model_module": "@jupyter-widgets/base",
      "model_module_version": "1.0.0",
      "model_name": "LayoutModel",
      "state": {
       "border": "3px solid black",
       "display": "flex",
       "height": "",
       "overflow_x": "scroll",
       "width": "500px"
      }
     },
     "62c00504206a4f319ac1bb7c9a464d92": {
      "model_module": "@jupyter-widgets/base",
      "model_module_version": "1.0.0",
      "model_name": "LayoutModel",
      "state": {
       "flex": "1 1 0%",
       "width": "auto"
      }
     },
     "62c87d55ccf84459b77a17e06c2d1719": {
      "model_module": "@jupyter-widgets/base",
      "model_module_version": "1.0.0",
      "model_name": "LayoutModel",
      "state": {}
     },
     "62de4449499543daafa71cb4128f45c7": {
      "model_module": "@jupyter-widgets/base",
      "model_module_version": "1.0.0",
      "model_name": "LayoutModel",
      "state": {
       "flex": "2 1 auto",
       "width": "auto"
      }
     },
     "63210dedd1354f57994b3b211e6581c9": {
      "model_module": "@jupyter-widgets/controls",
      "model_module_version": "1.1.0",
      "model_name": "ButtonStyleModel",
      "state": {}
     },
     "63483cc0db974b9f9f37a69d71e071dc": {
      "model_module": "@jupyter-widgets/base",
      "model_module_version": "1.0.0",
      "model_name": "LayoutModel",
      "state": {
       "width": "auto"
      }
     },
     "635eb844a22e4b28803df7ba89c4035d": {
      "model_module": "@jupyter-widgets/base",
      "model_module_version": "1.0.0",
      "model_name": "LayoutModel",
      "state": {
       "flex": "1 1 0%",
       "width": "auto"
      }
     },
     "6380fd72860d481c916e924acc94b622": {
      "model_module": "@jupyter-widgets/base",
      "model_module_version": "1.0.0",
      "model_name": "LayoutModel",
      "state": {}
     },
     "63aace56c67042e0a2f2f944d40e544b": {
      "model_module": "@jupyter-widgets/controls",
      "model_module_version": "1.1.0",
      "model_name": "ButtonStyleModel",
      "state": {}
     },
     "63d39d5455ab456aa4a80c035525ae80": {
      "model_module": "@jupyter-widgets/base",
      "model_module_version": "1.0.0",
      "model_name": "LayoutModel",
      "state": {
       "flex": "1 1 0%",
       "width": "auto"
      }
     },
     "63e17f2c46bc42e288e5508a8b3812ad": {
      "model_module": "@jupyter-widgets/controls",
      "model_module_version": "1.1.0",
      "model_name": "ButtonModel",
      "state": {
       "button_style": "warning",
       "description": "6",
       "layout": "IPY_MODEL_2609a17cced145ad91b86d4ddfbd3bfd",
       "style": "IPY_MODEL_cb112bfe245045098f5777e8302a6ba8"
      }
     },
     "63f84678f97c4c44be797e3e11e532a8": {
      "model_module": "@jupyter-widgets/controls",
      "model_module_version": "1.1.0",
      "model_name": "ButtonModel",
      "state": {
       "button_style": "danger",
       "description": "correct",
       "layout": "IPY_MODEL_b552cfe26e0c43508b1080ce200578bd",
       "style": "IPY_MODEL_3e4a5b89ebd44a3db283a7e1b36d9cf8"
      }
     },
     "64333fcee3c943698e421bd9258e0c70": {
      "model_module": "@jupyter-widgets/controls",
      "model_module_version": "1.1.0",
      "model_name": "ButtonModel",
      "state": {
       "button_style": "warning",
       "description": "18",
       "layout": "IPY_MODEL_128139c1d2f94adbaaea71294ef22ff3",
       "style": "IPY_MODEL_d9c8aff44aba468e912df10cf2eb8458"
      }
     },
     "64371b139b524867b8e72ab573b565cd": {
      "model_module": "@jupyter-widgets/controls",
      "model_module_version": "1.1.0",
      "model_name": "ButtonStyleModel",
      "state": {}
     },
     "644124a227bd47d9b84bab20c7751596": {
      "model_module": "@jupyter-widgets/controls",
      "model_module_version": "1.1.0",
      "model_name": "VBoxModel",
      "state": {
       "children": [
        "IPY_MODEL_e7d2c4ca90044377904eb8023744ddcc",
        "IPY_MODEL_e84c5cd13fac4a658fa0950ad8d746ff"
       ],
       "layout": "IPY_MODEL_ce397cb7c02d4c7a99e0502e3272eafb"
      }
     },
     "6455057498514a0a8570678bab7f1f50": {
      "model_module": "@jupyter-widgets/controls",
      "model_module_version": "1.1.0",
      "model_name": "ButtonModel",
      "state": {
       "description": "weight=1, auto",
       "layout": "IPY_MODEL_04c72dfc94944492b992bec93cf03fbd",
       "style": "IPY_MODEL_b726f0cda5e7424b86e4beeecb212dfa"
      }
     },
     "645baf5a2d684123aaa3345d5e5fe5fc": {
      "model_module": "@jupyter-widgets/controls",
      "model_module_version": "1.1.0",
      "model_name": "ButtonModel",
      "state": {
       "button_style": "warning",
       "description": "36",
       "layout": "IPY_MODEL_4f96c205ba6c46e196e16241cfe4cf24",
       "style": "IPY_MODEL_aa3d3036ae394a6a8a21d8777726692c"
      }
     },
     "646f391d7d254803b0dc61a1edd8e568": {
      "model_module": "@jupyter-widgets/controls",
      "model_module_version": "1.1.0",
      "model_name": "ButtonStyleModel",
      "state": {}
     },
     "6479d715bcba43ed96731a814e037077": {
      "model_module": "@jupyter-widgets/controls",
      "model_module_version": "1.1.0",
      "model_name": "ButtonModel",
      "state": {
       "description": "weight=1, _0%",
       "layout": "IPY_MODEL_2d806c1ba14344589df776c17052cf70",
       "style": "IPY_MODEL_6808d529dd0448a79a4fe2f49503c495"
      }
     },
     "6490d3719bf1496ebcf56806cb0f30cd": {
      "model_module": "@jupyter-widgets/controls",
      "model_module_version": "1.1.0",
      "model_name": "ButtonModel",
      "state": {
       "button_style": "warning",
       "description": "1",
       "layout": "IPY_MODEL_128139c1d2f94adbaaea71294ef22ff3",
       "style": "IPY_MODEL_4760b10562d34cbea219c5bdbee3956d"
      }
     },
     "649c5d5c10184c0096163602f2cca6be": {
      "model_module": "@jupyter-widgets/base",
      "model_module_version": "1.0.0",
      "model_name": "LayoutModel",
      "state": {
       "align_items": "stretch",
       "border": "solid",
       "display": "flex",
       "flex_flow": "row",
       "width": "70%"
      }
     },
     "64bba450b39142ef87e00499ca6ecb07": {
      "model_module": "@jupyter-widgets/base",
      "model_module_version": "1.0.0",
      "model_name": "LayoutModel",
      "state": {}
     },
     "64d39d4f595a47cdb419abb17c6b1371": {
      "model_module": "@jupyter-widgets/controls",
      "model_module_version": "1.1.0",
      "model_name": "VBoxModel",
      "state": {
       "children": [
        "IPY_MODEL_865c010cd38e4abe9280217adb4a9b62",
        "IPY_MODEL_93d5ba4140d04a10b318fd2194a8de29"
       ],
       "layout": "IPY_MODEL_3b86c2d66b414b7f9988befb6bd42e26"
      }
     },
     "64e7f9256b684599b747d23806ed9595": {
      "model_module": "@jupyter-widgets/controls",
      "model_module_version": "1.1.0",
      "model_name": "ButtonModel",
      "state": {
       "button_style": "warning",
       "description": "12",
       "layout": "IPY_MODEL_4f96c205ba6c46e196e16241cfe4cf24",
       "style": "IPY_MODEL_d145c52b11e3418787f1f856bd47202f"
      }
     },
     "64eec6386f7a42ac992de6d8ff992b13": {
      "model_module": "@jupyter-widgets/controls",
      "model_module_version": "1.1.0",
      "model_name": "BoxModel",
      "state": {
       "children": [
        "IPY_MODEL_0d9744538f9f40969c23538cc9cfe25a",
        "IPY_MODEL_5fa69c1024d549758c34eee3ba780271",
        "IPY_MODEL_38c08caf3e334fe3bff0a802d703e117",
        "IPY_MODEL_161ded8e11144f2c9cbd4d26b3633836",
        "IPY_MODEL_a725a811ee5f4269a5791925a7cb186c",
        "IPY_MODEL_bb3d20ae02294a0a9e44b7307c630822",
        "IPY_MODEL_63e17f2c46bc42e288e5508a8b3812ad",
        "IPY_MODEL_5de7a7cd326a45a4924e06b996029ef8",
        "IPY_MODEL_94295db0a9704364ad2f120a2feb9d34",
        "IPY_MODEL_2eb494f162f94fbca711a580594ea9dc",
        "IPY_MODEL_a215139af73d41fe8f450d3ec2bcd2c9",
        "IPY_MODEL_c8929da433be4f0baecb05a4ceb0f2df",
        "IPY_MODEL_fafcf24ab6554f218c36ec0073cae5ca",
        "IPY_MODEL_1a3dfc4394804b5ab32d6b78a31ac55a",
        "IPY_MODEL_6bfc3458c128475d9306dcb97fc567f9",
        "IPY_MODEL_3de123c8cbe34ec185b392461cdb6c54",
        "IPY_MODEL_bce73fd260b2447d869029891eec9a22",
        "IPY_MODEL_235c0626c2904c60b0e4ea9ab153c392",
        "IPY_MODEL_b6dd8f66ee6d4c10b9c04b11b3a65253",
        "IPY_MODEL_ff4a59943615409dbf27cc8030e16632",
        "IPY_MODEL_38ad76e69214447d84171d713b4948e0",
        "IPY_MODEL_44c61e37e313419cb2878a92c08d212c",
        "IPY_MODEL_737e494bbdb047c491bff1c0a5926565",
        "IPY_MODEL_849c0d4558e74f9a9beaab9a6fa46636",
        "IPY_MODEL_8b39c022d33548fb8e382f05b8ea1984",
        "IPY_MODEL_ce73c9001d9a4277bbb052b622320053",
        "IPY_MODEL_448fccf4f6ab443c8d5bb806b9cc4815",
        "IPY_MODEL_0f9d050b069547968aae22ef4cb4a62c",
        "IPY_MODEL_95c6b7dfe9c646b08bfe9a07262f1d82",
        "IPY_MODEL_0717f8881f7e41f9abea11cedf88b30c",
        "IPY_MODEL_9740a1f70e774e9bab42f6624596bc0b",
        "IPY_MODEL_cc54b3f8483348b58ed9e44423b67923",
        "IPY_MODEL_5b6be4b4d08b4849916f2fbd8466c781",
        "IPY_MODEL_a982ea8f9c564cc494fcf7eba4b30456",
        "IPY_MODEL_9850d9f55a1c48ffa5f824dd214dbb48",
        "IPY_MODEL_939225dc381541bfa0b7a9af18b3ec1f",
        "IPY_MODEL_aa382f71d5e847fe8d278d0a4ce8ba83",
        "IPY_MODEL_91c8b75ba9264800aa8c54b95e639ed8",
        "IPY_MODEL_f7a7526ce5d94d4cab8f25fc8cd90459",
        "IPY_MODEL_3b68ff56f755412383b3007cbd7fbf30"
       ],
       "layout": "IPY_MODEL_625eadedfb064b0b85843865afcd62d6"
      }
     },
     "653b5747a4a242e997bca153a68f1d0c": {
      "model_module": "@jupyter-widgets/controls",
      "model_module_version": "1.1.0",
      "model_name": "LabelModel",
      "state": {
       "layout": "IPY_MODEL_d2991a11e50948798c87bd55a6e4a4ce",
       "style": "IPY_MODEL_05bfcfb94e174b29b3bbe8149dcc1271",
       "value": "Ship size"
      }
     },
     "6583b864d5e5481f991066254ab81abb": {
      "model_module": "@jupyter-widgets/base",
      "model_module_version": "1.0.0",
      "model_name": "LayoutModel",
      "state": {
       "flex": "1 1 auto",
       "width": "auto"
      }
     },
     "6585e15f31b0423f80c564b79b270ada": {
      "model_module": "@jupyter-widgets/controls",
      "model_module_version": "1.1.0",
      "model_name": "ButtonStyleModel",
      "state": {
       "button_color": "lightgreen"
      }
     },
     "659d13f88e60485085b081544419529c": {
      "model_module": "@jupyter-widgets/controls",
      "model_module_version": "1.1.0",
      "model_name": "LabelModel",
      "state": {
       "layout": "IPY_MODEL_e0804b20489647cbb5136d7cb72fac72",
       "style": "IPY_MODEL_418cfbfe57d04885bb64dcdb96055917",
       "value": "\\(e=mc^2\\)"
      }
     },
     "65a2aa4dded849bd99eb15aff08a02c1": {
      "model_module": "@jupyter-widgets/controls",
      "model_module_version": "1.1.0",
      "model_name": "ButtonStyleModel",
      "state": {}
     },
     "65b4f2ee8e3c42c19915748e57f0c6eb": {
      "model_module": "@jupyter-widgets/controls",
      "model_module_version": "1.1.0",
      "model_name": "ButtonStyleModel",
      "state": {}
     },
     "65cc81bae10142e3b4d2635c4bd30f77": {
      "model_module": "@jupyter-widgets/base",
      "model_module_version": "1.0.0",
      "model_name": "LayoutModel",
      "state": {}
     },
     "65db632122ab4ed881a4a10876784c27": {
      "model_module": "@jupyter-widgets/controls",
      "model_module_version": "1.1.0",
      "model_name": "ButtonModel",
      "state": {
       "button_style": "warning",
       "description": "37",
       "layout": "IPY_MODEL_1d10072127cb4a32968374fdb7bd2479",
       "style": "IPY_MODEL_9f0af05564a340cd9bece8b7d8c8f256"
      }
     },
     "6603eb25b4ff475e9ff2ac306a7decaf": {
      "model_module": "@jupyter-widgets/controls",
      "model_module_version": "1.1.0",
      "model_name": "ButtonStyleModel",
      "state": {}
     },
     "66067a0d908c442ebdcda47fd5a76c27": {
      "model_module": "@jupyter-widgets/controls",
      "model_module_version": "1.1.0",
      "model_name": "ButtonStyleModel",
      "state": {}
     },
     "663ab75eb311411383d47590fdcbb967": {
      "model_module": "@jupyter-widgets/controls",
      "model_module_version": "1.1.0",
      "model_name": "ButtonStyleModel",
      "state": {}
     },
     "665970b4386e45caa73c60be718c22c3": {
      "model_module": "@jupyter-widgets/controls",
      "model_module_version": "1.1.0",
      "model_name": "ButtonStyleModel",
      "state": {}
     },
     "667b646c340e4218be7b21579a80155e": {
      "model_module": "@jupyter-widgets/base",
      "model_module_version": "1.0.0",
      "model_name": "LayoutModel",
      "state": {
       "flex": "2 1 0%",
       "width": "auto"
      }
     },
     "66872eb1e9eb489a823056e08f8dccea": {
      "model_module": "@jupyter-widgets/controls",
      "model_module_version": "1.1.0",
      "model_name": "DescriptionStyleModel",
      "state": {
       "description_width": ""
      }
     },
     "66a8cb58b075466782d893d1fe564ab3": {
      "model_module": "@jupyter-widgets/base",
      "model_module_version": "1.0.0",
      "model_name": "LayoutModel",
      "state": {
       "flex": "1 1 0%",
       "width": "auto"
      }
     },
     "66b4474973da4fb98145cc0114703723": {
      "model_module": "@jupyter-widgets/base",
      "model_module_version": "1.0.0",
      "model_name": "LayoutModel",
      "state": {}
     },
     "66b8aee1f89a46209f0fe60449a8dc78": {
      "model_module": "@jupyter-widgets/controls",
      "model_module_version": "1.1.0",
      "model_name": "ButtonStyleModel",
      "state": {}
     },
     "66c815b329a545cb8bcfa1e2b981f7f4": {
      "model_module": "@jupyter-widgets/base",
      "model_module_version": "1.0.0",
      "model_name": "LayoutModel",
      "state": {
       "flex": "1 1 0%",
       "width": "auto"
      }
     },
     "66f85e56573540f88c0b8130c258281a": {
      "model_module": "@jupyter-widgets/controls",
      "model_module_version": "1.1.0",
      "model_name": "ButtonStyleModel",
      "state": {}
     },
     "66fd2aeefd804a13aca0b919a29b0e80": {
      "model_module": "@jupyter-widgets/controls",
      "model_module_version": "1.1.0",
      "model_name": "ButtonModel",
      "state": {
       "button_style": "warning",
       "description": "16",
       "layout": "IPY_MODEL_f97c294201b54222ba61666297c61c75",
       "style": "IPY_MODEL_dbc39a1653f2444fafedbd8a58e2bf4e"
      }
     },
     "67068b581bb14e7c81f9578fd6ac3fdb": {
      "model_module": "@jupyter-widgets/controls",
      "model_module_version": "1.1.0",
      "model_name": "ButtonModel",
      "state": {
       "button_style": "warning",
       "description": "25",
       "layout": "IPY_MODEL_5f4383735711415596954c7bc1a5bfd1",
       "style": "IPY_MODEL_1ee1b7f4ec694c12b440b16a4ff99dc8"
      }
     },
     "671b8c503ce14a4da2068c7227048784": {
      "model_module": "@jupyter-widgets/controls",
      "model_module_version": "1.1.0",
      "model_name": "ButtonStyleModel",
      "state": {}
     },
     "6728488a753341f1a2d439ee17ff14b4": {
      "model_module": "@jupyter-widgets/controls",
      "model_module_version": "1.1.0",
      "model_name": "DescriptionStyleModel",
      "state": {
       "description_width": ""
      }
     },
     "67363cef1dad46f2bf732f82603f00da": {
      "model_module": "@jupyter-widgets/controls",
      "model_module_version": "1.1.0",
      "model_name": "ButtonModel",
      "state": {
       "description": "weight=2, auto",
       "layout": "IPY_MODEL_f2b9e27744af4064a9238abe3dcd55da",
       "style": "IPY_MODEL_9d7057a54df44e139c9fdff148b0b374"
      }
     },
     "67620e6a5449490a8b2ecb27586a04c1": {
      "model_module": "@jupyter-widgets/controls",
      "model_module_version": "1.1.0",
      "model_name": "ButtonStyleModel",
      "state": {}
     },
     "677101d7b57b472880a5ee5495e9922d": {
      "model_module": "@jupyter-widgets/controls",
      "model_module_version": "1.1.0",
      "model_name": "VBoxModel",
      "state": {
       "children": [
        "IPY_MODEL_5c57b24638ab41cd938d130772059304",
        "IPY_MODEL_00f8858a36fd443388936b742bb8b580"
       ],
       "layout": "IPY_MODEL_0bcd24c67d33432d89ab472f6eb79e9e"
      }
     },
     "67a5ff316b0c4825a48bfd4d1e9c36c6": {
      "model_module": "@jupyter-widgets/controls",
      "model_module_version": "1.1.0",
      "model_name": "IntSliderModel",
      "state": {
       "layout": "IPY_MODEL_b32b96e20f5245f89fd7c67750d4c97f",
       "max": 60,
       "min": 40,
       "style": "IPY_MODEL_b3919ebb58af4852ad72e704c0d76152",
       "value": 44
      }
     },
     "68063207104c47b0aab7868b78b9df52": {
      "model_module": "@jupyter-widgets/controls",
      "model_module_version": "1.1.0",
      "model_name": "ButtonStyleModel",
      "state": {}
     },
     "6808d529dd0448a79a4fe2f49503c495": {
      "model_module": "@jupyter-widgets/controls",
      "model_module_version": "1.1.0",
      "model_name": "ButtonStyleModel",
      "state": {}
     },
     "681494fc4a0e4fe49efd2055dfb85df2": {
      "model_module": "@jupyter-widgets/controls",
      "model_module_version": "1.1.0",
      "model_name": "BoxModel",
      "state": {
       "children": [
        "IPY_MODEL_e0d6241184be4291bc01cf1dcdad0dbb",
        "IPY_MODEL_9935c4b522284ad88aaaae42b3d72a20",
        "IPY_MODEL_e400a45357cf40c980847b905d1c0959"
       ],
       "layout": "IPY_MODEL_26de14cf89fb4a058ebbd27357adcf0a"
      }
     },
     "684ae7d057c344dc813f5704552d30a3": {
      "model_module": "@jupyter-widgets/controls",
      "model_module_version": "1.1.0",
      "model_name": "DescriptionStyleModel",
      "state": {
       "description_width": ""
      }
     },
     "685b2a9219fb45099353e6f6bb8b4acf": {
      "model_module": "@jupyter-widgets/base",
      "model_module_version": "1.0.0",
      "model_name": "LayoutModel",
      "state": {
       "align_items": "stretch",
       "border": "solid",
       "display": "flex",
       "flex_flow": "row",
       "width": "70%"
      }
     },
     "688bce4f57c14ea6828456892463648e": {
      "model_module": "@jupyter-widgets/controls",
      "model_module_version": "1.1.0",
      "model_name": "ButtonStyleModel",
      "state": {}
     },
     "6914f507a2eb4596ac4d6c7cdb0ddca8": {
      "model_module": "@jupyter-widgets/controls",
      "model_module_version": "1.1.0",
      "model_name": "ButtonStyleModel",
      "state": {}
     },
     "69400eacd9594846b0a32ded7a7e4fce": {
      "model_module": "@jupyter-widgets/controls",
      "model_module_version": "1.1.0",
      "model_name": "ButtonStyleModel",
      "state": {}
     },
     "695b46d840184b04b17f2e52b95d43b9": {
      "model_module": "@jupyter-widgets/controls",
      "model_module_version": "1.1.0",
      "model_name": "DescriptionStyleModel",
      "state": {
       "description_width": ""
      }
     },
     "6977ab1dfb394ffea855230d6b789a5f": {
      "model_module": "@jupyter-widgets/controls",
      "model_module_version": "1.1.0",
      "model_name": "ButtonStyleModel",
      "state": {}
     },
     "6984a6607999448d87fed901293dedb4": {
      "model_module": "@jupyter-widgets/base",
      "model_module_version": "1.0.0",
      "model_name": "LayoutModel",
      "state": {}
     },
     "699c865fdd3841cda9aa7c4564345ec4": {
      "model_module": "@jupyter-widgets/controls",
      "model_module_version": "1.1.0",
      "model_name": "ButtonStyleModel",
      "state": {}
     },
     "69c6222eb0004502a35a3d1820b16f1b": {
      "model_module": "@jupyter-widgets/controls",
      "model_module_version": "1.1.0",
      "model_name": "ButtonStyleModel",
      "state": {}
     },
     "6a08969f381242e19f86d1177bdfff7b": {
      "model_module": "@jupyter-widgets/controls",
      "model_module_version": "1.1.0",
      "model_name": "ButtonStyleModel",
      "state": {}
     },
     "6a1daa42237443f0919d191c42d03ea4": {
      "model_module": "@jupyter-widgets/controls",
      "model_module_version": "1.1.0",
      "model_name": "ButtonStyleModel",
      "state": {}
     },
     "6a28aab88ef94006b526ff66fce68f90": {
      "model_module": "@jupyter-widgets/base",
      "model_module_version": "1.0.0",
      "model_name": "LayoutModel",
      "state": {
       "border": "3px solid black",
       "display": "flex",
       "height": "",
       "overflow_x": "scroll",
       "width": "500px"
      }
     },
     "6a6d3eb9e57e4f1489cf90ad6875c9e0": {
      "model_module": "@jupyter-widgets/controls",
      "model_module_version": "1.1.0",
      "model_name": "ButtonStyleModel",
      "state": {}
     },
     "6a84ac423f4c48cbbecef4f5f8964ddb": {
      "model_module": "@jupyter-widgets/controls",
      "model_module_version": "1.1.0",
      "model_name": "ButtonModel",
      "state": {
       "button_style": "warning",
       "description": "33",
       "layout": "IPY_MODEL_128139c1d2f94adbaaea71294ef22ff3",
       "style": "IPY_MODEL_e05fea9163154e4bbd746f6bcbc1945d"
      }
     },
     "6a8dcf09e6c94dbfb18914b349dcbca6": {
      "model_module": "@jupyter-widgets/controls",
      "model_module_version": "1.1.0",
      "model_name": "ButtonModel",
      "state": {
       "button_style": "warning",
       "description": "33",
       "layout": "IPY_MODEL_5f4383735711415596954c7bc1a5bfd1",
       "style": "IPY_MODEL_1394725853bb4ca3820f81ad917227a7"
      }
     },
     "6a8dd20550a94aec8db67bf5516b6773": {
      "model_module": "@jupyter-widgets/controls",
      "model_module_version": "1.1.0",
      "model_name": "ButtonStyleModel",
      "state": {}
     },
     "6aab9b4acbf9416abc8d9e58ad63260b": {
      "model_module": "@jupyter-widgets/controls",
      "model_module_version": "1.1.0",
      "model_name": "ButtonStyleModel",
      "state": {}
     },
     "6ab986af3d744b8b8c10354bbf2bc8c2": {
      "model_module": "@jupyter-widgets/controls",
      "model_module_version": "1.1.0",
      "model_name": "ButtonStyleModel",
      "state": {}
     },
     "6abcd37e41034b2ca8a2c4c4ba0dca11": {
      "model_module": "@jupyter-widgets/base",
      "model_module_version": "1.0.0",
      "model_name": "LayoutModel",
      "state": {
       "height": "100px",
       "min_width": "40px"
      }
     },
     "6aee015cdc85424ba89326efe20bc663": {
      "model_module": "@jupyter-widgets/controls",
      "model_module_version": "1.1.0",
      "model_name": "DescriptionStyleModel",
      "state": {
       "description_width": ""
      }
     },
     "6b3a4ceaac7c43f8b33670e2664fbf59": {
      "model_module": "@jupyter-widgets/controls",
      "model_module_version": "1.1.0",
      "model_name": "ButtonModel",
      "state": {
       "description": "weight=1, _0%",
       "layout": "IPY_MODEL_62c00504206a4f319ac1bb7c9a464d92",
       "style": "IPY_MODEL_14149709fe1547c489e0e3b8806a95af"
      }
     },
     "6b4eb06f36e946c989a2c5bd0241d2b5": {
      "model_module": "@jupyter-widgets/controls",
      "model_module_version": "1.1.0",
      "model_name": "ButtonStyleModel",
      "state": {}
     },
     "6b9b713620da4bb78b618a84e5aa4611": {
      "model_module": "@jupyter-widgets/controls",
      "model_module_version": "1.1.0",
      "model_name": "ButtonStyleModel",
      "state": {}
     },
     "6bc57eaf6e7e426f8d816ab0534bceb1": {
      "model_module": "@jupyter-widgets/base",
      "model_module_version": "1.0.0",
      "model_name": "LayoutModel",
      "state": {
       "flex": "1 1 0%",
       "width": "auto"
      }
     },
     "6bdc9ccb17d247889746df0830198ce0": {
      "model_module": "@jupyter-widgets/controls",
      "model_module_version": "1.1.0",
      "model_name": "ButtonModel",
      "state": {
       "button_style": "danger",
       "description": "weight=1, auto",
       "layout": "IPY_MODEL_0a9917e4dcb3416abe3ed044f3c95de6",
       "style": "IPY_MODEL_ad04a0d05cf8443db02f4c616a3b8d29"
      }
     },
     "6bf61ba234264970849e71e7ab0fcf3e": {
      "model_module": "@jupyter-widgets/controls",
      "model_module_version": "1.1.0",
      "model_name": "ButtonStyleModel",
      "state": {}
     },
     "6bfc3458c128475d9306dcb97fc567f9": {
      "model_module": "@jupyter-widgets/controls",
      "model_module_version": "1.1.0",
      "model_name": "ButtonModel",
      "state": {
       "button_style": "warning",
       "description": "14",
       "layout": "IPY_MODEL_2609a17cced145ad91b86d4ddfbd3bfd",
       "style": "IPY_MODEL_399c2e2292b94478b56fe2f83b42033e"
      }
     },
     "6c011579af6a4256860f92d3ff58756e": {
      "model_module": "@jupyter-widgets/controls",
      "model_module_version": "1.1.0",
      "model_name": "ButtonModel",
      "state": {
       "button_style": "warning",
       "description": "21",
       "layout": "IPY_MODEL_128139c1d2f94adbaaea71294ef22ff3",
       "style": "IPY_MODEL_89542429f977414f8dd02e4e426070a1"
      }
     },
     "6c02b2fe3030490592c6e9f3a58ed8f5": {
      "model_module": "@jupyter-widgets/controls",
      "model_module_version": "1.1.0",
      "model_name": "ButtonModel",
      "state": {
       "button_style": "warning",
       "description": "26",
       "layout": "IPY_MODEL_1d10072127cb4a32968374fdb7bd2479",
       "style": "IPY_MODEL_22e5e6cb686b43048db8652964db63f5"
      }
     },
     "6c1ccff8ac5d4bc5a312dd11ae9546da": {
      "model_module": "@jupyter-widgets/controls",
      "model_module_version": "1.1.0",
      "model_name": "DescriptionStyleModel",
      "state": {
       "description_width": ""
      }
     },
     "6c2f56b174374ef28e6b3e99afbf21a2": {
      "model_module": "@jupyter-widgets/controls",
      "model_module_version": "1.1.0",
      "model_name": "ButtonModel",
      "state": {
       "description": "weight=1",
       "layout": "IPY_MODEL_05e6adee92e24fc2ad2f544c26e97399",
       "style": "IPY_MODEL_2fe7c89e78d74ecdb84f9a00484ce7bd"
      }
     },
     "6c3a45c519d24fda9194aeaf0dced228": {
      "model_module": "@jupyter-widgets/controls",
      "model_module_version": "1.1.0",
      "model_name": "ButtonModel",
      "state": {
       "button_style": "danger",
       "description": "weight=3, _0%",
       "layout": "IPY_MODEL_fcebdcbd09f140ff89a51464d9fc1d35",
       "style": "IPY_MODEL_7886b75f3c63420c9604248918d57e88"
      }
     },
     "6c3ad1bf79c24d088f800daae511c31c": {
      "model_module": "@jupyter-widgets/controls",
      "model_module_version": "1.1.0",
      "model_name": "ButtonStyleModel",
      "state": {}
     },
     "6c7dd6a840fd422db439be113058c889": {
      "model_module": "@jupyter-widgets/controls",
      "model_module_version": "1.1.0",
      "model_name": "ButtonModel",
      "state": {
       "button_style": "warning",
       "description": "36",
       "layout": "IPY_MODEL_9886a36bb356420e9e4d3c7cdd66e238",
       "style": "IPY_MODEL_af5f43e708c1452d9db0c081d54615c2"
      }
     },
     "6cdad80a8b7341a0bd2d9b3fb3a8ae71": {
      "model_module": "@jupyter-widgets/controls",
      "model_module_version": "1.1.0",
      "model_name": "ButtonModel",
      "state": {
       "button_style": "danger",
       "description": "weight=1, auto",
       "layout": "IPY_MODEL_748f844e1c3c4512beb3d0edd6910e37",
       "style": "IPY_MODEL_8b7c6c205d994f02b7c3a2ce9d27d94d"
      }
     },
     "6d06309ef84242af8feab43b84d41494": {
      "model_module": "@jupyter-widgets/controls",
      "model_module_version": "1.1.0",
      "model_name": "ButtonStyleModel",
      "state": {}
     },
     "6d08deb1de7146b993f9fc461367dfa0": {
      "model_module": "@jupyter-widgets/controls",
      "model_module_version": "1.1.0",
      "model_name": "ButtonModel",
      "state": {
       "description": "weight=2, auto",
       "layout": "IPY_MODEL_832a88d219a643cf80a470389935dd34",
       "style": "IPY_MODEL_93ac7c179b9444c993a6207ebebffe4d"
      }
     },
     "6d54d28ad21a4cf0864a0845b5c61582": {
      "model_module": "@jupyter-widgets/base",
      "model_module_version": "1.0.0",
      "model_name": "LayoutModel",
      "state": {}
     },
     "6d65ff560e8b43efb20fdc71bbb7abd6": {
      "model_module": "@jupyter-widgets/base",
      "model_module_version": "1.0.0",
      "model_name": "LayoutModel",
      "state": {
       "width": "auto"
      }
     },
     "6d68e1a2ffc24b7b9e6d33d56d5d6191": {
      "model_module": "@jupyter-widgets/controls",
      "model_module_version": "1.1.0",
      "model_name": "ButtonModel",
      "state": {
       "button_style": "warning",
       "description": "19",
       "layout": "IPY_MODEL_86c93170059349499a5f76156cbd8cdf",
       "style": "IPY_MODEL_2e7d5587673b42ff981bea38d4a1f472"
      }
     },
     "6d8e29f8b4d34096a3a5cf54f9aa11dc": {
      "model_module": "@jupyter-widgets/controls",
      "model_module_version": "1.1.0",
      "model_name": "FloatTextModel",
      "state": {
       "layout": "IPY_MODEL_b93185083a8d4441acf03d604ea3568d",
       "step": null,
       "style": "IPY_MODEL_85ba4b04152e4c69a769310967ae2598"
      }
     },
     "6d8e8fc6c71840f6b4677a208285d1bb": {
      "model_module": "@jupyter-widgets/controls",
      "model_module_version": "1.1.0",
      "model_name": "ButtonStyleModel",
      "state": {}
     },
     "6dafcea03ca1409d9eec1d9914a20c80": {
      "model_module": "@jupyter-widgets/controls",
      "model_module_version": "1.1.0",
      "model_name": "ButtonModel",
      "state": {
       "button_style": "warning",
       "description": "27",
       "layout": "IPY_MODEL_4f96c205ba6c46e196e16241cfe4cf24",
       "style": "IPY_MODEL_2a736ee5fe76457e95eda9e5d840ae81"
      }
     },
     "6e05dfee8fad48989779491e5b648325": {
      "model_module": "@jupyter-widgets/base",
      "model_module_version": "1.0.0",
      "model_name": "LayoutModel",
      "state": {}
     },
     "6e1b61bf4d1f4ded9e99c1d9a847eef8": {
      "model_module": "@jupyter-widgets/controls",
      "model_module_version": "1.1.0",
      "model_name": "ButtonStyleModel",
      "state": {}
     },
     "6e1d632d7347464090b7473164d6ed84": {
      "model_module": "@jupyter-widgets/controls",
      "model_module_version": "1.1.0",
      "model_name": "VBoxModel",
      "state": {
       "children": [
        "IPY_MODEL_a805481e4e2943dea6eccd126b4c30c8",
        "IPY_MODEL_3ad0cbfd365a431787af4b15cd2f423f"
       ],
       "layout": "IPY_MODEL_e080244dd9f74b548cc3d910ac8391c9"
      }
     },
     "6e34d432ac9b431e8456527d94046441": {
      "model_module": "@jupyter-widgets/controls",
      "model_module_version": "1.1.0",
      "model_name": "ButtonModel",
      "state": {
       "button_style": "warning",
       "description": "12",
       "layout": "IPY_MODEL_1d10072127cb4a32968374fdb7bd2479",
       "style": "IPY_MODEL_8ba04621f14b4b72ab5e0426845785e6"
      }
     },
     "6e3b5f3f0383455f9c6228b8be695c4f": {
      "model_module": "@jupyter-widgets/controls",
      "model_module_version": "1.1.0",
      "model_name": "BoxModel",
      "state": {
       "children": [
        "IPY_MODEL_bb00187efa354c8e99ac8b21c9bfe3d7",
        "IPY_MODEL_93e4f65746924ba7a0adc08044ad7c93"
       ],
       "layout": "IPY_MODEL_b73dcd51c0a84653a2a1d0fc2da4f240"
      }
     },
     "6e57277a9d024555a035753cb2039bf9": {
      "model_module": "@jupyter-widgets/controls",
      "model_module_version": "1.1.0",
      "model_name": "SliderStyleModel",
      "state": {
       "description_width": ""
      }
     },
     "6eb4d63d00884fb990eb7fbc06bf0d40": {
      "model_module": "@jupyter-widgets/controls",
      "model_module_version": "1.1.0",
      "model_name": "ButtonStyleModel",
      "state": {}
     },
     "6ee3695c42314a74aaad20c87352ee2d": {
      "model_module": "@jupyter-widgets/controls",
      "model_module_version": "1.1.0",
      "model_name": "ButtonModel",
      "state": {
       "button_style": "warning",
       "description": "10",
       "layout": "IPY_MODEL_616560d2e26b4bee8b7c903f483241f8",
       "style": "IPY_MODEL_7f6de41ac2494942928747e4a7094709"
      }
     },
     "6eeb15aeba2b4bcb8ad73e2e89fec4a7": {
      "model_module": "@jupyter-widgets/controls",
      "model_module_version": "1.1.0",
      "model_name": "ButtonStyleModel",
      "state": {}
     },
     "6f17f620b21e4bd1bd8192eb006f74f1": {
      "model_module": "@jupyter-widgets/controls",
      "model_module_version": "1.1.0",
      "model_name": "LabelModel",
      "state": {
       "layout": "IPY_MODEL_11422f4fd5e34a98bfd4903086688cab",
       "style": "IPY_MODEL_a9b2c773e12c4c3cbc620f9d162d03c2",
       "value": "Egg style"
      }
     },
     "6f32d841632f49d5b2268fb667ef9b00": {
      "model_module": "@jupyter-widgets/controls",
      "model_module_version": "1.1.0",
      "model_name": "BoxModel",
      "state": {
       "children": [
        "IPY_MODEL_8f731e87ee994ad29a4b7e5910af2dbe",
        "IPY_MODEL_48c28ecf8ba54a329c6b551c647d7651",
        "IPY_MODEL_5063f970b3624c3b9aa54e639cf768e4",
        "IPY_MODEL_227ded38627c4b6083c960ad642093ab",
        "IPY_MODEL_32e6a8d4fc674d9983cd81cdf57e1a0c",
        "IPY_MODEL_c732975859bd4754999810506faa7c72",
        "IPY_MODEL_6f4e7ad0949c47a7a83aaf802d8f8e44",
        "IPY_MODEL_33980c241e614b6e8c80d1b582637c77",
        "IPY_MODEL_241523cf9ace4fde8bc3cbf1082e9cc2",
        "IPY_MODEL_edbe2f1e386c47c4b8bf0a1f0e0509b3",
        "IPY_MODEL_c00543bc12bc43acae052bd2c71782c6",
        "IPY_MODEL_203f708ff78044858d15485a827a6685",
        "IPY_MODEL_6e34d432ac9b431e8456527d94046441",
        "IPY_MODEL_a0bc358fbd2e44b4a755650c8974a853",
        "IPY_MODEL_2e282e6da10d4c5398a43bb3dce8de3a",
        "IPY_MODEL_fe114d8bb26f4306b304892f642987de",
        "IPY_MODEL_38d46f1f2ccf47d78142b38f6cea43a0",
        "IPY_MODEL_b937c41330af4033be3a34a1ad2cd48e",
        "IPY_MODEL_29152ab211d04971b2380c6423a9b96d",
        "IPY_MODEL_b7bda0181ed74aaebba7bceb713ff499",
        "IPY_MODEL_ca926de8c083469c94ba019a063c5963",
        "IPY_MODEL_85953ba390dd46a5aab6537e623e4e8c",
        "IPY_MODEL_bad6e3deb0fe45b29050e99562d175fc",
        "IPY_MODEL_31a230eae331422f8f5c8cf0b43ba0d8",
        "IPY_MODEL_391a36a59a854ea98ef503c492201ac3",
        "IPY_MODEL_2b83e258eb0f4fe58fc14e148c9592a6",
        "IPY_MODEL_6c02b2fe3030490592c6e9f3a58ed8f5",
        "IPY_MODEL_7822ba7f1b314823a01565c7cb9186c9",
        "IPY_MODEL_26f4ab9ee5574b049ab717ed90fb8b01",
        "IPY_MODEL_c5429fa966b148428d8aed0fe73519a5",
        "IPY_MODEL_267308d7e969409481d26712d5d2e06e",
        "IPY_MODEL_55c2ad91ff184c609fc595985a53331b",
        "IPY_MODEL_e9357d0e0a3f49278997d7be2d59bfd0",
        "IPY_MODEL_db0799217826411fb3ce2ad80e56b971",
        "IPY_MODEL_1e4419a3c84d42a5ae453449254fc602",
        "IPY_MODEL_ae65cd331b594ba6a936aa600d3020b6",
        "IPY_MODEL_ed21397c67c54aec8b6c2c9d077f8ba8",
        "IPY_MODEL_65db632122ab4ed881a4a10876784c27",
        "IPY_MODEL_3ae7d478dc1c474bbce2988475a483d7",
        "IPY_MODEL_780c88f2097a40ceb31c9afd01999a60"
       ],
       "layout": "IPY_MODEL_190f5459176b44429970f89055f16758"
      }
     },
     "6f37e9f800234188b42dcd58103b252a": {
      "model_module": "@jupyter-widgets/controls",
      "model_module_version": "1.1.0",
      "model_name": "ButtonModel",
      "state": {
       "button_style": "warning",
       "description": "27",
       "layout": "IPY_MODEL_6abcd37e41034b2ca8a2c4c4ba0dca11",
       "style": "IPY_MODEL_280ef884ccd54a2f981e70d63e276f68"
      }
     },
     "6f4e7ad0949c47a7a83aaf802d8f8e44": {
      "model_module": "@jupyter-widgets/controls",
      "model_module_version": "1.1.0",
      "model_name": "ButtonModel",
      "state": {
       "button_style": "warning",
       "description": "6",
       "layout": "IPY_MODEL_1d10072127cb4a32968374fdb7bd2479",
       "style": "IPY_MODEL_2c6b7d7eddaa4594815a64122e7bda7e"
      }
     },
     "6f69160aae2e490ca3e5545e5a58bdca": {
      "model_module": "@jupyter-widgets/controls",
      "model_module_version": "1.1.0",
      "model_name": "ButtonModel",
      "state": {
       "button_style": "warning",
       "description": "15",
       "layout": "IPY_MODEL_5f4383735711415596954c7bc1a5bfd1",
       "style": "IPY_MODEL_eb80509f7f924e6b9bdcf9bb1d645b24"
      }
     },
     "6f75f0851b4c40599d7d88100d52be88": {
      "model_module": "@jupyter-widgets/controls",
      "model_module_version": "1.1.0",
      "model_name": "ButtonModel",
      "state": {
       "button_style": "danger",
       "description": "correct",
       "layout": "IPY_MODEL_7ff80e764e2745d9800eae1f025f64e0",
       "style": "IPY_MODEL_06181f317c114c798f759ee857d3f190"
      }
     },
     "6f84475c4395452ba31934f7e471fb54": {
      "model_module": "@jupyter-widgets/controls",
      "model_module_version": "1.1.0",
      "model_name": "ButtonStyleModel",
      "state": {}
     },
     "6faee9851ba3483fb44e5fdb6b76664a": {
      "model_module": "@jupyter-widgets/controls",
      "model_module_version": "1.1.0",
      "model_name": "ButtonModel",
      "state": {
       "button_style": "danger",
       "description": "Danger Button",
       "layout": "IPY_MODEL_b9f2c8dcffa14cae87cfa14292703498",
       "style": "IPY_MODEL_95c3b9a5ff0f44a7923498d0090ee53d"
      }
     },
     "6fe928030f9c478db354b230c14f362b": {
      "model_module": "@jupyter-widgets/controls",
      "model_module_version": "1.1.0",
      "model_name": "ButtonStyleModel",
      "state": {}
     },
     "6feb26eafe7944e7940b9c5b23150ebe": {
      "model_module": "@jupyter-widgets/controls",
      "model_module_version": "1.1.0",
      "model_name": "ButtonModel",
      "state": {
       "description": "staple",
       "layout": "IPY_MODEL_3958029d40db4179801c7efad0518acf",
       "style": "IPY_MODEL_f635bd3b224c4f18936c7b7df72219f0"
      }
     },
     "6fef30c286494b9d8399d1db5d4ea222": {
      "model_module": "@jupyter-widgets/controls",
      "model_module_version": "1.1.0",
      "model_name": "ButtonStyleModel",
      "state": {}
     },
     "7000be9781114315bb9b2e8481e78393": {
      "model_module": "@jupyter-widgets/controls",
      "model_module_version": "1.1.0",
      "model_name": "ButtonModel",
      "state": {
       "button_style": "warning",
       "description": "11",
       "layout": "IPY_MODEL_4f96c205ba6c46e196e16241cfe4cf24",
       "style": "IPY_MODEL_d54484dacc7b4f9893185985f5a65f57"
      }
     },
     "700a91435fa04668b15417f9108665eb": {
      "model_module": "@jupyter-widgets/controls",
      "model_module_version": "1.1.0",
      "model_name": "ButtonModel",
      "state": {
       "button_style": "warning",
       "description": "15",
       "layout": "IPY_MODEL_5a006e2933db480cbe6187ccadf63fd7",
       "style": "IPY_MODEL_7e496ff10be84f3c943d4ba18443a557"
      }
     },
     "7011636756554dc6a84fb83e4ea3d143": {
      "model_module": "@jupyter-widgets/base",
      "model_module_version": "1.0.0",
      "model_name": "LayoutModel",
      "state": {
       "flex": "2 1 0%",
       "width": "auto"
      }
     },
     "7026b132f6d24b68a77dff5ad702d84a": {
      "model_module": "@jupyter-widgets/base",
      "model_module_version": "1.0.0",
      "model_name": "LayoutModel",
      "state": {}
     },
     "703ee41bfbdb459187b12302d1f72f32": {
      "model_module": "@jupyter-widgets/controls",
      "model_module_version": "1.1.0",
      "model_name": "VBoxModel",
      "state": {
       "children": [
        "IPY_MODEL_02bdaaf61bd440258fbf0cd159be0597",
        "IPY_MODEL_8ff627487a214657b3eff8e850263aa8"
       ],
       "layout": "IPY_MODEL_ecfa356aee974997a882b107203fd036"
      }
     },
     "7045f0292ca9474bbe9e64880f543f6e": {
      "model_module": "@jupyter-widgets/controls",
      "model_module_version": "1.1.0",
      "model_name": "ButtonModel",
      "state": {
       "button_style": "warning",
       "description": "34",
       "layout": "IPY_MODEL_0606cbc317604fbdbaea9d3fd0b2d14a",
       "style": "IPY_MODEL_416d5858784e4cf4b006dbe56fffb7fe"
      }
     },
     "7054b07e96db4daba798ed11db6ff083": {
      "model_module": "@jupyter-widgets/base",
      "model_module_version": "1.0.0",
      "model_name": "LayoutModel",
      "state": {
       "flex": "2 1 auto",
       "width": "auto"
      }
     },
     "7083a0686873499a8f19213ebe0c36ab": {
      "model_module": "@jupyter-widgets/controls",
      "model_module_version": "1.1.0",
      "model_name": "ButtonModel",
      "state": {
       "description": "Custom color",
       "layout": "IPY_MODEL_08f79646df364b288120cd971a12376a",
       "style": "IPY_MODEL_e918bede180e477eb5144273b290898d"
      }
     },
     "7089937f2d7b45638948859a9ccc398f": {
      "model_module": "@jupyter-widgets/controls",
      "model_module_version": "1.1.0",
      "model_name": "ButtonStyleModel",
      "state": {}
     },
     "709f789327bc456c97bd543d5399bcff": {
      "model_module": "@jupyter-widgets/controls",
      "model_module_version": "1.1.0",
      "model_name": "ButtonModel",
      "state": {
       "description": "weight=2,   0%",
       "layout": "IPY_MODEL_cf8843496ad546f7bdc99989b8ae681b",
       "style": "IPY_MODEL_578852c380f0454496d6a2b07f23d23e"
      }
     },
     "70aa1f28f4074540b790bc824bc17e07": {
      "model_module": "@jupyter-widgets/controls",
      "model_module_version": "1.1.0",
      "model_name": "ButtonStyleModel",
      "state": {}
     },
     "70de4703b5c74a9c89f719f68bb74fb7": {
      "model_module": "@jupyter-widgets/base",
      "model_module_version": "1.0.0",
      "model_name": "LayoutModel",
      "state": {
       "align_items": "stretch",
       "border": "solid",
       "display": "flex",
       "flex_flow": "row",
       "width": "50%"
      }
     },
     "70f281964e3649158a54d87125f9791a": {
      "model_module": "@jupyter-widgets/base",
      "model_module_version": "1.0.0",
      "model_name": "LayoutModel",
      "state": {}
     },
     "70f4fd148fae4de6ad97754662ce8e4f": {
      "model_module": "@jupyter-widgets/controls",
      "model_module_version": "1.1.0",
      "model_name": "ButtonStyleModel",
      "state": {}
     },
     "7101c650eb7b4ad2810fa868f2a347cd": {
      "model_module": "@jupyter-widgets/base",
      "model_module_version": "1.0.0",
      "model_name": "LayoutModel",
      "state": {}
     },
     "711a7ddbb88347ad86455d95db51706e": {
      "model_module": "@jupyter-widgets/controls",
      "model_module_version": "1.1.0",
      "model_name": "ButtonStyleModel",
      "state": {}
     },
     "711e60d44f0a49b1b574965a053f4010": {
      "model_module": "@jupyter-widgets/base",
      "model_module_version": "1.0.0",
      "model_name": "LayoutModel",
      "state": {
       "height": "80px",
       "width": "50%"
      }
     },
     "7124c76bb4aa4441b3d187dfc0b8b423": {
      "model_module": "@jupyter-widgets/base",
      "model_module_version": "1.0.0",
      "model_name": "LayoutModel",
      "state": {}
     },
     "715d1d573b104dc99986edb8b1a0c77d": {
      "model_module": "@jupyter-widgets/controls",
      "model_module_version": "1.1.0",
      "model_name": "ButtonModel",
      "state": {
       "description": "weight=1, auto",
       "layout": "IPY_MODEL_81558542a5b045f6b9a9b0b4b1271c68",
       "style": "IPY_MODEL_b1103fd991cb4004b46faeac1103a85d"
      }
     },
     "716d91ec06af4b298edf5279eab757e8": {
      "model_module": "@jupyter-widgets/controls",
      "model_module_version": "1.1.0",
      "model_name": "ButtonStyleModel",
      "state": {}
     },
     "716dbd1a2d42401e8f4e0a2d45ac0c8f": {
      "model_module": "@jupyter-widgets/controls",
      "model_module_version": "1.1.0",
      "model_name": "BoxModel",
      "state": {
       "children": [
        "IPY_MODEL_df7b13f6b0754434accc7cd549ddc1cf",
        "IPY_MODEL_21dec92cc8554e4fbcf4b28d8987a63c"
       ],
       "layout": "IPY_MODEL_d7039aeff9cc4d7ab13b4c231b67969f"
      }
     },
     "716e437820cd4cc3b96eb4e5de6fc63b": {
      "model_module": "@jupyter-widgets/controls",
      "model_module_version": "1.1.0",
      "model_name": "ButtonModel",
      "state": {
       "button_style": "warning",
       "description": "37",
       "layout": "IPY_MODEL_616560d2e26b4bee8b7c903f483241f8",
       "style": "IPY_MODEL_6a1daa42237443f0919d191c42d03ea4"
      }
     },
     "717b52c16d6548e68d438d88298cbb28": {
      "model_module": "@jupyter-widgets/controls",
      "model_module_version": "1.1.0",
      "model_name": "ButtonStyleModel",
      "state": {}
     },
     "7195849301f848b28455149df7f2a815": {
      "model_module": "@jupyter-widgets/controls",
      "model_module_version": "1.1.0",
      "model_name": "DescriptionStyleModel",
      "state": {
       "description_width": ""
      }
     },
     "71c355b71a9d47e5958f28ecb387eace": {
      "model_module": "@jupyter-widgets/controls",
      "model_module_version": "1.1.0",
      "model_name": "ButtonStyleModel",
      "state": {}
     },
     "725d32361a904fbd9befd21b87180b2a": {
      "model_module": "@jupyter-widgets/controls",
      "model_module_version": "1.1.0",
      "model_name": "ButtonModel",
      "state": {
       "button_style": "warning",
       "description": "0",
       "layout": "IPY_MODEL_f97c294201b54222ba61666297c61c75",
       "style": "IPY_MODEL_ee494c6775f249cf816f069af6b0bfb5"
      }
     },
     "725dd5174f1741cc9bd69cda909ed9e2": {
      "model_module": "@jupyter-widgets/controls",
      "model_module_version": "1.1.0",
      "model_name": "ButtonStyleModel",
      "state": {}
     },
     "72a2256e006f49968b6b25969b3713cb": {
      "model_module": "@jupyter-widgets/controls",
      "model_module_version": "1.1.0",
      "model_name": "ButtonModel",
      "state": {
       "button_style": "danger",
       "description": "weight=2, auto",
       "layout": "IPY_MODEL_ff81642f1d5a4db7b53dcbbebf5f6104",
       "style": "IPY_MODEL_66f85e56573540f88c0b8130c258281a"
      }
     },
     "72aff38a3a7c43a4b808c49dfa37cf75": {
      "model_module": "@jupyter-widgets/controls",
      "model_module_version": "1.1.0",
      "model_name": "ButtonModel",
      "state": {
       "description": "weight=1",
       "layout": "IPY_MODEL_a8804a26078f463cada6c9effdfbd10f",
       "style": "IPY_MODEL_a8f91b91bfef4574b9b2c073123e0cb0"
      }
     },
     "72cf652922f949c09257e6376b0c1b16": {
      "model_module": "@jupyter-widgets/controls",
      "model_module_version": "1.1.0",
      "model_name": "ButtonModel",
      "state": {
       "button_style": "warning",
       "description": "19",
       "layout": "IPY_MODEL_5a006e2933db480cbe6187ccadf63fd7",
       "style": "IPY_MODEL_8f0ef04aa92b432e9857465f6b7356a1"
      }
     },
     "72d156a193f44c53819a01b6c51c1ce9": {
      "model_module": "@jupyter-widgets/controls",
      "model_module_version": "1.1.0",
      "model_name": "DescriptionStyleModel",
      "state": {
       "description_width": ""
      }
     },
     "72e7ef9b8dda41e1b7bb57fa4f98ce4d": {
      "model_module": "@jupyter-widgets/controls",
      "model_module_version": "1.1.0",
      "model_name": "LabelModel",
      "state": {
       "layout": "IPY_MODEL_fcea427df39b410e88b45273dbc8d1b0",
       "style": "IPY_MODEL_33a350d2e9c14f74bddf7699b900587b",
       "value": "\\(e=mc^2\\)"
      }
     },
     "73264e2bc6144a56b22b25025c2418ee": {
      "model_module": "@jupyter-widgets/controls",
      "model_module_version": "1.1.0",
      "model_name": "ButtonStyleModel",
      "state": {}
     },
     "73286ac6a1af4f428c0f1b66c23c5186": {
      "model_module": "@jupyter-widgets/controls",
      "model_module_version": "1.1.0",
      "model_name": "DescriptionStyleModel",
      "state": {
       "description_width": ""
      }
     },
     "734b13179ce14ec9b5167a22d2077578": {
      "model_module": "@jupyter-widgets/controls",
      "model_module_version": "1.1.0",
      "model_name": "HBoxModel",
      "state": {
       "children": [
        "IPY_MODEL_a14ce01536884b5fa981330858311efa",
        "IPY_MODEL_020333eedd3c417fab82047df8de78e1"
       ],
       "layout": "IPY_MODEL_23b981f649954b6c8cafed26a0b55f27"
      }
     },
     "7374c06accca4d37bcf217345b453691": {
      "model_module": "@jupyter-widgets/controls",
      "model_module_version": "1.1.0",
      "model_name": "ButtonModel",
      "state": {
       "button_style": "warning",
       "description": "26",
       "layout": "IPY_MODEL_128139c1d2f94adbaaea71294ef22ff3",
       "style": "IPY_MODEL_89e5800d14fe499996ae6025722b00b5"
      }
     },
     "737e494bbdb047c491bff1c0a5926565": {
      "model_module": "@jupyter-widgets/controls",
      "model_module_version": "1.1.0",
      "model_name": "ButtonModel",
      "state": {
       "button_style": "warning",
       "description": "22",
       "layout": "IPY_MODEL_2609a17cced145ad91b86d4ddfbd3bfd",
       "style": "IPY_MODEL_1cb3f4a2b98043daac041cb5298d0b5f"
      }
     },
     "73b1a6163eba4f29af1172f2bc65afe7": {
      "model_module": "@jupyter-widgets/controls",
      "model_module_version": "1.1.0",
      "model_name": "ButtonStyleModel",
      "state": {}
     },
     "73b58b1cb3a148a88041f55d561e1969": {
      "model_module": "@jupyter-widgets/controls",
      "model_module_version": "1.1.0",
      "model_name": "ButtonStyleModel",
      "state": {}
     },
     "73b5cd5f6279497892bb83d6006d95ac": {
      "model_module": "@jupyter-widgets/controls",
      "model_module_version": "1.1.0",
      "model_name": "ButtonModel",
      "state": {
       "button_style": "warning",
       "description": "5",
       "layout": "IPY_MODEL_0606cbc317604fbdbaea9d3fd0b2d14a",
       "style": "IPY_MODEL_7c400aac66b441b991650882e36ee352"
      }
     },
     "73d72b81e0774a0399a11e73c7e7d10c": {
      "model_module": "@jupyter-widgets/controls",
      "model_module_version": "1.1.0",
      "model_name": "ButtonModel",
      "state": {
       "button_style": "danger",
       "description": "weight=1, _0%",
       "layout": "IPY_MODEL_262e391002ae4f63aa1a80220e419d6d",
       "style": "IPY_MODEL_ee2fca61372d41d1be8d5e449f08ea52"
      }
     },
     "73e36e5928de4207b0f87f64093dbd59": {
      "model_module": "@jupyter-widgets/controls",
      "model_module_version": "1.1.0",
      "model_name": "BoxModel",
      "state": {
       "children": [
        "IPY_MODEL_125f933936bc4b8795380b9f7a854642",
        "IPY_MODEL_434094ff3cf44f989860b8327ff41da4",
        "IPY_MODEL_6479d715bcba43ed96731a814e037077"
       ],
       "layout": "IPY_MODEL_b9357ce8cc4644218c93401536e6b60b"
      }
     },
     "73e40c1542e7482b802c77d7f0ebbe77": {
      "model_module": "@jupyter-widgets/controls",
      "model_module_version": "1.1.0",
      "model_name": "ButtonStyleModel",
      "state": {}
     },
     "742498067efb47bf911d8f9b2693336b": {
      "model_module": "@jupyter-widgets/controls",
      "model_module_version": "1.1.0",
      "model_name": "IntSliderModel",
      "state": {
       "description": "\\(\\int_0^t f\\)",
       "layout": "IPY_MODEL_576b5a48a64e4de5a4b6f9d3d4e8fa17",
       "style": "IPY_MODEL_fbd28ebc2bce41a99a105ae7cc9fafe6"
      }
     },
     "74250857e95043208f76c028d2f3d961": {
      "model_module": "@jupyter-widgets/controls",
      "model_module_version": "1.1.0",
      "model_name": "ButtonModel",
      "state": {
       "button_style": "warning",
       "description": "32",
       "layout": "IPY_MODEL_0606cbc317604fbdbaea9d3fd0b2d14a",
       "style": "IPY_MODEL_b72b0d87d9a143ed92048f7e01ad886c"
      }
     },
     "74360a6ac0da4772af6d1bc6b83beb78": {
      "model_module": "@jupyter-widgets/controls",
      "model_module_version": "1.1.0",
      "model_name": "ButtonModel",
      "state": {
       "button_style": "warning",
       "description": "25",
       "layout": "IPY_MODEL_f97c294201b54222ba61666297c61c75",
       "style": "IPY_MODEL_fd8734d39f21415c8acbee093af0f419"
      }
     },
     "743f19c1597a4bcfa831976b59487be5": {
      "model_module": "@jupyter-widgets/controls",
      "model_module_version": "1.1.0",
      "model_name": "ButtonStyleModel",
      "state": {}
     },
     "743fca25942545138c3cfd236a9c1345": {
      "model_module": "@jupyter-widgets/controls",
      "model_module_version": "1.1.0",
      "model_name": "BoxModel",
      "state": {
       "children": [
        "IPY_MODEL_5848aeac1eb341a5b4059b2945dd5a6d",
        "IPY_MODEL_792dce5ee81242aab7491677ca2aa501",
        "IPY_MODEL_81e29c4ba9f644db9df3b788ea27ec09"
       ],
       "layout": "IPY_MODEL_685b2a9219fb45099353e6f6bb8b4acf"
      }
     },
     "7446d3a77a5a41608ee4c14ae265505d": {
      "model_module": "@jupyter-widgets/controls",
      "model_module_version": "1.1.0",
      "model_name": "ButtonModel",
      "state": {
       "description": "weight=2, auto",
       "layout": "IPY_MODEL_75fde38f06bd40ff939fb7f293351b37",
       "style": "IPY_MODEL_2ae5e533ff7b40df9decf5fc9efe88a6"
      }
     },
     "748e8f8eb9af4679b04ee44af0d1b1a3": {
      "model_module": "@jupyter-widgets/controls",
      "model_module_version": "1.1.0",
      "model_name": "ButtonStyleModel",
      "state": {}
     },
     "748f844e1c3c4512beb3d0edd6910e37": {
      "model_module": "@jupyter-widgets/base",
      "model_module_version": "1.0.0",
      "model_name": "LayoutModel",
      "state": {
       "flex": "1 1 auto",
       "width": "auto"
      }
     },
     "74993a7c8ae64067a3ef3c9ee07fdd1a": {
      "model_module": "@jupyter-widgets/controls",
      "model_module_version": "1.1.0",
      "model_name": "ButtonModel",
      "state": {
       "description": "weight=1, --0%",
       "layout": "IPY_MODEL_75c433bd37af4cd6975fc5ab98c49841",
       "style": "IPY_MODEL_9fcffa8309174444bc4cc10331f20013"
      }
     },
     "74a0c8fb052c4ae78363c3a1fc2e5360": {
      "model_module": "@jupyter-widgets/controls",
      "model_module_version": "1.1.0",
      "model_name": "ButtonStyleModel",
      "state": {}
     },
     "74a193d67e414d78b4effd63aa2c13bc": {
      "model_module": "@jupyter-widgets/controls",
      "model_module_version": "1.1.0",
      "model_name": "ButtonModel",
      "state": {
       "description": "Custom color",
       "layout": "IPY_MODEL_43f7b740f832480eb087238ffc9c7d85",
       "style": "IPY_MODEL_6585e15f31b0423f80c564b79b270ada"
      }
     },
     "74d419661f344dceb341a9a42b7ed8a5": {
      "model_module": "@jupyter-widgets/controls",
      "model_module_version": "1.1.0",
      "model_name": "ButtonStyleModel",
      "state": {}
     },
     "74f8a3bcacd04315a6e1a354b04c91d1": {
      "model_module": "@jupyter-widgets/controls",
      "model_module_version": "1.1.0",
      "model_name": "ButtonStyleModel",
      "state": {}
     },
     "751d18b0b0604598a4807077e1a880ec": {
      "model_module": "@jupyter-widgets/controls",
      "model_module_version": "1.1.0",
      "model_name": "ButtonStyleModel",
      "state": {}
     },
     "756fc6ccb1fc4fa186716abeae48719b": {
      "model_module": "@jupyter-widgets/controls",
      "model_module_version": "1.1.0",
      "model_name": "LabelModel",
      "state": {
       "layout": "IPY_MODEL_6984a6607999448d87fed901293dedb4",
       "style": "IPY_MODEL_faaffcad848e497db811913f42d07d02",
       "value": "Egg style"
      }
     },
     "7578c698c9094e1c913e3029c5dda854": {
      "model_module": "@jupyter-widgets/controls",
      "model_module_version": "1.1.0",
      "model_name": "ButtonStyleModel",
      "state": {}
     },
     "757affd0002d45249c568acfb835114a": {
      "model_module": "@jupyter-widgets/controls",
      "model_module_version": "1.1.0",
      "model_name": "ButtonStyleModel",
      "state": {}
     },
     "75a91993b65349c6a31b7633b6b9f099": {
      "model_module": "@jupyter-widgets/controls",
      "model_module_version": "1.1.0",
      "model_name": "ButtonModel",
      "state": {
       "description": "(50% width, 80px height) button",
       "layout": "IPY_MODEL_f4de19e44df24e1dbb1087ba3aead169",
       "style": "IPY_MODEL_581875329f8942979bcf4251ffff1014"
      }
     },
     "75b0851868744b58be68f86ad837f3a2": {
      "model_module": "@jupyter-widgets/base",
      "model_module_version": "1.0.0",
      "model_name": "LayoutModel",
      "state": {}
     },
     "75b6fe8a59cf4b35bd79b7ef782ac8d6": {
      "model_module": "@jupyter-widgets/controls",
      "model_module_version": "1.1.0",
      "model_name": "ButtonStyleModel",
      "state": {}
     },
     "75c433bd37af4cd6975fc5ab98c49841": {
      "model_module": "@jupyter-widgets/base",
      "model_module_version": "1.0.0",
      "model_name": "LayoutModel",
      "state": {
       "flex": "1 1 0%",
       "width": "auto"
      }
     },
     "75f570964a454d91a5d7bce6f759dab9": {
      "model_module": "@jupyter-widgets/base",
      "model_module_version": "1.0.0",
      "model_name": "LayoutModel",
      "state": {
       "align_items": "stretch",
       "border": "solid",
       "display": "flex",
       "flex_flow": "row",
       "width": "50%"
      }
     },
     "75fde38f06bd40ff939fb7f293351b37": {
      "model_module": "@jupyter-widgets/base",
      "model_module_version": "1.0.0",
      "model_name": "LayoutModel",
      "state": {
       "flex": "2 1 auto",
       "width": "auto"
      }
     },
     "76a10bc409c841049e3ba6d210745d03": {
      "model_module": "@jupyter-widgets/controls",
      "model_module_version": "1.1.0",
      "model_name": "ButtonStyleModel",
      "state": {}
     },
     "76cf6e19177e456496fd207dea91059f": {
      "model_module": "@jupyter-widgets/base",
      "model_module_version": "1.0.0",
      "model_name": "LayoutModel",
      "state": {}
     },
     "76d4d4d310df41cab5230e1f722cb7a7": {
      "model_module": "@jupyter-widgets/base",
      "model_module_version": "1.0.0",
      "model_name": "LayoutModel",
      "state": {
       "flex": "1 1 0%",
       "width": "auto"
      }
     },
     "76f0676a30b44e5083aa1bf985263985": {
      "model_module": "@jupyter-widgets/base",
      "model_module_version": "1.0.0",
      "model_name": "LayoutModel",
      "state": {
       "align_items": "stretch",
       "border": "solid",
       "display": "flex",
       "flex_flow": "row",
       "width": "50%"
      }
     },
     "772628fed38346d4be6339861a20adb5": {
      "model_module": "@jupyter-widgets/controls",
      "model_module_version": "1.1.0",
      "model_name": "ButtonStyleModel",
      "state": {}
     },
     "776df2b13cd24636885852ae3a0745b7": {
      "model_module": "@jupyter-widgets/controls",
      "model_module_version": "1.1.0",
      "model_name": "ButtonStyleModel",
      "state": {}
     },
     "776fa7f8a04742a9a95b7c5ef8e0ba6e": {
      "model_module": "@jupyter-widgets/controls",
      "model_module_version": "1.1.0",
      "model_name": "ButtonStyleModel",
      "state": {}
     },
     "7786845ceece4cf5a882a75091ad3859": {
      "model_module": "@jupyter-widgets/base",
      "model_module_version": "1.0.0",
      "model_name": "LayoutModel",
      "state": {}
     },
     "77a1643be57b4ed69c03fd3a4e2fc26e": {
      "model_module": "@jupyter-widgets/controls",
      "model_module_version": "1.1.0",
      "model_name": "ButtonModel",
      "state": {
       "description": "weight=1, auto",
       "layout": "IPY_MODEL_d1865f31a9d34dc6bf87fc04d3da7516",
       "style": "IPY_MODEL_2ce1e86ff54c41b5b7eaea9b099c0cb7"
      }
     },
     "77a767a626034237afe5b1015264484e": {
      "model_module": "@jupyter-widgets/controls",
      "model_module_version": "1.1.0",
      "model_name": "SliderStyleModel",
      "state": {
       "description_width": ""
      }
     },
     "77ab81c3ed6b45c9b47366651fa35afa": {
      "model_module": "@jupyter-widgets/controls",
      "model_module_version": "1.1.0",
      "model_name": "ButtonStyleModel",
      "state": {}
     },
     "77f74de48ee4484f9d0eb94b17311ed3": {
      "model_module": "@jupyter-widgets/controls",
      "model_module_version": "1.1.0",
      "model_name": "ButtonStyleModel",
      "state": {}
     },
     "780298d569d642c996389b1af281d8ef": {
      "model_module": "@jupyter-widgets/controls",
      "model_module_version": "1.1.0",
      "model_name": "ButtonStyleModel",
      "state": {}
     },
     "78090cbb573b402aa41274e377e92ad3": {
      "model_module": "@jupyter-widgets/controls",
      "model_module_version": "1.1.0",
      "model_name": "ButtonStyleModel",
      "state": {}
     },
     "780c88f2097a40ceb31c9afd01999a60": {
      "model_module": "@jupyter-widgets/controls",
      "model_module_version": "1.1.0",
      "model_name": "ButtonModel",
      "state": {
       "button_style": "warning",
       "description": "39",
       "layout": "IPY_MODEL_1d10072127cb4a32968374fdb7bd2479",
       "style": "IPY_MODEL_8fd83c0015f44d1dad37d24495faf8ce"
      }
     },
     "7822ba7f1b314823a01565c7cb9186c9": {
      "model_module": "@jupyter-widgets/controls",
      "model_module_version": "1.1.0",
      "model_name": "ButtonModel",
      "state": {
       "button_style": "warning",
       "description": "27",
       "layout": "IPY_MODEL_1d10072127cb4a32968374fdb7bd2479",
       "style": "IPY_MODEL_5aced70dfa80451cbc7c9dcf8f00aed1"
      }
     },
     "783e106a0ad047de8a31fcd41676fd37": {
      "model_module": "@jupyter-widgets/controls",
      "model_module_version": "1.1.0",
      "model_name": "BoxModel",
      "state": {
       "children": [
        "IPY_MODEL_12c845014e99452cb4f2ae81431fd01a",
        "IPY_MODEL_e51f70448dcb492a848850141ee5bc4c",
        "IPY_MODEL_716dbd1a2d42401e8f4e0a2d45ac0c8f",
        "IPY_MODEL_51a719a9441740bca621f8d29144c630"
       ],
       "layout": "IPY_MODEL_f91ccd62dc4c44c8ab7b1cbe34ef70bf"
      }
     },
     "7886b75f3c63420c9604248918d57e88": {
      "model_module": "@jupyter-widgets/controls",
      "model_module_version": "1.1.0",
      "model_name": "ButtonStyleModel",
      "state": {}
     },
     "789014ca62f144db89f58454cafc259f": {
      "model_module": "@jupyter-widgets/controls",
      "model_module_version": "1.1.0",
      "model_name": "ButtonStyleModel",
      "state": {}
     },
     "78a58046da2a47debef494a9ec636d54": {
      "model_module": "@jupyter-widgets/base",
      "model_module_version": "1.0.0",
      "model_name": "LayoutModel",
      "state": {}
     },
     "78f597e050054a95b6c204a4d5c5ba12": {
      "model_module": "@jupyter-widgets/base",
      "model_module_version": "1.0.0",
      "model_name": "LayoutModel",
      "state": {
       "height": "80px",
       "width": "50%"
      }
     },
     "792dce5ee81242aab7491677ca2aa501": {
      "model_module": "@jupyter-widgets/controls",
      "model_module_version": "1.1.0",
      "model_name": "ButtonModel",
      "state": {
       "description": "weight=2, auto",
       "layout": "IPY_MODEL_e5ca4187d8cd412683c79447c5774f67",
       "style": "IPY_MODEL_02e42e30833f4999ab9aca57ef8dfdaf"
      }
     },
     "796d6c07253c45f8bd291edb61debd24": {
      "model_module": "@jupyter-widgets/controls",
      "model_module_version": "1.1.0",
      "model_name": "ButtonModel",
      "state": {
       "button_style": "warning",
       "description": "31",
       "layout": "IPY_MODEL_9886a36bb356420e9e4d3c7cdd66e238",
       "style": "IPY_MODEL_d5877675cac14ec2b1cd46f7532646dc"
      }
     },
     "79a1e58da5784328aa01873c46a6ea6a": {
      "model_module": "@jupyter-widgets/controls",
      "model_module_version": "1.1.0",
      "model_name": "DescriptionStyleModel",
      "state": {
       "description_width": ""
      }
     },
     "79a2c6174d4b476da4736d7ee4a50d2d": {
      "model_module": "@jupyter-widgets/controls",
      "model_module_version": "1.1.0",
      "model_name": "ButtonStyleModel",
      "state": {}
     },
     "79ab4ef68bba4f0eab8be66ca0782bff": {
      "model_module": "@jupyter-widgets/controls",
      "model_module_version": "1.1.0",
      "model_name": "ButtonModel",
      "state": {
       "description": "weight=1",
       "layout": "IPY_MODEL_6583b864d5e5481f991066254ab81abb",
       "style": "IPY_MODEL_e24bf6ab054c443597a9614b562b9e24"
      }
     },
     "79b010220d8f467bbb064786a643bb26": {
      "model_module": "@jupyter-widgets/controls",
      "model_module_version": "1.1.0",
      "model_name": "BoxModel",
      "state": {
       "children": [
        "IPY_MODEL_0b0b7e5972b04520a7066fa08a6bf5a5",
        "IPY_MODEL_374a63f6a99e44299f6fe2986d1fa6af",
        "IPY_MODEL_d37cbbd210de414a9e892cefed3dcfa2",
        "IPY_MODEL_6e3b5f3f0383455f9c6228b8be695c4f"
       ],
       "layout": "IPY_MODEL_57da6ae2bb714f2d9ee114bcea1f696a"
      }
     },
     "79de7dac7bce4471804ad722064e39ee": {
      "model_module": "@jupyter-widgets/base",
      "model_module_version": "1.0.0",
      "model_name": "LayoutModel",
      "state": {}
     },
     "7a13c77314a340e2a676f452a7dc5d87": {
      "model_module": "@jupyter-widgets/controls",
      "model_module_version": "1.1.0",
      "model_name": "ButtonModel",
      "state": {
       "button_style": "warning",
       "description": "22",
       "layout": "IPY_MODEL_0606cbc317604fbdbaea9d3fd0b2d14a",
       "style": "IPY_MODEL_bbb57d25730c4832bb28ffbb791aaa81"
      }
     },
     "7a33faa6bcf14068aaaa7d10f607da3c": {
      "model_module": "@jupyter-widgets/controls",
      "model_module_version": "1.1.0",
      "model_name": "DescriptionStyleModel",
      "state": {
       "description_width": ""
      }
     },
     "7a3da04defa548879f49816b9c4ea833": {
      "model_module": "@jupyter-widgets/base",
      "model_module_version": "1.0.0",
      "model_name": "LayoutModel",
      "state": {
       "flex": "1 1 0%",
       "width": "auto"
      }
     },
     "7a43159cb1e54fbead61365f81b60df2": {
      "model_module": "@jupyter-widgets/base",
      "model_module_version": "1.0.0",
      "model_name": "LayoutModel",
      "state": {}
     },
     "7a69908da6294bcda18184a59f32e719": {
      "model_module": "@jupyter-widgets/controls",
      "model_module_version": "1.1.0",
      "model_name": "ButtonStyleModel",
      "state": {}
     },
     "7a738dc1cc08435d9e58d0a5865f16c4": {
      "model_module": "@jupyter-widgets/controls",
      "model_module_version": "1.1.0",
      "model_name": "ButtonStyleModel",
      "state": {}
     },
     "7a9ac0f37fa14022b63970f34f6b9bf7": {
      "model_module": "@jupyter-widgets/controls",
      "model_module_version": "1.1.0",
      "model_name": "SliderStyleModel",
      "state": {
       "description_width": ""
      }
     },
     "7abf22946d784dc3b28ed7c21047c5b0": {
      "model_module": "@jupyter-widgets/base",
      "model_module_version": "1.0.0",
      "model_name": "LayoutModel",
      "state": {}
     },
     "7ae39135cf4e4462b6668ffc1a9772e3": {
      "model_module": "@jupyter-widgets/controls",
      "model_module_version": "1.1.0",
      "model_name": "ButtonStyleModel",
      "state": {}
     },
     "7b75086a36f64368ab3b189e20c79630": {
      "model_module": "@jupyter-widgets/controls",
      "model_module_version": "1.1.0",
      "model_name": "ButtonStyleModel",
      "state": {}
     },
     "7b77b7d15cfc4ccf8085981b8cdd3961": {
      "model_module": "@jupyter-widgets/controls",
      "model_module_version": "1.1.0",
      "model_name": "ButtonModel",
      "state": {
       "button_style": "warning",
       "description": "34",
       "layout": "IPY_MODEL_5f4383735711415596954c7bc1a5bfd1",
       "style": "IPY_MODEL_98010362088b4e52b35528b3bdacced2"
      }
     },
     "7b9fddb349d04520b37b4e5873923c18": {
      "model_module": "@jupyter-widgets/controls",
      "model_module_version": "1.1.0",
      "model_name": "ButtonModel",
      "state": {
       "button_style": "warning",
       "description": "16",
       "layout": "IPY_MODEL_5f4383735711415596954c7bc1a5bfd1",
       "style": "IPY_MODEL_60e75fc603324db589804509371c57a7"
      }
     },
     "7bcb20f860c143dc8bcca18f474e5599": {
      "model_module": "@jupyter-widgets/controls",
      "model_module_version": "1.1.0",
      "model_name": "ButtonStyleModel",
      "state": {}
     },
     "7bd1dfff77024f218260de6f1db8ee62": {
      "model_module": "@jupyter-widgets/controls",
      "model_module_version": "1.1.0",
      "model_name": "DescriptionStyleModel",
      "state": {
       "description_width": ""
      }
     },
     "7c01d4e8a5754c7eb847b1f3151bfe27": {
      "model_module": "@jupyter-widgets/controls",
      "model_module_version": "1.1.0",
      "model_name": "DescriptionStyleModel",
      "state": {
       "description_width": ""
      }
     },
     "7c1d6254280345dc9db36c396dc69bf4": {
      "model_module": "@jupyter-widgets/controls",
      "model_module_version": "1.1.0",
      "model_name": "BoxModel",
      "state": {
       "children": [
        "IPY_MODEL_400a114c4b4a4f989bc45f5de5c1e1a9",
        "IPY_MODEL_6076a8dee8cf4c6ebfcda3661149a9fd",
        "IPY_MODEL_bab6781bfb6743f58ec72f5019379bb3"
       ],
       "layout": "IPY_MODEL_f3a2ed86978d4a31820f84434045766d"
      }
     },
     "7c3d631e90c44497905b1deada6dc33e": {
      "model_module": "@jupyter-widgets/controls",
      "model_module_version": "1.1.0",
      "model_name": "ButtonStyleModel",
      "state": {}
     },
     "7c400aac66b441b991650882e36ee352": {
      "model_module": "@jupyter-widgets/controls",
      "model_module_version": "1.1.0",
      "model_name": "ButtonStyleModel",
      "state": {}
     },
     "7c53b882f5854442ab39c296b0ce28ed": {
      "model_module": "@jupyter-widgets/controls",
      "model_module_version": "1.1.0",
      "model_name": "ButtonStyleModel",
      "state": {}
     },
     "7c555d0e17214aed94e08c6c1704b46c": {
      "model_module": "@jupyter-widgets/controls",
      "model_module_version": "1.1.0",
      "model_name": "ButtonModel",
      "state": {
       "button_style": "danger",
       "description": "weight=2, _0%",
       "layout": "IPY_MODEL_44289f15b03a445a8656ac095bb9817b",
       "style": "IPY_MODEL_511db23495664ad7a3e3b2c3ec61101b"
      }
     },
     "7c76431092da44e9a3e703c17d72fa1e": {
      "model_module": "@jupyter-widgets/base",
      "model_module_version": "1.0.0",
      "model_name": "LayoutModel",
      "state": {}
     },
     "7c9b4f61b37447a4b2b97476eee19ba7": {
      "model_module": "@jupyter-widgets/base",
      "model_module_version": "1.0.0",
      "model_name": "LayoutModel",
      "state": {}
     },
     "7cd013045626409aa8db0a78a615b004": {
      "model_module": "@jupyter-widgets/controls",
      "model_module_version": "1.1.0",
      "model_name": "IntSliderModel",
      "state": {
       "description": "\\(\\int_0^t f\\)",
       "layout": "IPY_MODEL_0210bbf9bc3744b6b8a03e4aa2f5b9dc",
       "style": "IPY_MODEL_e6a3178e4f9a4805bb32677e04bc6bbf"
      }
     },
     "7d17118e60ce49cd9ff301b1b7284a3b": {
      "model_module": "@jupyter-widgets/base",
      "model_module_version": "1.0.0",
      "model_name": "LayoutModel",
      "state": {}
     },
     "7d436faf94234fa3bcea8538332b5bfc": {
      "model_module": "@jupyter-widgets/controls",
      "model_module_version": "1.1.0",
      "model_name": "ButtonModel",
      "state": {
       "button_style": "warning",
       "description": "18",
       "layout": "IPY_MODEL_f97c294201b54222ba61666297c61c75",
       "style": "IPY_MODEL_6914f507a2eb4596ac4d6c7cdb0ddca8"
      }
     },
     "7d936b3a9b0d481593392059acda8b2b": {
      "model_module": "@jupyter-widgets/controls",
      "model_module_version": "1.1.0",
      "model_name": "IntSliderModel",
      "state": {
       "description": "Blue handle",
       "layout": "IPY_MODEL_7026b132f6d24b68a77dff5ad702d84a",
       "style": "IPY_MODEL_5bc39eccfd764c95a9e31e842105cce4"
      }
     },
     "7de5217394fe493f9b9c84e720b49701": {
      "model_module": "@jupyter-widgets/controls",
      "model_module_version": "1.1.0",
      "model_name": "ButtonStyleModel",
      "state": {}
     },
     "7e3080c262864925b5208347c7bfe115": {
      "model_module": "@jupyter-widgets/controls",
      "model_module_version": "1.1.0",
      "model_name": "SliderStyleModel",
      "state": {
       "description_width": ""
      }
     },
     "7e496ff10be84f3c943d4ba18443a557": {
      "model_module": "@jupyter-widgets/controls",
      "model_module_version": "1.1.0",
      "model_name": "ButtonStyleModel",
      "state": {}
     },
     "7e688bbac3b64294822648376a3a9363": {
      "model_module": "@jupyter-widgets/controls",
      "model_module_version": "1.1.0",
      "model_name": "ButtonModel",
      "state": {
       "button_style": "warning",
       "description": "35",
       "layout": "IPY_MODEL_5f4383735711415596954c7bc1a5bfd1",
       "style": "IPY_MODEL_a3be80fa8a7a44c9ac7769de156f5eeb"
      }
     },
     "7ea6d673947b42c1b7be9b444765ad7e": {
      "model_module": "@jupyter-widgets/controls",
      "model_module_version": "1.1.0",
      "model_name": "ButtonModel",
      "state": {
       "button_style": "danger",
       "description": "weight=1, auto",
       "layout": "IPY_MODEL_f75e657dd41041f594ab7eaa57ae78c8",
       "style": "IPY_MODEL_7f2a8c381be24b5eaaf211d114bbfd11"
      }
     },
     "7ebb964b36d64832a7dd1734c91bd9b8": {
      "model_module": "@jupyter-widgets/controls",
      "model_module_version": "1.1.0",
      "model_name": "DescriptionStyleModel",
      "state": {
       "description_width": ""
      }
     },
     "7efc20b2dff84aa9aa5e0606a8f199c2": {
      "model_module": "@jupyter-widgets/controls",
      "model_module_version": "1.1.0",
      "model_name": "ButtonModel",
      "state": {
       "description": "battery",
       "layout": "IPY_MODEL_04ac99d4763e41f3a14930b3d07464ce",
       "style": "IPY_MODEL_a2630650d79d4bf0b529ac465d81a085"
      }
     },
     "7f04ce1ed9fa4d86a5f9a4f11c5c8f41": {
      "model_module": "@jupyter-widgets/controls",
      "model_module_version": "1.1.0",
      "model_name": "ButtonModel",
      "state": {
       "button_style": "warning",
       "description": "7",
       "layout": "IPY_MODEL_9886a36bb356420e9e4d3c7cdd66e238",
       "style": "IPY_MODEL_0078b0a475c2484b86caaf418899786a"
      }
     },
     "7f06b7bb19cb4bf294a07322d180ada7": {
      "model_module": "@jupyter-widgets/controls",
      "model_module_version": "1.1.0",
      "model_name": "ButtonModel",
      "state": {
       "button_style": "danger",
       "description": "weight=2, _0%",
       "layout": "IPY_MODEL_f65f88f022284a51ae2cd5b72ef681db",
       "style": "IPY_MODEL_120de0d2a83e46bbbef603950ff93271"
      }
     },
     "7f1d721c0ed54d7fbf83427159011d4e": {
      "model_module": "@jupyter-widgets/controls",
      "model_module_version": "1.1.0",
      "model_name": "ButtonModel",
      "state": {
       "button_style": "warning",
       "description": "2",
       "layout": "IPY_MODEL_6abcd37e41034b2ca8a2c4c4ba0dca11",
       "style": "IPY_MODEL_dd27bd04872043ba8907dbc6b9d26435"
      }
     },
     "7f2a8c381be24b5eaaf211d114bbfd11": {
      "model_module": "@jupyter-widgets/controls",
      "model_module_version": "1.1.0",
      "model_name": "ButtonStyleModel",
      "state": {}
     },
     "7f3b52676da9408a9b12d5d7d4c841f4": {
      "model_module": "@jupyter-widgets/controls",
      "model_module_version": "1.1.0",
      "model_name": "ButtonModel",
      "state": {
       "button_style": "warning",
       "description": "23",
       "layout": "IPY_MODEL_5a006e2933db480cbe6187ccadf63fd7",
       "style": "IPY_MODEL_f9fc0b17afc84145a81fec94ff46caab"
      }
     },
     "7f5a6823ffdd47c6a23dc07cac1f96b4": {
      "model_module": "@jupyter-widgets/controls",
      "model_module_version": "1.1.0",
      "model_name": "ButtonStyleModel",
      "state": {}
     },
     "7f6de41ac2494942928747e4a7094709": {
      "model_module": "@jupyter-widgets/controls",
      "model_module_version": "1.1.0",
      "model_name": "ButtonStyleModel",
      "state": {}
     },
     "7f99ba3b71b348389daecbe9ae688c64": {
      "model_module": "@jupyter-widgets/controls",
      "model_module_version": "1.1.0",
      "model_name": "ButtonModel",
      "state": {
       "button_style": "warning",
       "description": "24",
       "layout": "IPY_MODEL_616560d2e26b4bee8b7c903f483241f8",
       "style": "IPY_MODEL_93a57efb7b98497b84dc0161b82db7c2"
      }
     },
     "7f9ee6a73e674ffabded54caa8e7d9f5": {
      "model_module": "@jupyter-widgets/controls",
      "model_module_version": "1.1.0",
      "model_name": "ButtonModel",
      "state": {
       "button_style": "warning",
       "description": "31",
       "layout": "IPY_MODEL_616560d2e26b4bee8b7c903f483241f8",
       "style": "IPY_MODEL_ef361712716f4f0b80f2b5993202fe83"
      }
     },
     "7fac2ec25a5d4d4f9b7455ca9d8ae12b": {
      "model_module": "@jupyter-widgets/base",
      "model_module_version": "1.0.0",
      "model_name": "LayoutModel",
      "state": {
       "border": "3px solid black",
       "display": "flex",
       "height": "",
       "overflow_x": "scroll",
       "width": "500px"
      }
     },
     "7fba1765c57e46ec89864c810322a1ef": {
      "model_module": "@jupyter-widgets/controls",
      "model_module_version": "1.1.0",
      "model_name": "ButtonStyleModel",
      "state": {}
     },
     "7fbcfe1b6aab4debb6267f224ce9badb": {
      "model_module": "@jupyter-widgets/base",
      "model_module_version": "1.0.0",
      "model_name": "LayoutModel",
      "state": {}
     },
     "7fd25622d14d4368a9ff9e155e88d8a9": {
      "model_module": "@jupyter-widgets/controls",
      "model_module_version": "1.1.0",
      "model_name": "ButtonModel",
      "state": {
       "button_style": "warning",
       "description": "12",
       "layout": "IPY_MODEL_6abcd37e41034b2ca8a2c4c4ba0dca11",
       "style": "IPY_MODEL_7b75086a36f64368ab3b189e20c79630"
      }
     },
     "7ff80e764e2745d9800eae1f025f64e0": {
      "model_module": "@jupyter-widgets/base",
      "model_module_version": "1.0.0",
      "model_name": "LayoutModel",
      "state": {
       "flex": "1 1 auto",
       "width": "auto"
      }
     },
     "7ffa50a02bc040708058053f220a94da": {
      "model_module": "@jupyter-widgets/controls",
      "model_module_version": "1.1.0",
      "model_name": "ButtonStyleModel",
      "state": {}
     },
     "803ee2ec105f4d6286128001803dc0cd": {
      "model_module": "@jupyter-widgets/base",
      "model_module_version": "1.0.0",
      "model_name": "LayoutModel",
      "state": {}
     },
     "804fd581e0a54e0091164b7bbd7f1107": {
      "model_module": "@jupyter-widgets/controls",
      "model_module_version": "1.1.0",
      "model_name": "ButtonStyleModel",
      "state": {}
     },
     "8058e47a870d43b0af78d79a488e3ca4": {
      "model_module": "@jupyter-widgets/base",
      "model_module_version": "1.0.0",
      "model_name": "LayoutModel",
      "state": {
       "align_items": "stretch",
       "border": "solid",
       "display": "flex",
       "flex_flow": "row",
       "width": "50%"
      }
     },
     "8058f68082934d8cbfb3a3e917a5859e": {
      "model_module": "@jupyter-widgets/base",
      "model_module_version": "1.0.0",
      "model_name": "LayoutModel",
      "state": {}
     },
     "806ffbe54afd4193b968b1913d67126f": {
      "model_module": "@jupyter-widgets/base",
      "model_module_version": "1.0.0",
      "model_name": "LayoutModel",
      "state": {
       "align_items": "stretch",
       "border": "solid",
       "display": "flex",
       "flex_flow": "column",
       "width": "50%"
      }
     },
     "809403ced6984e1db5767e65f0ea226f": {
      "model_module": "@jupyter-widgets/base",
      "model_module_version": "1.0.0",
      "model_name": "LayoutModel",
      "state": {}
     },
     "80d74f398dd64ca687c9f7f3cc6cfc53": {
      "model_module": "@jupyter-widgets/controls",
      "model_module_version": "1.1.0",
      "model_name": "IntSliderModel",
      "state": {
       "description": "A too long description",
       "layout": "IPY_MODEL_55c161cf9a394e7396d7859fd36537b0",
       "style": "IPY_MODEL_6e57277a9d024555a035753cb2039bf9"
      }
     },
     "81063f19acde424f99c8e3576a2146cd": {
      "model_module": "@jupyter-widgets/controls",
      "model_module_version": "1.1.0",
      "model_name": "ButtonModel",
      "state": {
       "description": "weight=1, auto",
       "layout": "IPY_MODEL_c2a8a1273a5a4b68a4df8a7b6be0cd66",
       "style": "IPY_MODEL_663ab75eb311411383d47590fdcbb967"
      }
     },
     "811748070c0042acb5911f21b8a756e5": {
      "model_module": "@jupyter-widgets/controls",
      "model_module_version": "1.1.0",
      "model_name": "BoxModel",
      "state": {
       "children": [
        "IPY_MODEL_c318e8d4f19c4308a6fc5e76759b4329",
        "IPY_MODEL_04a5460350ce497a8581705a73986484",
        "IPY_MODEL_9ac71efceaca40898e8924734edded53"
       ],
       "layout": "IPY_MODEL_649c5d5c10184c0096163602f2cca6be"
      }
     },
     "81558542a5b045f6b9a9b0b4b1271c68": {
      "model_module": "@jupyter-widgets/base",
      "model_module_version": "1.0.0",
      "model_name": "LayoutModel",
      "state": {
       "flex": "1 1 auto",
       "width": "auto"
      }
     },
     "815f2f47a1724f3c95a9b175f285bb08": {
      "model_module": "@jupyter-widgets/controls",
      "model_module_version": "1.1.0",
      "model_name": "LabelModel",
      "state": {
       "layout": "IPY_MODEL_7786845ceece4cf5a882a75091ad3859",
       "style": "IPY_MODEL_228bd2e5998f481da3d596a5b95e07fc",
       "value": "Ship size"
      }
     },
     "8177ee81d56c4e8a9d5db55c760f40ea": {
      "model_module": "@jupyter-widgets/controls",
      "model_module_version": "1.1.0",
      "model_name": "ButtonModel",
      "state": {
       "button_style": "danger",
       "description": "weight=1, _0%",
       "layout": "IPY_MODEL_da5b8c835310404785af54d7735a77b8",
       "style": "IPY_MODEL_08233a43fde34078ac7bc816491c3804"
      }
     },
     "81825a238328412d9e47c016b35c57a3": {
      "model_module": "@jupyter-widgets/controls",
      "model_module_version": "1.1.0",
      "model_name": "VBoxModel",
      "state": {
       "children": [
        "IPY_MODEL_7efc20b2dff84aa9aa5e0606a8f199c2",
        "IPY_MODEL_fa02fcb2db5146a5af773d903f18b4ad"
       ],
       "layout": "IPY_MODEL_eea7ce69080a487cb25b9fd18469fd3f"
      }
     },
     "81e29c4ba9f644db9df3b788ea27ec09": {
      "model_module": "@jupyter-widgets/controls",
      "model_module_version": "1.1.0",
      "model_name": "ButtonModel",
      "state": {
       "description": "weight=1, auto",
       "layout": "IPY_MODEL_c942892a05f0497abcd149ecab5dcb74",
       "style": "IPY_MODEL_5542265a1ed74dbe9837cd94d9a83b4b"
      }
     },
     "81ec874e094f413088dd30ceacec3ee1": {
      "model_module": "@jupyter-widgets/controls",
      "model_module_version": "1.1.0",
      "model_name": "ButtonStyleModel",
      "state": {}
     },
     "8208886a79254eb5b62442932388e73a": {
      "model_module": "@jupyter-widgets/controls",
      "model_module_version": "1.1.0",
      "model_name": "IntSliderModel",
      "state": {
       "description": "Blue handle",
       "layout": "IPY_MODEL_6255be33a19441938c241044ff3d33aa",
       "style": "IPY_MODEL_25e13e76912f4ec3964f01cb849c0cfd"
      }
     },
     "822f48cf3a894f8fb1647d8d724e5367": {
      "model_module": "@jupyter-widgets/controls",
      "model_module_version": "1.1.0",
      "model_name": "ButtonStyleModel",
      "state": {}
     },
     "826abf2fb68a4fc1a4a76e52fa46d73f": {
      "model_module": "@jupyter-widgets/controls",
      "model_module_version": "1.1.0",
      "model_name": "ButtonStyleModel",
      "state": {}
     },
     "826ef1b635774996bc2be6d32c18d7b9": {
      "model_module": "@jupyter-widgets/controls",
      "model_module_version": "1.1.0",
      "model_name": "LabelModel",
      "state": {
       "layout": "IPY_MODEL_4a539eacd90d472f90e3b6c87eeddf78",
       "style": "IPY_MODEL_4a318ff5b6764f88bee907cbc6ab8489",
       "value": "\\(e=mc^2\\)"
      }
     },
     "82731e6db04642d4a6787ed81de73213": {
      "model_module": "@jupyter-widgets/controls",
      "model_module_version": "1.1.0",
      "model_name": "ButtonStyleModel",
      "state": {}
     },
     "82cecb45b34346e0a650a2b576f5f7e0": {
      "model_module": "@jupyter-widgets/controls",
      "model_module_version": "1.1.0",
      "model_name": "SliderStyleModel",
      "state": {
       "description_width": ""
      }
     },
     "82e9e5c62c2f4f6190a97d44576f67d5": {
      "model_module": "@jupyter-widgets/base",
      "model_module_version": "1.0.0",
      "model_name": "LayoutModel",
      "state": {}
     },
     "8314c2b38bf543bbae9b81a61bb12747": {
      "model_module": "@jupyter-widgets/controls",
      "model_module_version": "1.1.0",
      "model_name": "ButtonModel",
      "state": {
       "button_style": "warning",
       "description": "39",
       "layout": "IPY_MODEL_9886a36bb356420e9e4d3c7cdd66e238",
       "style": "IPY_MODEL_946f3d8d87e140cd948f6f7807af7a8d"
      }
     },
     "8324aae7bb2d485d8ccd5b1bd4117920": {
      "model_module": "@jupyter-widgets/base",
      "model_module_version": "1.0.0",
      "model_name": "LayoutModel",
      "state": {
       "flex": "2 1 auto",
       "width": "auto"
      }
     },
     "832a7d604863454d9504a5dd93f42128": {
      "model_module": "@jupyter-widgets/controls",
      "model_module_version": "1.1.0",
      "model_name": "ButtonModel",
      "state": {
       "button_style": "warning",
       "description": "26",
       "layout": "IPY_MODEL_5a006e2933db480cbe6187ccadf63fd7",
       "style": "IPY_MODEL_725dd5174f1741cc9bd69cda909ed9e2"
      }
     },
     "832a88d219a643cf80a470389935dd34": {
      "model_module": "@jupyter-widgets/base",
      "model_module_version": "1.0.0",
      "model_name": "LayoutModel",
      "state": {
       "flex": "2 1 auto",
       "width": "auto"
      }
     },
     "834462c5d92f4e439e13dafcdbfa9c06": {
      "model_module": "@jupyter-widgets/controls",
      "model_module_version": "1.1.0",
      "model_name": "ButtonModel",
      "state": {
       "button_style": "warning",
       "description": "33",
       "layout": "IPY_MODEL_5a006e2933db480cbe6187ccadf63fd7",
       "style": "IPY_MODEL_c1d7f71ee7b34733b2f0d0ffea3fa4bd"
      }
     },
     "8373af82da714922bf254282a91beb63": {
      "model_module": "@jupyter-widgets/controls",
      "model_module_version": "1.1.0",
      "model_name": "LabelModel",
      "state": {
       "layout": "IPY_MODEL_eb2ab2120f324f3a8a8547ed527fcc67",
       "style": "IPY_MODEL_f01a98bdc19b427282915660a996ca0d",
       "value": "Scroll horizontally:"
      }
     },
     "83779caeeb774d0aaa3e423e9f785011": {
      "model_module": "@jupyter-widgets/base",
      "model_module_version": "1.0.0",
      "model_name": "LayoutModel",
      "state": {}
     },
     "8379d8a070b24985a334db9d21f0f03f": {
      "model_module": "@jupyter-widgets/controls",
      "model_module_version": "1.1.0",
      "model_name": "ButtonStyleModel",
      "state": {}
     },
     "837c18c2978f4a24b2cb960c23bd01cd": {
      "model_module": "@jupyter-widgets/controls",
      "model_module_version": "1.1.0",
      "model_name": "VBoxModel",
      "state": {
       "children": [
        "IPY_MODEL_885d51f1e4624e75ac58153e091e3aa3",
        "IPY_MODEL_5a6146d8f9eb48d3a0017834a644bf32"
       ],
       "layout": "IPY_MODEL_23febfee2a93455b90f6740751230632"
      }
     },
     "83bf7e2a62534a65b28de62e761d8762": {
      "model_module": "@jupyter-widgets/controls",
      "model_module_version": "1.1.0",
      "model_name": "ButtonModel",
      "state": {
       "description": "weight=2, _0%",
       "layout": "IPY_MODEL_2c9740cb93cc4b56b6b395d9ad537f07",
       "style": "IPY_MODEL_8646d3b90e984616a0cad87da4dafb67"
      }
     },
     "83f82fbfb1b1492987bd819538041fa3": {
      "model_module": "@jupyter-widgets/controls",
      "model_module_version": "1.1.0",
      "model_name": "ButtonStyleModel",
      "state": {}
     },
     "84399214ed2d42889afd883f25063a47": {
      "model_module": "@jupyter-widgets/controls",
      "model_module_version": "1.1.0",
      "model_name": "ButtonStyleModel",
      "state": {
       "button_color": "lightgreen"
      }
     },
     "84447ea46574451f888023d1020d2f9c": {
      "model_module": "@jupyter-widgets/controls",
      "model_module_version": "1.1.0",
      "model_name": "IntSliderModel",
      "state": {
       "layout": "IPY_MODEL_2a930140bcea421d8d09fcf63f00632e",
       "style": "IPY_MODEL_a2867abb1c5043c8a9c90b8f85aed5fc"
      }
     },
     "844e689f4fb5418483d536942a3a0685": {
      "model_module": "@jupyter-widgets/controls",
      "model_module_version": "1.1.0",
      "model_name": "ButtonModel",
      "state": {
       "button_style": "warning",
       "description": "15",
       "layout": "IPY_MODEL_86c93170059349499a5f76156cbd8cdf",
       "style": "IPY_MODEL_0951adc347ce4785b1ca5044c793a8dc"
      }
     },
     "84702b79b778440385a3253c3c301e31": {
      "model_module": "@jupyter-widgets/base",
      "model_module_version": "1.0.0",
      "model_name": "LayoutModel",
      "state": {
       "flex": "1 1 auto",
       "width": "auto"
      }
     },
     "84704b88881545b386f9b72783446bbf": {
      "model_module": "@jupyter-widgets/base",
      "model_module_version": "1.0.0",
      "model_name": "LayoutModel",
      "state": {}
     },
     "8481107357e84a0db1a0a0f53bbf1a59": {
      "model_module": "@jupyter-widgets/base",
      "model_module_version": "1.0.0",
      "model_name": "LayoutModel",
      "state": {}
     },
     "849c0d4558e74f9a9beaab9a6fa46636": {
      "model_module": "@jupyter-widgets/controls",
      "model_module_version": "1.1.0",
      "model_name": "ButtonModel",
      "state": {
       "button_style": "warning",
       "description": "23",
       "layout": "IPY_MODEL_2609a17cced145ad91b86d4ddfbd3bfd",
       "style": "IPY_MODEL_83f82fbfb1b1492987bd819538041fa3"
      }
     },
     "84ba33ae8b2a424d92f98a91a7cf0fa9": {
      "model_module": "@jupyter-widgets/base",
      "model_module_version": "1.0.0",
      "model_name": "LayoutModel",
      "state": {
       "flex": "1 1 0%",
       "width": "auto"
      }
     },
     "84c6c6d057a24ad5a901f7c49932a826": {
      "model_module": "@jupyter-widgets/controls",
      "model_module_version": "1.1.0",
      "model_name": "ButtonModel",
      "state": {
       "button_style": "warning",
       "description": "14",
       "layout": "IPY_MODEL_9886a36bb356420e9e4d3c7cdd66e238",
       "style": "IPY_MODEL_d217bd07b3544971987e0a0312a968bc"
      }
     },
     "84c9c04f9b6542c3b122cc78a65ddfb9": {
      "model_module": "@jupyter-widgets/base",
      "model_module_version": "1.0.0",
      "model_name": "LayoutModel",
      "state": {}
     },
     "84e381619d404c5eb145a1c67ffc66a0": {
      "model_module": "@jupyter-widgets/controls",
      "model_module_version": "1.1.0",
      "model_name": "ButtonStyleModel",
      "state": {}
     },
     "84e7bb29aa124ee1ba7d3ba47c57a414": {
      "model_module": "@jupyter-widgets/controls",
      "model_module_version": "1.1.0",
      "model_name": "IntSliderModel",
      "state": {
       "description": "A too long description",
       "layout": "IPY_MODEL_e32cf80d4598471a8b5086e96fa00e20",
       "style": "IPY_MODEL_9aefa0e8efbc4e6dabe6756172968e65"
      }
     },
     "84f759e9a9cf49bcaae8031740732f06": {
      "model_module": "@jupyter-widgets/controls",
      "model_module_version": "1.1.0",
      "model_name": "ButtonStyleModel",
      "state": {}
     },
     "852889b600cb4f98990513e3000fe4c9": {
      "model_module": "@jupyter-widgets/controls",
      "model_module_version": "1.1.0",
      "model_name": "ButtonStyleModel",
      "state": {}
     },
     "853733d6de2a4cbf82797c0232e6926c": {
      "model_module": "@jupyter-widgets/controls",
      "model_module_version": "1.1.0",
      "model_name": "ButtonModel",
      "state": {
       "button_style": "warning",
       "description": "11",
       "layout": "IPY_MODEL_128139c1d2f94adbaaea71294ef22ff3",
       "style": "IPY_MODEL_d5d3982019cd426f9f8863ee148cc072"
      }
     },
     "854847ab33a94f099e25c3da59cc715d": {
      "model_module": "@jupyter-widgets/controls",
      "model_module_version": "1.1.0",
      "model_name": "DescriptionStyleModel",
      "state": {
       "description_width": ""
      }
     },
     "85953ba390dd46a5aab6537e623e4e8c": {
      "model_module": "@jupyter-widgets/controls",
      "model_module_version": "1.1.0",
      "model_name": "ButtonModel",
      "state": {
       "button_style": "warning",
       "description": "21",
       "layout": "IPY_MODEL_1d10072127cb4a32968374fdb7bd2479",
       "style": "IPY_MODEL_e758cc3d1d944ceca8369ac0ad2a67df"
      }
     },
     "85b599e6e05c4f92aed14d699bd1bdbe": {
      "model_module": "@jupyter-widgets/controls",
      "model_module_version": "1.1.0",
      "model_name": "DescriptionStyleModel",
      "state": {
       "description_width": ""
      }
     },
     "85b83b86fa674290b480f153082d9615": {
      "model_module": "@jupyter-widgets/base",
      "model_module_version": "1.0.0",
      "model_name": "LayoutModel",
      "state": {}
     },
     "85ba4b04152e4c69a769310967ae2598": {
      "model_module": "@jupyter-widgets/controls",
      "model_module_version": "1.1.0",
      "model_name": "DescriptionStyleModel",
      "state": {
       "description_width": ""
      }
     },
     "85f87c9b2e6b430e8facde4b322db4c2": {
      "model_module": "@jupyter-widgets/controls",
      "model_module_version": "1.1.0",
      "model_name": "ButtonStyleModel",
      "state": {}
     },
     "86120c170f904c55a2900c4b0a628f39": {
      "model_module": "@jupyter-widgets/controls",
      "model_module_version": "1.1.0",
      "model_name": "ButtonStyleModel",
      "state": {}
     },
     "86145ab078e149159953de75efaf8b9a": {
      "model_module": "@jupyter-widgets/base",
      "model_module_version": "1.0.0",
      "model_name": "LayoutModel",
      "state": {
       "flex": "1 1 auto",
       "width": "auto"
      }
     },
     "8621f54d7d004ad78beb9ac333e884e9": {
      "model_module": "@jupyter-widgets/controls",
      "model_module_version": "1.1.0",
      "model_name": "ButtonModel",
      "state": {
       "button_style": "danger",
       "description": "weight=1, auto",
       "layout": "IPY_MODEL_e4e3fc7718fd47229cf5d597a7ae1bc3",
       "style": "IPY_MODEL_eb238fe5606b4018b1e5d64cde79998b"
      }
     },
     "8646d3b90e984616a0cad87da4dafb67": {
      "model_module": "@jupyter-widgets/controls",
      "model_module_version": "1.1.0",
      "model_name": "ButtonStyleModel",
      "state": {}
     },
     "8659ee7055c4400f91d26a884a8572b0": {
      "model_module": "@jupyter-widgets/controls",
      "model_module_version": "1.1.0",
      "model_name": "ButtonModel",
      "state": {
       "description": "weight=1, _0%",
       "layout": "IPY_MODEL_af3b9972a7c04fdb99d3694658ad0227",
       "style": "IPY_MODEL_58cf3a412c4747f1ae882734a4836d4c"
      }
     },
     "865c010cd38e4abe9280217adb4a9b62": {
      "model_module": "@jupyter-widgets/controls",
      "model_module_version": "1.1.0",
      "model_name": "LabelModel",
      "state": {
       "layout": "IPY_MODEL_588f18d9eee04f309f207aa551a391df",
       "style": "IPY_MODEL_24b99335900a4bad80d0c98916b7eee6",
       "value": "Scroll horizontally:"
      }
     },
     "866e541298c5452482da2e154fd86053": {
      "model_module": "@jupyter-widgets/controls",
      "model_module_version": "1.1.0",
      "model_name": "ButtonStyleModel",
      "state": {}
     },
     "8671460bf97b43f39cb6a6d349ae7a4d": {
      "model_module": "@jupyter-widgets/controls",
      "model_module_version": "1.1.0",
      "model_name": "ButtonStyleModel",
      "state": {}
     },
     "8674fc122dc347e4b023aa252cf4d4e2": {
      "model_module": "@jupyter-widgets/controls",
      "model_module_version": "1.1.0",
      "model_name": "ButtonModel",
      "state": {
       "description": "weight=1",
       "layout": "IPY_MODEL_e6ed3472dd5342dd8174a7304fc48c19",
       "style": "IPY_MODEL_48a70b7e15a34a349ae21271bba2f1b1"
      }
     },
     "867f5e73fbae4bc6b31a447204f29840": {
      "model_module": "@jupyter-widgets/controls",
      "model_module_version": "1.1.0",
      "model_name": "ButtonModel",
      "state": {
       "button_style": "warning",
       "description": "14",
       "layout": "IPY_MODEL_4f96c205ba6c46e196e16241cfe4cf24",
       "style": "IPY_MODEL_576e5dbef7cd4877b9d8746bd657a452"
      }
     },
     "86c0bef6a6024fe2aff219dfd38e6127": {
      "model_module": "@jupyter-widgets/controls",
      "model_module_version": "1.1.0",
      "model_name": "ButtonModel",
      "state": {
       "button_style": "warning",
       "description": "10",
       "layout": "IPY_MODEL_9886a36bb356420e9e4d3c7cdd66e238",
       "style": "IPY_MODEL_b697cfca1c5041fbb255168576b23944"
      }
     },
     "86c93170059349499a5f76156cbd8cdf": {
      "model_module": "@jupyter-widgets/base",
      "model_module_version": "1.0.0",
      "model_name": "LayoutModel",
      "state": {
       "height": "100px",
       "min_width": "40px"
      }
     },
     "86c965a6af184c689e1513437fca2fc5": {
      "model_module": "@jupyter-widgets/controls",
      "model_module_version": "1.1.0",
      "model_name": "ButtonModel",
      "state": {
       "button_style": "warning",
       "description": "29",
       "layout": "IPY_MODEL_6abcd37e41034b2ca8a2c4c4ba0dca11",
       "style": "IPY_MODEL_56c7ab061736420496a3daaff1add681"
      }
     },
     "86e8d8b877294b41a5604b4b0cbe2ddc": {
      "model_module": "@jupyter-widgets/controls",
      "model_module_version": "1.1.0",
      "model_name": "ButtonStyleModel",
      "state": {}
     },
     "8724a7defdfb44c98bfefc078c578f1c": {
      "model_module": "@jupyter-widgets/controls",
      "model_module_version": "1.1.0",
      "model_name": "ButtonStyleModel",
      "state": {}
     },
     "8755780fefec4d949d23380d36df60f3": {
      "model_module": "@jupyter-widgets/controls",
      "model_module_version": "1.1.0",
      "model_name": "BoxModel",
      "state": {
       "children": [
        "IPY_MODEL_095c69b1538e48fe974175b9087c0fcd",
        "IPY_MODEL_0f22c356a8d14e30b8c3ab97f3d66104",
        "IPY_MODEL_28ed73c3d23c4407bc044fcef7164ea1"
       ],
       "layout": "IPY_MODEL_26de14cf89fb4a058ebbd27357adcf0a"
      }
     },
     "876486aeb59244c897efb6e283c8ac5d": {
      "model_module": "@jupyter-widgets/controls",
      "model_module_version": "1.1.0",
      "model_name": "ButtonModel",
      "state": {
       "button_style": "warning",
       "description": "3",
       "layout": "IPY_MODEL_6abcd37e41034b2ca8a2c4c4ba0dca11",
       "style": "IPY_MODEL_0911c1942b594d4eaf6ede977a5c16dc"
      }
     },
     "876fec660c684b099dc3cde59e781d3e": {
      "model_module": "@jupyter-widgets/controls",
      "model_module_version": "1.1.0",
      "model_name": "ButtonModel",
      "state": {
       "button_style": "warning",
       "description": "3",
       "layout": "IPY_MODEL_128139c1d2f94adbaaea71294ef22ff3",
       "style": "IPY_MODEL_c9a739cbee28411091a426761018ade4"
      }
     },
     "8775b6645bec42a7aef778d9cf274e01": {
      "model_module": "@jupyter-widgets/controls",
      "model_module_version": "1.1.0",
      "model_name": "VBoxModel",
      "state": {
       "children": [
        "IPY_MODEL_aba58bbfe75c49fa9b623d6bb427465a",
        "IPY_MODEL_90d7b23d2dea4fcba0c75b6cd0752b26"
       ],
       "layout": "IPY_MODEL_fff6803d5150478da66f80906ff01338"
      }
     },
     "87cffb66d7ed49cf82da8e38d6a414aa": {
      "model_module": "@jupyter-widgets/controls",
      "model_module_version": "1.1.0",
      "model_name": "ButtonModel",
      "state": {
       "button_style": "warning",
       "description": "26",
       "layout": "IPY_MODEL_86c93170059349499a5f76156cbd8cdf",
       "style": "IPY_MODEL_6fe928030f9c478db354b230c14f362b"
      }
     },
     "87e30e75e01a445785f4b0335ed09a81": {
      "model_module": "@jupyter-widgets/controls",
      "model_module_version": "1.1.0",
      "model_name": "ButtonModel",
      "state": {
       "button_style": "warning",
       "description": "24",
       "layout": "IPY_MODEL_6abcd37e41034b2ca8a2c4c4ba0dca11",
       "style": "IPY_MODEL_5e1ca505b77049518b214b0816716ff5"
      }
     },
     "88209d51c3534e5d99a7593dc2bc59bc": {
      "model_module": "@jupyter-widgets/base",
      "model_module_version": "1.0.0",
      "model_name": "LayoutModel",
      "state": {}
     },
     "88551bc0450742adba64836c39018ac7": {
      "model_module": "@jupyter-widgets/base",
      "model_module_version": "1.0.0",
      "model_name": "LayoutModel",
      "state": {}
     },
     "885d51f1e4624e75ac58153e091e3aa3": {
      "model_module": "@jupyter-widgets/controls",
      "model_module_version": "1.1.0",
      "model_name": "ButtonModel",
      "state": {
       "description": "correct",
       "layout": "IPY_MODEL_e3173b72324b4fbca41b3a15df78a948",
       "style": "IPY_MODEL_96d537ca62294f528c2c6d0fe0a39eda"
      }
     },
     "88719c82620c4dea9e894419fcd95eec": {
      "model_module": "@jupyter-widgets/controls",
      "model_module_version": "1.1.0",
      "model_name": "ButtonStyleModel",
      "state": {}
     },
     "88bfc7aa41be4248bc21c397e9da4727": {
      "model_module": "@jupyter-widgets/controls",
      "model_module_version": "1.1.0",
      "model_name": "ButtonModel",
      "state": {
       "button_style": "warning",
       "description": "25",
       "layout": "IPY_MODEL_128139c1d2f94adbaaea71294ef22ff3",
       "style": "IPY_MODEL_f9e39971504e4b94979b25d8ecf0a75a"
      }
     },
     "88c1303432cb45aaafbd4b4a2c31a7b6": {
      "model_module": "@jupyter-widgets/controls",
      "model_module_version": "1.1.0",
      "model_name": "ButtonStyleModel",
      "state": {}
     },
     "88d173de56c74d45b67188ce9f7cc11f": {
      "model_module": "@jupyter-widgets/controls",
      "model_module_version": "1.1.0",
      "model_name": "IntSliderModel",
      "state": {
       "layout": "IPY_MODEL_82e9e5c62c2f4f6190a97d44576f67d5",
       "max": 60,
       "min": 40,
       "style": "IPY_MODEL_a34ea4d9649a4dc0a1ecefa68331fbdd",
       "value": 40
      }
     },
     "89009a151da64843bc371b04ef86c0e1": {
      "model_module": "@jupyter-widgets/base",
      "model_module_version": "1.0.0",
      "model_name": "LayoutModel",
      "state": {
       "align_items": "stretch",
       "border": "solid",
       "display": "flex",
       "flex_flow": "row",
       "width": "50%"
      }
     },
     "89542429f977414f8dd02e4e426070a1": {
      "model_module": "@jupyter-widgets/controls",
      "model_module_version": "1.1.0",
      "model_name": "ButtonStyleModel",
      "state": {}
     },
     "8956f310629a4e358bd4d8051393b462": {
      "model_module": "@jupyter-widgets/controls",
      "model_module_version": "1.1.0",
      "model_name": "ButtonModel",
      "state": {
       "button_style": "warning",
       "description": "12",
       "layout": "IPY_MODEL_0606cbc317604fbdbaea9d3fd0b2d14a",
       "style": "IPY_MODEL_2070261a1e8a4ce08d54e537d879a4c0"
      }
     },
     "8979ef531c894f41a9548a4ea0e93220": {
      "model_module": "@jupyter-widgets/base",
      "model_module_version": "1.0.0",
      "model_name": "LayoutModel",
      "state": {}
     },
     "89a42a505c584a5f97404ad52d2b767d": {
      "model_module": "@jupyter-widgets/controls",
      "model_module_version": "1.1.0",
      "model_name": "BoxModel",
      "state": {
       "children": [
        "IPY_MODEL_2552af58264b4083b1d49c2d5ed77e71",
        "IPY_MODEL_0cabf2e755884f7fbaa6614358e4351d"
       ],
       "layout": "IPY_MODEL_df42cf5042074ebeb5bb3b8015be3684"
      }
     },
     "89b1be7777ba4382a0255cbb0522de65": {
      "model_module": "@jupyter-widgets/controls",
      "model_module_version": "1.1.0",
      "model_name": "ButtonModel",
      "state": {
       "button_style": "warning",
       "description": "5",
       "layout": "IPY_MODEL_616560d2e26b4bee8b7c903f483241f8",
       "style": "IPY_MODEL_180c2f8593d6415795a9de069058a285"
      }
     },
     "89e5800d14fe499996ae6025722b00b5": {
      "model_module": "@jupyter-widgets/controls",
      "model_module_version": "1.1.0",
      "model_name": "ButtonStyleModel",
      "state": {}
     },
     "89ed9394beb24259bb149c7e3d24f315": {
      "model_module": "@jupyter-widgets/controls",
      "model_module_version": "1.1.0",
      "model_name": "ButtonStyleModel",
      "state": {}
     },
     "8a25bd9fe03f474284a906a0c2a611a0": {
      "model_module": "@jupyter-widgets/controls",
      "model_module_version": "1.1.0",
      "model_name": "ButtonModel",
      "state": {
       "button_style": "danger",
       "description": "weight=1, auto",
       "layout": "IPY_MODEL_84702b79b778440385a3253c3c301e31",
       "style": "IPY_MODEL_3b52c53a85b243839f314a4e04e7ccaa"
      }
     },
     "8aa642a5ec7347ac8ae106a6a8d300c2": {
      "model_module": "@jupyter-widgets/controls",
      "model_module_version": "1.1.0",
      "model_name": "ButtonStyleModel",
      "state": {}
     },
     "8adee3a6f1f0409dbc233f78393c756a": {
      "model_module": "@jupyter-widgets/controls",
      "model_module_version": "1.1.0",
      "model_name": "SliderStyleModel",
      "state": {
       "description_width": ""
      }
     },
     "8aeb09f924834b6c850720e27b91b0bd": {
      "model_module": "@jupyter-widgets/controls",
      "model_module_version": "1.1.0",
      "model_name": "ButtonStyleModel",
      "state": {}
     },
     "8afc7d80d2af4371983e9cea617dce6c": {
      "model_module": "@jupyter-widgets/controls",
      "model_module_version": "1.1.0",
      "model_name": "ButtonModel",
      "state": {
       "button_style": "warning",
       "description": "13",
       "layout": "IPY_MODEL_5a006e2933db480cbe6187ccadf63fd7",
       "style": "IPY_MODEL_d26f3283151a4f21b400592f02bbc88c"
      }
     },
     "8afd908fcba4488aae93564779d4a555": {
      "model_module": "@jupyter-widgets/controls",
      "model_module_version": "1.1.0",
      "model_name": "LabelModel",
      "state": {
       "layout": "IPY_MODEL_338acd0597d8482abf8c8d3afb8ac07b",
       "style": "IPY_MODEL_7a33faa6bcf14068aaaa7d10f607da3c",
       "value": "Scroll horizontally:"
      }
     },
     "8b39c022d33548fb8e382f05b8ea1984": {
      "model_module": "@jupyter-widgets/controls",
      "model_module_version": "1.1.0",
      "model_name": "ButtonModel",
      "state": {
       "button_style": "warning",
       "description": "24",
       "layout": "IPY_MODEL_2609a17cced145ad91b86d4ddfbd3bfd",
       "style": "IPY_MODEL_370ccf86c6e64277bd8f4d43cb2f4afc"
      }
     },
     "8b68bdfa84a24c10aafb4e0195b42467": {
      "model_module": "@jupyter-widgets/controls",
      "model_module_version": "1.1.0",
      "model_name": "ButtonModel",
      "state": {
       "button_style": "danger",
       "description": "horse",
       "layout": "IPY_MODEL_3f49a64624264d8abe1a00f80a342c21",
       "style": "IPY_MODEL_2b8836c60b7b4421bb27c3508e57d4c8"
      }
     },
     "8b7c6c205d994f02b7c3a2ce9d27d94d": {
      "model_module": "@jupyter-widgets/controls",
      "model_module_version": "1.1.0",
      "model_name": "ButtonStyleModel",
      "state": {}
     },
     "8b9ec1b49e86467186da7992d5791712": {
      "model_module": "@jupyter-widgets/base",
      "model_module_version": "1.0.0",
      "model_name": "LayoutModel",
      "state": {
       "flex": "2 1 0%",
       "width": "auto"
      }
     },
     "8ba04621f14b4b72ab5e0426845785e6": {
      "model_module": "@jupyter-widgets/controls",
      "model_module_version": "1.1.0",
      "model_name": "ButtonStyleModel",
      "state": {}
     },
     "8bb4735d5bfa4808bc74f910f32e0e6b": {
      "model_module": "@jupyter-widgets/base",
      "model_module_version": "1.0.0",
      "model_name": "LayoutModel",
      "state": {}
     },
     "8bef0f64ac7744e59b5fa8fd34806ba3": {
      "model_module": "@jupyter-widgets/controls",
      "model_module_version": "1.1.0",
      "model_name": "SliderStyleModel",
      "state": {
       "description_width": "initial"
      }
     },
     "8c24f8fb3fd74be0b9041b9a9504d5d0": {
      "model_module": "@jupyter-widgets/base",
      "model_module_version": "1.0.0",
      "model_name": "LayoutModel",
      "state": {}
     },
     "8c29d64b143c47e2a43d2d2ea280ae47": {
      "model_module": "@jupyter-widgets/controls",
      "model_module_version": "1.1.0",
      "model_name": "ButtonModel",
      "state": {
       "button_style": "warning",
       "description": "34",
       "layout": "IPY_MODEL_4f96c205ba6c46e196e16241cfe4cf24",
       "style": "IPY_MODEL_ee31189f7fbe4c3ab8574ca18db03231"
      }
     },
     "8c937f306c3b42c3afae89f02e83e3bf": {
      "model_module": "@jupyter-widgets/controls",
      "model_module_version": "1.1.0",
      "model_name": "ButtonModel",
      "state": {
       "button_style": "warning",
       "description": "38",
       "layout": "IPY_MODEL_128139c1d2f94adbaaea71294ef22ff3",
       "style": "IPY_MODEL_dd9d0e6056524230ae9e629f3802d921"
      }
     },
     "8c9a967c2bb94fdab1922e92bb6a188f": {
      "model_module": "@jupyter-widgets/controls",
      "model_module_version": "1.1.0",
      "model_name": "ButtonModel",
      "state": {
       "description": "weight=1, __0%",
       "layout": "IPY_MODEL_44988d1bff9241daa21b35e1ad909c4f",
       "style": "IPY_MODEL_a572df8babfc449b9f959f75f2262269"
      }
     },
     "8d057a6c3c834da3ac14af37789e994b": {
      "model_module": "@jupyter-widgets/controls",
      "model_module_version": "1.1.0",
      "model_name": "ButtonStyleModel",
      "state": {}
     },
     "8d4d339868af41c08c82404bb3da9444": {
      "model_module": "@jupyter-widgets/base",
      "model_module_version": "1.0.0",
      "model_name": "LayoutModel",
      "state": {}
     },
     "8d4fa1fc82494c70875195ca2dbb3920": {
      "model_module": "@jupyter-widgets/controls",
      "model_module_version": "1.1.0",
      "model_name": "ButtonStyleModel",
      "state": {}
     },
     "8d5aa1b50908454d8dc0e783262b633e": {
      "model_module": "@jupyter-widgets/base",
      "model_module_version": "1.0.0",
      "model_name": "LayoutModel",
      "state": {
       "flex": "1 1 auto",
       "width": "auto"
      }
     },
     "8d835c311ef44b36a9f4b045edb1afa1": {
      "model_module": "@jupyter-widgets/controls",
      "model_module_version": "1.1.0",
      "model_name": "ButtonStyleModel",
      "state": {}
     },
     "8d8c7b157b924cdd84b9266b217ac2b2": {
      "model_module": "@jupyter-widgets/controls",
      "model_module_version": "1.1.0",
      "model_name": "ButtonStyleModel",
      "state": {}
     },
     "8dc93ceb89264f35b33b5d582f764779": {
      "model_module": "@jupyter-widgets/controls",
      "model_module_version": "1.1.0",
      "model_name": "ButtonStyleModel",
      "state": {}
     },
     "8dda91108e2e45d08f7136516ac3eceb": {
      "model_module": "@jupyter-widgets/controls",
      "model_module_version": "1.1.0",
      "model_name": "ButtonStyleModel",
      "state": {}
     },
     "8de44f9262fb4aefb4721273a72d7880": {
      "model_module": "@jupyter-widgets/controls",
      "model_module_version": "1.1.0",
      "model_name": "ButtonStyleModel",
      "state": {}
     },
     "8e0d036a66b34328b7473e4968420cba": {
      "model_module": "@jupyter-widgets/controls",
      "model_module_version": "1.1.0",
      "model_name": "ButtonStyleModel",
      "state": {}
     },
     "8e1da2096c1e4ddda38478e184f4717f": {
      "model_module": "@jupyter-widgets/controls",
      "model_module_version": "1.1.0",
      "model_name": "ButtonStyleModel",
      "state": {}
     },
     "8e21b7fc0b1f42af8d76b9056afff20f": {
      "model_module": "@jupyter-widgets/controls",
      "model_module_version": "1.1.0",
      "model_name": "ButtonStyleModel",
      "state": {}
     },
     "8e27e8384dc64ed3a03e78aa3f980f3a": {
      "model_module": "@jupyter-widgets/controls",
      "model_module_version": "1.1.0",
      "model_name": "ButtonStyleModel",
      "state": {}
     },
     "8eaea5be7ee14b4f99ba337095fae034": {
      "model_module": "@jupyter-widgets/controls",
      "model_module_version": "1.1.0",
      "model_name": "ButtonStyleModel",
      "state": {}
     },
     "8ef1e53ffb28459cb17673ed04d84d06": {
      "model_module": "@jupyter-widgets/controls",
      "model_module_version": "1.1.0",
      "model_name": "ButtonModel",
      "state": {
       "button_style": "warning",
       "description": "4",
       "layout": "IPY_MODEL_6abcd37e41034b2ca8a2c4c4ba0dca11",
       "style": "IPY_MODEL_a2d1c138380043c29819361b0ca9ad19"
      }
     },
     "8f0ef04aa92b432e9857465f6b7356a1": {
      "model_module": "@jupyter-widgets/controls",
      "model_module_version": "1.1.0",
      "model_name": "ButtonStyleModel",
      "state": {}
     },
     "8f25c8e8d43f42ae87c702ebe03290e9": {
      "model_module": "@jupyter-widgets/controls",
      "model_module_version": "1.1.0",
      "model_name": "ButtonStyleModel",
      "state": {}
     },
     "8f38ca623fc342e09bf17079f618ba10": {
      "model_module": "@jupyter-widgets/controls",
      "model_module_version": "1.1.0",
      "model_name": "ButtonModel",
      "state": {
       "button_style": "warning",
       "description": "16",
       "layout": "IPY_MODEL_4f96c205ba6c46e196e16241cfe4cf24",
       "style": "IPY_MODEL_7ffa50a02bc040708058053f220a94da"
      }
     },
     "8f652531882e4c85a5394972768d3fbd": {
      "model_module": "@jupyter-widgets/controls",
      "model_module_version": "1.1.0",
      "model_name": "ButtonStyleModel",
      "state": {}
     },
     "8f731e87ee994ad29a4b7e5910af2dbe": {
      "model_module": "@jupyter-widgets/controls",
      "model_module_version": "1.1.0",
      "model_name": "ButtonModel",
      "state": {
       "button_style": "warning",
       "description": "0",
       "layout": "IPY_MODEL_1d10072127cb4a32968374fdb7bd2479",
       "style": "IPY_MODEL_187d57c53da14cbfa92b750ea7304d43"
      }
     },
     "8f7977e5dcb4477d9f819578d901d855": {
      "model_module": "@jupyter-widgets/controls",
      "model_module_version": "1.1.0",
      "model_name": "BoxModel",
      "state": {
       "children": [
        "IPY_MODEL_0d0d5043c3f74d63849959aaf973f05b",
        "IPY_MODEL_9d6bcc0d0ca04cfbb2552936fd827403"
       ],
       "layout": "IPY_MODEL_b99b68da767946949d1d26a178669bd6"
      }
     },
     "8f880675c8a24f9881c29767763ca20d": {
      "model_module": "@jupyter-widgets/controls",
      "model_module_version": "1.1.0",
      "model_name": "ButtonModel",
      "state": {
       "button_style": "warning",
       "description": "3",
       "layout": "IPY_MODEL_5f4383735711415596954c7bc1a5bfd1",
       "style": "IPY_MODEL_32e5f630d39d435583ce249ef93316cc"
      }
     },
     "8fa1e49d47e241059fca5b4266e78bd6": {
      "model_module": "@jupyter-widgets/controls",
      "model_module_version": "1.1.0",
      "model_name": "LabelModel",
      "state": {
       "layout": "IPY_MODEL_cf2e13c109f2404082cbc4a570892bd3",
       "style": "IPY_MODEL_1d6fa1c5a74745f1ad5f176b5e3c984c",
       "value": "Age of the captain"
      }
     },
     "8fa9290812414153af37d8db79a40731": {
      "model_module": "@jupyter-widgets/controls",
      "model_module_version": "1.1.0",
      "model_name": "ButtonStyleModel",
      "state": {}
     },
     "8fc24b43e4c9471e846ca6163b45998b": {
      "model_module": "@jupyter-widgets/controls",
      "model_module_version": "1.1.0",
      "model_name": "ButtonStyleModel",
      "state": {}
     },
     "8fc7d6fa8cc04d0d85067eef19c8ca72": {
      "model_module": "@jupyter-widgets/controls",
      "model_module_version": "1.1.0",
      "model_name": "ButtonModel",
      "state": {
       "button_style": "warning",
       "description": "0",
       "layout": "IPY_MODEL_5a006e2933db480cbe6187ccadf63fd7",
       "style": "IPY_MODEL_6b4eb06f36e946c989a2c5bd0241d2b5"
      }
     },
     "8fd83c0015f44d1dad37d24495faf8ce": {
      "model_module": "@jupyter-widgets/controls",
      "model_module_version": "1.1.0",
      "model_name": "ButtonStyleModel",
      "state": {}
     },
     "8fde0902d3b744ac9fafb7e7daa69a0c": {
      "model_module": "@jupyter-widgets/controls",
      "model_module_version": "1.1.0",
      "model_name": "ButtonStyleModel",
      "state": {}
     },
     "8fe2488e6f7d41808241bfa8ea2fe80a": {
      "model_module": "@jupyter-widgets/controls",
      "model_module_version": "1.1.0",
      "model_name": "ButtonStyleModel",
      "state": {}
     },
     "8ff627487a214657b3eff8e850263aa8": {
      "model_module": "@jupyter-widgets/controls",
      "model_module_version": "1.1.0",
      "model_name": "BoxModel",
      "state": {
       "children": [
        "IPY_MODEL_8659ee7055c4400f91d26a884a8572b0",
        "IPY_MODEL_59bb35fdd2fa44b8838ed51d1a974043",
        "IPY_MODEL_95bcfbf65016451db21949bacfb5a7b8"
       ],
       "layout": "IPY_MODEL_f804b93605b841d68c7d7dde9fb05ac9"
      }
     },
     "900a4bf2aadd4cc2bf4ff909c9ce3075": {
      "model_module": "@jupyter-widgets/controls",
      "model_module_version": "1.1.0",
      "model_name": "DescriptionStyleModel",
      "state": {
       "description_width": ""
      }
     },
     "9034b69015f84aadbbd5fb90d385b369": {
      "model_module": "@jupyter-widgets/controls",
      "model_module_version": "1.1.0",
      "model_name": "ButtonStyleModel",
      "state": {}
     },
     "904f3c2ee82b49788ef016b02a6b2ea5": {
      "model_module": "@jupyter-widgets/controls",
      "model_module_version": "1.1.0",
      "model_name": "ButtonModel",
      "state": {
       "button_style": "warning",
       "description": "22",
       "layout": "IPY_MODEL_5a006e2933db480cbe6187ccadf63fd7",
       "style": "IPY_MODEL_a6517e6704ae469f9d4f0f80d5a8f0c1"
      }
     },
     "908b05618f9c4318a9d0dbb1cd9da495": {
      "model_module": "@jupyter-widgets/controls",
      "model_module_version": "1.1.0",
      "model_name": "ButtonModel",
      "state": {
       "button_style": "danger",
       "description": "weight=1, _0%",
       "layout": "IPY_MODEL_323ce613ba964900947e071d229b9023",
       "style": "IPY_MODEL_37c48161aa5b41b893df25c5aaee6466"
      }
     },
     "909124d321c64999b1ac340990e7d691": {
      "model_module": "@jupyter-widgets/controls",
      "model_module_version": "1.1.0",
      "model_name": "ButtonStyleModel",
      "state": {}
     },
     "90b6fea021144d0296a75c38a66a1d7a": {
      "model_module": "@jupyter-widgets/controls",
      "model_module_version": "1.1.0",
      "model_name": "BoxModel",
      "state": {
       "children": [
        "IPY_MODEL_bd783b16766f42649897adb9e0a390f7",
        "IPY_MODEL_8b68bdfa84a24c10aafb4e0195b42467",
        "IPY_MODEL_2973500750814744ba1c1fead86f19cf",
        "IPY_MODEL_06c632abac854a628fcae81139d2591d"
       ],
       "layout": "IPY_MODEL_d59075743148499d85998baa4c1610f7"
      }
     },
     "90c3ed5d158c4d2c900d8754ff46a955": {
      "model_module": "@jupyter-widgets/controls",
      "model_module_version": "1.1.0",
      "model_name": "ButtonStyleModel",
      "state": {}
     },
     "90d684bbde164994aad0bb210d66dd5e": {
      "model_module": "@jupyter-widgets/controls",
      "model_module_version": "1.1.0",
      "model_name": "ButtonModel",
      "state": {
       "button_style": "warning",
       "description": "12",
       "layout": "IPY_MODEL_5a006e2933db480cbe6187ccadf63fd7",
       "style": "IPY_MODEL_bef78bcc7650481384710763f5f75e8e"
      }
     },
     "90d7b23d2dea4fcba0c75b6cd0752b26": {
      "model_module": "@jupyter-widgets/controls",
      "model_module_version": "1.1.0",
      "model_name": "BoxModel",
      "state": {
       "children": [
        "IPY_MODEL_f7a72320633547fd8bdece9fcffb4be9",
        "IPY_MODEL_f2244c4aa510415399772c690586f1be",
        "IPY_MODEL_4a0fbcac67e9450f9a7ab53d9a4e7bd2",
        "IPY_MODEL_f211ae83f92c4671a85bb9214ea5cea8",
        "IPY_MODEL_9e36d40f4c864fc9adc5bde2528900a7",
        "IPY_MODEL_89b1be7777ba4382a0255cbb0522de65",
        "IPY_MODEL_b3c606c17bfe4dfeb0149f9a3fd9d487",
        "IPY_MODEL_5a08590152a34b74b9f4eb8759f3ba98",
        "IPY_MODEL_b05f6cf81bda4baa844d5bd1be47fdd8",
        "IPY_MODEL_f65a7ac3607648be8f961590e0683f0b",
        "IPY_MODEL_6ee3695c42314a74aaad20c87352ee2d",
        "IPY_MODEL_dcc7e315e2e54740bbb3be9cb89d8f54",
        "IPY_MODEL_d1208f324f3949f3aab2ce4886eaafab",
        "IPY_MODEL_a0f95764e5cd4c01b290044672fda307",
        "IPY_MODEL_54fd3edafdfb4df48a3fe51fa48b309f",
        "IPY_MODEL_97719b27ff6240879bfc6a0f9e2085c0",
        "IPY_MODEL_4ed102fc1e4345809ee6c647d144deca",
        "IPY_MODEL_aab865ee7ec145a09c9531fe161e6e83",
        "IPY_MODEL_bcfd6b1a03d84bfb82e2fcdba2f6236f",
        "IPY_MODEL_34f5593bfa464542959751bc48b7e585",
        "IPY_MODEL_9a4345d5ebf543ad9f82a64dc9fe72c6",
        "IPY_MODEL_b2300a8dbd2c4a2a99119187399afc84",
        "IPY_MODEL_2bb63aabea6848c48b6787657136f8bd",
        "IPY_MODEL_b04da1cdf5e747989d559efc5f60fa9d",
        "IPY_MODEL_7f99ba3b71b348389daecbe9ae688c64",
        "IPY_MODEL_dcd60e0af5074cdcafc5cf09b9a6ea9b",
        "IPY_MODEL_f5af1d1a7ab84c85ba70f3b4773c18f5",
        "IPY_MODEL_aa9d6491b0d648218bc884295310e8ae",
        "IPY_MODEL_b90b753d4b5e4db382fa937aaa4ba27e",
        "IPY_MODEL_f9c6fac1215b43189b0672165fb8e435",
        "IPY_MODEL_3074b57a5eb44bbd9d2fe44cd261a742",
        "IPY_MODEL_7f9ee6a73e674ffabded54caa8e7d9f5",
        "IPY_MODEL_436c9e85a6ee47eeb3868f7f9574c546",
        "IPY_MODEL_5f5d7ddb266a438cb1afd4fb8b6f1258",
        "IPY_MODEL_912d7ef2d6294b3bb3cdcc3ca2bf9c50",
        "IPY_MODEL_1676c0fd65f34d15bffb8004ec4f2154",
        "IPY_MODEL_0900239eed7c40fd8d2fbf0fea297846",
        "IPY_MODEL_716e437820cd4cc3b96eb4e5de6fc63b",
        "IPY_MODEL_3d5ec700e849482bb657ccb8b62898e8",
        "IPY_MODEL_dd8b8fa261c34c05bb79f708e6bf90e3"
       ],
       "layout": "IPY_MODEL_bf77aa6cf66342f58a27a824e3c27303"
      }
     },
     "90fbc727b4564aa390c44ca5e957c356": {
      "model_module": "@jupyter-widgets/controls",
      "model_module_version": "1.1.0",
      "model_name": "ButtonStyleModel",
      "state": {}
     },
     "9123387a4bed4ac09cb9aaacf95227c4": {
      "model_module": "@jupyter-widgets/controls",
      "model_module_version": "1.1.0",
      "model_name": "ButtonModel",
      "state": {
       "button_style": "warning",
       "description": "6",
       "layout": "IPY_MODEL_5f4383735711415596954c7bc1a5bfd1",
       "style": "IPY_MODEL_3d9b496a7ccb4e288ac39ceaf6b3d3ab"
      }
     },
     "912d7ef2d6294b3bb3cdcc3ca2bf9c50": {
      "model_module": "@jupyter-widgets/controls",
      "model_module_version": "1.1.0",
      "model_name": "ButtonModel",
      "state": {
       "button_style": "warning",
       "description": "34",
       "layout": "IPY_MODEL_616560d2e26b4bee8b7c903f483241f8",
       "style": "IPY_MODEL_0c6cc1ceb60d4b15be7e9c1f3c99aa26"
      }
     },
     "9152b6be4de540298bd97da4eb1de2f3": {
      "model_module": "@jupyter-widgets/controls",
      "model_module_version": "1.1.0",
      "model_name": "ButtonStyleModel",
      "state": {}
     },
     "9193e901c6074712bf43592c5be6e423": {
      "model_module": "@jupyter-widgets/controls",
      "model_module_version": "1.1.0",
      "model_name": "ButtonStyleModel",
      "state": {}
     },
     "919808a793a540aca87937cf59ceb1f8": {
      "model_module": "@jupyter-widgets/controls",
      "model_module_version": "1.1.0",
      "model_name": "ButtonModel",
      "state": {
       "button_style": "warning",
       "description": "26",
       "layout": "IPY_MODEL_6abcd37e41034b2ca8a2c4c4ba0dca11",
       "style": "IPY_MODEL_db6a0e3b1884462788556e5a29493de0"
      }
     },
     "91a78d153452426ca4153585e50b9e8b": {
      "model_module": "@jupyter-widgets/controls",
      "model_module_version": "1.1.0",
      "model_name": "ButtonModel",
      "state": {
       "button_style": "warning",
       "description": "10",
       "layout": "IPY_MODEL_5f4383735711415596954c7bc1a5bfd1",
       "style": "IPY_MODEL_fe424223880f48e0b5196c8a4ee750f1"
      }
     },
     "91c8b75ba9264800aa8c54b95e639ed8": {
      "model_module": "@jupyter-widgets/controls",
      "model_module_version": "1.1.0",
      "model_name": "ButtonModel",
      "state": {
       "button_style": "warning",
       "description": "37",
       "layout": "IPY_MODEL_2609a17cced145ad91b86d4ddfbd3bfd",
       "style": "IPY_MODEL_b83d9914936d451a9ee0b83119aa6cf4"
      }
     },
     "91ed69a5b74a4be698e360d35133e447": {
      "model_module": "@jupyter-widgets/controls",
      "model_module_version": "1.1.0",
      "model_name": "ButtonModel",
      "state": {
       "button_style": "warning",
       "description": "35",
       "layout": "IPY_MODEL_6abcd37e41034b2ca8a2c4c4ba0dca11",
       "style": "IPY_MODEL_86e8d8b877294b41a5604b4b0cbe2ddc"
      }
     },
     "9220166c91aa44eba6431e9358f18e4f": {
      "model_module": "@jupyter-widgets/controls",
      "model_module_version": "1.1.0",
      "model_name": "ButtonModel",
      "state": {
       "button_style": "danger",
       "description": "weight=1, auto",
       "layout": "IPY_MODEL_b6c3ea8f879f4b8db3a471bb91a61058",
       "style": "IPY_MODEL_71c355b71a9d47e5958f28ecb387eace"
      }
     },
     "92253f970a5044c2b165331e43d57e79": {
      "model_module": "@jupyter-widgets/controls",
      "model_module_version": "1.1.0",
      "model_name": "ButtonStyleModel",
      "state": {}
     },
     "924d95bfd81c4cdcabde80b4a2f9ee25": {
      "model_module": "@jupyter-widgets/controls",
      "model_module_version": "1.1.0",
      "model_name": "ButtonStyleModel",
      "state": {}
     },
     "925f41871e74410f9f40d05e19b16df9": {
      "model_module": "@jupyter-widgets/controls",
      "model_module_version": "1.1.0",
      "model_name": "ButtonStyleModel",
      "state": {}
     },
     "9267d004e12e445aaa0df7fcec5db920": {
      "model_module": "@jupyter-widgets/controls",
      "model_module_version": "1.1.0",
      "model_name": "ButtonStyleModel",
      "state": {}
     },
     "926b544a07d24ec4bce5c7a6f261e0d4": {
      "model_module": "@jupyter-widgets/base",
      "model_module_version": "1.0.0",
      "model_name": "LayoutModel",
      "state": {
       "width": "auto"
      }
     },
     "929d26a3a82240ed9bb2cc9c6619bf2a": {
      "model_module": "@jupyter-widgets/controls",
      "model_module_version": "1.1.0",
      "model_name": "ButtonModel",
      "state": {
       "description": "weight=2, _0%",
       "layout": "IPY_MODEL_463c698fbf6d4a5fb3ab27ff44da628c",
       "style": "IPY_MODEL_c5c22adfc26e4ba18174df2a22531c0c"
      }
     },
     "92f0bbb222f24ab0a94d9ee7e894bd56": {
      "model_module": "@jupyter-widgets/controls",
      "model_module_version": "1.1.0",
      "model_name": "ButtonModel",
      "state": {
       "button_style": "warning",
       "description": "34",
       "layout": "IPY_MODEL_5a006e2933db480cbe6187ccadf63fd7",
       "style": "IPY_MODEL_b6b6a44def464ab1aa69a3ddf6503e6b"
      }
     },
     "9318c44a08c34ec7acf71e6eab95d732": {
      "model_module": "@jupyter-widgets/controls",
      "model_module_version": "1.1.0",
      "model_name": "IntSliderModel",
      "state": {
       "description": "A too long description",
       "layout": "IPY_MODEL_76cf6e19177e456496fd207dea91059f",
       "style": "IPY_MODEL_5101bbd17a7b4083afe60f555956367e"
      }
     },
     "933deec4346f4d9f9d793241845ceae4": {
      "model_module": "@jupyter-widgets/base",
      "model_module_version": "1.0.0",
      "model_name": "LayoutModel",
      "state": {
       "flex": "1 1 auto",
       "width": "auto"
      }
     },
     "934737825999405bb1be14cc5c289e42": {
      "model_module": "@jupyter-widgets/controls",
      "model_module_version": "1.1.0",
      "model_name": "DescriptionStyleModel",
      "state": {
       "description_width": ""
      }
     },
     "9389db70f1784e0899f22738b5e1adb8": {
      "model_module": "@jupyter-widgets/base",
      "model_module_version": "1.0.0",
      "model_name": "LayoutModel",
      "state": {}
     },
     "939225dc381541bfa0b7a9af18b3ec1f": {
      "model_module": "@jupyter-widgets/controls",
      "model_module_version": "1.1.0",
      "model_name": "ButtonModel",
      "state": {
       "button_style": "warning",
       "description": "35",
       "layout": "IPY_MODEL_2609a17cced145ad91b86d4ddfbd3bfd",
       "style": "IPY_MODEL_42100ff802774b03b9a8e69fd0d0df2f"
      }
     },
     "93a57efb7b98497b84dc0161b82db7c2": {
      "model_module": "@jupyter-widgets/controls",
      "model_module_version": "1.1.0",
      "model_name": "ButtonStyleModel",
      "state": {}
     },
     "93ac7c179b9444c993a6207ebebffe4d": {
      "model_module": "@jupyter-widgets/controls",
      "model_module_version": "1.1.0",
      "model_name": "ButtonStyleModel",
      "state": {}
     },
     "93c88d16ee174a42ae802a7392721bf8": {
      "model_module": "@jupyter-widgets/controls",
      "model_module_version": "1.1.0",
      "model_name": "ButtonModel",
      "state": {
       "button_style": "warning",
       "description": "12",
       "layout": "IPY_MODEL_128139c1d2f94adbaaea71294ef22ff3",
       "style": "IPY_MODEL_68063207104c47b0aab7868b78b9df52"
      }
     },
     "93ca3bf8f5bb4a0596eab63c0b600680": {
      "model_module": "@jupyter-widgets/base",
      "model_module_version": "1.0.0",
      "model_name": "LayoutModel",
      "state": {}
     },
     "93d5ba4140d04a10b318fd2194a8de29": {
      "model_module": "@jupyter-widgets/controls",
      "model_module_version": "1.1.0",
      "model_name": "BoxModel",
      "state": {
       "children": [
        "IPY_MODEL_415db19e575d4283b920c50090f6f3c4",
        "IPY_MODEL_6490d3719bf1496ebcf56806cb0f30cd",
        "IPY_MODEL_ceeef5beb0de4913a41fa63b1915fb11",
        "IPY_MODEL_876fec660c684b099dc3cde59e781d3e",
        "IPY_MODEL_fd048a79b8c041abbdb3465b31e27a7f",
        "IPY_MODEL_9e4ef65a9da74cfb8a16566791dce3b4",
        "IPY_MODEL_475bb9d5a89949108f48284cd834faf3",
        "IPY_MODEL_32155ea18c304499847423f056184f60",
        "IPY_MODEL_1c95e82cedfd4b74b386770c23fd55ed",
        "IPY_MODEL_479121b017bc4f7488431461faa34579",
        "IPY_MODEL_a533a1c43bb14b5a9625d9f85f9d86bc",
        "IPY_MODEL_853733d6de2a4cbf82797c0232e6926c",
        "IPY_MODEL_93c88d16ee174a42ae802a7392721bf8",
        "IPY_MODEL_a2609f65205946a6b28c1fcc995348b3",
        "IPY_MODEL_0969a8e6210b43a98051601a7cd10115",
        "IPY_MODEL_f938991d4d634957b31563661942df7b",
        "IPY_MODEL_56c7cf4b6cfc49b5bf44df2c8a1e53ce",
        "IPY_MODEL_064d7a5e7ab042d3843e983dae72cbb8",
        "IPY_MODEL_64333fcee3c943698e421bd9258e0c70",
        "IPY_MODEL_230ceebee94e4b7cb88048043cd700fd",
        "IPY_MODEL_fd890a42cff5404cac76a215e8ffdd59",
        "IPY_MODEL_6c011579af6a4256860f92d3ff58756e",
        "IPY_MODEL_50182995712b4b7ab85ea9eb9ef93513",
        "IPY_MODEL_34b09bf591a34591a6ae00fae086fccb",
        "IPY_MODEL_c65ad95b59e94d2f80963aa670e39fe0",
        "IPY_MODEL_88bfc7aa41be4248bc21c397e9da4727",
        "IPY_MODEL_7374c06accca4d37bcf217345b453691",
        "IPY_MODEL_cc6a6cb1b2d647fc844045f8c8c96d55",
        "IPY_MODEL_ced202b0c7694d24a0efad609b849e6f",
        "IPY_MODEL_e01fdbb62ada42deb795280e3ca1b17a",
        "IPY_MODEL_1c26b8c1235a4a8ab8423ce740f001e6",
        "IPY_MODEL_5805d88682cf47678fbf147f18bb3ea9",
        "IPY_MODEL_320ceb0493dd49aca5780ac2310cef91",
        "IPY_MODEL_6a84ac423f4c48cbbecef4f5f8964ddb",
        "IPY_MODEL_b32a37681eba4eb0ae75704acc897f96",
        "IPY_MODEL_17f2f6c246d74563ac402a9fe8c64130",
        "IPY_MODEL_c84dc9b149e145ffbd24aa1ab8e17143",
        "IPY_MODEL_c28e798b17dd4f8eaa9ade544758c1cd",
        "IPY_MODEL_8c937f306c3b42c3afae89f02e83e3bf",
        "IPY_MODEL_1293c933078d457e9001320eae713294"
       ],
       "layout": "IPY_MODEL_2d874c8c98ab4d0ea3c0d36191bd07e5"
      }
     },
     "93e4f65746924ba7a0adc08044ad7c93": {
      "model_module": "@jupyter-widgets/controls",
      "model_module_version": "1.1.0",
      "model_name": "TextareaModel",
      "state": {
       "layout": "IPY_MODEL_547060654ee1494d990849fce51a42ed",
       "style": "IPY_MODEL_4150f1c5df394d77940cd5528eefbef7"
      }
     },
     "93fda806437843e9af68305bff50e523": {
      "model_module": "@jupyter-widgets/controls",
      "model_module_version": "1.1.0",
      "model_name": "ButtonStyleModel",
      "state": {}
     },
     "941a58206f9c421884302765a9afbbe1": {
      "model_module": "@jupyter-widgets/base",
      "model_module_version": "1.0.0",
      "model_name": "LayoutModel",
      "state": {
       "flex": "3 1 0%",
       "width": "auto"
      }
     },
     "942797e11eb542cea46b4dbeb7d2c748": {
      "model_module": "@jupyter-widgets/controls",
      "model_module_version": "1.1.0",
      "model_name": "IntSliderModel",
      "state": {
       "layout": "IPY_MODEL_8058f68082934d8cbfb3a3e917a5859e",
       "style": "IPY_MODEL_28d175ed6d8841a29015139598b5f53d"
      }
     },
     "94295db0a9704364ad2f120a2feb9d34": {
      "model_module": "@jupyter-widgets/controls",
      "model_module_version": "1.1.0",
      "model_name": "ButtonModel",
      "state": {
       "button_style": "warning",
       "description": "8",
       "layout": "IPY_MODEL_2609a17cced145ad91b86d4ddfbd3bfd",
       "style": "IPY_MODEL_df44b5237f374cffa675cf85d17a7ac3"
      }
     },
     "946f3d8d87e140cd948f6f7807af7a8d": {
      "model_module": "@jupyter-widgets/controls",
      "model_module_version": "1.1.0",
      "model_name": "ButtonStyleModel",
      "state": {}
     },
     "949e09ec3e1e4042acc429e980dee9bd": {
      "model_module": "@jupyter-widgets/controls",
      "model_module_version": "1.1.0",
      "model_name": "ButtonModel",
      "state": {
       "description": "Custom color",
       "layout": "IPY_MODEL_0f77caa99b2642cab48ae9f0bcae447a",
       "style": "IPY_MODEL_84399214ed2d42889afd883f25063a47"
      }
     },
     "94a3a145e9514fddab69938d554c007d": {
      "model_module": "@jupyter-widgets/controls",
      "model_module_version": "1.1.0",
      "model_name": "ButtonStyleModel",
      "state": {}
     },
     "94c2dc54e0e24fd7ac958c374a520870": {
      "model_module": "@jupyter-widgets/controls",
      "model_module_version": "1.1.0",
      "model_name": "ButtonModel",
      "state": {
       "button_style": "warning",
       "description": "27",
       "layout": "IPY_MODEL_9886a36bb356420e9e4d3c7cdd66e238",
       "style": "IPY_MODEL_4469e97d3a414ed1a89409f740d929fc"
      }
     },
     "9517f37da0d440d3b513a4d613f46967": {
      "model_module": "@jupyter-widgets/base",
      "model_module_version": "1.0.0",
      "model_name": "LayoutModel",
      "state": {
       "align_items": "stretch",
       "display": "flex",
       "flex_flow": "row",
       "width": "70%"
      }
     },
     "951e80738ca74fc4be5e342b2bbbf8c3": {
      "model_module": "@jupyter-widgets/base",
      "model_module_version": "1.0.0",
      "model_name": "LayoutModel",
      "state": {
       "width": "auto"
      }
     },
     "959ffd7488a5488394ac2b86c1a0a9c9": {
      "model_module": "@jupyter-widgets/controls",
      "model_module_version": "1.1.0",
      "model_name": "BoxModel",
      "state": {
       "children": [
        "IPY_MODEL_cc39d4e7a32044d59a1c3975bb34b196",
        "IPY_MODEL_0da17df2857140809605f302cd8fa998",
        "IPY_MODEL_0474bebc718a4d479893258403ee6d98",
        "IPY_MODEL_0b24fc39831441a9b6941a82edfbaaf1"
       ],
       "layout": "IPY_MODEL_5c3b7e5ecd9145698d2ee04ee7034cea"
      }
     },
     "95bcfbf65016451db21949bacfb5a7b8": {
      "model_module": "@jupyter-widgets/controls",
      "model_module_version": "1.1.0",
      "model_name": "ButtonModel",
      "state": {
       "description": "weight=1, _0%",
       "layout": "IPY_MODEL_0bd53f577f544b998232e455642616c7",
       "style": "IPY_MODEL_8d4fa1fc82494c70875195ca2dbb3920"
      }
     },
     "95c3b9a5ff0f44a7923498d0090ee53d": {
      "model_module": "@jupyter-widgets/controls",
      "model_module_version": "1.1.0",
      "model_name": "ButtonStyleModel",
      "state": {}
     },
     "95c6b7dfe9c646b08bfe9a07262f1d82": {
      "model_module": "@jupyter-widgets/controls",
      "model_module_version": "1.1.0",
      "model_name": "ButtonModel",
      "state": {
       "button_style": "warning",
       "description": "28",
       "layout": "IPY_MODEL_2609a17cced145ad91b86d4ddfbd3bfd",
       "style": "IPY_MODEL_b419d92e60a54ca79a16faa148dafb07"
      }
     },
     "95f0f9a0452e4de2b20b7e0b63dc8781": {
      "model_module": "@jupyter-widgets/base",
      "model_module_version": "1.0.0",
      "model_name": "LayoutModel",
      "state": {}
     },
     "95f27b7e432d4b13968e7c211554f714": {
      "model_module": "@jupyter-widgets/controls",
      "model_module_version": "1.1.0",
      "model_name": "ButtonModel",
      "state": {
       "button_style": "danger",
       "description": "battery",
       "layout": "IPY_MODEL_08a354fd401d4b17bccc675806c9a48b",
       "style": "IPY_MODEL_e0744995d701473c9f4647da7c5523ca"
      }
     },
     "961c983aa8624fa6a66cd88c7905e8fe": {
      "model_module": "@jupyter-widgets/controls",
      "model_module_version": "1.1.0",
      "model_name": "ButtonStyleModel",
      "state": {}
     },
     "9629717020df48c5a34b08201c90d2c4": {
      "model_module": "@jupyter-widgets/controls",
      "model_module_version": "1.1.0",
      "model_name": "ButtonModel",
      "state": {
       "button_style": "danger",
       "description": "staple",
       "layout": "IPY_MODEL_7ff80e764e2745d9800eae1f025f64e0",
       "style": "IPY_MODEL_2cb621fbacc74976b23ce11629c9e7ac"
      }
     },
     "964eaa593634432eaaf395b4b8845096": {
      "model_module": "@jupyter-widgets/controls",
      "model_module_version": "1.1.0",
      "model_name": "ButtonStyleModel",
      "state": {}
     },
     "968b61840ec645c49b48ec1ac82b0e5f": {
      "model_module": "@jupyter-widgets/controls",
      "model_module_version": "1.1.0",
      "model_name": "ButtonStyleModel",
      "state": {}
     },
     "968ffed9b29745c2b49243a8bb08c157": {
      "model_module": "@jupyter-widgets/controls",
      "model_module_version": "1.1.0",
      "model_name": "ButtonStyleModel",
      "state": {}
     },
     "9691e7bbe130445ab7dfa36f9c40569b": {
      "model_module": "@jupyter-widgets/base",
      "model_module_version": "1.0.0",
      "model_name": "LayoutModel",
      "state": {
       "flex": "2 1 auto",
       "width": "auto"
      }
     },
     "969a7203d7b24c0bba4014020d4abf76": {
      "model_module": "@jupyter-widgets/controls",
      "model_module_version": "1.1.0",
      "model_name": "ButtonStyleModel",
      "state": {}
     },
     "96d537ca62294f528c2c6d0fe0a39eda": {
      "model_module": "@jupyter-widgets/controls",
      "model_module_version": "1.1.0",
      "model_name": "ButtonStyleModel",
      "state": {}
     },
     "96e22eaa17824a6d8daa64afc2598352": {
      "model_module": "@jupyter-widgets/controls",
      "model_module_version": "1.1.0",
      "model_name": "ButtonStyleModel",
      "state": {}
     },
     "96e5f9831d474f87b7f4a49ee0eac7b8": {
      "model_module": "@jupyter-widgets/controls",
      "model_module_version": "1.1.0",
      "model_name": "ButtonModel",
      "state": {
       "button_style": "warning",
       "description": "22",
       "layout": "IPY_MODEL_4f96c205ba6c46e196e16241cfe4cf24",
       "style": "IPY_MODEL_f387a636d8ae4c519fdb74de086406f9"
      }
     },
     "9733885a284f4464a1a69176a9372350": {
      "model_module": "@jupyter-widgets/base",
      "model_module_version": "1.0.0",
      "model_name": "LayoutModel",
      "state": {
       "flex": "2 1 0%",
       "width": "auto"
      }
     },
     "973aa523fdab4ec0bb38cd7e75e5decb": {
      "model_module": "@jupyter-widgets/controls",
      "model_module_version": "1.1.0",
      "model_name": "ButtonStyleModel",
      "state": {}
     },
     "9740a1f70e774e9bab42f6624596bc0b": {
      "model_module": "@jupyter-widgets/controls",
      "model_module_version": "1.1.0",
      "model_name": "ButtonModel",
      "state": {
       "button_style": "warning",
       "description": "30",
       "layout": "IPY_MODEL_2609a17cced145ad91b86d4ddfbd3bfd",
       "style": "IPY_MODEL_0f85ecc716df499d803c7af9d6804c05"
      }
     },
     "9753214fcf5c42348541b3ceb691f379": {
      "model_module": "@jupyter-widgets/controls",
      "model_module_version": "1.1.0",
      "model_name": "ButtonModel",
      "state": {
       "button_style": "warning",
       "description": "29",
       "layout": "IPY_MODEL_0606cbc317604fbdbaea9d3fd0b2d14a",
       "style": "IPY_MODEL_498de56251cc4485bd9db456578ac1e5"
      }
     },
     "9757263eee1d4c3eb491103197390828": {
      "model_module": "@jupyter-widgets/base",
      "model_module_version": "1.0.0",
      "model_name": "LayoutModel",
      "state": {}
     },
     "975ce34f93b743e7991a0900ff4aca50": {
      "model_module": "@jupyter-widgets/controls",
      "model_module_version": "1.1.0",
      "model_name": "ButtonStyleModel",
      "state": {}
     },
     "9769b661da614c80ad4a339f2ad98cab": {
      "model_module": "@jupyter-widgets/controls",
      "model_module_version": "1.1.0",
      "model_name": "ButtonStyleModel",
      "state": {}
     },
     "976b72bae3c444ac83f10b2b0d93d166": {
      "model_module": "@jupyter-widgets/base",
      "model_module_version": "1.0.0",
      "model_name": "LayoutModel",
      "state": {
       "flex": "1 1 0%",
       "width": "auto"
      }
     },
     "97719b27ff6240879bfc6a0f9e2085c0": {
      "model_module": "@jupyter-widgets/controls",
      "model_module_version": "1.1.0",
      "model_name": "ButtonModel",
      "state": {
       "button_style": "warning",
       "description": "15",
       "layout": "IPY_MODEL_616560d2e26b4bee8b7c903f483241f8",
       "style": "IPY_MODEL_34ba4ca482ad41ea9b6839310767574b"
      }
     },
     "978bfecb02514a2a874e102412019c4c": {
      "model_module": "@jupyter-widgets/controls",
      "model_module_version": "1.1.0",
      "model_name": "ButtonModel",
      "state": {
       "button_style": "warning",
       "description": "29",
       "layout": "IPY_MODEL_9886a36bb356420e9e4d3c7cdd66e238",
       "style": "IPY_MODEL_51c483d5392c4e5ab43ea8946cf34536"
      }
     },
     "97a4ab8513724ef4a49224c9495733f3": {
      "model_module": "@jupyter-widgets/controls",
      "model_module_version": "1.1.0",
      "model_name": "ButtonStyleModel",
      "state": {}
     },
     "97b0d7d635fc494c9b5606824dbe086f": {
      "model_module": "@jupyter-widgets/base",
      "model_module_version": "1.0.0",
      "model_name": "LayoutModel",
      "state": {}
     },
     "97de8cd95ce94e79b57d0505728aa0e3": {
      "model_module": "@jupyter-widgets/controls",
      "model_module_version": "1.1.0",
      "model_name": "LabelModel",
      "state": {
       "layout": "IPY_MODEL_65cc81bae10142e3b4d2635c4bd30f77",
       "style": "IPY_MODEL_6aee015cdc85424ba89326efe20bc663",
       "value": "\\(e=mc^2\\)"
      }
     },
     "98010362088b4e52b35528b3bdacced2": {
      "model_module": "@jupyter-widgets/controls",
      "model_module_version": "1.1.0",
      "model_name": "ButtonStyleModel",
      "state": {}
     },
     "98096a138a4349628b67f44a56f42736": {
      "model_module": "@jupyter-widgets/controls",
      "model_module_version": "1.1.0",
      "model_name": "ButtonModel",
      "state": {
       "button_style": "warning",
       "description": "32",
       "layout": "IPY_MODEL_4f96c205ba6c46e196e16241cfe4cf24",
       "style": "IPY_MODEL_ca8a8a3030ab467d877534d88d392bb4"
      }
     },
     "980a69bd72064f5b832fb71c91118ff1": {
      "model_module": "@jupyter-widgets/controls",
      "model_module_version": "1.1.0",
      "model_name": "ButtonModel",
      "state": {
       "button_style": "warning",
       "description": "19",
       "layout": "IPY_MODEL_5f4383735711415596954c7bc1a5bfd1",
       "style": "IPY_MODEL_01a4116955cb473aac242b39e7e36d17"
      }
     },
     "9850d9f55a1c48ffa5f824dd214dbb48": {
      "model_module": "@jupyter-widgets/controls",
      "model_module_version": "1.1.0",
      "model_name": "ButtonModel",
      "state": {
       "button_style": "warning",
       "description": "34",
       "layout": "IPY_MODEL_2609a17cced145ad91b86d4ddfbd3bfd",
       "style": "IPY_MODEL_986f122f5e4b491db6dc164cdb26e991"
      }
     },
     "986f122f5e4b491db6dc164cdb26e991": {
      "model_module": "@jupyter-widgets/controls",
      "model_module_version": "1.1.0",
      "model_name": "ButtonStyleModel",
      "state": {}
     },
     "9886a36bb356420e9e4d3c7cdd66e238": {
      "model_module": "@jupyter-widgets/base",
      "model_module_version": "1.0.0",
      "model_name": "LayoutModel",
      "state": {
       "height": "100px",
       "min_width": "40px"
      }
     },
     "98bb1a8b62934f5e936080c5d49a9f7a": {
      "model_module": "@jupyter-widgets/controls",
      "model_module_version": "1.1.0",
      "model_name": "ButtonStyleModel",
      "state": {}
     },
     "98c708760cc9425c9469253958e1b9f5": {
      "model_module": "@jupyter-widgets/controls",
      "model_module_version": "1.1.0",
      "model_name": "ButtonModel",
      "state": {
       "description": "weight=1, auto",
       "layout": "IPY_MODEL_0b25d5e1a07845d28d35e84043ec31ed",
       "style": "IPY_MODEL_11b8df9cbfab4cdfbb97fbfda5b8ae4a"
      }
     },
     "98e3083dc2294950a43e4c277eb14a04": {
      "model_module": "@jupyter-widgets/base",
      "model_module_version": "1.0.0",
      "model_name": "LayoutModel",
      "state": {}
     },
     "98ede951f2c044b9a3163f9391461103": {
      "model_module": "@jupyter-widgets/controls",
      "model_module_version": "1.1.0",
      "model_name": "ButtonModel",
      "state": {
       "button_style": "warning",
       "description": "31",
       "layout": "IPY_MODEL_f97c294201b54222ba61666297c61c75",
       "style": "IPY_MODEL_716d91ec06af4b298edf5279eab757e8"
      }
     },
     "9912e21955ee475db99f2e079dcc2309": {
      "model_module": "@jupyter-widgets/controls",
      "model_module_version": "1.1.0",
      "model_name": "ButtonModel",
      "state": {
       "button_style": "warning",
       "description": "29",
       "layout": "IPY_MODEL_5f4383735711415596954c7bc1a5bfd1",
       "style": "IPY_MODEL_59dc69c6bd8145db97ef9bc2dddfa2d4"
      }
     },
     "9935c4b522284ad88aaaae42b3d72a20": {
      "model_module": "@jupyter-widgets/controls",
      "model_module_version": "1.1.0",
      "model_name": "ButtonModel",
      "state": {
       "description": "weight=2",
       "layout": "IPY_MODEL_3b9b03c870344e2a9421f860b854704e",
       "style": "IPY_MODEL_a3bf8354ac11430faf6ef8175b93bf50"
      }
     },
     "99a0e854a536443284d704b58297e8c0": {
      "model_module": "@jupyter-widgets/base",
      "model_module_version": "1.0.0",
      "model_name": "LayoutModel",
      "state": {
       "flex": "2",
       "width": "auto"
      }
     },
     "99a87b6f6ed245ffbb9c10a10b10391a": {
      "model_module": "@jupyter-widgets/controls",
      "model_module_version": "1.1.0",
      "model_name": "ButtonModel",
      "state": {
       "button_style": "warning",
       "description": "33",
       "layout": "IPY_MODEL_f97c294201b54222ba61666297c61c75",
       "style": "IPY_MODEL_e226558a1d2d4eda81166b65628eb602"
      }
     },
     "99adc829a3fa435aa48153aed6d8745a": {
      "model_module": "@jupyter-widgets/controls",
      "model_module_version": "1.1.0",
      "model_name": "ButtonStyleModel",
      "state": {}
     },
     "99c70b09a61546698174ab31480b6bd5": {
      "model_module": "@jupyter-widgets/controls",
      "model_module_version": "1.1.0",
      "model_name": "ButtonStyleModel",
      "state": {}
     },
     "99dba6072ddf4bbaa966422e7097d49d": {
      "model_module": "@jupyter-widgets/controls",
      "model_module_version": "1.1.0",
      "model_name": "ButtonStyleModel",
      "state": {}
     },
     "99e96e53375b48f594fed5064d6d8150": {
      "model_module": "@jupyter-widgets/controls",
      "model_module_version": "1.1.0",
      "model_name": "ButtonModel",
      "state": {
       "description": "weight=1",
       "layout": "IPY_MODEL_7c76431092da44e9a3e703c17d72fa1e",
       "style": "IPY_MODEL_c26d53b368f14ed1b9c3cd51e20a31b1"
      }
     },
     "9a4345d5ebf543ad9f82a64dc9fe72c6": {
      "model_module": "@jupyter-widgets/controls",
      "model_module_version": "1.1.0",
      "model_name": "ButtonModel",
      "state": {
       "button_style": "warning",
       "description": "20",
       "layout": "IPY_MODEL_616560d2e26b4bee8b7c903f483241f8",
       "style": "IPY_MODEL_82731e6db04642d4a6787ed81de73213"
      }
     },
     "9a54ba10692d4bf2b868978fc4f3f7a3": {
      "model_module": "@jupyter-widgets/controls",
      "model_module_version": "1.1.0",
      "model_name": "ButtonStyleModel",
      "state": {}
     },
     "9a776a35b0cc48cb88ca5019cacd1975": {
      "model_module": "@jupyter-widgets/controls",
      "model_module_version": "1.1.0",
      "model_name": "ButtonModel",
      "state": {
       "button_style": "warning",
       "description": "37",
       "layout": "IPY_MODEL_f97c294201b54222ba61666297c61c75",
       "style": "IPY_MODEL_4d2776f4da344730aa5cb894d5f76a03"
      }
     },
     "9a9fdd69eb3d48b28c0872ff15484389": {
      "model_module": "@jupyter-widgets/controls",
      "model_module_version": "1.1.0",
      "model_name": "ButtonModel",
      "state": {
       "button_style": "warning",
       "description": "10",
       "layout": "IPY_MODEL_86c93170059349499a5f76156cbd8cdf",
       "style": "IPY_MODEL_b3c2fc36803349b69665d29bd9ac5549"
      }
     },
     "9aac256a03d14441a4d155bc1aad1fc5": {
      "model_module": "@jupyter-widgets/controls",
      "model_module_version": "1.1.0",
      "model_name": "ButtonModel",
      "state": {
       "description": "weight=1,   0%",
       "layout": "IPY_MODEL_ac873e81a9a24dccac2f9592547ab70c",
       "style": "IPY_MODEL_ba1e2252cd7e4bdabef924ffea9b3850"
      }
     },
     "9ab129776c9d43c6a916d31c636578ab": {
      "model_module": "@jupyter-widgets/controls",
      "model_module_version": "1.1.0",
      "model_name": "ButtonStyleModel",
      "state": {}
     },
     "9ab13f2e01fd4184a3a743db7fe1c4e0": {
      "model_module": "@jupyter-widgets/controls",
      "model_module_version": "1.1.0",
      "model_name": "ButtonStyleModel",
      "state": {}
     },
     "9ac71efceaca40898e8924734edded53": {
      "model_module": "@jupyter-widgets/controls",
      "model_module_version": "1.1.0",
      "model_name": "ButtonModel",
      "state": {
       "description": "weight=1, auto",
       "layout": "IPY_MODEL_f151b8e5486f40ea804d98b26f167336",
       "style": "IPY_MODEL_d3de65e2784f40c6af94358aa9f66ede"
      }
     },
     "9aefa0e8efbc4e6dabe6756172968e65": {
      "model_module": "@jupyter-widgets/controls",
      "model_module_version": "1.1.0",
      "model_name": "SliderStyleModel",
      "state": {
       "description_width": "initial"
      }
     },
     "9af3640295de4ea6a88c8a4726d4148c": {
      "model_module": "@jupyter-widgets/controls",
      "model_module_version": "1.1.0",
      "model_name": "BoxModel",
      "state": {
       "children": [
        "IPY_MODEL_72aff38a3a7c43a4b808c49dfa37cf75",
        "IPY_MODEL_2d781ef4328e4408bc134cc7eab5ba2c",
        "IPY_MODEL_8674fc122dc347e4b023aa252cf4d4e2"
       ],
       "layout": "IPY_MODEL_590f63df2359429fb8cb88604a50b97f"
      }
     },
     "9b339ca1d79946c583177528fb08dc0c": {
      "model_module": "@jupyter-widgets/base",
      "model_module_version": "1.0.0",
      "model_name": "LayoutModel",
      "state": {
       "align_items": "stretch",
       "display": "flex",
       "flex_flow": "row",
       "width": "70%"
      }
     },
     "9b4ce2f6e8ef43319d291af785e84b9c": {
      "model_module": "@jupyter-widgets/base",
      "model_module_version": "1.0.0",
      "model_name": "LayoutModel",
      "state": {
       "flex": "1 1 auto",
       "width": "auto"
      }
     },
     "9b60db3e46fa4cad90eef5071c7224b7": {
      "model_module": "@jupyter-widgets/controls",
      "model_module_version": "1.1.0",
      "model_name": "ButtonStyleModel",
      "state": {}
     },
     "9ba9dfbd5aae458ea82ee7c153adb2ba": {
      "model_module": "@jupyter-widgets/controls",
      "model_module_version": "1.1.0",
      "model_name": "ButtonStyleModel",
      "state": {}
     },
     "9bb3381ccd614fa699fbfed9edd0a1a8": {
      "model_module": "@jupyter-widgets/controls",
      "model_module_version": "1.1.0",
      "model_name": "BoxModel",
      "state": {
       "children": [
        "IPY_MODEL_725d32361a904fbd9befd21b87180b2a",
        "IPY_MODEL_5f3fd15c01e246ad92893b497d7a244b",
        "IPY_MODEL_ad5ef86d130740339edfe8aa2b2cf8a8",
        "IPY_MODEL_51bbf3287b6a4a1b841dea17d06523f3",
        "IPY_MODEL_20621a2aa9fc4d9cac9aa71d3186b421",
        "IPY_MODEL_e9b7e2b803114288beadeab27061c5b9",
        "IPY_MODEL_de7e613f5a934cdbae0a4868259f8ec3",
        "IPY_MODEL_faed57b1141746abbad30c0e1f2169f5",
        "IPY_MODEL_a35ac72eb7f54f25b84fc88c29c7136e",
        "IPY_MODEL_eed7305309f74e40806d625568b3b0c6",
        "IPY_MODEL_e5b55e01d1834c3f992fb32d46bfe9e4",
        "IPY_MODEL_f7ab7e35945647af94cf5d6891677f31",
        "IPY_MODEL_c1fc339d1bcf4ed8a94bd35d7f50be75",
        "IPY_MODEL_edfd2b14891b4cd3913e01e87ed86c4a",
        "IPY_MODEL_54944238ca634b1788eda561315994b8",
        "IPY_MODEL_b608d40edc744f46b2f44b5bded7f056",
        "IPY_MODEL_66fd2aeefd804a13aca0b919a29b0e80",
        "IPY_MODEL_51878a770d3f4bdc936e567beec89be7",
        "IPY_MODEL_7d436faf94234fa3bcea8538332b5bfc",
        "IPY_MODEL_2c0860b996d548d79776be363efbd464",
        "IPY_MODEL_0340c16ad91142969d56d5c398619ee5",
        "IPY_MODEL_a5c9fdec95ef4ff49360af59f89a0022",
        "IPY_MODEL_1e52e686861e4f16ae766cb22899da93",
        "IPY_MODEL_1bb83c75431c46f3950ca4e9986ac3d8",
        "IPY_MODEL_d89ada4b84384ddba96c5216db4105ac",
        "IPY_MODEL_74360a6ac0da4772af6d1bc6b83beb78",
        "IPY_MODEL_1eb707c6ac534b42b2e9628c442781b9",
        "IPY_MODEL_ecbc0862cc8a453cb53a7da7081d1a8b",
        "IPY_MODEL_a9bd47f9391848838f3737ca16d02185",
        "IPY_MODEL_0c1fc6c202494353afbab94b112298a1",
        "IPY_MODEL_02374199046a4b269aaf68f71b20613d",
        "IPY_MODEL_98ede951f2c044b9a3163f9391461103",
        "IPY_MODEL_c82cfa5a3e934d96baf4c12f524e6a8e",
        "IPY_MODEL_99a87b6f6ed245ffbb9c10a10b10391a",
        "IPY_MODEL_2caed93c630b4bf9bcfe9cf16c7dcda5",
        "IPY_MODEL_1215b2eb0fc84dad98ac5f533e56c856",
        "IPY_MODEL_b37dccef49c749ec886f4205bdc9a431",
        "IPY_MODEL_9a776a35b0cc48cb88ca5019cacd1975",
        "IPY_MODEL_3bb40f03fc9449b0b2b5c147256df2d9",
        "IPY_MODEL_25161ee0ce2a4914ae73b07d90852687"
       ],
       "layout": "IPY_MODEL_49aaa16298d54a1383a0f537c9eba76c"
      }
     },
     "9bbef602001c466bbbdad6ab5e7c288d": {
      "model_module": "@jupyter-widgets/controls",
      "model_module_version": "1.1.0",
      "model_name": "ButtonModel",
      "state": {
       "button_style": "warning",
       "description": "21",
       "layout": "IPY_MODEL_5f4383735711415596954c7bc1a5bfd1",
       "style": "IPY_MODEL_b079e1a52f45417d9d3e5bca20cbd4e6"
      }
     },
     "9be4509edaab4d259afba7751abfbdb2": {
      "model_module": "@jupyter-widgets/controls",
      "model_module_version": "1.1.0",
      "model_name": "LabelModel",
      "state": {
       "layout": "IPY_MODEL_d6b500a58402407a9deaf84a2fd01f89",
       "style": "IPY_MODEL_53a87d61914042d4b468d397c33e1724",
       "value": "Scroll horizontally:"
      }
     },
     "9be60ad4ef5b4282a97125f138ad132b": {
      "model_module": "@jupyter-widgets/controls",
      "model_module_version": "1.1.0",
      "model_name": "LabelModel",
      "state": {
       "layout": "IPY_MODEL_386ba40f1dd847568beb6e7b7c81599b",
       "style": "IPY_MODEL_3614723fabfe46d9af33152b30efbcdd",
       "value": "Information"
      }
     },
     "9bfb860e35fd46ee9ba56cdb5bc6ff28": {
      "model_module": "@jupyter-widgets/base",
      "model_module_version": "1.0.0",
      "model_name": "LayoutModel",
      "state": {
       "flex": "1 1 0%",
       "width": "auto"
      }
     },
     "9c09b147ca0e4137ac7801be1d135943": {
      "model_module": "@jupyter-widgets/controls",
      "model_module_version": "1.1.0",
      "model_name": "ButtonModel",
      "state": {
       "button_style": "warning",
       "description": "15",
       "layout": "IPY_MODEL_4f96c205ba6c46e196e16241cfe4cf24",
       "style": "IPY_MODEL_a0ecd54ae3294089bf32e9ab5bb2696e"
      }
     },
     "9c0ad6c850674c7ea21d102be3a3b315": {
      "model_module": "@jupyter-widgets/base",
      "model_module_version": "1.0.0",
      "model_name": "LayoutModel",
      "state": {}
     },
     "9c1de7cf7eb044839ef573e960998cea": {
      "model_module": "@jupyter-widgets/controls",
      "model_module_version": "1.1.0",
      "model_name": "ButtonModel",
      "state": {
       "button_style": "warning",
       "description": "7",
       "layout": "IPY_MODEL_5f4383735711415596954c7bc1a5bfd1",
       "style": "IPY_MODEL_646f391d7d254803b0dc61a1edd8e568"
      }
     },
     "9c2c778c4f104e8db208d344686042ce": {
      "model_module": "@jupyter-widgets/base",
      "model_module_version": "1.0.0",
      "model_name": "LayoutModel",
      "state": {
       "flex": "2 1 0%",
       "width": "auto"
      }
     },
     "9c6b6bd3db0042fe8a961559fbc3ae25": {
      "model_module": "@jupyter-widgets/base",
      "model_module_version": "1.0.0",
      "model_name": "LayoutModel",
      "state": {
       "flex": "1 1 auto"
      }
     },
     "9c7aecbd9e0441548a333156289b8492": {
      "model_module": "@jupyter-widgets/controls",
      "model_module_version": "1.1.0",
      "model_name": "ButtonStyleModel",
      "state": {}
     },
     "9ce52ce9be2b46aeb22596e94ff9bdcc": {
      "model_module": "@jupyter-widgets/controls",
      "model_module_version": "1.1.0",
      "model_name": "ButtonStyleModel",
      "state": {}
     },
     "9cec86147f73446a81e86fe6e7ee1f15": {
      "model_module": "@jupyter-widgets/base",
      "model_module_version": "1.0.0",
      "model_name": "LayoutModel",
      "state": {
       "display": "flex",
       "flex_flow": "row",
       "justify_content": "space-between"
      }
     },
     "9cf7087096e74172b09dace15caad0c7": {
      "model_module": "@jupyter-widgets/base",
      "model_module_version": "1.0.0",
      "model_name": "LayoutModel",
      "state": {
       "flex": "1 1 auto",
       "width": "auto"
      }
     },
     "9cf827fcbf2e400c9ecc9f63094375ca": {
      "model_module": "@jupyter-widgets/controls",
      "model_module_version": "1.1.0",
      "model_name": "ButtonModel",
      "state": {
       "description": "weight=2, auto",
       "layout": "IPY_MODEL_e997a5c1a8024b049a33db6db964373d",
       "style": "IPY_MODEL_caa7fa264bdb4fd680ff0b7316f30b2d"
      }
     },
     "9d1b3d687b2b46a2aab505e6fd7db57c": {
      "model_module": "@jupyter-widgets/controls",
      "model_module_version": "1.1.0",
      "model_name": "SliderStyleModel",
      "state": {
       "description_width": ""
      }
     },
     "9d4784adbb3b4f3f89ba14683c9708e6": {
      "model_module": "@jupyter-widgets/controls",
      "model_module_version": "1.1.0",
      "model_name": "ButtonModel",
      "state": {
       "button_style": "warning",
       "description": "31",
       "layout": "IPY_MODEL_4f96c205ba6c46e196e16241cfe4cf24",
       "style": "IPY_MODEL_3fbf5852d3714a24b8d8abbcd940eee7"
      }
     },
     "9d5c20f158ce440bbfb469d817641fe1": {
      "model_module": "@jupyter-widgets/controls",
      "model_module_version": "1.1.0",
      "model_name": "ButtonStyleModel",
      "state": {}
     },
     "9d66000613a04a55b25ce6e5689b0910": {
      "model_module": "@jupyter-widgets/controls",
      "model_module_version": "1.1.0",
      "model_name": "ButtonModel",
      "state": {
       "button_style": "warning",
       "description": "14",
       "layout": "IPY_MODEL_86c93170059349499a5f76156cbd8cdf",
       "style": "IPY_MODEL_13af18f71e7349c7b08ccbf7e8f150ab"
      }
     },
     "9d6bcc0d0ca04cfbb2552936fd827403": {
      "model_module": "@jupyter-widgets/controls",
      "model_module_version": "1.1.0",
      "model_name": "TextareaModel",
      "state": {
       "layout": "IPY_MODEL_fa331d9f9e9e48319f08ddfbfd304480",
       "style": "IPY_MODEL_137ec8c6fcb34c1ca064cbc476707ef5"
      }
     },
     "9d7057a54df44e139c9fdff148b0b374": {
      "model_module": "@jupyter-widgets/controls",
      "model_module_version": "1.1.0",
      "model_name": "ButtonStyleModel",
      "state": {}
     },
     "9d9a3b6bdd494789bbd673d633cf04d2": {
      "model_module": "@jupyter-widgets/controls",
      "model_module_version": "1.1.0",
      "model_name": "BoxModel",
      "state": {
       "children": [
        "IPY_MODEL_5d3cd6de2c3d4d3fbfc90aeff77ba2d9",
        "IPY_MODEL_0909dd3c366f464d8d087092ae83fb00",
        "IPY_MODEL_3168e8996b9646438c3da41646163b95",
        "IPY_MODEL_ab7ee10a64404f26825beccd859fb613",
        "IPY_MODEL_c47b9d3adf4c4c929df2ec5fc136f4de",
        "IPY_MODEL_38e605f60ee24d778110f3ec8289d4c2",
        "IPY_MODEL_afb16dd3bf9549c3aa282ac1b55699f6",
        "IPY_MODEL_a10f5daa4b894504b5fbd07868504bd3",
        "IPY_MODEL_b6dcd13a9366433a8c4f1fd73ff819d9",
        "IPY_MODEL_4c2d648a95f94248ab2a0e3c1c1baabe",
        "IPY_MODEL_9a9fdd69eb3d48b28c0872ff15484389",
        "IPY_MODEL_03d2f10cca034a13962696fbf2ce6d4d",
        "IPY_MODEL_e77af21d3f76480694434674087d51bf",
        "IPY_MODEL_c6c38d09747f4d2ea8122be4ef834104",
        "IPY_MODEL_9d66000613a04a55b25ce6e5689b0910",
        "IPY_MODEL_844e689f4fb5418483d536942a3a0685",
        "IPY_MODEL_a018f9df0de64a7db88d4760666d2204",
        "IPY_MODEL_9e5ceea5744b4177b5f94f82e231973d",
        "IPY_MODEL_54050f0aaec84eea9ff4bf4a9c325b07",
        "IPY_MODEL_6d68e1a2ffc24b7b9e6d33d56d5d6191",
        "IPY_MODEL_40ffc9f6574749b1b8de840437770d2f",
        "IPY_MODEL_c3eb310789e74ccf913210b1558aee8d",
        "IPY_MODEL_f79ab8504cca44e297791fef4f73d832",
        "IPY_MODEL_e4b4f16bee534374ac503ddb8cefeb2d",
        "IPY_MODEL_a0a87486c6f94523bc1be42f6dbbac65",
        "IPY_MODEL_1a23f155631a4393b5cf51028b267023",
        "IPY_MODEL_87cffb66d7ed49cf82da8e38d6a414aa",
        "IPY_MODEL_29814439e9144be3aacdb2bfdd7a5349",
        "IPY_MODEL_af527d2aa5c24809b32eeb0e329f57ea",
        "IPY_MODEL_b9d0e01c61a6427997967f639a546da2",
        "IPY_MODEL_3d6d73b0803c47c99781f8f5bd870104",
        "IPY_MODEL_14af3452480f458297990e6dc0e4feca",
        "IPY_MODEL_b5a698b60cdf437392f96f8924d2f246",
        "IPY_MODEL_2dbc5b27b5a84121af55dee0f1d248f6",
        "IPY_MODEL_9fe52f750e274fe694f26699d53bb26e",
        "IPY_MODEL_dd37173b5c674f3782a246cab24c85b4",
        "IPY_MODEL_299c3dd0d01849af9a514fa35747f40a",
        "IPY_MODEL_d92aeefa1a0f4b198a849e0b6e2439d5",
        "IPY_MODEL_59f22ac0f15346b78af2970b049a4bcc",
        "IPY_MODEL_d60f94d4c3744344b3a2c95c55b386ae"
       ],
       "layout": "IPY_MODEL_6a28aab88ef94006b526ff66fce68f90"
      }
     },
     "9da1d6f74c9b44a2a0b262ee8e034c38": {
      "model_module": "@jupyter-widgets/controls",
      "model_module_version": "1.1.0",
      "model_name": "ButtonStyleModel",
      "state": {}
     },
     "9dd86ec6beac49029edd848222fb7f4e": {
      "model_module": "@jupyter-widgets/controls",
      "model_module_version": "1.1.0",
      "model_name": "ButtonModel",
      "state": {
       "description": "horse",
       "layout": "IPY_MODEL_7abf22946d784dc3b28ed7c21047c5b0",
       "style": "IPY_MODEL_743f19c1597a4bcfa831976b59487be5"
      }
     },
     "9dd98dcac8fc4d68bab541d80e8d8ccf": {
      "model_module": "@jupyter-widgets/controls",
      "model_module_version": "1.1.0",
      "model_name": "DescriptionStyleModel",
      "state": {
       "description_width": ""
      }
     },
     "9ddf859d43704d01a269a4f8eb8ea780": {
      "model_module": "@jupyter-widgets/base",
      "model_module_version": "1.0.0",
      "model_name": "LayoutModel",
      "state": {
       "height": "80px",
       "width": "50%"
      }
     },
     "9deaa720bda5461d8daa27b64ec4c706": {
      "model_module": "@jupyter-widgets/controls",
      "model_module_version": "1.1.0",
      "model_name": "DescriptionStyleModel",
      "state": {
       "description_width": ""
      }
     },
     "9deb670b0f514162940b1ef064989c2e": {
      "model_module": "@jupyter-widgets/base",
      "model_module_version": "1.0.0",
      "model_name": "LayoutModel",
      "state": {
       "flex": "1 1 auto",
       "width": "auto"
      }
     },
     "9df9735194e3490bbfd3ef280f61b85a": {
      "model_module": "@jupyter-widgets/base",
      "model_module_version": "1.0.0",
      "model_name": "LayoutModel",
      "state": {}
     },
     "9e36984680bc4888abb1ff6137740674": {
      "model_module": "@jupyter-widgets/controls",
      "model_module_version": "1.1.0",
      "model_name": "ButtonStyleModel",
      "state": {}
     },
     "9e36d40f4c864fc9adc5bde2528900a7": {
      "model_module": "@jupyter-widgets/controls",
      "model_module_version": "1.1.0",
      "model_name": "ButtonModel",
      "state": {
       "button_style": "warning",
       "description": "4",
       "layout": "IPY_MODEL_616560d2e26b4bee8b7c903f483241f8",
       "style": "IPY_MODEL_f3fb93e4c4b74bbe827f8a648f3c5ca1"
      }
     },
     "9e4ef65a9da74cfb8a16566791dce3b4": {
      "model_module": "@jupyter-widgets/controls",
      "model_module_version": "1.1.0",
      "model_name": "ButtonModel",
      "state": {
       "button_style": "warning",
       "description": "5",
       "layout": "IPY_MODEL_128139c1d2f94adbaaea71294ef22ff3",
       "style": "IPY_MODEL_493b1734af084ebf8d63f80925eb70cd"
      }
     },
     "9e53c7482c0341d58c82a393ef4b3068": {
      "model_module": "@jupyter-widgets/controls",
      "model_module_version": "1.1.0",
      "model_name": "VBoxModel",
      "state": {
       "children": [
        "IPY_MODEL_bb9ca61b9b4b431e8e65b87a84b2bc25",
        "IPY_MODEL_374fe091bfdf48e9aa9dd0864dd13e37"
       ],
       "layout": "IPY_MODEL_78a58046da2a47debef494a9ec636d54"
      }
     },
     "9e5ceea5744b4177b5f94f82e231973d": {
      "model_module": "@jupyter-widgets/controls",
      "model_module_version": "1.1.0",
      "model_name": "ButtonModel",
      "state": {
       "button_style": "warning",
       "description": "17",
       "layout": "IPY_MODEL_86c93170059349499a5f76156cbd8cdf",
       "style": "IPY_MODEL_f3a676438b984f99bc6d451c5e37393f"
      }
     },
     "9e7c05c66ec8401183a228c70f200655": {
      "model_module": "@jupyter-widgets/controls",
      "model_module_version": "1.1.0",
      "model_name": "ButtonModel",
      "state": {
       "button_style": "warning",
       "description": "24",
       "layout": "IPY_MODEL_0606cbc317604fbdbaea9d3fd0b2d14a",
       "style": "IPY_MODEL_b003ed6c697d4581b97eadbda9e4c2a6"
      }
     },
     "9e9082b0e2ee4877a01966d3b15a5365": {
      "model_module": "@jupyter-widgets/controls",
      "model_module_version": "1.1.0",
      "model_name": "ButtonModel",
      "state": {
       "button_style": "warning",
       "description": "30",
       "layout": "IPY_MODEL_5a006e2933db480cbe6187ccadf63fd7",
       "style": "IPY_MODEL_9fd46fa19b2c45de9b97427ab65fd6e8"
      }
     },
     "9ebc8a4c7cd8477c9ace87ef5acfdf33": {
      "model_module": "@jupyter-widgets/controls",
      "model_module_version": "1.1.0",
      "model_name": "BoxModel",
      "state": {
       "children": [
        "IPY_MODEL_8fc7d6fa8cc04d0d85067eef19c8ca72",
        "IPY_MODEL_07b678053dd34ba1849a0decb01b56c0",
        "IPY_MODEL_bd686e14d97b4e80bda8fbfa545f7718",
        "IPY_MODEL_30471762a2d74bc585f955e3bdbc82bd",
        "IPY_MODEL_2baffe042a454fc08252a073b31b11f8",
        "IPY_MODEL_5fb35076a3b34c2ebe484c9d471e78c2",
        "IPY_MODEL_d67be31cbaf34c52b0229965e4d3591b",
        "IPY_MODEL_9ee07ffcdaac4f8c9d8b3710be79ec7c",
        "IPY_MODEL_a96f9f7205f443cfa47bfa094d47c666",
        "IPY_MODEL_5ceeaf24881e468c99f460ecfa2f016d",
        "IPY_MODEL_321649d6441947b9bbe5bca1797e936c",
        "IPY_MODEL_d3ed464c929e437aa93edacef6fc4d23",
        "IPY_MODEL_90d684bbde164994aad0bb210d66dd5e",
        "IPY_MODEL_8afc7d80d2af4371983e9cea617dce6c",
        "IPY_MODEL_1b396afb36da4e948f08e529e2f3bde9",
        "IPY_MODEL_700a91435fa04668b15417f9108665eb",
        "IPY_MODEL_1be6e65707b04614b03f7e6b78dcf8e8",
        "IPY_MODEL_e8c889725b364915832885c6f5c1927f",
        "IPY_MODEL_13ef74e061a84e939c9f80b1f08140bb",
        "IPY_MODEL_72cf652922f949c09257e6376b0c1b16",
        "IPY_MODEL_1b709dbd7a8f49458a95d3ac26db914b",
        "IPY_MODEL_f346280cb88c4f1e8bac29f041354cf0",
        "IPY_MODEL_904f3c2ee82b49788ef016b02a6b2ea5",
        "IPY_MODEL_7f3b52676da9408a9b12d5d7d4c841f4",
        "IPY_MODEL_54a66b8d3f64456085aa3e88f1d3f651",
        "IPY_MODEL_f6618cd0ebb24ec08d1af2afa1a0bb2c",
        "IPY_MODEL_832a7d604863454d9504a5dd93f42128",
        "IPY_MODEL_ffd58091e6ce4038ac7f1ad53beb32a5",
        "IPY_MODEL_4a136b995bdd4a42aebd5d5af1edb446",
        "IPY_MODEL_a27595ae13cc496184935b1d1d31ed2e",
        "IPY_MODEL_9e9082b0e2ee4877a01966d3b15a5365",
        "IPY_MODEL_e9207ade9a2c4876bb3d50991d0d9662",
        "IPY_MODEL_5d8b63da9e00498095a3a7e8364a1dc9",
        "IPY_MODEL_834462c5d92f4e439e13dafcdbfa9c06",
        "IPY_MODEL_92f0bbb222f24ab0a94d9ee7e894bd56",
        "IPY_MODEL_1def7d5db4af43f79aa433808616d3c6",
        "IPY_MODEL_190b63b2ed0c43b6b88218f477c99e75",
        "IPY_MODEL_d45e4b1f87524089ae2742ebcade1f5a",
        "IPY_MODEL_24d9da0fe56d474c82a4a659a00b5668",
        "IPY_MODEL_fa430ad61c924be7b183313c3872bba4"
       ],
       "layout": "IPY_MODEL_5d60daef5e8247779b50254f46b60d42"
      }
     },
     "9ee07ffcdaac4f8c9d8b3710be79ec7c": {
      "model_module": "@jupyter-widgets/controls",
      "model_module_version": "1.1.0",
      "model_name": "ButtonModel",
      "state": {
       "button_style": "warning",
       "description": "7",
       "layout": "IPY_MODEL_5a006e2933db480cbe6187ccadf63fd7",
       "style": "IPY_MODEL_12c01430ed7145fdbd40f8004e3237d0"
      }
     },
     "9ee98a1fab9d4598912c9cf5d600048e": {
      "model_module": "@jupyter-widgets/controls",
      "model_module_version": "1.1.0",
      "model_name": "ButtonModel",
      "state": {
       "description": "weight=1",
       "layout": "IPY_MODEL_b4c3788c04f747adaa30f5492e6fcf68",
       "style": "IPY_MODEL_9fa9837230be4c2d94b65d2ff77fec03"
      }
     },
     "9f0af05564a340cd9bece8b7d8c8f256": {
      "model_module": "@jupyter-widgets/controls",
      "model_module_version": "1.1.0",
      "model_name": "ButtonStyleModel",
      "state": {}
     },
     "9f0bed33040e42b18735895df53a1a78": {
      "model_module": "@jupyter-widgets/controls",
      "model_module_version": "1.1.0",
      "model_name": "ButtonStyleModel",
      "state": {}
     },
     "9f5a077f26c94944b59bdc93d8c74e52": {
      "model_module": "@jupyter-widgets/controls",
      "model_module_version": "1.1.0",
      "model_name": "ButtonModel",
      "state": {
       "description": "weight=1",
       "layout": "IPY_MODEL_4ba6326177a1413480dcf5610295c554",
       "style": "IPY_MODEL_5eaf3b0b678a4193b18af98798fb7c9e"
      }
     },
     "9f6242098440454ea6042ef3cfbfb7a8": {
      "model_module": "@jupyter-widgets/controls",
      "model_module_version": "1.1.0",
      "model_name": "ButtonStyleModel",
      "state": {}
     },
     "9f65fc8428f641058be7b1169ca58a03": {
      "model_module": "@jupyter-widgets/controls",
      "model_module_version": "1.1.0",
      "model_name": "ButtonStyleModel",
      "state": {}
     },
     "9f66d9a525e84eaba1477d579675f13d": {
      "model_module": "@jupyter-widgets/controls",
      "model_module_version": "1.1.0",
      "model_name": "ButtonStyleModel",
      "state": {}
     },
     "9f72077ff2f84cc88cd33699eb3bffe9": {
      "model_module": "@jupyter-widgets/controls",
      "model_module_version": "1.1.0",
      "model_name": "BoxModel",
      "state": {
       "children": [
        "IPY_MODEL_63f84678f97c4c44be797e3e11e532a8",
        "IPY_MODEL_14ccd8df24df4a2bb84f7aae51fba274",
        "IPY_MODEL_4ae11bf0773e403da487fc7e68126c95",
        "IPY_MODEL_bf3ec2492b7143898863d73bbe38c47f"
       ],
       "layout": "IPY_MODEL_a4ee03155da74ce7baa254b40e9dd522"
      }
     },
     "9fa9837230be4c2d94b65d2ff77fec03": {
      "model_module": "@jupyter-widgets/controls",
      "model_module_version": "1.1.0",
      "model_name": "ButtonStyleModel",
      "state": {}
     },
     "9fcffa8309174444bc4cc10331f20013": {
      "model_module": "@jupyter-widgets/controls",
      "model_module_version": "1.1.0",
      "model_name": "ButtonStyleModel",
      "state": {}
     },
     "9fd46fa19b2c45de9b97427ab65fd6e8": {
      "model_module": "@jupyter-widgets/controls",
      "model_module_version": "1.1.0",
      "model_name": "ButtonStyleModel",
      "state": {}
     },
     "9fdb64eee49b408dbfcffaecdf285ad0": {
      "model_module": "@jupyter-widgets/controls",
      "model_module_version": "1.1.0",
      "model_name": "ButtonStyleModel",
      "state": {}
     },
     "9fe52f750e274fe694f26699d53bb26e": {
      "model_module": "@jupyter-widgets/controls",
      "model_module_version": "1.1.0",
      "model_name": "ButtonModel",
      "state": {
       "button_style": "warning",
       "description": "34",
       "layout": "IPY_MODEL_86c93170059349499a5f76156cbd8cdf",
       "style": "IPY_MODEL_19334b76b10a45e6b06c3de0f9649173"
      }
     },
     "a000e5e600314b9ba2c56a9f25f40caf": {
      "model_module": "@jupyter-widgets/controls",
      "model_module_version": "1.1.0",
      "model_name": "ButtonStyleModel",
      "state": {}
     },
     "a009e755898944029ecf18a8ac1da63d": {
      "model_module": "@jupyter-widgets/controls",
      "model_module_version": "1.1.0",
      "model_name": "ButtonStyleModel",
      "state": {}
     },
     "a018f9df0de64a7db88d4760666d2204": {
      "model_module": "@jupyter-widgets/controls",
      "model_module_version": "1.1.0",
      "model_name": "ButtonModel",
      "state": {
       "button_style": "warning",
       "description": "16",
       "layout": "IPY_MODEL_86c93170059349499a5f76156cbd8cdf",
       "style": "IPY_MODEL_488ee290cffb481d89e6530e1258dced"
      }
     },
     "a0194b1bb95f4a7c8e818fbb6768a120": {
      "model_module": "@jupyter-widgets/controls",
      "model_module_version": "1.1.0",
      "model_name": "ButtonModel",
      "state": {
       "description": "weight=1, auto",
       "layout": "IPY_MODEL_248f9963a33d487e82d64bd5a359e177",
       "style": "IPY_MODEL_88c1303432cb45aaafbd4b4a2c31a7b6"
      }
     },
     "a04e12c92ee44267b91f175f6d62ef27": {
      "model_module": "@jupyter-widgets/controls",
      "model_module_version": "1.1.0",
      "model_name": "BoxModel",
      "state": {
       "children": [
        "IPY_MODEL_ae2dc1c9a4f84a099674595b65918dfd",
        "IPY_MODEL_c13c701f1f5f477c8d08a5efd7485667",
        "IPY_MODEL_cbcce825d0a749deb3ea13b02998fc0d"
       ],
       "layout": "IPY_MODEL_685b2a9219fb45099353e6f6bb8b4acf"
      }
     },
     "a0a87486c6f94523bc1be42f6dbbac65": {
      "model_module": "@jupyter-widgets/controls",
      "model_module_version": "1.1.0",
      "model_name": "ButtonModel",
      "state": {
       "button_style": "warning",
       "description": "24",
       "layout": "IPY_MODEL_86c93170059349499a5f76156cbd8cdf",
       "style": "IPY_MODEL_2adeb1226af14019b73c4de8a28a23cf"
      }
     },
     "a0bc358fbd2e44b4a755650c8974a853": {
      "model_module": "@jupyter-widgets/controls",
      "model_module_version": "1.1.0",
      "model_name": "ButtonModel",
      "state": {
       "button_style": "warning",
       "description": "13",
       "layout": "IPY_MODEL_1d10072127cb4a32968374fdb7bd2479",
       "style": "IPY_MODEL_ec62bca979ac41b98e92acbce35fc79c"
      }
     },
     "a0ca0c36e11c4ed2a8f822ac774437cf": {
      "model_module": "@jupyter-widgets/controls",
      "model_module_version": "1.1.0",
      "model_name": "DescriptionStyleModel",
      "state": {
       "description_width": ""
      }
     },
     "a0d74d1d872248738578f196d1f51958": {
      "model_module": "@jupyter-widgets/base",
      "model_module_version": "1.0.0",
      "model_name": "LayoutModel",
      "state": {}
     },
     "a0e0e383ae7045be9ae71dc2066a64b1": {
      "model_module": "@jupyter-widgets/base",
      "model_module_version": "1.0.0",
      "model_name": "LayoutModel",
      "state": {
       "flex": "1 1 0%",
       "width": "auto"
      }
     },
     "a0ecd54ae3294089bf32e9ab5bb2696e": {
      "model_module": "@jupyter-widgets/controls",
      "model_module_version": "1.1.0",
      "model_name": "ButtonStyleModel",
      "state": {}
     },
     "a0f95764e5cd4c01b290044672fda307": {
      "model_module": "@jupyter-widgets/controls",
      "model_module_version": "1.1.0",
      "model_name": "ButtonModel",
      "state": {
       "button_style": "warning",
       "description": "13",
       "layout": "IPY_MODEL_616560d2e26b4bee8b7c903f483241f8",
       "style": "IPY_MODEL_104564eb97854ca9ad14302351bdcff2"
      }
     },
     "a10f5daa4b894504b5fbd07868504bd3": {
      "model_module": "@jupyter-widgets/controls",
      "model_module_version": "1.1.0",
      "model_name": "ButtonModel",
      "state": {
       "button_style": "warning",
       "description": "7",
       "layout": "IPY_MODEL_86c93170059349499a5f76156cbd8cdf",
       "style": "IPY_MODEL_084767ec12244bb382ac5c5d82498d2e"
      }
     },
     "a1361958633f479ba465f671b5667177": {
      "model_module": "@jupyter-widgets/controls",
      "model_module_version": "1.1.0",
      "model_name": "ButtonModel",
      "state": {
       "description": "weight=1",
       "layout": "IPY_MODEL_c51da729f1e74d5ba585854ce2000571",
       "style": "IPY_MODEL_23be2ce0410240c1a0bf267cb5140c98"
      }
     },
     "a14ce01536884b5fa981330858311efa": {
      "model_module": "@jupyter-widgets/controls",
      "model_module_version": "1.1.0",
      "model_name": "LabelModel",
      "state": {
       "layout": "IPY_MODEL_f14cb61f9f674993879d846812dfadb1",
       "style": "IPY_MODEL_66872eb1e9eb489a823056e08f8dccea",
       "value": "A too long description"
      }
     },
     "a1556072d74a44afbdbabc1a193afae5": {
      "model_module": "@jupyter-widgets/controls",
      "model_module_version": "1.1.0",
      "model_name": "ButtonStyleModel",
      "state": {}
     },
     "a15e0c9045454b1885a70542d54a942d": {
      "model_module": "@jupyter-widgets/controls",
      "model_module_version": "1.1.0",
      "model_name": "ButtonStyleModel",
      "state": {}
     },
     "a180d70bd5614452bd2aea17f29214ba": {
      "model_module": "@jupyter-widgets/controls",
      "model_module_version": "1.1.0",
      "model_name": "ButtonStyleModel",
      "state": {}
     },
     "a19e7f5d62fd4f638a483e1a15310399": {
      "model_module": "@jupyter-widgets/controls",
      "model_module_version": "1.1.0",
      "model_name": "ButtonModel",
      "state": {
       "description": "weight=2",
       "layout": "IPY_MODEL_4a16075f176342a291372d4c317da9d3",
       "style": "IPY_MODEL_4cc2c5d68369416fa1e0c69092aef7f0"
      }
     },
     "a1c65eeb03fd4baea1f16897d365df27": {
      "model_module": "@jupyter-widgets/controls",
      "model_module_version": "1.1.0",
      "model_name": "ButtonModel",
      "state": {
       "description": "staple",
       "layout": "IPY_MODEL_9c0ad6c850674c7ea21d102be3a3b315",
       "style": "IPY_MODEL_8de44f9262fb4aefb4721273a72d7880"
      }
     },
     "a1f5b167deeb4c52b4c2a2ba9a820ae4": {
      "model_module": "@jupyter-widgets/controls",
      "model_module_version": "1.1.0",
      "model_name": "ButtonStyleModel",
      "state": {}
     },
     "a205d295a5364d34893404a91b1527d5": {
      "model_module": "@jupyter-widgets/controls",
      "model_module_version": "1.1.0",
      "model_name": "ButtonStyleModel",
      "state": {}
     },
     "a215139af73d41fe8f450d3ec2bcd2c9": {
      "model_module": "@jupyter-widgets/controls",
      "model_module_version": "1.1.0",
      "model_name": "ButtonModel",
      "state": {
       "button_style": "warning",
       "description": "10",
       "layout": "IPY_MODEL_2609a17cced145ad91b86d4ddfbd3bfd",
       "style": "IPY_MODEL_a9c1570e4e2441ee83846dd93d9ebf8f"
      }
     },
     "a23aad3b93544613951f968d860c8ce1": {
      "model_module": "@jupyter-widgets/base",
      "model_module_version": "1.0.0",
      "model_name": "LayoutModel",
      "state": {}
     },
     "a2609f65205946a6b28c1fcc995348b3": {
      "model_module": "@jupyter-widgets/controls",
      "model_module_version": "1.1.0",
      "model_name": "ButtonModel",
      "state": {
       "button_style": "warning",
       "description": "13",
       "layout": "IPY_MODEL_128139c1d2f94adbaaea71294ef22ff3",
       "style": "IPY_MODEL_ca426b08b52b4f36a79df7d38082d30c"
      }
     },
     "a2630650d79d4bf0b529ac465d81a085": {
      "model_module": "@jupyter-widgets/controls",
      "model_module_version": "1.1.0",
      "model_name": "ButtonStyleModel",
      "state": {}
     },
     "a27595ae13cc496184935b1d1d31ed2e": {
      "model_module": "@jupyter-widgets/controls",
      "model_module_version": "1.1.0",
      "model_name": "ButtonModel",
      "state": {
       "button_style": "warning",
       "description": "29",
       "layout": "IPY_MODEL_5a006e2933db480cbe6187ccadf63fd7",
       "style": "IPY_MODEL_ba757ad073af44e7979f4f472c41514d"
      }
     },
     "a27a02b97bf5423199e04a8733a2767b": {
      "model_module": "@jupyter-widgets/controls",
      "model_module_version": "1.1.0",
      "model_name": "ButtonStyleModel",
      "state": {}
     },
     "a2867abb1c5043c8a9c90b8f85aed5fc": {
      "model_module": "@jupyter-widgets/controls",
      "model_module_version": "1.1.0",
      "model_name": "SliderStyleModel",
      "state": {
       "description_width": ""
      }
     },
     "a29e4cd39cd8452abfb97cd38ac6a762": {
      "model_module": "@jupyter-widgets/base",
      "model_module_version": "1.0.0",
      "model_name": "LayoutModel",
      "state": {}
     },
     "a2d1c138380043c29819361b0ca9ad19": {
      "model_module": "@jupyter-widgets/controls",
      "model_module_version": "1.1.0",
      "model_name": "ButtonStyleModel",
      "state": {}
     },
     "a30842d7d3244162ad2d33cba45324a5": {
      "model_module": "@jupyter-widgets/controls",
      "model_module_version": "1.1.0",
      "model_name": "ButtonModel",
      "state": {
       "button_style": "warning",
       "description": "38",
       "layout": "IPY_MODEL_4f96c205ba6c46e196e16241cfe4cf24",
       "style": "IPY_MODEL_7c3d631e90c44497905b1deada6dc33e"
      }
     },
     "a325700dd22347b6ae9ba3b57074b70b": {
      "model_module": "@jupyter-widgets/controls",
      "model_module_version": "1.1.0",
      "model_name": "ButtonModel",
      "state": {
       "button_style": "warning",
       "description": "27",
       "layout": "IPY_MODEL_5f4383735711415596954c7bc1a5bfd1",
       "style": "IPY_MODEL_451e67d3e65442a48afc48ed496779d7"
      }
     },
     "a34ea4d9649a4dc0a1ecefa68331fbdd": {
      "model_module": "@jupyter-widgets/controls",
      "model_module_version": "1.1.0",
      "model_name": "SliderStyleModel",
      "state": {
       "description_width": ""
      }
     },
     "a35ac72eb7f54f25b84fc88c29c7136e": {
      "model_module": "@jupyter-widgets/controls",
      "model_module_version": "1.1.0",
      "model_name": "ButtonModel",
      "state": {
       "button_style": "warning",
       "description": "8",
       "layout": "IPY_MODEL_f97c294201b54222ba61666297c61c75",
       "style": "IPY_MODEL_af57f351353e4c339923c5a2474c510c"
      }
     },
     "a37031a8c321479f802b4eccfe3dac6e": {
      "model_module": "@jupyter-widgets/controls",
      "model_module_version": "1.1.0",
      "model_name": "ButtonModel",
      "state": {
       "description": "Another button with the same layout",
       "layout": "IPY_MODEL_78f597e050054a95b6c204a4d5c5ba12",
       "style": "IPY_MODEL_622d979c08c649a18250cae3c3a0495a"
      }
     },
     "a3be80fa8a7a44c9ac7769de156f5eeb": {
      "model_module": "@jupyter-widgets/controls",
      "model_module_version": "1.1.0",
      "model_name": "ButtonStyleModel",
      "state": {}
     },
     "a3bf8354ac11430faf6ef8175b93bf50": {
      "model_module": "@jupyter-widgets/controls",
      "model_module_version": "1.1.0",
      "model_name": "ButtonStyleModel",
      "state": {}
     },
     "a40eb1029bae4366a8dd8aa3b204f3cd": {
      "model_module": "@jupyter-widgets/base",
      "model_module_version": "1.0.0",
      "model_name": "LayoutModel",
      "state": {}
     },
     "a424d34895ef4911a311dccbc51b0fcc": {
      "model_module": "@jupyter-widgets/controls",
      "model_module_version": "1.1.0",
      "model_name": "DescriptionStyleModel",
      "state": {
       "description_width": ""
      }
     },
     "a45014769e53461ab3dc3e0fac70592b": {
      "model_module": "@jupyter-widgets/controls",
      "model_module_version": "1.1.0",
      "model_name": "DescriptionStyleModel",
      "state": {
       "description_width": ""
      }
     },
     "a47d854d019343f6b9e83cc0ff305408": {
      "model_module": "@jupyter-widgets/base",
      "model_module_version": "1.0.0",
      "model_name": "LayoutModel",
      "state": {
       "flex": "1 1 0%",
       "width": "auto"
      }
     },
     "a497ea835905455b8cfd5f2bf1fbaaf3": {
      "model_module": "@jupyter-widgets/base",
      "model_module_version": "1.0.0",
      "model_name": "LayoutModel",
      "state": {
       "flex": "1 1 0%",
       "width": "auto"
      }
     },
     "a4b346bf1ef042c5897c9a5775878262": {
      "model_module": "@jupyter-widgets/base",
      "model_module_version": "1.0.0",
      "model_name": "LayoutModel",
      "state": {
       "flex": "1 1 0%",
       "width": "auto"
      }
     },
     "a4db6629c76d462399e88da7cd003327": {
      "model_module": "@jupyter-widgets/controls",
      "model_module_version": "1.1.0",
      "model_name": "ButtonStyleModel",
      "state": {}
     },
     "a4ee03155da74ce7baa254b40e9dd522": {
      "model_module": "@jupyter-widgets/base",
      "model_module_version": "1.0.0",
      "model_name": "LayoutModel",
      "state": {
       "align_items": "stretch",
       "border": "solid",
       "display": "flex",
       "flex_flow": "column",
       "width": "50%"
      }
     },
     "a4f2b49eaeea4bc19e10eaa5374e2703": {
      "model_module": "@jupyter-widgets/controls",
      "model_module_version": "1.1.0",
      "model_name": "LabelModel",
      "state": {
       "layout": "IPY_MODEL_c820fe8c62c048268437e0c619a9e79d",
       "style": "IPY_MODEL_6728488a753341f1a2d439ee17ff14b4",
       "value": "Scroll horizontally:"
      }
     },
     "a509fd8e72dc4299a5f35b9227fae4d6": {
      "model_module": "@jupyter-widgets/controls",
      "model_module_version": "1.1.0",
      "model_name": "ButtonModel",
      "state": {
       "button_style": "warning",
       "description": "4",
       "layout": "IPY_MODEL_0606cbc317604fbdbaea9d3fd0b2d14a",
       "style": "IPY_MODEL_9b60db3e46fa4cad90eef5071c7224b7"
      }
     },
     "a511bb6c71cc457091b6b48c80fa8a5b": {
      "model_module": "@jupyter-widgets/controls",
      "model_module_version": "1.1.0",
      "model_name": "VBoxModel",
      "state": {
       "children": [
        "IPY_MODEL_743fca25942545138c3cfd236a9c1345",
        "IPY_MODEL_a04e12c92ee44267b91f175f6d62ef27"
       ],
       "layout": "IPY_MODEL_34c1d63f4c244f5c870bee3fe6bb8bbb"
      }
     },
     "a51f4ed7cccf450da67e3671e40d6097": {
      "model_module": "@jupyter-widgets/controls",
      "model_module_version": "1.1.0",
      "model_name": "ButtonModel",
      "state": {
       "button_style": "danger",
       "description": "weight=2, auto",
       "layout": "IPY_MODEL_c925c91ba7a5423193e5a181c48bb9a2",
       "style": "IPY_MODEL_d7bdac3e37314d799cf2f1ff10aeaaf3"
      }
     },
     "a533a1c43bb14b5a9625d9f85f9d86bc": {
      "model_module": "@jupyter-widgets/controls",
      "model_module_version": "1.1.0",
      "model_name": "ButtonModel",
      "state": {
       "button_style": "warning",
       "description": "10",
       "layout": "IPY_MODEL_128139c1d2f94adbaaea71294ef22ff3",
       "style": "IPY_MODEL_fba4890b9ade407bb2345f40e1f2b316"
      }
     },
     "a56585e49c774eaf8a92d62f28f949e8": {
      "model_module": "@jupyter-widgets/controls",
      "model_module_version": "1.1.0",
      "model_name": "ButtonStyleModel",
      "state": {}
     },
     "a56887cef4d14bf08f53ddb400ab92bf": {
      "model_module": "@jupyter-widgets/controls",
      "model_module_version": "1.1.0",
      "model_name": "ButtonStyleModel",
      "state": {}
     },
     "a572df8babfc449b9f959f75f2262269": {
      "model_module": "@jupyter-widgets/controls",
      "model_module_version": "1.1.0",
      "model_name": "ButtonStyleModel",
      "state": {}
     },
     "a57541db69704071be6edad0feb7b0f5": {
      "model_module": "@jupyter-widgets/controls",
      "model_module_version": "1.1.0",
      "model_name": "BoxModel",
      "state": {
       "children": [
        "IPY_MODEL_77a1643be57b4ed69c03fd3a4e2fc26e",
        "IPY_MODEL_7446d3a77a5a41608ee4c14ae265505d",
        "IPY_MODEL_715d1d573b104dc99986edb8b1a0c77d"
       ],
       "layout": "IPY_MODEL_cc1ceb9317804309bf47e3d73c0d4691"
      }
     },
     "a57724641c7c4a2aaf8ade8d24ad67d9": {
      "model_module": "@jupyter-widgets/controls",
      "model_module_version": "1.1.0",
      "model_name": "ButtonStyleModel",
      "state": {}
     },
     "a5c9fdec95ef4ff49360af59f89a0022": {
      "model_module": "@jupyter-widgets/controls",
      "model_module_version": "1.1.0",
      "model_name": "ButtonModel",
      "state": {
       "button_style": "warning",
       "description": "21",
       "layout": "IPY_MODEL_f97c294201b54222ba61666297c61c75",
       "style": "IPY_MODEL_3dd0e498bc4346e2af261325ab99b935"
      }
     },
     "a5deb0050cd143c8b3201a32782772b7": {
      "model_module": "@jupyter-widgets/controls",
      "model_module_version": "1.1.0",
      "model_name": "ButtonModel",
      "state": {
       "button_style": "warning",
       "description": "30",
       "layout": "IPY_MODEL_0606cbc317604fbdbaea9d3fd0b2d14a",
       "style": "IPY_MODEL_6aab9b4acbf9416abc8d9e58ad63260b"
      }
     },
     "a5e5b52458924b0bb6ca9762c52409b6": {
      "model_module": "@jupyter-widgets/controls",
      "model_module_version": "1.1.0",
      "model_name": "ButtonStyleModel",
      "state": {}
     },
     "a5fa988c23ec439ba1bbfb661fcaed62": {
      "model_module": "@jupyter-widgets/controls",
      "model_module_version": "1.1.0",
      "model_name": "BoxModel",
      "state": {
       "children": [
        "IPY_MODEL_4fbca35e73b54e078c9d2b95ddd79e9b",
        "IPY_MODEL_fa04addc3e10470fb11e18e76da2c2d6",
        "IPY_MODEL_cbc87c34e52d4979b11ef8fd73533977",
        "IPY_MODEL_8f880675c8a24f9881c29767763ca20d",
        "IPY_MODEL_24f2c616a5e24fa7984d6db3baf80cdc",
        "IPY_MODEL_f976b7507eb84178b84b5866f49bf555",
        "IPY_MODEL_9123387a4bed4ac09cb9aaacf95227c4",
        "IPY_MODEL_9c1de7cf7eb044839ef573e960998cea",
        "IPY_MODEL_0e1adf580a874d9894992e8e1be48e8e",
        "IPY_MODEL_4373f28db626471cbd97750f724aed7a",
        "IPY_MODEL_91a78d153452426ca4153585e50b9e8b",
        "IPY_MODEL_13ef262b89c0421ebc3f137dca5b03cf",
        "IPY_MODEL_c3471f2d056746f099c04a0d0c7b1fa1",
        "IPY_MODEL_b4d5db8badf54916bdd45fddb96ee1fb",
        "IPY_MODEL_b69df4f93d994be3bddb81256ca0ce3d",
        "IPY_MODEL_6f69160aae2e490ca3e5545e5a58bdca",
        "IPY_MODEL_7b9fddb349d04520b37b4e5873923c18",
        "IPY_MODEL_39142546ed9247639510aac93378a7de",
        "IPY_MODEL_aaa0b8ee31c64cd1a7ebeb07a0c2a7eb",
        "IPY_MODEL_980a69bd72064f5b832fb71c91118ff1",
        "IPY_MODEL_f6f230253d784f468cd88c6b2a8a3ba3",
        "IPY_MODEL_9bbef602001c466bbbdad6ab5e7c288d",
        "IPY_MODEL_e407189370b64ce186bf6798a55474cc",
        "IPY_MODEL_f272223ce9534400bfa2254b389b3152",
        "IPY_MODEL_0058ae7623a04f11803bed34b4e001d1",
        "IPY_MODEL_67068b581bb14e7c81f9578fd6ac3fdb",
        "IPY_MODEL_5fe01fc18f784ab08f202aea52371057",
        "IPY_MODEL_a325700dd22347b6ae9ba3b57074b70b",
        "IPY_MODEL_4a8392c1d6b14c1999414b142df23986",
        "IPY_MODEL_9912e21955ee475db99f2e079dcc2309",
        "IPY_MODEL_f69ce886446b4f4497f23b082ebce1cc",
        "IPY_MODEL_d7969816002347d4a9892b3660c2a48c",
        "IPY_MODEL_1d7c241276d34448afdcdfc54035f9b3",
        "IPY_MODEL_6a8dcf09e6c94dbfb18914b349dcbca6",
        "IPY_MODEL_7b77b7d15cfc4ccf8085981b8cdd3961",
        "IPY_MODEL_7e688bbac3b64294822648376a3a9363",
        "IPY_MODEL_39552ac7440f483db46f5a6befbeb1ab",
        "IPY_MODEL_20df72f6b6da4c789057cfc4911a3909",
        "IPY_MODEL_d69ad8d7605e45caa6788ee65ea942a5",
        "IPY_MODEL_bb5eed465b0341449e4db8e9d2178738"
       ],
       "layout": "IPY_MODEL_7fac2ec25a5d4d4f9b7455ca9d8ae12b"
      }
     },
     "a625620d41884327be2dcbd42c379134": {
      "model_module": "@jupyter-widgets/controls",
      "model_module_version": "1.1.0",
      "model_name": "BoxModel",
      "state": {
       "children": [
        "IPY_MODEL_5349334a1981439fafd1475c83be27e0",
        "IPY_MODEL_153afc4ac28b40ffb5e9467ac3596bfd",
        "IPY_MODEL_b869727d8bf7400f976de1ceb0ce1c02",
        "IPY_MODEL_1787e6acb4bc4a8087a5002b83fb03a2"
       ],
       "layout": "IPY_MODEL_4c9a9883bd9f4186ad0c1232ef818c4d"
      }
     },
     "a6517e6704ae469f9d4f0f80d5a8f0c1": {
      "model_module": "@jupyter-widgets/controls",
      "model_module_version": "1.1.0",
      "model_name": "ButtonStyleModel",
      "state": {}
     },
     "a65a0069184c48b0b120af14e801ed38": {
      "model_module": "@jupyter-widgets/controls",
      "model_module_version": "1.1.0",
      "model_name": "ButtonStyleModel",
      "state": {}
     },
     "a6faf490062244fbb577ba1fba58bfef": {
      "model_module": "@jupyter-widgets/controls",
      "model_module_version": "1.1.0",
      "model_name": "IntSliderModel",
      "state": {
       "description": "A too long description",
       "layout": "IPY_MODEL_da3eac9248c94e98a816fc458bff117b",
       "style": "IPY_MODEL_21fe4ddb707b4d89a5c0cb187b7db377"
      }
     },
     "a725a811ee5f4269a5791925a7cb186c": {
      "model_module": "@jupyter-widgets/controls",
      "model_module_version": "1.1.0",
      "model_name": "ButtonModel",
      "state": {
       "button_style": "warning",
       "description": "4",
       "layout": "IPY_MODEL_2609a17cced145ad91b86d4ddfbd3bfd",
       "style": "IPY_MODEL_b31dc5b4350d412cb2779a2e97c76018"
      }
     },
     "a7261ca6a21a47f28db09cf820d7c77d": {
      "model_module": "@jupyter-widgets/base",
      "model_module_version": "1.0.0",
      "model_name": "LayoutModel",
      "state": {
       "flex": "1 1 0%",
       "width": "auto"
      }
     },
     "a730e19df990404f996b1750094c4eed": {
      "model_module": "@jupyter-widgets/controls",
      "model_module_version": "1.1.0",
      "model_name": "BoxModel",
      "state": {
       "children": [
        "IPY_MODEL_1713156d820a4ee18662e81c09d8d194",
        "IPY_MODEL_b55662817e1a483d832a44f83e17d16b",
        "IPY_MODEL_af19cd3f5db34e09aef4622f8329de19",
        "IPY_MODEL_0afbc8cf95e54941ac1d6ad9df48b7eb",
        "IPY_MODEL_ef80931153714672b19e688345c29c31",
        "IPY_MODEL_241af4eaa4164ceaad4b70b8f433ad79",
        "IPY_MODEL_b33d56f88c6d475fa3ad517bab7979f4",
        "IPY_MODEL_f5d63e4567e0429aab60e8489345d908",
        "IPY_MODEL_ba004fb6b8364051aade7887b32e62e8",
        "IPY_MODEL_17fb90f48b334950ae699f87350ce1d3",
        "IPY_MODEL_4e396823358b4f54abfe85968b1bc2cb",
        "IPY_MODEL_7000be9781114315bb9b2e8481e78393",
        "IPY_MODEL_64e7f9256b684599b747d23806ed9595",
        "IPY_MODEL_ab977d381d674457b59654833d8b022c",
        "IPY_MODEL_867f5e73fbae4bc6b31a447204f29840",
        "IPY_MODEL_9c09b147ca0e4137ac7801be1d135943",
        "IPY_MODEL_8f38ca623fc342e09bf17079f618ba10",
        "IPY_MODEL_d6af67eeb1d24637a21c9e19e815ac2e",
        "IPY_MODEL_4f8527d43ced46098c0f1fbf400740b5",
        "IPY_MODEL_e7b33f4d7ae34adab3b48b2b4ac97435",
        "IPY_MODEL_10f2986e21bc459aad0e3fbe6bf72f5d",
        "IPY_MODEL_ffcafdc8c2ba475c8652ab4830cd8c27",
        "IPY_MODEL_96e5f9831d474f87b7f4a49ee0eac7b8",
        "IPY_MODEL_0f0dbb39551047aa948f3515d3669b74",
        "IPY_MODEL_0fa5aa166dd8416b85004ecf139dddee",
        "IPY_MODEL_24546efd81c944db86ee1376e37b04b5",
        "IPY_MODEL_2d9734220b83457d94eb7d32429b047b",
        "IPY_MODEL_6dafcea03ca1409d9eec1d9914a20c80",
        "IPY_MODEL_e1fdda12d2ce427eb642cfb9be759557",
        "IPY_MODEL_5bc22ff2dee84f56ac78f4a5ff0aed58",
        "IPY_MODEL_ce41069a16ed448c8018886e9be03e93",
        "IPY_MODEL_9d4784adbb3b4f3f89ba14683c9708e6",
        "IPY_MODEL_98096a138a4349628b67f44a56f42736",
        "IPY_MODEL_fb7b589291b844028553e3bddf183f4f",
        "IPY_MODEL_8c29d64b143c47e2a43d2d2ea280ae47",
        "IPY_MODEL_f6880373676b4a959b02e337d2819eae",
        "IPY_MODEL_645baf5a2d684123aaa3345d5e5fe5fc",
        "IPY_MODEL_a9160a140cc74f459f98007e3b2d0b7a",
        "IPY_MODEL_a30842d7d3244162ad2d33cba45324a5",
        "IPY_MODEL_ebb5144a41844603b6de8ba930b76226"
       ],
       "layout": "IPY_MODEL_1cdf437ba4754cdf95d60936efa3d278"
      }
     },
     "a745f99947b2421dbe367e256e795903": {
      "model_module": "@jupyter-widgets/controls",
      "model_module_version": "1.1.0",
      "model_name": "ButtonModel",
      "state": {
       "layout": "IPY_MODEL_bdd89e496fe346e49aea166100c855c7",
       "style": "IPY_MODEL_de2208827b4f48c68915e881ca794115"
      }
     },
     "a7936a976466407394f5696013ff4721": {
      "model_module": "@jupyter-widgets/controls",
      "model_module_version": "1.1.0",
      "model_name": "BoxModel",
      "state": {
       "children": [
        "IPY_MODEL_6f17f620b21e4bd1bd8192eb006f74f1",
        "IPY_MODEL_019e2aed4cd148fd84b1596c9ccba819"
       ],
       "layout": "IPY_MODEL_e32e1ba49d54431a8b33e2de4ff14642"
      }
     },
     "a7a4802e7a1c4935acd9be3da0412e41": {
      "model_module": "@jupyter-widgets/base",
      "model_module_version": "1.0.0",
      "model_name": "LayoutModel",
      "state": {
       "width": "auto"
      }
     },
     "a7e8ef32dffd4a3784aa9dce9ea4c4d8": {
      "model_module": "@jupyter-widgets/base",
      "model_module_version": "1.0.0",
      "model_name": "LayoutModel",
      "state": {
       "flex": "2 1 0%",
       "width": "auto"
      }
     },
     "a805481e4e2943dea6eccd126b4c30c8": {
      "model_module": "@jupyter-widgets/controls",
      "model_module_version": "1.1.0",
      "model_name": "ButtonModel",
      "state": {
       "description": "battery",
       "layout": "IPY_MODEL_5471018df5a94fbc80ebfb86c2a9c7ba",
       "style": "IPY_MODEL_5fd25f05abe24b3088f715b1e558c64d"
      }
     },
     "a8181ec2137e41a1892630fe1826b214": {
      "model_module": "@jupyter-widgets/controls",
      "model_module_version": "1.1.0",
      "model_name": "LabelModel",
      "state": {
       "layout": "IPY_MODEL_20f53e539ffb4dc3aa928c9d955bcd8b",
       "style": "IPY_MODEL_1624561925fb4ed5aed463e939e29089",
       "value": "Information"
      }
     },
     "a83bd91a91aa4f1296fa15e4f5d7399b": {
      "model_module": "@jupyter-widgets/controls",
      "model_module_version": "1.1.0",
      "model_name": "ButtonModel",
      "state": {
       "description": "weight=1",
       "layout": "IPY_MODEL_a497ea835905455b8cfd5f2bf1fbaaf3",
       "style": "IPY_MODEL_40c385fe77bd4e1aabd6b6498d7ab15e"
      }
     },
     "a850b619f18b416ead8ff71385a12b2d": {
      "model_module": "@jupyter-widgets/controls",
      "model_module_version": "1.1.0",
      "model_name": "ButtonStyleModel",
      "state": {}
     },
     "a8804a26078f463cada6c9effdfbd10f": {
      "model_module": "@jupyter-widgets/base",
      "model_module_version": "1.0.0",
      "model_name": "LayoutModel",
      "state": {
       "flex": "1 1 0%",
       "width": "auto"
      }
     },
     "a8903b470538415d900a6d33fd203270": {
      "model_module": "@jupyter-widgets/controls",
      "model_module_version": "1.1.0",
      "model_name": "ButtonModel",
      "state": {
       "button_style": "danger",
       "description": "weight=1, auto",
       "layout": "IPY_MODEL_069b12883e7b4bc188da074b569dc6bf",
       "style": "IPY_MODEL_826abf2fb68a4fc1a4a76e52fa46d73f"
      }
     },
     "a893ab02800945d8ba04e495f9ac9e8d": {
      "model_module": "@jupyter-widgets/controls",
      "model_module_version": "1.1.0",
      "model_name": "ButtonModel",
      "state": {
       "description": "weight=2, auto",
       "layout": "IPY_MODEL_7054b07e96db4daba798ed11db6ff083",
       "style": "IPY_MODEL_d79d3202b19746e8a68d493468877a9c"
      }
     },
     "a89a3fa8e69f47d7ac2ee4df32f48e99": {
      "model_module": "@jupyter-widgets/base",
      "model_module_version": "1.0.0",
      "model_name": "LayoutModel",
      "state": {}
     },
     "a8c283d6a88b4b0fbee8e3373bd9a798": {
      "model_module": "@jupyter-widgets/controls",
      "model_module_version": "1.1.0",
      "model_name": "ButtonStyleModel",
      "state": {}
     },
     "a8d33b6946bc4f0ab9eacd28dce1d2fe": {
      "model_module": "@jupyter-widgets/controls",
      "model_module_version": "1.1.0",
      "model_name": "SliderStyleModel",
      "state": {
       "description_width": "",
       "handle_color": "lightblue"
      }
     },
     "a8f91b91bfef4574b9b2c073123e0cb0": {
      "model_module": "@jupyter-widgets/controls",
      "model_module_version": "1.1.0",
      "model_name": "ButtonStyleModel",
      "state": {}
     },
     "a9160a140cc74f459f98007e3b2d0b7a": {
      "model_module": "@jupyter-widgets/controls",
      "model_module_version": "1.1.0",
      "model_name": "ButtonModel",
      "state": {
       "button_style": "warning",
       "description": "37",
       "layout": "IPY_MODEL_4f96c205ba6c46e196e16241cfe4cf24",
       "style": "IPY_MODEL_207265003f204b288dbc782751904d1c"
      }
     },
     "a917bb87aa3142618d75a4cd2a14982f": {
      "model_module": "@jupyter-widgets/controls",
      "model_module_version": "1.1.0",
      "model_name": "BoxModel",
      "state": {
       "children": [
        "IPY_MODEL_27be3b11839548c28c1e6907f350d623",
        "IPY_MODEL_83bf7e2a62534a65b28de62e761d8762",
        "IPY_MODEL_5d92ecb359fa4414a9f7b1013a0d9488"
       ],
       "layout": "IPY_MODEL_3d287e03031c4a42b5358193aabc22fb"
      }
     },
     "a91f61bdf18147fca4a04c3d6d7c4bb2": {
      "model_module": "@jupyter-widgets/controls",
      "model_module_version": "1.1.0",
      "model_name": "ButtonStyleModel",
      "state": {}
     },
     "a95f5b08735e46d2b7fee5e55d995a26": {
      "model_module": "@jupyter-widgets/base",
      "model_module_version": "1.0.0",
      "model_name": "LayoutModel",
      "state": {}
     },
     "a96f9f7205f443cfa47bfa094d47c666": {
      "model_module": "@jupyter-widgets/controls",
      "model_module_version": "1.1.0",
      "model_name": "ButtonModel",
      "state": {
       "button_style": "warning",
       "description": "8",
       "layout": "IPY_MODEL_5a006e2933db480cbe6187ccadf63fd7",
       "style": "IPY_MODEL_66067a0d908c442ebdcda47fd5a76c27"
      }
     },
     "a970a5c1507e4b8b93c0aa1764913b95": {
      "model_module": "@jupyter-widgets/controls",
      "model_module_version": "1.1.0",
      "model_name": "ButtonStyleModel",
      "state": {}
     },
     "a982ea8f9c564cc494fcf7eba4b30456": {
      "model_module": "@jupyter-widgets/controls",
      "model_module_version": "1.1.0",
      "model_name": "ButtonModel",
      "state": {
       "button_style": "warning",
       "description": "33",
       "layout": "IPY_MODEL_2609a17cced145ad91b86d4ddfbd3bfd",
       "style": "IPY_MODEL_0cc1a21bd2fd43a396f2d273465c5e90"
      }
     },
     "a9b2c773e12c4c3cbc620f9d162d03c2": {
      "model_module": "@jupyter-widgets/controls",
      "model_module_version": "1.1.0",
      "model_name": "DescriptionStyleModel",
      "state": {
       "description_width": ""
      }
     },
     "a9bd47f9391848838f3737ca16d02185": {
      "model_module": "@jupyter-widgets/controls",
      "model_module_version": "1.1.0",
      "model_name": "ButtonModel",
      "state": {
       "button_style": "warning",
       "description": "28",
       "layout": "IPY_MODEL_f97c294201b54222ba61666297c61c75",
       "style": "IPY_MODEL_b8b2e26eee694c49bf33fc06446868e5"
      }
     },
     "a9c1570e4e2441ee83846dd93d9ebf8f": {
      "model_module": "@jupyter-widgets/controls",
      "model_module_version": "1.1.0",
      "model_name": "ButtonStyleModel",
      "state": {}
     },
     "a9d016725ee640d581b969f79fa1216b": {
      "model_module": "@jupyter-widgets/controls",
      "model_module_version": "1.1.0",
      "model_name": "DescriptionStyleModel",
      "state": {
       "description_width": ""
      }
     },
     "a9f0d8b91876470480f1a0f500105f73": {
      "model_module": "@jupyter-widgets/controls",
      "model_module_version": "1.1.0",
      "model_name": "ButtonModel",
      "state": {
       "button_style": "danger",
       "description": "weight=2, auto",
       "layout": "IPY_MODEL_e80e053d16204fb39a56158cbc1294cc",
       "style": "IPY_MODEL_e9930c22a93c414a99a9779f650ec59a"
      }
     },
     "a9f2b98e737a4871b67257ead7a684a5": {
      "model_module": "@jupyter-widgets/controls",
      "model_module_version": "1.1.0",
      "model_name": "ButtonStyleModel",
      "state": {}
     },
     "aa1a358d3745452f86a2e94fb54403e8": {
      "model_module": "@jupyter-widgets/controls",
      "model_module_version": "1.1.0",
      "model_name": "ButtonModel",
      "state": {
       "description": "weight=1",
       "layout": "IPY_MODEL_ad3057b89ca84bb6be70296f5fb55acd",
       "style": "IPY_MODEL_62272d9b08e94e239767e199353c7993"
      }
     },
     "aa2667d590b3444d9cedb2573c6beb8f": {
      "model_module": "@jupyter-widgets/controls",
      "model_module_version": "1.1.0",
      "model_name": "ButtonModel",
      "state": {
       "button_style": "warning",
       "description": "5",
       "layout": "IPY_MODEL_9886a36bb356420e9e4d3c7cdd66e238",
       "style": "IPY_MODEL_822f48cf3a894f8fb1647d8d724e5367"
      }
     },
     "aa382f71d5e847fe8d278d0a4ce8ba83": {
      "model_module": "@jupyter-widgets/controls",
      "model_module_version": "1.1.0",
      "model_name": "ButtonModel",
      "state": {
       "button_style": "warning",
       "description": "36",
       "layout": "IPY_MODEL_2609a17cced145ad91b86d4ddfbd3bfd",
       "style": "IPY_MODEL_8e0d036a66b34328b7473e4968420cba"
      }
     },
     "aa3d3036ae394a6a8a21d8777726692c": {
      "model_module": "@jupyter-widgets/controls",
      "model_module_version": "1.1.0",
      "model_name": "ButtonStyleModel",
      "state": {}
     },
     "aa9d6491b0d648218bc884295310e8ae": {
      "model_module": "@jupyter-widgets/controls",
      "model_module_version": "1.1.0",
      "model_name": "ButtonModel",
      "state": {
       "button_style": "warning",
       "description": "27",
       "layout": "IPY_MODEL_616560d2e26b4bee8b7c903f483241f8",
       "style": "IPY_MODEL_925f41871e74410f9f40d05e19b16df9"
      }
     },
     "aaa0b8ee31c64cd1a7ebeb07a0c2a7eb": {
      "model_module": "@jupyter-widgets/controls",
      "model_module_version": "1.1.0",
      "model_name": "ButtonModel",
      "state": {
       "button_style": "warning",
       "description": "18",
       "layout": "IPY_MODEL_5f4383735711415596954c7bc1a5bfd1",
       "style": "IPY_MODEL_0af87b227b43470abe92e3c846fd945d"
      }
     },
     "aab865ee7ec145a09c9531fe161e6e83": {
      "model_module": "@jupyter-widgets/controls",
      "model_module_version": "1.1.0",
      "model_name": "ButtonModel",
      "state": {
       "button_style": "warning",
       "description": "17",
       "layout": "IPY_MODEL_616560d2e26b4bee8b7c903f483241f8",
       "style": "IPY_MODEL_efe6ac6f093848adb8711e770c37e705"
      }
     },
     "aac1a3d33f0544739eeb7da1c6e25359": {
      "model_module": "@jupyter-widgets/controls",
      "model_module_version": "1.1.0",
      "model_name": "ButtonStyleModel",
      "state": {}
     },
     "aac52a0aab854d8e8abc297c1983c9dc": {
      "model_module": "@jupyter-widgets/base",
      "model_module_version": "1.0.0",
      "model_name": "LayoutModel",
      "state": {
       "flex": "2 1 auto",
       "width": "auto"
      }
     },
     "aacfcc646db54cc0a0e2af90816bc5e5": {
      "model_module": "@jupyter-widgets/controls",
      "model_module_version": "1.1.0",
      "model_name": "ButtonModel",
      "state": {
       "button_style": "warning",
       "description": "21",
       "layout": "IPY_MODEL_0606cbc317604fbdbaea9d3fd0b2d14a",
       "style": "IPY_MODEL_b14d4767a1754f75984826ad7b6c8a02"
      }
     },
     "aaee10a0d8854b4b8d83203b19028aa5": {
      "model_module": "@jupyter-widgets/controls",
      "model_module_version": "1.1.0",
      "model_name": "DescriptionStyleModel",
      "state": {
       "description_width": ""
      }
     },
     "aaf0db2cd95647989787d2a00fd825c6": {
      "model_module": "@jupyter-widgets/base",
      "model_module_version": "1.0.0",
      "model_name": "LayoutModel",
      "state": {}
     },
     "ab28da9bfef14cafb06ed64121648c26": {
      "model_module": "@jupyter-widgets/controls",
      "model_module_version": "1.1.0",
      "model_name": "VBoxModel",
      "state": {
       "children": [
        "IPY_MODEL_a4f2b49eaeea4bc19e10eaa5374e2703",
        "IPY_MODEL_9ebc8a4c7cd8477c9ace87ef5acfdf33"
       ],
       "layout": "IPY_MODEL_2e1c959edbb74695bd6069cd1412311c"
      }
     },
     "ab6b4a75e766480799fd6f08e299fb8b": {
      "model_module": "@jupyter-widgets/base",
      "model_module_version": "1.0.0",
      "model_name": "LayoutModel",
      "state": {
       "flex": "2 1 auto",
       "width": "auto"
      }
     },
     "ab7ee10a64404f26825beccd859fb613": {
      "model_module": "@jupyter-widgets/controls",
      "model_module_version": "1.1.0",
      "model_name": "ButtonModel",
      "state": {
       "button_style": "warning",
       "description": "3",
       "layout": "IPY_MODEL_86c93170059349499a5f76156cbd8cdf",
       "style": "IPY_MODEL_8eaea5be7ee14b4f99ba337095fae034"
      }
     },
     "ab8bda73972b434082c9e0ba4a8a3f76": {
      "model_module": "@jupyter-widgets/controls",
      "model_module_version": "1.1.0",
      "model_name": "ButtonStyleModel",
      "state": {}
     },
     "ab977d381d674457b59654833d8b022c": {
      "model_module": "@jupyter-widgets/controls",
      "model_module_version": "1.1.0",
      "model_name": "ButtonModel",
      "state": {
       "button_style": "warning",
       "description": "13",
       "layout": "IPY_MODEL_4f96c205ba6c46e196e16241cfe4cf24",
       "style": "IPY_MODEL_490fb802b0c24487b1c79d9efd0aa28b"
      }
     },
     "aba58bbfe75c49fa9b623d6bb427465a": {
      "model_module": "@jupyter-widgets/controls",
      "model_module_version": "1.1.0",
      "model_name": "LabelModel",
      "state": {
       "layout": "IPY_MODEL_ba65aeae1de343c8b5c8ce93684f30f4",
       "style": "IPY_MODEL_695b46d840184b04b17f2e52b95d43b9",
       "value": "Scroll horizontally:"
      }
     },
     "abb0a999476447cfaa945031e1545513": {
      "model_module": "@jupyter-widgets/controls",
      "model_module_version": "1.1.0",
      "model_name": "VBoxModel",
      "state": {
       "children": [
        "IPY_MODEL_2fcdb88a7eed42ec81646b6bd55624c5",
        "IPY_MODEL_38b32553e2b845a99c327cf273c6fd03"
       ],
       "layout": "IPY_MODEL_c65b1216ac0a4255b20d3366e0fe13e1"
      }
     },
     "abc99d5205ef4185b8157bd7c65fc2e9": {
      "model_module": "@jupyter-widgets/controls",
      "model_module_version": "1.1.0",
      "model_name": "ButtonModel",
      "state": {
       "description": "weight=1, auto",
       "layout": "IPY_MODEL_f042998e30d44365b2feada2653d1878",
       "style": "IPY_MODEL_9034b69015f84aadbbd5fb90d385b369"
      }
     },
     "abd17c4b3488451aa972df863d07aa76": {
      "model_module": "@jupyter-widgets/controls",
      "model_module_version": "1.1.0",
      "model_name": "BoxModel",
      "state": {
       "children": [
        "IPY_MODEL_00e60517f6aa4f0ead9428b7f6a34910",
        "IPY_MODEL_2ca24f86b38b4ccab3bf488afe5717f2",
        "IPY_MODEL_1b130d44db134be6b54af23af58e371d"
       ],
       "layout": "IPY_MODEL_cc1ceb9317804309bf47e3d73c0d4691"
      }
     },
     "ac0b6b2e58744e0590e304165924def3": {
      "model_module": "@jupyter-widgets/controls",
      "model_module_version": "1.1.0",
      "model_name": "ButtonStyleModel",
      "state": {}
     },
     "ac324bdd95434944bbc9be88e3f7fcc6": {
      "model_module": "@jupyter-widgets/controls",
      "model_module_version": "1.1.0",
      "model_name": "ButtonStyleModel",
      "state": {}
     },
     "ac873e81a9a24dccac2f9592547ab70c": {
      "model_module": "@jupyter-widgets/base",
      "model_module_version": "1.0.0",
      "model_name": "LayoutModel",
      "state": {
       "flex": "1 1 0%",
       "width": "auto"
      }
     },
     "acc6c51a8b2343b482e52a16d1573867": {
      "model_module": "@jupyter-widgets/controls",
      "model_module_version": "1.1.0",
      "model_name": "ButtonModel",
      "state": {
       "button_style": "danger",
       "description": "battery",
       "layout": "IPY_MODEL_f36062d1658742dbab9032aaa90395e7",
       "style": "IPY_MODEL_19fcb2d97aae4cea80e7351c09daebfb"
      }
     },
     "acd1c1b8563348fba435e7bbe312e87a": {
      "model_module": "@jupyter-widgets/controls",
      "model_module_version": "1.1.0",
      "model_name": "ButtonStyleModel",
      "state": {}
     },
     "acd379c39774455c8591ba10d43da208": {
      "model_module": "@jupyter-widgets/controls",
      "model_module_version": "1.1.0",
      "model_name": "HBoxModel",
      "state": {
       "children": [
        "IPY_MODEL_3ec6fc5d079248a2b6fef91f45036ec1",
        "IPY_MODEL_b652089b6741416296b5c51a1244618a"
       ],
       "layout": "IPY_MODEL_e277e5c1f8484ca28c83adbabc8212ad"
      }
     },
     "acd69a50b50640aaa6917682cb968557": {
      "model_module": "@jupyter-widgets/controls",
      "model_module_version": "1.1.0",
      "model_name": "ButtonModel",
      "state": {
       "button_style": "warning",
       "description": "16",
       "layout": "IPY_MODEL_0606cbc317604fbdbaea9d3fd0b2d14a",
       "style": "IPY_MODEL_70aa1f28f4074540b790bc824bc17e07"
      }
     },
     "acdcf891faff45da83d6f3f28d8e815f": {
      "model_module": "@jupyter-widgets/controls",
      "model_module_version": "1.1.0",
      "model_name": "ButtonStyleModel",
      "state": {}
     },
     "acf9f420d12f4d2f8de81a3e3baedfcb": {
      "model_module": "@jupyter-widgets/controls",
      "model_module_version": "1.1.0",
      "model_name": "ButtonStyleModel",
      "state": {}
     },
     "ad04a0d05cf8443db02f4c616a3b8d29": {
      "model_module": "@jupyter-widgets/controls",
      "model_module_version": "1.1.0",
      "model_name": "ButtonStyleModel",
      "state": {}
     },
     "ad3057b89ca84bb6be70296f5fb55acd": {
      "model_module": "@jupyter-widgets/base",
      "model_module_version": "1.0.0",
      "model_name": "LayoutModel",
      "state": {
       "flex": "1 1 0%",
       "width": "auto"
      }
     },
     "ad5ef86d130740339edfe8aa2b2cf8a8": {
      "model_module": "@jupyter-widgets/controls",
      "model_module_version": "1.1.0",
      "model_name": "ButtonModel",
      "state": {
       "button_style": "warning",
       "description": "2",
       "layout": "IPY_MODEL_f97c294201b54222ba61666297c61c75",
       "style": "IPY_MODEL_7bcb20f860c143dc8bcca18f474e5599"
      }
     },
     "ad748f65c3c646129f5dd07d7bbe126b": {
      "model_module": "@jupyter-widgets/controls",
      "model_module_version": "1.1.0",
      "model_name": "ButtonModel",
      "state": {
       "button_style": "warning",
       "description": "9",
       "layout": "IPY_MODEL_0606cbc317604fbdbaea9d3fd0b2d14a",
       "style": "IPY_MODEL_5251ad89f416411ab85f623e8e989820"
      }
     },
     "adcf5210c1db480fa1595df59f8757eb": {
      "model_module": "@jupyter-widgets/controls",
      "model_module_version": "1.1.0",
      "model_name": "ButtonModel",
      "state": {
       "button_style": "warning",
       "description": "23",
       "layout": "IPY_MODEL_9886a36bb356420e9e4d3c7cdd66e238",
       "style": "IPY_MODEL_a009e755898944029ecf18a8ac1da63d"
      }
     },
     "adcfa2de893a460a8f7c9eda52bb25ba": {
      "model_module": "@jupyter-widgets/controls",
      "model_module_version": "1.1.0",
      "model_name": "ButtonStyleModel",
      "state": {}
     },
     "adf90391fc344a7ab13ab5b19e7a5c4e": {
      "model_module": "@jupyter-widgets/controls",
      "model_module_version": "1.1.0",
      "model_name": "ButtonModel",
      "state": {
       "button_style": "warning",
       "description": "19",
       "layout": "IPY_MODEL_9886a36bb356420e9e4d3c7cdd66e238",
       "style": "IPY_MODEL_8fe2488e6f7d41808241bfa8ea2fe80a"
      }
     },
     "ae1142d85cb84b33b1ea470e4bd02093": {
      "model_module": "@jupyter-widgets/controls",
      "model_module_version": "1.1.0",
      "model_name": "ButtonStyleModel",
      "state": {}
     },
     "ae159805978e415196aeaac10d67ae27": {
      "model_module": "@jupyter-widgets/base",
      "model_module_version": "1.0.0",
      "model_name": "LayoutModel",
      "state": {}
     },
     "ae2dc1c9a4f84a099674595b65918dfd": {
      "model_module": "@jupyter-widgets/controls",
      "model_module_version": "1.1.0",
      "model_name": "ButtonModel",
      "state": {
       "description": "weight=1,   0%",
       "layout": "IPY_MODEL_35fed0e895bb40ecbbe1933a4120fa6c",
       "style": "IPY_MODEL_4e7890b59344405fb9aa10582b33912d"
      }
     },
     "ae65cd331b594ba6a936aa600d3020b6": {
      "model_module": "@jupyter-widgets/controls",
      "model_module_version": "1.1.0",
      "model_name": "ButtonModel",
      "state": {
       "button_style": "warning",
       "description": "35",
       "layout": "IPY_MODEL_1d10072127cb4a32968374fdb7bd2479",
       "style": "IPY_MODEL_78090cbb573b402aa41274e377e92ad3"
      }
     },
     "aec91f4997fc416a9fa61b498f5f4ac1": {
      "model_module": "@jupyter-widgets/controls",
      "model_module_version": "1.1.0",
      "model_name": "BoxModel",
      "state": {
       "children": [
        "IPY_MODEL_49237049f31d492dba4c5c0fe487bc78",
        "IPY_MODEL_bec71ceaf71f4da48866ad2f6bee998f",
        "IPY_MODEL_f391b86609024ca9b1e4e6ff3cbbae93"
       ],
       "layout": "IPY_MODEL_c979b0b239cb4a07977ee4e5ea5b91b4"
      }
     },
     "aecce8c9bd8c475297f73106e1747fdf": {
      "model_module": "@jupyter-widgets/controls",
      "model_module_version": "1.1.0",
      "model_name": "ButtonModel",
      "state": {
       "button_style": "warning",
       "description": "1",
       "layout": "IPY_MODEL_6abcd37e41034b2ca8a2c4c4ba0dca11",
       "style": "IPY_MODEL_3fd473c0cde34517a4756d7d71487d65"
      }
     },
     "aed6715071e2409fb5bcb39f60f4a6e6": {
      "model_module": "@jupyter-widgets/controls",
      "model_module_version": "1.1.0",
      "model_name": "ButtonModel",
      "state": {
       "description": "weight=2, auto",
       "layout": "IPY_MODEL_cb71107372dc4aefbfa94c9aa2874213",
       "style": "IPY_MODEL_18033b6822e94db1b8d8db774a89b68b"
      }
     },
     "af19cd3f5db34e09aef4622f8329de19": {
      "model_module": "@jupyter-widgets/controls",
      "model_module_version": "1.1.0",
      "model_name": "ButtonModel",
      "state": {
       "button_style": "warning",
       "description": "2",
       "layout": "IPY_MODEL_4f96c205ba6c46e196e16241cfe4cf24",
       "style": "IPY_MODEL_cec8938a9d4047c3bd5b27b8752112bf"
      }
     },
     "af3b9972a7c04fdb99d3694658ad0227": {
      "model_module": "@jupyter-widgets/base",
      "model_module_version": "1.0.0",
      "model_name": "LayoutModel",
      "state": {
       "flex": "1 1 0%",
       "width": "auto"
      }
     },
     "af40ef9e6f9c493fb042351829f563ba": {
      "model_module": "@jupyter-widgets/controls",
      "model_module_version": "1.1.0",
      "model_name": "ButtonStyleModel",
      "state": {}
     },
     "af498555a39d4210838c65718f35139d": {
      "model_module": "@jupyter-widgets/base",
      "model_module_version": "1.0.0",
      "model_name": "LayoutModel",
      "state": {
       "width": "auto"
      }
     },
     "af527d2aa5c24809b32eeb0e329f57ea": {
      "model_module": "@jupyter-widgets/controls",
      "model_module_version": "1.1.0",
      "model_name": "ButtonModel",
      "state": {
       "button_style": "warning",
       "description": "28",
       "layout": "IPY_MODEL_86c93170059349499a5f76156cbd8cdf",
       "style": "IPY_MODEL_0ace049e703d4b3791d6f4e69084427b"
      }
     },
     "af57f351353e4c339923c5a2474c510c": {
      "model_module": "@jupyter-widgets/controls",
      "model_module_version": "1.1.0",
      "model_name": "ButtonStyleModel",
      "state": {}
     },
     "af5f43e708c1452d9db0c081d54615c2": {
      "model_module": "@jupyter-widgets/controls",
      "model_module_version": "1.1.0",
      "model_name": "ButtonStyleModel",
      "state": {}
     },
     "af9773d2359542e0a189b946fbf44fc4": {
      "model_module": "@jupyter-widgets/controls",
      "model_module_version": "1.1.0",
      "model_name": "BoxModel",
      "state": {
       "children": [
        "IPY_MODEL_3cb3bc416bc749a48fd5dce5148ee481",
        "IPY_MODEL_6c3a45c519d24fda9194aeaf0dced228",
        "IPY_MODEL_0b50770845e34322a3660d262d24bdec"
       ],
       "layout": "IPY_MODEL_9b339ca1d79946c583177528fb08dc0c"
      }
     },
     "afa401374e3e4bdaa3c3048f6cebfd9e": {
      "model_module": "@jupyter-widgets/base",
      "model_module_version": "1.0.0",
      "model_name": "LayoutModel",
      "state": {
       "align_items": "stretch",
       "border": "solid",
       "display": "flex",
       "flex_flow": "column",
       "width": "50%"
      }
     },
     "afb16dd3bf9549c3aa282ac1b55699f6": {
      "model_module": "@jupyter-widgets/controls",
      "model_module_version": "1.1.0",
      "model_name": "ButtonModel",
      "state": {
       "button_style": "warning",
       "description": "6",
       "layout": "IPY_MODEL_86c93170059349499a5f76156cbd8cdf",
       "style": "IPY_MODEL_e3f7c091d02642edb4be287ca1ad3b8c"
      }
     },
     "afbe588a0a574144b1bfc25434353070": {
      "model_module": "@jupyter-widgets/controls",
      "model_module_version": "1.1.0",
      "model_name": "VBoxModel",
      "state": {
       "children": [
        "IPY_MODEL_f0b94bad9769430b8231942d5da75233",
        "IPY_MODEL_af9773d2359542e0a189b946fbf44fc4"
       ],
       "layout": "IPY_MODEL_83779caeeb774d0aaa3e423e9f785011"
      }
     },
     "b003ed6c697d4581b97eadbda9e4c2a6": {
      "model_module": "@jupyter-widgets/controls",
      "model_module_version": "1.1.0",
      "model_name": "ButtonStyleModel",
      "state": {}
     },
     "b009543a3ed440f9b68b9589d75b38f0": {
      "model_module": "@jupyter-widgets/controls",
      "model_module_version": "1.1.0",
      "model_name": "ButtonStyleModel",
      "state": {}
     },
     "b04a460354e144d390998777d793d347": {
      "model_module": "@jupyter-widgets/controls",
      "model_module_version": "1.1.0",
      "model_name": "DescriptionStyleModel",
      "state": {
       "description_width": ""
      }
     },
     "b04da1cdf5e747989d559efc5f60fa9d": {
      "model_module": "@jupyter-widgets/controls",
      "model_module_version": "1.1.0",
      "model_name": "ButtonModel",
      "state": {
       "button_style": "warning",
       "description": "23",
       "layout": "IPY_MODEL_616560d2e26b4bee8b7c903f483241f8",
       "style": "IPY_MODEL_60e47423a29248bc9bb7fbcd059f228a"
      }
     },
     "b05f6cf81bda4baa844d5bd1be47fdd8": {
      "model_module": "@jupyter-widgets/controls",
      "model_module_version": "1.1.0",
      "model_name": "ButtonModel",
      "state": {
       "button_style": "warning",
       "description": "8",
       "layout": "IPY_MODEL_616560d2e26b4bee8b7c903f483241f8",
       "style": "IPY_MODEL_185888f7164743ba80ac08b010222e3a"
      }
     },
     "b075b178e5824efeaa817a3c8b35a47c": {
      "model_module": "@jupyter-widgets/controls",
      "model_module_version": "1.1.0",
      "model_name": "LabelModel",
      "state": {
       "layout": "IPY_MODEL_d52715ea8acd48ae86bf367d5c2b3560",
       "style": "IPY_MODEL_7bd1dfff77024f218260de6f1db8ee62",
       "value": "A too long description"
      }
     },
     "b079e1a52f45417d9d3e5bca20cbd4e6": {
      "model_module": "@jupyter-widgets/controls",
      "model_module_version": "1.1.0",
      "model_name": "ButtonStyleModel",
      "state": {}
     },
     "b0ca8a293663460e8b7d9f3e10f3575e": {
      "model_module": "@jupyter-widgets/controls",
      "model_module_version": "1.1.0",
      "model_name": "DescriptionStyleModel",
      "state": {
       "description_width": ""
      }
     },
     "b108c577a5384e42936652403348162d": {
      "model_module": "@jupyter-widgets/base",
      "model_module_version": "1.0.0",
      "model_name": "LayoutModel",
      "state": {
       "flex": "1 1 0%",
       "width": "auto"
      }
     },
     "b1103fd991cb4004b46faeac1103a85d": {
      "model_module": "@jupyter-widgets/controls",
      "model_module_version": "1.1.0",
      "model_name": "ButtonStyleModel",
      "state": {}
     },
     "b14d4767a1754f75984826ad7b6c8a02": {
      "model_module": "@jupyter-widgets/controls",
      "model_module_version": "1.1.0",
      "model_name": "ButtonStyleModel",
      "state": {}
     },
     "b19b0f4d5ebc41cbb22e025d8e3e32f5": {
      "model_module": "@jupyter-widgets/controls",
      "model_module_version": "1.1.0",
      "model_name": "LabelModel",
      "state": {
       "layout": "IPY_MODEL_558f2c6f57f543a4b0ead83846433125",
       "style": "IPY_MODEL_1854302033e04b96b4378a2886b852e1",
       "value": "Age of the captain"
      }
     },
     "b1d01d73f0094f55987b1980303c60b0": {
      "model_module": "@jupyter-widgets/controls",
      "model_module_version": "1.1.0",
      "model_name": "ButtonStyleModel",
      "state": {}
     },
     "b2300a8dbd2c4a2a99119187399afc84": {
      "model_module": "@jupyter-widgets/controls",
      "model_module_version": "1.1.0",
      "model_name": "ButtonModel",
      "state": {
       "button_style": "warning",
       "description": "21",
       "layout": "IPY_MODEL_616560d2e26b4bee8b7c903f483241f8",
       "style": "IPY_MODEL_8f25c8e8d43f42ae87c702ebe03290e9"
      }
     },
     "b2355f60026446269de1dcf35966a67f": {
      "model_module": "@jupyter-widgets/controls",
      "model_module_version": "1.1.0",
      "model_name": "ButtonModel",
      "state": {
       "description": "weight=1, auto",
       "layout": "IPY_MODEL_23a21d0636b34615a9145ed1ab89656e",
       "style": "IPY_MODEL_b9232085945d49098837fb054bc470d4"
      }
     },
     "b23e198d2d1041188ca6b78471348930": {
      "model_module": "@jupyter-widgets/controls",
      "model_module_version": "1.1.0",
      "model_name": "IntSliderModel",
      "state": {
       "description": "Blue handle",
       "layout": "IPY_MODEL_62299ce93f094d8eb68c5a6a166ea071",
       "style": "IPY_MODEL_a8d33b6946bc4f0ab9eacd28dce1d2fe"
      }
     },
     "b24af3a904c841d4927818ee34f97ff5": {
      "model_module": "@jupyter-widgets/controls",
      "model_module_version": "1.1.0",
      "model_name": "ButtonModel",
      "state": {
       "button_style": "warning",
       "description": "37",
       "layout": "IPY_MODEL_0606cbc317604fbdbaea9d3fd0b2d14a",
       "style": "IPY_MODEL_4f9abbedd70a4fc7abfebb49b98722c7"
      }
     },
     "b275f2c1a1064bbdbafe507061b80ae1": {
      "model_module": "@jupyter-widgets/controls",
      "model_module_version": "1.1.0",
      "model_name": "ButtonStyleModel",
      "state": {}
     },
     "b28d7fc26c324ec3a33c1271297427d2": {
      "model_module": "@jupyter-widgets/controls",
      "model_module_version": "1.1.0",
      "model_name": "ButtonModel",
      "state": {
       "button_style": "warning",
       "description": "14",
       "layout": "IPY_MODEL_6abcd37e41034b2ca8a2c4c4ba0dca11",
       "style": "IPY_MODEL_11f4b0aad25c4bc1ae973b61560992bf"
      }
     },
     "b2e32406fc2e46f5a0ff205f2220e01b": {
      "model_module": "@jupyter-widgets/base",
      "model_module_version": "1.0.0",
      "model_name": "LayoutModel",
      "state": {}
     },
     "b2f9973906224326b69fe0f4d7847b86": {
      "model_module": "@jupyter-widgets/controls",
      "model_module_version": "1.1.0",
      "model_name": "HBoxModel",
      "state": {
       "children": [
        "IPY_MODEL_837c18c2978f4a24b2cb960c23bd01cd",
        "IPY_MODEL_00fbcfd6b3794e20adef785a7ba0d18f"
       ],
       "layout": "IPY_MODEL_809403ced6984e1db5767e65f0ea226f"
      }
     },
     "b31dc5b4350d412cb2779a2e97c76018": {
      "model_module": "@jupyter-widgets/controls",
      "model_module_version": "1.1.0",
      "model_name": "ButtonStyleModel",
      "state": {}
     },
     "b32a37681eba4eb0ae75704acc897f96": {
      "model_module": "@jupyter-widgets/controls",
      "model_module_version": "1.1.0",
      "model_name": "ButtonModel",
      "state": {
       "button_style": "warning",
       "description": "34",
       "layout": "IPY_MODEL_128139c1d2f94adbaaea71294ef22ff3",
       "style": "IPY_MODEL_6082220ddc454499b0daa2fe12d538bc"
      }
     },
     "b32b96e20f5245f89fd7c67750d4c97f": {
      "model_module": "@jupyter-widgets/base",
      "model_module_version": "1.0.0",
      "model_name": "LayoutModel",
      "state": {}
     },
     "b33d56f88c6d475fa3ad517bab7979f4": {
      "model_module": "@jupyter-widgets/controls",
      "model_module_version": "1.1.0",
      "model_name": "ButtonModel",
      "state": {
       "button_style": "warning",
       "description": "6",
       "layout": "IPY_MODEL_4f96c205ba6c46e196e16241cfe4cf24",
       "style": "IPY_MODEL_a8c283d6a88b4b0fbee8e3373bd9a798"
      }
     },
     "b35e611bf7b54a2b8ac020a26da57f63": {
      "model_module": "@jupyter-widgets/controls",
      "model_module_version": "1.1.0",
      "model_name": "BoxModel",
      "state": {
       "children": [
        "IPY_MODEL_f028e5d9f13649ab99f2a4c9943c7790",
        "IPY_MODEL_c34a296120cc4267856d966239da32e2",
        "IPY_MODEL_f5459b59461a46308b2839ffc9cefda8",
        "IPY_MODEL_89a42a505c584a5f97404ad52d2b767d"
       ],
       "layout": "IPY_MODEL_0c5032802b5c49cdb7bc117ced5f56e8"
      }
     },
     "b37b29d2cf554cac958beb6083a9b23a": {
      "model_module": "@jupyter-widgets/controls",
      "model_module_version": "1.1.0",
      "model_name": "ButtonModel",
      "state": {
       "button_style": "danger",
       "description": "correct",
       "layout": "IPY_MODEL_a7a4802e7a1c4935acd9be3da0412e41",
       "style": "IPY_MODEL_354c8e0eba8c465bbeaa0b4e382d471e"
      }
     },
     "b37dccef49c749ec886f4205bdc9a431": {
      "model_module": "@jupyter-widgets/controls",
      "model_module_version": "1.1.0",
      "model_name": "ButtonModel",
      "state": {
       "button_style": "warning",
       "description": "36",
       "layout": "IPY_MODEL_f97c294201b54222ba61666297c61c75",
       "style": "IPY_MODEL_f7dba8c4f61e44dc9767228417496375"
      }
     },
     "b3919ebb58af4852ad72e704c0d76152": {
      "model_module": "@jupyter-widgets/controls",
      "model_module_version": "1.1.0",
      "model_name": "SliderStyleModel",
      "state": {
       "description_width": ""
      }
     },
     "b3c2fc36803349b69665d29bd9ac5549": {
      "model_module": "@jupyter-widgets/controls",
      "model_module_version": "1.1.0",
      "model_name": "ButtonStyleModel",
      "state": {}
     },
     "b3c606c17bfe4dfeb0149f9a3fd9d487": {
      "model_module": "@jupyter-widgets/controls",
      "model_module_version": "1.1.0",
      "model_name": "ButtonModel",
      "state": {
       "button_style": "warning",
       "description": "6",
       "layout": "IPY_MODEL_616560d2e26b4bee8b7c903f483241f8",
       "style": "IPY_MODEL_12cc4b213c274be99c5710051a35e4fa"
      }
     },
     "b3ed601691d2453e8d567ed804951038": {
      "model_module": "@jupyter-widgets/controls",
      "model_module_version": "1.1.0",
      "model_name": "ButtonModel",
      "state": {
       "description": "weight=2",
       "layout": "IPY_MODEL_9691e7bbe130445ab7dfa36f9c40569b",
       "style": "IPY_MODEL_5c7ba414f669447491791b76167cbe25"
      }
     },
     "b419d92e60a54ca79a16faa148dafb07": {
      "model_module": "@jupyter-widgets/controls",
      "model_module_version": "1.1.0",
      "model_name": "ButtonStyleModel",
      "state": {}
     },
     "b423824ab8df4fb6b121234529577483": {
      "model_module": "@jupyter-widgets/controls",
      "model_module_version": "1.1.0",
      "model_name": "ButtonModel",
      "state": {
       "button_style": "warning",
       "description": "11",
       "layout": "IPY_MODEL_0606cbc317604fbdbaea9d3fd0b2d14a",
       "style": "IPY_MODEL_d95edb09ffa74c2297ebb85318cf6ac8"
      }
     },
     "b439cb33d2c340b8bbb4a8447dc00028": {
      "model_module": "@jupyter-widgets/base",
      "model_module_version": "1.0.0",
      "model_name": "LayoutModel",
      "state": {
       "align_items": "stretch",
       "border": "solid 0.5px",
       "display": "flex",
       "flex_flow": "row",
       "width": "70%"
      }
     },
     "b447010556c04c0b8509a61b8553ec52": {
      "model_module": "@jupyter-widgets/controls",
      "model_module_version": "1.1.0",
      "model_name": "IntSliderModel",
      "state": {
       "description": "A too long description",
       "layout": "IPY_MODEL_b9d8eeee82164521af34d4516aef0a9d",
       "style": "IPY_MODEL_2f655f34e9144dbd8e84f23297a04258"
      }
     },
     "b465ecd51c154663bfdeb62ae38e2282": {
      "model_module": "@jupyter-widgets/controls",
      "model_module_version": "1.1.0",
      "model_name": "BoxModel",
      "state": {
       "children": [
        "IPY_MODEL_f6f3684452384585aefc30ba9c17e1e4",
        "IPY_MODEL_124943578c3941ca9135610ba806dd67",
        "IPY_MODEL_cf6b6bf558bb45a4b0eede040095696f"
       ],
       "layout": "IPY_MODEL_b439cb33d2c340b8bbb4a8447dc00028"
      }
     },
     "b4669dcd38a8440db2ebf890923bd22a": {
      "model_module": "@jupyter-widgets/base",
      "model_module_version": "1.0.0",
      "model_name": "LayoutModel",
      "state": {
       "flex": "1 1 0%",
       "width": "auto"
      }
     },
     "b4789a123380465bac790e4d6a70efe9": {
      "model_module": "@jupyter-widgets/controls",
      "model_module_version": "1.1.0",
      "model_name": "ButtonModel",
      "state": {
       "button_style": "danger",
       "description": "weight=1, _0%",
       "layout": "IPY_MODEL_3129c3574b734034aa6c9579397f2c46",
       "style": "IPY_MODEL_74a0c8fb052c4ae78363c3a1fc2e5360"
      }
     },
     "b48fdce3071249fb8e653be2e77f7d07": {
      "model_module": "@jupyter-widgets/controls",
      "model_module_version": "1.1.0",
      "model_name": "ButtonStyleModel",
      "state": {}
     },
     "b4c3788c04f747adaa30f5492e6fcf68": {
      "model_module": "@jupyter-widgets/base",
      "model_module_version": "1.0.0",
      "model_name": "LayoutModel",
      "state": {
       "flex": "1 1 auto",
       "width": "auto"
      }
     },
     "b4d5db8badf54916bdd45fddb96ee1fb": {
      "model_module": "@jupyter-widgets/controls",
      "model_module_version": "1.1.0",
      "model_name": "ButtonModel",
      "state": {
       "button_style": "warning",
       "description": "13",
       "layout": "IPY_MODEL_5f4383735711415596954c7bc1a5bfd1",
       "style": "IPY_MODEL_cb97b52a89a241ecaf1e053e384f38e3"
      }
     },
     "b50d1e573eb34af4a7a21e83d5fa2ae5": {
      "model_module": "@jupyter-widgets/controls",
      "model_module_version": "1.1.0",
      "model_name": "ButtonStyleModel",
      "state": {}
     },
     "b552cfe26e0c43508b1080ce200578bd": {
      "model_module": "@jupyter-widgets/base",
      "model_module_version": "1.0.0",
      "model_name": "LayoutModel",
      "state": {
       "width": "auto"
      }
     },
     "b55662817e1a483d832a44f83e17d16b": {
      "model_module": "@jupyter-widgets/controls",
      "model_module_version": "1.1.0",
      "model_name": "ButtonModel",
      "state": {
       "button_style": "warning",
       "description": "1",
       "layout": "IPY_MODEL_4f96c205ba6c46e196e16241cfe4cf24",
       "style": "IPY_MODEL_e66321df88c245ff9b3649f97678bbb8"
      }
     },
     "b5a5103c129e4790b08c46df571eb380": {
      "model_module": "@jupyter-widgets/base",
      "model_module_version": "1.0.0",
      "model_name": "LayoutModel",
      "state": {
       "width": "auto"
      }
     },
     "b5a698b60cdf437392f96f8924d2f246": {
      "model_module": "@jupyter-widgets/controls",
      "model_module_version": "1.1.0",
      "model_name": "ButtonModel",
      "state": {
       "button_style": "warning",
       "description": "32",
       "layout": "IPY_MODEL_86c93170059349499a5f76156cbd8cdf",
       "style": "IPY_MODEL_0c77439d99134b369caca19a25d2d3f2"
      }
     },
     "b5e86e4782ff45e4b99be1d71a8db2d5": {
      "model_module": "@jupyter-widgets/controls",
      "model_module_version": "1.1.0",
      "model_name": "ButtonModel",
      "state": {
       "button_style": "warning",
       "description": "19",
       "layout": "IPY_MODEL_0606cbc317604fbdbaea9d3fd0b2d14a",
       "style": "IPY_MODEL_90c3ed5d158c4d2c900d8754ff46a955"
      }
     },
     "b608d40edc744f46b2f44b5bded7f056": {
      "model_module": "@jupyter-widgets/controls",
      "model_module_version": "1.1.0",
      "model_name": "ButtonModel",
      "state": {
       "button_style": "warning",
       "description": "15",
       "layout": "IPY_MODEL_f97c294201b54222ba61666297c61c75",
       "style": "IPY_MODEL_b275f2c1a1064bbdbafe507061b80ae1"
      }
     },
     "b621423f7aa840fbbe083b264b449a80": {
      "model_module": "@jupyter-widgets/controls",
      "model_module_version": "1.1.0",
      "model_name": "ButtonModel",
      "state": {
       "button_style": "warning",
       "description": "28",
       "layout": "IPY_MODEL_0606cbc317604fbdbaea9d3fd0b2d14a",
       "style": "IPY_MODEL_38b7cf5ae7f749dba2ea1eec124f16bd"
      }
     },
     "b6409381868143e489ebd312db5462b0": {
      "model_module": "@jupyter-widgets/controls",
      "model_module_version": "1.1.0",
      "model_name": "DescriptionStyleModel",
      "state": {
       "description_width": ""
      }
     },
     "b650d17bc2364f1c9c4d413903c2ca19": {
      "model_module": "@jupyter-widgets/controls",
      "model_module_version": "1.1.0",
      "model_name": "ButtonStyleModel",
      "state": {}
     },
     "b652089b6741416296b5c51a1244618a": {
      "model_module": "@jupyter-widgets/controls",
      "model_module_version": "1.1.0",
      "model_name": "IntSliderModel",
      "state": {
       "layout": "IPY_MODEL_cae181cfcfcf4e66935bb09113f01321",
       "style": "IPY_MODEL_e1987f86e03b4232a96946c152f059cb"
      }
     },
     "b663f57b9ed4440d95f4921ed69d7e25": {
      "model_module": "@jupyter-widgets/base",
      "model_module_version": "1.0.0",
      "model_name": "LayoutModel",
      "state": {
       "flex": "2 1 auto",
       "width": "auto"
      }
     },
     "b678fe0199c746ff8d6d196c48a283f8": {
      "model_module": "@jupyter-widgets/base",
      "model_module_version": "1.0.0",
      "model_name": "LayoutModel",
      "state": {
       "flex": "1 1 0%",
       "width": "auto"
      }
     },
     "b697cfca1c5041fbb255168576b23944": {
      "model_module": "@jupyter-widgets/controls",
      "model_module_version": "1.1.0",
      "model_name": "ButtonStyleModel",
      "state": {}
     },
     "b698e328807e435d9ae45fda6cc1b535": {
      "model_module": "@jupyter-widgets/base",
      "model_module_version": "1.0.0",
      "model_name": "LayoutModel",
      "state": {}
     },
     "b69df4f93d994be3bddb81256ca0ce3d": {
      "model_module": "@jupyter-widgets/controls",
      "model_module_version": "1.1.0",
      "model_name": "ButtonModel",
      "state": {
       "button_style": "warning",
       "description": "14",
       "layout": "IPY_MODEL_5f4383735711415596954c7bc1a5bfd1",
       "style": "IPY_MODEL_717b52c16d6548e68d438d88298cbb28"
      }
     },
     "b6afee0ba22848ebad3a1831c931c5af": {
      "model_module": "@jupyter-widgets/base",
      "model_module_version": "1.0.0",
      "model_name": "LayoutModel",
      "state": {
       "flex": "2 1 0%",
       "width": "auto"
      }
     },
     "b6b6a44def464ab1aa69a3ddf6503e6b": {
      "model_module": "@jupyter-widgets/controls",
      "model_module_version": "1.1.0",
      "model_name": "ButtonStyleModel",
      "state": {}
     },
     "b6c3ea8f879f4b8db3a471bb91a61058": {
      "model_module": "@jupyter-widgets/base",
      "model_module_version": "1.0.0",
      "model_name": "LayoutModel",
      "state": {
       "width": "auto"
      }
     },
     "b6dcd13a9366433a8c4f1fd73ff819d9": {
      "model_module": "@jupyter-widgets/controls",
      "model_module_version": "1.1.0",
      "model_name": "ButtonModel",
      "state": {
       "button_style": "warning",
       "description": "8",
       "layout": "IPY_MODEL_86c93170059349499a5f76156cbd8cdf",
       "style": "IPY_MODEL_6ab986af3d744b8b8c10354bbf2bc8c2"
      }
     },
     "b6dd8f66ee6d4c10b9c04b11b3a65253": {
      "model_module": "@jupyter-widgets/controls",
      "model_module_version": "1.1.0",
      "model_name": "ButtonModel",
      "state": {
       "button_style": "warning",
       "description": "18",
       "layout": "IPY_MODEL_2609a17cced145ad91b86d4ddfbd3bfd",
       "style": "IPY_MODEL_33fa2122a7334531afeb6cf952e5e5a6"
      }
     },
     "b70625984d2c4f84bdbc932c68b15f51": {
      "model_module": "@jupyter-widgets/base",
      "model_module_version": "1.0.0",
      "model_name": "LayoutModel",
      "state": {
       "flex": "1 1 auto",
       "width": "auto"
      }
     },
     "b710e9985fe2464aa36c60bc30eabd46": {
      "model_module": "@jupyter-widgets/controls",
      "model_module_version": "1.1.0",
      "model_name": "LabelModel",
      "state": {
       "layout": "IPY_MODEL_a40eb1029bae4366a8dd8aa3b204f3cd",
       "style": "IPY_MODEL_684ae7d057c344dc813f5704552d30a3",
       "value": "Egg style"
      }
     },
     "b726f0cda5e7424b86e4beeecb212dfa": {
      "model_module": "@jupyter-widgets/controls",
      "model_module_version": "1.1.0",
      "model_name": "ButtonStyleModel",
      "state": {}
     },
     "b72b0d87d9a143ed92048f7e01ad886c": {
      "model_module": "@jupyter-widgets/controls",
      "model_module_version": "1.1.0",
      "model_name": "ButtonStyleModel",
      "state": {}
     },
     "b73dcd51c0a84653a2a1d0fc2da4f240": {
      "model_module": "@jupyter-widgets/base",
      "model_module_version": "1.0.0",
      "model_name": "LayoutModel",
      "state": {
       "display": "flex",
       "flex_flow": "row",
       "justify_content": "space-between"
      }
     },
     "b74e71d942724ca0b4f490c6df8307cc": {
      "model_module": "@jupyter-widgets/base",
      "model_module_version": "1.0.0",
      "model_name": "LayoutModel",
      "state": {
       "flex": "1 1 0%",
       "width": "auto"
      }
     },
     "b76fff8d717b4362b1f5c48ee7879997": {
      "model_module": "@jupyter-widgets/controls",
      "model_module_version": "1.1.0",
      "model_name": "BoxModel",
      "state": {
       "children": [
        "IPY_MODEL_c3b6e545e30a46daae70a4c8e41f105e",
        "IPY_MODEL_4201890427b94b758e9eb886af0d7566"
       ],
       "layout": "IPY_MODEL_e32e1ba49d54431a8b33e2de4ff14642"
      }
     },
     "b7bda0181ed74aaebba7bceb713ff499": {
      "model_module": "@jupyter-widgets/controls",
      "model_module_version": "1.1.0",
      "model_name": "ButtonModel",
      "state": {
       "button_style": "warning",
       "description": "19",
       "layout": "IPY_MODEL_1d10072127cb4a32968374fdb7bd2479",
       "style": "IPY_MODEL_29dc52c93a99467b8f7a8107e8a781b7"
      }
     },
     "b7f1ca167c53428e8ff7351cc4f47999": {
      "model_module": "@jupyter-widgets/base",
      "model_module_version": "1.0.0",
      "model_name": "LayoutModel",
      "state": {}
     },
     "b81f61ee9c4543a681b7e932e05e39af": {
      "model_module": "@jupyter-widgets/base",
      "model_module_version": "1.0.0",
      "model_name": "LayoutModel",
      "state": {
       "flex": "1 1 0%",
       "width": "auto"
      }
     },
     "b83593521e3e4761b8508f64df7b531f": {
      "model_module": "@jupyter-widgets/controls",
      "model_module_version": "1.1.0",
      "model_name": "ButtonModel",
      "state": {
       "button_style": "warning",
       "description": "20",
       "layout": "IPY_MODEL_6abcd37e41034b2ca8a2c4c4ba0dca11",
       "style": "IPY_MODEL_fa4b83655f854ac481b05c1380755b9e"
      }
     },
     "b83d9914936d451a9ee0b83119aa6cf4": {
      "model_module": "@jupyter-widgets/controls",
      "model_module_version": "1.1.0",
      "model_name": "ButtonStyleModel",
      "state": {}
     },
     "b8527af0a2234a2b8fa79369cf18ffb4": {
      "model_module": "@jupyter-widgets/controls",
      "model_module_version": "1.1.0",
      "model_name": "ButtonModel",
      "state": {
       "button_style": "warning",
       "description": "9",
       "layout": "IPY_MODEL_9886a36bb356420e9e4d3c7cdd66e238",
       "style": "IPY_MODEL_e3b786852973464e91b5eab922492e10"
      }
     },
     "b869727d8bf7400f976de1ceb0ce1c02": {
      "model_module": "@jupyter-widgets/controls",
      "model_module_version": "1.1.0",
      "model_name": "ButtonModel",
      "state": {
       "button_style": "danger",
       "description": "battery",
       "layout": "IPY_MODEL_6d65ff560e8b43efb20fdc71bbb7abd6",
       "style": "IPY_MODEL_f3fc08e247f443cf9a9b0df3229d465e"
      }
     },
     "b8b2e26eee694c49bf33fc06446868e5": {
      "model_module": "@jupyter-widgets/controls",
      "model_module_version": "1.1.0",
      "model_name": "ButtonStyleModel",
      "state": {}
     },
     "b8d43783d318451abf3a8c392b7fcdb8": {
      "model_module": "@jupyter-widgets/base",
      "model_module_version": "1.0.0",
      "model_name": "LayoutModel",
      "state": {
       "flex": "3 1 0%",
       "width": "auto"
      }
     },
     "b8ef56f500494ebf871ba31a909b6853": {
      "model_module": "@jupyter-widgets/controls",
      "model_module_version": "1.1.0",
      "model_name": "ButtonModel",
      "state": {
       "button_style": "warning",
       "description": "14",
       "layout": "IPY_MODEL_0606cbc317604fbdbaea9d3fd0b2d14a",
       "style": "IPY_MODEL_391f918c631c42b0bc0892bc5ab76f63"
      }
     },
     "b8f149cc7a21471bbd1888c561e55ed3": {
      "model_module": "@jupyter-widgets/controls",
      "model_module_version": "1.1.0",
      "model_name": "ButtonStyleModel",
      "state": {}
     },
     "b90b753d4b5e4db382fa937aaa4ba27e": {
      "model_module": "@jupyter-widgets/controls",
      "model_module_version": "1.1.0",
      "model_name": "ButtonModel",
      "state": {
       "button_style": "warning",
       "description": "28",
       "layout": "IPY_MODEL_616560d2e26b4bee8b7c903f483241f8",
       "style": "IPY_MODEL_6eb4d63d00884fb990eb7fbc06bf0d40"
      }
     },
     "b9153e3408194d698d9d52fa4fb5585f": {
      "model_module": "@jupyter-widgets/controls",
      "model_module_version": "1.1.0",
      "model_name": "ButtonModel",
      "state": {
       "button_style": "warning",
       "description": "8",
       "layout": "IPY_MODEL_9886a36bb356420e9e4d3c7cdd66e238",
       "style": "IPY_MODEL_46405c0615ed40688982ef199149ee0a"
      }
     },
     "b9232085945d49098837fb054bc470d4": {
      "model_module": "@jupyter-widgets/controls",
      "model_module_version": "1.1.0",
      "model_name": "ButtonStyleModel",
      "state": {}
     },
     "b93185083a8d4441acf03d604ea3568d": {
      "model_module": "@jupyter-widgets/base",
      "model_module_version": "1.0.0",
      "model_name": "LayoutModel",
      "state": {}
     },
     "b9357ce8cc4644218c93401536e6b60b": {
      "model_module": "@jupyter-widgets/base",
      "model_module_version": "1.0.0",
      "model_name": "LayoutModel",
      "state": {
       "align_items": "stretch",
       "display": "flex",
       "flex_flow": "row",
       "width": "70%"
      }
     },
     "b937c41330af4033be3a34a1ad2cd48e": {
      "model_module": "@jupyter-widgets/controls",
      "model_module_version": "1.1.0",
      "model_name": "ButtonModel",
      "state": {
       "button_style": "warning",
       "description": "17",
       "layout": "IPY_MODEL_1d10072127cb4a32968374fdb7bd2479",
       "style": "IPY_MODEL_e73dc4739bca4f58abe42c1e065691e6"
      }
     },
     "b9700717fb8e4284b0be3cbd7eee7a10": {
      "model_module": "@jupyter-widgets/controls",
      "model_module_version": "1.1.0",
      "model_name": "ButtonStyleModel",
      "state": {}
     },
     "b99b68da767946949d1d26a178669bd6": {
      "model_module": "@jupyter-widgets/base",
      "model_module_version": "1.0.0",
      "model_name": "LayoutModel",
      "state": {
       "display": "flex",
       "flex_flow": "row",
       "justify_content": "space-between"
      }
     },
     "b99cb7d29769435d8dea0a6e1c0f8aef": {
      "model_module": "@jupyter-widgets/controls",
      "model_module_version": "1.1.0",
      "model_name": "DescriptionStyleModel",
      "state": {
       "description_width": ""
      }
     },
     "b9d0e01c61a6427997967f639a546da2": {
      "model_module": "@jupyter-widgets/controls",
      "model_module_version": "1.1.0",
      "model_name": "ButtonModel",
      "state": {
       "button_style": "warning",
       "description": "29",
       "layout": "IPY_MODEL_86c93170059349499a5f76156cbd8cdf",
       "style": "IPY_MODEL_4ed86549c73c4e9aa2dd9a5afeb4fba8"
      }
     },
     "b9d8eeee82164521af34d4516aef0a9d": {
      "model_module": "@jupyter-widgets/base",
      "model_module_version": "1.0.0",
      "model_name": "LayoutModel",
      "state": {}
     },
     "b9f09ff8fc2346febd1a2b601cbdfbf0": {
      "model_module": "@jupyter-widgets/controls",
      "model_module_version": "1.1.0",
      "model_name": "ButtonModel",
      "state": {
       "button_style": "warning",
       "description": "27",
       "layout": "IPY_MODEL_0606cbc317604fbdbaea9d3fd0b2d14a",
       "style": "IPY_MODEL_30919d2b0caa4421b77f35958733290a"
      }
     },
     "b9f2c8dcffa14cae87cfa14292703498": {
      "model_module": "@jupyter-widgets/base",
      "model_module_version": "1.0.0",
      "model_name": "LayoutModel",
      "state": {}
     },
     "ba004fb6b8364051aade7887b32e62e8": {
      "model_module": "@jupyter-widgets/controls",
      "model_module_version": "1.1.0",
      "model_name": "ButtonModel",
      "state": {
       "button_style": "warning",
       "description": "8",
       "layout": "IPY_MODEL_4f96c205ba6c46e196e16241cfe4cf24",
       "style": "IPY_MODEL_c4f7a4f810a2400ebb3d1ac5c5a41b53"
      }
     },
     "ba1e2252cd7e4bdabef924ffea9b3850": {
      "model_module": "@jupyter-widgets/controls",
      "model_module_version": "1.1.0",
      "model_name": "ButtonStyleModel",
      "state": {}
     },
     "ba2b19d86e6246f5af39469f571e4ec2": {
      "model_module": "@jupyter-widgets/controls",
      "model_module_version": "1.1.0",
      "model_name": "VBoxModel",
      "state": {
       "children": [
        "IPY_MODEL_8373af82da714922bf254282a91beb63",
        "IPY_MODEL_a730e19df990404f996b1750094c4eed"
       ],
       "layout": "IPY_MODEL_4c30e2d88a8c43c19653132eb8ba3f0f"
      }
     },
     "ba5eb26a607e4ea1b83850dfd015637b": {
      "model_module": "@jupyter-widgets/controls",
      "model_module_version": "1.1.0",
      "model_name": "ButtonModel",
      "state": {
       "button_style": "danger",
       "description": "horse",
       "layout": "IPY_MODEL_f36062d1658742dbab9032aaa90395e7",
       "style": "IPY_MODEL_bcc1dd48edd14714a5df274225367625"
      }
     },
     "ba6540b88e9e483ab57b8dd16c25ca49": {
      "model_module": "@jupyter-widgets/controls",
      "model_module_version": "1.1.0",
      "model_name": "BoxModel",
      "state": {
       "children": [
        "IPY_MODEL_abc99d5205ef4185b8157bd7c65fc2e9",
        "IPY_MODEL_e50d384c210749bcb8c3182a6e867248",
        "IPY_MODEL_61b4311d5dfd4cc89d44faf332b54f9a"
       ],
       "layout": "IPY_MODEL_0588d501e6124026b9e6287a44746fa2"
      }
     },
     "ba65aeae1de343c8b5c8ce93684f30f4": {
      "model_module": "@jupyter-widgets/base",
      "model_module_version": "1.0.0",
      "model_name": "LayoutModel",
      "state": {}
     },
     "ba71245e4d174d00a93f1aa960e2ccad": {
      "model_module": "@jupyter-widgets/controls",
      "model_module_version": "1.1.0",
      "model_name": "ButtonStyleModel",
      "state": {}
     },
     "ba757ad073af44e7979f4f472c41514d": {
      "model_module": "@jupyter-widgets/controls",
      "model_module_version": "1.1.0",
      "model_name": "ButtonStyleModel",
      "state": {}
     },
     "bab6781bfb6743f58ec72f5019379bb3": {
      "model_module": "@jupyter-widgets/controls",
      "model_module_version": "1.1.0",
      "model_name": "ButtonModel",
      "state": {
       "button_style": "danger",
       "description": "weight=1, auto",
       "layout": "IPY_MODEL_fa5d269befd54d458a204f1c8b93f3d2",
       "style": "IPY_MODEL_ea5109bd5bf84d18be80235d361a894e"
      }
     },
     "baccb346dd5b4b31ad4d58991fcc5eae": {
      "model_module": "@jupyter-widgets/controls",
      "model_module_version": "1.1.0",
      "model_name": "ButtonStyleModel",
      "state": {}
     },
     "bad6e3deb0fe45b29050e99562d175fc": {
      "model_module": "@jupyter-widgets/controls",
      "model_module_version": "1.1.0",
      "model_name": "ButtonModel",
      "state": {
       "button_style": "warning",
       "description": "22",
       "layout": "IPY_MODEL_1d10072127cb4a32968374fdb7bd2479",
       "style": "IPY_MODEL_274f532b51e543e78637abc1d4f13634"
      }
     },
     "bb00187efa354c8e99ac8b21c9bfe3d7": {
      "model_module": "@jupyter-widgets/controls",
      "model_module_version": "1.1.0",
      "model_name": "LabelModel",
      "state": {
       "layout": "IPY_MODEL_88209d51c3534e5d99a7593dc2bc59bc",
       "style": "IPY_MODEL_c5b3d6830837488bb0c1bf9e08fef8c9",
       "value": "Information"
      }
     },
     "bb36a910c3624f46a5cf986bbeff7d8f": {
      "model_module": "@jupyter-widgets/base",
      "model_module_version": "1.0.0",
      "model_name": "LayoutModel",
      "state": {
       "align_items": "stretch",
       "border": "solid",
       "display": "flex",
       "flex_flow": "row",
       "width": "70%"
      }
     },
     "bb3b5f4744c24c079f4181ef7ff28e4b": {
      "model_module": "@jupyter-widgets/controls",
      "model_module_version": "1.1.0",
      "model_name": "ButtonStyleModel",
      "state": {}
     },
     "bb3d20ae02294a0a9e44b7307c630822": {
      "model_module": "@jupyter-widgets/controls",
      "model_module_version": "1.1.0",
      "model_name": "ButtonModel",
      "state": {
       "button_style": "warning",
       "description": "5",
       "layout": "IPY_MODEL_2609a17cced145ad91b86d4ddfbd3bfd",
       "style": "IPY_MODEL_13812f4dcf0b406b9069d1ee3d478a18"
      }
     },
     "bb5eed465b0341449e4db8e9d2178738": {
      "model_module": "@jupyter-widgets/controls",
      "model_module_version": "1.1.0",
      "model_name": "ButtonModel",
      "state": {
       "button_style": "warning",
       "description": "39",
       "layout": "IPY_MODEL_5f4383735711415596954c7bc1a5bfd1",
       "style": "IPY_MODEL_7fba1765c57e46ec89864c810322a1ef"
      }
     },
     "bb6fcb66c0314bfa9ddf3aad7658001b": {
      "model_module": "@jupyter-widgets/controls",
      "model_module_version": "1.1.0",
      "model_name": "ButtonModel",
      "state": {
       "button_style": "warning",
       "description": "7",
       "layout": "IPY_MODEL_0606cbc317604fbdbaea9d3fd0b2d14a",
       "style": "IPY_MODEL_3f158a72be194a96bca079dd235edc48"
      }
     },
     "bb9ca61b9b4b431e8e65b87a84b2bc25": {
      "model_module": "@jupyter-widgets/controls",
      "model_module_version": "1.1.0",
      "model_name": "ButtonModel",
      "state": {
       "description": "correct",
       "layout": "IPY_MODEL_5c48ef83f2d949b3843b9f422fb14214",
       "style": "IPY_MODEL_88719c82620c4dea9e894419fcd95eec"
      }
     },
     "bbb57d25730c4832bb28ffbb791aaa81": {
      "model_module": "@jupyter-widgets/controls",
      "model_module_version": "1.1.0",
      "model_name": "ButtonStyleModel",
      "state": {}
     },
     "bbbcf3672e0f40d0a12b4bbaa66667de": {
      "model_module": "@jupyter-widgets/base",
      "model_module_version": "1.0.0",
      "model_name": "LayoutModel",
      "state": {}
     },
     "bbeac3e81110403e82a04aeebe679555": {
      "model_module": "@jupyter-widgets/controls",
      "model_module_version": "1.1.0",
      "model_name": "ButtonModel",
      "state": {
       "description": "Another button with the same layout",
       "layout": "IPY_MODEL_448ab8f4a28842e487f4142371157af3",
       "style": "IPY_MODEL_33d4167d34d44855baed8eb24798d645"
      }
     },
     "bc0c78eab5634f8bbc35dda94e44d54f": {
      "model_module": "@jupyter-widgets/controls",
      "model_module_version": "1.1.0",
      "model_name": "ButtonModel",
      "state": {
       "button_style": "warning",
       "description": "28",
       "layout": "IPY_MODEL_9886a36bb356420e9e4d3c7cdd66e238",
       "style": "IPY_MODEL_e5ab8bd496044014892fef78a31e8e3a"
      }
     },
     "bc24aaa5ed3c42f2b6361da59bff5fa3": {
      "model_module": "@jupyter-widgets/controls",
      "model_module_version": "1.1.0",
      "model_name": "ButtonModel",
      "state": {
       "button_style": "danger",
       "description": "weight=3, auto",
       "layout": "IPY_MODEL_d6280bb050c745bfb66b612f47d980aa",
       "style": "IPY_MODEL_46f5a6d4d51743aba774b33a5a046e89"
      }
     },
     "bc26d7e2dd444f92a32b2e542ddbc47b": {
      "model_module": "@jupyter-widgets/base",
      "model_module_version": "1.0.0",
      "model_name": "LayoutModel",
      "state": {
       "flex": "1 1 auto",
       "width": "auto"
      }
     },
     "bc47bdb1ebc14ef79f50ac9be3a3c251": {
      "model_module": "@jupyter-widgets/controls",
      "model_module_version": "1.1.0",
      "model_name": "SliderStyleModel",
      "state": {
       "description_width": ""
      }
     },
     "bc549aad7c2249cd99841f4888f102d0": {
      "model_module": "@jupyter-widgets/controls",
      "model_module_version": "1.1.0",
      "model_name": "ButtonModel",
      "state": {
       "button_style": "warning",
       "description": "13",
       "layout": "IPY_MODEL_6abcd37e41034b2ca8a2c4c4ba0dca11",
       "style": "IPY_MODEL_e7f19b67151b4abc926718524ff82523"
      }
     },
     "bc7d0c0b023045b3a501e2a6839ca1c1": {
      "model_module": "@jupyter-widgets/controls",
      "model_module_version": "1.1.0",
      "model_name": "ButtonModel",
      "state": {
       "description": "weight=2",
       "layout": "IPY_MODEL_99a0e854a536443284d704b58297e8c0",
       "style": "IPY_MODEL_1800557ab31a444699da0f034c2a14c0"
      }
     },
     "bc8e6770c5fc4d3181b1f1e5df7c8b13": {
      "model_module": "@jupyter-widgets/controls",
      "model_module_version": "1.1.0",
      "model_name": "ButtonModel",
      "state": {
       "description": "weight=1",
       "layout": "IPY_MODEL_14ae5064ebed449796fecc9531bd8c29",
       "style": "IPY_MODEL_96e22eaa17824a6d8daa64afc2598352"
      }
     },
     "bcc1dd48edd14714a5df274225367625": {
      "model_module": "@jupyter-widgets/controls",
      "model_module_version": "1.1.0",
      "model_name": "ButtonStyleModel",
      "state": {}
     },
     "bce73fd260b2447d869029891eec9a22": {
      "model_module": "@jupyter-widgets/controls",
      "model_module_version": "1.1.0",
      "model_name": "ButtonModel",
      "state": {
       "button_style": "warning",
       "description": "16",
       "layout": "IPY_MODEL_2609a17cced145ad91b86d4ddfbd3bfd",
       "style": "IPY_MODEL_1a7c178dfb5842ae8211b2aa41f695e9"
      }
     },
     "bcfd6b1a03d84bfb82e2fcdba2f6236f": {
      "model_module": "@jupyter-widgets/controls",
      "model_module_version": "1.1.0",
      "model_name": "ButtonModel",
      "state": {
       "button_style": "warning",
       "description": "18",
       "layout": "IPY_MODEL_616560d2e26b4bee8b7c903f483241f8",
       "style": "IPY_MODEL_472d56b85109477eb9d55f3944d564d0"
      }
     },
     "bd686e14d97b4e80bda8fbfa545f7718": {
      "model_module": "@jupyter-widgets/controls",
      "model_module_version": "1.1.0",
      "model_name": "ButtonModel",
      "state": {
       "button_style": "warning",
       "description": "2",
       "layout": "IPY_MODEL_5a006e2933db480cbe6187ccadf63fd7",
       "style": "IPY_MODEL_e50032b73b5b4fad971fc64818142722"
      }
     },
     "bd72d3a1d7bc4097b11afceb0c4f40e7": {
      "model_module": "@jupyter-widgets/controls",
      "model_module_version": "1.1.0",
      "model_name": "FloatTextModel",
      "state": {
       "layout": "IPY_MODEL_01a3993388c64649b8728fe3da21a6fb",
       "step": null,
       "style": "IPY_MODEL_72d156a193f44c53819a01b6c51c1ce9"
      }
     },
     "bd783b16766f42649897adb9e0a390f7": {
      "model_module": "@jupyter-widgets/controls",
      "model_module_version": "1.1.0",
      "model_name": "ButtonModel",
      "state": {
       "button_style": "danger",
       "description": "correct",
       "layout": "IPY_MODEL_3f49a64624264d8abe1a00f80a342c21",
       "style": "IPY_MODEL_0dae29a44c6640a38520eda3e76412bd"
      }
     },
     "bdc14834747f418eace27551f596f8f7": {
      "model_module": "@jupyter-widgets/controls",
      "model_module_version": "1.1.0",
      "model_name": "ButtonModel",
      "state": {
       "description": "weight=1",
       "layout": "IPY_MODEL_f8bea1c4dd1a4f2ca827a68b32efe6dc",
       "style": "IPY_MODEL_6c3ad1bf79c24d088f800daae511c31c"
      }
     },
     "bdd89e496fe346e49aea166100c855c7": {
      "model_module": "@jupyter-widgets/base",
      "model_module_version": "1.0.0",
      "model_name": "LayoutModel",
      "state": {}
     },
     "bdf28fcc8c174c138f8610447365eff8": {
      "model_module": "@jupyter-widgets/base",
      "model_module_version": "1.0.0",
      "model_name": "LayoutModel",
      "state": {}
     },
     "be02770dc1ee48499975141129ed7dd8": {
      "model_module": "@jupyter-widgets/base",
      "model_module_version": "1.0.0",
      "model_name": "LayoutModel",
      "state": {}
     },
     "be4515df246d4265ac3c61b12d06b658": {
      "model_module": "@jupyter-widgets/base",
      "model_module_version": "1.0.0",
      "model_name": "LayoutModel",
      "state": {
       "flex": "1 1 0%",
       "width": "auto"
      }
     },
     "be64f14ef5c541beb40fb63b319dd612": {
      "model_module": "@jupyter-widgets/base",
      "model_module_version": "1.0.0",
      "model_name": "LayoutModel",
      "state": {}
     },
     "be91468d6c474a0dbf8e20e94a391fa5": {
      "model_module": "@jupyter-widgets/controls",
      "model_module_version": "1.1.0",
      "model_name": "ButtonStyleModel",
      "state": {}
     },
     "beb05d6038b5491bb37b246e1e5cebd1": {
      "model_module": "@jupyter-widgets/controls",
      "model_module_version": "1.1.0",
      "model_name": "ButtonStyleModel",
      "state": {}
     },
     "bec71ceaf71f4da48866ad2f6bee998f": {
      "model_module": "@jupyter-widgets/controls",
      "model_module_version": "1.1.0",
      "model_name": "ButtonModel",
      "state": {
       "description": "weight=2",
       "layout": "IPY_MODEL_62de4449499543daafa71cb4128f45c7",
       "style": "IPY_MODEL_77ab81c3ed6b45c9b47366651fa35afa"
      }
     },
     "bef78bcc7650481384710763f5f75e8e": {
      "model_module": "@jupyter-widgets/controls",
      "model_module_version": "1.1.0",
      "model_name": "ButtonStyleModel",
      "state": {}
     },
     "bf10bd8487b144718fad99bdb8b4c21a": {
      "model_module": "@jupyter-widgets/base",
      "model_module_version": "1.0.0",
      "model_name": "LayoutModel",
      "state": {}
     },
     "bf3ec2492b7143898863d73bbe38c47f": {
      "model_module": "@jupyter-widgets/controls",
      "model_module_version": "1.1.0",
      "model_name": "ButtonModel",
      "state": {
       "button_style": "danger",
       "description": "staple",
       "layout": "IPY_MODEL_b552cfe26e0c43508b1080ce200578bd",
       "style": "IPY_MODEL_1aed087cd73242ab94ad12d4a0181eab"
      }
     },
     "bf44b9e7dd994727b55bf414aa285aa4": {
      "model_module": "@jupyter-widgets/controls",
      "model_module_version": "1.1.0",
      "model_name": "ButtonStyleModel",
      "state": {}
     },
     "bf7661230e434292bce2b66bd07e367f": {
      "model_module": "@jupyter-widgets/base",
      "model_module_version": "1.0.0",
      "model_name": "LayoutModel",
      "state": {
       "flex": "2 1 auto",
       "width": "auto"
      }
     },
     "bf77aa6cf66342f58a27a824e3c27303": {
      "model_module": "@jupyter-widgets/base",
      "model_module_version": "1.0.0",
      "model_name": "LayoutModel",
      "state": {
       "border": "3px solid black",
       "display": "flex",
       "height": "",
       "overflow_x": "scroll",
       "width": "500px"
      }
     },
     "c00543bc12bc43acae052bd2c71782c6": {
      "model_module": "@jupyter-widgets/controls",
      "model_module_version": "1.1.0",
      "model_name": "ButtonModel",
      "state": {
       "button_style": "warning",
       "description": "10",
       "layout": "IPY_MODEL_1d10072127cb4a32968374fdb7bd2479",
       "style": "IPY_MODEL_924d95bfd81c4cdcabde80b4a2f9ee25"
      }
     },
     "c0b5aac8235c42a0928a678a81b26c23": {
      "model_module": "@jupyter-widgets/base",
      "model_module_version": "1.0.0",
      "model_name": "LayoutModel",
      "state": {
       "flex": "2 1 0%",
       "width": "auto"
      }
     },
     "c0e1e4f2f7ea40ac9a155146cf79c752": {
      "model_module": "@jupyter-widgets/base",
      "model_module_version": "1.0.0",
      "model_name": "LayoutModel",
      "state": {
       "border": "3px solid black",
       "display": "flex",
       "height": "",
       "overflow_x": "scroll",
       "width": "500px"
      }
     },
     "c0eaf176e94f44d8a1a7a39d0c247562": {
      "model_module": "@jupyter-widgets/base",
      "model_module_version": "1.0.0",
      "model_name": "LayoutModel",
      "state": {
       "align_items": "stretch",
       "border": "solid",
       "display": "flex",
       "flex_flow": "column",
       "width": "50%"
      }
     },
     "c0f27d70170a43008813b2f2f6a14b80": {
      "model_module": "@jupyter-widgets/controls",
      "model_module_version": "1.1.0",
      "model_name": "ButtonStyleModel",
      "state": {}
     },
     "c0f79dd4891c40be95e3a0e4748fe7b0": {
      "model_module": "@jupyter-widgets/controls",
      "model_module_version": "1.1.0",
      "model_name": "ButtonStyleModel",
      "state": {}
     },
     "c13c701f1f5f477c8d08a5efd7485667": {
      "model_module": "@jupyter-widgets/controls",
      "model_module_version": "1.1.0",
      "model_name": "ButtonModel",
      "state": {
       "description": "weight=2,   0%",
       "layout": "IPY_MODEL_00f7870692ef428aa3c4fb5ec5f49d92",
       "style": "IPY_MODEL_8fa9290812414153af37d8db79a40731"
      }
     },
     "c161d90e584140d6a64f9ea6c5ddf2f7": {
      "model_module": "@jupyter-widgets/controls",
      "model_module_version": "1.1.0",
      "model_name": "ButtonModel",
      "state": {
       "button_style": "warning",
       "description": "17",
       "layout": "IPY_MODEL_6abcd37e41034b2ca8a2c4c4ba0dca11",
       "style": "IPY_MODEL_15041a05c8ad497c9ea549f2a342c937"
      }
     },
     "c1626c30310548b9a46e37b769da2266": {
      "model_module": "@jupyter-widgets/controls",
      "model_module_version": "1.1.0",
      "model_name": "ButtonStyleModel",
      "state": {}
     },
     "c16a7d0bb84c46a6ac020d54bc027c1b": {
      "model_module": "@jupyter-widgets/controls",
      "model_module_version": "1.1.0",
      "model_name": "ButtonStyleModel",
      "state": {}
     },
     "c1d7f71ee7b34733b2f0d0ffea3fa4bd": {
      "model_module": "@jupyter-widgets/controls",
      "model_module_version": "1.1.0",
      "model_name": "ButtonStyleModel",
      "state": {}
     },
     "c1db9f28e73642478f3ce6cb43e86182": {
      "model_module": "@jupyter-widgets/controls",
      "model_module_version": "1.1.0",
      "model_name": "ButtonModel",
      "state": {
       "button_style": "warning",
       "description": "33",
       "layout": "IPY_MODEL_0606cbc317604fbdbaea9d3fd0b2d14a",
       "style": "IPY_MODEL_23c0ba5c697d4afc97444c2a586f8004"
      }
     },
     "c1fc339d1bcf4ed8a94bd35d7f50be75": {
      "model_module": "@jupyter-widgets/controls",
      "model_module_version": "1.1.0",
      "model_name": "ButtonModel",
      "state": {
       "button_style": "warning",
       "description": "12",
       "layout": "IPY_MODEL_f97c294201b54222ba61666297c61c75",
       "style": "IPY_MODEL_97a4ab8513724ef4a49224c9495733f3"
      }
     },
     "c244b4c92e614670ab9ad69f78ea1b38": {
      "model_module": "@jupyter-widgets/controls",
      "model_module_version": "1.1.0",
      "model_name": "DropdownModel",
      "state": {
       "_options_labels": [
        "Scrambled",
        "Sunny side up",
        "Over easy"
       ],
       "index": 0,
       "layout": "IPY_MODEL_04e471f5df84465ea59b9a5b11f4bf23",
       "style": "IPY_MODEL_854847ab33a94f099e25c3da59cc715d"
      }
     },
     "c26d53b368f14ed1b9c3cd51e20a31b1": {
      "model_module": "@jupyter-widgets/controls",
      "model_module_version": "1.1.0",
      "model_name": "ButtonStyleModel",
      "state": {}
     },
     "c2841761db014c61ade8fd5734c375a6": {
      "model_module": "@jupyter-widgets/controls",
      "model_module_version": "1.1.0",
      "model_name": "VBoxModel",
      "state": {
       "children": [
        "IPY_MODEL_c292bea782e64143ae2e24b9da60a5d5",
        "IPY_MODEL_476d2dae045441c0ba5737ed482b1078"
       ],
       "layout": "IPY_MODEL_dcb8833e598e40eca38160f1863b0c8c"
      }
     },
     "c28e798b17dd4f8eaa9ade544758c1cd": {
      "model_module": "@jupyter-widgets/controls",
      "model_module_version": "1.1.0",
      "model_name": "ButtonModel",
      "state": {
       "button_style": "warning",
       "description": "37",
       "layout": "IPY_MODEL_128139c1d2f94adbaaea71294ef22ff3",
       "style": "IPY_MODEL_99adc829a3fa435aa48153aed6d8745a"
      }
     },
     "c290114a993447cbb24ea420bf73f385": {
      "model_module": "@jupyter-widgets/controls",
      "model_module_version": "1.1.0",
      "model_name": "ButtonModel",
      "state": {
       "description": "Another button with the same layout",
       "layout": "IPY_MODEL_711e60d44f0a49b1b574965a053f4010",
       "style": "IPY_MODEL_c1626c30310548b9a46e37b769da2266"
      }
     },
     "c292bea782e64143ae2e24b9da60a5d5": {
      "model_module": "@jupyter-widgets/controls",
      "model_module_version": "1.1.0",
      "model_name": "ButtonModel",
      "state": {
       "description": "correct",
       "layout": "IPY_MODEL_155e9c7830e34da9a952eb449feb7760",
       "style": "IPY_MODEL_623f97c9ada146d7a89a2fe9e9c0adc7"
      }
     },
     "c2a8a1273a5a4b68a4df8a7b6be0cd66": {
      "model_module": "@jupyter-widgets/base",
      "model_module_version": "1.0.0",
      "model_name": "LayoutModel",
      "state": {
       "flex": "1 1 auto",
       "width": "auto"
      }
     },
     "c2c56161de16416ebb6c5fff191f1b2e": {
      "model_module": "@jupyter-widgets/base",
      "model_module_version": "1.0.0",
      "model_name": "LayoutModel",
      "state": {
       "align_items": "stretch",
       "display": "flex",
       "flex_flow": "row",
       "width": "70%"
      }
     },
     "c2d578a0dad64b10b38e893df3ea8d6e": {
      "model_module": "@jupyter-widgets/base",
      "model_module_version": "1.0.0",
      "model_name": "LayoutModel",
      "state": {
       "align_items": "stretch",
       "border": "solid 2px",
       "display": "flex",
       "flex_flow": "column",
       "width": "50%"
      }
     },
     "c2ebddece7bc4287973b5ad652730a8c": {
      "model_module": "@jupyter-widgets/controls",
      "model_module_version": "1.1.0",
      "model_name": "ButtonStyleModel",
      "state": {}
     },
     "c318e8d4f19c4308a6fc5e76759b4329": {
      "model_module": "@jupyter-widgets/controls",
      "model_module_version": "1.1.0",
      "model_name": "ButtonModel",
      "state": {
       "description": "weight=1, auto",
       "layout": "IPY_MODEL_08624087733d4f5ebddedb3194975f04",
       "style": "IPY_MODEL_c0f79dd4891c40be95e3a0e4748fe7b0"
      }
     },
     "c333170c2fce40d98e1b6e4ffa03bc53": {
      "model_module": "@jupyter-widgets/controls",
      "model_module_version": "1.1.0",
      "model_name": "ButtonStyleModel",
      "state": {}
     },
     "c33bfb311300432dac45d825868cfb9a": {
      "model_module": "@jupyter-widgets/base",
      "model_module_version": "1.0.0",
      "model_name": "LayoutModel",
      "state": {}
     },
     "c3471f2d056746f099c04a0d0c7b1fa1": {
      "model_module": "@jupyter-widgets/controls",
      "model_module_version": "1.1.0",
      "model_name": "ButtonModel",
      "state": {
       "button_style": "warning",
       "description": "12",
       "layout": "IPY_MODEL_5f4383735711415596954c7bc1a5bfd1",
       "style": "IPY_MODEL_975ce34f93b743e7991a0900ff4aca50"
      }
     },
     "c3473e441f3a4a31843552fce34d01bf": {
      "model_module": "@jupyter-widgets/controls",
      "model_module_version": "1.1.0",
      "model_name": "ButtonStyleModel",
      "state": {}
     },
     "c34a296120cc4267856d966239da32e2": {
      "model_module": "@jupyter-widgets/controls",
      "model_module_version": "1.1.0",
      "model_name": "BoxModel",
      "state": {
       "children": [
        "IPY_MODEL_30ac86fb07274d679e1525fd203ba0b7",
        "IPY_MODEL_0fb7ce4244d043a09b3d975a456fae32"
       ],
       "layout": "IPY_MODEL_df42cf5042074ebeb5bb3b8015be3684"
      }
     },
     "c34ce472ab3543a18681abae8b57623d": {
      "model_module": "@jupyter-widgets/base",
      "model_module_version": "1.0.0",
      "model_name": "LayoutModel",
      "state": {
       "flex": "1 1 0%",
       "width": "auto"
      }
     },
     "c35c7c9bdd8c41af9985c6003a083f96": {
      "model_module": "@jupyter-widgets/base",
      "model_module_version": "1.0.0",
      "model_name": "LayoutModel",
      "state": {
       "height": "80px",
       "width": "50%"
      }
     },
     "c366761f53664b9b868f37fc6573d759": {
      "model_module": "@jupyter-widgets/base",
      "model_module_version": "1.0.0",
      "model_name": "LayoutModel",
      "state": {
       "width": "auto"
      }
     },
     "c393f4a90d3440c2ae259b6f1d3ad83f": {
      "model_module": "@jupyter-widgets/base",
      "model_module_version": "1.0.0",
      "model_name": "LayoutModel",
      "state": {
       "align_items": "stretch",
       "border": "solid",
       "display": "flex",
       "flex_flow": "column",
       "width": "50%"
      }
     },
     "c3b6e545e30a46daae70a4c8e41f105e": {
      "model_module": "@jupyter-widgets/controls",
      "model_module_version": "1.1.0",
      "model_name": "LabelModel",
      "state": {
       "layout": "IPY_MODEL_bdf28fcc8c174c138f8610447365eff8",
       "style": "IPY_MODEL_a45014769e53461ab3dc3e0fac70592b",
       "value": "Age of the captain"
      }
     },
     "c3e20c9dcb38482cbf206bde7ab2bcef": {
      "model_module": "@jupyter-widgets/controls",
      "model_module_version": "1.1.0",
      "model_name": "ButtonStyleModel",
      "state": {}
     },
     "c3eb310789e74ccf913210b1558aee8d": {
      "model_module": "@jupyter-widgets/controls",
      "model_module_version": "1.1.0",
      "model_name": "ButtonModel",
      "state": {
       "button_style": "warning",
       "description": "21",
       "layout": "IPY_MODEL_86c93170059349499a5f76156cbd8cdf",
       "style": "IPY_MODEL_f16528c6763648969048b081e6512640"
      }
     },
     "c3f80958372f4332b4176063cfa1823e": {
      "model_module": "@jupyter-widgets/base",
      "model_module_version": "1.0.0",
      "model_name": "LayoutModel",
      "state": {}
     },
     "c3fae98470104b9189982a8f1276f239": {
      "model_module": "@jupyter-widgets/controls",
      "model_module_version": "1.1.0",
      "model_name": "BoxModel",
      "state": {
       "children": [
        "IPY_MODEL_d04f10db99314a9dbef7a8ee63f571d4",
        "IPY_MODEL_a19e7f5d62fd4f638a483e1a15310399",
        "IPY_MODEL_99e96e53375b48f594fed5064d6d8150"
       ],
       "layout": "IPY_MODEL_89009a151da64843bc371b04ef86c0e1"
      }
     },
     "c47b9d3adf4c4c929df2ec5fc136f4de": {
      "model_module": "@jupyter-widgets/controls",
      "model_module_version": "1.1.0",
      "model_name": "ButtonModel",
      "state": {
       "button_style": "warning",
       "description": "4",
       "layout": "IPY_MODEL_86c93170059349499a5f76156cbd8cdf",
       "style": "IPY_MODEL_cdd6af3e1de24e6594d67e4ef22df208"
      }
     },
     "c4cde0fc628c460397f664c2cd761f86": {
      "model_module": "@jupyter-widgets/controls",
      "model_module_version": "1.1.0",
      "model_name": "TextareaModel",
      "state": {
       "layout": "IPY_MODEL_fe5df9ccff5d496e914e9074d7640b46",
       "style": "IPY_MODEL_ddc86795151e40c79aa787eb69e17562"
      }
     },
     "c4cf81df9aff4b96af412382e9f45bad": {
      "model_module": "@jupyter-widgets/controls",
      "model_module_version": "1.1.0",
      "model_name": "BoxModel",
      "state": {
       "children": [
        "IPY_MODEL_6c2f56b174374ef28e6b3e99afbf21a2",
        "IPY_MODEL_b3ed601691d2453e8d567ed804951038",
        "IPY_MODEL_d56a85bc043242ebaa4e81e5c9279577"
       ],
       "layout": "IPY_MODEL_76f0676a30b44e5083aa1bf985263985"
      }
     },
     "c4f7a4f810a2400ebb3d1ac5c5a41b53": {
      "model_module": "@jupyter-widgets/controls",
      "model_module_version": "1.1.0",
      "model_name": "ButtonStyleModel",
      "state": {}
     },
     "c51da729f1e74d5ba585854ce2000571": {
      "model_module": "@jupyter-widgets/base",
      "model_module_version": "1.0.0",
      "model_name": "LayoutModel",
      "state": {
       "flex": "1 1 0%",
       "width": "auto"
      }
     },
     "c5429fa966b148428d8aed0fe73519a5": {
      "model_module": "@jupyter-widgets/controls",
      "model_module_version": "1.1.0",
      "model_name": "ButtonModel",
      "state": {
       "button_style": "warning",
       "description": "29",
       "layout": "IPY_MODEL_1d10072127cb4a32968374fdb7bd2479",
       "style": "IPY_MODEL_75b6fe8a59cf4b35bd79b7ef782ac8d6"
      }
     },
     "c54d1ddecc284de9aa87763bd3a92e91": {
      "model_module": "@jupyter-widgets/controls",
      "model_module_version": "1.1.0",
      "model_name": "BoxModel",
      "state": {
       "children": [
        "IPY_MODEL_f521c0b16bcd4aa9b78ebf3c2465361b",
        "IPY_MODEL_1c8a39cfc2b14f30b20e95054ca040c8",
        "IPY_MODEL_95f27b7e432d4b13968e7c211554f714",
        "IPY_MODEL_3081c8145c0146e5a3f99b3eeef79019"
       ],
       "layout": "IPY_MODEL_806ffbe54afd4193b968b1913d67126f"
      }
     },
     "c55a6591e90a4770907f7d0c3591165d": {
      "model_module": "@jupyter-widgets/base",
      "model_module_version": "1.0.0",
      "model_name": "LayoutModel",
      "state": {
       "width": "auto"
      }
     },
     "c5685b2d4a184555aff02b8d5c18bdb4": {
      "model_module": "@jupyter-widgets/base",
      "model_module_version": "1.0.0",
      "model_name": "LayoutModel",
      "state": {}
     },
     "c5723a81ec044cd88f1f638871fe6bdd": {
      "model_module": "@jupyter-widgets/controls",
      "model_module_version": "1.1.0",
      "model_name": "ButtonStyleModel",
      "state": {}
     },
     "c5808e2645674b288bf4275264bd439f": {
      "model_module": "@jupyter-widgets/controls",
      "model_module_version": "1.1.0",
      "model_name": "ButtonStyleModel",
      "state": {}
     },
     "c5b3d6830837488bb0c1bf9e08fef8c9": {
      "model_module": "@jupyter-widgets/controls",
      "model_module_version": "1.1.0",
      "model_name": "DescriptionStyleModel",
      "state": {
       "description_width": ""
      }
     },
     "c5c22adfc26e4ba18174df2a22531c0c": {
      "model_module": "@jupyter-widgets/controls",
      "model_module_version": "1.1.0",
      "model_name": "ButtonStyleModel",
      "state": {}
     },
     "c5d70bcfed9a4fabb59ad583a585726c": {
      "model_module": "@jupyter-widgets/controls",
      "model_module_version": "1.1.0",
      "model_name": "ButtonModel",
      "state": {
       "button_style": "danger",
       "description": "horse",
       "layout": "IPY_MODEL_7ff80e764e2745d9800eae1f025f64e0",
       "style": "IPY_MODEL_804fd581e0a54e0091164b7bbd7f1107"
      }
     },
     "c5fba2ce896841f7a41836bd9766daaa": {
      "model_module": "@jupyter-widgets/controls",
      "model_module_version": "1.1.0",
      "model_name": "ButtonStyleModel",
      "state": {}
     },
     "c60eaefd59c84fb1b563f4060c5b0944": {
      "model_module": "@jupyter-widgets/controls",
      "model_module_version": "1.1.0",
      "model_name": "DescriptionStyleModel",
      "state": {
       "description_width": ""
      }
     },
     "c65ad95b59e94d2f80963aa670e39fe0": {
      "model_module": "@jupyter-widgets/controls",
      "model_module_version": "1.1.0",
      "model_name": "ButtonModel",
      "state": {
       "button_style": "warning",
       "description": "24",
       "layout": "IPY_MODEL_128139c1d2f94adbaaea71294ef22ff3",
       "style": "IPY_MODEL_9267d004e12e445aaa0df7fcec5db920"
      }
     },
     "c65b1216ac0a4255b20d3366e0fe13e1": {
      "model_module": "@jupyter-widgets/base",
      "model_module_version": "1.0.0",
      "model_name": "LayoutModel",
      "state": {}
     },
     "c6a192a92b514f56b39a2234dc594661": {
      "model_module": "@jupyter-widgets/controls",
      "model_module_version": "1.1.0",
      "model_name": "ButtonModel",
      "state": {
       "button_style": "warning",
       "description": "33",
       "layout": "IPY_MODEL_9886a36bb356420e9e4d3c7cdd66e238",
       "style": "IPY_MODEL_85f87c9b2e6b430e8facde4b322db4c2"
      }
     },
     "c6c38d09747f4d2ea8122be4ef834104": {
      "model_module": "@jupyter-widgets/controls",
      "model_module_version": "1.1.0",
      "model_name": "ButtonModel",
      "state": {
       "button_style": "warning",
       "description": "13",
       "layout": "IPY_MODEL_86c93170059349499a5f76156cbd8cdf",
       "style": "IPY_MODEL_b9700717fb8e4284b0be3cbd7eee7a10"
      }
     },
     "c6f5e6732ad44628ba1148cb9ebd70cf": {
      "model_module": "@jupyter-widgets/base",
      "model_module_version": "1.0.0",
      "model_name": "LayoutModel",
      "state": {}
     },
     "c730e111152c49cb9b34fcb4965d2df5": {
      "model_module": "@jupyter-widgets/controls",
      "model_module_version": "1.1.0",
      "model_name": "ButtonStyleModel",
      "state": {}
     },
     "c732975859bd4754999810506faa7c72": {
      "model_module": "@jupyter-widgets/controls",
      "model_module_version": "1.1.0",
      "model_name": "ButtonModel",
      "state": {
       "button_style": "warning",
       "description": "5",
       "layout": "IPY_MODEL_1d10072127cb4a32968374fdb7bd2479",
       "style": "IPY_MODEL_73e40c1542e7482b802c77d7f0ebbe77"
      }
     },
     "c7338576bee04316bd2700f1c493a0f7": {
      "model_module": "@jupyter-widgets/base",
      "model_module_version": "1.0.0",
      "model_name": "LayoutModel",
      "state": {
       "flex": "1 1 auto",
       "width": "auto"
      }
     },
     "c771bd91dc5a49bbb160e4dfe4072565": {
      "model_module": "@jupyter-widgets/base",
      "model_module_version": "1.0.0",
      "model_name": "LayoutModel",
      "state": {
       "flex": "3 1 0%",
       "width": "auto"
      }
     },
     "c794f665ccf04c168d00b9b3ac6ec7f4": {
      "model_module": "@jupyter-widgets/controls",
      "model_module_version": "1.1.0",
      "model_name": "ButtonStyleModel",
      "state": {}
     },
     "c7a3967fe19844fd81d9f6f8e3057bff": {
      "model_module": "@jupyter-widgets/controls",
      "model_module_version": "1.1.0",
      "model_name": "VBoxModel",
      "state": {
       "children": [
        "IPY_MODEL_44cbef45c43747609e2dcf38d19fed93",
        "IPY_MODEL_9bb3381ccd614fa699fbfed9edd0a1a8"
       ],
       "layout": "IPY_MODEL_a0d74d1d872248738578f196d1f51958"
      }
     },
     "c8074086ec824f689954fafa5ffdfca1": {
      "model_module": "@jupyter-widgets/controls",
      "model_module_version": "1.1.0",
      "model_name": "ButtonStyleModel",
      "state": {}
     },
     "c820fe8c62c048268437e0c619a9e79d": {
      "model_module": "@jupyter-widgets/base",
      "model_module_version": "1.0.0",
      "model_name": "LayoutModel",
      "state": {}
     },
     "c82cfa5a3e934d96baf4c12f524e6a8e": {
      "model_module": "@jupyter-widgets/controls",
      "model_module_version": "1.1.0",
      "model_name": "ButtonModel",
      "state": {
       "button_style": "warning",
       "description": "32",
       "layout": "IPY_MODEL_f97c294201b54222ba61666297c61c75",
       "style": "IPY_MODEL_f37eabbab2fa42c0b8b531bc0c595c5c"
      }
     },
     "c83a93e6bf7e4b0aa98c19b57ad44474": {
      "model_module": "@jupyter-widgets/base",
      "model_module_version": "1.0.0",
      "model_name": "LayoutModel",
      "state": {
       "flex": "2 1 0%",
       "width": "auto"
      }
     },
     "c84dc9b149e145ffbd24aa1ab8e17143": {
      "model_module": "@jupyter-widgets/controls",
      "model_module_version": "1.1.0",
      "model_name": "ButtonModel",
      "state": {
       "button_style": "warning",
       "description": "36",
       "layout": "IPY_MODEL_128139c1d2f94adbaaea71294ef22ff3",
       "style": "IPY_MODEL_7c53b882f5854442ab39c296b0ce28ed"
      }
     },
     "c8929da433be4f0baecb05a4ceb0f2df": {
      "model_module": "@jupyter-widgets/controls",
      "model_module_version": "1.1.0",
      "model_name": "ButtonModel",
      "state": {
       "button_style": "warning",
       "description": "11",
       "layout": "IPY_MODEL_2609a17cced145ad91b86d4ddfbd3bfd",
       "style": "IPY_MODEL_29adffe70a9b45cdaa10c18e85821647"
      }
     },
     "c8db1d06a28647ac81f4a2f0e9005566": {
      "model_module": "@jupyter-widgets/controls",
      "model_module_version": "1.1.0",
      "model_name": "ButtonStyleModel",
      "state": {}
     },
     "c8e71425f51943adab1b135b363e23d6": {
      "model_module": "@jupyter-widgets/base",
      "model_module_version": "1.0.0",
      "model_name": "LayoutModel",
      "state": {}
     },
     "c925c91ba7a5423193e5a181c48bb9a2": {
      "model_module": "@jupyter-widgets/base",
      "model_module_version": "1.0.0",
      "model_name": "LayoutModel",
      "state": {
       "width": "auto"
      }
     },
     "c942892a05f0497abcd149ecab5dcb74": {
      "model_module": "@jupyter-widgets/base",
      "model_module_version": "1.0.0",
      "model_name": "LayoutModel",
      "state": {
       "flex": "1 1 auto",
       "width": "auto"
      }
     },
     "c95e17749b784923adaaf5f9c9141000": {
      "model_module": "@jupyter-widgets/controls",
      "model_module_version": "1.1.0",
      "model_name": "DescriptionStyleModel",
      "state": {
       "description_width": ""
      }
     },
     "c966c0eac499412d8ece09917d6648af": {
      "model_module": "@jupyter-widgets/controls",
      "model_module_version": "1.1.0",
      "model_name": "ButtonModel",
      "state": {
       "description": "battery",
       "layout": "IPY_MODEL_8c24f8fb3fd74be0b9041b9a9504d5d0",
       "style": "IPY_MODEL_d9d6d9cf19eb40308afb9afe38aa0b5c"
      }
     },
     "c979b0b239cb4a07977ee4e5ea5b91b4": {
      "model_module": "@jupyter-widgets/base",
      "model_module_version": "1.0.0",
      "model_name": "LayoutModel",
      "state": {
       "align_items": "stretch",
       "border": "solid",
       "display": "flex",
       "flex_flow": "row",
       "width": "50%"
      }
     },
     "c98a0f9631ba4ef096fdb31a7ae81e53": {
      "model_module": "@jupyter-widgets/base",
      "model_module_version": "1.0.0",
      "model_name": "LayoutModel",
      "state": {}
     },
     "c99a768ab6cf448e82f20a5d84f618c5": {
      "model_module": "@jupyter-widgets/controls",
      "model_module_version": "1.1.0",
      "model_name": "ButtonStyleModel",
      "state": {}
     },
     "c9a739cbee28411091a426761018ade4": {
      "model_module": "@jupyter-widgets/controls",
      "model_module_version": "1.1.0",
      "model_name": "ButtonStyleModel",
      "state": {}
     },
     "c9b52da5c53a4b69ba7d1f2804145b2e": {
      "model_module": "@jupyter-widgets/controls",
      "model_module_version": "1.1.0",
      "model_name": "ButtonStyleModel",
      "state": {}
     },
     "c9cfecb75a3042c5b3ff0beb78bb8351": {
      "model_module": "@jupyter-widgets/controls",
      "model_module_version": "1.1.0",
      "model_name": "ButtonStyleModel",
      "state": {}
     },
     "ca426b08b52b4f36a79df7d38082d30c": {
      "model_module": "@jupyter-widgets/controls",
      "model_module_version": "1.1.0",
      "model_name": "ButtonStyleModel",
      "state": {}
     },
     "ca7985d3abca46adb4fef796e2fe7220": {
      "model_module": "@jupyter-widgets/controls",
      "model_module_version": "1.1.0",
      "model_name": "SliderStyleModel",
      "state": {
       "description_width": ""
      }
     },
     "ca8a8a3030ab467d877534d88d392bb4": {
      "model_module": "@jupyter-widgets/controls",
      "model_module_version": "1.1.0",
      "model_name": "ButtonStyleModel",
      "state": {}
     },
     "ca926de8c083469c94ba019a063c5963": {
      "model_module": "@jupyter-widgets/controls",
      "model_module_version": "1.1.0",
      "model_name": "ButtonModel",
      "state": {
       "button_style": "warning",
       "description": "20",
       "layout": "IPY_MODEL_1d10072127cb4a32968374fdb7bd2479",
       "style": "IPY_MODEL_8d8c7b157b924cdd84b9266b217ac2b2"
      }
     },
     "caa7fa264bdb4fd680ff0b7316f30b2d": {
      "model_module": "@jupyter-widgets/controls",
      "model_module_version": "1.1.0",
      "model_name": "ButtonStyleModel",
      "state": {}
     },
     "cae181cfcfcf4e66935bb09113f01321": {
      "model_module": "@jupyter-widgets/base",
      "model_module_version": "1.0.0",
      "model_name": "LayoutModel",
      "state": {}
     },
     "cb112bfe245045098f5777e8302a6ba8": {
      "model_module": "@jupyter-widgets/controls",
      "model_module_version": "1.1.0",
      "model_name": "ButtonStyleModel",
      "state": {}
     },
     "cb3d6bf5a46041cd84fe51cbb9947787": {
      "model_module": "@jupyter-widgets/controls",
      "model_module_version": "1.1.0",
      "model_name": "ButtonModel",
      "state": {
       "button_style": "warning",
       "description": "6",
       "layout": "IPY_MODEL_0606cbc317604fbdbaea9d3fd0b2d14a",
       "style": "IPY_MODEL_65b4f2ee8e3c42c19915748e57f0c6eb"
      }
     },
     "cb4356fb99cd41ee878d153268c58294": {
      "model_module": "@jupyter-widgets/base",
      "model_module_version": "1.0.0",
      "model_name": "LayoutModel",
      "state": {
       "flex": "3 1 auto",
       "width": "auto"
      }
     },
     "cb71107372dc4aefbfa94c9aa2874213": {
      "model_module": "@jupyter-widgets/base",
      "model_module_version": "1.0.0",
      "model_name": "LayoutModel",
      "state": {
       "flex": "2 1 auto",
       "width": "auto"
      }
     },
     "cb97b52a89a241ecaf1e053e384f38e3": {
      "model_module": "@jupyter-widgets/controls",
      "model_module_version": "1.1.0",
      "model_name": "ButtonStyleModel",
      "state": {}
     },
     "cbc87c34e52d4979b11ef8fd73533977": {
      "model_module": "@jupyter-widgets/controls",
      "model_module_version": "1.1.0",
      "model_name": "ButtonModel",
      "state": {
       "button_style": "warning",
       "description": "2",
       "layout": "IPY_MODEL_5f4383735711415596954c7bc1a5bfd1",
       "style": "IPY_MODEL_98bb1a8b62934f5e936080c5d49a9f7a"
      }
     },
     "cbcce825d0a749deb3ea13b02998fc0d": {
      "model_module": "@jupyter-widgets/controls",
      "model_module_version": "1.1.0",
      "model_name": "ButtonModel",
      "state": {
       "description": "weight=1,   0%",
       "layout": "IPY_MODEL_08daabb49c9e492abd68dde8c1213b88",
       "style": "IPY_MODEL_9769b661da614c80ad4a339f2ad98cab"
      }
     },
     "cbdd18688f4e4ffcae35955d481de2a6": {
      "model_module": "@jupyter-widgets/controls",
      "model_module_version": "1.1.0",
      "model_name": "ButtonStyleModel",
      "state": {}
     },
     "cc01a0c729d2434ca2482d54af55a442": {
      "model_module": "@jupyter-widgets/controls",
      "model_module_version": "1.1.0",
      "model_name": "BoxModel",
      "state": {
       "children": [
        "IPY_MODEL_20650135013f4510846280487e3246aa",
        "IPY_MODEL_aecce8c9bd8c475297f73106e1747fdf",
        "IPY_MODEL_7f1d721c0ed54d7fbf83427159011d4e",
        "IPY_MODEL_876486aeb59244c897efb6e283c8ac5d",
        "IPY_MODEL_8ef1e53ffb28459cb17673ed04d84d06",
        "IPY_MODEL_f3654c91da73493ab542b694c89e0091",
        "IPY_MODEL_602e48db0c974b7bae0aa2d8a0849fdc",
        "IPY_MODEL_efb78f7738d84201b61b935d643e11f5",
        "IPY_MODEL_5daf38c4b7694d5797fc0593199b726c",
        "IPY_MODEL_35a02644407c4e9fb720163a101cbdaa",
        "IPY_MODEL_0756e959df904e5fb97dd8808eee6359",
        "IPY_MODEL_615551a14f8c401f89049ae3f744f74f",
        "IPY_MODEL_7fd25622d14d4368a9ff9e155e88d8a9",
        "IPY_MODEL_bc549aad7c2249cd99841f4888f102d0",
        "IPY_MODEL_b28d7fc26c324ec3a33c1271297427d2",
        "IPY_MODEL_136c580099bf4fe2ab9c389711cb7f6e",
        "IPY_MODEL_17b43204d68a4dfcb444d62c153a3203",
        "IPY_MODEL_c161d90e584140d6a64f9ea6c5ddf2f7",
        "IPY_MODEL_19de3b77b270454b92aa63d599f3a1e7",
        "IPY_MODEL_d02a8013f9b04bf2aa0ca8bd97be33e9",
        "IPY_MODEL_b83593521e3e4761b8508f64df7b531f",
        "IPY_MODEL_391c7e939a074961906e231916f11b2a",
        "IPY_MODEL_02aa21ddb50141f5b0c602bc71b83d62",
        "IPY_MODEL_007cdb881d7442e092bb7246e32d5adb",
        "IPY_MODEL_87e30e75e01a445785f4b0335ed09a81",
        "IPY_MODEL_10f6aaa46b614d4ebf513c6c18902dc8",
        "IPY_MODEL_919808a793a540aca87937cf59ceb1f8",
        "IPY_MODEL_6f37e9f800234188b42dcd58103b252a",
        "IPY_MODEL_2fe05fa999e64c128a5f9ed21ea514a5",
        "IPY_MODEL_86c965a6af184c689e1513437fca2fc5",
        "IPY_MODEL_ef438f1cba994c5bbc293fe13b9cf1d7",
        "IPY_MODEL_3f10ba51b1954a4fab64a12ec1aeab5d",
        "IPY_MODEL_d94ef5e09b554fe7bf6eaede5ce623e7",
        "IPY_MODEL_f4d734604fcb417ebf1cdd8406bb61e0",
        "IPY_MODEL_61c7cc7167784919b45f5acfd8409c11",
        "IPY_MODEL_91ed69a5b74a4be698e360d35133e447",
        "IPY_MODEL_404079252b864088aae4345fb24206f0",
        "IPY_MODEL_58e1dbfb102f40a88e0be2612e95cf59",
        "IPY_MODEL_1a0f09c472b345cb9e9ee3d54a664a80",
        "IPY_MODEL_521772e7dc1e439da2484b76ad0fbeec"
       ],
       "layout": "IPY_MODEL_c0e1e4f2f7ea40ac9a155146cf79c752"
      }
     },
     "cc1ceb9317804309bf47e3d73c0d4691": {
      "model_module": "@jupyter-widgets/base",
      "model_module_version": "1.0.0",
      "model_name": "LayoutModel",
      "state": {
       "align_items": "stretch",
       "border": "solid",
       "display": "flex",
       "flex_flow": "row",
       "width": "70%"
      }
     },
     "cc328e87dd3042ad9fd69f590fcad61b": {
      "model_module": "@jupyter-widgets/controls",
      "model_module_version": "1.1.0",
      "model_name": "BoxModel",
      "state": {
       "children": [
        "IPY_MODEL_b710e9985fe2464aa36c60bc30eabd46",
        "IPY_MODEL_52e4b6b6e15b43e8869732e545ac29ba"
       ],
       "layout": "IPY_MODEL_b99b68da767946949d1d26a178669bd6"
      }
     },
     "cc39d4e7a32044d59a1c3975bb34b196": {
      "model_module": "@jupyter-widgets/controls",
      "model_module_version": "1.1.0",
      "model_name": "BoxModel",
      "state": {
       "children": [
        "IPY_MODEL_efaeb1522f6f4d09ac5b18108e38e438",
        "IPY_MODEL_10efb154252045eab676fc357f71490a"
       ],
       "layout": "IPY_MODEL_9cec86147f73446a81e86fe6e7ee1f15"
      }
     },
     "cc3fd9719bee496abbf9353d6583008f": {
      "model_module": "@jupyter-widgets/controls",
      "model_module_version": "1.1.0",
      "model_name": "ButtonStyleModel",
      "state": {}
     },
     "cc54b3f8483348b58ed9e44423b67923": {
      "model_module": "@jupyter-widgets/controls",
      "model_module_version": "1.1.0",
      "model_name": "ButtonModel",
      "state": {
       "button_style": "warning",
       "description": "31",
       "layout": "IPY_MODEL_2609a17cced145ad91b86d4ddfbd3bfd",
       "style": "IPY_MODEL_4f6539573ba34b319d2488958a52ed3a"
      }
     },
     "cc6a6cb1b2d647fc844045f8c8c96d55": {
      "model_module": "@jupyter-widgets/controls",
      "model_module_version": "1.1.0",
      "model_name": "ButtonModel",
      "state": {
       "button_style": "warning",
       "description": "27",
       "layout": "IPY_MODEL_128139c1d2f94adbaaea71294ef22ff3",
       "style": "IPY_MODEL_0e1b5a8bf8fb467a8a055cd2e37ab8c5"
      }
     },
     "cccf482972fd48c384fe4733670934a4": {
      "model_module": "@jupyter-widgets/controls",
      "model_module_version": "1.1.0",
      "model_name": "ButtonStyleModel",
      "state": {}
     },
     "cd71a16913da448ea0938da61a6ada62": {
      "model_module": "@jupyter-widgets/base",
      "model_module_version": "1.0.0",
      "model_name": "LayoutModel",
      "state": {}
     },
     "cdb565fdc1764f78b8de9a262e6dde58": {
      "model_module": "@jupyter-widgets/controls",
      "model_module_version": "1.1.0",
      "model_name": "ButtonStyleModel",
      "state": {}
     },
     "cdd6af3e1de24e6594d67e4ef22df208": {
      "model_module": "@jupyter-widgets/controls",
      "model_module_version": "1.1.0",
      "model_name": "ButtonStyleModel",
      "state": {}
     },
     "ce397cb7c02d4c7a99e0502e3272eafb": {
      "model_module": "@jupyter-widgets/base",
      "model_module_version": "1.0.0",
      "model_name": "LayoutModel",
      "state": {}
     },
     "ce3d4d4011874e2b81bc99eb3a0da670": {
      "model_module": "@jupyter-widgets/controls",
      "model_module_version": "1.1.0",
      "model_name": "ButtonStyleModel",
      "state": {}
     },
     "ce41069a16ed448c8018886e9be03e93": {
      "model_module": "@jupyter-widgets/controls",
      "model_module_version": "1.1.0",
      "model_name": "ButtonModel",
      "state": {
       "button_style": "warning",
       "description": "30",
       "layout": "IPY_MODEL_4f96c205ba6c46e196e16241cfe4cf24",
       "style": "IPY_MODEL_0d0a4773ca2e41d18a6350fbcd9e7e16"
      }
     },
     "ce73c9001d9a4277bbb052b622320053": {
      "model_module": "@jupyter-widgets/controls",
      "model_module_version": "1.1.0",
      "model_name": "ButtonModel",
      "state": {
       "button_style": "warning",
       "description": "25",
       "layout": "IPY_MODEL_2609a17cced145ad91b86d4ddfbd3bfd",
       "style": "IPY_MODEL_b8f149cc7a21471bbd1888c561e55ed3"
      }
     },
     "ce792af2b56b4ad1988d0457fb07dcd4": {
      "model_module": "@jupyter-widgets/controls",
      "model_module_version": "1.1.0",
      "model_name": "IntSliderModel",
      "state": {
       "layout": "IPY_MODEL_269eb0c267404fce918df871ba200d64",
       "max": 60,
       "min": 40,
       "style": "IPY_MODEL_bc47bdb1ebc14ef79f50ac9be3a3c251",
       "value": 40
      }
     },
     "ce906dec50cf4372818971ae7938dfbe": {
      "model_module": "@jupyter-widgets/controls",
      "model_module_version": "1.1.0",
      "model_name": "ButtonModel",
      "state": {
       "description": "weight=1, auto",
       "layout": "IPY_MODEL_32c5ab0262b04ca0b5869d8dda3d60d7",
       "style": "IPY_MODEL_c8074086ec824f689954fafa5ffdfca1"
      }
     },
     "cec8938a9d4047c3bd5b27b8752112bf": {
      "model_module": "@jupyter-widgets/controls",
      "model_module_version": "1.1.0",
      "model_name": "ButtonStyleModel",
      "state": {}
     },
     "ced202b0c7694d24a0efad609b849e6f": {
      "model_module": "@jupyter-widgets/controls",
      "model_module_version": "1.1.0",
      "model_name": "ButtonModel",
      "state": {
       "button_style": "warning",
       "description": "28",
       "layout": "IPY_MODEL_128139c1d2f94adbaaea71294ef22ff3",
       "style": "IPY_MODEL_ed97b6d0c6fb41e4958fef6f2195ff47"
      }
     },
     "ceec2da372a2449697854f41e48a7ac0": {
      "model_module": "@jupyter-widgets/controls",
      "model_module_version": "1.1.0",
      "model_name": "DropdownModel",
      "state": {
       "_options_labels": [
        "Scrambled",
        "Sunny side up",
        "Over easy"
       ],
       "index": 0,
       "layout": "IPY_MODEL_c98a0f9631ba4ef096fdb31a7ae81e53",
       "style": "IPY_MODEL_aaee10a0d8854b4b8d83203b19028aa5"
      }
     },
     "ceee9d1b5e35409ea969d583c882b158": {
      "model_module": "@jupyter-widgets/controls",
      "model_module_version": "1.1.0",
      "model_name": "SliderStyleModel",
      "state": {
       "description_width": ""
      }
     },
     "ceeef5beb0de4913a41fa63b1915fb11": {
      "model_module": "@jupyter-widgets/controls",
      "model_module_version": "1.1.0",
      "model_name": "ButtonModel",
      "state": {
       "button_style": "warning",
       "description": "2",
       "layout": "IPY_MODEL_128139c1d2f94adbaaea71294ef22ff3",
       "style": "IPY_MODEL_4429b4183284446a95175a34645db501"
      }
     },
     "cf22c3804cda42efb6ab0f338aa3933e": {
      "model_module": "@jupyter-widgets/controls",
      "model_module_version": "1.1.0",
      "model_name": "ButtonModel",
      "state": {
       "layout": "IPY_MODEL_23f3fab000cb480d969a220df078970b",
       "style": "IPY_MODEL_e918bede180e477eb5144273b290898d"
      }
     },
     "cf2586039aff40ae992e1c2b5415bba3": {
      "model_module": "@jupyter-widgets/controls",
      "model_module_version": "1.1.0",
      "model_name": "ButtonModel",
      "state": {
       "description": "weight=1",
       "layout": "IPY_MODEL_76d4d4d310df41cab5230e1f722cb7a7",
       "style": "IPY_MODEL_2f644c36b4274022b9053fd3610ffcc6"
      }
     },
     "cf27c196e29e4334a21600398761d311": {
      "model_module": "@jupyter-widgets/controls",
      "model_module_version": "1.1.0",
      "model_name": "ButtonStyleModel",
      "state": {}
     },
     "cf2e13c109f2404082cbc4a570892bd3": {
      "model_module": "@jupyter-widgets/base",
      "model_module_version": "1.0.0",
      "model_name": "LayoutModel",
      "state": {}
     },
     "cf57c142eabc4d4da9889c9b8ace03b3": {
      "model_module": "@jupyter-widgets/controls",
      "model_module_version": "1.1.0",
      "model_name": "VBoxModel",
      "state": {
       "children": [
        "IPY_MODEL_ed7aafd95d624e41b4ea1259c4df0fe9",
        "IPY_MODEL_9dd86ec6beac49029edd848222fb7f4e"
       ],
       "layout": "IPY_MODEL_7d17118e60ce49cd9ff301b1b7284a3b"
      }
     },
     "cf6b6bf558bb45a4b0eede040095696f": {
      "model_module": "@jupyter-widgets/controls",
      "model_module_version": "1.1.0",
      "model_name": "ButtonModel",
      "state": {
       "description": "weight=1, _0%",
       "layout": "IPY_MODEL_3ac4b7ef92f64a1094bd8a8ea51891b0",
       "style": "IPY_MODEL_8e21b7fc0b1f42af8d76b9056afff20f"
      }
     },
     "cf785c3efccd42a6a7bafb58541b1a9c": {
      "model_module": "@jupyter-widgets/controls",
      "model_module_version": "1.1.0",
      "model_name": "ButtonStyleModel",
      "state": {}
     },
     "cf8843496ad546f7bdc99989b8ae681b": {
      "model_module": "@jupyter-widgets/base",
      "model_module_version": "1.0.0",
      "model_name": "LayoutModel",
      "state": {
       "flex": "2 1 0%",
       "width": "auto"
      }
     },
     "cfc26db413b74338a6c3c1f2d0124858": {
      "model_module": "@jupyter-widgets/controls",
      "model_module_version": "1.1.0",
      "model_name": "ButtonStyleModel",
      "state": {}
     },
     "cfc4e575bdaf4c8a9b85e1ef2eff6bd2": {
      "model_module": "@jupyter-widgets/controls",
      "model_module_version": "1.1.0",
      "model_name": "LabelModel",
      "state": {
       "layout": "IPY_MODEL_5ed9df4210aa49a0910430556b8af791",
       "style": "IPY_MODEL_42c5b4a9bec94fb5bbd57ce69e7c59f8",
       "value": "Scroll horizontally:"
      }
     },
     "d004faf9c7c141eebb9cbc186df50e39": {
      "model_module": "@jupyter-widgets/controls",
      "model_module_version": "1.1.0",
      "model_name": "ButtonStyleModel",
      "state": {}
     },
     "d019b13dd8454aefb8a9523083a10707": {
      "model_module": "@jupyter-widgets/controls",
      "model_module_version": "1.1.0",
      "model_name": "ButtonModel",
      "state": {
       "button_style": "danger",
       "description": "battery",
       "layout": "IPY_MODEL_1e1fd102735342b8b1b0c3ce484e3628",
       "style": "IPY_MODEL_74f8a3bcacd04315a6e1a354b04c91d1"
      }
     },
     "d02a8013f9b04bf2aa0ca8bd97be33e9": {
      "model_module": "@jupyter-widgets/controls",
      "model_module_version": "1.1.0",
      "model_name": "ButtonModel",
      "state": {
       "button_style": "warning",
       "description": "19",
       "layout": "IPY_MODEL_6abcd37e41034b2ca8a2c4c4ba0dca11",
       "style": "IPY_MODEL_c99a768ab6cf448e82f20a5d84f618c5"
      }
     },
     "d04f10db99314a9dbef7a8ee63f571d4": {
      "model_module": "@jupyter-widgets/controls",
      "model_module_version": "1.1.0",
      "model_name": "ButtonModel",
      "state": {
       "description": "weight=1",
       "layout": "IPY_MODEL_ae159805978e415196aeaac10d67ae27",
       "style": "IPY_MODEL_064bcdedc66840d69c61ad3a0d23e585"
      }
     },
     "d0897ed81a5e4913b7df994cceea828f": {
      "model_module": "@jupyter-widgets/controls",
      "model_module_version": "1.1.0",
      "model_name": "ButtonModel",
      "state": {
       "description": "weight=1, auto",
       "layout": "IPY_MODEL_9deb670b0f514162940b1ef064989c2e",
       "style": "IPY_MODEL_00938197fbe94dc8b7a1620ffa94307f"
      }
     },
     "d0ca2b52d44b4a0db2e4e56c73b250b2": {
      "model_module": "@jupyter-widgets/controls",
      "model_module_version": "1.1.0",
      "model_name": "ButtonModel",
      "state": {
       "button_style": "danger",
       "description": "weight=1, auto",
       "layout": "IPY_MODEL_432e9d15a70142f8acaac71593ba5abf",
       "style": "IPY_MODEL_de3dd531f747425b838828b19cf70ae3"
      }
     },
     "d0e7962f9fa64cf2a24adb2f6e797df0": {
      "model_module": "@jupyter-widgets/base",
      "model_module_version": "1.0.0",
      "model_name": "LayoutModel",
      "state": {}
     },
     "d1208f324f3949f3aab2ce4886eaafab": {
      "model_module": "@jupyter-widgets/controls",
      "model_module_version": "1.1.0",
      "model_name": "ButtonModel",
      "state": {
       "button_style": "warning",
       "description": "12",
       "layout": "IPY_MODEL_616560d2e26b4bee8b7c903f483241f8",
       "style": "IPY_MODEL_d2574c76fbae4a76be9f7b9f7d105ee0"
      }
     },
     "d143308f1a254236860ec0aa692d37e6": {
      "model_module": "@jupyter-widgets/controls",
      "model_module_version": "1.1.0",
      "model_name": "ButtonModel",
      "state": {
       "description": "weight=2",
       "layout": "IPY_MODEL_8b9ec1b49e86467186da7992d5791712",
       "style": "IPY_MODEL_aac1a3d33f0544739eeb7da1c6e25359"
      }
     },
     "d145c52b11e3418787f1f856bd47202f": {
      "model_module": "@jupyter-widgets/controls",
      "model_module_version": "1.1.0",
      "model_name": "ButtonStyleModel",
      "state": {}
     },
     "d1865f31a9d34dc6bf87fc04d3da7516": {
      "model_module": "@jupyter-widgets/base",
      "model_module_version": "1.0.0",
      "model_name": "LayoutModel",
      "state": {
       "flex": "1 1 auto",
       "width": "auto"
      }
     },
     "d1a0e19a43a649caa9d4e688a65671c7": {
      "model_module": "@jupyter-widgets/controls",
      "model_module_version": "1.1.0",
      "model_name": "DescriptionStyleModel",
      "state": {
       "description_width": ""
      }
     },
     "d2130f3e301b4cb9a4ca202a041384e6": {
      "model_module": "@jupyter-widgets/base",
      "model_module_version": "1.0.0",
      "model_name": "LayoutModel",
      "state": {
       "flex": "1",
       "width": "auto"
      }
     },
     "d217bd07b3544971987e0a0312a968bc": {
      "model_module": "@jupyter-widgets/controls",
      "model_module_version": "1.1.0",
      "model_name": "ButtonStyleModel",
      "state": {}
     },
     "d250bd0020c849199e36e36bfe03048a": {
      "model_module": "@jupyter-widgets/controls",
      "model_module_version": "1.1.0",
      "model_name": "ButtonStyleModel",
      "state": {}
     },
     "d256f0dac5ad4bc586eab51d8c225733": {
      "model_module": "@jupyter-widgets/controls",
      "model_module_version": "1.1.0",
      "model_name": "ButtonStyleModel",
      "state": {}
     },
     "d2574c76fbae4a76be9f7b9f7d105ee0": {
      "model_module": "@jupyter-widgets/controls",
      "model_module_version": "1.1.0",
      "model_name": "ButtonStyleModel",
      "state": {}
     },
     "d26f3283151a4f21b400592f02bbc88c": {
      "model_module": "@jupyter-widgets/controls",
      "model_module_version": "1.1.0",
      "model_name": "ButtonStyleModel",
      "state": {}
     },
     "d2991a11e50948798c87bd55a6e4a4ce": {
      "model_module": "@jupyter-widgets/base",
      "model_module_version": "1.0.0",
      "model_name": "LayoutModel",
      "state": {}
     },
     "d2d3bc5d606d4f45b06968c9bddf7f77": {
      "model_module": "@jupyter-widgets/controls",
      "model_module_version": "1.1.0",
      "model_name": "ButtonStyleModel",
      "state": {}
     },
     "d37cbbd210de414a9e892cefed3dcfa2": {
      "model_module": "@jupyter-widgets/controls",
      "model_module_version": "1.1.0",
      "model_name": "BoxModel",
      "state": {
       "children": [
        "IPY_MODEL_815f2f47a1724f3c95a9b175f285bb08",
        "IPY_MODEL_1d89f5dde602459e9f6d93a616a51a20"
       ],
       "layout": "IPY_MODEL_b73dcd51c0a84653a2a1d0fc2da4f240"
      }
     },
     "d3d19375f68b421ebf6e7165def93d56": {
      "model_module": "@jupyter-widgets/controls",
      "model_module_version": "1.1.0",
      "model_name": "LabelModel",
      "state": {
       "layout": "IPY_MODEL_0bd4215af39046a28f83c35e88f1305f",
       "style": "IPY_MODEL_d1a0e19a43a649caa9d4e688a65671c7",
       "value": "Age of the captain"
      }
     },
     "d3de65e2784f40c6af94358aa9f66ede": {
      "model_module": "@jupyter-widgets/controls",
      "model_module_version": "1.1.0",
      "model_name": "ButtonStyleModel",
      "state": {}
     },
     "d3ed464c929e437aa93edacef6fc4d23": {
      "model_module": "@jupyter-widgets/controls",
      "model_module_version": "1.1.0",
      "model_name": "ButtonModel",
      "state": {
       "button_style": "warning",
       "description": "11",
       "layout": "IPY_MODEL_5a006e2933db480cbe6187ccadf63fd7",
       "style": "IPY_MODEL_ea626cfbfc094f7b9fa2f6d104e2a12b"
      }
     },
     "d416513267f64953ad5da4f0a20d2fea": {
      "model_module": "@jupyter-widgets/controls",
      "model_module_version": "1.1.0",
      "model_name": "HBoxModel",
      "state": {
       "children": [
        "IPY_MODEL_ee772e407d2349969dd0d8414ee5db08",
        "IPY_MODEL_1592ba2362844d24b2c80758c52a3762"
       ],
       "layout": "IPY_MODEL_c3f80958372f4332b4176063cfa1823e"
      }
     },
     "d4543517cb03425a8000157cb31b2a7d": {
      "model_module": "@jupyter-widgets/controls",
      "model_module_version": "1.1.0",
      "model_name": "ButtonModel",
      "state": {
       "description": "weight=2",
       "layout": "IPY_MODEL_9733885a284f4464a1a69176a9372350",
       "style": "IPY_MODEL_dce530f1198d40269bf6fbac87b9f0f8"
      }
     },
     "d45e4b1f87524089ae2742ebcade1f5a": {
      "model_module": "@jupyter-widgets/controls",
      "model_module_version": "1.1.0",
      "model_name": "ButtonModel",
      "state": {
       "button_style": "warning",
       "description": "37",
       "layout": "IPY_MODEL_5a006e2933db480cbe6187ccadf63fd7",
       "style": "IPY_MODEL_1763a642dbdc4044842191d86737be15"
      }
     },
     "d4ade93326a74168bb676c83ae04d88c": {
      "model_module": "@jupyter-widgets/controls",
      "model_module_version": "1.1.0",
      "model_name": "ButtonModel",
      "state": {
       "description": "weight=2, --0%",
       "layout": "IPY_MODEL_9c2c778c4f104e8db208d344686042ce",
       "style": "IPY_MODEL_23e5d54bbee9470fb676db64f06b05ee"
      }
     },
     "d4ce337fca8e4de5b3b3b36859687ae9": {
      "model_module": "@jupyter-widgets/controls",
      "model_module_version": "1.1.0",
      "model_name": "ButtonModel",
      "state": {
       "button_style": "danger",
       "description": "staple",
       "layout": "IPY_MODEL_c7338576bee04316bd2700f1c493a0f7",
       "style": "IPY_MODEL_0f1367eb17cc4c11b7b0ebf866002deb"
      }
     },
     "d4f9f96e80344c9187f3c89a887d5403": {
      "model_module": "@jupyter-widgets/controls",
      "model_module_version": "1.1.0",
      "model_name": "ButtonStyleModel",
      "state": {}
     },
     "d4fda9662754424a9e02e8e6c8be7336": {
      "model_module": "@jupyter-widgets/controls",
      "model_module_version": "1.1.0",
      "model_name": "ButtonModel",
      "state": {
       "button_style": "warning",
       "description": "3",
       "layout": "IPY_MODEL_9886a36bb356420e9e4d3c7cdd66e238",
       "style": "IPY_MODEL_688bce4f57c14ea6828456892463648e"
      }
     },
     "d509f45586454098ab3968398289c827": {
      "model_module": "@jupyter-widgets/controls",
      "model_module_version": "1.1.0",
      "model_name": "BoxModel",
      "state": {
       "children": [
        "IPY_MODEL_e10e18fd9eee48be85547d881905e44f",
        "IPY_MODEL_5608edf1751b4e4baad6331af07e6695",
        "IPY_MODEL_a0194b1bb95f4a7c8e818fbb6768a120"
       ],
       "layout": "IPY_MODEL_b9357ce8cc4644218c93401536e6b60b"
      }
     },
     "d52715ea8acd48ae86bf367d5c2b3560": {
      "model_module": "@jupyter-widgets/base",
      "model_module_version": "1.0.0",
      "model_name": "LayoutModel",
      "state": {}
     },
     "d54239c920de458cb68ba8afbf2ab93f": {
      "model_module": "@jupyter-widgets/controls",
      "model_module_version": "1.1.0",
      "model_name": "ButtonModel",
      "state": {
       "button_style": "warning",
       "description": "34",
       "layout": "IPY_MODEL_9886a36bb356420e9e4d3c7cdd66e238",
       "style": "IPY_MODEL_444d7511471a4d278f1182213259f637"
      }
     },
     "d54484dacc7b4f9893185985f5a65f57": {
      "model_module": "@jupyter-widgets/controls",
      "model_module_version": "1.1.0",
      "model_name": "ButtonStyleModel",
      "state": {}
     },
     "d56a85bc043242ebaa4e81e5c9279577": {
      "model_module": "@jupyter-widgets/controls",
      "model_module_version": "1.1.0",
      "model_name": "ButtonModel",
      "state": {
       "description": "weight=1",
       "layout": "IPY_MODEL_9b4ce2f6e8ef43319d291af785e84b9c",
       "style": "IPY_MODEL_9ab13f2e01fd4184a3a743db7fe1c4e0"
      }
     },
     "d5877675cac14ec2b1cd46f7532646dc": {
      "model_module": "@jupyter-widgets/controls",
      "model_module_version": "1.1.0",
      "model_name": "ButtonStyleModel",
      "state": {}
     },
     "d59075743148499d85998baa4c1610f7": {
      "model_module": "@jupyter-widgets/base",
      "model_module_version": "1.0.0",
      "model_name": "LayoutModel",
      "state": {
       "align_items": "stretch",
       "border": "solid",
       "display": "flex",
       "flex_flow": "column",
       "width": "50%"
      }
     },
     "d5d3982019cd426f9f8863ee148cc072": {
      "model_module": "@jupyter-widgets/controls",
      "model_module_version": "1.1.0",
      "model_name": "ButtonStyleModel",
      "state": {}
     },
     "d5d3f0cef2d74f83b85b1a186f9999d8": {
      "model_module": "@jupyter-widgets/controls",
      "model_module_version": "1.1.0",
      "model_name": "ButtonStyleModel",
      "state": {}
     },
     "d5e2915cc3244ff7907814687d04a2dc": {
      "model_module": "@jupyter-widgets/controls",
      "model_module_version": "1.1.0",
      "model_name": "ButtonStyleModel",
      "state": {}
     },
     "d60f94d4c3744344b3a2c95c55b386ae": {
      "model_module": "@jupyter-widgets/controls",
      "model_module_version": "1.1.0",
      "model_name": "ButtonModel",
      "state": {
       "button_style": "warning",
       "description": "39",
       "layout": "IPY_MODEL_86c93170059349499a5f76156cbd8cdf",
       "style": "IPY_MODEL_266efae4a6144a01a622001aad39c189"
      }
     },
     "d6280bb050c745bfb66b612f47d980aa": {
      "model_module": "@jupyter-widgets/base",
      "model_module_version": "1.0.0",
      "model_name": "LayoutModel",
      "state": {
       "flex": "3 1 auto",
       "width": "auto"
      }
     },
     "d67be31cbaf34c52b0229965e4d3591b": {
      "model_module": "@jupyter-widgets/controls",
      "model_module_version": "1.1.0",
      "model_name": "ButtonModel",
      "state": {
       "button_style": "warning",
       "description": "6",
       "layout": "IPY_MODEL_5a006e2933db480cbe6187ccadf63fd7",
       "style": "IPY_MODEL_a1556072d74a44afbdbabc1a193afae5"
      }
     },
     "d69a6c380c1e4267888641a0f2037cea": {
      "model_module": "@jupyter-widgets/controls",
      "model_module_version": "1.1.0",
      "model_name": "ButtonStyleModel",
      "state": {}
     },
     "d69ad8d7605e45caa6788ee65ea942a5": {
      "model_module": "@jupyter-widgets/controls",
      "model_module_version": "1.1.0",
      "model_name": "ButtonModel",
      "state": {
       "button_style": "warning",
       "description": "38",
       "layout": "IPY_MODEL_5f4383735711415596954c7bc1a5bfd1",
       "style": "IPY_MODEL_f255fecf1a0d4116acc36d066cb71000"
      }
     },
     "d6af67eeb1d24637a21c9e19e815ac2e": {
      "model_module": "@jupyter-widgets/controls",
      "model_module_version": "1.1.0",
      "model_name": "ButtonModel",
      "state": {
       "button_style": "warning",
       "description": "17",
       "layout": "IPY_MODEL_4f96c205ba6c46e196e16241cfe4cf24",
       "style": "IPY_MODEL_7a69908da6294bcda18184a59f32e719"
      }
     },
     "d6b500a58402407a9deaf84a2fd01f89": {
      "model_module": "@jupyter-widgets/base",
      "model_module_version": "1.0.0",
      "model_name": "LayoutModel",
      "state": {}
     },
     "d6cfa902402c4241a698ed4b8771fb74": {
      "model_module": "@jupyter-widgets/controls",
      "model_module_version": "1.1.0",
      "model_name": "ButtonStyleModel",
      "state": {}
     },
     "d6daf0a3280e401aa83cf70b3f49d290": {
      "model_module": "@jupyter-widgets/controls",
      "model_module_version": "1.1.0",
      "model_name": "ButtonModel",
      "state": {
       "button_style": "warning",
       "description": "0",
       "layout": "IPY_MODEL_9886a36bb356420e9e4d3c7cdd66e238",
       "style": "IPY_MODEL_02309652825941169e6a5fdb72ce08c1"
      }
     },
     "d7039aeff9cc4d7ab13b4c231b67969f": {
      "model_module": "@jupyter-widgets/base",
      "model_module_version": "1.0.0",
      "model_name": "LayoutModel",
      "state": {
       "display": "flex",
       "flex_flow": "row",
       "justify_content": "space-between"
      }
     },
     "d709757d0c4c420f9bebfd3790835cd0": {
      "model_module": "@jupyter-widgets/base",
      "model_module_version": "1.0.0",
      "model_name": "LayoutModel",
      "state": {
       "flex": "1 1 0%",
       "width": "auto"
      }
     },
     "d729dc20040e4037827adecf08dc107c": {
      "model_module": "@jupyter-widgets/base",
      "model_module_version": "1.0.0",
      "model_name": "LayoutModel",
      "state": {}
     },
     "d73b4caeebd04f0f93049cc451aad20f": {
      "model_module": "@jupyter-widgets/base",
      "model_module_version": "1.0.0",
      "model_name": "LayoutModel",
      "state": {}
     },
     "d7969816002347d4a9892b3660c2a48c": {
      "model_module": "@jupyter-widgets/controls",
      "model_module_version": "1.1.0",
      "model_name": "ButtonModel",
      "state": {
       "button_style": "warning",
       "description": "31",
       "layout": "IPY_MODEL_5f4383735711415596954c7bc1a5bfd1",
       "style": "IPY_MODEL_6a8dd20550a94aec8db67bf5516b6773"
      }
     },
     "d79d3202b19746e8a68d493468877a9c": {
      "model_module": "@jupyter-widgets/controls",
      "model_module_version": "1.1.0",
      "model_name": "ButtonStyleModel",
      "state": {}
     },
     "d7b0c35124d74f3f942b69ad7b345a8c": {
      "model_module": "@jupyter-widgets/controls",
      "model_module_version": "1.1.0",
      "model_name": "ButtonModel",
      "state": {
       "button_style": "danger",
       "description": "weight=2, _0%",
       "layout": "IPY_MODEL_2d31a7463aa24337a4fa69b00688324e",
       "style": "IPY_MODEL_8e27e8384dc64ed3a03e78aa3f980f3a"
      }
     },
     "d7bdac3e37314d799cf2f1ff10aeaaf3": {
      "model_module": "@jupyter-widgets/controls",
      "model_module_version": "1.1.0",
      "model_name": "ButtonStyleModel",
      "state": {}
     },
     "d7d461a944c4450fbfebd4c316cb1690": {
      "model_module": "@jupyter-widgets/controls",
      "model_module_version": "1.1.0",
      "model_name": "ButtonStyleModel",
      "state": {}
     },
     "d7d7f989f8b14073b38926ad47009c5a": {
      "model_module": "@jupyter-widgets/controls",
      "model_module_version": "1.1.0",
      "model_name": "LabelModel",
      "state": {
       "layout": "IPY_MODEL_2f65966be1d2480fa60e34fc61858b2f",
       "style": "IPY_MODEL_4263b6f63d1948dc8a4d6ac8de41a03d",
       "value": "A too long description"
      }
     },
     "d81499fb8151423d956219d600cec01c": {
      "model_module": "@jupyter-widgets/controls",
      "model_module_version": "1.1.0",
      "model_name": "ButtonModel",
      "state": {
       "description": "weight=1, _0%",
       "layout": "IPY_MODEL_444301f6e759411d807537612c7cfe4e",
       "style": "IPY_MODEL_5921df5ce4f9494f825da5292d84b9a6"
      }
     },
     "d81789a0ffb74a3e9d777f9ef48c6aef": {
      "model_module": "@jupyter-widgets/controls",
      "model_module_version": "1.1.0",
      "model_name": "BoxModel",
      "state": {
       "children": [
        "IPY_MODEL_b4789a123380465bac790e4d6a70efe9",
        "IPY_MODEL_5abfc6143807441ba8c66c2bb77ddcf6",
        "IPY_MODEL_3d76d1d884d3447e889221b3ec18fdfb"
       ],
       "layout": "IPY_MODEL_22341a7de1024b2d9c8dad1814b9f4fe"
      }
     },
     "d844121e15bd42a583abca13e55c0351": {
      "model_module": "@jupyter-widgets/controls",
      "model_module_version": "1.1.0",
      "model_name": "LabelModel",
      "state": {
       "layout": "IPY_MODEL_3c07956f5bad496d80dab8cd932d08af",
       "style": "IPY_MODEL_a424d34895ef4911a311dccbc51b0fcc",
       "value": "Scroll horizontally:"
      }
     },
     "d86ada56e7214aefa8ed2441bca33389": {
      "model_module": "@jupyter-widgets/base",
      "model_module_version": "1.0.0",
      "model_name": "LayoutModel",
      "state": {}
     },
     "d87741c2d4ee455d8360e382ae57ee64": {
      "model_module": "@jupyter-widgets/base",
      "model_module_version": "1.0.0",
      "model_name": "LayoutModel",
      "state": {}
     },
     "d89ada4b84384ddba96c5216db4105ac": {
      "model_module": "@jupyter-widgets/controls",
      "model_module_version": "1.1.0",
      "model_name": "ButtonModel",
      "state": {
       "button_style": "warning",
       "description": "24",
       "layout": "IPY_MODEL_f97c294201b54222ba61666297c61c75",
       "style": "IPY_MODEL_e8256baba74e414f9829ea80a7cb4521"
      }
     },
     "d8bd1ca0a0184481a45310efefcf5912": {
      "model_module": "@jupyter-widgets/controls",
      "model_module_version": "1.1.0",
      "model_name": "FloatTextModel",
      "state": {
       "layout": "IPY_MODEL_35422ae42d3044388c4d32df07152cc1",
       "step": null,
       "style": "IPY_MODEL_85b599e6e05c4f92aed14d699bd1bdbe"
      }
     },
     "d8bf78dd2ed14029a2a037d20df8d376": {
      "model_module": "@jupyter-widgets/controls",
      "model_module_version": "1.1.0",
      "model_name": "ButtonModel",
      "state": {
       "button_style": "danger",
       "description": "staple",
       "layout": "IPY_MODEL_c366761f53664b9b868f37fc6573d759",
       "style": "IPY_MODEL_33771e0b97014b8f8f212df5e06734e8"
      }
     },
     "d8e54c7d00fc4c79a19c5dae072e58cb": {
      "model_module": "@jupyter-widgets/base",
      "model_module_version": "1.0.0",
      "model_name": "LayoutModel",
      "state": {}
     },
     "d8fe3ef1a6a8463bae6d38c429f5ed42": {
      "model_module": "@jupyter-widgets/base",
      "model_module_version": "1.0.0",
      "model_name": "LayoutModel",
      "state": {}
     },
     "d90ebd533a6c44d1afc79f448f4b5f92": {
      "model_module": "@jupyter-widgets/controls",
      "model_module_version": "1.1.0",
      "model_name": "ButtonModel",
      "state": {
       "button_style": "danger",
       "description": "weight=2, auto",
       "layout": "IPY_MODEL_bf7661230e434292bce2b66bd07e367f",
       "style": "IPY_MODEL_69c6222eb0004502a35a3d1820b16f1b"
      }
     },
     "d91175e5716f4f2f8ec89f8021703c4d": {
      "model_module": "@jupyter-widgets/base",
      "model_module_version": "1.0.0",
      "model_name": "LayoutModel",
      "state": {}
     },
     "d92aeefa1a0f4b198a849e0b6e2439d5": {
      "model_module": "@jupyter-widgets/controls",
      "model_module_version": "1.1.0",
      "model_name": "ButtonModel",
      "state": {
       "button_style": "warning",
       "description": "37",
       "layout": "IPY_MODEL_86c93170059349499a5f76156cbd8cdf",
       "style": "IPY_MODEL_287006c856694fb096d94ecf36da90a9"
      }
     },
     "d93d15e3f1b24ab087bca04f7540616f": {
      "model_module": "@jupyter-widgets/controls",
      "model_module_version": "1.1.0",
      "model_name": "ButtonStyleModel",
      "state": {}
     },
     "d94ef5e09b554fe7bf6eaede5ce623e7": {
      "model_module": "@jupyter-widgets/controls",
      "model_module_version": "1.1.0",
      "model_name": "ButtonModel",
      "state": {
       "button_style": "warning",
       "description": "32",
       "layout": "IPY_MODEL_6abcd37e41034b2ca8a2c4c4ba0dca11",
       "style": "IPY_MODEL_8d835c311ef44b36a9f4b045edb1afa1"
      }
     },
     "d95edb09ffa74c2297ebb85318cf6ac8": {
      "model_module": "@jupyter-widgets/controls",
      "model_module_version": "1.1.0",
      "model_name": "ButtonStyleModel",
      "state": {}
     },
     "d976d9367c6f441ebf34397e974820cb": {
      "model_module": "@jupyter-widgets/base",
      "model_module_version": "1.0.0",
      "model_name": "LayoutModel",
      "state": {}
     },
     "d9a45cb023ea49df98748d985b1be01f": {
      "model_module": "@jupyter-widgets/base",
      "model_module_version": "1.0.0",
      "model_name": "LayoutModel",
      "state": {}
     },
     "d9a728eb75ee47fc94e6e9a7683810d8": {
      "model_module": "@jupyter-widgets/controls",
      "model_module_version": "1.1.0",
      "model_name": "ButtonModel",
      "state": {
       "description": "Another button with the same layout",
       "layout": "IPY_MODEL_f4de19e44df24e1dbb1087ba3aead169",
       "style": "IPY_MODEL_31a22b2f141e4d85aff734021e83350e"
      }
     },
     "d9c076ba47384cd99565a100c8615174": {
      "model_module": "@jupyter-widgets/controls",
      "model_module_version": "1.1.0",
      "model_name": "ButtonStyleModel",
      "state": {}
     },
     "d9c8aff44aba468e912df10cf2eb8458": {
      "model_module": "@jupyter-widgets/controls",
      "model_module_version": "1.1.0",
      "model_name": "ButtonStyleModel",
      "state": {}
     },
     "d9d6d9cf19eb40308afb9afe38aa0b5c": {
      "model_module": "@jupyter-widgets/controls",
      "model_module_version": "1.1.0",
      "model_name": "ButtonStyleModel",
      "state": {}
     },
     "d9fb14d001204e2dbd3343fed8e2ffb4": {
      "model_module": "@jupyter-widgets/controls",
      "model_module_version": "1.1.0",
      "model_name": "ButtonModel",
      "state": {
       "button_style": "danger",
       "description": "weight=1, auto",
       "layout": "IPY_MODEL_951e80738ca74fc4be5e342b2bbbf8c3",
       "style": "IPY_MODEL_f75336303e61417d96550e20c1008ca7"
      }
     },
     "da3eac9248c94e98a816fc458bff117b": {
      "model_module": "@jupyter-widgets/base",
      "model_module_version": "1.0.0",
      "model_name": "LayoutModel",
      "state": {}
     },
     "da5b8c835310404785af54d7735a77b8": {
      "model_module": "@jupyter-widgets/base",
      "model_module_version": "1.0.0",
      "model_name": "LayoutModel",
      "state": {
       "flex": "1 1 0%",
       "width": "auto"
      }
     },
     "da5cb1d245da4112bbe12e02d17c3d09": {
      "model_module": "@jupyter-widgets/controls",
      "model_module_version": "1.1.0",
      "model_name": "ButtonModel",
      "state": {
       "button_style": "danger",
       "description": "weight=1, auto",
       "layout": "IPY_MODEL_fc4e9f6c343d41cb835b3598f9c971ba",
       "style": "IPY_MODEL_964eaa593634432eaaf395b4b8845096"
      }
     },
     "daabc578e74044e9bf3c4f42e804e2e0": {
      "model_module": "@jupyter-widgets/controls",
      "model_module_version": "1.1.0",
      "model_name": "ButtonStyleModel",
      "state": {}
     },
     "db0799217826411fb3ce2ad80e56b971": {
      "model_module": "@jupyter-widgets/controls",
      "model_module_version": "1.1.0",
      "model_name": "ButtonModel",
      "state": {
       "button_style": "warning",
       "description": "33",
       "layout": "IPY_MODEL_1d10072127cb4a32968374fdb7bd2479",
       "style": "IPY_MODEL_db6fa312881140e092630c93b7ce2be8"
      }
     },
     "db6a0e3b1884462788556e5a29493de0": {
      "model_module": "@jupyter-widgets/controls",
      "model_module_version": "1.1.0",
      "model_name": "ButtonStyleModel",
      "state": {}
     },
     "db6b11f921114cf68c65b99c3a216ad2": {
      "model_module": "@jupyter-widgets/controls",
      "model_module_version": "1.1.0",
      "model_name": "ButtonStyleModel",
      "state": {}
     },
     "db6fa312881140e092630c93b7ce2be8": {
      "model_module": "@jupyter-widgets/controls",
      "model_module_version": "1.1.0",
      "model_name": "ButtonStyleModel",
      "state": {}
     },
     "db920ad3970f4522be1d0b2d2e93f719": {
      "model_module": "@jupyter-widgets/base",
      "model_module_version": "1.0.0",
      "model_name": "LayoutModel",
      "state": {
       "flex": "1 1 auto",
       "width": "auto"
      }
     },
     "dbc39a1653f2444fafedbd8a58e2bf4e": {
      "model_module": "@jupyter-widgets/controls",
      "model_module_version": "1.1.0",
      "model_name": "ButtonStyleModel",
      "state": {}
     },
     "dc1da982a0774fc2bf3085659e8b91c2": {
      "model_module": "@jupyter-widgets/controls",
      "model_module_version": "1.1.0",
      "model_name": "ButtonModel",
      "state": {
       "button_style": "danger",
       "description": "Danger Button",
       "layout": "IPY_MODEL_a29e4cd39cd8452abfb97cd38ac6a762",
       "style": "IPY_MODEL_3ffff4807c4748c28f922b129c3f0517"
      }
     },
     "dc3122a453034a2baea57b85ddc39e07": {
      "model_module": "@jupyter-widgets/controls",
      "model_module_version": "1.1.0",
      "model_name": "ButtonModel",
      "state": {
       "button_style": "warning",
       "description": "2",
       "layout": "IPY_MODEL_9886a36bb356420e9e4d3c7cdd66e238",
       "style": "IPY_MODEL_69400eacd9594846b0a32ded7a7e4fce"
      }
     },
     "dc8b24cde4834c53b3d6c10795a79e84": {
      "model_module": "@jupyter-widgets/controls",
      "model_module_version": "1.1.0",
      "model_name": "BoxModel",
      "state": {
       "children": [
        "IPY_MODEL_0b4ab1925b614077b910f8826679b886",
        "IPY_MODEL_2dd7d7d42f9b43b6984f3c80106f7d15",
        "IPY_MODEL_aa1a358d3745452f86a2e94fb54403e8"
       ],
       "layout": "IPY_MODEL_4f81ddc5ab8e4ae7b3583714235fb747"
      }
     },
     "dcb8833e598e40eca38160f1863b0c8c": {
      "model_module": "@jupyter-widgets/base",
      "model_module_version": "1.0.0",
      "model_name": "LayoutModel",
      "state": {}
     },
     "dcc5a41fa3014226a31f6dec61649d84": {
      "model_module": "@jupyter-widgets/base",
      "model_module_version": "1.0.0",
      "model_name": "LayoutModel",
      "state": {
       "flex": "1 1 0%",
       "width": "auto"
      }
     },
     "dcc7e315e2e54740bbb3be9cb89d8f54": {
      "model_module": "@jupyter-widgets/controls",
      "model_module_version": "1.1.0",
      "model_name": "ButtonModel",
      "state": {
       "button_style": "warning",
       "description": "11",
       "layout": "IPY_MODEL_616560d2e26b4bee8b7c903f483241f8",
       "style": "IPY_MODEL_94a3a145e9514fddab69938d554c007d"
      }
     },
     "dcd60e0af5074cdcafc5cf09b9a6ea9b": {
      "model_module": "@jupyter-widgets/controls",
      "model_module_version": "1.1.0",
      "model_name": "ButtonModel",
      "state": {
       "button_style": "warning",
       "description": "25",
       "layout": "IPY_MODEL_616560d2e26b4bee8b7c903f483241f8",
       "style": "IPY_MODEL_9d5c20f158ce440bbfb469d817641fe1"
      }
     },
     "dcd93826003a4c218564b24b2bd3b475": {
      "model_module": "@jupyter-widgets/controls",
      "model_module_version": "1.1.0",
      "model_name": "BoxModel",
      "state": {
       "children": [
        "IPY_MODEL_14d9f419b3cb45b1b6860ca3dfae74a6",
        "IPY_MODEL_d7b0c35124d74f3f942b69ad7b345a8c",
        "IPY_MODEL_1e5d6b6fb3614ba0aef8bf2fc89591b0"
       ],
       "layout": "IPY_MODEL_4f2ea89743eb4c2b9fb45013addd5ce5"
      }
     },
     "dce530f1198d40269bf6fbac87b9f0f8": {
      "model_module": "@jupyter-widgets/controls",
      "model_module_version": "1.1.0",
      "model_name": "ButtonStyleModel",
      "state": {}
     },
     "dd27bd04872043ba8907dbc6b9d26435": {
      "model_module": "@jupyter-widgets/controls",
      "model_module_version": "1.1.0",
      "model_name": "ButtonStyleModel",
      "state": {}
     },
     "dd37173b5c674f3782a246cab24c85b4": {
      "model_module": "@jupyter-widgets/controls",
      "model_module_version": "1.1.0",
      "model_name": "ButtonModel",
      "state": {
       "button_style": "warning",
       "description": "35",
       "layout": "IPY_MODEL_86c93170059349499a5f76156cbd8cdf",
       "style": "IPY_MODEL_6d06309ef84242af8feab43b84d41494"
      }
     },
     "dd57c989528a4f6fb244cf4f804c699a": {
      "model_module": "@jupyter-widgets/controls",
      "model_module_version": "1.1.0",
      "model_name": "ButtonModel",
      "state": {
       "button_style": "danger",
       "description": "weight=1, auto",
       "layout": "IPY_MODEL_f2983c040c034b0a83150c0772f67ca8",
       "style": "IPY_MODEL_5a8e2142ef0f48e1819b5abff28f3beb"
      }
     },
     "dd6373ff0c144825a244c58acdb2dfb6": {
      "model_module": "@jupyter-widgets/controls",
      "model_module_version": "1.1.0",
      "model_name": "ButtonStyleModel",
      "state": {}
     },
     "dd7b78a21535461ab0233a445896e1a8": {
      "model_module": "@jupyter-widgets/controls",
      "model_module_version": "1.1.0",
      "model_name": "LabelModel",
      "state": {
       "layout": "IPY_MODEL_3905a2daa1084809bcb136d6d5a6d8b3",
       "style": "IPY_MODEL_9dd98dcac8fc4d68bab541d80e8d8ccf",
       "value": "Scroll horizontally:"
      }
     },
     "dd8b8fa261c34c05bb79f708e6bf90e3": {
      "model_module": "@jupyter-widgets/controls",
      "model_module_version": "1.1.0",
      "model_name": "ButtonModel",
      "state": {
       "button_style": "warning",
       "description": "39",
       "layout": "IPY_MODEL_616560d2e26b4bee8b7c903f483241f8",
       "style": "IPY_MODEL_5e48460f0fb84a6683c77c9abcb5be56"
      }
     },
     "dd9d0e6056524230ae9e629f3802d921": {
      "model_module": "@jupyter-widgets/controls",
      "model_module_version": "1.1.0",
      "model_name": "ButtonStyleModel",
      "state": {}
     },
     "dda3ace8aee54559acb9b801a67029f1": {
      "model_module": "@jupyter-widgets/controls",
      "model_module_version": "1.1.0",
      "model_name": "ButtonModel",
      "state": {
       "description": "weight=1, _0%",
       "layout": "IPY_MODEL_0e1a099a6d154790b32fe0a2d7a3f5cb",
       "style": "IPY_MODEL_392a901bc51e49ac8aa2df0256a9ff05"
      }
     },
     "ddc86795151e40c79aa787eb69e17562": {
      "model_module": "@jupyter-widgets/controls",
      "model_module_version": "1.1.0",
      "model_name": "DescriptionStyleModel",
      "state": {
       "description_width": ""
      }
     },
     "de2208827b4f48c68915e881ca794115": {
      "model_module": "@jupyter-widgets/controls",
      "model_module_version": "1.1.0",
      "model_name": "ButtonStyleModel",
      "state": {
       "button_color": "lightgreen"
      }
     },
     "de3dd531f747425b838828b19cf70ae3": {
      "model_module": "@jupyter-widgets/controls",
      "model_module_version": "1.1.0",
      "model_name": "ButtonStyleModel",
      "state": {}
     },
     "de5468720c5e4147b117f32a5ef58ec5": {
      "model_module": "@jupyter-widgets/base",
      "model_module_version": "1.0.0",
      "model_name": "LayoutModel",
      "state": {}
     },
     "de7e613f5a934cdbae0a4868259f8ec3": {
      "model_module": "@jupyter-widgets/controls",
      "model_module_version": "1.1.0",
      "model_name": "ButtonModel",
      "state": {
       "button_style": "warning",
       "description": "6",
       "layout": "IPY_MODEL_f97c294201b54222ba61666297c61c75",
       "style": "IPY_MODEL_4c014e8be8d64bb599a70e3dce433363"
      }
     },
     "dec63361c3dc4fa09a311641f419264e": {
      "model_module": "@jupyter-widgets/controls",
      "model_module_version": "1.1.0",
      "model_name": "ButtonStyleModel",
      "state": {}
     },
     "df42cf5042074ebeb5bb3b8015be3684": {
      "model_module": "@jupyter-widgets/base",
      "model_module_version": "1.0.0",
      "model_name": "LayoutModel",
      "state": {
       "display": "flex",
       "flex_flow": "row",
       "justify_content": "space-between"
      }
     },
     "df44b5237f374cffa675cf85d17a7ac3": {
      "model_module": "@jupyter-widgets/controls",
      "model_module_version": "1.1.0",
      "model_name": "ButtonStyleModel",
      "state": {}
     },
     "df7b13f6b0754434accc7cd549ddc1cf": {
      "model_module": "@jupyter-widgets/controls",
      "model_module_version": "1.1.0",
      "model_name": "LabelModel",
      "state": {
       "layout": "IPY_MODEL_26a1c05e4a9f4711a922e8297079868d",
       "style": "IPY_MODEL_b6409381868143e489ebd312db5462b0",
       "value": "Ship size"
      }
     },
     "df8d4a944f324914add68b4179e51e42": {
      "model_module": "@jupyter-widgets/controls",
      "model_module_version": "1.1.0",
      "model_name": "ButtonModel",
      "state": {
       "description": "weight=1, auto",
       "layout": "IPY_MODEL_933deec4346f4d9f9d793241845ceae4",
       "style": "IPY_MODEL_0ff86af3c8324fcfa35a9c6475d72159"
      }
     },
     "e01fdbb62ada42deb795280e3ca1b17a": {
      "model_module": "@jupyter-widgets/controls",
      "model_module_version": "1.1.0",
      "model_name": "ButtonModel",
      "state": {
       "button_style": "warning",
       "description": "29",
       "layout": "IPY_MODEL_128139c1d2f94adbaaea71294ef22ff3",
       "style": "IPY_MODEL_e869cf6de67b4020bde5a003eef7157b"
      }
     },
     "e05fea9163154e4bbd746f6bcbc1945d": {
      "model_module": "@jupyter-widgets/controls",
      "model_module_version": "1.1.0",
      "model_name": "ButtonStyleModel",
      "state": {}
     },
     "e0744995d701473c9f4647da7c5523ca": {
      "model_module": "@jupyter-widgets/controls",
      "model_module_version": "1.1.0",
      "model_name": "ButtonStyleModel",
      "state": {}
     },
     "e078223be7034f02b412643378f797b1": {
      "model_module": "@jupyter-widgets/controls",
      "model_module_version": "1.1.0",
      "model_name": "ButtonModel",
      "state": {
       "description": "weight=1,   0%",
       "layout": "IPY_MODEL_a47d854d019343f6b9e83cc0ff305408",
       "style": "IPY_MODEL_93fda806437843e9af68305bff50e523"
      }
     },
     "e080244dd9f74b548cc3d910ac8391c9": {
      "model_module": "@jupyter-widgets/base",
      "model_module_version": "1.0.0",
      "model_name": "LayoutModel",
      "state": {}
     },
     "e0804b20489647cbb5136d7cb72fac72": {
      "model_module": "@jupyter-widgets/base",
      "model_module_version": "1.0.0",
      "model_name": "LayoutModel",
      "state": {}
     },
     "e0baf2c0d1aa4946aed8ca0fb27fdac2": {
      "model_module": "@jupyter-widgets/base",
      "model_module_version": "1.0.0",
      "model_name": "LayoutModel",
      "state": {}
     },
     "e0d6241184be4291bc01cf1dcdad0dbb": {
      "model_module": "@jupyter-widgets/controls",
      "model_module_version": "1.1.0",
      "model_name": "ButtonModel",
      "state": {
       "description": "weight=1",
       "layout": "IPY_MODEL_db920ad3970f4522be1d0b2d2e93f719",
       "style": "IPY_MODEL_08be938e8c844acaaf4af0c0c20aedba"
      }
     },
     "e0e380d5cf71415c9db8c2fc1bddaaab": {
      "model_module": "@jupyter-widgets/base",
      "model_module_version": "1.0.0",
      "model_name": "LayoutModel",
      "state": {}
     },
     "e0e610b5ae0546c7a8da1a4c7047c94c": {
      "model_module": "@jupyter-widgets/controls",
      "model_module_version": "1.1.0",
      "model_name": "VBoxModel",
      "state": {
       "children": [
        "IPY_MODEL_cfc4e575bdaf4c8a9b85e1ef2eff6bd2",
        "IPY_MODEL_9d9a3b6bdd494789bbd673d633cf04d2"
       ],
       "layout": "IPY_MODEL_068098de804041e281ea697d7ec634bd"
      }
     },
     "e10e18fd9eee48be85547d881905e44f": {
      "model_module": "@jupyter-widgets/controls",
      "model_module_version": "1.1.0",
      "model_name": "ButtonModel",
      "state": {
       "description": "weight=1, auto",
       "layout": "IPY_MODEL_0b4ea96cc88344feac5ac5bbb45a8ab3",
       "style": "IPY_MODEL_73b58b1cb3a148a88041f55d561e1969"
      }
     },
     "e17877ba99034266b5e3a8d92945bffb": {
      "model_module": "@jupyter-widgets/base",
      "model_module_version": "1.0.0",
      "model_name": "LayoutModel",
      "state": {}
     },
     "e1987f86e03b4232a96946c152f059cb": {
      "model_module": "@jupyter-widgets/controls",
      "model_module_version": "1.1.0",
      "model_name": "SliderStyleModel",
      "state": {
       "description_width": ""
      }
     },
     "e1c16e926cff471195778becd5ff2fc1": {
      "model_module": "@jupyter-widgets/controls",
      "model_module_version": "1.1.0",
      "model_name": "IntSliderModel",
      "state": {
       "description": "A too long description",
       "layout": "IPY_MODEL_a23aad3b93544613951f968d860c8ce1",
       "style": "IPY_MODEL_8bef0f64ac7744e59b5fa8fd34806ba3"
      }
     },
     "e1c4217b7eaa410a98cf3ab92fb9c96c": {
      "model_module": "@jupyter-widgets/controls",
      "model_module_version": "1.1.0",
      "model_name": "ButtonStyleModel",
      "state": {}
     },
     "e1d871f0aa07488eb8a4d6928a634b56": {
      "model_module": "@jupyter-widgets/controls",
      "model_module_version": "1.1.0",
      "model_name": "ButtonStyleModel",
      "state": {}
     },
     "e1fdda12d2ce427eb642cfb9be759557": {
      "model_module": "@jupyter-widgets/controls",
      "model_module_version": "1.1.0",
      "model_name": "ButtonModel",
      "state": {
       "button_style": "warning",
       "description": "28",
       "layout": "IPY_MODEL_4f96c205ba6c46e196e16241cfe4cf24",
       "style": "IPY_MODEL_e5a254056aac48afaf496f5b5a77fcb0"
      }
     },
     "e20de192866c4b78bc7befec8c8cbb6a": {
      "model_module": "@jupyter-widgets/controls",
      "model_module_version": "1.1.0",
      "model_name": "IntSliderModel",
      "state": {
       "description": "A too long description",
       "layout": "IPY_MODEL_b698e328807e435d9ae45fda6cc1b535",
       "style": "IPY_MODEL_52f8bb66598b4437a43f84857ecaed9d"
      }
     },
     "e226558a1d2d4eda81166b65628eb602": {
      "model_module": "@jupyter-widgets/controls",
      "model_module_version": "1.1.0",
      "model_name": "ButtonStyleModel",
      "state": {}
     },
     "e2410422c0114408812c7322137e28ce": {
      "model_module": "@jupyter-widgets/controls",
      "model_module_version": "1.1.0",
      "model_name": "ButtonModel",
      "state": {
       "description": "battery",
       "layout": "IPY_MODEL_ee4ff732528240c6a1066dd00da7384b",
       "style": "IPY_MODEL_866e541298c5452482da2e154fd86053"
      }
     },
     "e24bf6ab054c443597a9614b562b9e24": {
      "model_module": "@jupyter-widgets/controls",
      "model_module_version": "1.1.0",
      "model_name": "ButtonStyleModel",
      "state": {}
     },
     "e277e5c1f8484ca28c83adbabc8212ad": {
      "model_module": "@jupyter-widgets/base",
      "model_module_version": "1.0.0",
      "model_name": "LayoutModel",
      "state": {}
     },
     "e2c92e00770542dc94198d3bdd96f124": {
      "model_module": "@jupyter-widgets/base",
      "model_module_version": "1.0.0",
      "model_name": "LayoutModel",
      "state": {
       "flex": "2 1 0%",
       "width": "auto"
      }
     },
     "e2e86cbf765748f2bf9e1d65ec72ecf1": {
      "model_module": "@jupyter-widgets/controls",
      "model_module_version": "1.1.0",
      "model_name": "BoxModel",
      "state": {
       "children": [
        "IPY_MODEL_12e45243f7ed43f1890eff5d6883910b",
        "IPY_MODEL_ba5eb26a607e4ea1b83850dfd015637b",
        "IPY_MODEL_acc6c51a8b2343b482e52a16d1573867",
        "IPY_MODEL_ee2a933ff0d345d98c1255a2e703cf4f"
       ],
       "layout": "IPY_MODEL_33a78844da0d4177bb96a16468bea759"
      }
     },
     "e3173b72324b4fbca41b3a15df78a948": {
      "model_module": "@jupyter-widgets/base",
      "model_module_version": "1.0.0",
      "model_name": "LayoutModel",
      "state": {}
     },
     "e32cf80d4598471a8b5086e96fa00e20": {
      "model_module": "@jupyter-widgets/base",
      "model_module_version": "1.0.0",
      "model_name": "LayoutModel",
      "state": {}
     },
     "e32e1ba49d54431a8b33e2de4ff14642": {
      "model_module": "@jupyter-widgets/base",
      "model_module_version": "1.0.0",
      "model_name": "LayoutModel",
      "state": {
       "display": "flex",
       "flex_flow": "row",
       "justify_content": "space-between"
      }
     },
     "e3400dfe8e934a9fb5e80b9db63ed5ab": {
      "model_module": "@jupyter-widgets/controls",
      "model_module_version": "1.1.0",
      "model_name": "ButtonStyleModel",
      "state": {}
     },
     "e393e06fe41c4992abfab679edb305bb": {
      "model_module": "@jupyter-widgets/controls",
      "model_module_version": "1.1.0",
      "model_name": "ButtonModel",
      "state": {
       "description": "(50% width, 80px height) button",
       "layout": "IPY_MODEL_711e60d44f0a49b1b574965a053f4010",
       "style": "IPY_MODEL_39f10ac696a2444b89ff76ed0c4a1bd1"
      }
     },
     "e39c40c6423e4c6c8082d5f898f0c4a1": {
      "model_module": "@jupyter-widgets/base",
      "model_module_version": "1.0.0",
      "model_name": "LayoutModel",
      "state": {
       "align_items": "stretch",
       "border": "solid",
       "display": "flex",
       "flex_flow": "row",
       "width": "70%"
      }
     },
     "e3b786852973464e91b5eab922492e10": {
      "model_module": "@jupyter-widgets/controls",
      "model_module_version": "1.1.0",
      "model_name": "ButtonStyleModel",
      "state": {}
     },
     "e3f7c091d02642edb4be287ca1ad3b8c": {
      "model_module": "@jupyter-widgets/controls",
      "model_module_version": "1.1.0",
      "model_name": "ButtonStyleModel",
      "state": {}
     },
     "e3fd5d0847034c2d928a74b8fd574163": {
      "model_module": "@jupyter-widgets/controls",
      "model_module_version": "1.1.0",
      "model_name": "ButtonStyleModel",
      "state": {}
     },
     "e400a45357cf40c980847b905d1c0959": {
      "model_module": "@jupyter-widgets/controls",
      "model_module_version": "1.1.0",
      "model_name": "ButtonModel",
      "state": {
       "description": "weight=1",
       "layout": "IPY_MODEL_2c710044878d4a40b3e43f8b845e8aa8",
       "style": "IPY_MODEL_8671460bf97b43f39cb6a6d349ae7a4d"
      }
     },
     "e407189370b64ce186bf6798a55474cc": {
      "model_module": "@jupyter-widgets/controls",
      "model_module_version": "1.1.0",
      "model_name": "ButtonModel",
      "state": {
       "button_style": "warning",
       "description": "22",
       "layout": "IPY_MODEL_5f4383735711415596954c7bc1a5bfd1",
       "style": "IPY_MODEL_39fa633eb382419384a44d2edb4da37a"
      }
     },
     "e441e870fdec4b89930e9dee703f3c62": {
      "model_module": "@jupyter-widgets/controls",
      "model_module_version": "1.1.0",
      "model_name": "ButtonModel",
      "state": {
       "button_style": "danger",
       "description": "battery",
       "layout": "IPY_MODEL_a7a4802e7a1c4935acd9be3da0412e41",
       "style": "IPY_MODEL_02f4c79d84054cfdba76827cd4971926"
      }
     },
     "e44b857ec24b4b138b0ce5ee4df652aa": {
      "model_module": "@jupyter-widgets/controls",
      "model_module_version": "1.1.0",
      "model_name": "ButtonStyleModel",
      "state": {}
     },
     "e47052bfc9974d40b6c6b167a685065a": {
      "model_module": "@jupyter-widgets/controls",
      "model_module_version": "1.1.0",
      "model_name": "ButtonStyleModel",
      "state": {}
     },
     "e4b4f16bee534374ac503ddb8cefeb2d": {
      "model_module": "@jupyter-widgets/controls",
      "model_module_version": "1.1.0",
      "model_name": "ButtonModel",
      "state": {
       "button_style": "warning",
       "description": "23",
       "layout": "IPY_MODEL_86c93170059349499a5f76156cbd8cdf",
       "style": "IPY_MODEL_776fa7f8a04742a9a95b7c5ef8e0ba6e"
      }
     },
     "e4e3fc7718fd47229cf5d597a7ae1bc3": {
      "model_module": "@jupyter-widgets/base",
      "model_module_version": "1.0.0",
      "model_name": "LayoutModel",
      "state": {
       "flex": "1 1 auto",
       "width": "auto"
      }
     },
     "e50032b73b5b4fad971fc64818142722": {
      "model_module": "@jupyter-widgets/controls",
      "model_module_version": "1.1.0",
      "model_name": "ButtonStyleModel",
      "state": {}
     },
     "e50d384c210749bcb8c3182a6e867248": {
      "model_module": "@jupyter-widgets/controls",
      "model_module_version": "1.1.0",
      "model_name": "ButtonModel",
      "state": {
       "description": "weight=2, auto",
       "layout": "IPY_MODEL_ab6b4a75e766480799fd6f08e299fb8b",
       "style": "IPY_MODEL_b009543a3ed440f9b68b9589d75b38f0"
      }
     },
     "e51f70448dcb492a848850141ee5bc4c": {
      "model_module": "@jupyter-widgets/controls",
      "model_module_version": "1.1.0",
      "model_name": "BoxModel",
      "state": {
       "children": [
        "IPY_MODEL_756fc6ccb1fc4fa186716abeae48719b",
        "IPY_MODEL_ceec2da372a2449697854f41e48a7ac0"
       ],
       "layout": "IPY_MODEL_d7039aeff9cc4d7ab13b4c231b67969f"
      }
     },
     "e54579921ee04e35909f1e6d6273ba26": {
      "model_module": "@jupyter-widgets/controls",
      "model_module_version": "1.1.0",
      "model_name": "VBoxModel",
      "state": {
       "children": [
        "IPY_MODEL_c966c0eac499412d8ece09917d6648af",
        "IPY_MODEL_1f45a33f4e664b7bb19d5d47566140ae"
       ],
       "layout": "IPY_MODEL_bf10bd8487b144718fad99bdb8b4c21a"
      }
     },
     "e54c912e3f974588ba3fb28feeebc538": {
      "model_module": "@jupyter-widgets/controls",
      "model_module_version": "1.1.0",
      "model_name": "VBoxModel",
      "state": {
       "children": [
        "IPY_MODEL_a57541db69704071be6edad0feb7b0f5",
        "IPY_MODEL_abd17c4b3488451aa972df863d07aa76"
       ],
       "layout": "IPY_MODEL_4bcaa7baa5c64a0187d40a4e323cd872"
      }
     },
     "e5a254056aac48afaf496f5b5a77fcb0": {
      "model_module": "@jupyter-widgets/controls",
      "model_module_version": "1.1.0",
      "model_name": "ButtonStyleModel",
      "state": {}
     },
     "e5ab8bd496044014892fef78a31e8e3a": {
      "model_module": "@jupyter-widgets/controls",
      "model_module_version": "1.1.0",
      "model_name": "ButtonStyleModel",
      "state": {}
     },
     "e5b55e01d1834c3f992fb32d46bfe9e4": {
      "model_module": "@jupyter-widgets/controls",
      "model_module_version": "1.1.0",
      "model_name": "ButtonModel",
      "state": {
       "button_style": "warning",
       "description": "10",
       "layout": "IPY_MODEL_f97c294201b54222ba61666297c61c75",
       "style": "IPY_MODEL_b48fdce3071249fb8e653be2e77f7d07"
      }
     },
     "e5ca4187d8cd412683c79447c5774f67": {
      "model_module": "@jupyter-widgets/base",
      "model_module_version": "1.0.0",
      "model_name": "LayoutModel",
      "state": {
       "flex": "2 1 auto",
       "width": "auto"
      }
     },
     "e5d44bd1b7bc4f1c887e9faa4aece96c": {
      "model_module": "@jupyter-widgets/controls",
      "model_module_version": "1.1.0",
      "model_name": "ButtonStyleModel",
      "state": {}
     },
     "e5e0e37d2d5d401c858487478bf87531": {
      "model_module": "@jupyter-widgets/controls",
      "model_module_version": "1.1.0",
      "model_name": "VBoxModel",
      "state": {
       "children": [
        "IPY_MODEL_e2410422c0114408812c7322137e28ce",
        "IPY_MODEL_e9315d77e9c046e9bcd5305d5fcd68f5"
       ],
       "layout": "IPY_MODEL_45187f78492244acbdafbff605d128f1"
      }
     },
     "e654a8dc7afa4694b19190d5d40b9548": {
      "model_module": "@jupyter-widgets/controls",
      "model_module_version": "1.1.0",
      "model_name": "VBoxModel",
      "state": {
       "children": [
        "IPY_MODEL_dd7b78a21535461ab0233a445896e1a8",
        "IPY_MODEL_6f32d841632f49d5b2268fb667ef9b00"
       ],
       "layout": "IPY_MODEL_4625d8a4440b47b2ad95a84722e0de2c"
      }
     },
     "e66321df88c245ff9b3649f97678bbb8": {
      "model_module": "@jupyter-widgets/controls",
      "model_module_version": "1.1.0",
      "model_name": "ButtonStyleModel",
      "state": {}
     },
     "e664bdbb6a08479b8aef9b8e7a0579c3": {
      "model_module": "@jupyter-widgets/controls",
      "model_module_version": "1.1.0",
      "model_name": "ButtonModel",
      "state": {
       "description": "correct",
       "layout": "IPY_MODEL_1b5b88418a7543248fcaeb80778ea171",
       "style": "IPY_MODEL_5944c9fb8a58400f93ca111b886155d8"
      }
     },
     "e69dabcee9ed4fb8b27df6f847695bc4": {
      "model_module": "@jupyter-widgets/controls",
      "model_module_version": "1.1.0",
      "model_name": "ButtonStyleModel",
      "state": {}
     },
     "e6a3178e4f9a4805bb32677e04bc6bbf": {
      "model_module": "@jupyter-widgets/controls",
      "model_module_version": "1.1.0",
      "model_name": "SliderStyleModel",
      "state": {
       "description_width": ""
      }
     },
     "e6ed3472dd5342dd8174a7304fc48c19": {
      "model_module": "@jupyter-widgets/base",
      "model_module_version": "1.0.0",
      "model_name": "LayoutModel",
      "state": {
       "flex": "1 1 0%",
       "width": "auto"
      }
     },
     "e6f56a78a97d4d36aaba22bbe7ddcc65": {
      "model_module": "@jupyter-widgets/controls",
      "model_module_version": "1.1.0",
      "model_name": "ButtonStyleModel",
      "state": {}
     },
     "e73c4b594e154f709b73dd64b218c42e": {
      "model_module": "@jupyter-widgets/controls",
      "model_module_version": "1.1.0",
      "model_name": "ButtonModel",
      "state": {
       "description": "Custom color",
       "layout": "IPY_MODEL_0623f28438cf413d9a74c890263929ea",
       "style": "IPY_MODEL_014f723810b5437183be04792681830f"
      }
     },
     "e73dc4739bca4f58abe42c1e065691e6": {
      "model_module": "@jupyter-widgets/controls",
      "model_module_version": "1.1.0",
      "model_name": "ButtonStyleModel",
      "state": {}
     },
     "e758cc3d1d944ceca8369ac0ad2a67df": {
      "model_module": "@jupyter-widgets/controls",
      "model_module_version": "1.1.0",
      "model_name": "ButtonStyleModel",
      "state": {}
     },
     "e77af21d3f76480694434674087d51bf": {
      "model_module": "@jupyter-widgets/controls",
      "model_module_version": "1.1.0",
      "model_name": "ButtonModel",
      "state": {
       "button_style": "warning",
       "description": "12",
       "layout": "IPY_MODEL_86c93170059349499a5f76156cbd8cdf",
       "style": "IPY_MODEL_0495d268740a478fb417a9353429380e"
      }
     },
     "e7b33f4d7ae34adab3b48b2b4ac97435": {
      "model_module": "@jupyter-widgets/controls",
      "model_module_version": "1.1.0",
      "model_name": "ButtonModel",
      "state": {
       "button_style": "warning",
       "description": "19",
       "layout": "IPY_MODEL_4f96c205ba6c46e196e16241cfe4cf24",
       "style": "IPY_MODEL_66b8aee1f89a46209f0fe60449a8dc78"
      }
     },
     "e7d2c4ca90044377904eb8023744ddcc": {
      "model_module": "@jupyter-widgets/controls",
      "model_module_version": "1.1.0",
      "model_name": "BoxModel",
      "state": {
       "children": [
        "IPY_MODEL_6455057498514a0a8570678bab7f1f50",
        "IPY_MODEL_67363cef1dad46f2bf732f82603f00da",
        "IPY_MODEL_46f580b57b424fe496b17a3549dbe2dc"
       ],
       "layout": "IPY_MODEL_e39c40c6423e4c6c8082d5f898f0c4a1"
      }
     },
     "e7f19b67151b4abc926718524ff82523": {
      "model_module": "@jupyter-widgets/controls",
      "model_module_version": "1.1.0",
      "model_name": "ButtonStyleModel",
      "state": {}
     },
     "e807d441f73f467b81730d4ed4a5054a": {
      "model_module": "@jupyter-widgets/controls",
      "model_module_version": "1.1.0",
      "model_name": "ButtonStyleModel",
      "state": {}
     },
     "e80e053d16204fb39a56158cbc1294cc": {
      "model_module": "@jupyter-widgets/base",
      "model_module_version": "1.0.0",
      "model_name": "LayoutModel",
      "state": {
       "width": "auto"
      }
     },
     "e8256baba74e414f9829ea80a7cb4521": {
      "model_module": "@jupyter-widgets/controls",
      "model_module_version": "1.1.0",
      "model_name": "ButtonStyleModel",
      "state": {}
     },
     "e83c0240ab0d4332aa9fd3f58c147f48": {
      "model_module": "@jupyter-widgets/controls",
      "model_module_version": "1.1.0",
      "model_name": "ButtonStyleModel",
      "state": {}
     },
     "e84c5cd13fac4a658fa0950ad8d746ff": {
      "model_module": "@jupyter-widgets/controls",
      "model_module_version": "1.1.0",
      "model_name": "BoxModel",
      "state": {
       "children": [
        "IPY_MODEL_9aac256a03d14441a4d155bc1aad1fc5",
        "IPY_MODEL_709f789327bc456c97bd543d5399bcff",
        "IPY_MODEL_e078223be7034f02b412643378f797b1"
       ],
       "layout": "IPY_MODEL_e39c40c6423e4c6c8082d5f898f0c4a1"
      }
     },
     "e85134800e794418814e5c8c7e3f900d": {
      "model_module": "@jupyter-widgets/base",
      "model_module_version": "1.0.0",
      "model_name": "LayoutModel",
      "state": {}
     },
     "e869cf6de67b4020bde5a003eef7157b": {
      "model_module": "@jupyter-widgets/controls",
      "model_module_version": "1.1.0",
      "model_name": "ButtonStyleModel",
      "state": {}
     },
     "e897f7fe08e34d7486502d5c5ceecac7": {
      "model_module": "@jupyter-widgets/controls",
      "model_module_version": "1.1.0",
      "model_name": "HBoxModel",
      "state": {
       "children": [
        "IPY_MODEL_b075b178e5824efeaa817a3c8b35a47c",
        "IPY_MODEL_942797e11eb542cea46b4dbeb7d2c748"
       ],
       "layout": "IPY_MODEL_5fb993e839ca4c4fb445e8f37ced0df7"
      }
     },
     "e8a8584b16fb444bb48194ddb4eb9e4e": {
      "model_module": "@jupyter-widgets/controls",
      "model_module_version": "1.1.0",
      "model_name": "ButtonStyleModel",
      "state": {}
     },
     "e8a998539f2740fdb7fe6fd8aa47094e": {
      "model_module": "@jupyter-widgets/controls",
      "model_module_version": "1.1.0",
      "model_name": "ButtonModel",
      "state": {
       "button_style": "warning",
       "description": "38",
       "layout": "IPY_MODEL_9886a36bb356420e9e4d3c7cdd66e238",
       "style": "IPY_MODEL_534a982d33bd4eaa9bcf931603fbf8e3"
      }
     },
     "e8c889725b364915832885c6f5c1927f": {
      "model_module": "@jupyter-widgets/controls",
      "model_module_version": "1.1.0",
      "model_name": "ButtonModel",
      "state": {
       "button_style": "warning",
       "description": "17",
       "layout": "IPY_MODEL_5a006e2933db480cbe6187ccadf63fd7",
       "style": "IPY_MODEL_ac0b6b2e58744e0590e304165924def3"
      }
     },
     "e9119d1f778f4ec28d558b75d7c4ceea": {
      "model_module": "@jupyter-widgets/controls",
      "model_module_version": "1.1.0",
      "model_name": "VBoxModel",
      "state": {
       "children": [
        "IPY_MODEL_811748070c0042acb5911f21b8a756e5",
        "IPY_MODEL_21a197cfc9364644be0e9e907a2be236"
       ],
       "layout": "IPY_MODEL_ed65ea1c1b1a4144b4d19a9de07e2b72"
      }
     },
     "e918bede180e477eb5144273b290898d": {
      "model_module": "@jupyter-widgets/controls",
      "model_module_version": "1.1.0",
      "model_name": "ButtonStyleModel",
      "state": {
       "button_color": "lightgreen"
      }
     },
     "e9207ade9a2c4876bb3d50991d0d9662": {
      "model_module": "@jupyter-widgets/controls",
      "model_module_version": "1.1.0",
      "model_name": "ButtonModel",
      "state": {
       "button_style": "warning",
       "description": "31",
       "layout": "IPY_MODEL_5a006e2933db480cbe6187ccadf63fd7",
       "style": "IPY_MODEL_c9cfecb75a3042c5b3ff0beb78bb8351"
      }
     },
     "e9315d77e9c046e9bcd5305d5fcd68f5": {
      "model_module": "@jupyter-widgets/controls",
      "model_module_version": "1.1.0",
      "model_name": "ButtonModel",
      "state": {
       "description": "staple",
       "layout": "IPY_MODEL_33e3ea8dc8d04462b86cbf5d6a52813d",
       "style": "IPY_MODEL_310ed406907641baa639278762835d72"
      }
     },
     "e9357d0e0a3f49278997d7be2d59bfd0": {
      "model_module": "@jupyter-widgets/controls",
      "model_module_version": "1.1.0",
      "model_name": "ButtonModel",
      "state": {
       "button_style": "warning",
       "description": "32",
       "layout": "IPY_MODEL_1d10072127cb4a32968374fdb7bd2479",
       "style": "IPY_MODEL_9ab129776c9d43c6a916d31c636578ab"
      }
     },
     "e97288a6d58c4c96999ac775891f8048": {
      "model_module": "@jupyter-widgets/controls",
      "model_module_version": "1.1.0",
      "model_name": "ButtonStyleModel",
      "state": {}
     },
     "e97b5a0afdcd4da5acdea782e5f27e71": {
      "model_module": "@jupyter-widgets/controls",
      "model_module_version": "1.1.0",
      "model_name": "ButtonStyleModel",
      "state": {}
     },
     "e9930c22a93c414a99a9779f650ec59a": {
      "model_module": "@jupyter-widgets/controls",
      "model_module_version": "1.1.0",
      "model_name": "ButtonStyleModel",
      "state": {}
     },
     "e997a5c1a8024b049a33db6db964373d": {
      "model_module": "@jupyter-widgets/base",
      "model_module_version": "1.0.0",
      "model_name": "LayoutModel",
      "state": {
       "flex": "2 1 auto",
       "width": "auto"
      }
     },
     "e9b7e2b803114288beadeab27061c5b9": {
      "model_module": "@jupyter-widgets/controls",
      "model_module_version": "1.1.0",
      "model_name": "ButtonModel",
      "state": {
       "button_style": "warning",
       "description": "5",
       "layout": "IPY_MODEL_f97c294201b54222ba61666297c61c75",
       "style": "IPY_MODEL_adcfa2de893a460a8f7c9eda52bb25ba"
      }
     },
     "ea29e566694e46f78dc084f14dd904e7": {
      "model_module": "@jupyter-widgets/controls",
      "model_module_version": "1.1.0",
      "model_name": "ButtonStyleModel",
      "state": {}
     },
     "ea5109bd5bf84d18be80235d361a894e": {
      "model_module": "@jupyter-widgets/controls",
      "model_module_version": "1.1.0",
      "model_name": "ButtonStyleModel",
      "state": {}
     },
     "ea626cfbfc094f7b9fa2f6d104e2a12b": {
      "model_module": "@jupyter-widgets/controls",
      "model_module_version": "1.1.0",
      "model_name": "ButtonStyleModel",
      "state": {}
     },
     "ea91d78eb80b4cac9ae320f635b8f01e": {
      "model_module": "@jupyter-widgets/controls",
      "model_module_version": "1.1.0",
      "model_name": "ButtonModel",
      "state": {
       "button_style": "warning",
       "description": "25",
       "layout": "IPY_MODEL_9886a36bb356420e9e4d3c7cdd66e238",
       "style": "IPY_MODEL_0d6f370b8ed54cabbf9b37be67fb3288"
      }
     },
     "eb16a4d6d25e4e89bbbfb33d82d31fe1": {
      "model_module": "@jupyter-widgets/controls",
      "model_module_version": "1.1.0",
      "model_name": "ButtonStyleModel",
      "state": {}
     },
     "eb238fe5606b4018b1e5d64cde79998b": {
      "model_module": "@jupyter-widgets/controls",
      "model_module_version": "1.1.0",
      "model_name": "ButtonStyleModel",
      "state": {}
     },
     "eb2ab2120f324f3a8a8547ed527fcc67": {
      "model_module": "@jupyter-widgets/base",
      "model_module_version": "1.0.0",
      "model_name": "LayoutModel",
      "state": {}
     },
     "eb519ea549d74d80a53b7fde8954f646": {
      "model_module": "@jupyter-widgets/controls",
      "model_module_version": "1.1.0",
      "model_name": "ButtonStyleModel",
      "state": {}
     },
     "eb80509f7f924e6b9bdcf9bb1d645b24": {
      "model_module": "@jupyter-widgets/controls",
      "model_module_version": "1.1.0",
      "model_name": "ButtonStyleModel",
      "state": {}
     },
     "ebaa30952b5041009619ec0a128de98c": {
      "model_module": "@jupyter-widgets/controls",
      "model_module_version": "1.1.0",
      "model_name": "BoxModel",
      "state": {
       "children": [
        "IPY_MODEL_5708f6bb99bd414d9c1afdff63b566a2",
        "IPY_MODEL_9cf827fcbf2e400c9ecc9f63094375ca",
        "IPY_MODEL_4cb995bc24f04fd38d6c319fda91e34f"
       ],
       "layout": "IPY_MODEL_bb36a910c3624f46a5cf986bbeff7d8f"
      }
     },
     "ebb5144a41844603b6de8ba930b76226": {
      "model_module": "@jupyter-widgets/controls",
      "model_module_version": "1.1.0",
      "model_name": "ButtonModel",
      "state": {
       "button_style": "warning",
       "description": "39",
       "layout": "IPY_MODEL_4f96c205ba6c46e196e16241cfe4cf24",
       "style": "IPY_MODEL_57d3197dd87a4506b514613d4c265052"
      }
     },
     "ebc40f672aea497d9065292b1d317565": {
      "model_module": "@jupyter-widgets/controls",
      "model_module_version": "1.1.0",
      "model_name": "ButtonStyleModel",
      "state": {}
     },
     "ebda4fe8c4484d9fbbc2ddcc2a3f9a97": {
      "model_module": "@jupyter-widgets/controls",
      "model_module_version": "1.1.0",
      "model_name": "ButtonModel",
      "state": {
       "description": "weight=1, auto",
       "layout": "IPY_MODEL_86145ab078e149159953de75efaf8b9a",
       "style": "IPY_MODEL_f7d965f86e224e90b7edefe4971a9b02"
      }
     },
     "ec2fc48f4c1b4f47adcc5f3b0e1efc29": {
      "model_module": "@jupyter-widgets/controls",
      "model_module_version": "1.1.0",
      "model_name": "VBoxModel",
      "state": {
       "children": [
        "IPY_MODEL_108bb8ce088d4254bfee3ccc10190f14",
        "IPY_MODEL_64eec6386f7a42ac992de6d8ff992b13"
       ],
       "layout": "IPY_MODEL_62c87d55ccf84459b77a17e06c2d1719"
      }
     },
     "ec40cd611ffd437697bbc345df0a504c": {
      "model_module": "@jupyter-widgets/controls",
      "model_module_version": "1.1.0",
      "model_name": "DescriptionStyleModel",
      "state": {
       "description_width": ""
      }
     },
     "ec62bca979ac41b98e92acbce35fc79c": {
      "model_module": "@jupyter-widgets/controls",
      "model_module_version": "1.1.0",
      "model_name": "ButtonStyleModel",
      "state": {}
     },
     "ecbc0862cc8a453cb53a7da7081d1a8b": {
      "model_module": "@jupyter-widgets/controls",
      "model_module_version": "1.1.0",
      "model_name": "ButtonModel",
      "state": {
       "button_style": "warning",
       "description": "27",
       "layout": "IPY_MODEL_f97c294201b54222ba61666297c61c75",
       "style": "IPY_MODEL_1502f9c3292d4855a9b048f640ec9006"
      }
     },
     "ecfa356aee974997a882b107203fd036": {
      "model_module": "@jupyter-widgets/base",
      "model_module_version": "1.0.0",
      "model_name": "LayoutModel",
      "state": {}
     },
     "ed21397c67c54aec8b6c2c9d077f8ba8": {
      "model_module": "@jupyter-widgets/controls",
      "model_module_version": "1.1.0",
      "model_name": "ButtonModel",
      "state": {
       "button_style": "warning",
       "description": "36",
       "layout": "IPY_MODEL_1d10072127cb4a32968374fdb7bd2479",
       "style": "IPY_MODEL_7ae39135cf4e4462b6668ffc1a9772e3"
      }
     },
     "ed65ea1c1b1a4144b4d19a9de07e2b72": {
      "model_module": "@jupyter-widgets/base",
      "model_module_version": "1.0.0",
      "model_name": "LayoutModel",
      "state": {}
     },
     "ed7aafd95d624e41b4ea1259c4df0fe9": {
      "model_module": "@jupyter-widgets/controls",
      "model_module_version": "1.1.0",
      "model_name": "ButtonModel",
      "state": {
       "description": "correct",
       "layout": "IPY_MODEL_d91175e5716f4f2f8ec89f8021703c4d",
       "style": "IPY_MODEL_8fde0902d3b744ac9fafb7e7daa69a0c"
      }
     },
     "ed853953f7424c239a563eb0ca3e0ea7": {
      "model_module": "@jupyter-widgets/controls",
      "model_module_version": "1.1.0",
      "model_name": "ButtonModel",
      "state": {
       "description": "weight=1, __0%",
       "layout": "IPY_MODEL_635eb844a22e4b28803df7ba89c4035d",
       "style": "IPY_MODEL_ce3d4d4011874e2b81bc99eb3a0da670"
      }
     },
     "ed97b6d0c6fb41e4958fef6f2195ff47": {
      "model_module": "@jupyter-widgets/controls",
      "model_module_version": "1.1.0",
      "model_name": "ButtonStyleModel",
      "state": {}
     },
     "edaa3b0770784ac5ae3f5953cbe4395f": {
      "model_module": "@jupyter-widgets/controls",
      "model_module_version": "1.1.0",
      "model_name": "ButtonModel",
      "state": {
       "description": "weight=1",
       "layout": "IPY_MODEL_5d47575e167c4a56bf7a5e4aeab1e572",
       "style": "IPY_MODEL_0de70a0050d04470a19d885cf9e4d1a2"
      }
     },
     "edb7678b44bb44839371839b11ac42e3": {
      "model_module": "@jupyter-widgets/base",
      "model_module_version": "1.0.0",
      "model_name": "LayoutModel",
      "state": {
       "align_items": "stretch",
       "display": "flex",
       "flex_flow": "row",
       "width": "70%"
      }
     },
     "edbe2f1e386c47c4b8bf0a1f0e0509b3": {
      "model_module": "@jupyter-widgets/controls",
      "model_module_version": "1.1.0",
      "model_name": "ButtonModel",
      "state": {
       "button_style": "warning",
       "description": "9",
       "layout": "IPY_MODEL_1d10072127cb4a32968374fdb7bd2479",
       "style": "IPY_MODEL_973aa523fdab4ec0bb38cd7e75e5decb"
      }
     },
     "edfd2b14891b4cd3913e01e87ed86c4a": {
      "model_module": "@jupyter-widgets/controls",
      "model_module_version": "1.1.0",
      "model_name": "ButtonModel",
      "state": {
       "button_style": "warning",
       "description": "13",
       "layout": "IPY_MODEL_f97c294201b54222ba61666297c61c75",
       "style": "IPY_MODEL_a850b619f18b416ead8ff71385a12b2d"
      }
     },
     "ee03d7dd21d744e99608739211e9d9b5": {
      "model_module": "@jupyter-widgets/controls",
      "model_module_version": "1.1.0",
      "model_name": "ButtonStyleModel",
      "state": {}
     },
     "ee21e2b6c5474090929b7105e2dc42fd": {
      "model_module": "@jupyter-widgets/controls",
      "model_module_version": "1.1.0",
      "model_name": "ButtonModel",
      "state": {
       "button_style": "warning",
       "description": "18",
       "layout": "IPY_MODEL_9886a36bb356420e9e4d3c7cdd66e238",
       "style": "IPY_MODEL_297bea6edd7e414da68a690cfa52cd83"
      }
     },
     "ee2a933ff0d345d98c1255a2e703cf4f": {
      "model_module": "@jupyter-widgets/controls",
      "model_module_version": "1.1.0",
      "model_name": "ButtonModel",
      "state": {
       "button_style": "danger",
       "description": "staple",
       "layout": "IPY_MODEL_f36062d1658742dbab9032aaa90395e7",
       "style": "IPY_MODEL_c5fba2ce896841f7a41836bd9766daaa"
      }
     },
     "ee2fca61372d41d1be8d5e449f08ea52": {
      "model_module": "@jupyter-widgets/controls",
      "model_module_version": "1.1.0",
      "model_name": "ButtonStyleModel",
      "state": {}
     },
     "ee31189f7fbe4c3ab8574ca18db03231": {
      "model_module": "@jupyter-widgets/controls",
      "model_module_version": "1.1.0",
      "model_name": "ButtonStyleModel",
      "state": {}
     },
     "ee35a1c4b4124208b013ae94616b4f02": {
      "model_module": "@jupyter-widgets/controls",
      "model_module_version": "1.1.0",
      "model_name": "ButtonStyleModel",
      "state": {}
     },
     "ee494c6775f249cf816f069af6b0bfb5": {
      "model_module": "@jupyter-widgets/controls",
      "model_module_version": "1.1.0",
      "model_name": "ButtonStyleModel",
      "state": {}
     },
     "ee4ff732528240c6a1066dd00da7384b": {
      "model_module": "@jupyter-widgets/base",
      "model_module_version": "1.0.0",
      "model_name": "LayoutModel",
      "state": {}
     },
     "ee59aeb620914056a69fcbff3e9ed95d": {
      "model_module": "@jupyter-widgets/controls",
      "model_module_version": "1.1.0",
      "model_name": "BoxModel",
      "state": {
       "children": [
        "IPY_MODEL_bc8e6770c5fc4d3181b1f1e5df7c8b13",
        "IPY_MODEL_d4543517cb03425a8000157cb31b2a7d",
        "IPY_MODEL_59eb5ce652cc4f50b5cd9da20bb1974f"
       ],
       "layout": "IPY_MODEL_26de14cf89fb4a058ebbd27357adcf0a"
      }
     },
     "ee772e407d2349969dd0d8414ee5db08": {
      "model_module": "@jupyter-widgets/controls",
      "model_module_version": "1.1.0",
      "model_name": "LabelModel",
      "state": {
       "layout": "IPY_MODEL_6380fd72860d481c916e924acc94b622",
       "style": "IPY_MODEL_06b7e4b8ba5a4d78912b4933441f203a",
       "value": "A too long description"
      }
     },
     "eea7ce69080a487cb25b9fd18469fd3f": {
      "model_module": "@jupyter-widgets/base",
      "model_module_version": "1.0.0",
      "model_name": "LayoutModel",
      "state": {}
     },
     "eed7305309f74e40806d625568b3b0c6": {
      "model_module": "@jupyter-widgets/controls",
      "model_module_version": "1.1.0",
      "model_name": "ButtonModel",
      "state": {
       "button_style": "warning",
       "description": "9",
       "layout": "IPY_MODEL_f97c294201b54222ba61666297c61c75",
       "style": "IPY_MODEL_cccf482972fd48c384fe4733670934a4"
      }
     },
     "ef013b69d04e451eb52be7ae29cf5e09": {
      "model_module": "@jupyter-widgets/controls",
      "model_module_version": "1.1.0",
      "model_name": "ButtonStyleModel",
      "state": {}
     },
     "ef361712716f4f0b80f2b5993202fe83": {
      "model_module": "@jupyter-widgets/controls",
      "model_module_version": "1.1.0",
      "model_name": "ButtonStyleModel",
      "state": {}
     },
     "ef438f1cba994c5bbc293fe13b9cf1d7": {
      "model_module": "@jupyter-widgets/controls",
      "model_module_version": "1.1.0",
      "model_name": "ButtonModel",
      "state": {
       "button_style": "warning",
       "description": "30",
       "layout": "IPY_MODEL_6abcd37e41034b2ca8a2c4c4ba0dca11",
       "style": "IPY_MODEL_073cba390cdb48d68bbfb53e5ff05968"
      }
     },
     "ef80931153714672b19e688345c29c31": {
      "model_module": "@jupyter-widgets/controls",
      "model_module_version": "1.1.0",
      "model_name": "ButtonModel",
      "state": {
       "button_style": "warning",
       "description": "4",
       "layout": "IPY_MODEL_4f96c205ba6c46e196e16241cfe4cf24",
       "style": "IPY_MODEL_08d256d45eb64701b4e152ca2b947779"
      }
     },
     "ef91d2f6e73d4cb990f7b05f3226eeef": {
      "model_module": "@jupyter-widgets/base",
      "model_module_version": "1.0.0",
      "model_name": "LayoutModel",
      "state": {}
     },
     "efaeb1522f6f4d09ac5b18108e38e438": {
      "model_module": "@jupyter-widgets/controls",
      "model_module_version": "1.1.0",
      "model_name": "LabelModel",
      "state": {
       "layout": "IPY_MODEL_5485f6a5b84d4fbf9425c19995c82f97",
       "style": "IPY_MODEL_b04a460354e144d390998777d793d347",
       "value": "Age of the captain"
      }
     },
     "efb78f7738d84201b61b935d643e11f5": {
      "model_module": "@jupyter-widgets/controls",
      "model_module_version": "1.1.0",
      "model_name": "ButtonModel",
      "state": {
       "button_style": "warning",
       "description": "7",
       "layout": "IPY_MODEL_6abcd37e41034b2ca8a2c4c4ba0dca11",
       "style": "IPY_MODEL_0a535bf2f8b74c85aab2aea0e596bbe3"
      }
     },
     "efe6ac6f093848adb8711e770c37e705": {
      "model_module": "@jupyter-widgets/controls",
      "model_module_version": "1.1.0",
      "model_name": "ButtonStyleModel",
      "state": {}
     },
     "efe860b44bca4434bf235d9d75a17073": {
      "model_module": "@jupyter-widgets/controls",
      "model_module_version": "1.1.0",
      "model_name": "ButtonStyleModel",
      "state": {}
     },
     "f01a98bdc19b427282915660a996ca0d": {
      "model_module": "@jupyter-widgets/controls",
      "model_module_version": "1.1.0",
      "model_name": "DescriptionStyleModel",
      "state": {
       "description_width": ""
      }
     },
     "f028e5d9f13649ab99f2a4c9943c7790": {
      "model_module": "@jupyter-widgets/controls",
      "model_module_version": "1.1.0",
      "model_name": "BoxModel",
      "state": {
       "children": [
        "IPY_MODEL_8fa1e49d47e241059fca5b4266e78bd6",
        "IPY_MODEL_88d173de56c74d45b67188ce9f7cc11f"
       ],
       "layout": "IPY_MODEL_df42cf5042074ebeb5bb3b8015be3684"
      }
     },
     "f029aaf25d4c4c9db6977b32212ba38a": {
      "model_module": "@jupyter-widgets/controls",
      "model_module_version": "1.1.0",
      "model_name": "ButtonStyleModel",
      "state": {}
     },
     "f042998e30d44365b2feada2653d1878": {
      "model_module": "@jupyter-widgets/base",
      "model_module_version": "1.0.0",
      "model_name": "LayoutModel",
      "state": {
       "flex": "1 1 auto",
       "width": "auto"
      }
     },
     "f04f5d455c6844f9b072aefe3ed37b36": {
      "model_module": "@jupyter-widgets/base",
      "model_module_version": "1.0.0",
      "model_name": "LayoutModel",
      "state": {
       "flex": "2 1 auto",
       "width": "auto"
      }
     },
     "f053f96b74334d549a7542d7de120df7": {
      "model_module": "@jupyter-widgets/controls",
      "model_module_version": "1.1.0",
      "model_name": "ButtonStyleModel",
      "state": {}
     },
     "f06ee46ae09d473c917a8b55ba109976": {
      "model_module": "@jupyter-widgets/controls",
      "model_module_version": "1.1.0",
      "model_name": "ButtonModel",
      "state": {
       "button_style": "danger",
       "description": "weight=2, _0%",
       "layout": "IPY_MODEL_c771bd91dc5a49bbb160e4dfe4072565",
       "style": "IPY_MODEL_f6e2d3b46c3f488f97a177b6308511c6"
      }
     },
     "f071494750be42b7b7dc75f6eeaa72f6": {
      "model_module": "@jupyter-widgets/controls",
      "model_module_version": "1.1.0",
      "model_name": "ButtonModel",
      "state": {
       "button_style": "warning",
       "description": "0",
       "layout": "IPY_MODEL_0606cbc317604fbdbaea9d3fd0b2d14a",
       "style": "IPY_MODEL_961c983aa8624fa6a66cd88c7905e8fe"
      }
     },
     "f0851fa043b5460ba4418acfebafab79": {
      "model_module": "@jupyter-widgets/controls",
      "model_module_version": "1.1.0",
      "model_name": "ButtonModel",
      "state": {
       "layout": "IPY_MODEL_95f0f9a0452e4de2b20b7e0b63dc8781",
       "style": "IPY_MODEL_6585e15f31b0423f80c564b79b270ada"
      }
     },
     "f0b94bad9769430b8231942d5da75233": {
      "model_module": "@jupyter-widgets/controls",
      "model_module_version": "1.1.0",
      "model_name": "BoxModel",
      "state": {
       "children": [
        "IPY_MODEL_8621f54d7d004ad78beb9ac333e884e9",
        "IPY_MODEL_bc24aaa5ed3c42f2b6361da59bff5fa3",
        "IPY_MODEL_7ea6d673947b42c1b7be9b444765ad7e"
       ],
       "layout": "IPY_MODEL_9b339ca1d79946c583177528fb08dc0c"
      }
     },
     "f0c5d9a0160f48cda2556628c1a4171a": {
      "model_module": "@jupyter-widgets/controls",
      "model_module_version": "1.1.0",
      "model_name": "ButtonStyleModel",
      "state": {}
     },
     "f0c7629d901a43cd9d6a96380c03f7e5": {
      "model_module": "@jupyter-widgets/controls",
      "model_module_version": "1.1.0",
      "model_name": "ButtonStyleModel",
      "state": {}
     },
     "f14462339316411b973ea1c520418efe": {
      "model_module": "@jupyter-widgets/controls",
      "model_module_version": "1.1.0",
      "model_name": "ButtonStyleModel",
      "state": {}
     },
     "f14cb61f9f674993879d846812dfadb1": {
      "model_module": "@jupyter-widgets/base",
      "model_module_version": "1.0.0",
      "model_name": "LayoutModel",
      "state": {}
     },
     "f151b8e5486f40ea804d98b26f167336": {
      "model_module": "@jupyter-widgets/base",
      "model_module_version": "1.0.0",
      "model_name": "LayoutModel",
      "state": {
       "flex": "1 1 auto",
       "width": "auto"
      }
     },
     "f16528c6763648969048b081e6512640": {
      "model_module": "@jupyter-widgets/controls",
      "model_module_version": "1.1.0",
      "model_name": "ButtonStyleModel",
      "state": {}
     },
     "f17377771f7049e190a14b5c5eceb10d": {
      "model_module": "@jupyter-widgets/controls",
      "model_module_version": "1.1.0",
      "model_name": "ButtonStyleModel",
      "state": {}
     },
     "f1875b47e4d041199311292711c49338": {
      "model_module": "@jupyter-widgets/base",
      "model_module_version": "1.0.0",
      "model_name": "LayoutModel",
      "state": {}
     },
     "f19c9fe6e7554feb9b8e8ecba8db7daf": {
      "model_module": "@jupyter-widgets/base",
      "model_module_version": "1.0.0",
      "model_name": "LayoutModel",
      "state": {}
     },
     "f19df83f360f4ab5a8e768aaf5549ea3": {
      "model_module": "@jupyter-widgets/controls",
      "model_module_version": "1.1.0",
      "model_name": "ButtonStyleModel",
      "state": {}
     },
     "f1b31ace450d4d378427bfec58bcd7ac": {
      "model_module": "@jupyter-widgets/controls",
      "model_module_version": "1.1.0",
      "model_name": "ButtonStyleModel",
      "state": {}
     },
     "f1ea935c68574f75a7be4e1548c1065e": {
      "model_module": "@jupyter-widgets/controls",
      "model_module_version": "1.1.0",
      "model_name": "DescriptionStyleModel",
      "state": {
       "description_width": ""
      }
     },
     "f211ae83f92c4671a85bb9214ea5cea8": {
      "model_module": "@jupyter-widgets/controls",
      "model_module_version": "1.1.0",
      "model_name": "ButtonModel",
      "state": {
       "button_style": "warning",
       "description": "3",
       "layout": "IPY_MODEL_616560d2e26b4bee8b7c903f483241f8",
       "style": "IPY_MODEL_8d057a6c3c834da3ac14af37789e994b"
      }
     },
     "f2244c4aa510415399772c690586f1be": {
      "model_module": "@jupyter-widgets/controls",
      "model_module_version": "1.1.0",
      "model_name": "ButtonModel",
      "state": {
       "button_style": "warning",
       "description": "1",
       "layout": "IPY_MODEL_616560d2e26b4bee8b7c903f483241f8",
       "style": "IPY_MODEL_d93d15e3f1b24ab087bca04f7540616f"
      }
     },
     "f255fecf1a0d4116acc36d066cb71000": {
      "model_module": "@jupyter-widgets/controls",
      "model_module_version": "1.1.0",
      "model_name": "ButtonStyleModel",
      "state": {}
     },
     "f272223ce9534400bfa2254b389b3152": {
      "model_module": "@jupyter-widgets/controls",
      "model_module_version": "1.1.0",
      "model_name": "ButtonModel",
      "state": {
       "button_style": "warning",
       "description": "23",
       "layout": "IPY_MODEL_5f4383735711415596954c7bc1a5bfd1",
       "style": "IPY_MODEL_550c78ad464948c0ad2e7ff31a867979"
      }
     },
     "f2983c040c034b0a83150c0772f67ca8": {
      "model_module": "@jupyter-widgets/base",
      "model_module_version": "1.0.0",
      "model_name": "LayoutModel",
      "state": {
       "flex": "1 1 auto",
       "width": "auto"
      }
     },
     "f2b9e27744af4064a9238abe3dcd55da": {
      "model_module": "@jupyter-widgets/base",
      "model_module_version": "1.0.0",
      "model_name": "LayoutModel",
      "state": {
       "flex": "2 1 auto",
       "width": "auto"
      }
     },
     "f3302e6901de410d94f027e1f1807784": {
      "model_module": "@jupyter-widgets/controls",
      "model_module_version": "1.1.0",
      "model_name": "ButtonModel",
      "state": {
       "button_style": "warning",
       "description": "31",
       "layout": "IPY_MODEL_0606cbc317604fbdbaea9d3fd0b2d14a",
       "style": "IPY_MODEL_f46654e94e904f53b9716031dada910f"
      }
     },
     "f346280cb88c4f1e8bac29f041354cf0": {
      "model_module": "@jupyter-widgets/controls",
      "model_module_version": "1.1.0",
      "model_name": "ButtonModel",
      "state": {
       "button_style": "warning",
       "description": "21",
       "layout": "IPY_MODEL_5a006e2933db480cbe6187ccadf63fd7",
       "style": "IPY_MODEL_d004faf9c7c141eebb9cbc186df50e39"
      }
     },
     "f36062d1658742dbab9032aaa90395e7": {
      "model_module": "@jupyter-widgets/base",
      "model_module_version": "1.0.0",
      "model_name": "LayoutModel",
      "state": {
       "width": "auto"
      }
     },
     "f3654c91da73493ab542b694c89e0091": {
      "model_module": "@jupyter-widgets/controls",
      "model_module_version": "1.1.0",
      "model_name": "ButtonModel",
      "state": {
       "button_style": "warning",
       "description": "5",
       "layout": "IPY_MODEL_6abcd37e41034b2ca8a2c4c4ba0dca11",
       "style": "IPY_MODEL_665970b4386e45caa73c60be718c22c3"
      }
     },
     "f37b8c8dc72447418fdf4f8463238e9e": {
      "model_module": "@jupyter-widgets/controls",
      "model_module_version": "1.1.0",
      "model_name": "ButtonStyleModel",
      "state": {}
     },
     "f37eabbab2fa42c0b8b531bc0c595c5c": {
      "model_module": "@jupyter-widgets/controls",
      "model_module_version": "1.1.0",
      "model_name": "ButtonStyleModel",
      "state": {}
     },
     "f387a636d8ae4c519fdb74de086406f9": {
      "model_module": "@jupyter-widgets/controls",
      "model_module_version": "1.1.0",
      "model_name": "ButtonStyleModel",
      "state": {}
     },
     "f391b86609024ca9b1e4e6ff3cbbae93": {
      "model_module": "@jupyter-widgets/controls",
      "model_module_version": "1.1.0",
      "model_name": "ButtonModel",
      "state": {
       "description": "weight=1",
       "layout": "IPY_MODEL_15d5ef6f85b6482aa7d6644b0d5c0fdd",
       "style": "IPY_MODEL_6603eb25b4ff475e9ff2ac306a7decaf"
      }
     },
     "f3a2ed86978d4a31820f84434045766d": {
      "model_module": "@jupyter-widgets/base",
      "model_module_version": "1.0.0",
      "model_name": "LayoutModel",
      "state": {
       "align_items": "stretch",
       "display": "flex",
       "flex_flow": "row",
       "width": "70%"
      }
     },
     "f3a676438b984f99bc6d451c5e37393f": {
      "model_module": "@jupyter-widgets/controls",
      "model_module_version": "1.1.0",
      "model_name": "ButtonStyleModel",
      "state": {}
     },
     "f3ecaafed0d5464babb0568b68e7c148": {
      "model_module": "@jupyter-widgets/controls",
      "model_module_version": "1.1.0",
      "model_name": "ButtonModel",
      "state": {
       "description": "weight=1, _0%",
       "layout": "IPY_MODEL_be4515df246d4265ac3c61b12d06b658",
       "style": "IPY_MODEL_daabc578e74044e9bf3c4f42e804e2e0"
      }
     },
     "f3f7d012bc724c1593a580e340e0a6b1": {
      "model_module": "@jupyter-widgets/controls",
      "model_module_version": "1.1.0",
      "model_name": "ButtonStyleModel",
      "state": {}
     },
     "f3fb93e4c4b74bbe827f8a648f3c5ca1": {
      "model_module": "@jupyter-widgets/controls",
      "model_module_version": "1.1.0",
      "model_name": "ButtonStyleModel",
      "state": {}
     },
     "f3fc08e247f443cf9a9b0df3229d465e": {
      "model_module": "@jupyter-widgets/controls",
      "model_module_version": "1.1.0",
      "model_name": "ButtonStyleModel",
      "state": {}
     },
     "f46654e94e904f53b9716031dada910f": {
      "model_module": "@jupyter-widgets/controls",
      "model_module_version": "1.1.0",
      "model_name": "ButtonStyleModel",
      "state": {}
     },
     "f477d82837d64304820f1a4f74858ed6": {
      "model_module": "@jupyter-widgets/controls",
      "model_module_version": "1.1.0",
      "model_name": "ButtonStyleModel",
      "state": {}
     },
     "f4d734604fcb417ebf1cdd8406bb61e0": {
      "model_module": "@jupyter-widgets/controls",
      "model_module_version": "1.1.0",
      "model_name": "ButtonModel",
      "state": {
       "button_style": "warning",
       "description": "33",
       "layout": "IPY_MODEL_6abcd37e41034b2ca8a2c4c4ba0dca11",
       "style": "IPY_MODEL_2c6c20bb0c504d1db79b7ec11da4bff3"
      }
     },
     "f4de19e44df24e1dbb1087ba3aead169": {
      "model_module": "@jupyter-widgets/base",
      "model_module_version": "1.0.0",
      "model_name": "LayoutModel",
      "state": {
       "height": "80px",
       "width": "50%"
      }
     },
     "f521c0b16bcd4aa9b78ebf3c2465361b": {
      "model_module": "@jupyter-widgets/controls",
      "model_module_version": "1.1.0",
      "model_name": "ButtonModel",
      "state": {
       "button_style": "danger",
       "description": "correct",
       "layout": "IPY_MODEL_08a354fd401d4b17bccc675806c9a48b",
       "style": "IPY_MODEL_84e381619d404c5eb145a1c67ffc66a0"
      }
     },
     "f5459b59461a46308b2839ffc9cefda8": {
      "model_module": "@jupyter-widgets/controls",
      "model_module_version": "1.1.0",
      "model_name": "BoxModel",
      "state": {
       "children": [
        "IPY_MODEL_f5ed8bd5b1f348d892945e419c7de5a3",
        "IPY_MODEL_6d8e29f8b4d34096a3a5cf54f9aa11dc"
       ],
       "layout": "IPY_MODEL_df42cf5042074ebeb5bb3b8015be3684"
      }
     },
     "f59120dd19ce4bc3aa962c7d7e37acb1": {
      "model_module": "@jupyter-widgets/controls",
      "model_module_version": "1.1.0",
      "model_name": "ButtonStyleModel",
      "state": {}
     },
     "f59486b65db144289a8496f814c1efc5": {
      "model_module": "@jupyter-widgets/base",
      "model_module_version": "1.0.0",
      "model_name": "LayoutModel",
      "state": {}
     },
     "f599c7f9411c419cbec632eccecaa2d8": {
      "model_module": "@jupyter-widgets/controls",
      "model_module_version": "1.1.0",
      "model_name": "BoxModel",
      "state": {
       "children": [
        "IPY_MODEL_2331d8e0d80446cab4e459de1753d725",
        "IPY_MODEL_408c0990f51b4088965ec735547d9edf",
        "IPY_MODEL_bdc14834747f418eace27551f596f8f7"
       ],
       "layout": "IPY_MODEL_70de4703b5c74a9c89f719f68bb74fb7"
      }
     },
     "f5af1d1a7ab84c85ba70f3b4773c18f5": {
      "model_module": "@jupyter-widgets/controls",
      "model_module_version": "1.1.0",
      "model_name": "ButtonModel",
      "state": {
       "button_style": "warning",
       "description": "26",
       "layout": "IPY_MODEL_616560d2e26b4bee8b7c903f483241f8",
       "style": "IPY_MODEL_a56887cef4d14bf08f53ddb400ab92bf"
      }
     },
     "f5c47ae4aed44b35ab4966617d107ee2": {
      "model_module": "@jupyter-widgets/controls",
      "model_module_version": "1.1.0",
      "model_name": "ButtonStyleModel",
      "state": {}
     },
     "f5d63e4567e0429aab60e8489345d908": {
      "model_module": "@jupyter-widgets/controls",
      "model_module_version": "1.1.0",
      "model_name": "ButtonModel",
      "state": {
       "button_style": "warning",
       "description": "7",
       "layout": "IPY_MODEL_4f96c205ba6c46e196e16241cfe4cf24",
       "style": "IPY_MODEL_2b0a6cc5551d4e27be41d2f967d563ff"
      }
     },
     "f5ed8bd5b1f348d892945e419c7de5a3": {
      "model_module": "@jupyter-widgets/controls",
      "model_module_version": "1.1.0",
      "model_name": "LabelModel",
      "state": {
       "layout": "IPY_MODEL_0ead874e67d44643a236c949155a5368",
       "style": "IPY_MODEL_b99cb7d29769435d8dea0a6e1c0f8aef",
       "value": "Ship size"
      }
     },
     "f635bd3b224c4f18936c7b7df72219f0": {
      "model_module": "@jupyter-widgets/controls",
      "model_module_version": "1.1.0",
      "model_name": "ButtonStyleModel",
      "state": {}
     },
     "f64fab90c5f54b97b9ffb2eab564b040": {
      "model_module": "@jupyter-widgets/controls",
      "model_module_version": "1.1.0",
      "model_name": "ButtonStyleModel",
      "state": {}
     },
     "f65a7ac3607648be8f961590e0683f0b": {
      "model_module": "@jupyter-widgets/controls",
      "model_module_version": "1.1.0",
      "model_name": "ButtonModel",
      "state": {
       "button_style": "warning",
       "description": "9",
       "layout": "IPY_MODEL_616560d2e26b4bee8b7c903f483241f8",
       "style": "IPY_MODEL_e3400dfe8e934a9fb5e80b9db63ed5ab"
      }
     },
     "f65f88f022284a51ae2cd5b72ef681db": {
      "model_module": "@jupyter-widgets/base",
      "model_module_version": "1.0.0",
      "model_name": "LayoutModel",
      "state": {
       "flex": "3 1 0%",
       "width": "auto"
      }
     },
     "f6618cd0ebb24ec08d1af2afa1a0bb2c": {
      "model_module": "@jupyter-widgets/controls",
      "model_module_version": "1.1.0",
      "model_name": "ButtonModel",
      "state": {
       "button_style": "warning",
       "description": "25",
       "layout": "IPY_MODEL_5a006e2933db480cbe6187ccadf63fd7",
       "style": "IPY_MODEL_2801adc1bf7545059796e4dd99a09269"
      }
     },
     "f677c46122ed4c6e91a479299d2a922b": {
      "model_module": "@jupyter-widgets/base",
      "model_module_version": "1.0.0",
      "model_name": "LayoutModel",
      "state": {}
     },
     "f6880373676b4a959b02e337d2819eae": {
      "model_module": "@jupyter-widgets/controls",
      "model_module_version": "1.1.0",
      "model_name": "ButtonModel",
      "state": {
       "button_style": "warning",
       "description": "35",
       "layout": "IPY_MODEL_4f96c205ba6c46e196e16241cfe4cf24",
       "style": "IPY_MODEL_396d490671774a8997642dc10882b9d6"
      }
     },
     "f69ce886446b4f4497f23b082ebce1cc": {
      "model_module": "@jupyter-widgets/controls",
      "model_module_version": "1.1.0",
      "model_name": "ButtonModel",
      "state": {
       "button_style": "warning",
       "description": "30",
       "layout": "IPY_MODEL_5f4383735711415596954c7bc1a5bfd1",
       "style": "IPY_MODEL_0129b593ea8f40a5969ddfbbfbee32b4"
      }
     },
     "f6b30d21547d4fbf8e629b4f39976242": {
      "model_module": "@jupyter-widgets/controls",
      "model_module_version": "1.1.0",
      "model_name": "DescriptionStyleModel",
      "state": {
       "description_width": ""
      }
     },
     "f6bc97733fb0454a93858ccd75218405": {
      "model_module": "@jupyter-widgets/controls",
      "model_module_version": "1.1.0",
      "model_name": "ButtonModel",
      "state": {
       "description": "weight=2",
       "layout": "IPY_MODEL_48b80f01817c432daedf5417f9612424",
       "style": "IPY_MODEL_17877695fe4d4aa78455f58b7c73fa1e"
      }
     },
     "f6ca1f989ef6416ea22d35c2bb7c97a2": {
      "model_module": "@jupyter-widgets/controls",
      "model_module_version": "1.1.0",
      "model_name": "ButtonModel",
      "state": {
       "button_style": "danger",
       "description": "battery",
       "layout": "IPY_MODEL_c7338576bee04316bd2700f1c493a0f7",
       "style": "IPY_MODEL_5dc2386043a142b995e22172f41fbdc2"
      }
     },
     "f6d6962875c34a70906b93ebd256fe48": {
      "model_module": "@jupyter-widgets/controls",
      "model_module_version": "1.1.0",
      "model_name": "ButtonStyleModel",
      "state": {}
     },
     "f6e2d3b46c3f488f97a177b6308511c6": {
      "model_module": "@jupyter-widgets/controls",
      "model_module_version": "1.1.0",
      "model_name": "ButtonStyleModel",
      "state": {}
     },
     "f6f230253d784f468cd88c6b2a8a3ba3": {
      "model_module": "@jupyter-widgets/controls",
      "model_module_version": "1.1.0",
      "model_name": "ButtonModel",
      "state": {
       "button_style": "warning",
       "description": "20",
       "layout": "IPY_MODEL_5f4383735711415596954c7bc1a5bfd1",
       "style": "IPY_MODEL_beb05d6038b5491bb37b246e1e5cebd1"
      }
     },
     "f6f3684452384585aefc30ba9c17e1e4": {
      "model_module": "@jupyter-widgets/controls",
      "model_module_version": "1.1.0",
      "model_name": "ButtonModel",
      "state": {
       "description": "weight=1, _0%",
       "layout": "IPY_MODEL_6bc57eaf6e7e426f8d816ab0534bceb1",
       "style": "IPY_MODEL_44d310efa53e4f58bb22f5353809c064"
      }
     },
     "f71b006adb9c4bbcba615fff7c5440f0": {
      "model_module": "@jupyter-widgets/controls",
      "model_module_version": "1.1.0",
      "model_name": "ButtonModel",
      "state": {
       "description": "(50% width, 80px height) button",
       "layout": "IPY_MODEL_c35c7c9bdd8c41af9985c6003a083f96",
       "style": "IPY_MODEL_73b1a6163eba4f29af1172f2bc65afe7"
      }
     },
     "f75336303e61417d96550e20c1008ca7": {
      "model_module": "@jupyter-widgets/controls",
      "model_module_version": "1.1.0",
      "model_name": "ButtonStyleModel",
      "state": {}
     },
     "f75e657dd41041f594ab7eaa57ae78c8": {
      "model_module": "@jupyter-widgets/base",
      "model_module_version": "1.0.0",
      "model_name": "LayoutModel",
      "state": {
       "flex": "1 1 auto",
       "width": "auto"
      }
     },
     "f79ab8504cca44e297791fef4f73d832": {
      "model_module": "@jupyter-widgets/controls",
      "model_module_version": "1.1.0",
      "model_name": "ButtonModel",
      "state": {
       "button_style": "warning",
       "description": "22",
       "layout": "IPY_MODEL_86c93170059349499a5f76156cbd8cdf",
       "style": "IPY_MODEL_3245b9e93a9e411a950d348a7b1024ca"
      }
     },
     "f79b7ab5630e4514b4b76e9700d1c127": {
      "model_module": "@jupyter-widgets/controls",
      "model_module_version": "1.1.0",
      "model_name": "ButtonStyleModel",
      "state": {}
     },
     "f7a72320633547fd8bdece9fcffb4be9": {
      "model_module": "@jupyter-widgets/controls",
      "model_module_version": "1.1.0",
      "model_name": "ButtonModel",
      "state": {
       "button_style": "warning",
       "description": "0",
       "layout": "IPY_MODEL_616560d2e26b4bee8b7c903f483241f8",
       "style": "IPY_MODEL_f868d410b6c447d69a55313d116ea7eb"
      }
     },
     "f7a7526ce5d94d4cab8f25fc8cd90459": {
      "model_module": "@jupyter-widgets/controls",
      "model_module_version": "1.1.0",
      "model_name": "ButtonModel",
      "state": {
       "button_style": "warning",
       "description": "38",
       "layout": "IPY_MODEL_2609a17cced145ad91b86d4ddfbd3bfd",
       "style": "IPY_MODEL_c16a7d0bb84c46a6ac020d54bc027c1b"
      }
     },
     "f7ab7e35945647af94cf5d6891677f31": {
      "model_module": "@jupyter-widgets/controls",
      "model_module_version": "1.1.0",
      "model_name": "ButtonModel",
      "state": {
       "button_style": "warning",
       "description": "11",
       "layout": "IPY_MODEL_f97c294201b54222ba61666297c61c75",
       "style": "IPY_MODEL_11f0eaf53bf241f9a79ed2db8ac94011"
      }
     },
     "f7c78de217ba4d87a546f10e56d25822": {
      "model_module": "@jupyter-widgets/controls",
      "model_module_version": "1.1.0",
      "model_name": "ButtonModel",
      "state": {
       "description": "weight=2",
       "layout": "IPY_MODEL_b6afee0ba22848ebad3a1831c931c5af",
       "style": "IPY_MODEL_852889b600cb4f98990513e3000fe4c9"
      }
     },
     "f7d965f86e224e90b7edefe4971a9b02": {
      "model_module": "@jupyter-widgets/controls",
      "model_module_version": "1.1.0",
      "model_name": "ButtonStyleModel",
      "state": {}
     },
     "f7dba8c4f61e44dc9767228417496375": {
      "model_module": "@jupyter-widgets/controls",
      "model_module_version": "1.1.0",
      "model_name": "ButtonStyleModel",
      "state": {}
     },
     "f804b93605b841d68c7d7dde9fb05ac9": {
      "model_module": "@jupyter-widgets/base",
      "model_module_version": "1.0.0",
      "model_name": "LayoutModel",
      "state": {
       "align_items": "stretch",
       "border": "solid",
       "display": "flex",
       "flex_flow": "row",
       "width": "70%"
      }
     },
     "f868d410b6c447d69a55313d116ea7eb": {
      "model_module": "@jupyter-widgets/controls",
      "model_module_version": "1.1.0",
      "model_name": "ButtonStyleModel",
      "state": {}
     },
     "f88dee20c7b54c4a93b71787ec4d2e30": {
      "model_module": "@jupyter-widgets/controls",
      "model_module_version": "1.1.0",
      "model_name": "ButtonStyleModel",
      "state": {
       "button_color": "lightgreen"
      }
     },
     "f8bea1c4dd1a4f2ca827a68b32efe6dc": {
      "model_module": "@jupyter-widgets/base",
      "model_module_version": "1.0.0",
      "model_name": "LayoutModel",
      "state": {
       "flex": "1 1 0%",
       "width": "auto"
      }
     },
     "f8f00727b33d48cf9d5267fff244edda": {
      "model_module": "@jupyter-widgets/base",
      "model_module_version": "1.0.0",
      "model_name": "LayoutModel",
      "state": {}
     },
     "f91ccd62dc4c44c8ab7b1cbe34ef70bf": {
      "model_module": "@jupyter-widgets/base",
      "model_module_version": "1.0.0",
      "model_name": "LayoutModel",
      "state": {
       "align_items": "stretch",
       "border": "solid 2px",
       "display": "flex",
       "flex_flow": "column",
       "width": "50%"
      }
     },
     "f938991d4d634957b31563661942df7b": {
      "model_module": "@jupyter-widgets/controls",
      "model_module_version": "1.1.0",
      "model_name": "ButtonModel",
      "state": {
       "button_style": "warning",
       "description": "15",
       "layout": "IPY_MODEL_128139c1d2f94adbaaea71294ef22ff3",
       "style": "IPY_MODEL_9152b6be4de540298bd97da4eb1de2f3"
      }
     },
     "f976b7507eb84178b84b5866f49bf555": {
      "model_module": "@jupyter-widgets/controls",
      "model_module_version": "1.1.0",
      "model_name": "ButtonModel",
      "state": {
       "button_style": "warning",
       "description": "5",
       "layout": "IPY_MODEL_5f4383735711415596954c7bc1a5bfd1",
       "style": "IPY_MODEL_38499259a6354f53874dc3c04676cdc6"
      }
     },
     "f97c294201b54222ba61666297c61c75": {
      "model_module": "@jupyter-widgets/base",
      "model_module_version": "1.0.0",
      "model_name": "LayoutModel",
      "state": {
       "height": "100px",
       "min_width": "40px"
      }
     },
     "f9c380fe6a874393bf94fef8c9e0f29f": {
      "model_module": "@jupyter-widgets/controls",
      "model_module_version": "1.1.0",
      "model_name": "IntSliderModel",
      "state": {
       "description": "\\(\\int_0^t f\\)",
       "layout": "IPY_MODEL_4621728bbc9843c3aa679f0aa8739a78",
       "style": "IPY_MODEL_77a767a626034237afe5b1015264484e"
      }
     },
     "f9c6fac1215b43189b0672165fb8e435": {
      "model_module": "@jupyter-widgets/controls",
      "model_module_version": "1.1.0",
      "model_name": "ButtonModel",
      "state": {
       "button_style": "warning",
       "description": "29",
       "layout": "IPY_MODEL_616560d2e26b4bee8b7c903f483241f8",
       "style": "IPY_MODEL_1bde4c27018d4aeaae155d981299f4ec"
      }
     },
     "f9e39971504e4b94979b25d8ecf0a75a": {
      "model_module": "@jupyter-widgets/controls",
      "model_module_version": "1.1.0",
      "model_name": "ButtonStyleModel",
      "state": {}
     },
     "f9f87e72a8044a3da15179d04acc2b67": {
      "model_module": "@jupyter-widgets/controls",
      "model_module_version": "1.1.0",
      "model_name": "ButtonModel",
      "state": {
       "button_style": "warning",
       "description": "25",
       "layout": "IPY_MODEL_0606cbc317604fbdbaea9d3fd0b2d14a",
       "style": "IPY_MODEL_23193b744f9a4040b31fa44e668d58f3"
      }
     },
     "f9fc0b17afc84145a81fec94ff46caab": {
      "model_module": "@jupyter-widgets/controls",
      "model_module_version": "1.1.0",
      "model_name": "ButtonStyleModel",
      "state": {}
     },
     "fa02fcb2db5146a5af773d903f18b4ad": {
      "model_module": "@jupyter-widgets/controls",
      "model_module_version": "1.1.0",
      "model_name": "ButtonModel",
      "state": {
       "description": "staple",
       "layout": "IPY_MODEL_7c9b4f61b37447a4b2b97476eee19ba7",
       "style": "IPY_MODEL_5dd5e0817f4d4b4f8404ae47d4116eb1"
      }
     },
     "fa04addc3e10470fb11e18e76da2c2d6": {
      "model_module": "@jupyter-widgets/controls",
      "model_module_version": "1.1.0",
      "model_name": "ButtonModel",
      "state": {
       "button_style": "warning",
       "description": "1",
       "layout": "IPY_MODEL_5f4383735711415596954c7bc1a5bfd1",
       "style": "IPY_MODEL_0c22ba9a2f41416d84b9940a32078dd2"
      }
     },
     "fa331d9f9e9e48319f08ddfbfd304480": {
      "model_module": "@jupyter-widgets/base",
      "model_module_version": "1.0.0",
      "model_name": "LayoutModel",
      "state": {}
     },
     "fa430ad61c924be7b183313c3872bba4": {
      "model_module": "@jupyter-widgets/controls",
      "model_module_version": "1.1.0",
      "model_name": "ButtonModel",
      "state": {
       "button_style": "warning",
       "description": "39",
       "layout": "IPY_MODEL_5a006e2933db480cbe6187ccadf63fd7",
       "style": "IPY_MODEL_fd61961d94e04ccfa4c08abb8808fa76"
      }
     },
     "fa4b83655f854ac481b05c1380755b9e": {
      "model_module": "@jupyter-widgets/controls",
      "model_module_version": "1.1.0",
      "model_name": "ButtonStyleModel",
      "state": {}
     },
     "fa5d269befd54d458a204f1c8b93f3d2": {
      "model_module": "@jupyter-widgets/base",
      "model_module_version": "1.0.0",
      "model_name": "LayoutModel",
      "state": {
       "width": "auto"
      }
     },
     "fa68a3bfdc4049d39dece2c8e725a2e8": {
      "model_module": "@jupyter-widgets/base",
      "model_module_version": "1.0.0",
      "model_name": "LayoutModel",
      "state": {}
     },
     "faaffcad848e497db811913f42d07d02": {
      "model_module": "@jupyter-widgets/controls",
      "model_module_version": "1.1.0",
      "model_name": "DescriptionStyleModel",
      "state": {
       "description_width": ""
      }
     },
     "fab101d2499046de84204aa2d7d49d90": {
      "model_module": "@jupyter-widgets/controls",
      "model_module_version": "1.1.0",
      "model_name": "ButtonModel",
      "state": {
       "button_style": "danger",
       "description": "weight=2, auto",
       "layout": "IPY_MODEL_af498555a39d4210838c65718f35139d",
       "style": "IPY_MODEL_8dda91108e2e45d08f7136516ac3eceb"
      }
     },
     "fad4fe75df344e62a2b8052dd9410f04": {
      "model_module": "@jupyter-widgets/controls",
      "model_module_version": "1.1.0",
      "model_name": "ButtonStyleModel",
      "state": {}
     },
     "faed57b1141746abbad30c0e1f2169f5": {
      "model_module": "@jupyter-widgets/controls",
      "model_module_version": "1.1.0",
      "model_name": "ButtonModel",
      "state": {
       "button_style": "warning",
       "description": "7",
       "layout": "IPY_MODEL_f97c294201b54222ba61666297c61c75",
       "style": "IPY_MODEL_63aace56c67042e0a2f2f944d40e544b"
      }
     },
     "fafcf24ab6554f218c36ec0073cae5ca": {
      "model_module": "@jupyter-widgets/controls",
      "model_module_version": "1.1.0",
      "model_name": "ButtonModel",
      "state": {
       "button_style": "warning",
       "description": "12",
       "layout": "IPY_MODEL_2609a17cced145ad91b86d4ddfbd3bfd",
       "style": "IPY_MODEL_70f4fd148fae4de6ad97754662ce8e4f"
      }
     },
     "fb20dbd8e69648f586cc138ef22fbe3b": {
      "model_module": "@jupyter-widgets/base",
      "model_module_version": "1.0.0",
      "model_name": "LayoutModel",
      "state": {
       "border": "3px solid black",
       "display": "flex",
       "flex_flow": "row",
       "height": "",
       "overflow_x": "scroll",
       "width": "500px"
      }
     },
     "fb74280ca63843f5bb3aac9d06dfa625": {
      "model_module": "@jupyter-widgets/controls",
      "model_module_version": "1.1.0",
      "model_name": "BoxModel",
      "state": {
       "children": [
        "IPY_MODEL_23f96ef0d33e4def83c6e8aac5810854",
        "IPY_MODEL_3cdcccc5301a48db9bd3a75fab5d58ca"
       ],
       "layout": "IPY_MODEL_e32e1ba49d54431a8b33e2de4ff14642"
      }
     },
     "fb7b589291b844028553e3bddf183f4f": {
      "model_module": "@jupyter-widgets/controls",
      "model_module_version": "1.1.0",
      "model_name": "ButtonModel",
      "state": {
       "button_style": "warning",
       "description": "33",
       "layout": "IPY_MODEL_4f96c205ba6c46e196e16241cfe4cf24",
       "style": "IPY_MODEL_9c7aecbd9e0441548a333156289b8492"
      }
     },
     "fba4890b9ade407bb2345f40e1f2b316": {
      "model_module": "@jupyter-widgets/controls",
      "model_module_version": "1.1.0",
      "model_name": "ButtonStyleModel",
      "state": {}
     },
     "fbb2eec6e5174dda9c84e863cebda842": {
      "model_module": "@jupyter-widgets/controls",
      "model_module_version": "1.1.0",
      "model_name": "ButtonStyleModel",
      "state": {}
     },
     "fbd28ebc2bce41a99a105ae7cc9fafe6": {
      "model_module": "@jupyter-widgets/controls",
      "model_module_version": "1.1.0",
      "model_name": "SliderStyleModel",
      "state": {
       "description_width": ""
      }
     },
     "fbf0a7d5bd25417a8fba32fd27c74585": {
      "model_module": "@jupyter-widgets/controls",
      "model_module_version": "1.1.0",
      "model_name": "ButtonModel",
      "state": {
       "description": "weight=2, __0%",
       "layout": "IPY_MODEL_7011636756554dc6a84fb83e4ea3d143",
       "style": "IPY_MODEL_bb3b5f4744c24c079f4181ef7ff28e4b"
      }
     },
     "fbfb2dfdd79b469d9f29b5031c3c404c": {
      "model_module": "@jupyter-widgets/controls",
      "model_module_version": "1.1.0",
      "model_name": "DescriptionStyleModel",
      "state": {
       "description_width": ""
      }
     },
     "fc4e9f6c343d41cb835b3598f9c971ba": {
      "model_module": "@jupyter-widgets/base",
      "model_module_version": "1.0.0",
      "model_name": "LayoutModel",
      "state": {
       "flex": "1 1 auto",
       "width": "auto"
      }
     },
     "fc579bc2ba3049b2b4ca03e66c1d5069": {
      "model_module": "@jupyter-widgets/controls",
      "model_module_version": "1.1.0",
      "model_name": "ButtonModel",
      "state": {
       "button_style": "warning",
       "description": "38",
       "layout": "IPY_MODEL_0606cbc317604fbdbaea9d3fd0b2d14a",
       "style": "IPY_MODEL_3f98d12ec24f4535ae7487807f65cbf5"
      }
     },
     "fc61037c570c43aebac512c281e45dfc": {
      "model_module": "@jupyter-widgets/controls",
      "model_module_version": "1.1.0",
      "model_name": "ButtonStyleModel",
      "state": {}
     },
     "fc77ce3cd6e342e2b28131ff8f6a3d2d": {
      "model_module": "@jupyter-widgets/controls",
      "model_module_version": "1.1.0",
      "model_name": "ButtonStyleModel",
      "state": {}
     },
     "fcea427df39b410e88b45273dbc8d1b0": {
      "model_module": "@jupyter-widgets/base",
      "model_module_version": "1.0.0",
      "model_name": "LayoutModel",
      "state": {}
     },
     "fcebdcbd09f140ff89a51464d9fc1d35": {
      "model_module": "@jupyter-widgets/base",
      "model_module_version": "1.0.0",
      "model_name": "LayoutModel",
      "state": {
       "flex": "3 1 0%",
       "width": "auto"
      }
     },
     "fd048a79b8c041abbdb3465b31e27a7f": {
      "model_module": "@jupyter-widgets/controls",
      "model_module_version": "1.1.0",
      "model_name": "ButtonModel",
      "state": {
       "button_style": "warning",
       "description": "4",
       "layout": "IPY_MODEL_128139c1d2f94adbaaea71294ef22ff3",
       "style": "IPY_MODEL_1343878c3d1747b98a7fd29625d64fd0"
      }
     },
     "fd37f2a79ede4cda8f19cc048e17c711": {
      "model_module": "@jupyter-widgets/controls",
      "model_module_version": "1.1.0",
      "model_name": "ButtonModel",
      "state": {
       "button_style": "danger",
       "description": "weight=2, auto",
       "layout": "IPY_MODEL_5ee62ea7f8de4d5db01875d2fac44192",
       "style": "IPY_MODEL_f1b31ace450d4d378427bfec58bcd7ac"
      }
     },
     "fd61961d94e04ccfa4c08abb8808fa76": {
      "model_module": "@jupyter-widgets/controls",
      "model_module_version": "1.1.0",
      "model_name": "ButtonStyleModel",
      "state": {}
     },
     "fd8734d39f21415c8acbee093af0f419": {
      "model_module": "@jupyter-widgets/controls",
      "model_module_version": "1.1.0",
      "model_name": "ButtonStyleModel",
      "state": {}
     },
     "fd890a42cff5404cac76a215e8ffdd59": {
      "model_module": "@jupyter-widgets/controls",
      "model_module_version": "1.1.0",
      "model_name": "ButtonModel",
      "state": {
       "button_style": "warning",
       "description": "20",
       "layout": "IPY_MODEL_128139c1d2f94adbaaea71294ef22ff3",
       "style": "IPY_MODEL_d250bd0020c849199e36e36bfe03048a"
      }
     },
     "fdc80c3fb62644f1bfc5df600656ff5d": {
      "model_module": "@jupyter-widgets/controls",
      "model_module_version": "1.1.0",
      "model_name": "ButtonStyleModel",
      "state": {}
     },
     "fe114d8bb26f4306b304892f642987de": {
      "model_module": "@jupyter-widgets/controls",
      "model_module_version": "1.1.0",
      "model_name": "ButtonModel",
      "state": {
       "button_style": "warning",
       "description": "15",
       "layout": "IPY_MODEL_1d10072127cb4a32968374fdb7bd2479",
       "style": "IPY_MODEL_20b92a5e570f4f64b43b9ed7bf18481b"
      }
     },
     "fe424223880f48e0b5196c8a4ee750f1": {
      "model_module": "@jupyter-widgets/controls",
      "model_module_version": "1.1.0",
      "model_name": "ButtonStyleModel",
      "state": {}
     },
     "fe5df9ccff5d496e914e9074d7640b46": {
      "model_module": "@jupyter-widgets/base",
      "model_module_version": "1.0.0",
      "model_name": "LayoutModel",
      "state": {}
     },
     "febfc1d66e4e445284879a52f66a07bd": {
      "model_module": "@jupyter-widgets/controls",
      "model_module_version": "1.1.0",
      "model_name": "SliderStyleModel",
      "state": {
       "description_width": ""
      }
     },
     "fee8f5a5c02b4b9aa421a97fd7d9073b": {
      "model_module": "@jupyter-widgets/controls",
      "model_module_version": "1.1.0",
      "model_name": "VBoxModel",
      "state": {
       "children": [
        "IPY_MODEL_ebaa30952b5041009619ec0a128de98c",
        "IPY_MODEL_0964108645bf43b3bfe0ccee67c30b43"
       ],
       "layout": "IPY_MODEL_55ab2c34190e46acb26c098cc72b8445"
      }
     },
     "fefbd7e119b04c1f9fb5290a98070844": {
      "model_module": "@jupyter-widgets/controls",
      "model_module_version": "1.1.0",
      "model_name": "ButtonModel",
      "state": {
       "description": "battery",
       "layout": "IPY_MODEL_f8f00727b33d48cf9d5267fff244edda",
       "style": "IPY_MODEL_dec63361c3dc4fa09a311641f419264e"
      }
     },
     "ff0ad93f610c4084bf6b9e387cedad6a": {
      "model_module": "@jupyter-widgets/controls",
      "model_module_version": "1.1.0",
      "model_name": "BoxModel",
      "state": {
       "children": [
        "IPY_MODEL_6cdad80a8b7341a0bd2d9b3fb3a8ae71",
        "IPY_MODEL_41cc316a3db748d187d4c04159edba68",
        "IPY_MODEL_dd57c989528a4f6fb244cf4f804c699a"
       ],
       "layout": "IPY_MODEL_16d92db431fc44e2b1dbffb12a8919e0"
      }
     },
     "ff4a59943615409dbf27cc8030e16632": {
      "model_module": "@jupyter-widgets/controls",
      "model_module_version": "1.1.0",
      "model_name": "ButtonModel",
      "state": {
       "button_style": "warning",
       "description": "19",
       "layout": "IPY_MODEL_2609a17cced145ad91b86d4ddfbd3bfd",
       "style": "IPY_MODEL_254c35ab985e4f79bc0283589ef4061b"
      }
     },
     "ff7638ffa0d14cc090ad64c092d13d28": {
      "model_module": "@jupyter-widgets/controls",
      "model_module_version": "1.1.0",
      "model_name": "BoxModel",
      "state": {
       "children": [
        "IPY_MODEL_8177ee81d56c4e8a9d5db55c760f40ea",
        "IPY_MODEL_f06ee46ae09d473c917a8b55ba109976",
        "IPY_MODEL_4c2d669971824770964897023391a387"
       ],
       "layout": "IPY_MODEL_16d92db431fc44e2b1dbffb12a8919e0"
      }
     },
     "ff81642f1d5a4db7b53dcbbebf5f6104": {
      "model_module": "@jupyter-widgets/base",
      "model_module_version": "1.0.0",
      "model_name": "LayoutModel",
      "state": {
       "flex": "3 1 auto",
       "width": "auto"
      }
     },
     "ff83abaf008e428cb7ea0ebc26e3b22a": {
      "model_module": "@jupyter-widgets/controls",
      "model_module_version": "1.1.0",
      "model_name": "LabelModel",
      "state": {
       "layout": "IPY_MODEL_3692fd149d7b4b7993f4215dc144b7d4",
       "style": "IPY_MODEL_0e5afcffed4e47e18d97bd2dc561877f",
       "value": "Ship size"
      }
     },
     "ffcafdc8c2ba475c8652ab4830cd8c27": {
      "model_module": "@jupyter-widgets/controls",
      "model_module_version": "1.1.0",
      "model_name": "ButtonModel",
      "state": {
       "button_style": "warning",
       "description": "21",
       "layout": "IPY_MODEL_4f96c205ba6c46e196e16241cfe4cf24",
       "style": "IPY_MODEL_593b372e717a447a8771db665706d49b"
      }
     },
     "ffd58091e6ce4038ac7f1ad53beb32a5": {
      "model_module": "@jupyter-widgets/controls",
      "model_module_version": "1.1.0",
      "model_name": "ButtonModel",
      "state": {
       "button_style": "warning",
       "description": "27",
       "layout": "IPY_MODEL_5a006e2933db480cbe6187ccadf63fd7",
       "style": "IPY_MODEL_92253f970a5044c2b165331e43d57e79"
      }
     },
     "fff6803d5150478da66f80906ff01338": {
      "model_module": "@jupyter-widgets/base",
      "model_module_version": "1.0.0",
      "model_name": "LayoutModel",
      "state": {}
     },
     "fffda4df507e442195619bd4c2a3fbac": {
      "model_module": "@jupyter-widgets/base",
      "model_module_version": "1.0.0",
      "model_name": "LayoutModel",
      "state": {
       "flex": "2 1 0%",
       "width": "auto"
      }
     }
    },
    "version_major": 2,
    "version_minor": 0
   }
  }
 },
 "nbformat": 4,
 "nbformat_minor": 1
}
